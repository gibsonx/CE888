{
  "nbformat": 4,
  "nbformat_minor": 0,
  "metadata": {
    "colab": {
      "name": "Assignment_2.ipynb",
      "provenance": [],
      "collapsed_sections": [],
      "toc_visible": true,
      "machine_shape": "hm",
      "include_colab_link": true
    },
    "kernelspec": {
      "name": "python3",
      "display_name": "Python 3"
    },
    "accelerator": "GPU",
    "widgets": {
      "application/vnd.jupyter.widget-state+json": {
        "12444822df8d4c849c6f6e5ae614cf1c": {
          "model_module": "@jupyter-widgets/controls",
          "model_name": "HBoxModel",
          "state": {
            "_view_name": "HBoxView",
            "_dom_classes": [],
            "_model_name": "HBoxModel",
            "_view_module": "@jupyter-widgets/controls",
            "_model_module_version": "1.5.0",
            "_view_count": null,
            "_view_module_version": "1.5.0",
            "box_style": "",
            "layout": "IPY_MODEL_ae03da1328ca4d9891f90b63d1320201",
            "_model_module": "@jupyter-widgets/controls",
            "children": [
              "IPY_MODEL_a6c1248a5d3c46fc8028c2e060d156a9",
              "IPY_MODEL_bcc70cba0da746ce89f3879747f609bd"
            ]
          }
        },
        "ae03da1328ca4d9891f90b63d1320201": {
          "model_module": "@jupyter-widgets/base",
          "model_name": "LayoutModel",
          "state": {
            "_view_name": "LayoutView",
            "grid_template_rows": null,
            "right": null,
            "justify_content": null,
            "_view_module": "@jupyter-widgets/base",
            "overflow": null,
            "_model_module_version": "1.2.0",
            "_view_count": null,
            "flex_flow": null,
            "width": null,
            "min_width": null,
            "border": null,
            "align_items": null,
            "bottom": null,
            "_model_module": "@jupyter-widgets/base",
            "top": null,
            "grid_column": null,
            "overflow_y": null,
            "overflow_x": null,
            "grid_auto_flow": null,
            "grid_area": null,
            "grid_template_columns": null,
            "flex": null,
            "_model_name": "LayoutModel",
            "justify_items": null,
            "grid_row": null,
            "max_height": null,
            "align_content": null,
            "visibility": null,
            "align_self": null,
            "height": null,
            "min_height": null,
            "padding": null,
            "grid_auto_rows": null,
            "grid_gap": null,
            "max_width": null,
            "order": null,
            "_view_module_version": "1.2.0",
            "grid_template_areas": null,
            "object_position": null,
            "object_fit": null,
            "grid_auto_columns": null,
            "margin": null,
            "display": null,
            "left": null
          }
        },
        "a6c1248a5d3c46fc8028c2e060d156a9": {
          "model_module": "@jupyter-widgets/controls",
          "model_name": "FloatProgressModel",
          "state": {
            "_view_name": "ProgressView",
            "style": "IPY_MODEL_d060b3f588ec4bcb98023cbafd746885",
            "_dom_classes": [],
            "description": "Downloading: 100%",
            "_model_name": "FloatProgressModel",
            "bar_style": "success",
            "max": 798011,
            "_view_module": "@jupyter-widgets/controls",
            "_model_module_version": "1.5.0",
            "value": 798011,
            "_view_count": null,
            "_view_module_version": "1.5.0",
            "orientation": "horizontal",
            "min": 0,
            "description_tooltip": null,
            "_model_module": "@jupyter-widgets/controls",
            "layout": "IPY_MODEL_26aa67a70d2342459b2743c093fb7506"
          }
        },
        "bcc70cba0da746ce89f3879747f609bd": {
          "model_module": "@jupyter-widgets/controls",
          "model_name": "HTMLModel",
          "state": {
            "_view_name": "HTMLView",
            "style": "IPY_MODEL_4ba091d632974bdd8b42c78085b92fc9",
            "_dom_classes": [],
            "description": "",
            "_model_name": "HTMLModel",
            "placeholder": "​",
            "_view_module": "@jupyter-widgets/controls",
            "_model_module_version": "1.5.0",
            "value": " 798k/798k [00:03&lt;00:00, 242kB/s]",
            "_view_count": null,
            "_view_module_version": "1.5.0",
            "description_tooltip": null,
            "_model_module": "@jupyter-widgets/controls",
            "layout": "IPY_MODEL_72d4b555d4554ecf81ad3235cf23f8d1"
          }
        },
        "d060b3f588ec4bcb98023cbafd746885": {
          "model_module": "@jupyter-widgets/controls",
          "model_name": "ProgressStyleModel",
          "state": {
            "_view_name": "StyleView",
            "_model_name": "ProgressStyleModel",
            "description_width": "initial",
            "_view_module": "@jupyter-widgets/base",
            "_model_module_version": "1.5.0",
            "_view_count": null,
            "_view_module_version": "1.2.0",
            "bar_color": null,
            "_model_module": "@jupyter-widgets/controls"
          }
        },
        "26aa67a70d2342459b2743c093fb7506": {
          "model_module": "@jupyter-widgets/base",
          "model_name": "LayoutModel",
          "state": {
            "_view_name": "LayoutView",
            "grid_template_rows": null,
            "right": null,
            "justify_content": null,
            "_view_module": "@jupyter-widgets/base",
            "overflow": null,
            "_model_module_version": "1.2.0",
            "_view_count": null,
            "flex_flow": null,
            "width": null,
            "min_width": null,
            "border": null,
            "align_items": null,
            "bottom": null,
            "_model_module": "@jupyter-widgets/base",
            "top": null,
            "grid_column": null,
            "overflow_y": null,
            "overflow_x": null,
            "grid_auto_flow": null,
            "grid_area": null,
            "grid_template_columns": null,
            "flex": null,
            "_model_name": "LayoutModel",
            "justify_items": null,
            "grid_row": null,
            "max_height": null,
            "align_content": null,
            "visibility": null,
            "align_self": null,
            "height": null,
            "min_height": null,
            "padding": null,
            "grid_auto_rows": null,
            "grid_gap": null,
            "max_width": null,
            "order": null,
            "_view_module_version": "1.2.0",
            "grid_template_areas": null,
            "object_position": null,
            "object_fit": null,
            "grid_auto_columns": null,
            "margin": null,
            "display": null,
            "left": null
          }
        },
        "4ba091d632974bdd8b42c78085b92fc9": {
          "model_module": "@jupyter-widgets/controls",
          "model_name": "DescriptionStyleModel",
          "state": {
            "_view_name": "StyleView",
            "_model_name": "DescriptionStyleModel",
            "description_width": "",
            "_view_module": "@jupyter-widgets/base",
            "_model_module_version": "1.5.0",
            "_view_count": null,
            "_view_module_version": "1.2.0",
            "_model_module": "@jupyter-widgets/controls"
          }
        },
        "72d4b555d4554ecf81ad3235cf23f8d1": {
          "model_module": "@jupyter-widgets/base",
          "model_name": "LayoutModel",
          "state": {
            "_view_name": "LayoutView",
            "grid_template_rows": null,
            "right": null,
            "justify_content": null,
            "_view_module": "@jupyter-widgets/base",
            "overflow": null,
            "_model_module_version": "1.2.0",
            "_view_count": null,
            "flex_flow": null,
            "width": null,
            "min_width": null,
            "border": null,
            "align_items": null,
            "bottom": null,
            "_model_module": "@jupyter-widgets/base",
            "top": null,
            "grid_column": null,
            "overflow_y": null,
            "overflow_x": null,
            "grid_auto_flow": null,
            "grid_area": null,
            "grid_template_columns": null,
            "flex": null,
            "_model_name": "LayoutModel",
            "justify_items": null,
            "grid_row": null,
            "max_height": null,
            "align_content": null,
            "visibility": null,
            "align_self": null,
            "height": null,
            "min_height": null,
            "padding": null,
            "grid_auto_rows": null,
            "grid_gap": null,
            "max_width": null,
            "order": null,
            "_view_module_version": "1.2.0",
            "grid_template_areas": null,
            "object_position": null,
            "object_fit": null,
            "grid_auto_columns": null,
            "margin": null,
            "display": null,
            "left": null
          }
        },
        "7f633ffe27c4423f8b21d9bbb29f1de8": {
          "model_module": "@jupyter-widgets/controls",
          "model_name": "HBoxModel",
          "state": {
            "_view_name": "HBoxView",
            "_dom_classes": [],
            "_model_name": "HBoxModel",
            "_view_module": "@jupyter-widgets/controls",
            "_model_module_version": "1.5.0",
            "_view_count": null,
            "_view_module_version": "1.5.0",
            "box_style": "",
            "layout": "IPY_MODEL_68549d121f784f78a1aa5d159532f869",
            "_model_module": "@jupyter-widgets/controls",
            "children": [
              "IPY_MODEL_0b2d5f0b54b946759c2c99bfdfe03846",
              "IPY_MODEL_29d5295e702c4e769f888bb03fb47a36"
            ]
          }
        },
        "68549d121f784f78a1aa5d159532f869": {
          "model_module": "@jupyter-widgets/base",
          "model_name": "LayoutModel",
          "state": {
            "_view_name": "LayoutView",
            "grid_template_rows": null,
            "right": null,
            "justify_content": null,
            "_view_module": "@jupyter-widgets/base",
            "overflow": null,
            "_model_module_version": "1.2.0",
            "_view_count": null,
            "flex_flow": null,
            "width": null,
            "min_width": null,
            "border": null,
            "align_items": null,
            "bottom": null,
            "_model_module": "@jupyter-widgets/base",
            "top": null,
            "grid_column": null,
            "overflow_y": null,
            "overflow_x": null,
            "grid_auto_flow": null,
            "grid_area": null,
            "grid_template_columns": null,
            "flex": null,
            "_model_name": "LayoutModel",
            "justify_items": null,
            "grid_row": null,
            "max_height": null,
            "align_content": null,
            "visibility": null,
            "align_self": null,
            "height": null,
            "min_height": null,
            "padding": null,
            "grid_auto_rows": null,
            "grid_gap": null,
            "max_width": null,
            "order": null,
            "_view_module_version": "1.2.0",
            "grid_template_areas": null,
            "object_position": null,
            "object_fit": null,
            "grid_auto_columns": null,
            "margin": null,
            "display": null,
            "left": null
          }
        },
        "0b2d5f0b54b946759c2c99bfdfe03846": {
          "model_module": "@jupyter-widgets/controls",
          "model_name": "FloatProgressModel",
          "state": {
            "_view_name": "ProgressView",
            "style": "IPY_MODEL_34325f990e534632804c322d5665983d",
            "_dom_classes": [],
            "description": "Downloading: 100%",
            "_model_name": "FloatProgressModel",
            "bar_style": "success",
            "max": 1382015,
            "_view_module": "@jupyter-widgets/controls",
            "_model_module_version": "1.5.0",
            "value": 1382015,
            "_view_count": null,
            "_view_module_version": "1.5.0",
            "orientation": "horizontal",
            "min": 0,
            "description_tooltip": null,
            "_model_module": "@jupyter-widgets/controls",
            "layout": "IPY_MODEL_a9ef2b9e060448849c36cc22fe214603"
          }
        },
        "29d5295e702c4e769f888bb03fb47a36": {
          "model_module": "@jupyter-widgets/controls",
          "model_name": "HTMLModel",
          "state": {
            "_view_name": "HTMLView",
            "style": "IPY_MODEL_b8f166f2e7244c84a2a8f450ba3a7d9e",
            "_dom_classes": [],
            "description": "",
            "_model_name": "HTMLModel",
            "placeholder": "​",
            "_view_module": "@jupyter-widgets/controls",
            "_model_module_version": "1.5.0",
            "value": " 1.38M/1.38M [00:01&lt;00:00, 914kB/s]",
            "_view_count": null,
            "_view_module_version": "1.5.0",
            "description_tooltip": null,
            "_model_module": "@jupyter-widgets/controls",
            "layout": "IPY_MODEL_624ba1047c0c4fe2b3f70a8584d07557"
          }
        },
        "34325f990e534632804c322d5665983d": {
          "model_module": "@jupyter-widgets/controls",
          "model_name": "ProgressStyleModel",
          "state": {
            "_view_name": "StyleView",
            "_model_name": "ProgressStyleModel",
            "description_width": "initial",
            "_view_module": "@jupyter-widgets/base",
            "_model_module_version": "1.5.0",
            "_view_count": null,
            "_view_module_version": "1.2.0",
            "bar_color": null,
            "_model_module": "@jupyter-widgets/controls"
          }
        },
        "a9ef2b9e060448849c36cc22fe214603": {
          "model_module": "@jupyter-widgets/base",
          "model_name": "LayoutModel",
          "state": {
            "_view_name": "LayoutView",
            "grid_template_rows": null,
            "right": null,
            "justify_content": null,
            "_view_module": "@jupyter-widgets/base",
            "overflow": null,
            "_model_module_version": "1.2.0",
            "_view_count": null,
            "flex_flow": null,
            "width": null,
            "min_width": null,
            "border": null,
            "align_items": null,
            "bottom": null,
            "_model_module": "@jupyter-widgets/base",
            "top": null,
            "grid_column": null,
            "overflow_y": null,
            "overflow_x": null,
            "grid_auto_flow": null,
            "grid_area": null,
            "grid_template_columns": null,
            "flex": null,
            "_model_name": "LayoutModel",
            "justify_items": null,
            "grid_row": null,
            "max_height": null,
            "align_content": null,
            "visibility": null,
            "align_self": null,
            "height": null,
            "min_height": null,
            "padding": null,
            "grid_auto_rows": null,
            "grid_gap": null,
            "max_width": null,
            "order": null,
            "_view_module_version": "1.2.0",
            "grid_template_areas": null,
            "object_position": null,
            "object_fit": null,
            "grid_auto_columns": null,
            "margin": null,
            "display": null,
            "left": null
          }
        },
        "b8f166f2e7244c84a2a8f450ba3a7d9e": {
          "model_module": "@jupyter-widgets/controls",
          "model_name": "DescriptionStyleModel",
          "state": {
            "_view_name": "StyleView",
            "_model_name": "DescriptionStyleModel",
            "description_width": "",
            "_view_module": "@jupyter-widgets/base",
            "_model_module_version": "1.5.0",
            "_view_count": null,
            "_view_module_version": "1.2.0",
            "_model_module": "@jupyter-widgets/controls"
          }
        },
        "624ba1047c0c4fe2b3f70a8584d07557": {
          "model_module": "@jupyter-widgets/base",
          "model_name": "LayoutModel",
          "state": {
            "_view_name": "LayoutView",
            "grid_template_rows": null,
            "right": null,
            "justify_content": null,
            "_view_module": "@jupyter-widgets/base",
            "overflow": null,
            "_model_module_version": "1.2.0",
            "_view_count": null,
            "flex_flow": null,
            "width": null,
            "min_width": null,
            "border": null,
            "align_items": null,
            "bottom": null,
            "_model_module": "@jupyter-widgets/base",
            "top": null,
            "grid_column": null,
            "overflow_y": null,
            "overflow_x": null,
            "grid_auto_flow": null,
            "grid_area": null,
            "grid_template_columns": null,
            "flex": null,
            "_model_name": "LayoutModel",
            "justify_items": null,
            "grid_row": null,
            "max_height": null,
            "align_content": null,
            "visibility": null,
            "align_self": null,
            "height": null,
            "min_height": null,
            "padding": null,
            "grid_auto_rows": null,
            "grid_gap": null,
            "max_width": null,
            "order": null,
            "_view_module_version": "1.2.0",
            "grid_template_areas": null,
            "object_position": null,
            "object_fit": null,
            "grid_auto_columns": null,
            "margin": null,
            "display": null,
            "left": null
          }
        },
        "c3c9e127df364cdd88ab9722438a7161": {
          "model_module": "@jupyter-widgets/controls",
          "model_name": "HBoxModel",
          "state": {
            "_view_name": "HBoxView",
            "_dom_classes": [],
            "_model_name": "HBoxModel",
            "_view_module": "@jupyter-widgets/controls",
            "_model_module_version": "1.5.0",
            "_view_count": null,
            "_view_module_version": "1.5.0",
            "box_style": "",
            "layout": "IPY_MODEL_b280bd2b38e14bdb93e0a1f48e7db8d6",
            "_model_module": "@jupyter-widgets/controls",
            "children": [
              "IPY_MODEL_e8de96f63d3c4d58b5e2005880477dd0",
              "IPY_MODEL_3abfd31d07a04c378e47dad0c3308b57"
            ]
          }
        },
        "b280bd2b38e14bdb93e0a1f48e7db8d6": {
          "model_module": "@jupyter-widgets/base",
          "model_name": "LayoutModel",
          "state": {
            "_view_name": "LayoutView",
            "grid_template_rows": null,
            "right": null,
            "justify_content": null,
            "_view_module": "@jupyter-widgets/base",
            "overflow": null,
            "_model_module_version": "1.2.0",
            "_view_count": null,
            "flex_flow": null,
            "width": null,
            "min_width": null,
            "border": null,
            "align_items": null,
            "bottom": null,
            "_model_module": "@jupyter-widgets/base",
            "top": null,
            "grid_column": null,
            "overflow_y": null,
            "overflow_x": null,
            "grid_auto_flow": null,
            "grid_area": null,
            "grid_template_columns": null,
            "flex": null,
            "_model_name": "LayoutModel",
            "justify_items": null,
            "grid_row": null,
            "max_height": null,
            "align_content": null,
            "visibility": null,
            "align_self": null,
            "height": null,
            "min_height": null,
            "padding": null,
            "grid_auto_rows": null,
            "grid_gap": null,
            "max_width": null,
            "order": null,
            "_view_module_version": "1.2.0",
            "grid_template_areas": null,
            "object_position": null,
            "object_fit": null,
            "grid_auto_columns": null,
            "margin": null,
            "display": null,
            "left": null
          }
        },
        "e8de96f63d3c4d58b5e2005880477dd0": {
          "model_module": "@jupyter-widgets/controls",
          "model_name": "FloatProgressModel",
          "state": {
            "_view_name": "ProgressView",
            "style": "IPY_MODEL_5ac693775ce04f639ab4aaefe6385165",
            "_dom_classes": [],
            "description": "Downloading: 100%",
            "_model_name": "FloatProgressModel",
            "bar_style": "success",
            "max": 760,
            "_view_module": "@jupyter-widgets/controls",
            "_model_module_version": "1.5.0",
            "value": 760,
            "_view_count": null,
            "_view_module_version": "1.5.0",
            "orientation": "horizontal",
            "min": 0,
            "description_tooltip": null,
            "_model_module": "@jupyter-widgets/controls",
            "layout": "IPY_MODEL_0c2695d6175e4bb586c6eb2d70487a63"
          }
        },
        "3abfd31d07a04c378e47dad0c3308b57": {
          "model_module": "@jupyter-widgets/controls",
          "model_name": "HTMLModel",
          "state": {
            "_view_name": "HTMLView",
            "style": "IPY_MODEL_eb4fddba1e1640a7bb843887f998486c",
            "_dom_classes": [],
            "description": "",
            "_model_name": "HTMLModel",
            "placeholder": "​",
            "_view_module": "@jupyter-widgets/controls",
            "_model_module_version": "1.5.0",
            "value": " 760/760 [00:00&lt;00:00, 1.86kB/s]",
            "_view_count": null,
            "_view_module_version": "1.5.0",
            "description_tooltip": null,
            "_model_module": "@jupyter-widgets/controls",
            "layout": "IPY_MODEL_f808decbf75d4c0282b6325752fe3457"
          }
        },
        "5ac693775ce04f639ab4aaefe6385165": {
          "model_module": "@jupyter-widgets/controls",
          "model_name": "ProgressStyleModel",
          "state": {
            "_view_name": "StyleView",
            "_model_name": "ProgressStyleModel",
            "description_width": "initial",
            "_view_module": "@jupyter-widgets/base",
            "_model_module_version": "1.5.0",
            "_view_count": null,
            "_view_module_version": "1.2.0",
            "bar_color": null,
            "_model_module": "@jupyter-widgets/controls"
          }
        },
        "0c2695d6175e4bb586c6eb2d70487a63": {
          "model_module": "@jupyter-widgets/base",
          "model_name": "LayoutModel",
          "state": {
            "_view_name": "LayoutView",
            "grid_template_rows": null,
            "right": null,
            "justify_content": null,
            "_view_module": "@jupyter-widgets/base",
            "overflow": null,
            "_model_module_version": "1.2.0",
            "_view_count": null,
            "flex_flow": null,
            "width": null,
            "min_width": null,
            "border": null,
            "align_items": null,
            "bottom": null,
            "_model_module": "@jupyter-widgets/base",
            "top": null,
            "grid_column": null,
            "overflow_y": null,
            "overflow_x": null,
            "grid_auto_flow": null,
            "grid_area": null,
            "grid_template_columns": null,
            "flex": null,
            "_model_name": "LayoutModel",
            "justify_items": null,
            "grid_row": null,
            "max_height": null,
            "align_content": null,
            "visibility": null,
            "align_self": null,
            "height": null,
            "min_height": null,
            "padding": null,
            "grid_auto_rows": null,
            "grid_gap": null,
            "max_width": null,
            "order": null,
            "_view_module_version": "1.2.0",
            "grid_template_areas": null,
            "object_position": null,
            "object_fit": null,
            "grid_auto_columns": null,
            "margin": null,
            "display": null,
            "left": null
          }
        },
        "eb4fddba1e1640a7bb843887f998486c": {
          "model_module": "@jupyter-widgets/controls",
          "model_name": "DescriptionStyleModel",
          "state": {
            "_view_name": "StyleView",
            "_model_name": "DescriptionStyleModel",
            "description_width": "",
            "_view_module": "@jupyter-widgets/base",
            "_model_module_version": "1.5.0",
            "_view_count": null,
            "_view_module_version": "1.2.0",
            "_model_module": "@jupyter-widgets/controls"
          }
        },
        "f808decbf75d4c0282b6325752fe3457": {
          "model_module": "@jupyter-widgets/base",
          "model_name": "LayoutModel",
          "state": {
            "_view_name": "LayoutView",
            "grid_template_rows": null,
            "right": null,
            "justify_content": null,
            "_view_module": "@jupyter-widgets/base",
            "overflow": null,
            "_model_module_version": "1.2.0",
            "_view_count": null,
            "flex_flow": null,
            "width": null,
            "min_width": null,
            "border": null,
            "align_items": null,
            "bottom": null,
            "_model_module": "@jupyter-widgets/base",
            "top": null,
            "grid_column": null,
            "overflow_y": null,
            "overflow_x": null,
            "grid_auto_flow": null,
            "grid_area": null,
            "grid_template_columns": null,
            "flex": null,
            "_model_name": "LayoutModel",
            "justify_items": null,
            "grid_row": null,
            "max_height": null,
            "align_content": null,
            "visibility": null,
            "align_self": null,
            "height": null,
            "min_height": null,
            "padding": null,
            "grid_auto_rows": null,
            "grid_gap": null,
            "max_width": null,
            "order": null,
            "_view_module_version": "1.2.0",
            "grid_template_areas": null,
            "object_position": null,
            "object_fit": null,
            "grid_auto_columns": null,
            "margin": null,
            "display": null,
            "left": null
          }
        },
        "3fc08160344d41f4a8a386df37c8d57a": {
          "model_module": "@jupyter-widgets/controls",
          "model_name": "HBoxModel",
          "state": {
            "_view_name": "HBoxView",
            "_dom_classes": [],
            "_model_name": "HBoxModel",
            "_view_module": "@jupyter-widgets/controls",
            "_model_module_version": "1.5.0",
            "_view_count": null,
            "_view_module_version": "1.5.0",
            "box_style": "",
            "layout": "IPY_MODEL_f45a26e4bb4545c3984bc4998b63241d",
            "_model_module": "@jupyter-widgets/controls",
            "children": [
              "IPY_MODEL_17650c0066c04c538d7aee5ece221d6d",
              "IPY_MODEL_66430c4dc60e45d9b8ebb36f9948cf93"
            ]
          }
        },
        "f45a26e4bb4545c3984bc4998b63241d": {
          "model_module": "@jupyter-widgets/base",
          "model_name": "LayoutModel",
          "state": {
            "_view_name": "LayoutView",
            "grid_template_rows": null,
            "right": null,
            "justify_content": null,
            "_view_module": "@jupyter-widgets/base",
            "overflow": null,
            "_model_module_version": "1.2.0",
            "_view_count": null,
            "flex_flow": null,
            "width": null,
            "min_width": null,
            "border": null,
            "align_items": null,
            "bottom": null,
            "_model_module": "@jupyter-widgets/base",
            "top": null,
            "grid_column": null,
            "overflow_y": null,
            "overflow_x": null,
            "grid_auto_flow": null,
            "grid_area": null,
            "grid_template_columns": null,
            "flex": null,
            "_model_name": "LayoutModel",
            "justify_items": null,
            "grid_row": null,
            "max_height": null,
            "align_content": null,
            "visibility": null,
            "align_self": null,
            "height": null,
            "min_height": null,
            "padding": null,
            "grid_auto_rows": null,
            "grid_gap": null,
            "max_width": null,
            "order": null,
            "_view_module_version": "1.2.0",
            "grid_template_areas": null,
            "object_position": null,
            "object_fit": null,
            "grid_auto_columns": null,
            "margin": null,
            "display": null,
            "left": null
          }
        },
        "17650c0066c04c538d7aee5ece221d6d": {
          "model_module": "@jupyter-widgets/controls",
          "model_name": "FloatProgressModel",
          "state": {
            "_view_name": "ProgressView",
            "style": "IPY_MODEL_b77192aeae2e4c908cff37f75d637ac0",
            "_dom_classes": [],
            "description": "Downloading: 100%",
            "_model_name": "FloatProgressModel",
            "bar_style": "success",
            "max": 565485600,
            "_view_module": "@jupyter-widgets/controls",
            "_model_module_version": "1.5.0",
            "value": 565485600,
            "_view_count": null,
            "_view_module_version": "1.5.0",
            "orientation": "horizontal",
            "min": 0,
            "description_tooltip": null,
            "_model_module": "@jupyter-widgets/controls",
            "layout": "IPY_MODEL_f2aec88154a043d8890e53b5bc4bed0b"
          }
        },
        "66430c4dc60e45d9b8ebb36f9948cf93": {
          "model_module": "@jupyter-widgets/controls",
          "model_name": "HTMLModel",
          "state": {
            "_view_name": "HTMLView",
            "style": "IPY_MODEL_81b8d5b1ccad40e7a1f344f87eb80a13",
            "_dom_classes": [],
            "description": "",
            "_model_name": "HTMLModel",
            "placeholder": "​",
            "_view_module": "@jupyter-widgets/controls",
            "_model_module_version": "1.5.0",
            "value": " 565M/565M [00:26&lt;00:00, 21.2MB/s]",
            "_view_count": null,
            "_view_module_version": "1.5.0",
            "description_tooltip": null,
            "_model_module": "@jupyter-widgets/controls",
            "layout": "IPY_MODEL_afd71709c457484a9afbf4a0352c1ce1"
          }
        },
        "b77192aeae2e4c908cff37f75d637ac0": {
          "model_module": "@jupyter-widgets/controls",
          "model_name": "ProgressStyleModel",
          "state": {
            "_view_name": "StyleView",
            "_model_name": "ProgressStyleModel",
            "description_width": "initial",
            "_view_module": "@jupyter-widgets/base",
            "_model_module_version": "1.5.0",
            "_view_count": null,
            "_view_module_version": "1.2.0",
            "bar_color": null,
            "_model_module": "@jupyter-widgets/controls"
          }
        },
        "f2aec88154a043d8890e53b5bc4bed0b": {
          "model_module": "@jupyter-widgets/base",
          "model_name": "LayoutModel",
          "state": {
            "_view_name": "LayoutView",
            "grid_template_rows": null,
            "right": null,
            "justify_content": null,
            "_view_module": "@jupyter-widgets/base",
            "overflow": null,
            "_model_module_version": "1.2.0",
            "_view_count": null,
            "flex_flow": null,
            "width": null,
            "min_width": null,
            "border": null,
            "align_items": null,
            "bottom": null,
            "_model_module": "@jupyter-widgets/base",
            "top": null,
            "grid_column": null,
            "overflow_y": null,
            "overflow_x": null,
            "grid_auto_flow": null,
            "grid_area": null,
            "grid_template_columns": null,
            "flex": null,
            "_model_name": "LayoutModel",
            "justify_items": null,
            "grid_row": null,
            "max_height": null,
            "align_content": null,
            "visibility": null,
            "align_self": null,
            "height": null,
            "min_height": null,
            "padding": null,
            "grid_auto_rows": null,
            "grid_gap": null,
            "max_width": null,
            "order": null,
            "_view_module_version": "1.2.0",
            "grid_template_areas": null,
            "object_position": null,
            "object_fit": null,
            "grid_auto_columns": null,
            "margin": null,
            "display": null,
            "left": null
          }
        },
        "81b8d5b1ccad40e7a1f344f87eb80a13": {
          "model_module": "@jupyter-widgets/controls",
          "model_name": "DescriptionStyleModel",
          "state": {
            "_view_name": "StyleView",
            "_model_name": "DescriptionStyleModel",
            "description_width": "",
            "_view_module": "@jupyter-widgets/base",
            "_model_module_version": "1.5.0",
            "_view_count": null,
            "_view_module_version": "1.2.0",
            "_model_module": "@jupyter-widgets/controls"
          }
        },
        "afd71709c457484a9afbf4a0352c1ce1": {
          "model_module": "@jupyter-widgets/base",
          "model_name": "LayoutModel",
          "state": {
            "_view_name": "LayoutView",
            "grid_template_rows": null,
            "right": null,
            "justify_content": null,
            "_view_module": "@jupyter-widgets/base",
            "overflow": null,
            "_model_module_version": "1.2.0",
            "_view_count": null,
            "flex_flow": null,
            "width": null,
            "min_width": null,
            "border": null,
            "align_items": null,
            "bottom": null,
            "_model_module": "@jupyter-widgets/base",
            "top": null,
            "grid_column": null,
            "overflow_y": null,
            "overflow_x": null,
            "grid_auto_flow": null,
            "grid_area": null,
            "grid_template_columns": null,
            "flex": null,
            "_model_name": "LayoutModel",
            "justify_items": null,
            "grid_row": null,
            "max_height": null,
            "align_content": null,
            "visibility": null,
            "align_self": null,
            "height": null,
            "min_height": null,
            "padding": null,
            "grid_auto_rows": null,
            "grid_gap": null,
            "max_width": null,
            "order": null,
            "_view_module_version": "1.2.0",
            "grid_template_areas": null,
            "object_position": null,
            "object_fit": null,
            "grid_auto_columns": null,
            "margin": null,
            "display": null,
            "left": null
          }
        },
        "df50c8b42cef420e9485822ef0429a66": {
          "model_module": "@jupyter-widgets/controls",
          "model_name": "HBoxModel",
          "state": {
            "_view_name": "HBoxView",
            "_dom_classes": [],
            "_model_name": "HBoxModel",
            "_view_module": "@jupyter-widgets/controls",
            "_model_module_version": "1.5.0",
            "_view_count": null,
            "_view_module_version": "1.5.0",
            "box_style": "",
            "layout": "IPY_MODEL_614517016a66474b9cbb2c191fab2b17",
            "_model_module": "@jupyter-widgets/controls",
            "children": [
              "IPY_MODEL_e15a7ee9222d4d5c80fc6a9ad92b2d6a",
              "IPY_MODEL_0ca4178e2ace48e5955ae327f21f4273"
            ]
          }
        },
        "614517016a66474b9cbb2c191fab2b17": {
          "model_module": "@jupyter-widgets/base",
          "model_name": "LayoutModel",
          "state": {
            "_view_name": "LayoutView",
            "grid_template_rows": null,
            "right": null,
            "justify_content": null,
            "_view_module": "@jupyter-widgets/base",
            "overflow": null,
            "_model_module_version": "1.2.0",
            "_view_count": null,
            "flex_flow": null,
            "width": null,
            "min_width": null,
            "border": null,
            "align_items": null,
            "bottom": null,
            "_model_module": "@jupyter-widgets/base",
            "top": null,
            "grid_column": null,
            "overflow_y": null,
            "overflow_x": null,
            "grid_auto_flow": null,
            "grid_area": null,
            "grid_template_columns": null,
            "flex": null,
            "_model_name": "LayoutModel",
            "justify_items": null,
            "grid_row": null,
            "max_height": null,
            "align_content": null,
            "visibility": null,
            "align_self": null,
            "height": null,
            "min_height": null,
            "padding": null,
            "grid_auto_rows": null,
            "grid_gap": null,
            "max_width": null,
            "order": null,
            "_view_module_version": "1.2.0",
            "grid_template_areas": null,
            "object_position": null,
            "object_fit": null,
            "grid_auto_columns": null,
            "margin": null,
            "display": null,
            "left": null
          }
        },
        "e15a7ee9222d4d5c80fc6a9ad92b2d6a": {
          "model_module": "@jupyter-widgets/controls",
          "model_name": "FloatProgressModel",
          "state": {
            "_view_name": "ProgressView",
            "style": "IPY_MODEL_6f1de71d8cba41a796bedbfd21832352",
            "_dom_classes": [],
            "description": "Downloading: 100%",
            "_model_name": "FloatProgressModel",
            "bar_style": "success",
            "max": 231508,
            "_view_module": "@jupyter-widgets/controls",
            "_model_module_version": "1.5.0",
            "value": 231508,
            "_view_count": null,
            "_view_module_version": "1.5.0",
            "orientation": "horizontal",
            "min": 0,
            "description_tooltip": null,
            "_model_module": "@jupyter-widgets/controls",
            "layout": "IPY_MODEL_b163b6a2577a40388a60aac0c1944ddc"
          }
        },
        "0ca4178e2ace48e5955ae327f21f4273": {
          "model_module": "@jupyter-widgets/controls",
          "model_name": "HTMLModel",
          "state": {
            "_view_name": "HTMLView",
            "style": "IPY_MODEL_56c5b8cfed3f40d1a018fe36ac54815c",
            "_dom_classes": [],
            "description": "",
            "_model_name": "HTMLModel",
            "placeholder": "​",
            "_view_module": "@jupyter-widgets/controls",
            "_model_module_version": "1.5.0",
            "value": " 232k/232k [00:01&lt;00:00, 163kB/s]",
            "_view_count": null,
            "_view_module_version": "1.5.0",
            "description_tooltip": null,
            "_model_module": "@jupyter-widgets/controls",
            "layout": "IPY_MODEL_f9165a1404c6454cb6521d3b68156d05"
          }
        },
        "6f1de71d8cba41a796bedbfd21832352": {
          "model_module": "@jupyter-widgets/controls",
          "model_name": "ProgressStyleModel",
          "state": {
            "_view_name": "StyleView",
            "_model_name": "ProgressStyleModel",
            "description_width": "initial",
            "_view_module": "@jupyter-widgets/base",
            "_model_module_version": "1.5.0",
            "_view_count": null,
            "_view_module_version": "1.2.0",
            "bar_color": null,
            "_model_module": "@jupyter-widgets/controls"
          }
        },
        "b163b6a2577a40388a60aac0c1944ddc": {
          "model_module": "@jupyter-widgets/base",
          "model_name": "LayoutModel",
          "state": {
            "_view_name": "LayoutView",
            "grid_template_rows": null,
            "right": null,
            "justify_content": null,
            "_view_module": "@jupyter-widgets/base",
            "overflow": null,
            "_model_module_version": "1.2.0",
            "_view_count": null,
            "flex_flow": null,
            "width": null,
            "min_width": null,
            "border": null,
            "align_items": null,
            "bottom": null,
            "_model_module": "@jupyter-widgets/base",
            "top": null,
            "grid_column": null,
            "overflow_y": null,
            "overflow_x": null,
            "grid_auto_flow": null,
            "grid_area": null,
            "grid_template_columns": null,
            "flex": null,
            "_model_name": "LayoutModel",
            "justify_items": null,
            "grid_row": null,
            "max_height": null,
            "align_content": null,
            "visibility": null,
            "align_self": null,
            "height": null,
            "min_height": null,
            "padding": null,
            "grid_auto_rows": null,
            "grid_gap": null,
            "max_width": null,
            "order": null,
            "_view_module_version": "1.2.0",
            "grid_template_areas": null,
            "object_position": null,
            "object_fit": null,
            "grid_auto_columns": null,
            "margin": null,
            "display": null,
            "left": null
          }
        },
        "56c5b8cfed3f40d1a018fe36ac54815c": {
          "model_module": "@jupyter-widgets/controls",
          "model_name": "DescriptionStyleModel",
          "state": {
            "_view_name": "StyleView",
            "_model_name": "DescriptionStyleModel",
            "description_width": "",
            "_view_module": "@jupyter-widgets/base",
            "_model_module_version": "1.5.0",
            "_view_count": null,
            "_view_module_version": "1.2.0",
            "_model_module": "@jupyter-widgets/controls"
          }
        },
        "f9165a1404c6454cb6521d3b68156d05": {
          "model_module": "@jupyter-widgets/base",
          "model_name": "LayoutModel",
          "state": {
            "_view_name": "LayoutView",
            "grid_template_rows": null,
            "right": null,
            "justify_content": null,
            "_view_module": "@jupyter-widgets/base",
            "overflow": null,
            "_model_module_version": "1.2.0",
            "_view_count": null,
            "flex_flow": null,
            "width": null,
            "min_width": null,
            "border": null,
            "align_items": null,
            "bottom": null,
            "_model_module": "@jupyter-widgets/base",
            "top": null,
            "grid_column": null,
            "overflow_y": null,
            "overflow_x": null,
            "grid_auto_flow": null,
            "grid_area": null,
            "grid_template_columns": null,
            "flex": null,
            "_model_name": "LayoutModel",
            "justify_items": null,
            "grid_row": null,
            "max_height": null,
            "align_content": null,
            "visibility": null,
            "align_self": null,
            "height": null,
            "min_height": null,
            "padding": null,
            "grid_auto_rows": null,
            "grid_gap": null,
            "max_width": null,
            "order": null,
            "_view_module_version": "1.2.0",
            "grid_template_areas": null,
            "object_position": null,
            "object_fit": null,
            "grid_auto_columns": null,
            "margin": null,
            "display": null,
            "left": null
          }
        },
        "dd6ba567a4924129acf7eeb872277e6e": {
          "model_module": "@jupyter-widgets/controls",
          "model_name": "HBoxModel",
          "state": {
            "_view_name": "HBoxView",
            "_dom_classes": [],
            "_model_name": "HBoxModel",
            "_view_module": "@jupyter-widgets/controls",
            "_model_module_version": "1.5.0",
            "_view_count": null,
            "_view_module_version": "1.5.0",
            "box_style": "",
            "layout": "IPY_MODEL_657426654d604eb6ac18d7755393605b",
            "_model_module": "@jupyter-widgets/controls",
            "children": [
              "IPY_MODEL_0fa0e949e34c424d8f6187e77226f509",
              "IPY_MODEL_52a651cc4e614a44b1259d2ed421d808"
            ]
          }
        },
        "657426654d604eb6ac18d7755393605b": {
          "model_module": "@jupyter-widgets/base",
          "model_name": "LayoutModel",
          "state": {
            "_view_name": "LayoutView",
            "grid_template_rows": null,
            "right": null,
            "justify_content": null,
            "_view_module": "@jupyter-widgets/base",
            "overflow": null,
            "_model_module_version": "1.2.0",
            "_view_count": null,
            "flex_flow": null,
            "width": null,
            "min_width": null,
            "border": null,
            "align_items": null,
            "bottom": null,
            "_model_module": "@jupyter-widgets/base",
            "top": null,
            "grid_column": null,
            "overflow_y": null,
            "overflow_x": null,
            "grid_auto_flow": null,
            "grid_area": null,
            "grid_template_columns": null,
            "flex": null,
            "_model_name": "LayoutModel",
            "justify_items": null,
            "grid_row": null,
            "max_height": null,
            "align_content": null,
            "visibility": null,
            "align_self": null,
            "height": null,
            "min_height": null,
            "padding": null,
            "grid_auto_rows": null,
            "grid_gap": null,
            "max_width": null,
            "order": null,
            "_view_module_version": "1.2.0",
            "grid_template_areas": null,
            "object_position": null,
            "object_fit": null,
            "grid_auto_columns": null,
            "margin": null,
            "display": null,
            "left": null
          }
        },
        "0fa0e949e34c424d8f6187e77226f509": {
          "model_module": "@jupyter-widgets/controls",
          "model_name": "FloatProgressModel",
          "state": {
            "_view_name": "ProgressView",
            "style": "IPY_MODEL_50c8f1d24029481290d62a17fb92daf8",
            "_dom_classes": [],
            "description": "Downloading: 100%",
            "_model_name": "FloatProgressModel",
            "bar_style": "success",
            "max": 28,
            "_view_module": "@jupyter-widgets/controls",
            "_model_module_version": "1.5.0",
            "value": 28,
            "_view_count": null,
            "_view_module_version": "1.5.0",
            "orientation": "horizontal",
            "min": 0,
            "description_tooltip": null,
            "_model_module": "@jupyter-widgets/controls",
            "layout": "IPY_MODEL_dcade32e558c441dbc0cdda163b83d3e"
          }
        },
        "52a651cc4e614a44b1259d2ed421d808": {
          "model_module": "@jupyter-widgets/controls",
          "model_name": "HTMLModel",
          "state": {
            "_view_name": "HTMLView",
            "style": "IPY_MODEL_f9cd133d92b74805968e82c42e687605",
            "_dom_classes": [],
            "description": "",
            "_model_name": "HTMLModel",
            "placeholder": "​",
            "_view_module": "@jupyter-widgets/controls",
            "_model_module_version": "1.5.0",
            "value": " 28.0/28.0 [00:01&lt;00:00, 27.6B/s]",
            "_view_count": null,
            "_view_module_version": "1.5.0",
            "description_tooltip": null,
            "_model_module": "@jupyter-widgets/controls",
            "layout": "IPY_MODEL_ec81f73d8b9143d69ab0c4d4be4a6308"
          }
        },
        "50c8f1d24029481290d62a17fb92daf8": {
          "model_module": "@jupyter-widgets/controls",
          "model_name": "ProgressStyleModel",
          "state": {
            "_view_name": "StyleView",
            "_model_name": "ProgressStyleModel",
            "description_width": "initial",
            "_view_module": "@jupyter-widgets/base",
            "_model_module_version": "1.5.0",
            "_view_count": null,
            "_view_module_version": "1.2.0",
            "bar_color": null,
            "_model_module": "@jupyter-widgets/controls"
          }
        },
        "dcade32e558c441dbc0cdda163b83d3e": {
          "model_module": "@jupyter-widgets/base",
          "model_name": "LayoutModel",
          "state": {
            "_view_name": "LayoutView",
            "grid_template_rows": null,
            "right": null,
            "justify_content": null,
            "_view_module": "@jupyter-widgets/base",
            "overflow": null,
            "_model_module_version": "1.2.0",
            "_view_count": null,
            "flex_flow": null,
            "width": null,
            "min_width": null,
            "border": null,
            "align_items": null,
            "bottom": null,
            "_model_module": "@jupyter-widgets/base",
            "top": null,
            "grid_column": null,
            "overflow_y": null,
            "overflow_x": null,
            "grid_auto_flow": null,
            "grid_area": null,
            "grid_template_columns": null,
            "flex": null,
            "_model_name": "LayoutModel",
            "justify_items": null,
            "grid_row": null,
            "max_height": null,
            "align_content": null,
            "visibility": null,
            "align_self": null,
            "height": null,
            "min_height": null,
            "padding": null,
            "grid_auto_rows": null,
            "grid_gap": null,
            "max_width": null,
            "order": null,
            "_view_module_version": "1.2.0",
            "grid_template_areas": null,
            "object_position": null,
            "object_fit": null,
            "grid_auto_columns": null,
            "margin": null,
            "display": null,
            "left": null
          }
        },
        "f9cd133d92b74805968e82c42e687605": {
          "model_module": "@jupyter-widgets/controls",
          "model_name": "DescriptionStyleModel",
          "state": {
            "_view_name": "StyleView",
            "_model_name": "DescriptionStyleModel",
            "description_width": "",
            "_view_module": "@jupyter-widgets/base",
            "_model_module_version": "1.5.0",
            "_view_count": null,
            "_view_module_version": "1.2.0",
            "_model_module": "@jupyter-widgets/controls"
          }
        },
        "ec81f73d8b9143d69ab0c4d4be4a6308": {
          "model_module": "@jupyter-widgets/base",
          "model_name": "LayoutModel",
          "state": {
            "_view_name": "LayoutView",
            "grid_template_rows": null,
            "right": null,
            "justify_content": null,
            "_view_module": "@jupyter-widgets/base",
            "overflow": null,
            "_model_module_version": "1.2.0",
            "_view_count": null,
            "flex_flow": null,
            "width": null,
            "min_width": null,
            "border": null,
            "align_items": null,
            "bottom": null,
            "_model_module": "@jupyter-widgets/base",
            "top": null,
            "grid_column": null,
            "overflow_y": null,
            "overflow_x": null,
            "grid_auto_flow": null,
            "grid_area": null,
            "grid_template_columns": null,
            "flex": null,
            "_model_name": "LayoutModel",
            "justify_items": null,
            "grid_row": null,
            "max_height": null,
            "align_content": null,
            "visibility": null,
            "align_self": null,
            "height": null,
            "min_height": null,
            "padding": null,
            "grid_auto_rows": null,
            "grid_gap": null,
            "max_width": null,
            "order": null,
            "_view_module_version": "1.2.0",
            "grid_template_areas": null,
            "object_position": null,
            "object_fit": null,
            "grid_auto_columns": null,
            "margin": null,
            "display": null,
            "left": null
          }
        },
        "05dd1cb1cefb4c6dad2118190702490d": {
          "model_module": "@jupyter-widgets/controls",
          "model_name": "HBoxModel",
          "state": {
            "_view_name": "HBoxView",
            "_dom_classes": [],
            "_model_name": "HBoxModel",
            "_view_module": "@jupyter-widgets/controls",
            "_model_module_version": "1.5.0",
            "_view_count": null,
            "_view_module_version": "1.5.0",
            "box_style": "",
            "layout": "IPY_MODEL_7fdbf49aa90747e3a8596c1d076a6bd5",
            "_model_module": "@jupyter-widgets/controls",
            "children": [
              "IPY_MODEL_442b9a92c46d4f31a7705e4928fe61d8",
              "IPY_MODEL_5eb5259702e04c838417d2df56f4cf9e"
            ]
          }
        },
        "7fdbf49aa90747e3a8596c1d076a6bd5": {
          "model_module": "@jupyter-widgets/base",
          "model_name": "LayoutModel",
          "state": {
            "_view_name": "LayoutView",
            "grid_template_rows": null,
            "right": null,
            "justify_content": null,
            "_view_module": "@jupyter-widgets/base",
            "overflow": null,
            "_model_module_version": "1.2.0",
            "_view_count": null,
            "flex_flow": null,
            "width": null,
            "min_width": null,
            "border": null,
            "align_items": null,
            "bottom": null,
            "_model_module": "@jupyter-widgets/base",
            "top": null,
            "grid_column": null,
            "overflow_y": null,
            "overflow_x": null,
            "grid_auto_flow": null,
            "grid_area": null,
            "grid_template_columns": null,
            "flex": null,
            "_model_name": "LayoutModel",
            "justify_items": null,
            "grid_row": null,
            "max_height": null,
            "align_content": null,
            "visibility": null,
            "align_self": null,
            "height": null,
            "min_height": null,
            "padding": null,
            "grid_auto_rows": null,
            "grid_gap": null,
            "max_width": null,
            "order": null,
            "_view_module_version": "1.2.0",
            "grid_template_areas": null,
            "object_position": null,
            "object_fit": null,
            "grid_auto_columns": null,
            "margin": null,
            "display": null,
            "left": null
          }
        },
        "442b9a92c46d4f31a7705e4928fe61d8": {
          "model_module": "@jupyter-widgets/controls",
          "model_name": "FloatProgressModel",
          "state": {
            "_view_name": "ProgressView",
            "style": "IPY_MODEL_0a4cafdabfaf414aab0543f5e4364aae",
            "_dom_classes": [],
            "description": "Downloading: 100%",
            "_model_name": "FloatProgressModel",
            "bar_style": "success",
            "max": 466062,
            "_view_module": "@jupyter-widgets/controls",
            "_model_module_version": "1.5.0",
            "value": 466062,
            "_view_count": null,
            "_view_module_version": "1.5.0",
            "orientation": "horizontal",
            "min": 0,
            "description_tooltip": null,
            "_model_module": "@jupyter-widgets/controls",
            "layout": "IPY_MODEL_a9fa4a0c95894eec952e685e2bb7cee3"
          }
        },
        "5eb5259702e04c838417d2df56f4cf9e": {
          "model_module": "@jupyter-widgets/controls",
          "model_name": "HTMLModel",
          "state": {
            "_view_name": "HTMLView",
            "style": "IPY_MODEL_6319d700c05a424abf0bbb7f240b89ec",
            "_dom_classes": [],
            "description": "",
            "_model_name": "HTMLModel",
            "placeholder": "​",
            "_view_module": "@jupyter-widgets/controls",
            "_model_module_version": "1.5.0",
            "value": " 466k/466k [00:00&lt;00:00, 1.05MB/s]",
            "_view_count": null,
            "_view_module_version": "1.5.0",
            "description_tooltip": null,
            "_model_module": "@jupyter-widgets/controls",
            "layout": "IPY_MODEL_ba44d7e669eb4d9bbd6c492a67dab73b"
          }
        },
        "0a4cafdabfaf414aab0543f5e4364aae": {
          "model_module": "@jupyter-widgets/controls",
          "model_name": "ProgressStyleModel",
          "state": {
            "_view_name": "StyleView",
            "_model_name": "ProgressStyleModel",
            "description_width": "initial",
            "_view_module": "@jupyter-widgets/base",
            "_model_module_version": "1.5.0",
            "_view_count": null,
            "_view_module_version": "1.2.0",
            "bar_color": null,
            "_model_module": "@jupyter-widgets/controls"
          }
        },
        "a9fa4a0c95894eec952e685e2bb7cee3": {
          "model_module": "@jupyter-widgets/base",
          "model_name": "LayoutModel",
          "state": {
            "_view_name": "LayoutView",
            "grid_template_rows": null,
            "right": null,
            "justify_content": null,
            "_view_module": "@jupyter-widgets/base",
            "overflow": null,
            "_model_module_version": "1.2.0",
            "_view_count": null,
            "flex_flow": null,
            "width": null,
            "min_width": null,
            "border": null,
            "align_items": null,
            "bottom": null,
            "_model_module": "@jupyter-widgets/base",
            "top": null,
            "grid_column": null,
            "overflow_y": null,
            "overflow_x": null,
            "grid_auto_flow": null,
            "grid_area": null,
            "grid_template_columns": null,
            "flex": null,
            "_model_name": "LayoutModel",
            "justify_items": null,
            "grid_row": null,
            "max_height": null,
            "align_content": null,
            "visibility": null,
            "align_self": null,
            "height": null,
            "min_height": null,
            "padding": null,
            "grid_auto_rows": null,
            "grid_gap": null,
            "max_width": null,
            "order": null,
            "_view_module_version": "1.2.0",
            "grid_template_areas": null,
            "object_position": null,
            "object_fit": null,
            "grid_auto_columns": null,
            "margin": null,
            "display": null,
            "left": null
          }
        },
        "6319d700c05a424abf0bbb7f240b89ec": {
          "model_module": "@jupyter-widgets/controls",
          "model_name": "DescriptionStyleModel",
          "state": {
            "_view_name": "StyleView",
            "_model_name": "DescriptionStyleModel",
            "description_width": "",
            "_view_module": "@jupyter-widgets/base",
            "_model_module_version": "1.5.0",
            "_view_count": null,
            "_view_module_version": "1.2.0",
            "_model_module": "@jupyter-widgets/controls"
          }
        },
        "ba44d7e669eb4d9bbd6c492a67dab73b": {
          "model_module": "@jupyter-widgets/base",
          "model_name": "LayoutModel",
          "state": {
            "_view_name": "LayoutView",
            "grid_template_rows": null,
            "right": null,
            "justify_content": null,
            "_view_module": "@jupyter-widgets/base",
            "overflow": null,
            "_model_module_version": "1.2.0",
            "_view_count": null,
            "flex_flow": null,
            "width": null,
            "min_width": null,
            "border": null,
            "align_items": null,
            "bottom": null,
            "_model_module": "@jupyter-widgets/base",
            "top": null,
            "grid_column": null,
            "overflow_y": null,
            "overflow_x": null,
            "grid_auto_flow": null,
            "grid_area": null,
            "grid_template_columns": null,
            "flex": null,
            "_model_name": "LayoutModel",
            "justify_items": null,
            "grid_row": null,
            "max_height": null,
            "align_content": null,
            "visibility": null,
            "align_self": null,
            "height": null,
            "min_height": null,
            "padding": null,
            "grid_auto_rows": null,
            "grid_gap": null,
            "max_width": null,
            "order": null,
            "_view_module_version": "1.2.0",
            "grid_template_areas": null,
            "object_position": null,
            "object_fit": null,
            "grid_auto_columns": null,
            "margin": null,
            "display": null,
            "left": null
          }
        },
        "4bfb8591fa0e434a99cebb5e5eceed00": {
          "model_module": "@jupyter-widgets/controls",
          "model_name": "HBoxModel",
          "state": {
            "_view_name": "HBoxView",
            "_dom_classes": [],
            "_model_name": "HBoxModel",
            "_view_module": "@jupyter-widgets/controls",
            "_model_module_version": "1.5.0",
            "_view_count": null,
            "_view_module_version": "1.5.0",
            "box_style": "",
            "layout": "IPY_MODEL_69fc9aa8f4bc4654b7cc820a53a9f637",
            "_model_module": "@jupyter-widgets/controls",
            "children": [
              "IPY_MODEL_154bd0c7676d4083b329cb6494d9b797",
              "IPY_MODEL_7e2bba973a3a430484a84b7cd800ba51"
            ]
          }
        },
        "69fc9aa8f4bc4654b7cc820a53a9f637": {
          "model_module": "@jupyter-widgets/base",
          "model_name": "LayoutModel",
          "state": {
            "_view_name": "LayoutView",
            "grid_template_rows": null,
            "right": null,
            "justify_content": null,
            "_view_module": "@jupyter-widgets/base",
            "overflow": null,
            "_model_module_version": "1.2.0",
            "_view_count": null,
            "flex_flow": null,
            "width": null,
            "min_width": null,
            "border": null,
            "align_items": null,
            "bottom": null,
            "_model_module": "@jupyter-widgets/base",
            "top": null,
            "grid_column": null,
            "overflow_y": null,
            "overflow_x": null,
            "grid_auto_flow": null,
            "grid_area": null,
            "grid_template_columns": null,
            "flex": null,
            "_model_name": "LayoutModel",
            "justify_items": null,
            "grid_row": null,
            "max_height": null,
            "align_content": null,
            "visibility": null,
            "align_self": null,
            "height": null,
            "min_height": null,
            "padding": null,
            "grid_auto_rows": null,
            "grid_gap": null,
            "max_width": null,
            "order": null,
            "_view_module_version": "1.2.0",
            "grid_template_areas": null,
            "object_position": null,
            "object_fit": null,
            "grid_auto_columns": null,
            "margin": null,
            "display": null,
            "left": null
          }
        },
        "154bd0c7676d4083b329cb6494d9b797": {
          "model_module": "@jupyter-widgets/controls",
          "model_name": "FloatProgressModel",
          "state": {
            "_view_name": "ProgressView",
            "style": "IPY_MODEL_0a9c8a37fd074b92b62f34d4e68d0756",
            "_dom_classes": [],
            "description": "Downloading: 100%",
            "_model_name": "FloatProgressModel",
            "bar_style": "success",
            "max": 442,
            "_view_module": "@jupyter-widgets/controls",
            "_model_module_version": "1.5.0",
            "value": 442,
            "_view_count": null,
            "_view_module_version": "1.5.0",
            "orientation": "horizontal",
            "min": 0,
            "description_tooltip": null,
            "_model_module": "@jupyter-widgets/controls",
            "layout": "IPY_MODEL_8efc14d70a0646d2b24d11b046ea5d3a"
          }
        },
        "7e2bba973a3a430484a84b7cd800ba51": {
          "model_module": "@jupyter-widgets/controls",
          "model_name": "HTMLModel",
          "state": {
            "_view_name": "HTMLView",
            "style": "IPY_MODEL_9b6cac3dfdd8461ab4927d54f78d2ed9",
            "_dom_classes": [],
            "description": "",
            "_model_name": "HTMLModel",
            "placeholder": "​",
            "_view_module": "@jupyter-widgets/controls",
            "_model_module_version": "1.5.0",
            "value": " 442/442 [00:01&lt;00:00, 234B/s]",
            "_view_count": null,
            "_view_module_version": "1.5.0",
            "description_tooltip": null,
            "_model_module": "@jupyter-widgets/controls",
            "layout": "IPY_MODEL_7f14190e2cc54b65aa4f9f2a4d52351b"
          }
        },
        "0a9c8a37fd074b92b62f34d4e68d0756": {
          "model_module": "@jupyter-widgets/controls",
          "model_name": "ProgressStyleModel",
          "state": {
            "_view_name": "StyleView",
            "_model_name": "ProgressStyleModel",
            "description_width": "initial",
            "_view_module": "@jupyter-widgets/base",
            "_model_module_version": "1.5.0",
            "_view_count": null,
            "_view_module_version": "1.2.0",
            "bar_color": null,
            "_model_module": "@jupyter-widgets/controls"
          }
        },
        "8efc14d70a0646d2b24d11b046ea5d3a": {
          "model_module": "@jupyter-widgets/base",
          "model_name": "LayoutModel",
          "state": {
            "_view_name": "LayoutView",
            "grid_template_rows": null,
            "right": null,
            "justify_content": null,
            "_view_module": "@jupyter-widgets/base",
            "overflow": null,
            "_model_module_version": "1.2.0",
            "_view_count": null,
            "flex_flow": null,
            "width": null,
            "min_width": null,
            "border": null,
            "align_items": null,
            "bottom": null,
            "_model_module": "@jupyter-widgets/base",
            "top": null,
            "grid_column": null,
            "overflow_y": null,
            "overflow_x": null,
            "grid_auto_flow": null,
            "grid_area": null,
            "grid_template_columns": null,
            "flex": null,
            "_model_name": "LayoutModel",
            "justify_items": null,
            "grid_row": null,
            "max_height": null,
            "align_content": null,
            "visibility": null,
            "align_self": null,
            "height": null,
            "min_height": null,
            "padding": null,
            "grid_auto_rows": null,
            "grid_gap": null,
            "max_width": null,
            "order": null,
            "_view_module_version": "1.2.0",
            "grid_template_areas": null,
            "object_position": null,
            "object_fit": null,
            "grid_auto_columns": null,
            "margin": null,
            "display": null,
            "left": null
          }
        },
        "9b6cac3dfdd8461ab4927d54f78d2ed9": {
          "model_module": "@jupyter-widgets/controls",
          "model_name": "DescriptionStyleModel",
          "state": {
            "_view_name": "StyleView",
            "_model_name": "DescriptionStyleModel",
            "description_width": "",
            "_view_module": "@jupyter-widgets/base",
            "_model_module_version": "1.5.0",
            "_view_count": null,
            "_view_module_version": "1.2.0",
            "_model_module": "@jupyter-widgets/controls"
          }
        },
        "7f14190e2cc54b65aa4f9f2a4d52351b": {
          "model_module": "@jupyter-widgets/base",
          "model_name": "LayoutModel",
          "state": {
            "_view_name": "LayoutView",
            "grid_template_rows": null,
            "right": null,
            "justify_content": null,
            "_view_module": "@jupyter-widgets/base",
            "overflow": null,
            "_model_module_version": "1.2.0",
            "_view_count": null,
            "flex_flow": null,
            "width": null,
            "min_width": null,
            "border": null,
            "align_items": null,
            "bottom": null,
            "_model_module": "@jupyter-widgets/base",
            "top": null,
            "grid_column": null,
            "overflow_y": null,
            "overflow_x": null,
            "grid_auto_flow": null,
            "grid_area": null,
            "grid_template_columns": null,
            "flex": null,
            "_model_name": "LayoutModel",
            "justify_items": null,
            "grid_row": null,
            "max_height": null,
            "align_content": null,
            "visibility": null,
            "align_self": null,
            "height": null,
            "min_height": null,
            "padding": null,
            "grid_auto_rows": null,
            "grid_gap": null,
            "max_width": null,
            "order": null,
            "_view_module_version": "1.2.0",
            "grid_template_areas": null,
            "object_position": null,
            "object_fit": null,
            "grid_auto_columns": null,
            "margin": null,
            "display": null,
            "left": null
          }
        },
        "12d23db8b6f14291817a2d4d6cf9e161": {
          "model_module": "@jupyter-widgets/controls",
          "model_name": "HBoxModel",
          "state": {
            "_view_name": "HBoxView",
            "_dom_classes": [],
            "_model_name": "HBoxModel",
            "_view_module": "@jupyter-widgets/controls",
            "_model_module_version": "1.5.0",
            "_view_count": null,
            "_view_module_version": "1.5.0",
            "box_style": "",
            "layout": "IPY_MODEL_fec9714af516455795fd654f71e1b9d5",
            "_model_module": "@jupyter-widgets/controls",
            "children": [
              "IPY_MODEL_11aa5e22ef544f0ea14f343ccde91479",
              "IPY_MODEL_150f6f4c04b84064b188b68ffd77142e"
            ]
          }
        },
        "fec9714af516455795fd654f71e1b9d5": {
          "model_module": "@jupyter-widgets/base",
          "model_name": "LayoutModel",
          "state": {
            "_view_name": "LayoutView",
            "grid_template_rows": null,
            "right": null,
            "justify_content": null,
            "_view_module": "@jupyter-widgets/base",
            "overflow": null,
            "_model_module_version": "1.2.0",
            "_view_count": null,
            "flex_flow": null,
            "width": null,
            "min_width": null,
            "border": null,
            "align_items": null,
            "bottom": null,
            "_model_module": "@jupyter-widgets/base",
            "top": null,
            "grid_column": null,
            "overflow_y": null,
            "overflow_x": null,
            "grid_auto_flow": null,
            "grid_area": null,
            "grid_template_columns": null,
            "flex": null,
            "_model_name": "LayoutModel",
            "justify_items": null,
            "grid_row": null,
            "max_height": null,
            "align_content": null,
            "visibility": null,
            "align_self": null,
            "height": null,
            "min_height": null,
            "padding": null,
            "grid_auto_rows": null,
            "grid_gap": null,
            "max_width": null,
            "order": null,
            "_view_module_version": "1.2.0",
            "grid_template_areas": null,
            "object_position": null,
            "object_fit": null,
            "grid_auto_columns": null,
            "margin": null,
            "display": null,
            "left": null
          }
        },
        "11aa5e22ef544f0ea14f343ccde91479": {
          "model_module": "@jupyter-widgets/controls",
          "model_name": "FloatProgressModel",
          "state": {
            "_view_name": "ProgressView",
            "style": "IPY_MODEL_2351c720b4ee4644adea4e1c7bce1371",
            "_dom_classes": [],
            "description": "Downloading: 100%",
            "_model_name": "FloatProgressModel",
            "bar_style": "success",
            "max": 363423424,
            "_view_module": "@jupyter-widgets/controls",
            "_model_module_version": "1.5.0",
            "value": 363423424,
            "_view_count": null,
            "_view_module_version": "1.5.0",
            "orientation": "horizontal",
            "min": 0,
            "description_tooltip": null,
            "_model_module": "@jupyter-widgets/controls",
            "layout": "IPY_MODEL_e87462e3351e44afb8fec8af1ea1f3b0"
          }
        },
        "150f6f4c04b84064b188b68ffd77142e": {
          "model_module": "@jupyter-widgets/controls",
          "model_name": "HTMLModel",
          "state": {
            "_view_name": "HTMLView",
            "style": "IPY_MODEL_d6512c172050405fb9e8235a358d8945",
            "_dom_classes": [],
            "description": "",
            "_model_name": "HTMLModel",
            "placeholder": "​",
            "_view_module": "@jupyter-widgets/controls",
            "_model_module_version": "1.5.0",
            "value": " 363M/363M [00:05&lt;00:00, 60.6MB/s]",
            "_view_count": null,
            "_view_module_version": "1.5.0",
            "description_tooltip": null,
            "_model_module": "@jupyter-widgets/controls",
            "layout": "IPY_MODEL_b8926f654a2d43e9838029781f26bbf0"
          }
        },
        "2351c720b4ee4644adea4e1c7bce1371": {
          "model_module": "@jupyter-widgets/controls",
          "model_name": "ProgressStyleModel",
          "state": {
            "_view_name": "StyleView",
            "_model_name": "ProgressStyleModel",
            "description_width": "initial",
            "_view_module": "@jupyter-widgets/base",
            "_model_module_version": "1.5.0",
            "_view_count": null,
            "_view_module_version": "1.2.0",
            "bar_color": null,
            "_model_module": "@jupyter-widgets/controls"
          }
        },
        "e87462e3351e44afb8fec8af1ea1f3b0": {
          "model_module": "@jupyter-widgets/base",
          "model_name": "LayoutModel",
          "state": {
            "_view_name": "LayoutView",
            "grid_template_rows": null,
            "right": null,
            "justify_content": null,
            "_view_module": "@jupyter-widgets/base",
            "overflow": null,
            "_model_module_version": "1.2.0",
            "_view_count": null,
            "flex_flow": null,
            "width": null,
            "min_width": null,
            "border": null,
            "align_items": null,
            "bottom": null,
            "_model_module": "@jupyter-widgets/base",
            "top": null,
            "grid_column": null,
            "overflow_y": null,
            "overflow_x": null,
            "grid_auto_flow": null,
            "grid_area": null,
            "grid_template_columns": null,
            "flex": null,
            "_model_name": "LayoutModel",
            "justify_items": null,
            "grid_row": null,
            "max_height": null,
            "align_content": null,
            "visibility": null,
            "align_self": null,
            "height": null,
            "min_height": null,
            "padding": null,
            "grid_auto_rows": null,
            "grid_gap": null,
            "max_width": null,
            "order": null,
            "_view_module_version": "1.2.0",
            "grid_template_areas": null,
            "object_position": null,
            "object_fit": null,
            "grid_auto_columns": null,
            "margin": null,
            "display": null,
            "left": null
          }
        },
        "d6512c172050405fb9e8235a358d8945": {
          "model_module": "@jupyter-widgets/controls",
          "model_name": "DescriptionStyleModel",
          "state": {
            "_view_name": "StyleView",
            "_model_name": "DescriptionStyleModel",
            "description_width": "",
            "_view_module": "@jupyter-widgets/base",
            "_model_module_version": "1.5.0",
            "_view_count": null,
            "_view_module_version": "1.2.0",
            "_model_module": "@jupyter-widgets/controls"
          }
        },
        "b8926f654a2d43e9838029781f26bbf0": {
          "model_module": "@jupyter-widgets/base",
          "model_name": "LayoutModel",
          "state": {
            "_view_name": "LayoutView",
            "grid_template_rows": null,
            "right": null,
            "justify_content": null,
            "_view_module": "@jupyter-widgets/base",
            "overflow": null,
            "_model_module_version": "1.2.0",
            "_view_count": null,
            "flex_flow": null,
            "width": null,
            "min_width": null,
            "border": null,
            "align_items": null,
            "bottom": null,
            "_model_module": "@jupyter-widgets/base",
            "top": null,
            "grid_column": null,
            "overflow_y": null,
            "overflow_x": null,
            "grid_auto_flow": null,
            "grid_area": null,
            "grid_template_columns": null,
            "flex": null,
            "_model_name": "LayoutModel",
            "justify_items": null,
            "grid_row": null,
            "max_height": null,
            "align_content": null,
            "visibility": null,
            "align_self": null,
            "height": null,
            "min_height": null,
            "padding": null,
            "grid_auto_rows": null,
            "grid_gap": null,
            "max_width": null,
            "order": null,
            "_view_module_version": "1.2.0",
            "grid_template_areas": null,
            "object_position": null,
            "object_fit": null,
            "grid_auto_columns": null,
            "margin": null,
            "display": null,
            "left": null
          }
        }
      }
    }
  },
  "cells": [
    {
      "cell_type": "markdown",
      "metadata": {
        "id": "view-in-github",
        "colab_type": "text"
      },
      "source": [
        "<a href=\"https://colab.research.google.com/github/gibsonx/CE888/blob/master/Assignment/Assignment_2.ipynb\" target=\"_parent\"><img src=\"https://colab.research.google.com/assets/colab-badge.svg\" alt=\"Open In Colab\"/></a>"
      ]
    },
    {
      "cell_type": "markdown",
      "metadata": {
        "id": "4NzW2BbFzSdh"
      },
      "source": [
        "#A Comparative Study of Latest Models for TwitterSentiment Analysis (Assignment2)\n"
      ]
    },
    {
      "cell_type": "code",
      "metadata": {
        "id": "nk0hIUcdXpi2"
      },
      "source": [
        "# Silent installation \n",
        "!pip install -U tensorflow zhon transformers sentencepiece &> /dev/null\n",
        "# Download dataset and lib files from the github\n",
        "!git clone https://github.com/cardiffnlp/tweeteval.git &> /dev/null\n",
        "!git clone https://github.com/gibsonx/grocery.git &> /dev/null"
      ],
      "execution_count": 1,
      "outputs": []
    },
    {
      "cell_type": "code",
      "metadata": {
        "id": "8WFgb6kZXX8C",
        "colab": {
          "base_uri": "https://localhost:8080/"
        },
        "outputId": "f14b15ec-86a4-46ae-908e-45e85ce3593b"
      },
      "source": [
        "import sys\n",
        "import numpy as np\n",
        "import matplotlib.pyplot as plt\n",
        "import tensorflow as tf\n",
        "from tensorflow.keras import Input, layers, losses, preprocessing, utils\n",
        "from tensorflow.keras.callbacks import ModelCheckpoint\n",
        "from tensorflow.keras.models import Model\n",
        "from tensorflow.keras.optimizers import Adam\n",
        "from keras.layers.core import Dense\n",
        "from sklearn.metrics import accuracy_score, roc_auc_score, roc_curve,confusion_matrix,f1_score\n",
        "\n",
        "#Import customized classes and libraries from file\n",
        "sys.path.insert(0, '/content/grocery/')\n",
        "from CE888_Transformer import DataPrep, imbalance_under_sampling , create_model, get_tokenization, warmup\n",
        "from CustomizedPlots import *\n",
        "try:\n",
        "    %tensorflow_version 2.x\n",
        "except Exception:\n",
        "    pass\n",
        "print(\"Num GPUs Available: \", len(tf.config.list_physical_devices('GPU')))"
      ],
      "execution_count": 2,
      "outputs": [
        {
          "output_type": "stream",
          "text": [
            "Num GPUs Available:  1\n"
          ],
          "name": "stdout"
        }
      ]
    },
    {
      "cell_type": "markdown",
      "metadata": {
        "id": "1s7tr1fdFsKT"
      },
      "source": [
        "#Data nominalization for training , validation and test datasets (Hate, Irony and Offensive)"
      ]
    },
    {
      "cell_type": "code",
      "metadata": {
        "id": "hcveRCcrB1Kh",
        "colab": {
          "base_uri": "https://localhost:8080/",
          "height": 215
        },
        "outputId": "afc92247-6df0-4f1c-9e24-810428c53406"
      },
      "source": [
        "#Define the root folder where we put the datasets\n",
        "base_dir = '/content/tweeteval/datasets/'\n",
        "\n",
        "#Create hate dataframe\n",
        "hate = DataPrep(base_dir, 'hate') \n",
        "hate_dict_train, hate_dict_val, hate_dict_test = hate.dataframe()\n",
        "df_hate = hate.dataframe_merge()\n",
        "not_hate, hate = hate.binary_split()\n",
        "\n",
        "#Create irony dataframe\n",
        "irony = DataPrep(base_dir, 'irony') \n",
        "irony_dict_train, irony_dict_val, irony_dict_test = irony.dataframe()\n",
        "df_irony = irony.dataframe_merge()\n",
        "not_irony, irony = irony.binary_split()\n",
        "\n",
        "#Create offensive dataframe\n",
        "offensive = DataPrep(base_dir, 'offensive')\n",
        "offensive_dict_train, offensive_dict_val, offensive_dict_test = offensive.dataframe()\n",
        "df_offensive = offensive.dataframe_merge()\n",
        "not_offensive, offensive = offensive.binary_split()\n",
        "\n",
        "print(\"The sample of pre-precessed dataset is shown below:\")\n",
        "hate.head()"
      ],
      "execution_count": 3,
      "outputs": [
        {
          "output_type": "stream",
          "text": [
            "The sample of pre-precessed dataset is shown below:\n"
          ],
          "name": "stdout"
        },
        {
          "output_type": "execute_result",
          "data": {
            "text/html": [
              "<div>\n",
              "<style scoped>\n",
              "    .dataframe tbody tr th:only-of-type {\n",
              "        vertical-align: middle;\n",
              "    }\n",
              "\n",
              "    .dataframe tbody tr th {\n",
              "        vertical-align: top;\n",
              "    }\n",
              "\n",
              "    .dataframe thead th {\n",
              "        text-align: right;\n",
              "    }\n",
              "</style>\n",
              "<table border=\"1\" class=\"dataframe\">\n",
              "  <thead>\n",
              "    <tr style=\"text-align: right;\">\n",
              "      <th></th>\n",
              "      <th>text</th>\n",
              "      <th>label</th>\n",
              "    </tr>\n",
              "  </thead>\n",
              "  <tbody>\n",
              "    <tr>\n",
              "      <th>0</th>\n",
              "      <td>a woman who you fucked multiple times saying y...</td>\n",
              "      <td>1</td>\n",
              "    </tr>\n",
              "    <tr>\n",
              "      <th>1</th>\n",
              "      <td>real talk do you have eyes or were they gouge...</td>\n",
              "      <td>1</td>\n",
              "    </tr>\n",
              "    <tr>\n",
              "      <th>2</th>\n",
              "      <td>your girlfriend lookin at me like a groupie in...</td>\n",
              "      <td>1</td>\n",
              "    </tr>\n",
              "    <tr>\n",
              "      <th>3</th>\n",
              "      <td>i am not going after your ex bf you lieing sac...</td>\n",
              "      <td>1</td>\n",
              "    </tr>\n",
              "    <tr>\n",
              "      <th>4</th>\n",
              "      <td>send home migrants not in need of protection p...</td>\n",
              "      <td>1</td>\n",
              "    </tr>\n",
              "  </tbody>\n",
              "</table>\n",
              "</div>"
            ],
            "text/plain": [
              "                                                text  label\n",
              "0  a woman who you fucked multiple times saying y...      1\n",
              "1   real talk do you have eyes or were they gouge...      1\n",
              "2  your girlfriend lookin at me like a groupie in...      1\n",
              "3  i am not going after your ex bf you lieing sac...      1\n",
              "4  send home migrants not in need of protection p...      1"
            ]
          },
          "metadata": {
            "tags": []
          },
          "execution_count": 3
        }
      ]
    },
    {
      "cell_type": "markdown",
      "metadata": {
        "id": "l-jY5aKf6jfe"
      },
      "source": [
        "#The samples in the datasets are imbalance, so we make the training dataset balanced using function \"imbalance_under_sampling\""
      ]
    },
    {
      "cell_type": "code",
      "metadata": {
        "id": "37tWMzto2zE1",
        "colab": {
          "base_uri": "https://localhost:8080/",
          "height": 319
        },
        "outputId": "45210073-f606-40dc-df41-9cfc2f8662d5"
      },
      "source": [
        "Proportion_chart(df_hate,hate,not_hate,df_irony,irony,not_irony,df_offensive,offensive,not_offensive)"
      ],
      "execution_count": 4,
      "outputs": [
        {
          "output_type": "display_data",
          "data": {
            "image/png": "[encoded data removed]",
            "text/plain": [
              "<Figure size 1296x360 with 3 Axes>"
            ]
          },
          "metadata": {
            "tags": []
          }
        }
      ]
    },
    {
      "cell_type": "code",
      "metadata": {
        "id": "Cbnu5FmtMR1J"
      },
      "source": [
        "hate_dict_train = imbalance_under_sampling(hate_dict_train)\n",
        "irony_dict_train = imbalance_under_sampling(irony_dict_train)\n",
        "offensive_dict_train = imbalance_under_sampling(offensive_dict_train)"
      ],
      "execution_count": 5,
      "outputs": []
    },
    {
      "cell_type": "markdown",
      "metadata": {
        "id": "m56adpKPv0R0"
      },
      "source": [
        "#Downloading Models and Tokenizations from HuggingFace"
      ]
    },
    {
      "cell_type": "code",
      "metadata": {
        "id": "j_18embbHU9R",
        "colab": {
          "base_uri": "https://localhost:8080/",
          "height": 653,
          "referenced_widgets": [
            "12444822df8d4c849c6f6e5ae614cf1c",
            "ae03da1328ca4d9891f90b63d1320201",
            "a6c1248a5d3c46fc8028c2e060d156a9",
            "bcc70cba0da746ce89f3879747f609bd",
            "d060b3f588ec4bcb98023cbafd746885",
            "26aa67a70d2342459b2743c093fb7506",
            "4ba091d632974bdd8b42c78085b92fc9",
            "72d4b555d4554ecf81ad3235cf23f8d1",
            "7f633ffe27c4423f8b21d9bbb29f1de8",
            "68549d121f784f78a1aa5d159532f869",
            "0b2d5f0b54b946759c2c99bfdfe03846",
            "29d5295e702c4e769f888bb03fb47a36",
            "34325f990e534632804c322d5665983d",
            "a9ef2b9e060448849c36cc22fe214603",
            "b8f166f2e7244c84a2a8f450ba3a7d9e",
            "624ba1047c0c4fe2b3f70a8584d07557",
            "c3c9e127df364cdd88ab9722438a7161",
            "b280bd2b38e14bdb93e0a1f48e7db8d6",
            "e8de96f63d3c4d58b5e2005880477dd0",
            "3abfd31d07a04c378e47dad0c3308b57",
            "5ac693775ce04f639ab4aaefe6385165",
            "0c2695d6175e4bb586c6eb2d70487a63",
            "eb4fddba1e1640a7bb843887f998486c",
            "f808decbf75d4c0282b6325752fe3457",
            "3fc08160344d41f4a8a386df37c8d57a",
            "f45a26e4bb4545c3984bc4998b63241d",
            "17650c0066c04c538d7aee5ece221d6d",
            "66430c4dc60e45d9b8ebb36f9948cf93",
            "b77192aeae2e4c908cff37f75d637ac0",
            "f2aec88154a043d8890e53b5bc4bed0b",
            "81b8d5b1ccad40e7a1f344f87eb80a13",
            "afd71709c457484a9afbf4a0352c1ce1",
            "df50c8b42cef420e9485822ef0429a66",
            "614517016a66474b9cbb2c191fab2b17",
            "e15a7ee9222d4d5c80fc6a9ad92b2d6a",
            "0ca4178e2ace48e5955ae327f21f4273",
            "6f1de71d8cba41a796bedbfd21832352",
            "b163b6a2577a40388a60aac0c1944ddc",
            "56c5b8cfed3f40d1a018fe36ac54815c",
            "f9165a1404c6454cb6521d3b68156d05",
            "dd6ba567a4924129acf7eeb872277e6e",
            "657426654d604eb6ac18d7755393605b",
            "0fa0e949e34c424d8f6187e77226f509",
            "52a651cc4e614a44b1259d2ed421d808",
            "50c8f1d24029481290d62a17fb92daf8",
            "dcade32e558c441dbc0cdda163b83d3e",
            "f9cd133d92b74805968e82c42e687605",
            "ec81f73d8b9143d69ab0c4d4be4a6308",
            "05dd1cb1cefb4c6dad2118190702490d",
            "7fdbf49aa90747e3a8596c1d076a6bd5",
            "442b9a92c46d4f31a7705e4928fe61d8",
            "5eb5259702e04c838417d2df56f4cf9e",
            "0a4cafdabfaf414aab0543f5e4364aae",
            "a9fa4a0c95894eec952e685e2bb7cee3",
            "6319d700c05a424abf0bbb7f240b89ec",
            "ba44d7e669eb4d9bbd6c492a67dab73b",
            "4bfb8591fa0e434a99cebb5e5eceed00",
            "69fc9aa8f4bc4654b7cc820a53a9f637",
            "154bd0c7676d4083b329cb6494d9b797",
            "7e2bba973a3a430484a84b7cd800ba51",
            "0a9c8a37fd074b92b62f34d4e68d0756",
            "8efc14d70a0646d2b24d11b046ea5d3a",
            "9b6cac3dfdd8461ab4927d54f78d2ed9",
            "7f14190e2cc54b65aa4f9f2a4d52351b",
            "12d23db8b6f14291817a2d4d6cf9e161",
            "fec9714af516455795fd654f71e1b9d5",
            "11aa5e22ef544f0ea14f343ccde91479",
            "150f6f4c04b84064b188b68ffd77142e",
            "2351c720b4ee4644adea4e1c7bce1371",
            "e87462e3351e44afb8fec8af1ea1f3b0",
            "d6512c172050405fb9e8235a358d8945",
            "b8926f654a2d43e9838029781f26bbf0"
          ]
        },
        "outputId": "3139f176-24cd-47c6-fa13-f1568228b95b"
      },
      "source": [
        "from transformers import TFXLNetModel, XLNetTokenizer, TFDistilBertModel, DistilBertTokenizer\n",
        "\n",
        "xlnet_tokenizer = XLNetTokenizer.from_pretrained('xlnet-base-cased')\n",
        "xlnet_model = TFXLNetModel.from_pretrained('xlnet-base-cased')\n",
        "\n",
        "dbert_tokenizer = DistilBertTokenizer.from_pretrained('distilbert-base-uncased')\n",
        "dbert_model = TFDistilBertModel.from_pretrained('distilbert-base-uncased')\n",
        "\n",
        "for layer in xlnet_model.layers:\n",
        "    layer.trainable = True\n",
        "for layer in dbert_model.layers:\n",
        "    layer.trainable = True"
      ],
      "execution_count": 6,
      "outputs": [
        {
          "output_type": "display_data",
          "data": {
            "application/vnd.jupyter.widget-view+json": {
              "model_id": "12444822df8d4c849c6f6e5ae614cf1c",
              "version_minor": 0,
              "version_major": 2
            },
            "text/plain": [
              "HBox(children=(FloatProgress(value=0.0, description='Downloading', max=798011.0, style=ProgressStyle(descripti…"
            ]
          },
          "metadata": {
            "tags": []
          }
        },
        {
          "output_type": "stream",
          "text": [
            "\n"
          ],
          "name": "stdout"
        },
        {
          "output_type": "display_data",
          "data": {
            "application/vnd.jupyter.widget-view+json": {
              "model_id": "7f633ffe27c4423f8b21d9bbb29f1de8",
              "version_minor": 0,
              "version_major": 2
            },
            "text/plain": [
              "HBox(children=(FloatProgress(value=0.0, description='Downloading', max=1382015.0, style=ProgressStyle(descript…"
            ]
          },
          "metadata": {
            "tags": []
          }
        },
        {
          "output_type": "stream",
          "text": [
            "\n"
          ],
          "name": "stdout"
        },
        {
          "output_type": "display_data",
          "data": {
            "application/vnd.jupyter.widget-view+json": {
              "model_id": "c3c9e127df364cdd88ab9722438a7161",
              "version_minor": 0,
              "version_major": 2
            },
            "text/plain": [
              "HBox(children=(FloatProgress(value=0.0, description='Downloading', max=760.0, style=ProgressStyle(description_…"
            ]
          },
          "metadata": {
            "tags": []
          }
        },
        {
          "output_type": "stream",
          "text": [
            "\n"
          ],
          "name": "stdout"
        },
        {
          "output_type": "display_data",
          "data": {
            "application/vnd.jupyter.widget-view+json": {
              "model_id": "3fc08160344d41f4a8a386df37c8d57a",
              "version_minor": 0,
              "version_major": 2
            },
            "text/plain": [
              "HBox(children=(FloatProgress(value=0.0, description='Downloading', max=565485600.0, style=ProgressStyle(descri…"
            ]
          },
          "metadata": {
            "tags": []
          }
        },
        {
          "output_type": "stream",
          "text": [
            "\n"
          ],
          "name": "stdout"
        },
        {
          "output_type": "stream",
          "text": [
            "Some layers from the model checkpoint at xlnet-base-cased were not used when initializing TFXLNetModel: ['lm_loss']\n",
            "- This IS expected if you are initializing TFXLNetModel from the checkpoint of a model trained on another task or with another architecture (e.g. initializing a BertForSequenceClassification model from a BertForPreTraining model).\n",
            "- This IS NOT expected if you are initializing TFXLNetModel from the checkpoint of a model that you expect to be exactly identical (initializing a BertForSequenceClassification model from a BertForSequenceClassification model).\n",
            "All the layers of TFXLNetModel were initialized from the model checkpoint at xlnet-base-cased.\n",
            "If your task is similar to the task the model of the checkpoint was trained on, you can already use TFXLNetModel for predictions without further training.\n"
          ],
          "name": "stderr"
        },
        {
          "output_type": "display_data",
          "data": {
            "application/vnd.jupyter.widget-view+json": {
              "model_id": "df50c8b42cef420e9485822ef0429a66",
              "version_minor": 0,
              "version_major": 2
            },
            "text/plain": [
              "HBox(children=(FloatProgress(value=0.0, description='Downloading', max=231508.0, style=ProgressStyle(descripti…"
            ]
          },
          "metadata": {
            "tags": []
          }
        },
        {
          "output_type": "stream",
          "text": [
            "\n"
          ],
          "name": "stdout"
        },
        {
          "output_type": "display_data",
          "data": {
            "application/vnd.jupyter.widget-view+json": {
              "model_id": "dd6ba567a4924129acf7eeb872277e6e",
              "version_minor": 0,
              "version_major": 2
            },
            "text/plain": [
              "HBox(children=(FloatProgress(value=0.0, description='Downloading', max=28.0, style=ProgressStyle(description_w…"
            ]
          },
          "metadata": {
            "tags": []
          }
        },
        {
          "output_type": "stream",
          "text": [
            "\n"
          ],
          "name": "stdout"
        },
        {
          "output_type": "display_data",
          "data": {
            "application/vnd.jupyter.widget-view+json": {
              "model_id": "05dd1cb1cefb4c6dad2118190702490d",
              "version_minor": 0,
              "version_major": 2
            },
            "text/plain": [
              "HBox(children=(FloatProgress(value=0.0, description='Downloading', max=466062.0, style=ProgressStyle(descripti…"
            ]
          },
          "metadata": {
            "tags": []
          }
        },
        {
          "output_type": "stream",
          "text": [
            "\n"
          ],
          "name": "stdout"
        },
        {
          "output_type": "display_data",
          "data": {
            "application/vnd.jupyter.widget-view+json": {
              "model_id": "4bfb8591fa0e434a99cebb5e5eceed00",
              "version_minor": 0,
              "version_major": 2
            },
            "text/plain": [
              "HBox(children=(FloatProgress(value=0.0, description='Downloading', max=442.0, style=ProgressStyle(description_…"
            ]
          },
          "metadata": {
            "tags": []
          }
        },
        {
          "output_type": "stream",
          "text": [
            "\n"
          ],
          "name": "stdout"
        },
        {
          "output_type": "display_data",
          "data": {
            "application/vnd.jupyter.widget-view+json": {
              "model_id": "12d23db8b6f14291817a2d4d6cf9e161",
              "version_minor": 0,
              "version_major": 2
            },
            "text/plain": [
              "HBox(children=(FloatProgress(value=0.0, description='Downloading', max=363423424.0, style=ProgressStyle(descri…"
            ]
          },
          "metadata": {
            "tags": []
          }
        },
        {
          "output_type": "stream",
          "text": [
            "\n"
          ],
          "name": "stdout"
        },
        {
          "output_type": "stream",
          "text": [
            "Some layers from the model checkpoint at distilbert-base-uncased were not used when initializing TFDistilBertModel: ['vocab_projector', 'vocab_transform', 'activation_13', 'vocab_layer_norm']\n",
            "- This IS expected if you are initializing TFDistilBertModel from the checkpoint of a model trained on another task or with another architecture (e.g. initializing a BertForSequenceClassification model from a BertForPreTraining model).\n",
            "- This IS NOT expected if you are initializing TFDistilBertModel from the checkpoint of a model that you expect to be exactly identical (initializing a BertForSequenceClassification model from a BertForSequenceClassification model).\n",
            "All the layers of TFDistilBertModel were initialized from the model checkpoint at distilbert-base-uncased.\n",
            "If your task is similar to the task the model of the checkpoint was trained on, you can already use TFDistilBertModel for predictions without further training.\n"
          ],
          "name": "stderr"
        }
      ]
    },
    {
      "cell_type": "markdown",
      "metadata": {
        "id": "Rni4kvqHvD3X"
      },
      "source": [
        "#Word Embeddings using XLNet tokenizier, which consist of tokens and attention masks"
      ]
    },
    {
      "cell_type": "code",
      "metadata": {
        "id": "4LUW3oWeOYaA",
        "colab": {
          "base_uri": "https://localhost:8080/"
        },
        "outputId": "c4d159f9-b168-4167-91d6-5bcf6c91f924"
      },
      "source": [
        "#DistilBert Tokenizer\n",
        "dl_hate_train_input = get_tokenization(hate_dict_train['text'], dbert_tokenizer)\n",
        "dl_hate_val_input = get_tokenization(hate_dict_val['text'], dbert_tokenizer)\n",
        "dl_hate_test_input = get_tokenization(hate_dict_test['text'], dbert_tokenizer)\n",
        "\n",
        "dl_irony_train_input = get_tokenization(irony_dict_train['text'], dbert_tokenizer)\n",
        "dl_irony_val_input = get_tokenization(irony_dict_val['text'], dbert_tokenizer)\n",
        "dl_irony_test_input = get_tokenization(irony_dict_test['text'], dbert_tokenizer)\n",
        "\n",
        "dl_offensive_train_input = get_tokenization(offensive_dict_train['text'], xlnet_tokenizer)\n",
        "dl_offensive_val_input = get_tokenization(offensive_dict_val['text'], xlnet_tokenizer)\n",
        "dl_offensive_test_input = get_tokenization(offensive_dict_test['text'], xlnet_tokenizer)\n",
        "\n",
        "#XLNet Tokenizer\n",
        "xl_hate_train_input = get_tokenization(hate_dict_train['text'], xlnet_tokenizer)\n",
        "xl_hate_val_input = get_tokenization(hate_dict_val['text'], xlnet_tokenizer)\n",
        "xl_hate_test_input = get_tokenization(hate_dict_test['text'], xlnet_tokenizer)\n",
        "\n",
        "xl_irony_train_input = get_tokenization(irony_dict_train['text'], xlnet_tokenizer)\n",
        "xl_irony_val_input = get_tokenization(irony_dict_val['text'], xlnet_tokenizer)\n",
        "xl_irony_test_input = get_tokenization(irony_dict_test['text'], xlnet_tokenizer)\n",
        "\n",
        "xl_offensive_train_input = get_tokenization(offensive_dict_train['text'], xlnet_tokenizer)\n",
        "xl_offensive_val_input = get_tokenization(offensive_dict_val['text'], xlnet_tokenizer)\n",
        "xl_offensive_test_input = get_tokenization(offensive_dict_test['text'], xlnet_tokenizer)"
      ],
      "execution_count": 7,
      "outputs": [
        {
          "output_type": "stream",
          "text": [
            "Truncation was not explicitly activated but `max_length` is provided a specific value, please use `truncation=True` to explicitly truncate examples to max length. Defaulting to 'longest_first' truncation strategy. If you encode pairs of sequences (GLUE-style) with the tokenizer you can select this strategy more precisely by providing a specific strategy to `truncation`.\n",
            "/usr/local/lib/python3.7/dist-packages/transformers/tokenization_utils_base.py:2079: FutureWarning: The `pad_to_max_length` argument is deprecated and will be removed in a future version, use `padding=True` or `padding='longest'` to pad to the longest sequence in the batch, or use `padding='max_length'` to pad to a max length. In this case, you can give a specific length with `max_length` (e.g. `max_length=45`) or leave max_length to None to pad to the maximal input size of the model (e.g. 512 for Bert).\n",
            "  FutureWarning,\n",
            "Truncation was not explicitly activated but `max_length` is provided a specific value, please use `truncation=True` to explicitly truncate examples to max length. Defaulting to 'longest_first' truncation strategy. If you encode pairs of sequences (GLUE-style) with the tokenizer you can select this strategy more precisely by providing a specific strategy to `truncation`.\n"
          ],
          "name": "stderr"
        }
      ]
    },
    {
      "cell_type": "markdown",
      "metadata": {
        "id": "4uhPp5NPva-C"
      },
      "source": [
        "#Apply DistilBert as the 1st model to predict classifcation.\n"
      ]
    },
    {
      "cell_type": "code",
      "metadata": {
        "colab": {
          "base_uri": "https://localhost:8080/"
        },
        "id": "WhKOF0i_HdE-",
        "outputId": "7b4d53aa-711f-46cd-d019-096d80d57642"
      },
      "source": [
        "DistilBert_hate = create_model(dbert_model)\n",
        "DistilBert_hate.summary()"
      ],
      "execution_count": null,
      "outputs": [
        {
          "output_type": "stream",
          "text": [
            "WARNING:tensorflow:The parameters `output_attentions`, `output_hidden_states` and `use_cache` cannot be updated when calling a model.They have to be set to True/False in the config object (i.e.: `config=XConfig.from_pretrained('name', output_attentions=True)`).\n",
            "WARNING:tensorflow:AutoGraph could not transform <bound method Socket.send of <zmq.sugar.socket.Socket object at 0x7f552cedfd70>> and will run it as-is.\n",
            "Please report this to the TensorFlow team. When filing the bug, set the verbosity to 10 (on Linux, `export AUTOGRAPH_VERBOSITY=10`) and attach the full output.\n",
            "Cause: module, class, method, function, traceback, frame, or code object was expected, got cython_function_or_method\n",
            "To silence this warning, decorate the function with @tf.autograph.experimental.do_not_convert\n",
            "WARNING: AutoGraph could not transform <bound method Socket.send of <zmq.sugar.socket.Socket object at 0x7f552cedfd70>> and will run it as-is.\n",
            "Please report this to the TensorFlow team. When filing the bug, set the verbosity to 10 (on Linux, `export AUTOGRAPH_VERBOSITY=10`) and attach the full output.\n",
            "Cause: module, class, method, function, traceback, frame, or code object was expected, got cython_function_or_method\n",
            "To silence this warning, decorate the function with @tf.autograph.experimental.do_not_convert\n",
            "WARNING:tensorflow:AutoGraph could not transform <function wrap at 0x7f555878cc20> and will run it as-is.\n",
            "Cause: while/else statement not yet supported\n",
            "To silence this warning, decorate the function with @tf.autograph.experimental.do_not_convert\n",
            "WARNING: AutoGraph could not transform <function wrap at 0x7f555878cc20> and will run it as-is.\n",
            "Cause: while/else statement not yet supported\n",
            "To silence this warning, decorate the function with @tf.autograph.experimental.do_not_convert\n",
            "WARNING:tensorflow:The parameter `return_dict` cannot be set in graph mode and will always be set to `True`.\n",
            "Model: \"model\"\n",
            "__________________________________________________________________________________________________\n",
            "Layer (type)                    Output Shape         Param #     Connected to                     \n",
            "==================================================================================================\n",
            "word_ids (InputLayer)           [(None, 120)]        0                                            \n",
            "__________________________________________________________________________________________________\n",
            "word_attention (InputLayer)     [(None, 120)]        0                                            \n",
            "__________________________________________________________________________________________________\n",
            "tf_distil_bert_model (TFDistilB TFBaseModelOutput(la 66362880    word_ids[0][0]                   \n",
            "                                                                 word_attention[0][0]             \n",
            "__________________________________________________________________________________________________\n",
            "tf.__operators__.getitem (Slici (None, 1, 768)       0           tf_distil_bert_model[0][0]       \n",
            "__________________________________________________________________________________________________\n",
            "tf.compat.v1.squeeze (TFOpLambd (None, 768)          0           tf.__operators__.getitem[0][0]   \n",
            "__________________________________________________________________________________________________\n",
            "encoding (Dense)                (None, 32)           24608       tf.compat.v1.squeeze[0][0]       \n",
            "__________________________________________________________________________________________________\n",
            "dropout_56 (Dropout)            (None, 32)           0           encoding[0][0]                   \n",
            "__________________________________________________________________________________________________\n",
            "outputs (Dense)                 (None, 1)            33          dropout_56[0][0]                 \n",
            "==================================================================================================\n",
            "Total params: 66,387,521\n",
            "Trainable params: 66,387,521\n",
            "Non-trainable params: 0\n",
            "__________________________________________________________________________________________________\n"
          ],
          "name": "stdout"
        }
      ]
    },
    {
      "cell_type": "markdown",
      "metadata": {
        "id": "yV7jZ6-MwFg0"
      },
      "source": [
        "#CallBacks for all attempts of training"
      ]
    },
    {
      "cell_type": "code",
      "metadata": {
        "id": "_WhwGNpZPVhV"
      },
      "source": [
        "callbacks = [\n",
        "    tf.keras.callbacks.EarlyStopping(monitor='loss', patience=4, min_delta=0.001, restore_best_weights=True),\n",
        "    tf.keras.callbacks.LearningRateScheduler(warmup, verbose=0),\n",
        "    tf.keras.callbacks.ReduceLROnPlateau(monitor='val_accuracy', factor=1e-6, patience=2, verbose=0, mode='auto', min_delta=0.001, cooldown=0, min_lr=1e-6)\n",
        "]"
      ],
      "execution_count": 8,
      "outputs": []
    },
    {
      "cell_type": "code",
      "metadata": {
        "colab": {
          "base_uri": "https://localhost:8080/"
        },
        "id": "wKcm9zTpPW6k",
        "outputId": "5a60844e-0091-4fdc-ec26-ebe4884d403d"
      },
      "source": [
        "hist_dl_hate = DistilBert_hate.fit(x=dl_hate_train_input, y=hate_dict_train.label, epochs=25, batch_size=16, validation_data=(dl_hate_val_input, hate_dict_val.label), callbacks=callbacks)"
      ],
      "execution_count": null,
      "outputs": [
        {
          "output_type": "stream",
          "text": [
            "Epoch 1/25\n",
            "WARNING:tensorflow:The parameters `output_attentions`, `output_hidden_states` and `use_cache` cannot be updated when calling a model.They have to be set to True/False in the config object (i.e.: `config=XConfig.from_pretrained('name', output_attentions=True)`).\n",
            "WARNING:tensorflow:The parameter `return_dict` cannot be set in graph mode and will always be set to `True`.\n",
            "WARNING:tensorflow:The parameters `output_attentions`, `output_hidden_states` and `use_cache` cannot be updated when calling a model.They have to be set to True/False in the config object (i.e.: `config=XConfig.from_pretrained('name', output_attentions=True)`).\n",
            "WARNING:tensorflow:The parameter `return_dict` cannot be set in graph mode and will always be set to `True`.\n",
            "473/473 [==============================] - ETA: 0s - loss: 0.6156 - accuracy: 0.6490 - precision: 0.6474 - recall: 0.6703WARNING:tensorflow:The parameters `output_attentions`, `output_hidden_states` and `use_cache` cannot be updated when calling a model.They have to be set to True/False in the config object (i.e.: `config=XConfig.from_pretrained('name', output_attentions=True)`).\n",
            "WARNING:tensorflow:The parameter `return_dict` cannot be set in graph mode and will always be set to `True`.\n",
            "473/473 [==============================] - 49s 86ms/step - loss: 0.6155 - accuracy: 0.6492 - precision: 0.6476 - recall: 0.6704 - val_loss: 0.5422 - val_accuracy: 0.7150 - val_precision: 0.6443 - val_recall: 0.7424\n",
            "Epoch 2/25\n",
            "473/473 [==============================] - 39s 82ms/step - loss: 0.3983 - accuracy: 0.8241 - precision: 0.8153 - recall: 0.8260 - val_loss: 0.5826 - val_accuracy: 0.7280 - val_precision: 0.6765 - val_recall: 0.6956\n",
            "Epoch 3/25\n",
            "473/473 [==============================] - 39s 82ms/step - loss: 0.2369 - accuracy: 0.9047 - precision: 0.9021 - recall: 0.9075 - val_loss: 0.7046 - val_accuracy: 0.7220 - val_precision: 0.6464 - val_recall: 0.7705\n",
            "Epoch 4/25\n",
            "473/473 [==============================] - 39s 82ms/step - loss: 0.1189 - accuracy: 0.9556 - precision: 0.9534 - recall: 0.9586 - val_loss: 0.9575 - val_accuracy: 0.7270 - val_precision: 0.6410 - val_recall: 0.8197\n",
            "Epoch 5/25\n",
            "473/473 [==============================] - 39s 82ms/step - loss: 0.0579 - accuracy: 0.9808 - precision: 0.9816 - recall: 0.9805 - val_loss: 1.0743 - val_accuracy: 0.7260 - val_precision: 0.6617 - val_recall: 0.7330\n",
            "Epoch 6/25\n",
            "473/473 [==============================] - 39s 82ms/step - loss: 0.0443 - accuracy: 0.9858 - precision: 0.9868 - recall: 0.9852 - val_loss: 1.3035 - val_accuracy: 0.7280 - val_precision: 0.6541 - val_recall: 0.7705\n",
            "Epoch 7/25\n",
            "473/473 [==============================] - 39s 82ms/step - loss: 0.0235 - accuracy: 0.9927 - precision: 0.9930 - recall: 0.9922 - val_loss: 1.3173 - val_accuracy: 0.7310 - val_precision: 0.6561 - val_recall: 0.7775\n",
            "Epoch 8/25\n",
            "473/473 [==============================] - 39s 82ms/step - loss: 0.0256 - accuracy: 0.9912 - precision: 0.9928 - recall: 0.9896 - val_loss: 1.1671 - val_accuracy: 0.7260 - val_precision: 0.6452 - val_recall: 0.7963\n",
            "Epoch 9/25\n",
            "473/473 [==============================] - 39s 82ms/step - loss: 0.0268 - accuracy: 0.9903 - precision: 0.9912 - recall: 0.9890 - val_loss: 1.3570 - val_accuracy: 0.7300 - val_precision: 0.6674 - val_recall: 0.7330\n",
            "Epoch 10/25\n",
            "473/473 [==============================] - 39s 82ms/step - loss: 0.0277 - accuracy: 0.9916 - precision: 0.9943 - recall: 0.9888 - val_loss: 1.4165 - val_accuracy: 0.7210 - val_precision: 0.6462 - val_recall: 0.7658\n",
            "Epoch 11/25\n",
            "473/473 [==============================] - 39s 82ms/step - loss: 0.0112 - accuracy: 0.9957 - precision: 0.9958 - recall: 0.9956 - val_loss: 1.3314 - val_accuracy: 0.7140 - val_precision: 0.6343 - val_recall: 0.7799\n",
            "Epoch 12/25\n",
            "473/473 [==============================] - 39s 82ms/step - loss: 0.0151 - accuracy: 0.9931 - precision: 0.9947 - recall: 0.9916 - val_loss: 1.7025 - val_accuracy: 0.7020 - val_precision: 0.6122 - val_recall: 0.8244\n",
            "Epoch 13/25\n",
            "473/473 [==============================] - 39s 82ms/step - loss: 0.0185 - accuracy: 0.9936 - precision: 0.9937 - recall: 0.9935 - val_loss: 1.5991 - val_accuracy: 0.7170 - val_precision: 0.6379 - val_recall: 0.7799\n",
            "Epoch 14/25\n",
            "473/473 [==============================] - 39s 82ms/step - loss: 0.0142 - accuracy: 0.9947 - precision: 0.9956 - recall: 0.9938 - val_loss: 1.6696 - val_accuracy: 0.7250 - val_precision: 0.6638 - val_recall: 0.7213\n",
            "Epoch 15/25\n",
            "473/473 [==============================] - 39s 82ms/step - loss: 0.0156 - accuracy: 0.9949 - precision: 0.9956 - recall: 0.9940 - val_loss: 1.9820 - val_accuracy: 0.7160 - val_precision: 0.6302 - val_recall: 0.8103\n",
            "Epoch 16/25\n",
            "473/473 [==============================] - 39s 82ms/step - loss: 0.0157 - accuracy: 0.9954 - precision: 0.9952 - recall: 0.9955 - val_loss: 1.7073 - val_accuracy: 0.7300 - val_precision: 0.6703 - val_recall: 0.7237\n",
            "Epoch 17/25\n",
            "473/473 [==============================] - 39s 82ms/step - loss: 0.0091 - accuracy: 0.9972 - precision: 0.9983 - recall: 0.9962 - val_loss: 1.7425 - val_accuracy: 0.7210 - val_precision: 0.6407 - val_recall: 0.7892\n",
            "Epoch 18/25\n",
            "473/473 [==============================] - 39s 82ms/step - loss: 0.0121 - accuracy: 0.9945 - precision: 0.9967 - recall: 0.9929 - val_loss: 1.6026 - val_accuracy: 0.7470 - val_precision: 0.7219 - val_recall: 0.6628\n",
            "Epoch 19/25\n",
            "473/473 [==============================] - 39s 82ms/step - loss: 0.0121 - accuracy: 0.9960 - precision: 0.9976 - recall: 0.9944 - val_loss: 1.9550 - val_accuracy: 0.7460 - val_precision: 0.6747 - val_recall: 0.7822\n",
            "Epoch 20/25\n",
            "473/473 [==============================] - 39s 82ms/step - loss: 0.0236 - accuracy: 0.9916 - precision: 0.9927 - recall: 0.9910 - val_loss: 1.5454 - val_accuracy: 0.7280 - val_precision: 0.6493 - val_recall: 0.7892\n",
            "Epoch 21/25\n",
            "473/473 [==============================] - 39s 82ms/step - loss: 0.0173 - accuracy: 0.9933 - precision: 0.9944 - recall: 0.9921 - val_loss: 1.3928 - val_accuracy: 0.7530 - val_precision: 0.7143 - val_recall: 0.7026\n",
            "Epoch 22/25\n",
            "473/473 [==============================] - 39s 82ms/step - loss: 0.0094 - accuracy: 0.9960 - precision: 0.9974 - recall: 0.9946 - val_loss: 1.6961 - val_accuracy: 0.7400 - val_precision: 0.6634 - val_recall: 0.7939\n",
            "Epoch 23/25\n",
            "473/473 [==============================] - 39s 82ms/step - loss: 0.0103 - accuracy: 0.9961 - precision: 0.9969 - recall: 0.9952 - val_loss: 1.4679 - val_accuracy: 0.7490 - val_precision: 0.6973 - val_recall: 0.7283\n"
          ],
          "name": "stdout"
        }
      ]
    },
    {
      "cell_type": "code",
      "metadata": {
        "colab": {
          "base_uri": "https://localhost:8080/"
        },
        "id": "-FsN50b505Ij",
        "outputId": "7244010d-bc9d-4e60-9225-a8a1b8113904"
      },
      "source": [
        "preds_dl_hate = DistilBert_hate.predict(dl_hate_test_input, verbose=True)"
      ],
      "execution_count": null,
      "outputs": [
        {
          "output_type": "stream",
          "text": [
            "WARNING:tensorflow:The parameters `output_attentions`, `output_hidden_states` and `use_cache` cannot be updated when calling a model.They have to be set to True/False in the config object (i.e.: `config=XConfig.from_pretrained('name', output_attentions=True)`).\n",
            "WARNING:tensorflow:The parameter `return_dict` cannot be set in graph mode and will always be set to `True`.\n",
            "93/93 [==============================] - 6s 46ms/step\n"
          ],
          "name": "stdout"
        }
      ]
    },
    {
      "cell_type": "code",
      "metadata": {
        "colab": {
          "base_uri": "https://localhost:8080/",
          "height": 467
        },
        "id": "HXaU8imwHI9u",
        "outputId": "4cca2cf5-eec7-4d38-a801-941088e8f29b"
      },
      "source": [
        "hate_pred_dl_label = [i[0] for i in preds_dl_hate.round().astype(int)]\n",
        "cm = confusion_matrix(hate_dict_test.label,hate_pred_dl_label)\n",
        "plot_confusion_matrix(cm, normalize=False,target_names=['Not_hate', 'Hate'],title=\"DistilBert Confusion Matrix for Hate\")"
      ],
      "execution_count": null,
      "outputs": [
        {
          "output_type": "display_data",
          "data": {
            "image/png": "[encoded data removed]",
            "text/plain": [
              "<Figure size 576x432 with 2 Axes>"
            ]
          },
          "metadata": {
            "tags": [],
            "needs_background": "light"
          }
        }
      ]
    },
    {
      "cell_type": "code",
      "metadata": {
        "id": "T0yeLXBX2J1s",
        "colab": {
          "base_uri": "https://localhost:8080/"
        },
        "outputId": "7f2b29a5-225e-4b3d-a58e-8a681060433a"
      },
      "source": [
        "f1_dl_hate = f1_score(hate_dict_test.label,hate_pred_dl_label,average='macro')\n",
        "print(\"F1_score of Hate dataset with DistilBert is: %.1f%%\" % round(f1_dl_hate*100,1))"
      ],
      "execution_count": null,
      "outputs": [
        {
          "output_type": "stream",
          "text": [
            "F1_score of Hate dataset with DistilBert is: 54.8%\n"
          ],
          "name": "stdout"
        }
      ]
    },
    {
      "cell_type": "code",
      "metadata": {
        "colab": {
          "base_uri": "https://localhost:8080/"
        },
        "id": "q7rfxgAnHb-i",
        "outputId": "67135ed4-30b0-4343-d7e6-5156553b02ab"
      },
      "source": [
        "DistilBert_irony = create_model(dbert_model)\n",
        "hist_irony = DistilBert_irony.fit(x=dl_irony_train_input, y=irony_dict_train.label, epochs=25, batch_size=16, validation_data=(dl_irony_val_input, irony_dict_val.label), callbacks=callbacks)"
      ],
      "execution_count": null,
      "outputs": [
        {
          "output_type": "stream",
          "text": [
            "WARNING:tensorflow:The parameters `output_attentions`, `output_hidden_states` and `use_cache` cannot be updated when calling a model.They have to be set to True/False in the config object (i.e.: `config=XConfig.from_pretrained('name', output_attentions=True)`).\n",
            "WARNING:tensorflow:The parameter `return_dict` cannot be set in graph mode and will always be set to `True`.\n",
            "Epoch 1/25\n",
            "WARNING:tensorflow:The parameters `output_attentions`, `output_hidden_states` and `use_cache` cannot be updated when calling a model.They have to be set to True/False in the config object (i.e.: `config=XConfig.from_pretrained('name', output_attentions=True)`).\n",
            "WARNING:tensorflow:The parameter `return_dict` cannot be set in graph mode and will always be set to `True`.\n",
            "WARNING:tensorflow:The parameters `output_attentions`, `output_hidden_states` and `use_cache` cannot be updated when calling a model.They have to be set to True/False in the config object (i.e.: `config=XConfig.from_pretrained('name', output_attentions=True)`).\n",
            "WARNING:tensorflow:The parameter `return_dict` cannot be set in graph mode and will always be set to `True`.\n",
            "177/178 [============================>.] - ETA: 0s - loss: 0.7034 - accuracy: 0.5631 - precision_1: 0.5557 - recall_1: 0.5650WARNING:tensorflow:The parameters `output_attentions`, `output_hidden_states` and `use_cache` cannot be updated when calling a model.They have to be set to True/False in the config object (i.e.: `config=XConfig.from_pretrained('name', output_attentions=True)`).\n",
            "WARNING:tensorflow:The parameter `return_dict` cannot be set in graph mode and will always be set to `True`.\n",
            "178/178 [==============================] - 25s 98ms/step - loss: 0.7032 - accuracy: 0.5633 - precision_1: 0.5560 - recall_1: 0.5651 - val_loss: 0.6611 - val_accuracy: 0.5937 - val_precision_1: 0.5491 - val_recall_1: 0.8333\n",
            "Epoch 2/25\n",
            "178/178 [==============================] - 16s 88ms/step - loss: 0.5547 - accuracy: 0.7046 - precision_1: 0.6969 - recall_1: 0.7311 - val_loss: 0.6322 - val_accuracy: 0.6639 - val_precision_1: 0.6718 - val_recall_1: 0.5789\n",
            "Epoch 3/25\n",
            "178/178 [==============================] - 16s 88ms/step - loss: 0.3380 - accuracy: 0.8673 - precision_1: 0.8795 - recall_1: 0.8466 - val_loss: 0.7639 - val_accuracy: 0.6419 - val_precision_1: 0.6000 - val_recall_1: 0.7500\n",
            "Epoch 4/25\n",
            "178/178 [==============================] - 16s 88ms/step - loss: 0.1457 - accuracy: 0.9529 - precision_1: 0.9574 - recall_1: 0.9472 - val_loss: 1.0429 - val_accuracy: 0.6272 - val_precision_1: 0.5828 - val_recall_1: 0.7719\n",
            "Epoch 5/25\n",
            "178/178 [==============================] - 16s 88ms/step - loss: 0.0556 - accuracy: 0.9885 - precision_1: 0.9907 - recall_1: 0.9857 - val_loss: 1.4000 - val_accuracy: 0.6157 - val_precision_1: 0.5701 - val_recall_1: 0.7939\n",
            "Epoch 6/25\n",
            "178/178 [==============================] - 16s 88ms/step - loss: 0.0342 - accuracy: 0.9869 - precision_1: 0.9870 - recall_1: 0.9865 - val_loss: 1.2830 - val_accuracy: 0.6503 - val_precision_1: 0.6260 - val_recall_1: 0.6645\n",
            "Epoch 7/25\n",
            "178/178 [==============================] - 16s 88ms/step - loss: 0.0238 - accuracy: 0.9902 - precision_1: 0.9916 - recall_1: 0.9887 - val_loss: 1.4356 - val_accuracy: 0.6377 - val_precision_1: 0.5996 - val_recall_1: 0.7259\n",
            "Epoch 8/25\n",
            "178/178 [==============================] - 16s 88ms/step - loss: 0.0220 - accuracy: 0.9967 - precision_1: 0.9989 - recall_1: 0.9943 - val_loss: 1.6766 - val_accuracy: 0.6335 - val_precision_1: 0.5936 - val_recall_1: 0.7368\n",
            "Epoch 9/25\n",
            "178/178 [==============================] - 16s 88ms/step - loss: 0.0193 - accuracy: 0.9955 - precision_1: 0.9972 - recall_1: 0.9937 - val_loss: 1.6611 - val_accuracy: 0.6429 - val_precision_1: 0.6059 - val_recall_1: 0.7215\n",
            "Epoch 10/25\n",
            "178/178 [==============================] - 16s 88ms/step - loss: 0.0088 - accuracy: 0.9976 - precision_1: 0.9981 - recall_1: 0.9972 - val_loss: 1.7730 - val_accuracy: 0.6429 - val_precision_1: 0.6051 - val_recall_1: 0.7259\n",
            "Epoch 11/25\n",
            "178/178 [==============================] - 16s 88ms/step - loss: 0.0140 - accuracy: 0.9946 - precision_1: 0.9950 - recall_1: 0.9944 - val_loss: 1.7639 - val_accuracy: 0.6492 - val_precision_1: 0.6193 - val_recall_1: 0.6886\n",
            "Epoch 12/25\n",
            "178/178 [==============================] - 16s 88ms/step - loss: 0.0140 - accuracy: 0.9949 - precision_1: 0.9960 - recall_1: 0.9939 - val_loss: 1.9082 - val_accuracy: 0.6597 - val_precision_1: 0.6728 - val_recall_1: 0.5592\n",
            "Epoch 13/25\n",
            "178/178 [==============================] - 16s 88ms/step - loss: 0.0171 - accuracy: 0.9941 - precision_1: 0.9956 - recall_1: 0.9924 - val_loss: 1.6400 - val_accuracy: 0.6387 - val_precision_1: 0.6082 - val_recall_1: 0.6842\n",
            "Epoch 14/25\n",
            "178/178 [==============================] - 16s 88ms/step - loss: 0.0165 - accuracy: 0.9945 - precision_1: 0.9951 - recall_1: 0.9941 - val_loss: 1.9251 - val_accuracy: 0.6440 - val_precision_1: 0.6111 - val_recall_1: 0.6996\n"
          ],
          "name": "stdout"
        }
      ]
    },
    {
      "cell_type": "code",
      "metadata": {
        "colab": {
          "base_uri": "https://localhost:8080/"
        },
        "id": "UTwy1LkDHooF",
        "outputId": "c0821837-6df5-48b9-d8ac-dc659a440940"
      },
      "source": [
        "preds_dl_irony = DistilBert_irony.predict(dl_irony_test_input, verbose=True)"
      ],
      "execution_count": null,
      "outputs": [
        {
          "output_type": "stream",
          "text": [
            "WARNING:tensorflow:The parameters `output_attentions`, `output_hidden_states` and `use_cache` cannot be updated when calling a model.They have to be set to True/False in the config object (i.e.: `config=XConfig.from_pretrained('name', output_attentions=True)`).\n",
            "WARNING:tensorflow:The parameter `return_dict` cannot be set in graph mode and will always be set to `True`.\n",
            "25/25 [==============================] - 3s 46ms/step\n"
          ],
          "name": "stdout"
        }
      ]
    },
    {
      "cell_type": "code",
      "metadata": {
        "colab": {
          "base_uri": "https://localhost:8080/",
          "height": 467
        },
        "id": "6yanVWo7Hpz1",
        "outputId": "44cb2ffd-2325-4d76-f9a0-e534a564582a"
      },
      "source": [
        "irony_pred_dl_label = [i[0] for i in preds_dl_irony.round().astype(int)]\n",
        "cm = confusion_matrix(irony_dict_test.label,irony_pred_dl_label)\n",
        "plot_confusion_matrix(cm, normalize=False,target_names=['Not_irony', 'Irony'],title=\"DistilBert Confusion Matrix for Irony\")"
      ],
      "execution_count": null,
      "outputs": [
        {
          "output_type": "display_data",
          "data": {
            "image/png": "[encoded data removed]",
            "text/plain": [
              "<Figure size 576x432 with 2 Axes>"
            ]
          },
          "metadata": {
            "tags": [],
            "needs_background": "light"
          }
        }
      ]
    },
    {
      "cell_type": "code",
      "metadata": {
        "id": "2gCT8T532GxO",
        "colab": {
          "base_uri": "https://localhost:8080/"
        },
        "outputId": "34ea4da2-1fe2-4017-9923-9a0cf78a6fa7"
      },
      "source": [
        "f1_dl_irony = f1_score(irony_dict_test.label,irony_pred_dl_label,average='macro')\n",
        "print(\"F1_score of irony dataset with DistilBert is: %.1f%%\" % round(f1_dl_irony*100,1))"
      ],
      "execution_count": null,
      "outputs": [
        {
          "output_type": "stream",
          "text": [
            "F1_score of irony dataset with DistilBert is: 59.5%\n"
          ],
          "name": "stdout"
        }
      ]
    },
    {
      "cell_type": "code",
      "metadata": {
        "colab": {
          "base_uri": "https://localhost:8080/"
        },
        "id": "E0IDd7q5RM58",
        "outputId": "f2b23be9-6a67-47bf-eb47-f1d0d62294a2"
      },
      "source": [
        "DistilBert_offensive = create_model(dbert_model)\n",
        "hist_dl_offensive = DistilBert_offensive.fit(x=dl_offensive_train_input, y=offensive_dict_train.label, epochs=25, batch_size=16, validation_data=(dl_offensive_val_input, offensive_dict_val.label), callbacks=callbacks)"
      ],
      "execution_count": 9,
      "outputs": [
        {
          "output_type": "stream",
          "text": [
            "WARNING:tensorflow:The parameters `output_attentions`, `output_hidden_states` and `use_cache` cannot be updated when calling a model.They have to be set to True/False in the config object (i.e.: `config=XConfig.from_pretrained('name', output_attentions=True)`).\n",
            "WARNING:tensorflow:AutoGraph could not transform <bound method Socket.send of <zmq.sugar.socket.Socket object at 0x7f9a21330d70>> and will run it as-is.\n",
            "Please report this to the TensorFlow team. When filing the bug, set the verbosity to 10 (on Linux, `export AUTOGRAPH_VERBOSITY=10`) and attach the full output.\n",
            "Cause: module, class, method, function, traceback, frame, or code object was expected, got cython_function_or_method\n",
            "To silence this warning, decorate the function with @tf.autograph.experimental.do_not_convert\n",
            "WARNING: AutoGraph could not transform <bound method Socket.send of <zmq.sugar.socket.Socket object at 0x7f9a21330d70>> and will run it as-is.\n",
            "Please report this to the TensorFlow team. When filing the bug, set the verbosity to 10 (on Linux, `export AUTOGRAPH_VERBOSITY=10`) and attach the full output.\n",
            "Cause: module, class, method, function, traceback, frame, or code object was expected, got cython_function_or_method\n",
            "To silence this warning, decorate the function with @tf.autograph.experimental.do_not_convert\n",
            "WARNING:tensorflow:AutoGraph could not transform <function wrap at 0x7f9a4cbdcc20> and will run it as-is.\n",
            "Cause: while/else statement not yet supported\n",
            "To silence this warning, decorate the function with @tf.autograph.experimental.do_not_convert\n",
            "WARNING: AutoGraph could not transform <function wrap at 0x7f9a4cbdcc20> and will run it as-is.\n",
            "Cause: while/else statement not yet supported\n",
            "To silence this warning, decorate the function with @tf.autograph.experimental.do_not_convert\n",
            "WARNING:tensorflow:The parameter `return_dict` cannot be set in graph mode and will always be set to `True`.\n",
            "Epoch 1/25\n",
            "WARNING:tensorflow:The parameters `output_attentions`, `output_hidden_states` and `use_cache` cannot be updated when calling a model.They have to be set to True/False in the config object (i.e.: `config=XConfig.from_pretrained('name', output_attentions=True)`).\n",
            "WARNING:tensorflow:The parameter `return_dict` cannot be set in graph mode and will always be set to `True`.\n",
            "WARNING:tensorflow:The parameters `output_attentions`, `output_hidden_states` and `use_cache` cannot be updated when calling a model.They have to be set to True/False in the config object (i.e.: `config=XConfig.from_pretrained('name', output_attentions=True)`).\n",
            "WARNING:tensorflow:The parameter `return_dict` cannot be set in graph mode and will always be set to `True`.\n",
            "493/493 [==============================] - ETA: 0s - loss: 0.6864 - accuracy: 0.5597 - precision: 0.5423 - recall: 0.5523WARNING:tensorflow:The parameters `output_attentions`, `output_hidden_states` and `use_cache` cannot be updated when calling a model.They have to be set to True/False in the config object (i.e.: `config=XConfig.from_pretrained('name', output_attentions=True)`).\n",
            "WARNING:tensorflow:The parameter `return_dict` cannot be set in graph mode and will always be set to `True`.\n",
            "493/493 [==============================] - 50s 86ms/step - loss: 0.6863 - accuracy: 0.5598 - precision: 0.5424 - recall: 0.5525 - val_loss: 0.6133 - val_accuracy: 0.6594 - val_precision: 0.5074 - val_recall: 0.5991\n",
            "Epoch 2/25\n",
            "493/493 [==============================] - 40s 82ms/step - loss: 0.5884 - accuracy: 0.6729 - precision: 0.6837 - recall: 0.6313 - val_loss: 0.6410 - val_accuracy: 0.5959 - val_precision: 0.4562 - val_recall: 0.8627\n",
            "Epoch 3/25\n",
            "493/493 [==============================] - 40s 82ms/step - loss: 0.4952 - accuracy: 0.7698 - precision: 0.7674 - recall: 0.7762 - val_loss: 0.6361 - val_accuracy: 0.6903 - val_precision: 0.5408 - val_recall: 0.7081\n",
            "Epoch 4/25\n",
            "493/493 [==============================] - 41s 82ms/step - loss: 0.3658 - accuracy: 0.8463 - precision: 0.8540 - recall: 0.8365 - val_loss: 0.6671 - val_accuracy: 0.7069 - val_precision: 0.5726 - val_recall: 0.6100\n",
            "Epoch 5/25\n",
            "493/493 [==============================] - 41s 83ms/step - loss: 0.2611 - accuracy: 0.9047 - precision: 0.9043 - recall: 0.9058 - val_loss: 0.8836 - val_accuracy: 0.6435 - val_precision: 0.4905 - val_recall: 0.7320\n",
            "Epoch 6/25\n",
            "493/493 [==============================] - 41s 83ms/step - loss: 0.1823 - accuracy: 0.9358 - precision: 0.9367 - recall: 0.9365 - val_loss: 0.9851 - val_accuracy: 0.7039 - val_precision: 0.5705 - val_recall: 0.5904\n",
            "Epoch 7/25\n",
            "493/493 [==============================] - 41s 83ms/step - loss: 0.1239 - accuracy: 0.9554 - precision: 0.9596 - recall: 0.9501 - val_loss: 1.2534 - val_accuracy: 0.6866 - val_precision: 0.5406 - val_recall: 0.6383\n",
            "Epoch 8/25\n",
            "493/493 [==============================] - 41s 83ms/step - loss: 0.0848 - accuracy: 0.9733 - precision: 0.9767 - recall: 0.9695 - val_loss: 1.0962 - val_accuracy: 0.6941 - val_precision: 0.5562 - val_recall: 0.5817\n",
            "Epoch 9/25\n",
            "493/493 [==============================] - 41s 83ms/step - loss: 0.0825 - accuracy: 0.9742 - precision: 0.9765 - recall: 0.9717 - val_loss: 1.5586 - val_accuracy: 0.6269 - val_precision: 0.4769 - val_recall: 0.7887\n",
            "Epoch 10/25\n",
            "493/493 [==============================] - 41s 82ms/step - loss: 0.0563 - accuracy: 0.9817 - precision: 0.9827 - recall: 0.9808 - val_loss: 1.5737 - val_accuracy: 0.6427 - val_precision: 0.4896 - val_recall: 0.7211\n",
            "Epoch 11/25\n",
            "493/493 [==============================] - 41s 83ms/step - loss: 0.0598 - accuracy: 0.9802 - precision: 0.9810 - recall: 0.9799 - val_loss: 1.4517 - val_accuracy: 0.6639 - val_precision: 0.5113 - val_recall: 0.6928\n",
            "Epoch 12/25\n",
            "493/493 [==============================] - 41s 83ms/step - loss: 0.0548 - accuracy: 0.9817 - precision: 0.9843 - recall: 0.9776 - val_loss: 1.5607 - val_accuracy: 0.6775 - val_precision: 0.5295 - val_recall: 0.6253\n",
            "Epoch 13/25\n",
            "493/493 [==============================] - 41s 83ms/step - loss: 0.0400 - accuracy: 0.9859 - precision: 0.9864 - recall: 0.9857 - val_loss: 1.8998 - val_accuracy: 0.6684 - val_precision: 0.5175 - val_recall: 0.6449\n",
            "Epoch 14/25\n",
            "493/493 [==============================] - 41s 83ms/step - loss: 0.0313 - accuracy: 0.9880 - precision: 0.9890 - recall: 0.9870 - val_loss: 1.9642 - val_accuracy: 0.6239 - val_precision: 0.4719 - val_recall: 0.7124\n",
            "Epoch 15/25\n",
            "493/493 [==============================] - 41s 83ms/step - loss: 0.0330 - accuracy: 0.9881 - precision: 0.9891 - recall: 0.9875 - val_loss: 1.5584 - val_accuracy: 0.6601 - val_precision: 0.5068 - val_recall: 0.7320\n",
            "Epoch 16/25\n",
            "493/493 [==============================] - 41s 82ms/step - loss: 0.0234 - accuracy: 0.9917 - precision: 0.9951 - recall: 0.9883 - val_loss: 2.0022 - val_accuracy: 0.6715 - val_precision: 0.5186 - val_recall: 0.7298\n",
            "Epoch 17/25\n",
            "493/493 [==============================] - 40s 82ms/step - loss: 0.0228 - accuracy: 0.9930 - precision: 0.9943 - recall: 0.9917 - val_loss: 2.3942 - val_accuracy: 0.6699 - val_precision: 0.5186 - val_recall: 0.6688\n",
            "Epoch 18/25\n",
            "493/493 [==============================] - 41s 82ms/step - loss: 0.0304 - accuracy: 0.9888 - precision: 0.9897 - recall: 0.9880 - val_loss: 1.8289 - val_accuracy: 0.6737 - val_precision: 0.5231 - val_recall: 0.6667\n",
            "Epoch 19/25\n",
            "493/493 [==============================] - 41s 83ms/step - loss: 0.0234 - accuracy: 0.9908 - precision: 0.9904 - recall: 0.9906 - val_loss: 2.1693 - val_accuracy: 0.6367 - val_precision: 0.4849 - val_recall: 0.7712\n",
            "Epoch 20/25\n",
            "493/493 [==============================] - 41s 83ms/step - loss: 0.0206 - accuracy: 0.9934 - precision: 0.9942 - recall: 0.9928 - val_loss: 1.8782 - val_accuracy: 0.6994 - val_precision: 0.5659 - val_recall: 0.5708\n",
            "Epoch 21/25\n",
            "493/493 [==============================] - 41s 83ms/step - loss: 0.0281 - accuracy: 0.9908 - precision: 0.9942 - recall: 0.9875 - val_loss: 1.6762 - val_accuracy: 0.6518 - val_precision: 0.4985 - val_recall: 0.7146\n",
            "Epoch 22/25\n",
            "493/493 [==============================] - 41s 82ms/step - loss: 0.0230 - accuracy: 0.9925 - precision: 0.9946 - recall: 0.9904 - val_loss: 1.9887 - val_accuracy: 0.6299 - val_precision: 0.4787 - val_recall: 0.7582\n",
            "Epoch 23/25\n",
            "493/493 [==============================] - 41s 82ms/step - loss: 0.0183 - accuracy: 0.9942 - precision: 0.9945 - recall: 0.9940 - val_loss: 2.3433 - val_accuracy: 0.6556 - val_precision: 0.5023 - val_recall: 0.7168\n",
            "Epoch 24/25\n",
            "493/493 [==============================] - 41s 82ms/step - loss: 0.0132 - accuracy: 0.9951 - precision: 0.9969 - recall: 0.9936 - val_loss: 2.0270 - val_accuracy: 0.6518 - val_precision: 0.4985 - val_recall: 0.7015\n",
            "Epoch 25/25\n",
            "493/493 [==============================] - 41s 83ms/step - loss: 0.0182 - accuracy: 0.9923 - precision: 0.9910 - recall: 0.9935 - val_loss: 2.1207 - val_accuracy: 0.6450 - val_precision: 0.4922 - val_recall: 0.7603\n"
          ],
          "name": "stdout"
        }
      ]
    },
    {
      "cell_type": "code",
      "metadata": {
        "colab": {
          "base_uri": "https://localhost:8080/"
        },
        "id": "0JZnQOGSRYay",
        "outputId": "7ad1c16b-1cef-4912-8302-9bf9a1239e9d"
      },
      "source": [
        "preds_dl_offensive = DistilBert_offensive.predict(dl_offensive_test_input, verbose=True)"
      ],
      "execution_count": 10,
      "outputs": [
        {
          "output_type": "stream",
          "text": [
            "WARNING:tensorflow:The parameters `output_attentions`, `output_hidden_states` and `use_cache` cannot be updated when calling a model.They have to be set to True/False in the config object (i.e.: `config=XConfig.from_pretrained('name', output_attentions=True)`).\n",
            "WARNING:tensorflow:The parameter `return_dict` cannot be set in graph mode and will always be set to `True`.\n",
            "27/27 [==============================] - 3s 46ms/step\n"
          ],
          "name": "stdout"
        }
      ]
    },
    {
      "cell_type": "code",
      "metadata": {
        "colab": {
          "base_uri": "https://localhost:8080/",
          "height": 467
        },
        "id": "hVZI2SRnResz",
        "outputId": "5d18695f-6990-4f42-f33a-efd493e96503"
      },
      "source": [
        "offensive_pred_dl_label = [i[0] for i in preds_dl_offensive.round().astype(int)]\n",
        "cm = confusion_matrix(offensive_dict_test.label,offensive_pred_dl_label)\n",
        "plot_confusion_matrix(cm, normalize=False, target_names=['Not_offensive', 'Offensive'],title=\"DistilBert Confusion Matrix for Offensive\")"
      ],
      "execution_count": 11,
      "outputs": [
        {
          "output_type": "display_data",
          "data": {
            "image/png": "[encoded data removed]",
            "text/plain": [
              "<Figure size 576x432 with 2 Axes>"
            ]
          },
          "metadata": {
            "tags": [],
            "needs_background": "light"
          }
        }
      ]
    },
    {
      "cell_type": "code",
      "metadata": {
        "id": "6cdfLTYk17iF",
        "colab": {
          "base_uri": "https://localhost:8080/"
        },
        "outputId": "6994ac73-c346-43a8-e3a9-09ddc21f9a39"
      },
      "source": [
        "f1_dl_offensive = f1_score(offensive_dict_test.label,offensive_pred_dl_label,average='macro')\n",
        "print(\"F1_score of offensive dataset with DistilBert is: %.1f%%\" % round(f1_dl_offensive*100,1))"
      ],
      "execution_count": 12,
      "outputs": [
        {
          "output_type": "stream",
          "text": [
            "F1_score of offensive dataset with DistilBert is: 60.8%\n"
          ],
          "name": "stdout"
        }
      ]
    },
    {
      "cell_type": "markdown",
      "metadata": {
        "id": "toeItPapUByt"
      },
      "source": [
        "#Apply XLNet as the 2nd model to predict classifcation."
      ]
    },
    {
      "cell_type": "code",
      "metadata": {
        "colab": {
          "base_uri": "https://localhost:8080/"
        },
        "id": "MpMxeYhzT-NW",
        "outputId": "c3f01238-4620-4e6f-b9d3-299d3d9622d8"
      },
      "source": [
        "XLNet_hate = create_model(xlnet_model)\n",
        "XLNet_hate.summary()"
      ],
      "execution_count": null,
      "outputs": [
        {
          "output_type": "stream",
          "text": [
            "WARNING:tensorflow:The parameters `output_attentions`, `output_hidden_states` and `use_cache` cannot be updated when calling a model.They have to be set to True/False in the config object (i.e.: `config=XConfig.from_pretrained('name', output_attentions=True)`).\n",
            "WARNING:tensorflow:The parameter `return_dict` cannot be set in graph mode and will always be set to `True`.\n",
            "Model: \"model_3\"\n",
            "__________________________________________________________________________________________________\n",
            "Layer (type)                    Output Shape         Param #     Connected to                     \n",
            "==================================================================================================\n",
            "word_ids (InputLayer)           [(None, 120)]        0                                            \n",
            "__________________________________________________________________________________________________\n",
            "word_attention (InputLayer)     [(None, 120)]        0                                            \n",
            "__________________________________________________________________________________________________\n",
            "tfxl_net_model (TFXLNetModel)   TFXLNetModelOutput(l 116718336   word_ids[0][0]                   \n",
            "                                                                 word_attention[0][0]             \n",
            "__________________________________________________________________________________________________\n",
            "tf.__operators__.getitem_3 (Sli (None, 1, 768)       0           tfxl_net_model[0][0]             \n",
            "__________________________________________________________________________________________________\n",
            "tf.compat.v1.squeeze_3 (TFOpLam (None, 768)          0           tf.__operators__.getitem_3[0][0] \n",
            "__________________________________________________________________________________________________\n",
            "encoding (Dense)                (None, 32)           24608       tf.compat.v1.squeeze_3[0][0]     \n",
            "__________________________________________________________________________________________________\n",
            "dropout_59 (Dropout)            (None, 32)           0           encoding[0][0]                   \n",
            "__________________________________________________________________________________________________\n",
            "outputs (Dense)                 (None, 1)            33          dropout_59[0][0]                 \n",
            "==================================================================================================\n",
            "Total params: 116,742,977\n",
            "Trainable params: 116,742,977\n",
            "Non-trainable params: 0\n",
            "__________________________________________________________________________________________________\n"
          ],
          "name": "stdout"
        }
      ]
    },
    {
      "cell_type": "code",
      "metadata": {
        "colab": {
          "base_uri": "https://localhost:8080/"
        },
        "id": "6bDNJJUjTgnK",
        "outputId": "19b0ff8b-6419-4f80-d589-785b89a56df5"
      },
      "source": [
        "hist_xl_hate = XLNet_hate.fit(x=xl_hate_train_input, y=hate_dict_train.label, epochs=25, batch_size=16, validation_data=(xl_hate_val_input, hate_dict_val.label), callbacks=callbacks)"
      ],
      "execution_count": null,
      "outputs": [
        {
          "output_type": "stream",
          "text": [
            "Epoch 1/25\n",
            "WARNING:tensorflow:The parameters `output_attentions`, `output_hidden_states` and `use_cache` cannot be updated when calling a model.They have to be set to True/False in the config object (i.e.: `config=XConfig.from_pretrained('name', output_attentions=True)`).\n",
            "WARNING:tensorflow:The parameter `return_dict` cannot be set in graph mode and will always be set to `True`.\n",
            "WARNING:tensorflow:Gradients do not exist for variables ['tfxl_net_model/transformer/mask_emb:0', 'tfxl_net_model/transformer/layer_._0/rel_attn/r_s_bias:0', 'tfxl_net_model/transformer/layer_._0/rel_attn/seg_embed:0', 'tfxl_net_model/transformer/layer_._1/rel_attn/r_s_bias:0', 'tfxl_net_model/transformer/layer_._1/rel_attn/seg_embed:0', 'tfxl_net_model/transformer/layer_._2/rel_attn/r_s_bias:0', 'tfxl_net_model/transformer/layer_._2/rel_attn/seg_embed:0', 'tfxl_net_model/transformer/layer_._3/rel_attn/r_s_bias:0', 'tfxl_net_model/transformer/layer_._3/rel_attn/seg_embed:0', 'tfxl_net_model/transformer/layer_._4/rel_attn/r_s_bias:0', 'tfxl_net_model/transformer/layer_._4/rel_attn/seg_embed:0', 'tfxl_net_model/transformer/layer_._5/rel_attn/r_s_bias:0', 'tfxl_net_model/transformer/layer_._5/rel_attn/seg_embed:0', 'tfxl_net_model/transformer/layer_._6/rel_attn/r_s_bias:0', 'tfxl_net_model/transformer/layer_._6/rel_attn/seg_embed:0', 'tfxl_net_model/transformer/layer_._7/rel_attn/r_s_bias:0', 'tfxl_net_model/transformer/layer_._7/rel_attn/seg_embed:0', 'tfxl_net_model/transformer/layer_._8/rel_attn/r_s_bias:0', 'tfxl_net_model/transformer/layer_._8/rel_attn/seg_embed:0', 'tfxl_net_model/transformer/layer_._9/rel_attn/r_s_bias:0', 'tfxl_net_model/transformer/layer_._9/rel_attn/seg_embed:0', 'tfxl_net_model/transformer/layer_._10/rel_attn/r_s_bias:0', 'tfxl_net_model/transformer/layer_._10/rel_attn/seg_embed:0', 'tfxl_net_model/transformer/layer_._11/rel_attn/r_s_bias:0', 'tfxl_net_model/transformer/layer_._11/rel_attn/seg_embed:0'] when minimizing the loss.\n",
            "WARNING:tensorflow:The parameters `output_attentions`, `output_hidden_states` and `use_cache` cannot be updated when calling a model.They have to be set to True/False in the config object (i.e.: `config=XConfig.from_pretrained('name', output_attentions=True)`).\n",
            "WARNING:tensorflow:The parameter `return_dict` cannot be set in graph mode and will always be set to `True`.\n",
            "WARNING:tensorflow:Gradients do not exist for variables ['tfxl_net_model/transformer/mask_emb:0', 'tfxl_net_model/transformer/layer_._0/rel_attn/r_s_bias:0', 'tfxl_net_model/transformer/layer_._0/rel_attn/seg_embed:0', 'tfxl_net_model/transformer/layer_._1/rel_attn/r_s_bias:0', 'tfxl_net_model/transformer/layer_._1/rel_attn/seg_embed:0', 'tfxl_net_model/transformer/layer_._2/rel_attn/r_s_bias:0', 'tfxl_net_model/transformer/layer_._2/rel_attn/seg_embed:0', 'tfxl_net_model/transformer/layer_._3/rel_attn/r_s_bias:0', 'tfxl_net_model/transformer/layer_._3/rel_attn/seg_embed:0', 'tfxl_net_model/transformer/layer_._4/rel_attn/r_s_bias:0', 'tfxl_net_model/transformer/layer_._4/rel_attn/seg_embed:0', 'tfxl_net_model/transformer/layer_._5/rel_attn/r_s_bias:0', 'tfxl_net_model/transformer/layer_._5/rel_attn/seg_embed:0', 'tfxl_net_model/transformer/layer_._6/rel_attn/r_s_bias:0', 'tfxl_net_model/transformer/layer_._6/rel_attn/seg_embed:0', 'tfxl_net_model/transformer/layer_._7/rel_attn/r_s_bias:0', 'tfxl_net_model/transformer/layer_._7/rel_attn/seg_embed:0', 'tfxl_net_model/transformer/layer_._8/rel_attn/r_s_bias:0', 'tfxl_net_model/transformer/layer_._8/rel_attn/seg_embed:0', 'tfxl_net_model/transformer/layer_._9/rel_attn/r_s_bias:0', 'tfxl_net_model/transformer/layer_._9/rel_attn/seg_embed:0', 'tfxl_net_model/transformer/layer_._10/rel_attn/r_s_bias:0', 'tfxl_net_model/transformer/layer_._10/rel_attn/seg_embed:0', 'tfxl_net_model/transformer/layer_._11/rel_attn/r_s_bias:0', 'tfxl_net_model/transformer/layer_._11/rel_attn/seg_embed:0'] when minimizing the loss.\n",
            "473/473 [==============================] - ETA: 0s - loss: 0.7400 - accuracy: 0.5876 - precision_3: 0.5900 - recall_3: 0.5957WARNING:tensorflow:The parameters `output_attentions`, `output_hidden_states` and `use_cache` cannot be updated when calling a model.They have to be set to True/False in the config object (i.e.: `config=XConfig.from_pretrained('name', output_attentions=True)`).\n",
            "WARNING:tensorflow:The parameter `return_dict` cannot be set in graph mode and will always be set to `True`.\n",
            "473/473 [==============================] - 99s 183ms/step - loss: 0.7398 - accuracy: 0.5877 - precision_3: 0.5901 - recall_3: 0.5958 - val_loss: 0.6437 - val_accuracy: 0.6610 - val_precision_3: 0.5701 - val_recall_3: 0.8384\n",
            "Epoch 2/25\n",
            "473/473 [==============================] - 84s 178ms/step - loss: 0.5251 - accuracy: 0.7401 - precision_3: 0.7380 - recall_3: 0.7411 - val_loss: 0.6204 - val_accuracy: 0.6570 - val_precision_3: 0.5621 - val_recall_3: 0.8899\n",
            "Epoch 3/25\n",
            "473/473 [==============================] - 84s 178ms/step - loss: 0.4401 - accuracy: 0.7975 - precision_3: 0.7872 - recall_3: 0.8162 - val_loss: 0.6809 - val_accuracy: 0.6630 - val_precision_3: 0.5672 - val_recall_3: 0.8899\n",
            "Epoch 4/25\n",
            "473/473 [==============================] - 84s 178ms/step - loss: 0.3412 - accuracy: 0.8505 - precision_3: 0.8293 - recall_3: 0.8769 - val_loss: 0.5933 - val_accuracy: 0.7180 - val_precision_3: 0.6330 - val_recall_3: 0.8080\n",
            "Epoch 5/25\n",
            "473/473 [==============================] - 84s 178ms/step - loss: 0.2338 - accuracy: 0.9080 - precision_3: 0.8937 - recall_3: 0.9258 - val_loss: 1.0307 - val_accuracy: 0.6110 - val_precision_3: 0.5259 - val_recall_3: 0.9040\n",
            "Epoch 6/25\n",
            "473/473 [==============================] - 84s 178ms/step - loss: 0.1599 - accuracy: 0.9365 - precision_3: 0.9271 - recall_3: 0.9451 - val_loss: 0.8846 - val_accuracy: 0.6980 - val_precision_3: 0.6126 - val_recall_3: 0.7963\n",
            "Epoch 7/25\n",
            "473/473 [==============================] - 85s 179ms/step - loss: 0.0955 - accuracy: 0.9657 - precision_3: 0.9626 - recall_3: 0.9694 - val_loss: 1.2769 - val_accuracy: 0.6780 - val_precision_3: 0.5876 - val_recall_3: 0.8244\n",
            "Epoch 8/25\n",
            "473/473 [==============================] - 84s 179ms/step - loss: 0.0725 - accuracy: 0.9739 - precision_3: 0.9762 - recall_3: 0.9718 - val_loss: 1.5274 - val_accuracy: 0.7270 - val_precision_3: 0.6510 - val_recall_3: 0.7775\n",
            "Epoch 9/25\n",
            "473/473 [==============================] - 84s 179ms/step - loss: 0.0568 - accuracy: 0.9777 - precision_3: 0.9793 - recall_3: 0.9766 - val_loss: 1.4875 - val_accuracy: 0.7330 - val_precision_3: 0.6681 - val_recall_3: 0.7447\n",
            "Epoch 10/25\n",
            "473/473 [==============================] - 84s 178ms/step - loss: 0.0482 - accuracy: 0.9826 - precision_3: 0.9845 - recall_3: 0.9802 - val_loss: 1.5601 - val_accuracy: 0.7020 - val_precision_3: 0.6166 - val_recall_3: 0.7986\n",
            "Epoch 11/25\n",
            "473/473 [==============================] - 84s 178ms/step - loss: 0.0465 - accuracy: 0.9854 - precision_3: 0.9850 - recall_3: 0.9855 - val_loss: 1.3283 - val_accuracy: 0.7290 - val_precision_3: 0.6866 - val_recall_3: 0.6721\n",
            "Epoch 12/25\n",
            "473/473 [==============================] - 85s 179ms/step - loss: 0.0380 - accuracy: 0.9870 - precision_3: 0.9905 - recall_3: 0.9838 - val_loss: 1.5407 - val_accuracy: 0.7030 - val_precision_3: 0.6240 - val_recall_3: 0.7658\n",
            "Epoch 13/25\n",
            "473/473 [==============================] - 85s 179ms/step - loss: 0.0296 - accuracy: 0.9914 - precision_3: 0.9920 - recall_3: 0.9907 - val_loss: 1.8215 - val_accuracy: 0.7260 - val_precision_3: 0.6577 - val_recall_3: 0.7471\n",
            "Epoch 14/25\n",
            "473/473 [==============================] - 85s 179ms/step - loss: 0.0406 - accuracy: 0.9909 - precision_3: 0.9916 - recall_3: 0.9900 - val_loss: 2.0101 - val_accuracy: 0.7240 - val_precision_3: 0.6752 - val_recall_3: 0.6815\n",
            "Epoch 15/25\n",
            "473/473 [==============================] - 85s 180ms/step - loss: 0.0257 - accuracy: 0.9928 - precision_3: 0.9913 - recall_3: 0.9938 - val_loss: 1.6480 - val_accuracy: 0.7350 - val_precision_3: 0.6841 - val_recall_3: 0.7049\n",
            "Epoch 16/25\n",
            "473/473 [==============================] - 85s 179ms/step - loss: 0.0282 - accuracy: 0.9904 - precision_3: 0.9903 - recall_3: 0.9902 - val_loss: 1.6459 - val_accuracy: 0.7150 - val_precision_3: 0.6296 - val_recall_3: 0.8080\n",
            "Epoch 17/25\n",
            "473/473 [==============================] - 85s 180ms/step - loss: 0.0374 - accuracy: 0.9877 - precision_3: 0.9875 - recall_3: 0.9873 - val_loss: 1.9951 - val_accuracy: 0.7110 - val_precision_3: 0.6540 - val_recall_3: 0.6862\n",
            "Epoch 18/25\n",
            "473/473 [==============================] - 85s 180ms/step - loss: 0.0290 - accuracy: 0.9915 - precision_3: 0.9912 - recall_3: 0.9916 - val_loss: 2.7072 - val_accuracy: 0.7220 - val_precision_3: 0.6761 - val_recall_3: 0.6698\n",
            "Epoch 19/25\n",
            "473/473 [==============================] - 85s 180ms/step - loss: 0.0243 - accuracy: 0.9921 - precision_3: 0.9940 - recall_3: 0.9903 - val_loss: 1.4570 - val_accuracy: 0.7120 - val_precision_3: 0.7050 - val_recall_3: 0.5597\n"
          ],
          "name": "stdout"
        }
      ]
    },
    {
      "cell_type": "code",
      "metadata": {
        "colab": {
          "base_uri": "https://localhost:8080/"
        },
        "id": "FvLsulRdUpuG",
        "outputId": "c25a2d35-3ff6-41b8-a197-a8c10cbd7ad0"
      },
      "source": [
        "preds_xl_hate = XLNet_hate.predict(xl_hate_test_input, verbose=True)"
      ],
      "execution_count": null,
      "outputs": [
        {
          "output_type": "stream",
          "text": [
            "WARNING:tensorflow:The parameters `output_attentions`, `output_hidden_states` and `use_cache` cannot be updated when calling a model.They have to be set to True/False in the config object (i.e.: `config=XConfig.from_pretrained('name', output_attentions=True)`).\n",
            "WARNING:tensorflow:The parameter `return_dict` cannot be set in graph mode and will always be set to `True`.\n",
            "93/93 [==============================] - 12s 105ms/step\n"
          ],
          "name": "stdout"
        }
      ]
    },
    {
      "cell_type": "code",
      "metadata": {
        "colab": {
          "base_uri": "https://localhost:8080/",
          "height": 467
        },
        "id": "ZDaUwPk_UVWt",
        "outputId": "6d43dcf4-8573-49c9-b4d8-552a79cc953b"
      },
      "source": [
        "hate_pred_xl_label = [i[0] for i in preds_xl_hate.round().astype(int)]\n",
        "cm = confusion_matrix(hate_dict_test.label,hate_pred_xl_label)\n",
        "plot_confusion_matrix(cm, normalize=False,target_names=['Not_hate', 'Hate'],title=\"XLNet Confusion Matrix for Hate\")"
      ],
      "execution_count": null,
      "outputs": [
        {
          "output_type": "display_data",
          "data": {
            "image/png": "[encoded data removed]",
            "text/plain": [
              "<Figure size 576x432 with 2 Axes>"
            ]
          },
          "metadata": {
            "tags": [],
            "needs_background": "light"
          }
        }
      ]
    },
    {
      "cell_type": "code",
      "metadata": {
        "id": "c1t3aKYX14Nb",
        "colab": {
          "base_uri": "https://localhost:8080/"
        },
        "outputId": "264d0b1e-26da-4c42-b9b5-0e71b41cbbe2"
      },
      "source": [
        "f1_xl_hate = f1_score(hate_dict_test.label,hate_pred_xl_label,average='macro')\n",
        "print(\"F1_score of Hate dataset with XLnet is: %.1f%%\" % round(f1_xl_hate*100,1))"
      ],
      "execution_count": null,
      "outputs": [
        {
          "output_type": "stream",
          "text": [
            "F1_score of Hate dataset with XLnet is: 59.3%\n"
          ],
          "name": "stdout"
        }
      ]
    },
    {
      "cell_type": "code",
      "metadata": {
        "colab": {
          "base_uri": "https://localhost:8080/"
        },
        "id": "ari-sMwRU9pM",
        "outputId": "9d4a0bed-a7cb-4c2a-c793-e93235309183"
      },
      "source": [
        "XLNet_irony = create_model(xlnet_model)"
      ],
      "execution_count": null,
      "outputs": [
        {
          "output_type": "stream",
          "text": [
            "WARNING:tensorflow:The parameters `output_attentions`, `output_hidden_states` and `use_cache` cannot be updated when calling a model.They have to be set to True/False in the config object (i.e.: `config=XConfig.from_pretrained('name', output_attentions=True)`).\n",
            "WARNING:tensorflow:The parameter `return_dict` cannot be set in graph mode and will always be set to `True`.\n"
          ],
          "name": "stdout"
        }
      ]
    },
    {
      "cell_type": "code",
      "metadata": {
        "colab": {
          "base_uri": "https://localhost:8080/"
        },
        "id": "NX62uykYVBOm",
        "outputId": "274109e7-a7ee-43d3-ec75-88dceb6deb4c"
      },
      "source": [
        "hist_xl_irony = XLNet_irony.fit(x=xl_irony_train_input, y=irony_dict_train.label, epochs=25, batch_size=16, validation_data=(xl_irony_val_input, irony_dict_val.label), callbacks=callbacks)"
      ],
      "execution_count": null,
      "outputs": [
        {
          "output_type": "stream",
          "text": [
            "Epoch 1/25\n",
            "WARNING:tensorflow:The parameters `output_attentions`, `output_hidden_states` and `use_cache` cannot be updated when calling a model.They have to be set to True/False in the config object (i.e.: `config=XConfig.from_pretrained('name', output_attentions=True)`).\n",
            "WARNING:tensorflow:The parameter `return_dict` cannot be set in graph mode and will always be set to `True`.\n",
            "WARNING:tensorflow:Gradients do not exist for variables ['tfxl_net_model/transformer/mask_emb:0', 'tfxl_net_model/transformer/layer_._0/rel_attn/r_s_bias:0', 'tfxl_net_model/transformer/layer_._0/rel_attn/seg_embed:0', 'tfxl_net_model/transformer/layer_._1/rel_attn/r_s_bias:0', 'tfxl_net_model/transformer/layer_._1/rel_attn/seg_embed:0', 'tfxl_net_model/transformer/layer_._2/rel_attn/r_s_bias:0', 'tfxl_net_model/transformer/layer_._2/rel_attn/seg_embed:0', 'tfxl_net_model/transformer/layer_._3/rel_attn/r_s_bias:0', 'tfxl_net_model/transformer/layer_._3/rel_attn/seg_embed:0', 'tfxl_net_model/transformer/layer_._4/rel_attn/r_s_bias:0', 'tfxl_net_model/transformer/layer_._4/rel_attn/seg_embed:0', 'tfxl_net_model/transformer/layer_._5/rel_attn/r_s_bias:0', 'tfxl_net_model/transformer/layer_._5/rel_attn/seg_embed:0', 'tfxl_net_model/transformer/layer_._6/rel_attn/r_s_bias:0', 'tfxl_net_model/transformer/layer_._6/rel_attn/seg_embed:0', 'tfxl_net_model/transformer/layer_._7/rel_attn/r_s_bias:0', 'tfxl_net_model/transformer/layer_._7/rel_attn/seg_embed:0', 'tfxl_net_model/transformer/layer_._8/rel_attn/r_s_bias:0', 'tfxl_net_model/transformer/layer_._8/rel_attn/seg_embed:0', 'tfxl_net_model/transformer/layer_._9/rel_attn/r_s_bias:0', 'tfxl_net_model/transformer/layer_._9/rel_attn/seg_embed:0', 'tfxl_net_model/transformer/layer_._10/rel_attn/r_s_bias:0', 'tfxl_net_model/transformer/layer_._10/rel_attn/seg_embed:0', 'tfxl_net_model/transformer/layer_._11/rel_attn/r_s_bias:0', 'tfxl_net_model/transformer/layer_._11/rel_attn/seg_embed:0'] when minimizing the loss.\n",
            "WARNING:tensorflow:The parameters `output_attentions`, `output_hidden_states` and `use_cache` cannot be updated when calling a model.They have to be set to True/False in the config object (i.e.: `config=XConfig.from_pretrained('name', output_attentions=True)`).\n",
            "WARNING:tensorflow:The parameter `return_dict` cannot be set in graph mode and will always be set to `True`.\n",
            "WARNING:tensorflow:Gradients do not exist for variables ['tfxl_net_model/transformer/mask_emb:0', 'tfxl_net_model/transformer/layer_._0/rel_attn/r_s_bias:0', 'tfxl_net_model/transformer/layer_._0/rel_attn/seg_embed:0', 'tfxl_net_model/transformer/layer_._1/rel_attn/r_s_bias:0', 'tfxl_net_model/transformer/layer_._1/rel_attn/seg_embed:0', 'tfxl_net_model/transformer/layer_._2/rel_attn/r_s_bias:0', 'tfxl_net_model/transformer/layer_._2/rel_attn/seg_embed:0', 'tfxl_net_model/transformer/layer_._3/rel_attn/r_s_bias:0', 'tfxl_net_model/transformer/layer_._3/rel_attn/seg_embed:0', 'tfxl_net_model/transformer/layer_._4/rel_attn/r_s_bias:0', 'tfxl_net_model/transformer/layer_._4/rel_attn/seg_embed:0', 'tfxl_net_model/transformer/layer_._5/rel_attn/r_s_bias:0', 'tfxl_net_model/transformer/layer_._5/rel_attn/seg_embed:0', 'tfxl_net_model/transformer/layer_._6/rel_attn/r_s_bias:0', 'tfxl_net_model/transformer/layer_._6/rel_attn/seg_embed:0', 'tfxl_net_model/transformer/layer_._7/rel_attn/r_s_bias:0', 'tfxl_net_model/transformer/layer_._7/rel_attn/seg_embed:0', 'tfxl_net_model/transformer/layer_._8/rel_attn/r_s_bias:0', 'tfxl_net_model/transformer/layer_._8/rel_attn/seg_embed:0', 'tfxl_net_model/transformer/layer_._9/rel_attn/r_s_bias:0', 'tfxl_net_model/transformer/layer_._9/rel_attn/seg_embed:0', 'tfxl_net_model/transformer/layer_._10/rel_attn/r_s_bias:0', 'tfxl_net_model/transformer/layer_._10/rel_attn/seg_embed:0', 'tfxl_net_model/transformer/layer_._11/rel_attn/r_s_bias:0', 'tfxl_net_model/transformer/layer_._11/rel_attn/seg_embed:0'] when minimizing the loss.\n",
            "178/178 [==============================] - ETA: 0s - loss: 0.7525 - accuracy: 0.5232 - precision_4: 0.5263 - recall_4: 0.5185WARNING:tensorflow:The parameters `output_attentions`, `output_hidden_states` and `use_cache` cannot be updated when calling a model.They have to be set to True/False in the config object (i.e.: `config=XConfig.from_pretrained('name', output_attentions=True)`).\n",
            "WARNING:tensorflow:The parameter `return_dict` cannot be set in graph mode and will always be set to `True`.\n",
            "178/178 [==============================] - 51s 206ms/step - loss: 0.7523 - accuracy: 0.5233 - precision_4: 0.5264 - recall_4: 0.5186 - val_loss: 0.6636 - val_accuracy: 0.6094 - val_precision_4: 0.5838 - val_recall_4: 0.6338\n",
            "Epoch 2/25\n",
            "178/178 [==============================] - 34s 192ms/step - loss: 0.6463 - accuracy: 0.6198 - precision_4: 0.6420 - recall_4: 0.5684 - val_loss: 0.6240 - val_accuracy: 0.6503 - val_precision_4: 0.6121 - val_recall_4: 0.7303\n",
            "Epoch 3/25\n",
            "178/178 [==============================] - 34s 191ms/step - loss: 0.5218 - accuracy: 0.7558 - precision_4: 0.7723 - recall_4: 0.7245 - val_loss: 0.6181 - val_accuracy: 0.6545 - val_precision_4: 0.6189 - val_recall_4: 0.7193\n",
            "Epoch 4/25\n",
            "178/178 [==============================] - 34s 191ms/step - loss: 0.3873 - accuracy: 0.8374 - precision_4: 0.8460 - recall_4: 0.8101 - val_loss: 0.8546 - val_accuracy: 0.6743 - val_precision_4: 0.6507 - val_recall_4: 0.6864\n",
            "Epoch 5/25\n",
            "178/178 [==============================] - 34s 191ms/step - loss: 0.2219 - accuracy: 0.9162 - precision_4: 0.9425 - recall_4: 0.8890 - val_loss: 1.1620 - val_accuracy: 0.6723 - val_precision_4: 0.6416 - val_recall_4: 0.7105\n",
            "Epoch 6/25\n",
            "178/178 [==============================] - 34s 192ms/step - loss: 0.1603 - accuracy: 0.9403 - precision_4: 0.9523 - recall_4: 0.9289 - val_loss: 1.4075 - val_accuracy: 0.6272 - val_precision_4: 0.5859 - val_recall_4: 0.7478\n",
            "Epoch 7/25\n",
            "178/178 [==============================] - 34s 192ms/step - loss: 0.0832 - accuracy: 0.9768 - precision_4: 0.9797 - recall_4: 0.9732 - val_loss: 1.5213 - val_accuracy: 0.6503 - val_precision_4: 0.6066 - val_recall_4: 0.7610\n",
            "Epoch 8/25\n",
            "178/178 [==============================] - 34s 191ms/step - loss: 0.0809 - accuracy: 0.9702 - precision_4: 0.9802 - recall_4: 0.9586 - val_loss: 2.1799 - val_accuracy: 0.6220 - val_precision_4: 0.5732 - val_recall_4: 0.8158\n",
            "Epoch 9/25\n",
            "178/178 [==============================] - 34s 191ms/step - loss: 0.0486 - accuracy: 0.9836 - precision_4: 0.9848 - recall_4: 0.9832 - val_loss: 1.9825 - val_accuracy: 0.6042 - val_precision_4: 0.5552 - val_recall_4: 0.8596\n",
            "Epoch 10/25\n",
            "178/178 [==============================] - 34s 191ms/step - loss: 0.0333 - accuracy: 0.9901 - precision_4: 0.9926 - recall_4: 0.9874 - val_loss: 2.7003 - val_accuracy: 0.6398 - val_precision_4: 0.6041 - val_recall_4: 0.7127\n",
            "Epoch 11/25\n",
            "178/178 [==============================] - 34s 191ms/step - loss: 0.0408 - accuracy: 0.9852 - precision_4: 0.9914 - recall_4: 0.9788 - val_loss: 2.0408 - val_accuracy: 0.6387 - val_precision_4: 0.5986 - val_recall_4: 0.7390\n",
            "Epoch 12/25\n",
            "178/178 [==============================] - 34s 191ms/step - loss: 0.0205 - accuracy: 0.9927 - precision_4: 0.9958 - recall_4: 0.9901 - val_loss: 2.5674 - val_accuracy: 0.6555 - val_precision_4: 0.6178 - val_recall_4: 0.7303\n",
            "Epoch 13/25\n",
            "178/178 [==============================] - 34s 191ms/step - loss: 0.0179 - accuracy: 0.9937 - precision_4: 0.9942 - recall_4: 0.9929 - val_loss: 1.8730 - val_accuracy: 0.6618 - val_precision_4: 0.6194 - val_recall_4: 0.7566\n",
            "Epoch 14/25\n",
            "178/178 [==============================] - 34s 192ms/step - loss: 0.0154 - accuracy: 0.9941 - precision_4: 0.9950 - recall_4: 0.9931 - val_loss: 2.0116 - val_accuracy: 0.6513 - val_precision_4: 0.6104 - val_recall_4: 0.7456\n",
            "Epoch 15/25\n",
            "178/178 [==============================] - 34s 192ms/step - loss: 0.0277 - accuracy: 0.9884 - precision_4: 0.9872 - recall_4: 0.9893 - val_loss: 2.0284 - val_accuracy: 0.6681 - val_precision_4: 0.6271 - val_recall_4: 0.7522\n",
            "Epoch 16/25\n",
            "178/178 [==============================] - 34s 192ms/step - loss: 0.0259 - accuracy: 0.9898 - precision_4: 0.9918 - recall_4: 0.9882 - val_loss: 2.0753 - val_accuracy: 0.6764 - val_precision_4: 0.6427 - val_recall_4: 0.7259\n"
          ],
          "name": "stdout"
        }
      ]
    },
    {
      "cell_type": "code",
      "metadata": {
        "colab": {
          "base_uri": "https://localhost:8080/"
        },
        "id": "HZ5yCM_8VFrn",
        "outputId": "5c551a23-740d-4e7b-e101-ca0b1c9ba8c3"
      },
      "source": [
        "preds_xl_irony = XLNet_irony.predict(xl_irony_test_input, verbose=True)"
      ],
      "execution_count": null,
      "outputs": [
        {
          "output_type": "stream",
          "text": [
            "WARNING:tensorflow:The parameters `output_attentions`, `output_hidden_states` and `use_cache` cannot be updated when calling a model.They have to be set to True/False in the config object (i.e.: `config=XConfig.from_pretrained('name', output_attentions=True)`).\n",
            "WARNING:tensorflow:The parameter `return_dict` cannot be set in graph mode and will always be set to `True`.\n",
            "25/25 [==============================] - 5s 103ms/step\n"
          ],
          "name": "stdout"
        }
      ]
    },
    {
      "cell_type": "code",
      "metadata": {
        "colab": {
          "base_uri": "https://localhost:8080/",
          "height": 467
        },
        "id": "j08QJgf3VIh_",
        "outputId": "051ed271-bcad-46ce-859e-37a556e1f383"
      },
      "source": [
        "irony_pred_xl_label = [i[0] for i in preds_xl_irony.round().astype(int)]\n",
        "cm = confusion_matrix(irony_dict_test.label,irony_pred_xl_label)\n",
        "plot_confusion_matrix(cm, normalize=False,target_names=['Not_irony', 'Irony'],title=\"XLNet Confusion Matrix for Irony\")"
      ],
      "execution_count": null,
      "outputs": [
        {
          "output_type": "display_data",
          "data": {
            "image/png": "[encoded data removed]",
            "text/plain": [
              "<Figure size 576x432 with 2 Axes>"
            ]
          },
          "metadata": {
            "tags": [],
            "needs_background": "light"
          }
        }
      ]
    },
    {
      "cell_type": "code",
      "metadata": {
        "id": "EQVmcs2y2PPx",
        "colab": {
          "base_uri": "https://localhost:8080/"
        },
        "outputId": "aec69cc6-7fbf-49a9-e25b-933d8493a175"
      },
      "source": [
        "f1_xl_irony = f1_score(irony_dict_test.label,irony_pred_xl_label,average='macro')\n",
        "print(\"F1_score of irony dataset with DistilBert is: %.1f%%\" % round(f1_xl_irony * 100,1))"
      ],
      "execution_count": null,
      "outputs": [
        {
          "output_type": "stream",
          "text": [
            "F1_score of irony dataset with DistilBert is: 65.8%\n"
          ],
          "name": "stdout"
        }
      ]
    },
    {
      "cell_type": "code",
      "metadata": {
        "colab": {
          "base_uri": "https://localhost:8080/"
        },
        "id": "CxFjQUmYVaqt",
        "outputId": "b45a8cb0-e372-497e-dbd2-48072165ae94"
      },
      "source": [
        "XLNet_offensive = create_model(xlnet_model)"
      ],
      "execution_count": 13,
      "outputs": [
        {
          "output_type": "stream",
          "text": [
            "WARNING:tensorflow:The parameters `output_attentions`, `output_hidden_states` and `use_cache` cannot be updated when calling a model.They have to be set to True/False in the config object (i.e.: `config=XConfig.from_pretrained('name', output_attentions=True)`).\n",
            "WARNING:tensorflow:The parameter `return_dict` cannot be set in graph mode and will always be set to `True`.\n"
          ],
          "name": "stdout"
        }
      ]
    },
    {
      "cell_type": "code",
      "metadata": {
        "colab": {
          "base_uri": "https://localhost:8080/"
        },
        "id": "ThdUia-5VamC",
        "outputId": "f83b6cf3-696f-4100-9574-69b3f42a0ecb"
      },
      "source": [
        "hist_xl_offensive = XLNet_offensive.fit(x=xl_offensive_train_input, y=offensive_dict_train.label, epochs=25, batch_size=16, validation_data=(xl_offensive_val_input, offensive_dict_val.label), callbacks=callbacks)"
      ],
      "execution_count": 14,
      "outputs": [
        {
          "output_type": "stream",
          "text": [
            "Epoch 1/25\n",
            "WARNING:tensorflow:The parameters `output_attentions`, `output_hidden_states` and `use_cache` cannot be updated when calling a model.They have to be set to True/False in the config object (i.e.: `config=XConfig.from_pretrained('name', output_attentions=True)`).\n",
            "WARNING:tensorflow:The parameter `return_dict` cannot be set in graph mode and will always be set to `True`.\n",
            "WARNING:tensorflow:Gradients do not exist for variables ['tfxl_net_model/transformer/mask_emb:0', 'tfxl_net_model/transformer/layer_._0/rel_attn/r_s_bias:0', 'tfxl_net_model/transformer/layer_._0/rel_attn/seg_embed:0', 'tfxl_net_model/transformer/layer_._1/rel_attn/r_s_bias:0', 'tfxl_net_model/transformer/layer_._1/rel_attn/seg_embed:0', 'tfxl_net_model/transformer/layer_._2/rel_attn/r_s_bias:0', 'tfxl_net_model/transformer/layer_._2/rel_attn/seg_embed:0', 'tfxl_net_model/transformer/layer_._3/rel_attn/r_s_bias:0', 'tfxl_net_model/transformer/layer_._3/rel_attn/seg_embed:0', 'tfxl_net_model/transformer/layer_._4/rel_attn/r_s_bias:0', 'tfxl_net_model/transformer/layer_._4/rel_attn/seg_embed:0', 'tfxl_net_model/transformer/layer_._5/rel_attn/r_s_bias:0', 'tfxl_net_model/transformer/layer_._5/rel_attn/seg_embed:0', 'tfxl_net_model/transformer/layer_._6/rel_attn/r_s_bias:0', 'tfxl_net_model/transformer/layer_._6/rel_attn/seg_embed:0', 'tfxl_net_model/transformer/layer_._7/rel_attn/r_s_bias:0', 'tfxl_net_model/transformer/layer_._7/rel_attn/seg_embed:0', 'tfxl_net_model/transformer/layer_._8/rel_attn/r_s_bias:0', 'tfxl_net_model/transformer/layer_._8/rel_attn/seg_embed:0', 'tfxl_net_model/transformer/layer_._9/rel_attn/r_s_bias:0', 'tfxl_net_model/transformer/layer_._9/rel_attn/seg_embed:0', 'tfxl_net_model/transformer/layer_._10/rel_attn/r_s_bias:0', 'tfxl_net_model/transformer/layer_._10/rel_attn/seg_embed:0', 'tfxl_net_model/transformer/layer_._11/rel_attn/r_s_bias:0', 'tfxl_net_model/transformer/layer_._11/rel_attn/seg_embed:0'] when minimizing the loss.\n",
            "WARNING:tensorflow:The parameters `output_attentions`, `output_hidden_states` and `use_cache` cannot be updated when calling a model.They have to be set to True/False in the config object (i.e.: `config=XConfig.from_pretrained('name', output_attentions=True)`).\n",
            "WARNING:tensorflow:The parameter `return_dict` cannot be set in graph mode and will always be set to `True`.\n",
            "WARNING:tensorflow:Gradients do not exist for variables ['tfxl_net_model/transformer/mask_emb:0', 'tfxl_net_model/transformer/layer_._0/rel_attn/r_s_bias:0', 'tfxl_net_model/transformer/layer_._0/rel_attn/seg_embed:0', 'tfxl_net_model/transformer/layer_._1/rel_attn/r_s_bias:0', 'tfxl_net_model/transformer/layer_._1/rel_attn/seg_embed:0', 'tfxl_net_model/transformer/layer_._2/rel_attn/r_s_bias:0', 'tfxl_net_model/transformer/layer_._2/rel_attn/seg_embed:0', 'tfxl_net_model/transformer/layer_._3/rel_attn/r_s_bias:0', 'tfxl_net_model/transformer/layer_._3/rel_attn/seg_embed:0', 'tfxl_net_model/transformer/layer_._4/rel_attn/r_s_bias:0', 'tfxl_net_model/transformer/layer_._4/rel_attn/seg_embed:0', 'tfxl_net_model/transformer/layer_._5/rel_attn/r_s_bias:0', 'tfxl_net_model/transformer/layer_._5/rel_attn/seg_embed:0', 'tfxl_net_model/transformer/layer_._6/rel_attn/r_s_bias:0', 'tfxl_net_model/transformer/layer_._6/rel_attn/seg_embed:0', 'tfxl_net_model/transformer/layer_._7/rel_attn/r_s_bias:0', 'tfxl_net_model/transformer/layer_._7/rel_attn/seg_embed:0', 'tfxl_net_model/transformer/layer_._8/rel_attn/r_s_bias:0', 'tfxl_net_model/transformer/layer_._8/rel_attn/seg_embed:0', 'tfxl_net_model/transformer/layer_._9/rel_attn/r_s_bias:0', 'tfxl_net_model/transformer/layer_._9/rel_attn/seg_embed:0', 'tfxl_net_model/transformer/layer_._10/rel_attn/r_s_bias:0', 'tfxl_net_model/transformer/layer_._10/rel_attn/seg_embed:0', 'tfxl_net_model/transformer/layer_._11/rel_attn/r_s_bias:0', 'tfxl_net_model/transformer/layer_._11/rel_attn/seg_embed:0'] when minimizing the loss.\n",
            "493/493 [==============================] - ETA: 0s - loss: 0.7670 - accuracy: 0.5730 - precision_1: 0.5728 - recall_1: 0.5992WARNING:tensorflow:The parameters `output_attentions`, `output_hidden_states` and `use_cache` cannot be updated when calling a model.They have to be set to True/False in the config object (i.e.: `config=XConfig.from_pretrained('name', output_attentions=True)`).\n",
            "WARNING:tensorflow:The parameter `return_dict` cannot be set in graph mode and will always be set to `True`.\n",
            "493/493 [==============================] - 105s 186ms/step - loss: 0.7667 - accuracy: 0.5732 - precision_1: 0.5730 - recall_1: 0.5993 - val_loss: 0.5129 - val_accuracy: 0.7628 - val_precision_1: 0.6306 - val_recall_1: 0.7625\n",
            "Epoch 2/25\n",
            "493/493 [==============================] - 89s 180ms/step - loss: 0.4952 - accuracy: 0.7638 - precision_1: 0.7668 - recall_1: 0.7650 - val_loss: 0.5907 - val_accuracy: 0.7145 - val_precision_1: 0.5548 - val_recall_1: 0.8932\n",
            "Epoch 3/25\n",
            "493/493 [==============================] - 89s 180ms/step - loss: 0.4198 - accuracy: 0.8134 - precision_1: 0.8065 - recall_1: 0.8236 - val_loss: 0.5090 - val_accuracy: 0.7538 - val_precision_1: 0.6085 - val_recall_1: 0.8126\n",
            "Epoch 4/25\n",
            "493/493 [==============================] - 89s 180ms/step - loss: 0.3500 - accuracy: 0.8539 - precision_1: 0.8590 - recall_1: 0.8504 - val_loss: 0.5106 - val_accuracy: 0.7787 - val_precision_1: 0.6729 - val_recall_1: 0.7037\n",
            "Epoch 5/25\n",
            "493/493 [==============================] - 89s 180ms/step - loss: 0.2876 - accuracy: 0.8872 - precision_1: 0.8946 - recall_1: 0.8844 - val_loss: 0.7112 - val_accuracy: 0.7870 - val_precision_1: 0.6928 - val_recall_1: 0.6928\n",
            "Epoch 6/25\n",
            "493/493 [==============================] - 89s 180ms/step - loss: 0.1987 - accuracy: 0.9216 - precision_1: 0.9251 - recall_1: 0.9151 - val_loss: 0.6619 - val_accuracy: 0.7515 - val_precision_1: 0.6128 - val_recall_1: 0.7691\n",
            "Epoch 7/25\n",
            "493/493 [==============================] - 89s 180ms/step - loss: 0.1373 - accuracy: 0.9479 - precision_1: 0.9463 - recall_1: 0.9496 - val_loss: 0.7069 - val_accuracy: 0.7659 - val_precision_1: 0.6549 - val_recall_1: 0.6863\n",
            "Epoch 8/25\n",
            "493/493 [==============================] - 89s 180ms/step - loss: 0.1008 - accuracy: 0.9672 - precision_1: 0.9669 - recall_1: 0.9660 - val_loss: 0.9272 - val_accuracy: 0.7779 - val_precision_1: 0.6590 - val_recall_1: 0.7451\n",
            "Epoch 9/25\n",
            "493/493 [==============================] - 89s 180ms/step - loss: 0.0834 - accuracy: 0.9721 - precision_1: 0.9740 - recall_1: 0.9716 - val_loss: 1.3630 - val_accuracy: 0.7508 - val_precision_1: 0.6070 - val_recall_1: 0.7974\n",
            "Epoch 10/25\n",
            "493/493 [==============================] - 89s 180ms/step - loss: 0.0596 - accuracy: 0.9818 - precision_1: 0.9839 - recall_1: 0.9803 - val_loss: 1.9272 - val_accuracy: 0.7341 - val_precision_1: 0.5832 - val_recall_1: 0.8170\n",
            "Epoch 11/25\n",
            "493/493 [==============================] - 89s 180ms/step - loss: 0.0683 - accuracy: 0.9800 - precision_1: 0.9808 - recall_1: 0.9790 - val_loss: 1.1279 - val_accuracy: 0.7500 - val_precision_1: 0.6096 - val_recall_1: 0.7756\n",
            "Epoch 12/25\n",
            "493/493 [==============================] - 89s 180ms/step - loss: 0.0424 - accuracy: 0.9872 - precision_1: 0.9861 - recall_1: 0.9882 - val_loss: 1.3181 - val_accuracy: 0.7387 - val_precision_1: 0.5993 - val_recall_1: 0.7429\n",
            "Epoch 13/25\n",
            "493/493 [==============================] - 89s 181ms/step - loss: 0.0493 - accuracy: 0.9854 - precision_1: 0.9847 - recall_1: 0.9857 - val_loss: 1.5082 - val_accuracy: 0.7349 - val_precision_1: 0.5912 - val_recall_1: 0.7625\n",
            "Epoch 14/25\n",
            "493/493 [==============================] - 89s 181ms/step - loss: 0.0314 - accuracy: 0.9903 - precision_1: 0.9909 - recall_1: 0.9896 - val_loss: 1.6801 - val_accuracy: 0.7409 - val_precision_1: 0.5918 - val_recall_1: 0.8148\n",
            "Epoch 15/25\n",
            "493/493 [==============================] - 89s 181ms/step - loss: 0.0328 - accuracy: 0.9888 - precision_1: 0.9904 - recall_1: 0.9873 - val_loss: 1.5022 - val_accuracy: 0.7175 - val_precision_1: 0.5639 - val_recall_1: 0.8170\n",
            "Epoch 16/25\n",
            "493/493 [==============================] - 89s 181ms/step - loss: 0.0240 - accuracy: 0.9933 - precision_1: 0.9931 - recall_1: 0.9934 - val_loss: 1.6116 - val_accuracy: 0.7402 - val_precision_1: 0.5954 - val_recall_1: 0.7821\n",
            "Epoch 17/25\n",
            "493/493 [==============================] - 89s 181ms/step - loss: 0.0368 - accuracy: 0.9884 - precision_1: 0.9870 - recall_1: 0.9899 - val_loss: 1.6596 - val_accuracy: 0.7644 - val_precision_1: 0.6384 - val_recall_1: 0.7386\n",
            "Epoch 18/25\n",
            "493/493 [==============================] - 89s 181ms/step - loss: 0.0207 - accuracy: 0.9930 - precision_1: 0.9932 - recall_1: 0.9926 - val_loss: 1.8606 - val_accuracy: 0.7296 - val_precision_1: 0.5759 - val_recall_1: 0.8344\n",
            "Epoch 19/25\n",
            "493/493 [==============================] - 89s 181ms/step - loss: 0.0407 - accuracy: 0.9873 - precision_1: 0.9877 - recall_1: 0.9874 - val_loss: 1.4804 - val_accuracy: 0.7621 - val_precision_1: 0.6343 - val_recall_1: 0.7407\n",
            "Epoch 20/25\n",
            "493/493 [==============================] - 89s 181ms/step - loss: 0.0254 - accuracy: 0.9915 - precision_1: 0.9918 - recall_1: 0.9910 - val_loss: 1.5440 - val_accuracy: 0.7440 - val_precision_1: 0.6027 - val_recall_1: 0.7669\n"
          ],
          "name": "stdout"
        }
      ]
    },
    {
      "cell_type": "code",
      "metadata": {
        "colab": {
          "base_uri": "https://localhost:8080/"
        },
        "id": "chZqFuDKVhxC",
        "outputId": "ef8b7e14-3021-4249-b374-d26f30d0a94f"
      },
      "source": [
        "preds_xl_offensive = XLNet_offensive.predict(xl_offensive_test_input, verbose=True)"
      ],
      "execution_count": 15,
      "outputs": [
        {
          "output_type": "stream",
          "text": [
            "WARNING:tensorflow:The parameters `output_attentions`, `output_hidden_states` and `use_cache` cannot be updated when calling a model.They have to be set to True/False in the config object (i.e.: `config=XConfig.from_pretrained('name', output_attentions=True)`).\n",
            "WARNING:tensorflow:The parameter `return_dict` cannot be set in graph mode and will always be set to `True`.\n",
            "27/27 [==============================] - 5s 103ms/step\n"
          ],
          "name": "stdout"
        }
      ]
    },
    {
      "cell_type": "code",
      "metadata": {
        "colab": {
          "base_uri": "https://localhost:8080/",
          "height": 467
        },
        "id": "dA_awMECVtVk",
        "outputId": "79d3f498-08cc-4e8f-d6a2-eccde92c9264"
      },
      "source": [
        "offensive_pred_xl_label = [i[0] for i in preds_xl_offensive.round().astype(int)]\n",
        "cm = confusion_matrix(offensive_dict_test.label,offensive_pred_xl_label)\n",
        "plot_confusion_matrix(cm, normalize=False,target_names=['Not_offensive', 'Offensive'],title=\"XLNet Confusion Matrix for Offensive\")"
      ],
      "execution_count": 16,
      "outputs": [
        {
          "output_type": "display_data",
          "data": {
            "image/png": "[encoded data removed]",
            "text/plain": [
              "<Figure size 576x432 with 2 Axes>"
            ]
          },
          "metadata": {
            "tags": [],
            "needs_background": "light"
          }
        }
      ]
    },
    {
      "cell_type": "code",
      "metadata": {
        "id": "8OzfSO1f2ir1",
        "colab": {
          "base_uri": "https://localhost:8080/"
        },
        "outputId": "42641c8c-33a9-4905-9d42-0d8831e59049"
      },
      "source": [
        "f1_xl_offensive = f1_score(offensive_dict_test.label,offensive_pred_xl_label,average='macro')\n",
        "print(\"F1_score of offensive dataset with XLNet is: %.1f%%\" % round(f1_xl_offensive * 100,1))"
      ],
      "execution_count": 17,
      "outputs": [
        {
          "output_type": "stream",
          "text": [
            "F1_score of offensive dataset with XLNet is: 77.1%\n"
          ],
          "name": "stdout"
        }
      ]
    },
    {
      "cell_type": "markdown",
      "metadata": {
        "id": "LUG2Bn4Eykm_"
      },
      "source": [
        "#Report for comparing the result"
      ]
    },
    {
      "cell_type": "code",
      "metadata": {
        "colab": {
          "base_uri": "https://localhost:8080/",
          "height": 297
        },
        "id": "EIOkwZ1Il15o",
        "outputId": "a17f6dcd-b3d2-4e2f-ef9a-539a7a71ddb7"
      },
      "source": [
        "f1_score_bar(f1_dl_hate,f1_dl_irony,f1_dl_offensive,f1_xl_hate,f1_xl_irony,f1_xl_offensive)    "
      ],
      "execution_count": null,
      "outputs": [
        {
          "output_type": "display_data",
          "data": {
            "image/png": "[encoded data removed]",
            "text/plain": [
              "<Figure size 432x288 with 1 Axes>"
            ]
          },
          "metadata": {
            "tags": [],
            "needs_background": "light"
          }
        }
      ]
    },
    {
      "cell_type": "code",
      "metadata": {
        "colab": {
          "base_uri": "https://localhost:8080/",
          "height": 361
        },
        "id": "E8syuZOtpKVM",
        "outputId": "31a4655c-b9c8-409c-a022-3375db1a2ddd"
      },
      "source": [
        "auc_plot_metrics(preds_dl_hate, preds_xl_hate, hate_dict_test.label,\n",
        "         preds_dl_irony, preds_xl_irony, irony_dict_test.label,\n",
        "         preds_dl_offensive, preds_xl_offensive, offensive_dict_test.label)"
      ],
      "execution_count": null,
      "outputs": [
        {
          "output_type": "display_data",
          "data": {
            "image/png": "[encoded data removed]",
            "text/plain": [
              "<Figure size 1296x360 with 3 Axes>"
            ]
          },
          "metadata": {
            "tags": [],
            "needs_background": "light"
          }
        }
      ]
    }
  ]
}