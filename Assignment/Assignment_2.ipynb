{
  "nbformat": 4,
  "nbformat_minor": 0,
  "metadata": {
    "colab": {
      "name": "Assignment_2.ipynb",
      "provenance": [],
      "collapsed_sections": [],
      "toc_visible": true,
      "machine_shape": "hm",
      "include_colab_link": true
    },
    "kernelspec": {
      "name": "python3",
      "display_name": "Python 3"
    },
    "accelerator": "GPU",
    "widgets": {
      "application/vnd.jupyter.widget-state+json": {
        "da279909921540c38475422a246fd2d5": {
          "model_module": "@jupyter-widgets/controls",
          "model_name": "HBoxModel",
          "state": {
            "_view_name": "HBoxView",
            "_dom_classes": [],
            "_model_name": "HBoxModel",
            "_view_module": "@jupyter-widgets/controls",
            "_model_module_version": "1.5.0",
            "_view_count": null,
            "_view_module_version": "1.5.0",
            "box_style": "",
            "layout": "IPY_MODEL_41758dc0d3ab40f39438f90ccc509887",
            "_model_module": "@jupyter-widgets/controls",
            "children": [
              "IPY_MODEL_77ae743bd71b4fc28d947fcac3fdc7cf",
              "IPY_MODEL_cda45347e2e04b83b0755bcad54261ab"
            ]
          }
        },
        "41758dc0d3ab40f39438f90ccc509887": {
          "model_module": "@jupyter-widgets/base",
          "model_name": "LayoutModel",
          "state": {
            "_view_name": "LayoutView",
            "grid_template_rows": null,
            "right": null,
            "justify_content": null,
            "_view_module": "@jupyter-widgets/base",
            "overflow": null,
            "_model_module_version": "1.2.0",
            "_view_count": null,
            "flex_flow": null,
            "width": null,
            "min_width": null,
            "border": null,
            "align_items": null,
            "bottom": null,
            "_model_module": "@jupyter-widgets/base",
            "top": null,
            "grid_column": null,
            "overflow_y": null,
            "overflow_x": null,
            "grid_auto_flow": null,
            "grid_area": null,
            "grid_template_columns": null,
            "flex": null,
            "_model_name": "LayoutModel",
            "justify_items": null,
            "grid_row": null,
            "max_height": null,
            "align_content": null,
            "visibility": null,
            "align_self": null,
            "height": null,
            "min_height": null,
            "padding": null,
            "grid_auto_rows": null,
            "grid_gap": null,
            "max_width": null,
            "order": null,
            "_view_module_version": "1.2.0",
            "grid_template_areas": null,
            "object_position": null,
            "object_fit": null,
            "grid_auto_columns": null,
            "margin": null,
            "display": null,
            "left": null
          }
        },
        "77ae743bd71b4fc28d947fcac3fdc7cf": {
          "model_module": "@jupyter-widgets/controls",
          "model_name": "FloatProgressModel",
          "state": {
            "_view_name": "ProgressView",
            "style": "IPY_MODEL_3665a5d3dbd347cebb12da5359c1d07d",
            "_dom_classes": [],
            "description": "Downloading: 100%",
            "_model_name": "FloatProgressModel",
            "bar_style": "success",
            "max": 798011,
            "_view_module": "@jupyter-widgets/controls",
            "_model_module_version": "1.5.0",
            "value": 798011,
            "_view_count": null,
            "_view_module_version": "1.5.0",
            "orientation": "horizontal",
            "min": 0,
            "description_tooltip": null,
            "_model_module": "@jupyter-widgets/controls",
            "layout": "IPY_MODEL_74451e89f6a44b519e4000eefc24331b"
          }
        },
        "cda45347e2e04b83b0755bcad54261ab": {
          "model_module": "@jupyter-widgets/controls",
          "model_name": "HTMLModel",
          "state": {
            "_view_name": "HTMLView",
            "style": "IPY_MODEL_a27275ea23e642488b25f55a184d855c",
            "_dom_classes": [],
            "description": "",
            "_model_name": "HTMLModel",
            "placeholder": "​",
            "_view_module": "@jupyter-widgets/controls",
            "_model_module_version": "1.5.0",
            "value": " 798k/798k [00:02&lt;00:00, 273kB/s]",
            "_view_count": null,
            "_view_module_version": "1.5.0",
            "description_tooltip": null,
            "_model_module": "@jupyter-widgets/controls",
            "layout": "IPY_MODEL_795f918795564122968c2406b9585791"
          }
        },
        "3665a5d3dbd347cebb12da5359c1d07d": {
          "model_module": "@jupyter-widgets/controls",
          "model_name": "ProgressStyleModel",
          "state": {
            "_view_name": "StyleView",
            "_model_name": "ProgressStyleModel",
            "description_width": "initial",
            "_view_module": "@jupyter-widgets/base",
            "_model_module_version": "1.5.0",
            "_view_count": null,
            "_view_module_version": "1.2.0",
            "bar_color": null,
            "_model_module": "@jupyter-widgets/controls"
          }
        },
        "74451e89f6a44b519e4000eefc24331b": {
          "model_module": "@jupyter-widgets/base",
          "model_name": "LayoutModel",
          "state": {
            "_view_name": "LayoutView",
            "grid_template_rows": null,
            "right": null,
            "justify_content": null,
            "_view_module": "@jupyter-widgets/base",
            "overflow": null,
            "_model_module_version": "1.2.0",
            "_view_count": null,
            "flex_flow": null,
            "width": null,
            "min_width": null,
            "border": null,
            "align_items": null,
            "bottom": null,
            "_model_module": "@jupyter-widgets/base",
            "top": null,
            "grid_column": null,
            "overflow_y": null,
            "overflow_x": null,
            "grid_auto_flow": null,
            "grid_area": null,
            "grid_template_columns": null,
            "flex": null,
            "_model_name": "LayoutModel",
            "justify_items": null,
            "grid_row": null,
            "max_height": null,
            "align_content": null,
            "visibility": null,
            "align_self": null,
            "height": null,
            "min_height": null,
            "padding": null,
            "grid_auto_rows": null,
            "grid_gap": null,
            "max_width": null,
            "order": null,
            "_view_module_version": "1.2.0",
            "grid_template_areas": null,
            "object_position": null,
            "object_fit": null,
            "grid_auto_columns": null,
            "margin": null,
            "display": null,
            "left": null
          }
        },
        "a27275ea23e642488b25f55a184d855c": {
          "model_module": "@jupyter-widgets/controls",
          "model_name": "DescriptionStyleModel",
          "state": {
            "_view_name": "StyleView",
            "_model_name": "DescriptionStyleModel",
            "description_width": "",
            "_view_module": "@jupyter-widgets/base",
            "_model_module_version": "1.5.0",
            "_view_count": null,
            "_view_module_version": "1.2.0",
            "_model_module": "@jupyter-widgets/controls"
          }
        },
        "795f918795564122968c2406b9585791": {
          "model_module": "@jupyter-widgets/base",
          "model_name": "LayoutModel",
          "state": {
            "_view_name": "LayoutView",
            "grid_template_rows": null,
            "right": null,
            "justify_content": null,
            "_view_module": "@jupyter-widgets/base",
            "overflow": null,
            "_model_module_version": "1.2.0",
            "_view_count": null,
            "flex_flow": null,
            "width": null,
            "min_width": null,
            "border": null,
            "align_items": null,
            "bottom": null,
            "_model_module": "@jupyter-widgets/base",
            "top": null,
            "grid_column": null,
            "overflow_y": null,
            "overflow_x": null,
            "grid_auto_flow": null,
            "grid_area": null,
            "grid_template_columns": null,
            "flex": null,
            "_model_name": "LayoutModel",
            "justify_items": null,
            "grid_row": null,
            "max_height": null,
            "align_content": null,
            "visibility": null,
            "align_self": null,
            "height": null,
            "min_height": null,
            "padding": null,
            "grid_auto_rows": null,
            "grid_gap": null,
            "max_width": null,
            "order": null,
            "_view_module_version": "1.2.0",
            "grid_template_areas": null,
            "object_position": null,
            "object_fit": null,
            "grid_auto_columns": null,
            "margin": null,
            "display": null,
            "left": null
          }
        },
        "babd6bd4675b4065836d8263ca725b17": {
          "model_module": "@jupyter-widgets/controls",
          "model_name": "HBoxModel",
          "state": {
            "_view_name": "HBoxView",
            "_dom_classes": [],
            "_model_name": "HBoxModel",
            "_view_module": "@jupyter-widgets/controls",
            "_model_module_version": "1.5.0",
            "_view_count": null,
            "_view_module_version": "1.5.0",
            "box_style": "",
            "layout": "IPY_MODEL_841d2329780e44ce9149343bb42b4d26",
            "_model_module": "@jupyter-widgets/controls",
            "children": [
              "IPY_MODEL_c2b22a02d3f74af1bda2a987d44845a1",
              "IPY_MODEL_756cee63abda4775a70bb7aca52494a6"
            ]
          }
        },
        "841d2329780e44ce9149343bb42b4d26": {
          "model_module": "@jupyter-widgets/base",
          "model_name": "LayoutModel",
          "state": {
            "_view_name": "LayoutView",
            "grid_template_rows": null,
            "right": null,
            "justify_content": null,
            "_view_module": "@jupyter-widgets/base",
            "overflow": null,
            "_model_module_version": "1.2.0",
            "_view_count": null,
            "flex_flow": null,
            "width": null,
            "min_width": null,
            "border": null,
            "align_items": null,
            "bottom": null,
            "_model_module": "@jupyter-widgets/base",
            "top": null,
            "grid_column": null,
            "overflow_y": null,
            "overflow_x": null,
            "grid_auto_flow": null,
            "grid_area": null,
            "grid_template_columns": null,
            "flex": null,
            "_model_name": "LayoutModel",
            "justify_items": null,
            "grid_row": null,
            "max_height": null,
            "align_content": null,
            "visibility": null,
            "align_self": null,
            "height": null,
            "min_height": null,
            "padding": null,
            "grid_auto_rows": null,
            "grid_gap": null,
            "max_width": null,
            "order": null,
            "_view_module_version": "1.2.0",
            "grid_template_areas": null,
            "object_position": null,
            "object_fit": null,
            "grid_auto_columns": null,
            "margin": null,
            "display": null,
            "left": null
          }
        },
        "c2b22a02d3f74af1bda2a987d44845a1": {
          "model_module": "@jupyter-widgets/controls",
          "model_name": "FloatProgressModel",
          "state": {
            "_view_name": "ProgressView",
            "style": "IPY_MODEL_83a1de1b73624a5ca746f1d9bd9f8c9b",
            "_dom_classes": [],
            "description": "Downloading: 100%",
            "_model_name": "FloatProgressModel",
            "bar_style": "success",
            "max": 1382015,
            "_view_module": "@jupyter-widgets/controls",
            "_model_module_version": "1.5.0",
            "value": 1382015,
            "_view_count": null,
            "_view_module_version": "1.5.0",
            "orientation": "horizontal",
            "min": 0,
            "description_tooltip": null,
            "_model_module": "@jupyter-widgets/controls",
            "layout": "IPY_MODEL_48d009f6c4a9491c97db09152e506a1b"
          }
        },
        "756cee63abda4775a70bb7aca52494a6": {
          "model_module": "@jupyter-widgets/controls",
          "model_name": "HTMLModel",
          "state": {
            "_view_name": "HTMLView",
            "style": "IPY_MODEL_14bf56ea77134a68a65ba5232fd6dcb9",
            "_dom_classes": [],
            "description": "",
            "_model_name": "HTMLModel",
            "placeholder": "​",
            "_view_module": "@jupyter-widgets/controls",
            "_model_module_version": "1.5.0",
            "value": " 1.38M/1.38M [00:01&lt;00:00, 1.24MB/s]",
            "_view_count": null,
            "_view_module_version": "1.5.0",
            "description_tooltip": null,
            "_model_module": "@jupyter-widgets/controls",
            "layout": "IPY_MODEL_873e41ed53d04c509f4336d8bb4f89a3"
          }
        },
        "83a1de1b73624a5ca746f1d9bd9f8c9b": {
          "model_module": "@jupyter-widgets/controls",
          "model_name": "ProgressStyleModel",
          "state": {
            "_view_name": "StyleView",
            "_model_name": "ProgressStyleModel",
            "description_width": "initial",
            "_view_module": "@jupyter-widgets/base",
            "_model_module_version": "1.5.0",
            "_view_count": null,
            "_view_module_version": "1.2.0",
            "bar_color": null,
            "_model_module": "@jupyter-widgets/controls"
          }
        },
        "48d009f6c4a9491c97db09152e506a1b": {
          "model_module": "@jupyter-widgets/base",
          "model_name": "LayoutModel",
          "state": {
            "_view_name": "LayoutView",
            "grid_template_rows": null,
            "right": null,
            "justify_content": null,
            "_view_module": "@jupyter-widgets/base",
            "overflow": null,
            "_model_module_version": "1.2.0",
            "_view_count": null,
            "flex_flow": null,
            "width": null,
            "min_width": null,
            "border": null,
            "align_items": null,
            "bottom": null,
            "_model_module": "@jupyter-widgets/base",
            "top": null,
            "grid_column": null,
            "overflow_y": null,
            "overflow_x": null,
            "grid_auto_flow": null,
            "grid_area": null,
            "grid_template_columns": null,
            "flex": null,
            "_model_name": "LayoutModel",
            "justify_items": null,
            "grid_row": null,
            "max_height": null,
            "align_content": null,
            "visibility": null,
            "align_self": null,
            "height": null,
            "min_height": null,
            "padding": null,
            "grid_auto_rows": null,
            "grid_gap": null,
            "max_width": null,
            "order": null,
            "_view_module_version": "1.2.0",
            "grid_template_areas": null,
            "object_position": null,
            "object_fit": null,
            "grid_auto_columns": null,
            "margin": null,
            "display": null,
            "left": null
          }
        },
        "14bf56ea77134a68a65ba5232fd6dcb9": {
          "model_module": "@jupyter-widgets/controls",
          "model_name": "DescriptionStyleModel",
          "state": {
            "_view_name": "StyleView",
            "_model_name": "DescriptionStyleModel",
            "description_width": "",
            "_view_module": "@jupyter-widgets/base",
            "_model_module_version": "1.5.0",
            "_view_count": null,
            "_view_module_version": "1.2.0",
            "_model_module": "@jupyter-widgets/controls"
          }
        },
        "873e41ed53d04c509f4336d8bb4f89a3": {
          "model_module": "@jupyter-widgets/base",
          "model_name": "LayoutModel",
          "state": {
            "_view_name": "LayoutView",
            "grid_template_rows": null,
            "right": null,
            "justify_content": null,
            "_view_module": "@jupyter-widgets/base",
            "overflow": null,
            "_model_module_version": "1.2.0",
            "_view_count": null,
            "flex_flow": null,
            "width": null,
            "min_width": null,
            "border": null,
            "align_items": null,
            "bottom": null,
            "_model_module": "@jupyter-widgets/base",
            "top": null,
            "grid_column": null,
            "overflow_y": null,
            "overflow_x": null,
            "grid_auto_flow": null,
            "grid_area": null,
            "grid_template_columns": null,
            "flex": null,
            "_model_name": "LayoutModel",
            "justify_items": null,
            "grid_row": null,
            "max_height": null,
            "align_content": null,
            "visibility": null,
            "align_self": null,
            "height": null,
            "min_height": null,
            "padding": null,
            "grid_auto_rows": null,
            "grid_gap": null,
            "max_width": null,
            "order": null,
            "_view_module_version": "1.2.0",
            "grid_template_areas": null,
            "object_position": null,
            "object_fit": null,
            "grid_auto_columns": null,
            "margin": null,
            "display": null,
            "left": null
          }
        },
        "46481a00ea464bb7aa5a6fb0b03d6bfc": {
          "model_module": "@jupyter-widgets/controls",
          "model_name": "HBoxModel",
          "state": {
            "_view_name": "HBoxView",
            "_dom_classes": [],
            "_model_name": "HBoxModel",
            "_view_module": "@jupyter-widgets/controls",
            "_model_module_version": "1.5.0",
            "_view_count": null,
            "_view_module_version": "1.5.0",
            "box_style": "",
            "layout": "IPY_MODEL_5867ffe366f14c1d9a331a5768d39b28",
            "_model_module": "@jupyter-widgets/controls",
            "children": [
              "IPY_MODEL_0eb8a93e5f5e4f8ca214a596c7feda5e",
              "IPY_MODEL_a0356f18562d485fa2f464158f3e6282"
            ]
          }
        },
        "5867ffe366f14c1d9a331a5768d39b28": {
          "model_module": "@jupyter-widgets/base",
          "model_name": "LayoutModel",
          "state": {
            "_view_name": "LayoutView",
            "grid_template_rows": null,
            "right": null,
            "justify_content": null,
            "_view_module": "@jupyter-widgets/base",
            "overflow": null,
            "_model_module_version": "1.2.0",
            "_view_count": null,
            "flex_flow": null,
            "width": null,
            "min_width": null,
            "border": null,
            "align_items": null,
            "bottom": null,
            "_model_module": "@jupyter-widgets/base",
            "top": null,
            "grid_column": null,
            "overflow_y": null,
            "overflow_x": null,
            "grid_auto_flow": null,
            "grid_area": null,
            "grid_template_columns": null,
            "flex": null,
            "_model_name": "LayoutModel",
            "justify_items": null,
            "grid_row": null,
            "max_height": null,
            "align_content": null,
            "visibility": null,
            "align_self": null,
            "height": null,
            "min_height": null,
            "padding": null,
            "grid_auto_rows": null,
            "grid_gap": null,
            "max_width": null,
            "order": null,
            "_view_module_version": "1.2.0",
            "grid_template_areas": null,
            "object_position": null,
            "object_fit": null,
            "grid_auto_columns": null,
            "margin": null,
            "display": null,
            "left": null
          }
        },
        "0eb8a93e5f5e4f8ca214a596c7feda5e": {
          "model_module": "@jupyter-widgets/controls",
          "model_name": "FloatProgressModel",
          "state": {
            "_view_name": "ProgressView",
            "style": "IPY_MODEL_430e49fd8e3e453c866cdc3ebd71e145",
            "_dom_classes": [],
            "description": "Downloading: 100%",
            "_model_name": "FloatProgressModel",
            "bar_style": "success",
            "max": 760,
            "_view_module": "@jupyter-widgets/controls",
            "_model_module_version": "1.5.0",
            "value": 760,
            "_view_count": null,
            "_view_module_version": "1.5.0",
            "orientation": "horizontal",
            "min": 0,
            "description_tooltip": null,
            "_model_module": "@jupyter-widgets/controls",
            "layout": "IPY_MODEL_cedaf1fa97e3432dad7736f95ac771dc"
          }
        },
        "a0356f18562d485fa2f464158f3e6282": {
          "model_module": "@jupyter-widgets/controls",
          "model_name": "HTMLModel",
          "state": {
            "_view_name": "HTMLView",
            "style": "IPY_MODEL_eca0a2638a154e0793c55f24b8db2510",
            "_dom_classes": [],
            "description": "",
            "_model_name": "HTMLModel",
            "placeholder": "​",
            "_view_module": "@jupyter-widgets/controls",
            "_model_module_version": "1.5.0",
            "value": " 760/760 [00:27&lt;00:00, 27.5B/s]",
            "_view_count": null,
            "_view_module_version": "1.5.0",
            "description_tooltip": null,
            "_model_module": "@jupyter-widgets/controls",
            "layout": "IPY_MODEL_107944cb4dc54550abd0f52f67184146"
          }
        },
        "430e49fd8e3e453c866cdc3ebd71e145": {
          "model_module": "@jupyter-widgets/controls",
          "model_name": "ProgressStyleModel",
          "state": {
            "_view_name": "StyleView",
            "_model_name": "ProgressStyleModel",
            "description_width": "initial",
            "_view_module": "@jupyter-widgets/base",
            "_model_module_version": "1.5.0",
            "_view_count": null,
            "_view_module_version": "1.2.0",
            "bar_color": null,
            "_model_module": "@jupyter-widgets/controls"
          }
        },
        "cedaf1fa97e3432dad7736f95ac771dc": {
          "model_module": "@jupyter-widgets/base",
          "model_name": "LayoutModel",
          "state": {
            "_view_name": "LayoutView",
            "grid_template_rows": null,
            "right": null,
            "justify_content": null,
            "_view_module": "@jupyter-widgets/base",
            "overflow": null,
            "_model_module_version": "1.2.0",
            "_view_count": null,
            "flex_flow": null,
            "width": null,
            "min_width": null,
            "border": null,
            "align_items": null,
            "bottom": null,
            "_model_module": "@jupyter-widgets/base",
            "top": null,
            "grid_column": null,
            "overflow_y": null,
            "overflow_x": null,
            "grid_auto_flow": null,
            "grid_area": null,
            "grid_template_columns": null,
            "flex": null,
            "_model_name": "LayoutModel",
            "justify_items": null,
            "grid_row": null,
            "max_height": null,
            "align_content": null,
            "visibility": null,
            "align_self": null,
            "height": null,
            "min_height": null,
            "padding": null,
            "grid_auto_rows": null,
            "grid_gap": null,
            "max_width": null,
            "order": null,
            "_view_module_version": "1.2.0",
            "grid_template_areas": null,
            "object_position": null,
            "object_fit": null,
            "grid_auto_columns": null,
            "margin": null,
            "display": null,
            "left": null
          }
        },
        "eca0a2638a154e0793c55f24b8db2510": {
          "model_module": "@jupyter-widgets/controls",
          "model_name": "DescriptionStyleModel",
          "state": {
            "_view_name": "StyleView",
            "_model_name": "DescriptionStyleModel",
            "description_width": "",
            "_view_module": "@jupyter-widgets/base",
            "_model_module_version": "1.5.0",
            "_view_count": null,
            "_view_module_version": "1.2.0",
            "_model_module": "@jupyter-widgets/controls"
          }
        },
        "107944cb4dc54550abd0f52f67184146": {
          "model_module": "@jupyter-widgets/base",
          "model_name": "LayoutModel",
          "state": {
            "_view_name": "LayoutView",
            "grid_template_rows": null,
            "right": null,
            "justify_content": null,
            "_view_module": "@jupyter-widgets/base",
            "overflow": null,
            "_model_module_version": "1.2.0",
            "_view_count": null,
            "flex_flow": null,
            "width": null,
            "min_width": null,
            "border": null,
            "align_items": null,
            "bottom": null,
            "_model_module": "@jupyter-widgets/base",
            "top": null,
            "grid_column": null,
            "overflow_y": null,
            "overflow_x": null,
            "grid_auto_flow": null,
            "grid_area": null,
            "grid_template_columns": null,
            "flex": null,
            "_model_name": "LayoutModel",
            "justify_items": null,
            "grid_row": null,
            "max_height": null,
            "align_content": null,
            "visibility": null,
            "align_self": null,
            "height": null,
            "min_height": null,
            "padding": null,
            "grid_auto_rows": null,
            "grid_gap": null,
            "max_width": null,
            "order": null,
            "_view_module_version": "1.2.0",
            "grid_template_areas": null,
            "object_position": null,
            "object_fit": null,
            "grid_auto_columns": null,
            "margin": null,
            "display": null,
            "left": null
          }
        },
        "d731faabf4394c188bcbbf0f1d379c12": {
          "model_module": "@jupyter-widgets/controls",
          "model_name": "HBoxModel",
          "state": {
            "_view_name": "HBoxView",
            "_dom_classes": [],
            "_model_name": "HBoxModel",
            "_view_module": "@jupyter-widgets/controls",
            "_model_module_version": "1.5.0",
            "_view_count": null,
            "_view_module_version": "1.5.0",
            "box_style": "",
            "layout": "IPY_MODEL_8cb47361df874e368ee4cb8098d443fe",
            "_model_module": "@jupyter-widgets/controls",
            "children": [
              "IPY_MODEL_6d70ca84c04649fb8eab33a983ede474",
              "IPY_MODEL_79ebc37d5c8c4bc387048caa9852f573"
            ]
          }
        },
        "8cb47361df874e368ee4cb8098d443fe": {
          "model_module": "@jupyter-widgets/base",
          "model_name": "LayoutModel",
          "state": {
            "_view_name": "LayoutView",
            "grid_template_rows": null,
            "right": null,
            "justify_content": null,
            "_view_module": "@jupyter-widgets/base",
            "overflow": null,
            "_model_module_version": "1.2.0",
            "_view_count": null,
            "flex_flow": null,
            "width": null,
            "min_width": null,
            "border": null,
            "align_items": null,
            "bottom": null,
            "_model_module": "@jupyter-widgets/base",
            "top": null,
            "grid_column": null,
            "overflow_y": null,
            "overflow_x": null,
            "grid_auto_flow": null,
            "grid_area": null,
            "grid_template_columns": null,
            "flex": null,
            "_model_name": "LayoutModel",
            "justify_items": null,
            "grid_row": null,
            "max_height": null,
            "align_content": null,
            "visibility": null,
            "align_self": null,
            "height": null,
            "min_height": null,
            "padding": null,
            "grid_auto_rows": null,
            "grid_gap": null,
            "max_width": null,
            "order": null,
            "_view_module_version": "1.2.0",
            "grid_template_areas": null,
            "object_position": null,
            "object_fit": null,
            "grid_auto_columns": null,
            "margin": null,
            "display": null,
            "left": null
          }
        },
        "6d70ca84c04649fb8eab33a983ede474": {
          "model_module": "@jupyter-widgets/controls",
          "model_name": "FloatProgressModel",
          "state": {
            "_view_name": "ProgressView",
            "style": "IPY_MODEL_fa23f26ad7eb41d7b4836d5f0b0155ca",
            "_dom_classes": [],
            "description": "Downloading: 100%",
            "_model_name": "FloatProgressModel",
            "bar_style": "success",
            "max": 565485600,
            "_view_module": "@jupyter-widgets/controls",
            "_model_module_version": "1.5.0",
            "value": 565485600,
            "_view_count": null,
            "_view_module_version": "1.5.0",
            "orientation": "horizontal",
            "min": 0,
            "description_tooltip": null,
            "_model_module": "@jupyter-widgets/controls",
            "layout": "IPY_MODEL_b731b29f16bd48189a508f160a9a23f5"
          }
        },
        "79ebc37d5c8c4bc387048caa9852f573": {
          "model_module": "@jupyter-widgets/controls",
          "model_name": "HTMLModel",
          "state": {
            "_view_name": "HTMLView",
            "style": "IPY_MODEL_d86b33371a1043a0889ce1968e791493",
            "_dom_classes": [],
            "description": "",
            "_model_name": "HTMLModel",
            "placeholder": "​",
            "_view_module": "@jupyter-widgets/controls",
            "_model_module_version": "1.5.0",
            "value": " 565M/565M [00:09&lt;00:00, 57.5MB/s]",
            "_view_count": null,
            "_view_module_version": "1.5.0",
            "description_tooltip": null,
            "_model_module": "@jupyter-widgets/controls",
            "layout": "IPY_MODEL_5bc6dbbfb92b4b82a27b9e230231d957"
          }
        },
        "fa23f26ad7eb41d7b4836d5f0b0155ca": {
          "model_module": "@jupyter-widgets/controls",
          "model_name": "ProgressStyleModel",
          "state": {
            "_view_name": "StyleView",
            "_model_name": "ProgressStyleModel",
            "description_width": "initial",
            "_view_module": "@jupyter-widgets/base",
            "_model_module_version": "1.5.0",
            "_view_count": null,
            "_view_module_version": "1.2.0",
            "bar_color": null,
            "_model_module": "@jupyter-widgets/controls"
          }
        },
        "b731b29f16bd48189a508f160a9a23f5": {
          "model_module": "@jupyter-widgets/base",
          "model_name": "LayoutModel",
          "state": {
            "_view_name": "LayoutView",
            "grid_template_rows": null,
            "right": null,
            "justify_content": null,
            "_view_module": "@jupyter-widgets/base",
            "overflow": null,
            "_model_module_version": "1.2.0",
            "_view_count": null,
            "flex_flow": null,
            "width": null,
            "min_width": null,
            "border": null,
            "align_items": null,
            "bottom": null,
            "_model_module": "@jupyter-widgets/base",
            "top": null,
            "grid_column": null,
            "overflow_y": null,
            "overflow_x": null,
            "grid_auto_flow": null,
            "grid_area": null,
            "grid_template_columns": null,
            "flex": null,
            "_model_name": "LayoutModel",
            "justify_items": null,
            "grid_row": null,
            "max_height": null,
            "align_content": null,
            "visibility": null,
            "align_self": null,
            "height": null,
            "min_height": null,
            "padding": null,
            "grid_auto_rows": null,
            "grid_gap": null,
            "max_width": null,
            "order": null,
            "_view_module_version": "1.2.0",
            "grid_template_areas": null,
            "object_position": null,
            "object_fit": null,
            "grid_auto_columns": null,
            "margin": null,
            "display": null,
            "left": null
          }
        },
        "d86b33371a1043a0889ce1968e791493": {
          "model_module": "@jupyter-widgets/controls",
          "model_name": "DescriptionStyleModel",
          "state": {
            "_view_name": "StyleView",
            "_model_name": "DescriptionStyleModel",
            "description_width": "",
            "_view_module": "@jupyter-widgets/base",
            "_model_module_version": "1.5.0",
            "_view_count": null,
            "_view_module_version": "1.2.0",
            "_model_module": "@jupyter-widgets/controls"
          }
        },
        "5bc6dbbfb92b4b82a27b9e230231d957": {
          "model_module": "@jupyter-widgets/base",
          "model_name": "LayoutModel",
          "state": {
            "_view_name": "LayoutView",
            "grid_template_rows": null,
            "right": null,
            "justify_content": null,
            "_view_module": "@jupyter-widgets/base",
            "overflow": null,
            "_model_module_version": "1.2.0",
            "_view_count": null,
            "flex_flow": null,
            "width": null,
            "min_width": null,
            "border": null,
            "align_items": null,
            "bottom": null,
            "_model_module": "@jupyter-widgets/base",
            "top": null,
            "grid_column": null,
            "overflow_y": null,
            "overflow_x": null,
            "grid_auto_flow": null,
            "grid_area": null,
            "grid_template_columns": null,
            "flex": null,
            "_model_name": "LayoutModel",
            "justify_items": null,
            "grid_row": null,
            "max_height": null,
            "align_content": null,
            "visibility": null,
            "align_self": null,
            "height": null,
            "min_height": null,
            "padding": null,
            "grid_auto_rows": null,
            "grid_gap": null,
            "max_width": null,
            "order": null,
            "_view_module_version": "1.2.0",
            "grid_template_areas": null,
            "object_position": null,
            "object_fit": null,
            "grid_auto_columns": null,
            "margin": null,
            "display": null,
            "left": null
          }
        },
        "86dc45423bf6410f9d0f32cbfc549a1b": {
          "model_module": "@jupyter-widgets/controls",
          "model_name": "HBoxModel",
          "state": {
            "_view_name": "HBoxView",
            "_dom_classes": [],
            "_model_name": "HBoxModel",
            "_view_module": "@jupyter-widgets/controls",
            "_model_module_version": "1.5.0",
            "_view_count": null,
            "_view_module_version": "1.5.0",
            "box_style": "",
            "layout": "IPY_MODEL_b79d1819c5794fd9bd80d117393c9522",
            "_model_module": "@jupyter-widgets/controls",
            "children": [
              "IPY_MODEL_84f30e74f64043c9b88df483ef5da08f",
              "IPY_MODEL_38e7724a206f40b3ae7fea0f084b52b7"
            ]
          }
        },
        "b79d1819c5794fd9bd80d117393c9522": {
          "model_module": "@jupyter-widgets/base",
          "model_name": "LayoutModel",
          "state": {
            "_view_name": "LayoutView",
            "grid_template_rows": null,
            "right": null,
            "justify_content": null,
            "_view_module": "@jupyter-widgets/base",
            "overflow": null,
            "_model_module_version": "1.2.0",
            "_view_count": null,
            "flex_flow": null,
            "width": null,
            "min_width": null,
            "border": null,
            "align_items": null,
            "bottom": null,
            "_model_module": "@jupyter-widgets/base",
            "top": null,
            "grid_column": null,
            "overflow_y": null,
            "overflow_x": null,
            "grid_auto_flow": null,
            "grid_area": null,
            "grid_template_columns": null,
            "flex": null,
            "_model_name": "LayoutModel",
            "justify_items": null,
            "grid_row": null,
            "max_height": null,
            "align_content": null,
            "visibility": null,
            "align_self": null,
            "height": null,
            "min_height": null,
            "padding": null,
            "grid_auto_rows": null,
            "grid_gap": null,
            "max_width": null,
            "order": null,
            "_view_module_version": "1.2.0",
            "grid_template_areas": null,
            "object_position": null,
            "object_fit": null,
            "grid_auto_columns": null,
            "margin": null,
            "display": null,
            "left": null
          }
        },
        "84f30e74f64043c9b88df483ef5da08f": {
          "model_module": "@jupyter-widgets/controls",
          "model_name": "FloatProgressModel",
          "state": {
            "_view_name": "ProgressView",
            "style": "IPY_MODEL_f539c6f6590e456b862ef56eafa3aa13",
            "_dom_classes": [],
            "description": "Downloading: 100%",
            "_model_name": "FloatProgressModel",
            "bar_style": "success",
            "max": 231508,
            "_view_module": "@jupyter-widgets/controls",
            "_model_module_version": "1.5.0",
            "value": 231508,
            "_view_count": null,
            "_view_module_version": "1.5.0",
            "orientation": "horizontal",
            "min": 0,
            "description_tooltip": null,
            "_model_module": "@jupyter-widgets/controls",
            "layout": "IPY_MODEL_6b92f545fa3245d1952977befc931169"
          }
        },
        "38e7724a206f40b3ae7fea0f084b52b7": {
          "model_module": "@jupyter-widgets/controls",
          "model_name": "HTMLModel",
          "state": {
            "_view_name": "HTMLView",
            "style": "IPY_MODEL_322277b23d9e4d88bd2866a129df066c",
            "_dom_classes": [],
            "description": "",
            "_model_name": "HTMLModel",
            "placeholder": "​",
            "_view_module": "@jupyter-widgets/controls",
            "_model_module_version": "1.5.0",
            "value": " 232k/232k [00:02&lt;00:00, 94.4kB/s]",
            "_view_count": null,
            "_view_module_version": "1.5.0",
            "description_tooltip": null,
            "_model_module": "@jupyter-widgets/controls",
            "layout": "IPY_MODEL_718457bf00ec4d46975153dcdf422c63"
          }
        },
        "f539c6f6590e456b862ef56eafa3aa13": {
          "model_module": "@jupyter-widgets/controls",
          "model_name": "ProgressStyleModel",
          "state": {
            "_view_name": "StyleView",
            "_model_name": "ProgressStyleModel",
            "description_width": "initial",
            "_view_module": "@jupyter-widgets/base",
            "_model_module_version": "1.5.0",
            "_view_count": null,
            "_view_module_version": "1.2.0",
            "bar_color": null,
            "_model_module": "@jupyter-widgets/controls"
          }
        },
        "6b92f545fa3245d1952977befc931169": {
          "model_module": "@jupyter-widgets/base",
          "model_name": "LayoutModel",
          "state": {
            "_view_name": "LayoutView",
            "grid_template_rows": null,
            "right": null,
            "justify_content": null,
            "_view_module": "@jupyter-widgets/base",
            "overflow": null,
            "_model_module_version": "1.2.0",
            "_view_count": null,
            "flex_flow": null,
            "width": null,
            "min_width": null,
            "border": null,
            "align_items": null,
            "bottom": null,
            "_model_module": "@jupyter-widgets/base",
            "top": null,
            "grid_column": null,
            "overflow_y": null,
            "overflow_x": null,
            "grid_auto_flow": null,
            "grid_area": null,
            "grid_template_columns": null,
            "flex": null,
            "_model_name": "LayoutModel",
            "justify_items": null,
            "grid_row": null,
            "max_height": null,
            "align_content": null,
            "visibility": null,
            "align_self": null,
            "height": null,
            "min_height": null,
            "padding": null,
            "grid_auto_rows": null,
            "grid_gap": null,
            "max_width": null,
            "order": null,
            "_view_module_version": "1.2.0",
            "grid_template_areas": null,
            "object_position": null,
            "object_fit": null,
            "grid_auto_columns": null,
            "margin": null,
            "display": null,
            "left": null
          }
        },
        "322277b23d9e4d88bd2866a129df066c": {
          "model_module": "@jupyter-widgets/controls",
          "model_name": "DescriptionStyleModel",
          "state": {
            "_view_name": "StyleView",
            "_model_name": "DescriptionStyleModel",
            "description_width": "",
            "_view_module": "@jupyter-widgets/base",
            "_model_module_version": "1.5.0",
            "_view_count": null,
            "_view_module_version": "1.2.0",
            "_model_module": "@jupyter-widgets/controls"
          }
        },
        "718457bf00ec4d46975153dcdf422c63": {
          "model_module": "@jupyter-widgets/base",
          "model_name": "LayoutModel",
          "state": {
            "_view_name": "LayoutView",
            "grid_template_rows": null,
            "right": null,
            "justify_content": null,
            "_view_module": "@jupyter-widgets/base",
            "overflow": null,
            "_model_module_version": "1.2.0",
            "_view_count": null,
            "flex_flow": null,
            "width": null,
            "min_width": null,
            "border": null,
            "align_items": null,
            "bottom": null,
            "_model_module": "@jupyter-widgets/base",
            "top": null,
            "grid_column": null,
            "overflow_y": null,
            "overflow_x": null,
            "grid_auto_flow": null,
            "grid_area": null,
            "grid_template_columns": null,
            "flex": null,
            "_model_name": "LayoutModel",
            "justify_items": null,
            "grid_row": null,
            "max_height": null,
            "align_content": null,
            "visibility": null,
            "align_self": null,
            "height": null,
            "min_height": null,
            "padding": null,
            "grid_auto_rows": null,
            "grid_gap": null,
            "max_width": null,
            "order": null,
            "_view_module_version": "1.2.0",
            "grid_template_areas": null,
            "object_position": null,
            "object_fit": null,
            "grid_auto_columns": null,
            "margin": null,
            "display": null,
            "left": null
          }
        },
        "1e4e9e3326ea4d84ba50300ddfdb33ed": {
          "model_module": "@jupyter-widgets/controls",
          "model_name": "HBoxModel",
          "state": {
            "_view_name": "HBoxView",
            "_dom_classes": [],
            "_model_name": "HBoxModel",
            "_view_module": "@jupyter-widgets/controls",
            "_model_module_version": "1.5.0",
            "_view_count": null,
            "_view_module_version": "1.5.0",
            "box_style": "",
            "layout": "IPY_MODEL_b714801d57c74fceabe326337371dc98",
            "_model_module": "@jupyter-widgets/controls",
            "children": [
              "IPY_MODEL_f61bfa1727df4b9f8cac37b068a1b08d",
              "IPY_MODEL_8e5a92e76589430b90b98142da63032d"
            ]
          }
        },
        "b714801d57c74fceabe326337371dc98": {
          "model_module": "@jupyter-widgets/base",
          "model_name": "LayoutModel",
          "state": {
            "_view_name": "LayoutView",
            "grid_template_rows": null,
            "right": null,
            "justify_content": null,
            "_view_module": "@jupyter-widgets/base",
            "overflow": null,
            "_model_module_version": "1.2.0",
            "_view_count": null,
            "flex_flow": null,
            "width": null,
            "min_width": null,
            "border": null,
            "align_items": null,
            "bottom": null,
            "_model_module": "@jupyter-widgets/base",
            "top": null,
            "grid_column": null,
            "overflow_y": null,
            "overflow_x": null,
            "grid_auto_flow": null,
            "grid_area": null,
            "grid_template_columns": null,
            "flex": null,
            "_model_name": "LayoutModel",
            "justify_items": null,
            "grid_row": null,
            "max_height": null,
            "align_content": null,
            "visibility": null,
            "align_self": null,
            "height": null,
            "min_height": null,
            "padding": null,
            "grid_auto_rows": null,
            "grid_gap": null,
            "max_width": null,
            "order": null,
            "_view_module_version": "1.2.0",
            "grid_template_areas": null,
            "object_position": null,
            "object_fit": null,
            "grid_auto_columns": null,
            "margin": null,
            "display": null,
            "left": null
          }
        },
        "f61bfa1727df4b9f8cac37b068a1b08d": {
          "model_module": "@jupyter-widgets/controls",
          "model_name": "FloatProgressModel",
          "state": {
            "_view_name": "ProgressView",
            "style": "IPY_MODEL_b5d419bfa30a4268a3fc95f200ad10ac",
            "_dom_classes": [],
            "description": "Downloading: 100%",
            "_model_name": "FloatProgressModel",
            "bar_style": "success",
            "max": 28,
            "_view_module": "@jupyter-widgets/controls",
            "_model_module_version": "1.5.0",
            "value": 28,
            "_view_count": null,
            "_view_module_version": "1.5.0",
            "orientation": "horizontal",
            "min": 0,
            "description_tooltip": null,
            "_model_module": "@jupyter-widgets/controls",
            "layout": "IPY_MODEL_682b6b03db7e4f1191f818870db74b79"
          }
        },
        "8e5a92e76589430b90b98142da63032d": {
          "model_module": "@jupyter-widgets/controls",
          "model_name": "HTMLModel",
          "state": {
            "_view_name": "HTMLView",
            "style": "IPY_MODEL_c882147ba3334757a3e9f6613c769c97",
            "_dom_classes": [],
            "description": "",
            "_model_name": "HTMLModel",
            "placeholder": "​",
            "_view_module": "@jupyter-widgets/controls",
            "_model_module_version": "1.5.0",
            "value": " 28.0/28.0 [00:01&lt;00:00, 27.4B/s]",
            "_view_count": null,
            "_view_module_version": "1.5.0",
            "description_tooltip": null,
            "_model_module": "@jupyter-widgets/controls",
            "layout": "IPY_MODEL_a93cb1318fa446119ff2ed177871b7ee"
          }
        },
        "b5d419bfa30a4268a3fc95f200ad10ac": {
          "model_module": "@jupyter-widgets/controls",
          "model_name": "ProgressStyleModel",
          "state": {
            "_view_name": "StyleView",
            "_model_name": "ProgressStyleModel",
            "description_width": "initial",
            "_view_module": "@jupyter-widgets/base",
            "_model_module_version": "1.5.0",
            "_view_count": null,
            "_view_module_version": "1.2.0",
            "bar_color": null,
            "_model_module": "@jupyter-widgets/controls"
          }
        },
        "682b6b03db7e4f1191f818870db74b79": {
          "model_module": "@jupyter-widgets/base",
          "model_name": "LayoutModel",
          "state": {
            "_view_name": "LayoutView",
            "grid_template_rows": null,
            "right": null,
            "justify_content": null,
            "_view_module": "@jupyter-widgets/base",
            "overflow": null,
            "_model_module_version": "1.2.0",
            "_view_count": null,
            "flex_flow": null,
            "width": null,
            "min_width": null,
            "border": null,
            "align_items": null,
            "bottom": null,
            "_model_module": "@jupyter-widgets/base",
            "top": null,
            "grid_column": null,
            "overflow_y": null,
            "overflow_x": null,
            "grid_auto_flow": null,
            "grid_area": null,
            "grid_template_columns": null,
            "flex": null,
            "_model_name": "LayoutModel",
            "justify_items": null,
            "grid_row": null,
            "max_height": null,
            "align_content": null,
            "visibility": null,
            "align_self": null,
            "height": null,
            "min_height": null,
            "padding": null,
            "grid_auto_rows": null,
            "grid_gap": null,
            "max_width": null,
            "order": null,
            "_view_module_version": "1.2.0",
            "grid_template_areas": null,
            "object_position": null,
            "object_fit": null,
            "grid_auto_columns": null,
            "margin": null,
            "display": null,
            "left": null
          }
        },
        "c882147ba3334757a3e9f6613c769c97": {
          "model_module": "@jupyter-widgets/controls",
          "model_name": "DescriptionStyleModel",
          "state": {
            "_view_name": "StyleView",
            "_model_name": "DescriptionStyleModel",
            "description_width": "",
            "_view_module": "@jupyter-widgets/base",
            "_model_module_version": "1.5.0",
            "_view_count": null,
            "_view_module_version": "1.2.0",
            "_model_module": "@jupyter-widgets/controls"
          }
        },
        "a93cb1318fa446119ff2ed177871b7ee": {
          "model_module": "@jupyter-widgets/base",
          "model_name": "LayoutModel",
          "state": {
            "_view_name": "LayoutView",
            "grid_template_rows": null,
            "right": null,
            "justify_content": null,
            "_view_module": "@jupyter-widgets/base",
            "overflow": null,
            "_model_module_version": "1.2.0",
            "_view_count": null,
            "flex_flow": null,
            "width": null,
            "min_width": null,
            "border": null,
            "align_items": null,
            "bottom": null,
            "_model_module": "@jupyter-widgets/base",
            "top": null,
            "grid_column": null,
            "overflow_y": null,
            "overflow_x": null,
            "grid_auto_flow": null,
            "grid_area": null,
            "grid_template_columns": null,
            "flex": null,
            "_model_name": "LayoutModel",
            "justify_items": null,
            "grid_row": null,
            "max_height": null,
            "align_content": null,
            "visibility": null,
            "align_self": null,
            "height": null,
            "min_height": null,
            "padding": null,
            "grid_auto_rows": null,
            "grid_gap": null,
            "max_width": null,
            "order": null,
            "_view_module_version": "1.2.0",
            "grid_template_areas": null,
            "object_position": null,
            "object_fit": null,
            "grid_auto_columns": null,
            "margin": null,
            "display": null,
            "left": null
          }
        },
        "1cc96d17ad764ec8ab38795139fb1f40": {
          "model_module": "@jupyter-widgets/controls",
          "model_name": "HBoxModel",
          "state": {
            "_view_name": "HBoxView",
            "_dom_classes": [],
            "_model_name": "HBoxModel",
            "_view_module": "@jupyter-widgets/controls",
            "_model_module_version": "1.5.0",
            "_view_count": null,
            "_view_module_version": "1.5.0",
            "box_style": "",
            "layout": "IPY_MODEL_a02826fe66344eb1bf8629b04b6f4f1a",
            "_model_module": "@jupyter-widgets/controls",
            "children": [
              "IPY_MODEL_8af27604c513457babd978b422a5cc67",
              "IPY_MODEL_6869121f00384f64b3fcad062a500823"
            ]
          }
        },
        "a02826fe66344eb1bf8629b04b6f4f1a": {
          "model_module": "@jupyter-widgets/base",
          "model_name": "LayoutModel",
          "state": {
            "_view_name": "LayoutView",
            "grid_template_rows": null,
            "right": null,
            "justify_content": null,
            "_view_module": "@jupyter-widgets/base",
            "overflow": null,
            "_model_module_version": "1.2.0",
            "_view_count": null,
            "flex_flow": null,
            "width": null,
            "min_width": null,
            "border": null,
            "align_items": null,
            "bottom": null,
            "_model_module": "@jupyter-widgets/base",
            "top": null,
            "grid_column": null,
            "overflow_y": null,
            "overflow_x": null,
            "grid_auto_flow": null,
            "grid_area": null,
            "grid_template_columns": null,
            "flex": null,
            "_model_name": "LayoutModel",
            "justify_items": null,
            "grid_row": null,
            "max_height": null,
            "align_content": null,
            "visibility": null,
            "align_self": null,
            "height": null,
            "min_height": null,
            "padding": null,
            "grid_auto_rows": null,
            "grid_gap": null,
            "max_width": null,
            "order": null,
            "_view_module_version": "1.2.0",
            "grid_template_areas": null,
            "object_position": null,
            "object_fit": null,
            "grid_auto_columns": null,
            "margin": null,
            "display": null,
            "left": null
          }
        },
        "8af27604c513457babd978b422a5cc67": {
          "model_module": "@jupyter-widgets/controls",
          "model_name": "FloatProgressModel",
          "state": {
            "_view_name": "ProgressView",
            "style": "IPY_MODEL_0e110e4d5f174683ac50aec8501fbf2b",
            "_dom_classes": [],
            "description": "Downloading: 100%",
            "_model_name": "FloatProgressModel",
            "bar_style": "success",
            "max": 466062,
            "_view_module": "@jupyter-widgets/controls",
            "_model_module_version": "1.5.0",
            "value": 466062,
            "_view_count": null,
            "_view_module_version": "1.5.0",
            "orientation": "horizontal",
            "min": 0,
            "description_tooltip": null,
            "_model_module": "@jupyter-widgets/controls",
            "layout": "IPY_MODEL_5a9651778efe4b2fafb609dc8dca5434"
          }
        },
        "6869121f00384f64b3fcad062a500823": {
          "model_module": "@jupyter-widgets/controls",
          "model_name": "HTMLModel",
          "state": {
            "_view_name": "HTMLView",
            "style": "IPY_MODEL_a5fb88b9ce514d03aa5a0bdacb94ca62",
            "_dom_classes": [],
            "description": "",
            "_model_name": "HTMLModel",
            "placeholder": "​",
            "_view_module": "@jupyter-widgets/controls",
            "_model_module_version": "1.5.0",
            "value": " 466k/466k [00:00&lt;00:00, 1.04MB/s]",
            "_view_count": null,
            "_view_module_version": "1.5.0",
            "description_tooltip": null,
            "_model_module": "@jupyter-widgets/controls",
            "layout": "IPY_MODEL_cb8affdeb1a04d1599a4da9fd0f455d0"
          }
        },
        "0e110e4d5f174683ac50aec8501fbf2b": {
          "model_module": "@jupyter-widgets/controls",
          "model_name": "ProgressStyleModel",
          "state": {
            "_view_name": "StyleView",
            "_model_name": "ProgressStyleModel",
            "description_width": "initial",
            "_view_module": "@jupyter-widgets/base",
            "_model_module_version": "1.5.0",
            "_view_count": null,
            "_view_module_version": "1.2.0",
            "bar_color": null,
            "_model_module": "@jupyter-widgets/controls"
          }
        },
        "5a9651778efe4b2fafb609dc8dca5434": {
          "model_module": "@jupyter-widgets/base",
          "model_name": "LayoutModel",
          "state": {
            "_view_name": "LayoutView",
            "grid_template_rows": null,
            "right": null,
            "justify_content": null,
            "_view_module": "@jupyter-widgets/base",
            "overflow": null,
            "_model_module_version": "1.2.0",
            "_view_count": null,
            "flex_flow": null,
            "width": null,
            "min_width": null,
            "border": null,
            "align_items": null,
            "bottom": null,
            "_model_module": "@jupyter-widgets/base",
            "top": null,
            "grid_column": null,
            "overflow_y": null,
            "overflow_x": null,
            "grid_auto_flow": null,
            "grid_area": null,
            "grid_template_columns": null,
            "flex": null,
            "_model_name": "LayoutModel",
            "justify_items": null,
            "grid_row": null,
            "max_height": null,
            "align_content": null,
            "visibility": null,
            "align_self": null,
            "height": null,
            "min_height": null,
            "padding": null,
            "grid_auto_rows": null,
            "grid_gap": null,
            "max_width": null,
            "order": null,
            "_view_module_version": "1.2.0",
            "grid_template_areas": null,
            "object_position": null,
            "object_fit": null,
            "grid_auto_columns": null,
            "margin": null,
            "display": null,
            "left": null
          }
        },
        "a5fb88b9ce514d03aa5a0bdacb94ca62": {
          "model_module": "@jupyter-widgets/controls",
          "model_name": "DescriptionStyleModel",
          "state": {
            "_view_name": "StyleView",
            "_model_name": "DescriptionStyleModel",
            "description_width": "",
            "_view_module": "@jupyter-widgets/base",
            "_model_module_version": "1.5.0",
            "_view_count": null,
            "_view_module_version": "1.2.0",
            "_model_module": "@jupyter-widgets/controls"
          }
        },
        "cb8affdeb1a04d1599a4da9fd0f455d0": {
          "model_module": "@jupyter-widgets/base",
          "model_name": "LayoutModel",
          "state": {
            "_view_name": "LayoutView",
            "grid_template_rows": null,
            "right": null,
            "justify_content": null,
            "_view_module": "@jupyter-widgets/base",
            "overflow": null,
            "_model_module_version": "1.2.0",
            "_view_count": null,
            "flex_flow": null,
            "width": null,
            "min_width": null,
            "border": null,
            "align_items": null,
            "bottom": null,
            "_model_module": "@jupyter-widgets/base",
            "top": null,
            "grid_column": null,
            "overflow_y": null,
            "overflow_x": null,
            "grid_auto_flow": null,
            "grid_area": null,
            "grid_template_columns": null,
            "flex": null,
            "_model_name": "LayoutModel",
            "justify_items": null,
            "grid_row": null,
            "max_height": null,
            "align_content": null,
            "visibility": null,
            "align_self": null,
            "height": null,
            "min_height": null,
            "padding": null,
            "grid_auto_rows": null,
            "grid_gap": null,
            "max_width": null,
            "order": null,
            "_view_module_version": "1.2.0",
            "grid_template_areas": null,
            "object_position": null,
            "object_fit": null,
            "grid_auto_columns": null,
            "margin": null,
            "display": null,
            "left": null
          }
        },
        "940c6ba88fc1436c8d61948d75c3763b": {
          "model_module": "@jupyter-widgets/controls",
          "model_name": "HBoxModel",
          "state": {
            "_view_name": "HBoxView",
            "_dom_classes": [],
            "_model_name": "HBoxModel",
            "_view_module": "@jupyter-widgets/controls",
            "_model_module_version": "1.5.0",
            "_view_count": null,
            "_view_module_version": "1.5.0",
            "box_style": "",
            "layout": "IPY_MODEL_63f3c5c69b8a432981344aebee735025",
            "_model_module": "@jupyter-widgets/controls",
            "children": [
              "IPY_MODEL_9886044f266d4c80be23f687b0ad99a5",
              "IPY_MODEL_2e7378a2bf0c4be0bf50549ec675e892"
            ]
          }
        },
        "63f3c5c69b8a432981344aebee735025": {
          "model_module": "@jupyter-widgets/base",
          "model_name": "LayoutModel",
          "state": {
            "_view_name": "LayoutView",
            "grid_template_rows": null,
            "right": null,
            "justify_content": null,
            "_view_module": "@jupyter-widgets/base",
            "overflow": null,
            "_model_module_version": "1.2.0",
            "_view_count": null,
            "flex_flow": null,
            "width": null,
            "min_width": null,
            "border": null,
            "align_items": null,
            "bottom": null,
            "_model_module": "@jupyter-widgets/base",
            "top": null,
            "grid_column": null,
            "overflow_y": null,
            "overflow_x": null,
            "grid_auto_flow": null,
            "grid_area": null,
            "grid_template_columns": null,
            "flex": null,
            "_model_name": "LayoutModel",
            "justify_items": null,
            "grid_row": null,
            "max_height": null,
            "align_content": null,
            "visibility": null,
            "align_self": null,
            "height": null,
            "min_height": null,
            "padding": null,
            "grid_auto_rows": null,
            "grid_gap": null,
            "max_width": null,
            "order": null,
            "_view_module_version": "1.2.0",
            "grid_template_areas": null,
            "object_position": null,
            "object_fit": null,
            "grid_auto_columns": null,
            "margin": null,
            "display": null,
            "left": null
          }
        },
        "9886044f266d4c80be23f687b0ad99a5": {
          "model_module": "@jupyter-widgets/controls",
          "model_name": "FloatProgressModel",
          "state": {
            "_view_name": "ProgressView",
            "style": "IPY_MODEL_d647740afc154be0ba3c60480fd7218b",
            "_dom_classes": [],
            "description": "Downloading: 100%",
            "_model_name": "FloatProgressModel",
            "bar_style": "success",
            "max": 442,
            "_view_module": "@jupyter-widgets/controls",
            "_model_module_version": "1.5.0",
            "value": 442,
            "_view_count": null,
            "_view_module_version": "1.5.0",
            "orientation": "horizontal",
            "min": 0,
            "description_tooltip": null,
            "_model_module": "@jupyter-widgets/controls",
            "layout": "IPY_MODEL_871f441295874c2fae52bf2efbb2c724"
          }
        },
        "2e7378a2bf0c4be0bf50549ec675e892": {
          "model_module": "@jupyter-widgets/controls",
          "model_name": "HTMLModel",
          "state": {
            "_view_name": "HTMLView",
            "style": "IPY_MODEL_6748751166ea435785bf8ee7860ef740",
            "_dom_classes": [],
            "description": "",
            "_model_name": "HTMLModel",
            "placeholder": "​",
            "_view_module": "@jupyter-widgets/controls",
            "_model_module_version": "1.5.0",
            "value": " 442/442 [00:06&lt;00:00, 64.9B/s]",
            "_view_count": null,
            "_view_module_version": "1.5.0",
            "description_tooltip": null,
            "_model_module": "@jupyter-widgets/controls",
            "layout": "IPY_MODEL_732a07162e97476f9f5c25874085c9ca"
          }
        },
        "d647740afc154be0ba3c60480fd7218b": {
          "model_module": "@jupyter-widgets/controls",
          "model_name": "ProgressStyleModel",
          "state": {
            "_view_name": "StyleView",
            "_model_name": "ProgressStyleModel",
            "description_width": "initial",
            "_view_module": "@jupyter-widgets/base",
            "_model_module_version": "1.5.0",
            "_view_count": null,
            "_view_module_version": "1.2.0",
            "bar_color": null,
            "_model_module": "@jupyter-widgets/controls"
          }
        },
        "871f441295874c2fae52bf2efbb2c724": {
          "model_module": "@jupyter-widgets/base",
          "model_name": "LayoutModel",
          "state": {
            "_view_name": "LayoutView",
            "grid_template_rows": null,
            "right": null,
            "justify_content": null,
            "_view_module": "@jupyter-widgets/base",
            "overflow": null,
            "_model_module_version": "1.2.0",
            "_view_count": null,
            "flex_flow": null,
            "width": null,
            "min_width": null,
            "border": null,
            "align_items": null,
            "bottom": null,
            "_model_module": "@jupyter-widgets/base",
            "top": null,
            "grid_column": null,
            "overflow_y": null,
            "overflow_x": null,
            "grid_auto_flow": null,
            "grid_area": null,
            "grid_template_columns": null,
            "flex": null,
            "_model_name": "LayoutModel",
            "justify_items": null,
            "grid_row": null,
            "max_height": null,
            "align_content": null,
            "visibility": null,
            "align_self": null,
            "height": null,
            "min_height": null,
            "padding": null,
            "grid_auto_rows": null,
            "grid_gap": null,
            "max_width": null,
            "order": null,
            "_view_module_version": "1.2.0",
            "grid_template_areas": null,
            "object_position": null,
            "object_fit": null,
            "grid_auto_columns": null,
            "margin": null,
            "display": null,
            "left": null
          }
        },
        "6748751166ea435785bf8ee7860ef740": {
          "model_module": "@jupyter-widgets/controls",
          "model_name": "DescriptionStyleModel",
          "state": {
            "_view_name": "StyleView",
            "_model_name": "DescriptionStyleModel",
            "description_width": "",
            "_view_module": "@jupyter-widgets/base",
            "_model_module_version": "1.5.0",
            "_view_count": null,
            "_view_module_version": "1.2.0",
            "_model_module": "@jupyter-widgets/controls"
          }
        },
        "732a07162e97476f9f5c25874085c9ca": {
          "model_module": "@jupyter-widgets/base",
          "model_name": "LayoutModel",
          "state": {
            "_view_name": "LayoutView",
            "grid_template_rows": null,
            "right": null,
            "justify_content": null,
            "_view_module": "@jupyter-widgets/base",
            "overflow": null,
            "_model_module_version": "1.2.0",
            "_view_count": null,
            "flex_flow": null,
            "width": null,
            "min_width": null,
            "border": null,
            "align_items": null,
            "bottom": null,
            "_model_module": "@jupyter-widgets/base",
            "top": null,
            "grid_column": null,
            "overflow_y": null,
            "overflow_x": null,
            "grid_auto_flow": null,
            "grid_area": null,
            "grid_template_columns": null,
            "flex": null,
            "_model_name": "LayoutModel",
            "justify_items": null,
            "grid_row": null,
            "max_height": null,
            "align_content": null,
            "visibility": null,
            "align_self": null,
            "height": null,
            "min_height": null,
            "padding": null,
            "grid_auto_rows": null,
            "grid_gap": null,
            "max_width": null,
            "order": null,
            "_view_module_version": "1.2.0",
            "grid_template_areas": null,
            "object_position": null,
            "object_fit": null,
            "grid_auto_columns": null,
            "margin": null,
            "display": null,
            "left": null
          }
        },
        "7e8da531ff3140f1bef7a8df4aae5c3e": {
          "model_module": "@jupyter-widgets/controls",
          "model_name": "HBoxModel",
          "state": {
            "_view_name": "HBoxView",
            "_dom_classes": [],
            "_model_name": "HBoxModel",
            "_view_module": "@jupyter-widgets/controls",
            "_model_module_version": "1.5.0",
            "_view_count": null,
            "_view_module_version": "1.5.0",
            "box_style": "",
            "layout": "IPY_MODEL_1983ddaaafbd44ebb829da1921d57800",
            "_model_module": "@jupyter-widgets/controls",
            "children": [
              "IPY_MODEL_0af29035451d41879957423387c1891f",
              "IPY_MODEL_9cc96ad5ef1b47afb62b047e827f41c1"
            ]
          }
        },
        "1983ddaaafbd44ebb829da1921d57800": {
          "model_module": "@jupyter-widgets/base",
          "model_name": "LayoutModel",
          "state": {
            "_view_name": "LayoutView",
            "grid_template_rows": null,
            "right": null,
            "justify_content": null,
            "_view_module": "@jupyter-widgets/base",
            "overflow": null,
            "_model_module_version": "1.2.0",
            "_view_count": null,
            "flex_flow": null,
            "width": null,
            "min_width": null,
            "border": null,
            "align_items": null,
            "bottom": null,
            "_model_module": "@jupyter-widgets/base",
            "top": null,
            "grid_column": null,
            "overflow_y": null,
            "overflow_x": null,
            "grid_auto_flow": null,
            "grid_area": null,
            "grid_template_columns": null,
            "flex": null,
            "_model_name": "LayoutModel",
            "justify_items": null,
            "grid_row": null,
            "max_height": null,
            "align_content": null,
            "visibility": null,
            "align_self": null,
            "height": null,
            "min_height": null,
            "padding": null,
            "grid_auto_rows": null,
            "grid_gap": null,
            "max_width": null,
            "order": null,
            "_view_module_version": "1.2.0",
            "grid_template_areas": null,
            "object_position": null,
            "object_fit": null,
            "grid_auto_columns": null,
            "margin": null,
            "display": null,
            "left": null
          }
        },
        "0af29035451d41879957423387c1891f": {
          "model_module": "@jupyter-widgets/controls",
          "model_name": "FloatProgressModel",
          "state": {
            "_view_name": "ProgressView",
            "style": "IPY_MODEL_64bbb5887fb34154b1e34d69649a7cb5",
            "_dom_classes": [],
            "description": "Downloading: 100%",
            "_model_name": "FloatProgressModel",
            "bar_style": "success",
            "max": 363423424,
            "_view_module": "@jupyter-widgets/controls",
            "_model_module_version": "1.5.0",
            "value": 363423424,
            "_view_count": null,
            "_view_module_version": "1.5.0",
            "orientation": "horizontal",
            "min": 0,
            "description_tooltip": null,
            "_model_module": "@jupyter-widgets/controls",
            "layout": "IPY_MODEL_51021a1cd335494884658e8c82f65ea1"
          }
        },
        "9cc96ad5ef1b47afb62b047e827f41c1": {
          "model_module": "@jupyter-widgets/controls",
          "model_name": "HTMLModel",
          "state": {
            "_view_name": "HTMLView",
            "style": "IPY_MODEL_6ae6c224bdd14bb6a193c4ad7373e3e3",
            "_dom_classes": [],
            "description": "",
            "_model_name": "HTMLModel",
            "placeholder": "​",
            "_view_module": "@jupyter-widgets/controls",
            "_model_module_version": "1.5.0",
            "value": " 363M/363M [00:06&lt;00:00, 56.2MB/s]",
            "_view_count": null,
            "_view_module_version": "1.5.0",
            "description_tooltip": null,
            "_model_module": "@jupyter-widgets/controls",
            "layout": "IPY_MODEL_ea563531343b43fa8ddf01012cee9a56"
          }
        },
        "64bbb5887fb34154b1e34d69649a7cb5": {
          "model_module": "@jupyter-widgets/controls",
          "model_name": "ProgressStyleModel",
          "state": {
            "_view_name": "StyleView",
            "_model_name": "ProgressStyleModel",
            "description_width": "initial",
            "_view_module": "@jupyter-widgets/base",
            "_model_module_version": "1.5.0",
            "_view_count": null,
            "_view_module_version": "1.2.0",
            "bar_color": null,
            "_model_module": "@jupyter-widgets/controls"
          }
        },
        "51021a1cd335494884658e8c82f65ea1": {
          "model_module": "@jupyter-widgets/base",
          "model_name": "LayoutModel",
          "state": {
            "_view_name": "LayoutView",
            "grid_template_rows": null,
            "right": null,
            "justify_content": null,
            "_view_module": "@jupyter-widgets/base",
            "overflow": null,
            "_model_module_version": "1.2.0",
            "_view_count": null,
            "flex_flow": null,
            "width": null,
            "min_width": null,
            "border": null,
            "align_items": null,
            "bottom": null,
            "_model_module": "@jupyter-widgets/base",
            "top": null,
            "grid_column": null,
            "overflow_y": null,
            "overflow_x": null,
            "grid_auto_flow": null,
            "grid_area": null,
            "grid_template_columns": null,
            "flex": null,
            "_model_name": "LayoutModel",
            "justify_items": null,
            "grid_row": null,
            "max_height": null,
            "align_content": null,
            "visibility": null,
            "align_self": null,
            "height": null,
            "min_height": null,
            "padding": null,
            "grid_auto_rows": null,
            "grid_gap": null,
            "max_width": null,
            "order": null,
            "_view_module_version": "1.2.0",
            "grid_template_areas": null,
            "object_position": null,
            "object_fit": null,
            "grid_auto_columns": null,
            "margin": null,
            "display": null,
            "left": null
          }
        },
        "6ae6c224bdd14bb6a193c4ad7373e3e3": {
          "model_module": "@jupyter-widgets/controls",
          "model_name": "DescriptionStyleModel",
          "state": {
            "_view_name": "StyleView",
            "_model_name": "DescriptionStyleModel",
            "description_width": "",
            "_view_module": "@jupyter-widgets/base",
            "_model_module_version": "1.5.0",
            "_view_count": null,
            "_view_module_version": "1.2.0",
            "_model_module": "@jupyter-widgets/controls"
          }
        },
        "ea563531343b43fa8ddf01012cee9a56": {
          "model_module": "@jupyter-widgets/base",
          "model_name": "LayoutModel",
          "state": {
            "_view_name": "LayoutView",
            "grid_template_rows": null,
            "right": null,
            "justify_content": null,
            "_view_module": "@jupyter-widgets/base",
            "overflow": null,
            "_model_module_version": "1.2.0",
            "_view_count": null,
            "flex_flow": null,
            "width": null,
            "min_width": null,
            "border": null,
            "align_items": null,
            "bottom": null,
            "_model_module": "@jupyter-widgets/base",
            "top": null,
            "grid_column": null,
            "overflow_y": null,
            "overflow_x": null,
            "grid_auto_flow": null,
            "grid_area": null,
            "grid_template_columns": null,
            "flex": null,
            "_model_name": "LayoutModel",
            "justify_items": null,
            "grid_row": null,
            "max_height": null,
            "align_content": null,
            "visibility": null,
            "align_self": null,
            "height": null,
            "min_height": null,
            "padding": null,
            "grid_auto_rows": null,
            "grid_gap": null,
            "max_width": null,
            "order": null,
            "_view_module_version": "1.2.0",
            "grid_template_areas": null,
            "object_position": null,
            "object_fit": null,
            "grid_auto_columns": null,
            "margin": null,
            "display": null,
            "left": null
          }
        }
      }
    }
  },
  "cells": [
    {
      "cell_type": "markdown",
      "metadata": {
        "id": "view-in-github",
        "colab_type": "text"
      },
      "source": [
        "<a href=\"https://colab.research.google.com/github/gibsonx/CE888/blob/master/Assignment/Assignment_2.ipynb\" target=\"_parent\"><img src=\"https://colab.research.google.com/assets/colab-badge.svg\" alt=\"Open In Colab\"/></a>"
      ]
    },
    {
      "cell_type": "markdown",
      "metadata": {
        "id": "4NzW2BbFzSdh"
      },
      "source": [
        "#A Comparative Study of Latest Models for TwitterSentiment Analysis (Assignment2)\n"
      ]
    },
    {
      "cell_type": "code",
      "metadata": {
        "id": "nk0hIUcdXpi2"
      },
      "source": [
        "# Silent installation \n",
        "!pip install -U tensorflow zhon transformers sentencepiece &> /dev/null\n",
        "# Download dataset and lib files from the github\n",
        "!git clone https://github.com/cardiffnlp/tweeteval.git &> /dev/null\n",
        "!git clone https://github.com/gibsonx/grocery.git &> /dev/null"
      ],
      "execution_count": 1,
      "outputs": []
    },
    {
      "cell_type": "code",
      "metadata": {
        "id": "8WFgb6kZXX8C",
        "colab": {
          "base_uri": "https://localhost:8080/"
        },
        "outputId": "7e53b4a8-2b67-4563-bfe4-8b8a781d6138"
      },
      "source": [
        "import sys\n",
        "import numpy as np\n",
        "import matplotlib.pyplot as plt\n",
        "import tensorflow as tf\n",
        "from tensorflow.keras import Input, layers, losses, preprocessing, utils\n",
        "from tensorflow.keras.callbacks import ModelCheckpoint\n",
        "from tensorflow.keras.models import Model\n",
        "from tensorflow.keras.optimizers import Adam\n",
        "from keras.layers.core import Dense\n",
        "from sklearn.metrics import accuracy_score, roc_auc_score, roc_curve,confusion_matrix,f1_score\n",
        "\n",
        "#Import customized classes and libraries from file\n",
        "sys.path.insert(0, '/content/grocery/')\n",
        "from CE888_Transformer import DataPrep, imbalance_under_sampling , create_model, get_tokenization, warmup\n",
        "from CustomizedPlots import *\n",
        "try:\n",
        "    %tensorflow_version 2.x\n",
        "except Exception:\n",
        "    pass\n",
        "print(\"Num GPUs Available: \", len(tf.config.list_physical_devices('GPU')))"
      ],
      "execution_count": 2,
      "outputs": [
        {
          "output_type": "stream",
          "text": [
            "Num GPUs Available:  1\n"
          ],
          "name": "stdout"
        }
      ]
    },
    {
      "cell_type": "markdown",
      "metadata": {
        "id": "1s7tr1fdFsKT"
      },
      "source": [
        "#Data nominalization for training , validation and test datasets (Hate, Irony and Offensive)"
      ]
    },
    {
      "cell_type": "code",
      "metadata": {
        "id": "hcveRCcrB1Kh",
        "colab": {
          "base_uri": "https://localhost:8080/",
          "height": 215
        },
        "outputId": "cf053ea5-be80-429d-f05c-7b2e571c0c87"
      },
      "source": [
        "#Define the root folder where we put the datasets\n",
        "base_dir = '/content/tweeteval/datasets/'\n",
        "\n",
        "#Create hate dataframe\n",
        "hate = DataPrep(base_dir, 'hate') \n",
        "hate_dict_train, hate_dict_val, hate_dict_test = hate.dataframe()\n",
        "df_hate = hate.dataframe_merge()\n",
        "not_hate, hate = hate.binary_split()\n",
        "\n",
        "#Create irony dataframe\n",
        "irony = DataPrep(base_dir, 'irony') \n",
        "irony_dict_train, irony_dict_val, irony_dict_test = irony.dataframe()\n",
        "df_irony = irony.dataframe_merge()\n",
        "not_irony, irony = irony.binary_split()\n",
        "\n",
        "#Create offensive dataframe\n",
        "offensive = DataPrep(base_dir, 'offensive')\n",
        "offensive_dict_train, offensive_dict_val, offensive_dict_test = offensive.dataframe()\n",
        "df_offensive = offensive.dataframe_merge()\n",
        "not_offensive, offensive = offensive.binary_split()\n",
        "\n",
        "print(\"The sample of pre-precessed dataset is shown below:\")\n",
        "hate.head()"
      ],
      "execution_count": 3,
      "outputs": [
        {
          "output_type": "stream",
          "text": [
            "The sample of pre-precessed dataset is shown below:\n"
          ],
          "name": "stdout"
        },
        {
          "output_type": "execute_result",
          "data": {
            "text/html": [
              "<div>\n",
              "<style scoped>\n",
              "    .dataframe tbody tr th:only-of-type {\n",
              "        vertical-align: middle;\n",
              "    }\n",
              "\n",
              "    .dataframe tbody tr th {\n",
              "        vertical-align: top;\n",
              "    }\n",
              "\n",
              "    .dataframe thead th {\n",
              "        text-align: right;\n",
              "    }\n",
              "</style>\n",
              "<table border=\"1\" class=\"dataframe\">\n",
              "  <thead>\n",
              "    <tr style=\"text-align: right;\">\n",
              "      <th></th>\n",
              "      <th>text</th>\n",
              "      <th>label</th>\n",
              "    </tr>\n",
              "  </thead>\n",
              "  <tbody>\n",
              "    <tr>\n",
              "      <th>0</th>\n",
              "      <td>a woman who you fucked multiple times saying y...</td>\n",
              "      <td>1</td>\n",
              "    </tr>\n",
              "    <tr>\n",
              "      <th>1</th>\n",
              "      <td>real talk do you have eyes or were they gouge...</td>\n",
              "      <td>1</td>\n",
              "    </tr>\n",
              "    <tr>\n",
              "      <th>2</th>\n",
              "      <td>your girlfriend lookin at me like a groupie in...</td>\n",
              "      <td>1</td>\n",
              "    </tr>\n",
              "    <tr>\n",
              "      <th>3</th>\n",
              "      <td>i am not going after your ex bf you lieing sac...</td>\n",
              "      <td>1</td>\n",
              "    </tr>\n",
              "    <tr>\n",
              "      <th>4</th>\n",
              "      <td>send home migrants not in need of protection p...</td>\n",
              "      <td>1</td>\n",
              "    </tr>\n",
              "  </tbody>\n",
              "</table>\n",
              "</div>"
            ],
            "text/plain": [
              "                                                text  label\n",
              "0  a woman who you fucked multiple times saying y...      1\n",
              "1   real talk do you have eyes or were they gouge...      1\n",
              "2  your girlfriend lookin at me like a groupie in...      1\n",
              "3  i am not going after your ex bf you lieing sac...      1\n",
              "4  send home migrants not in need of protection p...      1"
            ]
          },
          "metadata": {
            "tags": []
          },
          "execution_count": 3
        }
      ]
    },
    {
      "cell_type": "markdown",
      "metadata": {
        "id": "l-jY5aKf6jfe"
      },
      "source": [
        "#The samples in the datasets are imbalance, so we make the training dataset balanced using function \"imbalance_under_sampling\""
      ]
    },
    {
      "cell_type": "code",
      "metadata": {
        "id": "37tWMzto2zE1",
        "colab": {
          "base_uri": "https://localhost:8080/",
          "height": 319
        },
        "outputId": "1c9ae811-c287-4758-d3dc-4d3a28afb42e"
      },
      "source": [
        "Proportion_chart(df_hate,hate,not_hate,df_irony,irony,not_irony,df_offensive,offensive,not_offensive)"
      ],
      "execution_count": 4,
      "outputs": [
        {
          "output_type": "display_data",
          "data": {
            "image/png": "[encoded data removed]",
            "text/plain": [
              "<Figure size 1296x360 with 3 Axes>"
            ]
          },
          "metadata": {
            "tags": []
          }
        }
      ]
    },
    {
      "cell_type": "code",
      "metadata": {
        "id": "Cbnu5FmtMR1J"
      },
      "source": [
        "hate_dict_train = imbalance_under_sampling(hate_dict_train)\n",
        "irony_dict_train = imbalance_under_sampling(irony_dict_train)\n",
        "offensive_dict_train = imbalance_under_sampling(offensive_dict_train)"
      ],
      "execution_count": 5,
      "outputs": []
    },
    {
      "cell_type": "markdown",
      "metadata": {
        "id": "m56adpKPv0R0"
      },
      "source": [
        "#Downloading Models and Tokenizations from HuggingFace"
      ]
    },
    {
      "cell_type": "code",
      "metadata": {
        "id": "j_18embbHU9R",
        "colab": {
          "base_uri": "https://localhost:8080/",
          "height": 653,
          "referenced_widgets": [
            "da279909921540c38475422a246fd2d5",
            "41758dc0d3ab40f39438f90ccc509887",
            "77ae743bd71b4fc28d947fcac3fdc7cf",
            "cda45347e2e04b83b0755bcad54261ab",
            "3665a5d3dbd347cebb12da5359c1d07d",
            "74451e89f6a44b519e4000eefc24331b",
            "a27275ea23e642488b25f55a184d855c",
            "795f918795564122968c2406b9585791",
            "babd6bd4675b4065836d8263ca725b17",
            "841d2329780e44ce9149343bb42b4d26",
            "c2b22a02d3f74af1bda2a987d44845a1",
            "756cee63abda4775a70bb7aca52494a6",
            "83a1de1b73624a5ca746f1d9bd9f8c9b",
            "48d009f6c4a9491c97db09152e506a1b",
            "14bf56ea77134a68a65ba5232fd6dcb9",
            "873e41ed53d04c509f4336d8bb4f89a3",
            "46481a00ea464bb7aa5a6fb0b03d6bfc",
            "5867ffe366f14c1d9a331a5768d39b28",
            "0eb8a93e5f5e4f8ca214a596c7feda5e",
            "a0356f18562d485fa2f464158f3e6282",
            "430e49fd8e3e453c866cdc3ebd71e145",
            "cedaf1fa97e3432dad7736f95ac771dc",
            "eca0a2638a154e0793c55f24b8db2510",
            "107944cb4dc54550abd0f52f67184146",
            "d731faabf4394c188bcbbf0f1d379c12",
            "8cb47361df874e368ee4cb8098d443fe",
            "6d70ca84c04649fb8eab33a983ede474",
            "79ebc37d5c8c4bc387048caa9852f573",
            "fa23f26ad7eb41d7b4836d5f0b0155ca",
            "b731b29f16bd48189a508f160a9a23f5",
            "d86b33371a1043a0889ce1968e791493",
            "5bc6dbbfb92b4b82a27b9e230231d957",
            "86dc45423bf6410f9d0f32cbfc549a1b",
            "b79d1819c5794fd9bd80d117393c9522",
            "84f30e74f64043c9b88df483ef5da08f",
            "38e7724a206f40b3ae7fea0f084b52b7",
            "f539c6f6590e456b862ef56eafa3aa13",
            "6b92f545fa3245d1952977befc931169",
            "322277b23d9e4d88bd2866a129df066c",
            "718457bf00ec4d46975153dcdf422c63",
            "1e4e9e3326ea4d84ba50300ddfdb33ed",
            "b714801d57c74fceabe326337371dc98",
            "f61bfa1727df4b9f8cac37b068a1b08d",
            "8e5a92e76589430b90b98142da63032d",
            "b5d419bfa30a4268a3fc95f200ad10ac",
            "682b6b03db7e4f1191f818870db74b79",
            "c882147ba3334757a3e9f6613c769c97",
            "a93cb1318fa446119ff2ed177871b7ee",
            "1cc96d17ad764ec8ab38795139fb1f40",
            "a02826fe66344eb1bf8629b04b6f4f1a",
            "8af27604c513457babd978b422a5cc67",
            "6869121f00384f64b3fcad062a500823",
            "0e110e4d5f174683ac50aec8501fbf2b",
            "5a9651778efe4b2fafb609dc8dca5434",
            "a5fb88b9ce514d03aa5a0bdacb94ca62",
            "cb8affdeb1a04d1599a4da9fd0f455d0",
            "940c6ba88fc1436c8d61948d75c3763b",
            "63f3c5c69b8a432981344aebee735025",
            "9886044f266d4c80be23f687b0ad99a5",
            "2e7378a2bf0c4be0bf50549ec675e892",
            "d647740afc154be0ba3c60480fd7218b",
            "871f441295874c2fae52bf2efbb2c724",
            "6748751166ea435785bf8ee7860ef740",
            "732a07162e97476f9f5c25874085c9ca",
            "7e8da531ff3140f1bef7a8df4aae5c3e",
            "1983ddaaafbd44ebb829da1921d57800",
            "0af29035451d41879957423387c1891f",
            "9cc96ad5ef1b47afb62b047e827f41c1",
            "64bbb5887fb34154b1e34d69649a7cb5",
            "51021a1cd335494884658e8c82f65ea1",
            "6ae6c224bdd14bb6a193c4ad7373e3e3",
            "ea563531343b43fa8ddf01012cee9a56"
          ]
        },
        "outputId": "8a799c4a-987a-4ba7-ff09-a963a7626753"
      },
      "source": [
        "from transformers import TFXLNetModel, XLNetTokenizer, TFDistilBertModel, DistilBertTokenizer\n",
        "\n",
        "xlnet_tokenizer = XLNetTokenizer.from_pretrained('xlnet-base-cased')\n",
        "xlnet_model = TFXLNetModel.from_pretrained('xlnet-base-cased')\n",
        "\n",
        "dbert_tokenizer = DistilBertTokenizer.from_pretrained('distilbert-base-uncased')\n",
        "dbert_model = TFDistilBertModel.from_pretrained('distilbert-base-uncased')\n",
        "\n",
        "for layer in xlnet_model.layers:\n",
        "    layer.trainable = True\n",
        "for layer in dbert_model.layers:\n",
        "    layer.trainable = True"
      ],
      "execution_count": 6,
      "outputs": [
        {
          "output_type": "display_data",
          "data": {
            "application/vnd.jupyter.widget-view+json": {
              "model_id": "da279909921540c38475422a246fd2d5",
              "version_minor": 0,
              "version_major": 2
            },
            "text/plain": [
              "HBox(children=(FloatProgress(value=0.0, description='Downloading', max=798011.0, style=ProgressStyle(descripti…"
            ]
          },
          "metadata": {
            "tags": []
          }
        },
        {
          "output_type": "stream",
          "text": [
            "\n"
          ],
          "name": "stdout"
        },
        {
          "output_type": "display_data",
          "data": {
            "application/vnd.jupyter.widget-view+json": {
              "model_id": "babd6bd4675b4065836d8263ca725b17",
              "version_minor": 0,
              "version_major": 2
            },
            "text/plain": [
              "HBox(children=(FloatProgress(value=0.0, description='Downloading', max=1382015.0, style=ProgressStyle(descript…"
            ]
          },
          "metadata": {
            "tags": []
          }
        },
        {
          "output_type": "stream",
          "text": [
            "\n"
          ],
          "name": "stdout"
        },
        {
          "output_type": "display_data",
          "data": {
            "application/vnd.jupyter.widget-view+json": {
              "model_id": "46481a00ea464bb7aa5a6fb0b03d6bfc",
              "version_minor": 0,
              "version_major": 2
            },
            "text/plain": [
              "HBox(children=(FloatProgress(value=0.0, description='Downloading', max=760.0, style=ProgressStyle(description_…"
            ]
          },
          "metadata": {
            "tags": []
          }
        },
        {
          "output_type": "stream",
          "text": [
            "\n"
          ],
          "name": "stdout"
        },
        {
          "output_type": "display_data",
          "data": {
            "application/vnd.jupyter.widget-view+json": {
              "model_id": "d731faabf4394c188bcbbf0f1d379c12",
              "version_minor": 0,
              "version_major": 2
            },
            "text/plain": [
              "HBox(children=(FloatProgress(value=0.0, description='Downloading', max=565485600.0, style=ProgressStyle(descri…"
            ]
          },
          "metadata": {
            "tags": []
          }
        },
        {
          "output_type": "stream",
          "text": [
            "\n"
          ],
          "name": "stdout"
        },
        {
          "output_type": "stream",
          "text": [
            "Some layers from the model checkpoint at xlnet-base-cased were not used when initializing TFXLNetModel: ['lm_loss']\n",
            "- This IS expected if you are initializing TFXLNetModel from the checkpoint of a model trained on another task or with another architecture (e.g. initializing a BertForSequenceClassification model from a BertForPreTraining model).\n",
            "- This IS NOT expected if you are initializing TFXLNetModel from the checkpoint of a model that you expect to be exactly identical (initializing a BertForSequenceClassification model from a BertForSequenceClassification model).\n",
            "All the layers of TFXLNetModel were initialized from the model checkpoint at xlnet-base-cased.\n",
            "If your task is similar to the task the model of the checkpoint was trained on, you can already use TFXLNetModel for predictions without further training.\n"
          ],
          "name": "stderr"
        },
        {
          "output_type": "display_data",
          "data": {
            "application/vnd.jupyter.widget-view+json": {
              "model_id": "86dc45423bf6410f9d0f32cbfc549a1b",
              "version_minor": 0,
              "version_major": 2
            },
            "text/plain": [
              "HBox(children=(FloatProgress(value=0.0, description='Downloading', max=231508.0, style=ProgressStyle(descripti…"
            ]
          },
          "metadata": {
            "tags": []
          }
        },
        {
          "output_type": "stream",
          "text": [
            "\n"
          ],
          "name": "stdout"
        },
        {
          "output_type": "display_data",
          "data": {
            "application/vnd.jupyter.widget-view+json": {
              "model_id": "1e4e9e3326ea4d84ba50300ddfdb33ed",
              "version_minor": 0,
              "version_major": 2
            },
            "text/plain": [
              "HBox(children=(FloatProgress(value=0.0, description='Downloading', max=28.0, style=ProgressStyle(description_w…"
            ]
          },
          "metadata": {
            "tags": []
          }
        },
        {
          "output_type": "stream",
          "text": [
            "\n"
          ],
          "name": "stdout"
        },
        {
          "output_type": "display_data",
          "data": {
            "application/vnd.jupyter.widget-view+json": {
              "model_id": "1cc96d17ad764ec8ab38795139fb1f40",
              "version_minor": 0,
              "version_major": 2
            },
            "text/plain": [
              "HBox(children=(FloatProgress(value=0.0, description='Downloading', max=466062.0, style=ProgressStyle(descripti…"
            ]
          },
          "metadata": {
            "tags": []
          }
        },
        {
          "output_type": "stream",
          "text": [
            "\n"
          ],
          "name": "stdout"
        },
        {
          "output_type": "display_data",
          "data": {
            "application/vnd.jupyter.widget-view+json": {
              "model_id": "940c6ba88fc1436c8d61948d75c3763b",
              "version_minor": 0,
              "version_major": 2
            },
            "text/plain": [
              "HBox(children=(FloatProgress(value=0.0, description='Downloading', max=442.0, style=ProgressStyle(description_…"
            ]
          },
          "metadata": {
            "tags": []
          }
        },
        {
          "output_type": "stream",
          "text": [
            "\n"
          ],
          "name": "stdout"
        },
        {
          "output_type": "display_data",
          "data": {
            "application/vnd.jupyter.widget-view+json": {
              "model_id": "7e8da531ff3140f1bef7a8df4aae5c3e",
              "version_minor": 0,
              "version_major": 2
            },
            "text/plain": [
              "HBox(children=(FloatProgress(value=0.0, description='Downloading', max=363423424.0, style=ProgressStyle(descri…"
            ]
          },
          "metadata": {
            "tags": []
          }
        },
        {
          "output_type": "stream",
          "text": [
            "\n"
          ],
          "name": "stdout"
        },
        {
          "output_type": "stream",
          "text": [
            "Some layers from the model checkpoint at distilbert-base-uncased were not used when initializing TFDistilBertModel: ['vocab_layer_norm', 'vocab_transform', 'activation_13', 'vocab_projector']\n",
            "- This IS expected if you are initializing TFDistilBertModel from the checkpoint of a model trained on another task or with another architecture (e.g. initializing a BertForSequenceClassification model from a BertForPreTraining model).\n",
            "- This IS NOT expected if you are initializing TFDistilBertModel from the checkpoint of a model that you expect to be exactly identical (initializing a BertForSequenceClassification model from a BertForSequenceClassification model).\n",
            "All the layers of TFDistilBertModel were initialized from the model checkpoint at distilbert-base-uncased.\n",
            "If your task is similar to the task the model of the checkpoint was trained on, you can already use TFDistilBertModel for predictions without further training.\n"
          ],
          "name": "stderr"
        }
      ]
    },
    {
      "cell_type": "markdown",
      "metadata": {
        "id": "Rni4kvqHvD3X"
      },
      "source": [
        "#Word Embeddings using XLNet tokenizier, which consist of tokens and attention masks"
      ]
    },
    {
      "cell_type": "code",
      "metadata": {
        "id": "4LUW3oWeOYaA",
        "colab": {
          "base_uri": "https://localhost:8080/"
        },
        "outputId": "5457f17c-8a1e-46f2-b050-575aa40d65a7"
      },
      "source": [
        "#DistilBert Tokenizer\n",
        "dl_hate_train_input = get_tokenization(hate_dict_train['text'], dbert_tokenizer)\n",
        "dl_hate_val_input = get_tokenization(hate_dict_val['text'], dbert_tokenizer)\n",
        "dl_hate_test_input = get_tokenization(hate_dict_test['text'], dbert_tokenizer)\n",
        "\n",
        "dl_irony_train_input = get_tokenization(irony_dict_train['text'], dbert_tokenizer)\n",
        "dl_irony_val_input = get_tokenization(irony_dict_val['text'], dbert_tokenizer)\n",
        "dl_irony_test_input = get_tokenization(irony_dict_test['text'], dbert_tokenizer)\n",
        "\n",
        "dl_offensive_train_input = get_tokenization(offensive_dict_train['text'], xlnet_tokenizer)\n",
        "dl_offensive_val_input = get_tokenization(offensive_dict_val['text'], xlnet_tokenizer)\n",
        "dl_offensive_test_input = get_tokenization(offensive_dict_test['text'], xlnet_tokenizer)\n",
        "\n",
        "#XLNet Tokenizer\n",
        "xl_hate_train_input = get_tokenization(hate_dict_train['text'], xlnet_tokenizer)\n",
        "xl_hate_val_input = get_tokenization(hate_dict_val['text'], xlnet_tokenizer)\n",
        "xl_hate_test_input = get_tokenization(hate_dict_test['text'], xlnet_tokenizer)\n",
        "\n",
        "xl_irony_train_input = get_tokenization(irony_dict_train['text'], xlnet_tokenizer)\n",
        "xl_irony_val_input = get_tokenization(irony_dict_val['text'], xlnet_tokenizer)\n",
        "xl_irony_test_input = get_tokenization(irony_dict_test['text'], xlnet_tokenizer)\n",
        "\n",
        "xl_offensive_train_input = get_tokenization(offensive_dict_train['text'], xlnet_tokenizer)\n",
        "xl_offensive_val_input = get_tokenization(offensive_dict_val['text'], xlnet_tokenizer)\n",
        "xl_offensive_test_input = get_tokenization(offensive_dict_test['text'], xlnet_tokenizer)"
      ],
      "execution_count": 7,
      "outputs": [
        {
          "output_type": "stream",
          "text": [
            "Truncation was not explicitly activated but `max_length` is provided a specific value, please use `truncation=True` to explicitly truncate examples to max length. Defaulting to 'longest_first' truncation strategy. If you encode pairs of sequences (GLUE-style) with the tokenizer you can select this strategy more precisely by providing a specific strategy to `truncation`.\n",
            "/usr/local/lib/python3.7/dist-packages/transformers/tokenization_utils_base.py:2079: FutureWarning: The `pad_to_max_length` argument is deprecated and will be removed in a future version, use `padding=True` or `padding='longest'` to pad to the longest sequence in the batch, or use `padding='max_length'` to pad to a max length. In this case, you can give a specific length with `max_length` (e.g. `max_length=45`) or leave max_length to None to pad to the maximal input size of the model (e.g. 512 for Bert).\n",
            "  FutureWarning,\n",
            "Truncation was not explicitly activated but `max_length` is provided a specific value, please use `truncation=True` to explicitly truncate examples to max length. Defaulting to 'longest_first' truncation strategy. If you encode pairs of sequences (GLUE-style) with the tokenizer you can select this strategy more precisely by providing a specific strategy to `truncation`.\n"
          ],
          "name": "stderr"
        }
      ]
    },
    {
      "cell_type": "markdown",
      "metadata": {
        "id": "4uhPp5NPva-C"
      },
      "source": [
        "#Apply DistilBert as the 1st model to predict classifcation.\n"
      ]
    },
    {
      "cell_type": "code",
      "metadata": {
        "colab": {
          "base_uri": "https://localhost:8080/"
        },
        "id": "WhKOF0i_HdE-",
        "outputId": "7b4d53aa-711f-46cd-d019-096d80d57642"
      },
      "source": [
        "DistilBert_hate = create_model(dbert_model)\n",
        "DistilBert_hate.summary()"
      ],
      "execution_count": 8,
      "outputs": [
        {
          "output_type": "stream",
          "text": [
            "WARNING:tensorflow:The parameters `output_attentions`, `output_hidden_states` and `use_cache` cannot be updated when calling a model.They have to be set to True/False in the config object (i.e.: `config=XConfig.from_pretrained('name', output_attentions=True)`).\n",
            "WARNING:tensorflow:AutoGraph could not transform <bound method Socket.send of <zmq.sugar.socket.Socket object at 0x7f552cedfd70>> and will run it as-is.\n",
            "Please report this to the TensorFlow team. When filing the bug, set the verbosity to 10 (on Linux, `export AUTOGRAPH_VERBOSITY=10`) and attach the full output.\n",
            "Cause: module, class, method, function, traceback, frame, or code object was expected, got cython_function_or_method\n",
            "To silence this warning, decorate the function with @tf.autograph.experimental.do_not_convert\n",
            "WARNING: AutoGraph could not transform <bound method Socket.send of <zmq.sugar.socket.Socket object at 0x7f552cedfd70>> and will run it as-is.\n",
            "Please report this to the TensorFlow team. When filing the bug, set the verbosity to 10 (on Linux, `export AUTOGRAPH_VERBOSITY=10`) and attach the full output.\n",
            "Cause: module, class, method, function, traceback, frame, or code object was expected, got cython_function_or_method\n",
            "To silence this warning, decorate the function with @tf.autograph.experimental.do_not_convert\n",
            "WARNING:tensorflow:AutoGraph could not transform <function wrap at 0x7f555878cc20> and will run it as-is.\n",
            "Cause: while/else statement not yet supported\n",
            "To silence this warning, decorate the function with @tf.autograph.experimental.do_not_convert\n",
            "WARNING: AutoGraph could not transform <function wrap at 0x7f555878cc20> and will run it as-is.\n",
            "Cause: while/else statement not yet supported\n",
            "To silence this warning, decorate the function with @tf.autograph.experimental.do_not_convert\n",
            "WARNING:tensorflow:The parameter `return_dict` cannot be set in graph mode and will always be set to `True`.\n",
            "Model: \"model\"\n",
            "__________________________________________________________________________________________________\n",
            "Layer (type)                    Output Shape         Param #     Connected to                     \n",
            "==================================================================================================\n",
            "word_ids (InputLayer)           [(None, 120)]        0                                            \n",
            "__________________________________________________________________________________________________\n",
            "word_attention (InputLayer)     [(None, 120)]        0                                            \n",
            "__________________________________________________________________________________________________\n",
            "tf_distil_bert_model (TFDistilB TFBaseModelOutput(la 66362880    word_ids[0][0]                   \n",
            "                                                                 word_attention[0][0]             \n",
            "__________________________________________________________________________________________________\n",
            "tf.__operators__.getitem (Slici (None, 1, 768)       0           tf_distil_bert_model[0][0]       \n",
            "__________________________________________________________________________________________________\n",
            "tf.compat.v1.squeeze (TFOpLambd (None, 768)          0           tf.__operators__.getitem[0][0]   \n",
            "__________________________________________________________________________________________________\n",
            "encoding (Dense)                (None, 32)           24608       tf.compat.v1.squeeze[0][0]       \n",
            "__________________________________________________________________________________________________\n",
            "dropout_56 (Dropout)            (None, 32)           0           encoding[0][0]                   \n",
            "__________________________________________________________________________________________________\n",
            "outputs (Dense)                 (None, 1)            33          dropout_56[0][0]                 \n",
            "==================================================================================================\n",
            "Total params: 66,387,521\n",
            "Trainable params: 66,387,521\n",
            "Non-trainable params: 0\n",
            "__________________________________________________________________________________________________\n"
          ],
          "name": "stdout"
        }
      ]
    },
    {
      "cell_type": "markdown",
      "metadata": {
        "id": "yV7jZ6-MwFg0"
      },
      "source": [
        "#CallBacks for all attempts of training"
      ]
    },
    {
      "cell_type": "code",
      "metadata": {
        "id": "_WhwGNpZPVhV"
      },
      "source": [
        "callbacks = [\n",
        "    tf.keras.callbacks.EarlyStopping(monitor='loss', patience=4, min_delta=0.001, restore_best_weights=True),\n",
        "    tf.keras.callbacks.LearningRateScheduler(warmup, verbose=0),\n",
        "    tf.keras.callbacks.ReduceLROnPlateau(monitor='val_accuracy', factor=1e-6, patience=2, verbose=0, mode='auto', min_delta=0.001, cooldown=0, min_lr=1e-6)\n",
        "]"
      ],
      "execution_count": 9,
      "outputs": []
    },
    {
      "cell_type": "code",
      "metadata": {
        "colab": {
          "base_uri": "https://localhost:8080/"
        },
        "id": "wKcm9zTpPW6k",
        "outputId": "5a60844e-0091-4fdc-ec26-ebe4884d403d"
      },
      "source": [
        "hist_dl_hate = DistilBert_hate.fit(x=dl_hate_train_input, y=hate_dict_train.label, epochs=25, batch_size=16, validation_data=(dl_hate_val_input, hate_dict_val.label), callbacks=callbacks)"
      ],
      "execution_count": 10,
      "outputs": [
        {
          "output_type": "stream",
          "text": [
            "Epoch 1/25\n",
            "WARNING:tensorflow:The parameters `output_attentions`, `output_hidden_states` and `use_cache` cannot be updated when calling a model.They have to be set to True/False in the config object (i.e.: `config=XConfig.from_pretrained('name', output_attentions=True)`).\n",
            "WARNING:tensorflow:The parameter `return_dict` cannot be set in graph mode and will always be set to `True`.\n",
            "WARNING:tensorflow:The parameters `output_attentions`, `output_hidden_states` and `use_cache` cannot be updated when calling a model.They have to be set to True/False in the config object (i.e.: `config=XConfig.from_pretrained('name', output_attentions=True)`).\n",
            "WARNING:tensorflow:The parameter `return_dict` cannot be set in graph mode and will always be set to `True`.\n",
            "473/473 [==============================] - ETA: 0s - loss: 0.6156 - accuracy: 0.6490 - precision: 0.6474 - recall: 0.6703WARNING:tensorflow:The parameters `output_attentions`, `output_hidden_states` and `use_cache` cannot be updated when calling a model.They have to be set to True/False in the config object (i.e.: `config=XConfig.from_pretrained('name', output_attentions=True)`).\n",
            "WARNING:tensorflow:The parameter `return_dict` cannot be set in graph mode and will always be set to `True`.\n",
            "473/473 [==============================] - 49s 86ms/step - loss: 0.6155 - accuracy: 0.6492 - precision: 0.6476 - recall: 0.6704 - val_loss: 0.5422 - val_accuracy: 0.7150 - val_precision: 0.6443 - val_recall: 0.7424\n",
            "Epoch 2/25\n",
            "473/473 [==============================] - 39s 82ms/step - loss: 0.3983 - accuracy: 0.8241 - precision: 0.8153 - recall: 0.8260 - val_loss: 0.5826 - val_accuracy: 0.7280 - val_precision: 0.6765 - val_recall: 0.6956\n",
            "Epoch 3/25\n",
            "473/473 [==============================] - 39s 82ms/step - loss: 0.2369 - accuracy: 0.9047 - precision: 0.9021 - recall: 0.9075 - val_loss: 0.7046 - val_accuracy: 0.7220 - val_precision: 0.6464 - val_recall: 0.7705\n",
            "Epoch 4/25\n",
            "473/473 [==============================] - 39s 82ms/step - loss: 0.1189 - accuracy: 0.9556 - precision: 0.9534 - recall: 0.9586 - val_loss: 0.9575 - val_accuracy: 0.7270 - val_precision: 0.6410 - val_recall: 0.8197\n",
            "Epoch 5/25\n",
            "473/473 [==============================] - 39s 82ms/step - loss: 0.0579 - accuracy: 0.9808 - precision: 0.9816 - recall: 0.9805 - val_loss: 1.0743 - val_accuracy: 0.7260 - val_precision: 0.6617 - val_recall: 0.7330\n",
            "Epoch 6/25\n",
            "473/473 [==============================] - 39s 82ms/step - loss: 0.0443 - accuracy: 0.9858 - precision: 0.9868 - recall: 0.9852 - val_loss: 1.3035 - val_accuracy: 0.7280 - val_precision: 0.6541 - val_recall: 0.7705\n",
            "Epoch 7/25\n",
            "473/473 [==============================] - 39s 82ms/step - loss: 0.0235 - accuracy: 0.9927 - precision: 0.9930 - recall: 0.9922 - val_loss: 1.3173 - val_accuracy: 0.7310 - val_precision: 0.6561 - val_recall: 0.7775\n",
            "Epoch 8/25\n",
            "473/473 [==============================] - 39s 82ms/step - loss: 0.0256 - accuracy: 0.9912 - precision: 0.9928 - recall: 0.9896 - val_loss: 1.1671 - val_accuracy: 0.7260 - val_precision: 0.6452 - val_recall: 0.7963\n",
            "Epoch 9/25\n",
            "473/473 [==============================] - 39s 82ms/step - loss: 0.0268 - accuracy: 0.9903 - precision: 0.9912 - recall: 0.9890 - val_loss: 1.3570 - val_accuracy: 0.7300 - val_precision: 0.6674 - val_recall: 0.7330\n",
            "Epoch 10/25\n",
            "473/473 [==============================] - 39s 82ms/step - loss: 0.0277 - accuracy: 0.9916 - precision: 0.9943 - recall: 0.9888 - val_loss: 1.4165 - val_accuracy: 0.7210 - val_precision: 0.6462 - val_recall: 0.7658\n",
            "Epoch 11/25\n",
            "473/473 [==============================] - 39s 82ms/step - loss: 0.0112 - accuracy: 0.9957 - precision: 0.9958 - recall: 0.9956 - val_loss: 1.3314 - val_accuracy: 0.7140 - val_precision: 0.6343 - val_recall: 0.7799\n",
            "Epoch 12/25\n",
            "473/473 [==============================] - 39s 82ms/step - loss: 0.0151 - accuracy: 0.9931 - precision: 0.9947 - recall: 0.9916 - val_loss: 1.7025 - val_accuracy: 0.7020 - val_precision: 0.6122 - val_recall: 0.8244\n",
            "Epoch 13/25\n",
            "473/473 [==============================] - 39s 82ms/step - loss: 0.0185 - accuracy: 0.9936 - precision: 0.9937 - recall: 0.9935 - val_loss: 1.5991 - val_accuracy: 0.7170 - val_precision: 0.6379 - val_recall: 0.7799\n",
            "Epoch 14/25\n",
            "473/473 [==============================] - 39s 82ms/step - loss: 0.0142 - accuracy: 0.9947 - precision: 0.9956 - recall: 0.9938 - val_loss: 1.6696 - val_accuracy: 0.7250 - val_precision: 0.6638 - val_recall: 0.7213\n",
            "Epoch 15/25\n",
            "473/473 [==============================] - 39s 82ms/step - loss: 0.0156 - accuracy: 0.9949 - precision: 0.9956 - recall: 0.9940 - val_loss: 1.9820 - val_accuracy: 0.7160 - val_precision: 0.6302 - val_recall: 0.8103\n",
            "Epoch 16/25\n",
            "473/473 [==============================] - 39s 82ms/step - loss: 0.0157 - accuracy: 0.9954 - precision: 0.9952 - recall: 0.9955 - val_loss: 1.7073 - val_accuracy: 0.7300 - val_precision: 0.6703 - val_recall: 0.7237\n",
            "Epoch 17/25\n",
            "473/473 [==============================] - 39s 82ms/step - loss: 0.0091 - accuracy: 0.9972 - precision: 0.9983 - recall: 0.9962 - val_loss: 1.7425 - val_accuracy: 0.7210 - val_precision: 0.6407 - val_recall: 0.7892\n",
            "Epoch 18/25\n",
            "473/473 [==============================] - 39s 82ms/step - loss: 0.0121 - accuracy: 0.9945 - precision: 0.9967 - recall: 0.9929 - val_loss: 1.6026 - val_accuracy: 0.7470 - val_precision: 0.7219 - val_recall: 0.6628\n",
            "Epoch 19/25\n",
            "473/473 [==============================] - 39s 82ms/step - loss: 0.0121 - accuracy: 0.9960 - precision: 0.9976 - recall: 0.9944 - val_loss: 1.9550 - val_accuracy: 0.7460 - val_precision: 0.6747 - val_recall: 0.7822\n",
            "Epoch 20/25\n",
            "473/473 [==============================] - 39s 82ms/step - loss: 0.0236 - accuracy: 0.9916 - precision: 0.9927 - recall: 0.9910 - val_loss: 1.5454 - val_accuracy: 0.7280 - val_precision: 0.6493 - val_recall: 0.7892\n",
            "Epoch 21/25\n",
            "473/473 [==============================] - 39s 82ms/step - loss: 0.0173 - accuracy: 0.9933 - precision: 0.9944 - recall: 0.9921 - val_loss: 1.3928 - val_accuracy: 0.7530 - val_precision: 0.7143 - val_recall: 0.7026\n",
            "Epoch 22/25\n",
            "473/473 [==============================] - 39s 82ms/step - loss: 0.0094 - accuracy: 0.9960 - precision: 0.9974 - recall: 0.9946 - val_loss: 1.6961 - val_accuracy: 0.7400 - val_precision: 0.6634 - val_recall: 0.7939\n",
            "Epoch 23/25\n",
            "473/473 [==============================] - 39s 82ms/step - loss: 0.0103 - accuracy: 0.9961 - precision: 0.9969 - recall: 0.9952 - val_loss: 1.4679 - val_accuracy: 0.7490 - val_precision: 0.6973 - val_recall: 0.7283\n"
          ],
          "name": "stdout"
        }
      ]
    },
    {
      "cell_type": "code",
      "metadata": {
        "colab": {
          "base_uri": "https://localhost:8080/"
        },
        "id": "-FsN50b505Ij",
        "outputId": "7244010d-bc9d-4e60-9225-a8a1b8113904"
      },
      "source": [
        "preds_dl_hate = DistilBert_hate.predict(dl_hate_test_input, verbose=True)"
      ],
      "execution_count": 11,
      "outputs": [
        {
          "output_type": "stream",
          "text": [
            "WARNING:tensorflow:The parameters `output_attentions`, `output_hidden_states` and `use_cache` cannot be updated when calling a model.They have to be set to True/False in the config object (i.e.: `config=XConfig.from_pretrained('name', output_attentions=True)`).\n",
            "WARNING:tensorflow:The parameter `return_dict` cannot be set in graph mode and will always be set to `True`.\n",
            "93/93 [==============================] - 6s 46ms/step\n"
          ],
          "name": "stdout"
        }
      ]
    },
    {
      "cell_type": "code",
      "metadata": {
        "colab": {
          "base_uri": "https://localhost:8080/",
          "height": 467
        },
        "id": "HXaU8imwHI9u",
        "outputId": "4cca2cf5-eec7-4d38-a801-941088e8f29b"
      },
      "source": [
        "hate_pred_dl_label = [i[0] for i in preds_dl_hate.round().astype(int)]\n",
        "cm = confusion_matrix(hate_dict_test.label,hate_pred_dl_label)\n",
        "plot_confusion_matrix(cm, normalize=False,target_names=['Not_hate', 'Hate'],title=\"DistilBert Confusion Matrix for Hate\")"
      ],
      "execution_count": 12,
      "outputs": [
        {
          "output_type": "display_data",
          "data": {
            "image/png": "[encoded data removed]",
            "text/plain": [
              "<Figure size 576x432 with 2 Axes>"
            ]
          },
          "metadata": {
            "tags": [],
            "needs_background": "light"
          }
        }
      ]
    },
    {
      "cell_type": "code",
      "metadata": {
        "id": "T0yeLXBX2J1s",
        "outputId": "7f2b29a5-225e-4b3d-a58e-8a681060433a",
        "colab": {
          "base_uri": "https://localhost:8080/"
        }
      },
      "source": [
        "f1_dl_hate = f1_score(hate_dict_test.label,hate_pred_dl_label,average='macro')\n",
        "print(\"F1_score of Hate dataset with DistilBert is: %.1f%%\" % round(f1_dl_hate*100,1))"
      ],
      "execution_count": 13,
      "outputs": [
        {
          "output_type": "stream",
          "text": [
            "F1_score of Hate dataset with DistilBert is: 54.8%\n"
          ],
          "name": "stdout"
        }
      ]
    },
    {
      "cell_type": "code",
      "metadata": {
        "colab": {
          "base_uri": "https://localhost:8080/"
        },
        "id": "q7rfxgAnHb-i",
        "outputId": "67135ed4-30b0-4343-d7e6-5156553b02ab"
      },
      "source": [
        "DistilBert_irony = create_model(dbert_model)\n",
        "hist_irony = DistilBert_irony.fit(x=dl_irony_train_input, y=irony_dict_train.label, epochs=25, batch_size=16, validation_data=(dl_irony_val_input, irony_dict_val.label), callbacks=callbacks)"
      ],
      "execution_count": 14,
      "outputs": [
        {
          "output_type": "stream",
          "text": [
            "WARNING:tensorflow:The parameters `output_attentions`, `output_hidden_states` and `use_cache` cannot be updated when calling a model.They have to be set to True/False in the config object (i.e.: `config=XConfig.from_pretrained('name', output_attentions=True)`).\n",
            "WARNING:tensorflow:The parameter `return_dict` cannot be set in graph mode and will always be set to `True`.\n",
            "Epoch 1/25\n",
            "WARNING:tensorflow:The parameters `output_attentions`, `output_hidden_states` and `use_cache` cannot be updated when calling a model.They have to be set to True/False in the config object (i.e.: `config=XConfig.from_pretrained('name', output_attentions=True)`).\n",
            "WARNING:tensorflow:The parameter `return_dict` cannot be set in graph mode and will always be set to `True`.\n",
            "WARNING:tensorflow:The parameters `output_attentions`, `output_hidden_states` and `use_cache` cannot be updated when calling a model.They have to be set to True/False in the config object (i.e.: `config=XConfig.from_pretrained('name', output_attentions=True)`).\n",
            "WARNING:tensorflow:The parameter `return_dict` cannot be set in graph mode and will always be set to `True`.\n",
            "177/178 [============================>.] - ETA: 0s - loss: 0.7034 - accuracy: 0.5631 - precision_1: 0.5557 - recall_1: 0.5650WARNING:tensorflow:The parameters `output_attentions`, `output_hidden_states` and `use_cache` cannot be updated when calling a model.They have to be set to True/False in the config object (i.e.: `config=XConfig.from_pretrained('name', output_attentions=True)`).\n",
            "WARNING:tensorflow:The parameter `return_dict` cannot be set in graph mode and will always be set to `True`.\n",
            "178/178 [==============================] - 25s 98ms/step - loss: 0.7032 - accuracy: 0.5633 - precision_1: 0.5560 - recall_1: 0.5651 - val_loss: 0.6611 - val_accuracy: 0.5937 - val_precision_1: 0.5491 - val_recall_1: 0.8333\n",
            "Epoch 2/25\n",
            "178/178 [==============================] - 16s 88ms/step - loss: 0.5547 - accuracy: 0.7046 - precision_1: 0.6969 - recall_1: 0.7311 - val_loss: 0.6322 - val_accuracy: 0.6639 - val_precision_1: 0.6718 - val_recall_1: 0.5789\n",
            "Epoch 3/25\n",
            "178/178 [==============================] - 16s 88ms/step - loss: 0.3380 - accuracy: 0.8673 - precision_1: 0.8795 - recall_1: 0.8466 - val_loss: 0.7639 - val_accuracy: 0.6419 - val_precision_1: 0.6000 - val_recall_1: 0.7500\n",
            "Epoch 4/25\n",
            "178/178 [==============================] - 16s 88ms/step - loss: 0.1457 - accuracy: 0.9529 - precision_1: 0.9574 - recall_1: 0.9472 - val_loss: 1.0429 - val_accuracy: 0.6272 - val_precision_1: 0.5828 - val_recall_1: 0.7719\n",
            "Epoch 5/25\n",
            "178/178 [==============================] - 16s 88ms/step - loss: 0.0556 - accuracy: 0.9885 - precision_1: 0.9907 - recall_1: 0.9857 - val_loss: 1.4000 - val_accuracy: 0.6157 - val_precision_1: 0.5701 - val_recall_1: 0.7939\n",
            "Epoch 6/25\n",
            "178/178 [==============================] - 16s 88ms/step - loss: 0.0342 - accuracy: 0.9869 - precision_1: 0.9870 - recall_1: 0.9865 - val_loss: 1.2830 - val_accuracy: 0.6503 - val_precision_1: 0.6260 - val_recall_1: 0.6645\n",
            "Epoch 7/25\n",
            "178/178 [==============================] - 16s 88ms/step - loss: 0.0238 - accuracy: 0.9902 - precision_1: 0.9916 - recall_1: 0.9887 - val_loss: 1.4356 - val_accuracy: 0.6377 - val_precision_1: 0.5996 - val_recall_1: 0.7259\n",
            "Epoch 8/25\n",
            "178/178 [==============================] - 16s 88ms/step - loss: 0.0220 - accuracy: 0.9967 - precision_1: 0.9989 - recall_1: 0.9943 - val_loss: 1.6766 - val_accuracy: 0.6335 - val_precision_1: 0.5936 - val_recall_1: 0.7368\n",
            "Epoch 9/25\n",
            "178/178 [==============================] - 16s 88ms/step - loss: 0.0193 - accuracy: 0.9955 - precision_1: 0.9972 - recall_1: 0.9937 - val_loss: 1.6611 - val_accuracy: 0.6429 - val_precision_1: 0.6059 - val_recall_1: 0.7215\n",
            "Epoch 10/25\n",
            "178/178 [==============================] - 16s 88ms/step - loss: 0.0088 - accuracy: 0.9976 - precision_1: 0.9981 - recall_1: 0.9972 - val_loss: 1.7730 - val_accuracy: 0.6429 - val_precision_1: 0.6051 - val_recall_1: 0.7259\n",
            "Epoch 11/25\n",
            "178/178 [==============================] - 16s 88ms/step - loss: 0.0140 - accuracy: 0.9946 - precision_1: 0.9950 - recall_1: 0.9944 - val_loss: 1.7639 - val_accuracy: 0.6492 - val_precision_1: 0.6193 - val_recall_1: 0.6886\n",
            "Epoch 12/25\n",
            "178/178 [==============================] - 16s 88ms/step - loss: 0.0140 - accuracy: 0.9949 - precision_1: 0.9960 - recall_1: 0.9939 - val_loss: 1.9082 - val_accuracy: 0.6597 - val_precision_1: 0.6728 - val_recall_1: 0.5592\n",
            "Epoch 13/25\n",
            "178/178 [==============================] - 16s 88ms/step - loss: 0.0171 - accuracy: 0.9941 - precision_1: 0.9956 - recall_1: 0.9924 - val_loss: 1.6400 - val_accuracy: 0.6387 - val_precision_1: 0.6082 - val_recall_1: 0.6842\n",
            "Epoch 14/25\n",
            "178/178 [==============================] - 16s 88ms/step - loss: 0.0165 - accuracy: 0.9945 - precision_1: 0.9951 - recall_1: 0.9941 - val_loss: 1.9251 - val_accuracy: 0.6440 - val_precision_1: 0.6111 - val_recall_1: 0.6996\n"
          ],
          "name": "stdout"
        }
      ]
    },
    {
      "cell_type": "code",
      "metadata": {
        "colab": {
          "base_uri": "https://localhost:8080/"
        },
        "id": "UTwy1LkDHooF",
        "outputId": "c0821837-6df5-48b9-d8ac-dc659a440940"
      },
      "source": [
        "preds_dl_irony = DistilBert_irony.predict(dl_irony_test_input, verbose=True)"
      ],
      "execution_count": 15,
      "outputs": [
        {
          "output_type": "stream",
          "text": [
            "WARNING:tensorflow:The parameters `output_attentions`, `output_hidden_states` and `use_cache` cannot be updated when calling a model.They have to be set to True/False in the config object (i.e.: `config=XConfig.from_pretrained('name', output_attentions=True)`).\n",
            "WARNING:tensorflow:The parameter `return_dict` cannot be set in graph mode and will always be set to `True`.\n",
            "25/25 [==============================] - 3s 46ms/step\n"
          ],
          "name": "stdout"
        }
      ]
    },
    {
      "cell_type": "code",
      "metadata": {
        "colab": {
          "base_uri": "https://localhost:8080/",
          "height": 467
        },
        "id": "6yanVWo7Hpz1",
        "outputId": "44cb2ffd-2325-4d76-f9a0-e534a564582a"
      },
      "source": [
        "irony_pred_dl_label = [i[0] for i in preds_dl_irony.round().astype(int)]\n",
        "cm = confusion_matrix(irony_dict_test.label,irony_pred_dl_label)\n",
        "plot_confusion_matrix(cm, normalize=False,target_names=['Not_irony', 'Irony'],title=\"DistilBert Confusion Matrix for Irony\")"
      ],
      "execution_count": 16,
      "outputs": [
        {
          "output_type": "display_data",
          "data": {
            "image/png": "[encoded data removed]",
            "text/plain": [
              "<Figure size 576x432 with 2 Axes>"
            ]
          },
          "metadata": {
            "tags": [],
            "needs_background": "light"
          }
        }
      ]
    },
    {
      "cell_type": "code",
      "metadata": {
        "id": "2gCT8T532GxO",
        "outputId": "34ea4da2-1fe2-4017-9923-9a0cf78a6fa7",
        "colab": {
          "base_uri": "https://localhost:8080/"
        }
      },
      "source": [
        "f1_dl_irony = f1_score(irony_dict_test.label,irony_pred_dl_label,average='macro')\n",
        "print(\"F1_score of irony dataset with DistilBert is: %.1f%%\" % round(f1_dl_irony*100,1))"
      ],
      "execution_count": 17,
      "outputs": [
        {
          "output_type": "stream",
          "text": [
            "F1_score of irony dataset with DistilBert is: 59.5%\n"
          ],
          "name": "stdout"
        }
      ]
    },
    {
      "cell_type": "code",
      "metadata": {
        "colab": {
          "base_uri": "https://localhost:8080/"
        },
        "id": "E0IDd7q5RM58",
        "outputId": "35fcf411-7f09-419d-ce42-767d63ddd575"
      },
      "source": [
        "DistilBert_offensive = create_model(dbert_model)\n",
        "hist_dl_offensive = DistilBert_offensive.fit(x=dl_offensive_train_input, y=offensive_dict_train.label, epochs=25, batch_size=16, validation_data=(dl_offensive_val_input, offensive_dict_val.label), callbacks=callbacks)"
      ],
      "execution_count": 18,
      "outputs": [
        {
          "output_type": "stream",
          "text": [
            "WARNING:tensorflow:The parameters `output_attentions`, `output_hidden_states` and `use_cache` cannot be updated when calling a model.They have to be set to True/False in the config object (i.e.: `config=XConfig.from_pretrained('name', output_attentions=True)`).\n",
            "WARNING:tensorflow:The parameter `return_dict` cannot be set in graph mode and will always be set to `True`.\n",
            "Epoch 1/25\n",
            "WARNING:tensorflow:The parameters `output_attentions`, `output_hidden_states` and `use_cache` cannot be updated when calling a model.They have to be set to True/False in the config object (i.e.: `config=XConfig.from_pretrained('name', output_attentions=True)`).\n",
            "WARNING:tensorflow:The parameter `return_dict` cannot be set in graph mode and will always be set to `True`.\n",
            "WARNING:tensorflow:The parameters `output_attentions`, `output_hidden_states` and `use_cache` cannot be updated when calling a model.They have to be set to True/False in the config object (i.e.: `config=XConfig.from_pretrained('name', output_attentions=True)`).\n",
            "WARNING:tensorflow:The parameter `return_dict` cannot be set in graph mode and will always be set to `True`.\n",
            "493/493 [==============================] - ETA: 0s - loss: 0.7080 - accuracy: 0.5085 - precision_2: 0.5050 - recall_2: 0.5485WARNING:tensorflow:The parameters `output_attentions`, `output_hidden_states` and `use_cache` cannot be updated when calling a model.They have to be set to True/False in the config object (i.e.: `config=XConfig.from_pretrained('name', output_attentions=True)`).\n",
            "WARNING:tensorflow:The parameter `return_dict` cannot be set in graph mode and will always be set to `True`.\n",
            "493/493 [==============================] - 50s 86ms/step - loss: 0.7080 - accuracy: 0.5085 - precision_2: 0.5050 - recall_2: 0.5483 - val_loss: 0.6907 - val_accuracy: 0.6533 - val_precision_2: 0.0000e+00 - val_recall_2: 0.0000e+00\n",
            "Epoch 2/25\n",
            "493/493 [==============================] - 41s 83ms/step - loss: 0.6933 - accuracy: 0.5094 - precision_2: 0.5329 - recall_2: 0.1029 - val_loss: 0.7601 - val_accuracy: 0.3467 - val_precision_2: 0.3467 - val_recall_2: 1.0000\n",
            "Epoch 3/25\n",
            "493/493 [==============================] - 41s 83ms/step - loss: 0.6924 - accuracy: 0.5291 - precision_2: 0.5319 - recall_2: 0.5381 - val_loss: 0.7372 - val_accuracy: 0.5038 - val_precision_2: 0.4035 - val_recall_2: 0.9020\n",
            "Epoch 4/25\n",
            "493/493 [==============================] - 41s 83ms/step - loss: 0.6202 - accuracy: 0.6475 - precision_2: 0.6572 - recall_2: 0.6391 - val_loss: 0.5772 - val_accuracy: 0.7251 - val_precision_2: 0.7130 - val_recall_2: 0.3464\n",
            "Epoch 5/25\n",
            "493/493 [==============================] - 41s 83ms/step - loss: 0.5380 - accuracy: 0.7389 - precision_2: 0.7624 - recall_2: 0.7018 - val_loss: 0.5469 - val_accuracy: 0.7296 - val_precision_2: 0.6272 - val_recall_2: 0.5425\n",
            "Epoch 6/25\n",
            "493/493 [==============================] - 41s 83ms/step - loss: 0.4441 - accuracy: 0.8061 - precision_2: 0.8255 - recall_2: 0.7691 - val_loss: 0.5931 - val_accuracy: 0.7258 - val_precision_2: 0.6116 - val_recall_2: 0.5730\n",
            "Epoch 7/25\n",
            "493/493 [==============================] - 41s 83ms/step - loss: 0.3374 - accuracy: 0.8645 - precision_2: 0.8798 - recall_2: 0.8484 - val_loss: 0.8041 - val_accuracy: 0.6662 - val_precision_2: 0.5139 - val_recall_2: 0.6841\n",
            "Epoch 8/25\n",
            "493/493 [==============================] - 41s 83ms/step - loss: 0.2469 - accuracy: 0.9083 - precision_2: 0.9090 - recall_2: 0.9091 - val_loss: 0.7650 - val_accuracy: 0.6881 - val_precision_2: 0.5446 - val_recall_2: 0.6122\n",
            "Epoch 9/25\n",
            "493/493 [==============================] - 41s 83ms/step - loss: 0.1987 - accuracy: 0.9354 - precision_2: 0.9411 - recall_2: 0.9272 - val_loss: 1.0602 - val_accuracy: 0.6858 - val_precision_2: 0.5335 - val_recall_2: 0.7451\n",
            "Epoch 10/25\n",
            "493/493 [==============================] - 41s 82ms/step - loss: 0.1347 - accuracy: 0.9570 - precision_2: 0.9613 - recall_2: 0.9534 - val_loss: 1.2610 - val_accuracy: 0.6956 - val_precision_2: 0.5507 - val_recall_2: 0.6623\n",
            "Epoch 11/25\n",
            "493/493 [==============================] - 40s 82ms/step - loss: 0.1095 - accuracy: 0.9664 - precision_2: 0.9673 - recall_2: 0.9657 - val_loss: 1.3423 - val_accuracy: 0.6911 - val_precision_2: 0.5443 - val_recall_2: 0.6688\n",
            "Epoch 12/25\n",
            "493/493 [==============================] - 40s 82ms/step - loss: 0.1029 - accuracy: 0.9658 - precision_2: 0.9649 - recall_2: 0.9669 - val_loss: 1.3451 - val_accuracy: 0.6737 - val_precision_2: 0.5219 - val_recall_2: 0.7015\n",
            "Epoch 13/25\n",
            "493/493 [==============================] - 40s 82ms/step - loss: 0.0905 - accuracy: 0.9718 - precision_2: 0.9742 - recall_2: 0.9704 - val_loss: 1.3422 - val_accuracy: 0.6745 - val_precision_2: 0.5219 - val_recall_2: 0.7255\n",
            "Epoch 14/25\n",
            "493/493 [==============================] - 40s 82ms/step - loss: 0.0803 - accuracy: 0.9738 - precision_2: 0.9743 - recall_2: 0.9743 - val_loss: 1.4979 - val_accuracy: 0.6752 - val_precision_2: 0.5258 - val_recall_2: 0.6449\n",
            "Epoch 15/25\n",
            "493/493 [==============================] - 40s 82ms/step - loss: 0.0748 - accuracy: 0.9801 - precision_2: 0.9774 - recall_2: 0.9825 - val_loss: 1.6233 - val_accuracy: 0.6934 - val_precision_2: 0.5598 - val_recall_2: 0.5403\n",
            "Epoch 16/25\n",
            "493/493 [==============================] - 40s 82ms/step - loss: 0.0658 - accuracy: 0.9796 - precision_2: 0.9762 - recall_2: 0.9831 - val_loss: 1.4142 - val_accuracy: 0.6903 - val_precision_2: 0.5514 - val_recall_2: 0.5730\n",
            "Epoch 17/25\n",
            "493/493 [==============================] - 40s 82ms/step - loss: 0.0578 - accuracy: 0.9813 - precision_2: 0.9813 - recall_2: 0.9817 - val_loss: 1.5343 - val_accuracy: 0.6458 - val_precision_2: 0.4925 - val_recall_2: 0.7146\n",
            "Epoch 18/25\n",
            "493/493 [==============================] - 41s 83ms/step - loss: 0.0476 - accuracy: 0.9855 - precision_2: 0.9828 - recall_2: 0.9884 - val_loss: 1.7868 - val_accuracy: 0.6654 - val_precision_2: 0.5132 - val_recall_2: 0.6754\n",
            "Epoch 19/25\n",
            "493/493 [==============================] - 40s 82ms/step - loss: 0.0438 - accuracy: 0.9855 - precision_2: 0.9848 - recall_2: 0.9862 - val_loss: 1.4491 - val_accuracy: 0.6775 - val_precision_2: 0.5292 - val_recall_2: 0.6318\n",
            "Epoch 20/25\n",
            "493/493 [==============================] - 40s 81ms/step - loss: 0.0434 - accuracy: 0.9871 - precision_2: 0.9879 - recall_2: 0.9862 - val_loss: 1.9752 - val_accuracy: 0.6548 - val_precision_2: 0.5017 - val_recall_2: 0.6471\n",
            "Epoch 21/25\n",
            "493/493 [==============================] - 40s 82ms/step - loss: 0.0389 - accuracy: 0.9876 - precision_2: 0.9893 - recall_2: 0.9859 - val_loss: 2.0733 - val_accuracy: 0.6752 - val_precision_2: 0.5258 - val_recall_2: 0.6427\n",
            "Epoch 22/25\n",
            "493/493 [==============================] - 40s 82ms/step - loss: 0.0394 - accuracy: 0.9889 - precision_2: 0.9911 - recall_2: 0.9869 - val_loss: 2.1744 - val_accuracy: 0.6435 - val_precision_2: 0.4903 - val_recall_2: 0.7190\n",
            "Epoch 23/25\n",
            "493/493 [==============================] - 40s 82ms/step - loss: 0.0329 - accuracy: 0.9900 - precision_2: 0.9910 - recall_2: 0.9891 - val_loss: 1.8529 - val_accuracy: 0.6790 - val_precision_2: 0.5300 - val_recall_2: 0.6536\n",
            "Epoch 24/25\n",
            "493/493 [==============================] - 40s 82ms/step - loss: 0.0218 - accuracy: 0.9933 - precision_2: 0.9947 - recall_2: 0.9918 - val_loss: 2.4567 - val_accuracy: 0.6480 - val_precision_2: 0.4948 - val_recall_2: 0.7298\n",
            "Epoch 25/25\n",
            "493/493 [==============================] - 40s 82ms/step - loss: 0.0316 - accuracy: 0.9891 - precision_2: 0.9887 - recall_2: 0.9892 - val_loss: 2.6294 - val_accuracy: 0.6669 - val_precision_2: 0.5153 - val_recall_2: 0.6601\n"
          ],
          "name": "stdout"
        }
      ]
    },
    {
      "cell_type": "code",
      "metadata": {
        "colab": {
          "base_uri": "https://localhost:8080/"
        },
        "id": "0JZnQOGSRYay",
        "outputId": "de572e1c-3374-42f6-aeee-f89caed4fcd3"
      },
      "source": [
        "preds_dl_offensive = DistilBert_offensive.predict(dl_offensive_test_input, verbose=True)"
      ],
      "execution_count": 19,
      "outputs": [
        {
          "output_type": "stream",
          "text": [
            "WARNING:tensorflow:The parameters `output_attentions`, `output_hidden_states` and `use_cache` cannot be updated when calling a model.They have to be set to True/False in the config object (i.e.: `config=XConfig.from_pretrained('name', output_attentions=True)`).\n",
            "WARNING:tensorflow:The parameter `return_dict` cannot be set in graph mode and will always be set to `True`.\n",
            "27/27 [==============================] - 3s 46ms/step\n"
          ],
          "name": "stdout"
        }
      ]
    },
    {
      "cell_type": "code",
      "metadata": {
        "colab": {
          "base_uri": "https://localhost:8080/",
          "height": 467
        },
        "id": "hVZI2SRnResz",
        "outputId": "09fdb5e5-40af-4ae2-e06a-2bb643bb7de3"
      },
      "source": [
        "offensive_pred_dl_label = [i[0] for i in preds_dl_offensive.round().astype(int)]\n",
        "cm = confusion_matrix(offensive_dict_test.label,offensive_pred_dl_label)\n",
        "plot_confusion_matrix(cm, normalize=False, target_names=['Not_offensive', 'Offensive'],title=\"DistilBert Confusion Matrix for Offensive\")"
      ],
      "execution_count": 20,
      "outputs": [
        {
          "output_type": "display_data",
          "data": {
            "image/png": "[encoded data removed]",
            "text/plain": [
              "<Figure size 576x432 with 2 Axes>"
            ]
          },
          "metadata": {
            "tags": [],
            "needs_background": "light"
          }
        }
      ]
    },
    {
      "cell_type": "code",
      "metadata": {
        "id": "6cdfLTYk17iF",
        "outputId": "7d8cf883-1eb1-44e0-d866-6f080bca4e66",
        "colab": {
          "base_uri": "https://localhost:8080/"
        }
      },
      "source": [
        "f1_dl_offensive = f1_score(offensive_dict_test.label,offensive_pred_dl_label,average='macro')\n",
        "print(\"F1_score of offensive dataset with DistilBert is: %.1f%%\" % round(f1_dl_offensive*100,1))"
      ],
      "execution_count": 21,
      "outputs": [
        {
          "output_type": "stream",
          "text": [
            "F1_score of offensive dataset with DistilBert is: 64.5%\n"
          ],
          "name": "stdout"
        }
      ]
    },
    {
      "cell_type": "markdown",
      "metadata": {
        "id": "toeItPapUByt"
      },
      "source": [
        "#Apply XLNet as the 2nd model to predict classifcation."
      ]
    },
    {
      "cell_type": "code",
      "metadata": {
        "colab": {
          "base_uri": "https://localhost:8080/"
        },
        "id": "MpMxeYhzT-NW",
        "outputId": "c3f01238-4620-4e6f-b9d3-299d3d9622d8"
      },
      "source": [
        "XLNet_hate = create_model(xlnet_model)\n",
        "XLNet_hate.summary()"
      ],
      "execution_count": 22,
      "outputs": [
        {
          "output_type": "stream",
          "text": [
            "WARNING:tensorflow:The parameters `output_attentions`, `output_hidden_states` and `use_cache` cannot be updated when calling a model.They have to be set to True/False in the config object (i.e.: `config=XConfig.from_pretrained('name', output_attentions=True)`).\n",
            "WARNING:tensorflow:The parameter `return_dict` cannot be set in graph mode and will always be set to `True`.\n",
            "Model: \"model_3\"\n",
            "__________________________________________________________________________________________________\n",
            "Layer (type)                    Output Shape         Param #     Connected to                     \n",
            "==================================================================================================\n",
            "word_ids (InputLayer)           [(None, 120)]        0                                            \n",
            "__________________________________________________________________________________________________\n",
            "word_attention (InputLayer)     [(None, 120)]        0                                            \n",
            "__________________________________________________________________________________________________\n",
            "tfxl_net_model (TFXLNetModel)   TFXLNetModelOutput(l 116718336   word_ids[0][0]                   \n",
            "                                                                 word_attention[0][0]             \n",
            "__________________________________________________________________________________________________\n",
            "tf.__operators__.getitem_3 (Sli (None, 1, 768)       0           tfxl_net_model[0][0]             \n",
            "__________________________________________________________________________________________________\n",
            "tf.compat.v1.squeeze_3 (TFOpLam (None, 768)          0           tf.__operators__.getitem_3[0][0] \n",
            "__________________________________________________________________________________________________\n",
            "encoding (Dense)                (None, 32)           24608       tf.compat.v1.squeeze_3[0][0]     \n",
            "__________________________________________________________________________________________________\n",
            "dropout_59 (Dropout)            (None, 32)           0           encoding[0][0]                   \n",
            "__________________________________________________________________________________________________\n",
            "outputs (Dense)                 (None, 1)            33          dropout_59[0][0]                 \n",
            "==================================================================================================\n",
            "Total params: 116,742,977\n",
            "Trainable params: 116,742,977\n",
            "Non-trainable params: 0\n",
            "__________________________________________________________________________________________________\n"
          ],
          "name": "stdout"
        }
      ]
    },
    {
      "cell_type": "code",
      "metadata": {
        "colab": {
          "base_uri": "https://localhost:8080/"
        },
        "id": "6bDNJJUjTgnK",
        "outputId": "19b0ff8b-6419-4f80-d589-785b89a56df5"
      },
      "source": [
        "hist_xl_hate = XLNet_hate.fit(x=xl_hate_train_input, y=hate_dict_train.label, epochs=25, batch_size=16, validation_data=(xl_hate_val_input, hate_dict_val.label), callbacks=callbacks)"
      ],
      "execution_count": 23,
      "outputs": [
        {
          "output_type": "stream",
          "text": [
            "Epoch 1/25\n",
            "WARNING:tensorflow:The parameters `output_attentions`, `output_hidden_states` and `use_cache` cannot be updated when calling a model.They have to be set to True/False in the config object (i.e.: `config=XConfig.from_pretrained('name', output_attentions=True)`).\n",
            "WARNING:tensorflow:The parameter `return_dict` cannot be set in graph mode and will always be set to `True`.\n",
            "WARNING:tensorflow:Gradients do not exist for variables ['tfxl_net_model/transformer/mask_emb:0', 'tfxl_net_model/transformer/layer_._0/rel_attn/r_s_bias:0', 'tfxl_net_model/transformer/layer_._0/rel_attn/seg_embed:0', 'tfxl_net_model/transformer/layer_._1/rel_attn/r_s_bias:0', 'tfxl_net_model/transformer/layer_._1/rel_attn/seg_embed:0', 'tfxl_net_model/transformer/layer_._2/rel_attn/r_s_bias:0', 'tfxl_net_model/transformer/layer_._2/rel_attn/seg_embed:0', 'tfxl_net_model/transformer/layer_._3/rel_attn/r_s_bias:0', 'tfxl_net_model/transformer/layer_._3/rel_attn/seg_embed:0', 'tfxl_net_model/transformer/layer_._4/rel_attn/r_s_bias:0', 'tfxl_net_model/transformer/layer_._4/rel_attn/seg_embed:0', 'tfxl_net_model/transformer/layer_._5/rel_attn/r_s_bias:0', 'tfxl_net_model/transformer/layer_._5/rel_attn/seg_embed:0', 'tfxl_net_model/transformer/layer_._6/rel_attn/r_s_bias:0', 'tfxl_net_model/transformer/layer_._6/rel_attn/seg_embed:0', 'tfxl_net_model/transformer/layer_._7/rel_attn/r_s_bias:0', 'tfxl_net_model/transformer/layer_._7/rel_attn/seg_embed:0', 'tfxl_net_model/transformer/layer_._8/rel_attn/r_s_bias:0', 'tfxl_net_model/transformer/layer_._8/rel_attn/seg_embed:0', 'tfxl_net_model/transformer/layer_._9/rel_attn/r_s_bias:0', 'tfxl_net_model/transformer/layer_._9/rel_attn/seg_embed:0', 'tfxl_net_model/transformer/layer_._10/rel_attn/r_s_bias:0', 'tfxl_net_model/transformer/layer_._10/rel_attn/seg_embed:0', 'tfxl_net_model/transformer/layer_._11/rel_attn/r_s_bias:0', 'tfxl_net_model/transformer/layer_._11/rel_attn/seg_embed:0'] when minimizing the loss.\n",
            "WARNING:tensorflow:The parameters `output_attentions`, `output_hidden_states` and `use_cache` cannot be updated when calling a model.They have to be set to True/False in the config object (i.e.: `config=XConfig.from_pretrained('name', output_attentions=True)`).\n",
            "WARNING:tensorflow:The parameter `return_dict` cannot be set in graph mode and will always be set to `True`.\n",
            "WARNING:tensorflow:Gradients do not exist for variables ['tfxl_net_model/transformer/mask_emb:0', 'tfxl_net_model/transformer/layer_._0/rel_attn/r_s_bias:0', 'tfxl_net_model/transformer/layer_._0/rel_attn/seg_embed:0', 'tfxl_net_model/transformer/layer_._1/rel_attn/r_s_bias:0', 'tfxl_net_model/transformer/layer_._1/rel_attn/seg_embed:0', 'tfxl_net_model/transformer/layer_._2/rel_attn/r_s_bias:0', 'tfxl_net_model/transformer/layer_._2/rel_attn/seg_embed:0', 'tfxl_net_model/transformer/layer_._3/rel_attn/r_s_bias:0', 'tfxl_net_model/transformer/layer_._3/rel_attn/seg_embed:0', 'tfxl_net_model/transformer/layer_._4/rel_attn/r_s_bias:0', 'tfxl_net_model/transformer/layer_._4/rel_attn/seg_embed:0', 'tfxl_net_model/transformer/layer_._5/rel_attn/r_s_bias:0', 'tfxl_net_model/transformer/layer_._5/rel_attn/seg_embed:0', 'tfxl_net_model/transformer/layer_._6/rel_attn/r_s_bias:0', 'tfxl_net_model/transformer/layer_._6/rel_attn/seg_embed:0', 'tfxl_net_model/transformer/layer_._7/rel_attn/r_s_bias:0', 'tfxl_net_model/transformer/layer_._7/rel_attn/seg_embed:0', 'tfxl_net_model/transformer/layer_._8/rel_attn/r_s_bias:0', 'tfxl_net_model/transformer/layer_._8/rel_attn/seg_embed:0', 'tfxl_net_model/transformer/layer_._9/rel_attn/r_s_bias:0', 'tfxl_net_model/transformer/layer_._9/rel_attn/seg_embed:0', 'tfxl_net_model/transformer/layer_._10/rel_attn/r_s_bias:0', 'tfxl_net_model/transformer/layer_._10/rel_attn/seg_embed:0', 'tfxl_net_model/transformer/layer_._11/rel_attn/r_s_bias:0', 'tfxl_net_model/transformer/layer_._11/rel_attn/seg_embed:0'] when minimizing the loss.\n",
            "473/473 [==============================] - ETA: 0s - loss: 0.7400 - accuracy: 0.5876 - precision_3: 0.5900 - recall_3: 0.5957WARNING:tensorflow:The parameters `output_attentions`, `output_hidden_states` and `use_cache` cannot be updated when calling a model.They have to be set to True/False in the config object (i.e.: `config=XConfig.from_pretrained('name', output_attentions=True)`).\n",
            "WARNING:tensorflow:The parameter `return_dict` cannot be set in graph mode and will always be set to `True`.\n",
            "473/473 [==============================] - 99s 183ms/step - loss: 0.7398 - accuracy: 0.5877 - precision_3: 0.5901 - recall_3: 0.5958 - val_loss: 0.6437 - val_accuracy: 0.6610 - val_precision_3: 0.5701 - val_recall_3: 0.8384\n",
            "Epoch 2/25\n",
            "473/473 [==============================] - 84s 178ms/step - loss: 0.5251 - accuracy: 0.7401 - precision_3: 0.7380 - recall_3: 0.7411 - val_loss: 0.6204 - val_accuracy: 0.6570 - val_precision_3: 0.5621 - val_recall_3: 0.8899\n",
            "Epoch 3/25\n",
            "473/473 [==============================] - 84s 178ms/step - loss: 0.4401 - accuracy: 0.7975 - precision_3: 0.7872 - recall_3: 0.8162 - val_loss: 0.6809 - val_accuracy: 0.6630 - val_precision_3: 0.5672 - val_recall_3: 0.8899\n",
            "Epoch 4/25\n",
            "473/473 [==============================] - 84s 178ms/step - loss: 0.3412 - accuracy: 0.8505 - precision_3: 0.8293 - recall_3: 0.8769 - val_loss: 0.5933 - val_accuracy: 0.7180 - val_precision_3: 0.6330 - val_recall_3: 0.8080\n",
            "Epoch 5/25\n",
            "473/473 [==============================] - 84s 178ms/step - loss: 0.2338 - accuracy: 0.9080 - precision_3: 0.8937 - recall_3: 0.9258 - val_loss: 1.0307 - val_accuracy: 0.6110 - val_precision_3: 0.5259 - val_recall_3: 0.9040\n",
            "Epoch 6/25\n",
            "473/473 [==============================] - 84s 178ms/step - loss: 0.1599 - accuracy: 0.9365 - precision_3: 0.9271 - recall_3: 0.9451 - val_loss: 0.8846 - val_accuracy: 0.6980 - val_precision_3: 0.6126 - val_recall_3: 0.7963\n",
            "Epoch 7/25\n",
            "473/473 [==============================] - 85s 179ms/step - loss: 0.0955 - accuracy: 0.9657 - precision_3: 0.9626 - recall_3: 0.9694 - val_loss: 1.2769 - val_accuracy: 0.6780 - val_precision_3: 0.5876 - val_recall_3: 0.8244\n",
            "Epoch 8/25\n",
            "473/473 [==============================] - 84s 179ms/step - loss: 0.0725 - accuracy: 0.9739 - precision_3: 0.9762 - recall_3: 0.9718 - val_loss: 1.5274 - val_accuracy: 0.7270 - val_precision_3: 0.6510 - val_recall_3: 0.7775\n",
            "Epoch 9/25\n",
            "473/473 [==============================] - 84s 179ms/step - loss: 0.0568 - accuracy: 0.9777 - precision_3: 0.9793 - recall_3: 0.9766 - val_loss: 1.4875 - val_accuracy: 0.7330 - val_precision_3: 0.6681 - val_recall_3: 0.7447\n",
            "Epoch 10/25\n",
            "473/473 [==============================] - 84s 178ms/step - loss: 0.0482 - accuracy: 0.9826 - precision_3: 0.9845 - recall_3: 0.9802 - val_loss: 1.5601 - val_accuracy: 0.7020 - val_precision_3: 0.6166 - val_recall_3: 0.7986\n",
            "Epoch 11/25\n",
            "473/473 [==============================] - 84s 178ms/step - loss: 0.0465 - accuracy: 0.9854 - precision_3: 0.9850 - recall_3: 0.9855 - val_loss: 1.3283 - val_accuracy: 0.7290 - val_precision_3: 0.6866 - val_recall_3: 0.6721\n",
            "Epoch 12/25\n",
            "473/473 [==============================] - 85s 179ms/step - loss: 0.0380 - accuracy: 0.9870 - precision_3: 0.9905 - recall_3: 0.9838 - val_loss: 1.5407 - val_accuracy: 0.7030 - val_precision_3: 0.6240 - val_recall_3: 0.7658\n",
            "Epoch 13/25\n",
            "473/473 [==============================] - 85s 179ms/step - loss: 0.0296 - accuracy: 0.9914 - precision_3: 0.9920 - recall_3: 0.9907 - val_loss: 1.8215 - val_accuracy: 0.7260 - val_precision_3: 0.6577 - val_recall_3: 0.7471\n",
            "Epoch 14/25\n",
            "473/473 [==============================] - 85s 179ms/step - loss: 0.0406 - accuracy: 0.9909 - precision_3: 0.9916 - recall_3: 0.9900 - val_loss: 2.0101 - val_accuracy: 0.7240 - val_precision_3: 0.6752 - val_recall_3: 0.6815\n",
            "Epoch 15/25\n",
            "473/473 [==============================] - 85s 180ms/step - loss: 0.0257 - accuracy: 0.9928 - precision_3: 0.9913 - recall_3: 0.9938 - val_loss: 1.6480 - val_accuracy: 0.7350 - val_precision_3: 0.6841 - val_recall_3: 0.7049\n",
            "Epoch 16/25\n",
            "473/473 [==============================] - 85s 179ms/step - loss: 0.0282 - accuracy: 0.9904 - precision_3: 0.9903 - recall_3: 0.9902 - val_loss: 1.6459 - val_accuracy: 0.7150 - val_precision_3: 0.6296 - val_recall_3: 0.8080\n",
            "Epoch 17/25\n",
            "473/473 [==============================] - 85s 180ms/step - loss: 0.0374 - accuracy: 0.9877 - precision_3: 0.9875 - recall_3: 0.9873 - val_loss: 1.9951 - val_accuracy: 0.7110 - val_precision_3: 0.6540 - val_recall_3: 0.6862\n",
            "Epoch 18/25\n",
            "473/473 [==============================] - 85s 180ms/step - loss: 0.0290 - accuracy: 0.9915 - precision_3: 0.9912 - recall_3: 0.9916 - val_loss: 2.7072 - val_accuracy: 0.7220 - val_precision_3: 0.6761 - val_recall_3: 0.6698\n",
            "Epoch 19/25\n",
            "473/473 [==============================] - 85s 180ms/step - loss: 0.0243 - accuracy: 0.9921 - precision_3: 0.9940 - recall_3: 0.9903 - val_loss: 1.4570 - val_accuracy: 0.7120 - val_precision_3: 0.7050 - val_recall_3: 0.5597\n"
          ],
          "name": "stdout"
        }
      ]
    },
    {
      "cell_type": "code",
      "metadata": {
        "colab": {
          "base_uri": "https://localhost:8080/"
        },
        "id": "FvLsulRdUpuG",
        "outputId": "c25a2d35-3ff6-41b8-a197-a8c10cbd7ad0"
      },
      "source": [
        "preds_xl_hate = XLNet_hate.predict(xl_hate_test_input, verbose=True)"
      ],
      "execution_count": 24,
      "outputs": [
        {
          "output_type": "stream",
          "text": [
            "WARNING:tensorflow:The parameters `output_attentions`, `output_hidden_states` and `use_cache` cannot be updated when calling a model.They have to be set to True/False in the config object (i.e.: `config=XConfig.from_pretrained('name', output_attentions=True)`).\n",
            "WARNING:tensorflow:The parameter `return_dict` cannot be set in graph mode and will always be set to `True`.\n",
            "93/93 [==============================] - 12s 105ms/step\n"
          ],
          "name": "stdout"
        }
      ]
    },
    {
      "cell_type": "code",
      "metadata": {
        "colab": {
          "base_uri": "https://localhost:8080/",
          "height": 467
        },
        "id": "ZDaUwPk_UVWt",
        "outputId": "6d43dcf4-8573-49c9-b4d8-552a79cc953b"
      },
      "source": [
        "hate_pred_xl_label = [i[0] for i in preds_xl_hate.round().astype(int)]\n",
        "cm = confusion_matrix(hate_dict_test.label,hate_pred_xl_label)\n",
        "plot_confusion_matrix(cm, normalize=False,target_names=['Not_hate', 'Hate'],title=\"XLNet Confusion Matrix for Hate\")"
      ],
      "execution_count": 25,
      "outputs": [
        {
          "output_type": "display_data",
          "data": {
            "image/png": "[encoded data removed]",
            "text/plain": [
              "<Figure size 576x432 with 2 Axes>"
            ]
          },
          "metadata": {
            "tags": [],
            "needs_background": "light"
          }
        }
      ]
    },
    {
      "cell_type": "code",
      "metadata": {
        "id": "c1t3aKYX14Nb",
        "outputId": "264d0b1e-26da-4c42-b9b5-0e71b41cbbe2",
        "colab": {
          "base_uri": "https://localhost:8080/"
        }
      },
      "source": [
        "f1_xl_hate = f1_score(hate_dict_test.label,hate_pred_xl_label,average='macro')\n",
        "print(\"F1_score of Hate dataset with XLnet is: %.1f%%\" % round(f1_xl_hate*100,1))"
      ],
      "execution_count": 26,
      "outputs": [
        {
          "output_type": "stream",
          "text": [
            "F1_score of Hate dataset with XLnet is: 59.3%\n"
          ],
          "name": "stdout"
        }
      ]
    },
    {
      "cell_type": "code",
      "metadata": {
        "colab": {
          "base_uri": "https://localhost:8080/"
        },
        "id": "ari-sMwRU9pM",
        "outputId": "9d4a0bed-a7cb-4c2a-c793-e93235309183"
      },
      "source": [
        "XLNet_irony = create_model(xlnet_model)"
      ],
      "execution_count": 27,
      "outputs": [
        {
          "output_type": "stream",
          "text": [
            "WARNING:tensorflow:The parameters `output_attentions`, `output_hidden_states` and `use_cache` cannot be updated when calling a model.They have to be set to True/False in the config object (i.e.: `config=XConfig.from_pretrained('name', output_attentions=True)`).\n",
            "WARNING:tensorflow:The parameter `return_dict` cannot be set in graph mode and will always be set to `True`.\n"
          ],
          "name": "stdout"
        }
      ]
    },
    {
      "cell_type": "code",
      "metadata": {
        "colab": {
          "base_uri": "https://localhost:8080/"
        },
        "id": "NX62uykYVBOm",
        "outputId": "274109e7-a7ee-43d3-ec75-88dceb6deb4c"
      },
      "source": [
        "hist_xl_irony = XLNet_irony.fit(x=xl_irony_train_input, y=irony_dict_train.label, epochs=25, batch_size=16, validation_data=(xl_irony_val_input, irony_dict_val.label), callbacks=callbacks)"
      ],
      "execution_count": 28,
      "outputs": [
        {
          "output_type": "stream",
          "text": [
            "Epoch 1/25\n",
            "WARNING:tensorflow:The parameters `output_attentions`, `output_hidden_states` and `use_cache` cannot be updated when calling a model.They have to be set to True/False in the config object (i.e.: `config=XConfig.from_pretrained('name', output_attentions=True)`).\n",
            "WARNING:tensorflow:The parameter `return_dict` cannot be set in graph mode and will always be set to `True`.\n",
            "WARNING:tensorflow:Gradients do not exist for variables ['tfxl_net_model/transformer/mask_emb:0', 'tfxl_net_model/transformer/layer_._0/rel_attn/r_s_bias:0', 'tfxl_net_model/transformer/layer_._0/rel_attn/seg_embed:0', 'tfxl_net_model/transformer/layer_._1/rel_attn/r_s_bias:0', 'tfxl_net_model/transformer/layer_._1/rel_attn/seg_embed:0', 'tfxl_net_model/transformer/layer_._2/rel_attn/r_s_bias:0', 'tfxl_net_model/transformer/layer_._2/rel_attn/seg_embed:0', 'tfxl_net_model/transformer/layer_._3/rel_attn/r_s_bias:0', 'tfxl_net_model/transformer/layer_._3/rel_attn/seg_embed:0', 'tfxl_net_model/transformer/layer_._4/rel_attn/r_s_bias:0', 'tfxl_net_model/transformer/layer_._4/rel_attn/seg_embed:0', 'tfxl_net_model/transformer/layer_._5/rel_attn/r_s_bias:0', 'tfxl_net_model/transformer/layer_._5/rel_attn/seg_embed:0', 'tfxl_net_model/transformer/layer_._6/rel_attn/r_s_bias:0', 'tfxl_net_model/transformer/layer_._6/rel_attn/seg_embed:0', 'tfxl_net_model/transformer/layer_._7/rel_attn/r_s_bias:0', 'tfxl_net_model/transformer/layer_._7/rel_attn/seg_embed:0', 'tfxl_net_model/transformer/layer_._8/rel_attn/r_s_bias:0', 'tfxl_net_model/transformer/layer_._8/rel_attn/seg_embed:0', 'tfxl_net_model/transformer/layer_._9/rel_attn/r_s_bias:0', 'tfxl_net_model/transformer/layer_._9/rel_attn/seg_embed:0', 'tfxl_net_model/transformer/layer_._10/rel_attn/r_s_bias:0', 'tfxl_net_model/transformer/layer_._10/rel_attn/seg_embed:0', 'tfxl_net_model/transformer/layer_._11/rel_attn/r_s_bias:0', 'tfxl_net_model/transformer/layer_._11/rel_attn/seg_embed:0'] when minimizing the loss.\n",
            "WARNING:tensorflow:The parameters `output_attentions`, `output_hidden_states` and `use_cache` cannot be updated when calling a model.They have to be set to True/False in the config object (i.e.: `config=XConfig.from_pretrained('name', output_attentions=True)`).\n",
            "WARNING:tensorflow:The parameter `return_dict` cannot be set in graph mode and will always be set to `True`.\n",
            "WARNING:tensorflow:Gradients do not exist for variables ['tfxl_net_model/transformer/mask_emb:0', 'tfxl_net_model/transformer/layer_._0/rel_attn/r_s_bias:0', 'tfxl_net_model/transformer/layer_._0/rel_attn/seg_embed:0', 'tfxl_net_model/transformer/layer_._1/rel_attn/r_s_bias:0', 'tfxl_net_model/transformer/layer_._1/rel_attn/seg_embed:0', 'tfxl_net_model/transformer/layer_._2/rel_attn/r_s_bias:0', 'tfxl_net_model/transformer/layer_._2/rel_attn/seg_embed:0', 'tfxl_net_model/transformer/layer_._3/rel_attn/r_s_bias:0', 'tfxl_net_model/transformer/layer_._3/rel_attn/seg_embed:0', 'tfxl_net_model/transformer/layer_._4/rel_attn/r_s_bias:0', 'tfxl_net_model/transformer/layer_._4/rel_attn/seg_embed:0', 'tfxl_net_model/transformer/layer_._5/rel_attn/r_s_bias:0', 'tfxl_net_model/transformer/layer_._5/rel_attn/seg_embed:0', 'tfxl_net_model/transformer/layer_._6/rel_attn/r_s_bias:0', 'tfxl_net_model/transformer/layer_._6/rel_attn/seg_embed:0', 'tfxl_net_model/transformer/layer_._7/rel_attn/r_s_bias:0', 'tfxl_net_model/transformer/layer_._7/rel_attn/seg_embed:0', 'tfxl_net_model/transformer/layer_._8/rel_attn/r_s_bias:0', 'tfxl_net_model/transformer/layer_._8/rel_attn/seg_embed:0', 'tfxl_net_model/transformer/layer_._9/rel_attn/r_s_bias:0', 'tfxl_net_model/transformer/layer_._9/rel_attn/seg_embed:0', 'tfxl_net_model/transformer/layer_._10/rel_attn/r_s_bias:0', 'tfxl_net_model/transformer/layer_._10/rel_attn/seg_embed:0', 'tfxl_net_model/transformer/layer_._11/rel_attn/r_s_bias:0', 'tfxl_net_model/transformer/layer_._11/rel_attn/seg_embed:0'] when minimizing the loss.\n",
            "178/178 [==============================] - ETA: 0s - loss: 0.7525 - accuracy: 0.5232 - precision_4: 0.5263 - recall_4: 0.5185WARNING:tensorflow:The parameters `output_attentions`, `output_hidden_states` and `use_cache` cannot be updated when calling a model.They have to be set to True/False in the config object (i.e.: `config=XConfig.from_pretrained('name', output_attentions=True)`).\n",
            "WARNING:tensorflow:The parameter `return_dict` cannot be set in graph mode and will always be set to `True`.\n",
            "178/178 [==============================] - 51s 206ms/step - loss: 0.7523 - accuracy: 0.5233 - precision_4: 0.5264 - recall_4: 0.5186 - val_loss: 0.6636 - val_accuracy: 0.6094 - val_precision_4: 0.5838 - val_recall_4: 0.6338\n",
            "Epoch 2/25\n",
            "178/178 [==============================] - 34s 192ms/step - loss: 0.6463 - accuracy: 0.6198 - precision_4: 0.6420 - recall_4: 0.5684 - val_loss: 0.6240 - val_accuracy: 0.6503 - val_precision_4: 0.6121 - val_recall_4: 0.7303\n",
            "Epoch 3/25\n",
            "178/178 [==============================] - 34s 191ms/step - loss: 0.5218 - accuracy: 0.7558 - precision_4: 0.7723 - recall_4: 0.7245 - val_loss: 0.6181 - val_accuracy: 0.6545 - val_precision_4: 0.6189 - val_recall_4: 0.7193\n",
            "Epoch 4/25\n",
            "178/178 [==============================] - 34s 191ms/step - loss: 0.3873 - accuracy: 0.8374 - precision_4: 0.8460 - recall_4: 0.8101 - val_loss: 0.8546 - val_accuracy: 0.6743 - val_precision_4: 0.6507 - val_recall_4: 0.6864\n",
            "Epoch 5/25\n",
            "178/178 [==============================] - 34s 191ms/step - loss: 0.2219 - accuracy: 0.9162 - precision_4: 0.9425 - recall_4: 0.8890 - val_loss: 1.1620 - val_accuracy: 0.6723 - val_precision_4: 0.6416 - val_recall_4: 0.7105\n",
            "Epoch 6/25\n",
            "178/178 [==============================] - 34s 192ms/step - loss: 0.1603 - accuracy: 0.9403 - precision_4: 0.9523 - recall_4: 0.9289 - val_loss: 1.4075 - val_accuracy: 0.6272 - val_precision_4: 0.5859 - val_recall_4: 0.7478\n",
            "Epoch 7/25\n",
            "178/178 [==============================] - 34s 192ms/step - loss: 0.0832 - accuracy: 0.9768 - precision_4: 0.9797 - recall_4: 0.9732 - val_loss: 1.5213 - val_accuracy: 0.6503 - val_precision_4: 0.6066 - val_recall_4: 0.7610\n",
            "Epoch 8/25\n",
            "178/178 [==============================] - 34s 191ms/step - loss: 0.0809 - accuracy: 0.9702 - precision_4: 0.9802 - recall_4: 0.9586 - val_loss: 2.1799 - val_accuracy: 0.6220 - val_precision_4: 0.5732 - val_recall_4: 0.8158\n",
            "Epoch 9/25\n",
            "178/178 [==============================] - 34s 191ms/step - loss: 0.0486 - accuracy: 0.9836 - precision_4: 0.9848 - recall_4: 0.9832 - val_loss: 1.9825 - val_accuracy: 0.6042 - val_precision_4: 0.5552 - val_recall_4: 0.8596\n",
            "Epoch 10/25\n",
            "178/178 [==============================] - 34s 191ms/step - loss: 0.0333 - accuracy: 0.9901 - precision_4: 0.9926 - recall_4: 0.9874 - val_loss: 2.7003 - val_accuracy: 0.6398 - val_precision_4: 0.6041 - val_recall_4: 0.7127\n",
            "Epoch 11/25\n",
            "178/178 [==============================] - 34s 191ms/step - loss: 0.0408 - accuracy: 0.9852 - precision_4: 0.9914 - recall_4: 0.9788 - val_loss: 2.0408 - val_accuracy: 0.6387 - val_precision_4: 0.5986 - val_recall_4: 0.7390\n",
            "Epoch 12/25\n",
            "178/178 [==============================] - 34s 191ms/step - loss: 0.0205 - accuracy: 0.9927 - precision_4: 0.9958 - recall_4: 0.9901 - val_loss: 2.5674 - val_accuracy: 0.6555 - val_precision_4: 0.6178 - val_recall_4: 0.7303\n",
            "Epoch 13/25\n",
            "178/178 [==============================] - 34s 191ms/step - loss: 0.0179 - accuracy: 0.9937 - precision_4: 0.9942 - recall_4: 0.9929 - val_loss: 1.8730 - val_accuracy: 0.6618 - val_precision_4: 0.6194 - val_recall_4: 0.7566\n",
            "Epoch 14/25\n",
            "178/178 [==============================] - 34s 192ms/step - loss: 0.0154 - accuracy: 0.9941 - precision_4: 0.9950 - recall_4: 0.9931 - val_loss: 2.0116 - val_accuracy: 0.6513 - val_precision_4: 0.6104 - val_recall_4: 0.7456\n",
            "Epoch 15/25\n",
            "178/178 [==============================] - 34s 192ms/step - loss: 0.0277 - accuracy: 0.9884 - precision_4: 0.9872 - recall_4: 0.9893 - val_loss: 2.0284 - val_accuracy: 0.6681 - val_precision_4: 0.6271 - val_recall_4: 0.7522\n",
            "Epoch 16/25\n",
            "178/178 [==============================] - 34s 192ms/step - loss: 0.0259 - accuracy: 0.9898 - precision_4: 0.9918 - recall_4: 0.9882 - val_loss: 2.0753 - val_accuracy: 0.6764 - val_precision_4: 0.6427 - val_recall_4: 0.7259\n"
          ],
          "name": "stdout"
        }
      ]
    },
    {
      "cell_type": "code",
      "metadata": {
        "colab": {
          "base_uri": "https://localhost:8080/"
        },
        "id": "HZ5yCM_8VFrn",
        "outputId": "5c551a23-740d-4e7b-e101-ca0b1c9ba8c3"
      },
      "source": [
        "preds_xl_irony = XLNet_irony.predict(xl_irony_test_input, verbose=True)"
      ],
      "execution_count": 29,
      "outputs": [
        {
          "output_type": "stream",
          "text": [
            "WARNING:tensorflow:The parameters `output_attentions`, `output_hidden_states` and `use_cache` cannot be updated when calling a model.They have to be set to True/False in the config object (i.e.: `config=XConfig.from_pretrained('name', output_attentions=True)`).\n",
            "WARNING:tensorflow:The parameter `return_dict` cannot be set in graph mode and will always be set to `True`.\n",
            "25/25 [==============================] - 5s 103ms/step\n"
          ],
          "name": "stdout"
        }
      ]
    },
    {
      "cell_type": "code",
      "metadata": {
        "colab": {
          "base_uri": "https://localhost:8080/",
          "height": 467
        },
        "id": "j08QJgf3VIh_",
        "outputId": "051ed271-bcad-46ce-859e-37a556e1f383"
      },
      "source": [
        "irony_pred_xl_label = [i[0] for i in preds_xl_irony.round().astype(int)]\n",
        "cm = confusion_matrix(irony_dict_test.label,irony_pred_xl_label)\n",
        "plot_confusion_matrix(cm, normalize=False,target_names=['Not_irony', 'Irony'],title=\"XLNet Confusion Matrix for Irony\")"
      ],
      "execution_count": 30,
      "outputs": [
        {
          "output_type": "display_data",
          "data": {
            "image/png": "[encoded data removed]",
            "text/plain": [
              "<Figure size 576x432 with 2 Axes>"
            ]
          },
          "metadata": {
            "tags": [],
            "needs_background": "light"
          }
        }
      ]
    },
    {
      "cell_type": "code",
      "metadata": {
        "id": "EQVmcs2y2PPx",
        "outputId": "aec69cc6-7fbf-49a9-e25b-933d8493a175",
        "colab": {
          "base_uri": "https://localhost:8080/"
        }
      },
      "source": [
        "f1_xl_irony = f1_score(irony_dict_test.label,irony_pred_xl_label,average='macro')\n",
        "print(\"F1_score of irony dataset with DistilBert is: %.1f%%\" % round(f1_xl_irony * 100,1))"
      ],
      "execution_count": 31,
      "outputs": [
        {
          "output_type": "stream",
          "text": [
            "F1_score of irony dataset with DistilBert is: 65.8%\n"
          ],
          "name": "stdout"
        }
      ]
    },
    {
      "cell_type": "code",
      "metadata": {
        "colab": {
          "base_uri": "https://localhost:8080/"
        },
        "id": "CxFjQUmYVaqt",
        "outputId": "6e0669cc-f325-4f1e-8f69-f653e08b6d25"
      },
      "source": [
        "XLNet_offensive = create_model(xlnet_model)"
      ],
      "execution_count": 32,
      "outputs": [
        {
          "output_type": "stream",
          "text": [
            "WARNING:tensorflow:The parameters `output_attentions`, `output_hidden_states` and `use_cache` cannot be updated when calling a model.They have to be set to True/False in the config object (i.e.: `config=XConfig.from_pretrained('name', output_attentions=True)`).\n",
            "WARNING:tensorflow:The parameter `return_dict` cannot be set in graph mode and will always be set to `True`.\n"
          ],
          "name": "stdout"
        }
      ]
    },
    {
      "cell_type": "code",
      "metadata": {
        "colab": {
          "base_uri": "https://localhost:8080/"
        },
        "id": "ThdUia-5VamC",
        "outputId": "795b30fd-8313-43d0-f810-b2aca3cabc83"
      },
      "source": [
        "hist_xl_offensive = XLNet_offensive.fit(x=xl_offensive_train_input, y=offensive_dict_train.label, epochs=25, batch_size=16, validation_data=(xl_offensive_val_input, offensive_dict_val.label), callbacks=callbacks)"
      ],
      "execution_count": 33,
      "outputs": [
        {
          "output_type": "stream",
          "text": [
            "Epoch 1/25\n",
            "WARNING:tensorflow:The parameters `output_attentions`, `output_hidden_states` and `use_cache` cannot be updated when calling a model.They have to be set to True/False in the config object (i.e.: `config=XConfig.from_pretrained('name', output_attentions=True)`).\n",
            "WARNING:tensorflow:The parameter `return_dict` cannot be set in graph mode and will always be set to `True`.\n",
            "WARNING:tensorflow:Gradients do not exist for variables ['tfxl_net_model/transformer/mask_emb:0', 'tfxl_net_model/transformer/layer_._0/rel_attn/r_s_bias:0', 'tfxl_net_model/transformer/layer_._0/rel_attn/seg_embed:0', 'tfxl_net_model/transformer/layer_._1/rel_attn/r_s_bias:0', 'tfxl_net_model/transformer/layer_._1/rel_attn/seg_embed:0', 'tfxl_net_model/transformer/layer_._2/rel_attn/r_s_bias:0', 'tfxl_net_model/transformer/layer_._2/rel_attn/seg_embed:0', 'tfxl_net_model/transformer/layer_._3/rel_attn/r_s_bias:0', 'tfxl_net_model/transformer/layer_._3/rel_attn/seg_embed:0', 'tfxl_net_model/transformer/layer_._4/rel_attn/r_s_bias:0', 'tfxl_net_model/transformer/layer_._4/rel_attn/seg_embed:0', 'tfxl_net_model/transformer/layer_._5/rel_attn/r_s_bias:0', 'tfxl_net_model/transformer/layer_._5/rel_attn/seg_embed:0', 'tfxl_net_model/transformer/layer_._6/rel_attn/r_s_bias:0', 'tfxl_net_model/transformer/layer_._6/rel_attn/seg_embed:0', 'tfxl_net_model/transformer/layer_._7/rel_attn/r_s_bias:0', 'tfxl_net_model/transformer/layer_._7/rel_attn/seg_embed:0', 'tfxl_net_model/transformer/layer_._8/rel_attn/r_s_bias:0', 'tfxl_net_model/transformer/layer_._8/rel_attn/seg_embed:0', 'tfxl_net_model/transformer/layer_._9/rel_attn/r_s_bias:0', 'tfxl_net_model/transformer/layer_._9/rel_attn/seg_embed:0', 'tfxl_net_model/transformer/layer_._10/rel_attn/r_s_bias:0', 'tfxl_net_model/transformer/layer_._10/rel_attn/seg_embed:0', 'tfxl_net_model/transformer/layer_._11/rel_attn/r_s_bias:0', 'tfxl_net_model/transformer/layer_._11/rel_attn/seg_embed:0'] when minimizing the loss.\n",
            "WARNING:tensorflow:The parameters `output_attentions`, `output_hidden_states` and `use_cache` cannot be updated when calling a model.They have to be set to True/False in the config object (i.e.: `config=XConfig.from_pretrained('name', output_attentions=True)`).\n",
            "WARNING:tensorflow:The parameter `return_dict` cannot be set in graph mode and will always be set to `True`.\n",
            "WARNING:tensorflow:Gradients do not exist for variables ['tfxl_net_model/transformer/mask_emb:0', 'tfxl_net_model/transformer/layer_._0/rel_attn/r_s_bias:0', 'tfxl_net_model/transformer/layer_._0/rel_attn/seg_embed:0', 'tfxl_net_model/transformer/layer_._1/rel_attn/r_s_bias:0', 'tfxl_net_model/transformer/layer_._1/rel_attn/seg_embed:0', 'tfxl_net_model/transformer/layer_._2/rel_attn/r_s_bias:0', 'tfxl_net_model/transformer/layer_._2/rel_attn/seg_embed:0', 'tfxl_net_model/transformer/layer_._3/rel_attn/r_s_bias:0', 'tfxl_net_model/transformer/layer_._3/rel_attn/seg_embed:0', 'tfxl_net_model/transformer/layer_._4/rel_attn/r_s_bias:0', 'tfxl_net_model/transformer/layer_._4/rel_attn/seg_embed:0', 'tfxl_net_model/transformer/layer_._5/rel_attn/r_s_bias:0', 'tfxl_net_model/transformer/layer_._5/rel_attn/seg_embed:0', 'tfxl_net_model/transformer/layer_._6/rel_attn/r_s_bias:0', 'tfxl_net_model/transformer/layer_._6/rel_attn/seg_embed:0', 'tfxl_net_model/transformer/layer_._7/rel_attn/r_s_bias:0', 'tfxl_net_model/transformer/layer_._7/rel_attn/seg_embed:0', 'tfxl_net_model/transformer/layer_._8/rel_attn/r_s_bias:0', 'tfxl_net_model/transformer/layer_._8/rel_attn/seg_embed:0', 'tfxl_net_model/transformer/layer_._9/rel_attn/r_s_bias:0', 'tfxl_net_model/transformer/layer_._9/rel_attn/seg_embed:0', 'tfxl_net_model/transformer/layer_._10/rel_attn/r_s_bias:0', 'tfxl_net_model/transformer/layer_._10/rel_attn/seg_embed:0', 'tfxl_net_model/transformer/layer_._11/rel_attn/r_s_bias:0', 'tfxl_net_model/transformer/layer_._11/rel_attn/seg_embed:0'] when minimizing the loss.\n",
            "493/493 [==============================] - ETA: 0s - loss: 0.6767 - accuracy: 0.5987 - precision_5: 0.6086 - recall_5: 0.5961WARNING:tensorflow:The parameters `output_attentions`, `output_hidden_states` and `use_cache` cannot be updated when calling a model.They have to be set to True/False in the config object (i.e.: `config=XConfig.from_pretrained('name', output_attentions=True)`).\n",
            "WARNING:tensorflow:The parameter `return_dict` cannot be set in graph mode and will always be set to `True`.\n",
            "493/493 [==============================] - 107s 187ms/step - loss: 0.6765 - accuracy: 0.5988 - precision_5: 0.6087 - recall_5: 0.5962 - val_loss: 0.5476 - val_accuracy: 0.7500 - val_precision_5: 0.6070 - val_recall_5: 0.7908\n",
            "Epoch 2/25\n",
            "493/493 [==============================] - 90s 182ms/step - loss: 0.4516 - accuracy: 0.7966 - precision_5: 0.8030 - recall_5: 0.7895 - val_loss: 0.5303 - val_accuracy: 0.7651 - val_precision_5: 0.6233 - val_recall_5: 0.8148\n",
            "Epoch 3/25\n",
            "493/493 [==============================] - 90s 182ms/step - loss: 0.3501 - accuracy: 0.8618 - precision_5: 0.8660 - recall_5: 0.8546 - val_loss: 0.6400 - val_accuracy: 0.7394 - val_precision_5: 0.5880 - val_recall_5: 0.8301\n",
            "Epoch 4/25\n",
            "493/493 [==============================] - 90s 182ms/step - loss: 0.2339 - accuracy: 0.9094 - precision_5: 0.9122 - recall_5: 0.9046 - val_loss: 0.7368 - val_accuracy: 0.7198 - val_precision_5: 0.5655 - val_recall_5: 0.8279\n",
            "Epoch 5/25\n",
            "493/493 [==============================] - 90s 182ms/step - loss: 0.1183 - accuracy: 0.9597 - precision_5: 0.9580 - recall_5: 0.9615 - val_loss: 0.6536 - val_accuracy: 0.7606 - val_precision_5: 0.6365 - val_recall_5: 0.7211\n",
            "Epoch 6/25\n",
            "493/493 [==============================] - 90s 182ms/step - loss: 0.0917 - accuracy: 0.9696 - precision_5: 0.9717 - recall_5: 0.9677 - val_loss: 1.0270 - val_accuracy: 0.7455 - val_precision_5: 0.6109 - val_recall_5: 0.7320\n",
            "Epoch 7/25\n",
            "493/493 [==============================] - 90s 182ms/step - loss: 0.0712 - accuracy: 0.9742 - precision_5: 0.9766 - recall_5: 0.9718 - val_loss: 0.9884 - val_accuracy: 0.7523 - val_precision_5: 0.6234 - val_recall_5: 0.7211\n",
            "Epoch 8/25\n",
            "493/493 [==============================] - 90s 182ms/step - loss: 0.0476 - accuracy: 0.9847 - precision_5: 0.9841 - recall_5: 0.9851 - val_loss: 1.3145 - val_accuracy: 0.7054 - val_precision_5: 0.5488 - val_recall_5: 0.8453\n",
            "Epoch 9/25\n",
            "493/493 [==============================] - 90s 182ms/step - loss: 0.0384 - accuracy: 0.9877 - precision_5: 0.9891 - recall_5: 0.9866 - val_loss: 1.3707 - val_accuracy: 0.7470 - val_precision_5: 0.6080 - val_recall_5: 0.7603\n",
            "Epoch 10/25\n",
            "493/493 [==============================] - 90s 182ms/step - loss: 0.0367 - accuracy: 0.9876 - precision_5: 0.9892 - recall_5: 0.9862 - val_loss: 1.3849 - val_accuracy: 0.7424 - val_precision_5: 0.5997 - val_recall_5: 0.7734\n",
            "Epoch 11/25\n",
            "493/493 [==============================] - 90s 182ms/step - loss: 0.0318 - accuracy: 0.9885 - precision_5: 0.9913 - recall_5: 0.9857 - val_loss: 1.3854 - val_accuracy: 0.7651 - val_precision_5: 0.6529 - val_recall_5: 0.6885\n",
            "Epoch 12/25\n",
            "493/493 [==============================] - 90s 182ms/step - loss: 0.0355 - accuracy: 0.9886 - precision_5: 0.9869 - recall_5: 0.9898 - val_loss: 2.5339 - val_accuracy: 0.7364 - val_precision_5: 0.5893 - val_recall_5: 0.7908\n",
            "Epoch 13/25\n",
            "493/493 [==============================] - 90s 182ms/step - loss: 0.0376 - accuracy: 0.9889 - precision_5: 0.9895 - recall_5: 0.9877 - val_loss: 1.4910 - val_accuracy: 0.7251 - val_precision_5: 0.5746 - val_recall_5: 0.7974\n",
            "Epoch 14/25\n",
            "493/493 [==============================] - 90s 182ms/step - loss: 0.0325 - accuracy: 0.9896 - precision_5: 0.9898 - recall_5: 0.9895 - val_loss: 1.5589 - val_accuracy: 0.7621 - val_precision_5: 0.6374 - val_recall_5: 0.7277\n",
            "Epoch 15/25\n",
            "493/493 [==============================] - 90s 182ms/step - loss: 0.0253 - accuracy: 0.9917 - precision_5: 0.9932 - recall_5: 0.9902 - val_loss: 1.3428 - val_accuracy: 0.7553 - val_precision_5: 0.6186 - val_recall_5: 0.7669\n",
            "Epoch 16/25\n",
            "493/493 [==============================] - 89s 181ms/step - loss: 0.0233 - accuracy: 0.9916 - precision_5: 0.9920 - recall_5: 0.9913 - val_loss: 1.2308 - val_accuracy: 0.7530 - val_precision_5: 0.6241 - val_recall_5: 0.7233\n",
            "Epoch 17/25\n",
            "493/493 [==============================] - 89s 181ms/step - loss: 0.0297 - accuracy: 0.9902 - precision_5: 0.9929 - recall_5: 0.9876 - val_loss: 1.5587 - val_accuracy: 0.7538 - val_precision_5: 0.6169 - val_recall_5: 0.7647\n",
            "Epoch 18/25\n",
            "493/493 [==============================] - 89s 181ms/step - loss: 0.0293 - accuracy: 0.9909 - precision_5: 0.9932 - recall_5: 0.9887 - val_loss: 2.2286 - val_accuracy: 0.7379 - val_precision_5: 0.5969 - val_recall_5: 0.7516\n",
            "Epoch 19/25\n",
            "493/493 [==============================] - 89s 181ms/step - loss: 0.0265 - accuracy: 0.9906 - precision_5: 0.9896 - recall_5: 0.9916 - val_loss: 2.2919 - val_accuracy: 0.7372 - val_precision_5: 0.6045 - val_recall_5: 0.6993\n",
            "Epoch 20/25\n",
            "493/493 [==============================] - 89s 180ms/step - loss: 0.0219 - accuracy: 0.9921 - precision_5: 0.9939 - recall_5: 0.9905 - val_loss: 1.7647 - val_accuracy: 0.7379 - val_precision_5: 0.5921 - val_recall_5: 0.7843\n",
            "Epoch 21/25\n",
            "493/493 [==============================] - 89s 180ms/step - loss: 0.0225 - accuracy: 0.9916 - precision_5: 0.9926 - recall_5: 0.9904 - val_loss: 1.5136 - val_accuracy: 0.7560 - val_precision_5: 0.6241 - val_recall_5: 0.7451\n",
            "Epoch 22/25\n",
            "493/493 [==============================] - 89s 181ms/step - loss: 0.0166 - accuracy: 0.9948 - precision_5: 0.9979 - recall_5: 0.9917 - val_loss: 1.6347 - val_accuracy: 0.7462 - val_precision_5: 0.6120 - val_recall_5: 0.7320\n",
            "Epoch 23/25\n",
            "493/493 [==============================] - 89s 181ms/step - loss: 0.0239 - accuracy: 0.9930 - precision_5: 0.9925 - recall_5: 0.9935 - val_loss: 1.6669 - val_accuracy: 0.7530 - val_precision_5: 0.6158 - val_recall_5: 0.7647\n"
          ],
          "name": "stdout"
        }
      ]
    },
    {
      "cell_type": "code",
      "metadata": {
        "colab": {
          "base_uri": "https://localhost:8080/"
        },
        "id": "chZqFuDKVhxC",
        "outputId": "7896eaab-8088-4390-efce-bf3f12c4407d"
      },
      "source": [
        "preds_xl_offensive = XLNet_offensive.predict(xl_offensive_test_input, verbose=True)"
      ],
      "execution_count": 34,
      "outputs": [
        {
          "output_type": "stream",
          "text": [
            "WARNING:tensorflow:The parameters `output_attentions`, `output_hidden_states` and `use_cache` cannot be updated when calling a model.They have to be set to True/False in the config object (i.e.: `config=XConfig.from_pretrained('name', output_attentions=True)`).\n",
            "WARNING:tensorflow:The parameter `return_dict` cannot be set in graph mode and will always be set to `True`.\n",
            "27/27 [==============================] - 5s 104ms/step\n"
          ],
          "name": "stdout"
        }
      ]
    },
    {
      "cell_type": "code",
      "metadata": {
        "colab": {
          "base_uri": "https://localhost:8080/",
          "height": 467
        },
        "id": "dA_awMECVtVk",
        "outputId": "c7ab6da5-5173-412e-bda6-61ea35a2f6ce"
      },
      "source": [
        "offensive_pred_xl_label = [i[0] for i in preds_xl_offensive.round().astype(int)]\n",
        "cm = confusion_matrix(offensive_dict_test.label,offensive_pred_xl_label)\n",
        "plot_confusion_matrix(cm, normalize=False,target_names=['Not_offensive', 'Offensive'],title=\"XLNet Confusion Matrix for Offensive\")"
      ],
      "execution_count": 35,
      "outputs": [
        {
          "output_type": "display_data",
          "data": {
            "image/png": "[encoded data removed]",
            "text/plain": [
              "<Figure size 576x432 with 2 Axes>"
            ]
          },
          "metadata": {
            "tags": [],
            "needs_background": "light"
          }
        }
      ]
    },
    {
      "cell_type": "code",
      "metadata": {
        "id": "8OzfSO1f2ir1",
        "outputId": "dbe39b6c-f684-43c1-8576-faaba8cd06b3",
        "colab": {
          "base_uri": "https://localhost:8080/"
        }
      },
      "source": [
        "f1_xl_offensive = f1_score(offensive_dict_test.label,offensive_pred_xl_label,average='macro')\n",
        "print(\"F1_score of offensive dataset with XLNet is: %.1f%%\" % round(f1_xl_offensive * 100,1))"
      ],
      "execution_count": 36,
      "outputs": [
        {
          "output_type": "stream",
          "text": [
            "F1_score of offensive dataset with XLNet is: 75.4%\n"
          ],
          "name": "stdout"
        }
      ]
    },
    {
      "cell_type": "markdown",
      "metadata": {
        "id": "LUG2Bn4Eykm_"
      },
      "source": [
        "#Report for comparing the result"
      ]
    },
    {
      "cell_type": "code",
      "metadata": {
        "colab": {
          "base_uri": "https://localhost:8080/",
          "height": 297
        },
        "id": "EIOkwZ1Il15o",
        "outputId": "a17f6dcd-b3d2-4e2f-ef9a-539a7a71ddb7"
      },
      "source": [
        "f1_score_bar(f1_dl_hate,f1_dl_irony,f1_dl_offensive,f1_xl_hate,f1_xl_irony,f1_xl_offensive)    "
      ],
      "execution_count": 37,
      "outputs": [
        {
          "output_type": "display_data",
          "data": {
            "image/png": "[encoded data removed]",
            "text/plain": [
              "<Figure size 432x288 with 1 Axes>"
            ]
          },
          "metadata": {
            "tags": [],
            "needs_background": "light"
          }
        }
      ]
    },
    {
      "cell_type": "code",
      "metadata": {
        "colab": {
          "base_uri": "https://localhost:8080/",
          "height": 361
        },
        "id": "E8syuZOtpKVM",
        "outputId": "31a4655c-b9c8-409c-a022-3375db1a2ddd"
      },
      "source": [
        "auc_plot_metrics(preds_dl_hate, preds_xl_hate, hate_dict_test.label,\n",
        "         preds_dl_irony, preds_xl_irony, irony_dict_test.label,\n",
        "         preds_dl_offensive, preds_xl_offensive, offensive_dict_test.label)"
      ],
      "execution_count": 38,
      "outputs": [
        {
          "output_type": "display_data",
          "data": {
            "image/png": "[encoded data removed]",
            "text/plain": [
              "<Figure size 1296x360 with 3 Axes>"
            ]
          },
          "metadata": {
            "tags": [],
            "needs_background": "light"
          }
        }
      ]
    }
  ]
}