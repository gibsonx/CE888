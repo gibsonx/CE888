{
  "nbformat": 4,
  "nbformat_minor": 0,
  "metadata": {
    "colab": {
      "name": "Assignment_2.ipynb",
      "provenance": [],
      "collapsed_sections": [],
      "toc_visible": true,
      "machine_shape": "hm",
      "include_colab_link": true
    },
    "kernelspec": {
      "name": "python3",
      "display_name": "Python 3"
    },
    "accelerator": "GPU",
    "widgets": {
      "application/vnd.jupyter.widget-state+json": {
        "65858ccae44a4f8e92e0e9155b5e5db3": {
          "model_module": "@jupyter-widgets/controls",
          "model_name": "HBoxModel",
          "state": {
            "_view_name": "HBoxView",
            "_dom_classes": [],
            "_model_name": "HBoxModel",
            "_view_module": "@jupyter-widgets/controls",
            "_model_module_version": "1.5.0",
            "_view_count": null,
            "_view_module_version": "1.5.0",
            "box_style": "",
            "layout": "IPY_MODEL_3c72c839b1804c4fb29c51053005a0be",
            "_model_module": "@jupyter-widgets/controls",
            "children": [
              "IPY_MODEL_b1120ced4146445c84555b73afe74f31",
              "IPY_MODEL_36b79f95a0994cf7b7c9629948e4ed5c"
            ]
          }
        },
        "3c72c839b1804c4fb29c51053005a0be": {
          "model_module": "@jupyter-widgets/base",
          "model_name": "LayoutModel",
          "state": {
            "_view_name": "LayoutView",
            "grid_template_rows": null,
            "right": null,
            "justify_content": null,
            "_view_module": "@jupyter-widgets/base",
            "overflow": null,
            "_model_module_version": "1.2.0",
            "_view_count": null,
            "flex_flow": null,
            "width": null,
            "min_width": null,
            "border": null,
            "align_items": null,
            "bottom": null,
            "_model_module": "@jupyter-widgets/base",
            "top": null,
            "grid_column": null,
            "overflow_y": null,
            "overflow_x": null,
            "grid_auto_flow": null,
            "grid_area": null,
            "grid_template_columns": null,
            "flex": null,
            "_model_name": "LayoutModel",
            "justify_items": null,
            "grid_row": null,
            "max_height": null,
            "align_content": null,
            "visibility": null,
            "align_self": null,
            "height": null,
            "min_height": null,
            "padding": null,
            "grid_auto_rows": null,
            "grid_gap": null,
            "max_width": null,
            "order": null,
            "_view_module_version": "1.2.0",
            "grid_template_areas": null,
            "object_position": null,
            "object_fit": null,
            "grid_auto_columns": null,
            "margin": null,
            "display": null,
            "left": null
          }
        },
        "b1120ced4146445c84555b73afe74f31": {
          "model_module": "@jupyter-widgets/controls",
          "model_name": "FloatProgressModel",
          "state": {
            "_view_name": "ProgressView",
            "style": "IPY_MODEL_dd77ebce535b4df58f0eeee437e04ed7",
            "_dom_classes": [],
            "description": "Downloading: 100%",
            "_model_name": "FloatProgressModel",
            "bar_style": "success",
            "max": 798011,
            "_view_module": "@jupyter-widgets/controls",
            "_model_module_version": "1.5.0",
            "value": 798011,
            "_view_count": null,
            "_view_module_version": "1.5.0",
            "orientation": "horizontal",
            "min": 0,
            "description_tooltip": null,
            "_model_module": "@jupyter-widgets/controls",
            "layout": "IPY_MODEL_49484106c4044aa0b5f4534f378b3311"
          }
        },
        "36b79f95a0994cf7b7c9629948e4ed5c": {
          "model_module": "@jupyter-widgets/controls",
          "model_name": "HTMLModel",
          "state": {
            "_view_name": "HTMLView",
            "style": "IPY_MODEL_5ffb20aee9ca4d3280f59d6460d31d07",
            "_dom_classes": [],
            "description": "",
            "_model_name": "HTMLModel",
            "placeholder": "​",
            "_view_module": "@jupyter-widgets/controls",
            "_model_module_version": "1.5.0",
            "value": " 798k/798k [00:00&lt;00:00, 2.29MB/s]",
            "_view_count": null,
            "_view_module_version": "1.5.0",
            "description_tooltip": null,
            "_model_module": "@jupyter-widgets/controls",
            "layout": "IPY_MODEL_04c33f325e884d199b81b8a1ac77c3ef"
          }
        },
        "dd77ebce535b4df58f0eeee437e04ed7": {
          "model_module": "@jupyter-widgets/controls",
          "model_name": "ProgressStyleModel",
          "state": {
            "_view_name": "StyleView",
            "_model_name": "ProgressStyleModel",
            "description_width": "initial",
            "_view_module": "@jupyter-widgets/base",
            "_model_module_version": "1.5.0",
            "_view_count": null,
            "_view_module_version": "1.2.0",
            "bar_color": null,
            "_model_module": "@jupyter-widgets/controls"
          }
        },
        "49484106c4044aa0b5f4534f378b3311": {
          "model_module": "@jupyter-widgets/base",
          "model_name": "LayoutModel",
          "state": {
            "_view_name": "LayoutView",
            "grid_template_rows": null,
            "right": null,
            "justify_content": null,
            "_view_module": "@jupyter-widgets/base",
            "overflow": null,
            "_model_module_version": "1.2.0",
            "_view_count": null,
            "flex_flow": null,
            "width": null,
            "min_width": null,
            "border": null,
            "align_items": null,
            "bottom": null,
            "_model_module": "@jupyter-widgets/base",
            "top": null,
            "grid_column": null,
            "overflow_y": null,
            "overflow_x": null,
            "grid_auto_flow": null,
            "grid_area": null,
            "grid_template_columns": null,
            "flex": null,
            "_model_name": "LayoutModel",
            "justify_items": null,
            "grid_row": null,
            "max_height": null,
            "align_content": null,
            "visibility": null,
            "align_self": null,
            "height": null,
            "min_height": null,
            "padding": null,
            "grid_auto_rows": null,
            "grid_gap": null,
            "max_width": null,
            "order": null,
            "_view_module_version": "1.2.0",
            "grid_template_areas": null,
            "object_position": null,
            "object_fit": null,
            "grid_auto_columns": null,
            "margin": null,
            "display": null,
            "left": null
          }
        },
        "5ffb20aee9ca4d3280f59d6460d31d07": {
          "model_module": "@jupyter-widgets/controls",
          "model_name": "DescriptionStyleModel",
          "state": {
            "_view_name": "StyleView",
            "_model_name": "DescriptionStyleModel",
            "description_width": "",
            "_view_module": "@jupyter-widgets/base",
            "_model_module_version": "1.5.0",
            "_view_count": null,
            "_view_module_version": "1.2.0",
            "_model_module": "@jupyter-widgets/controls"
          }
        },
        "04c33f325e884d199b81b8a1ac77c3ef": {
          "model_module": "@jupyter-widgets/base",
          "model_name": "LayoutModel",
          "state": {
            "_view_name": "LayoutView",
            "grid_template_rows": null,
            "right": null,
            "justify_content": null,
            "_view_module": "@jupyter-widgets/base",
            "overflow": null,
            "_model_module_version": "1.2.0",
            "_view_count": null,
            "flex_flow": null,
            "width": null,
            "min_width": null,
            "border": null,
            "align_items": null,
            "bottom": null,
            "_model_module": "@jupyter-widgets/base",
            "top": null,
            "grid_column": null,
            "overflow_y": null,
            "overflow_x": null,
            "grid_auto_flow": null,
            "grid_area": null,
            "grid_template_columns": null,
            "flex": null,
            "_model_name": "LayoutModel",
            "justify_items": null,
            "grid_row": null,
            "max_height": null,
            "align_content": null,
            "visibility": null,
            "align_self": null,
            "height": null,
            "min_height": null,
            "padding": null,
            "grid_auto_rows": null,
            "grid_gap": null,
            "max_width": null,
            "order": null,
            "_view_module_version": "1.2.0",
            "grid_template_areas": null,
            "object_position": null,
            "object_fit": null,
            "grid_auto_columns": null,
            "margin": null,
            "display": null,
            "left": null
          }
        },
        "05e76fa0e4e047edb37acba51c9d77f5": {
          "model_module": "@jupyter-widgets/controls",
          "model_name": "HBoxModel",
          "state": {
            "_view_name": "HBoxView",
            "_dom_classes": [],
            "_model_name": "HBoxModel",
            "_view_module": "@jupyter-widgets/controls",
            "_model_module_version": "1.5.0",
            "_view_count": null,
            "_view_module_version": "1.5.0",
            "box_style": "",
            "layout": "IPY_MODEL_8c2e3c3d9b7e45dea209f0acf68c49b5",
            "_model_module": "@jupyter-widgets/controls",
            "children": [
              "IPY_MODEL_95c7e4b599ec463484021d40c1893baa",
              "IPY_MODEL_1395162c9add4a5b8cb1c9dc6256efab"
            ]
          }
        },
        "8c2e3c3d9b7e45dea209f0acf68c49b5": {
          "model_module": "@jupyter-widgets/base",
          "model_name": "LayoutModel",
          "state": {
            "_view_name": "LayoutView",
            "grid_template_rows": null,
            "right": null,
            "justify_content": null,
            "_view_module": "@jupyter-widgets/base",
            "overflow": null,
            "_model_module_version": "1.2.0",
            "_view_count": null,
            "flex_flow": null,
            "width": null,
            "min_width": null,
            "border": null,
            "align_items": null,
            "bottom": null,
            "_model_module": "@jupyter-widgets/base",
            "top": null,
            "grid_column": null,
            "overflow_y": null,
            "overflow_x": null,
            "grid_auto_flow": null,
            "grid_area": null,
            "grid_template_columns": null,
            "flex": null,
            "_model_name": "LayoutModel",
            "justify_items": null,
            "grid_row": null,
            "max_height": null,
            "align_content": null,
            "visibility": null,
            "align_self": null,
            "height": null,
            "min_height": null,
            "padding": null,
            "grid_auto_rows": null,
            "grid_gap": null,
            "max_width": null,
            "order": null,
            "_view_module_version": "1.2.0",
            "grid_template_areas": null,
            "object_position": null,
            "object_fit": null,
            "grid_auto_columns": null,
            "margin": null,
            "display": null,
            "left": null
          }
        },
        "95c7e4b599ec463484021d40c1893baa": {
          "model_module": "@jupyter-widgets/controls",
          "model_name": "FloatProgressModel",
          "state": {
            "_view_name": "ProgressView",
            "style": "IPY_MODEL_ed37a6ac3dae4cbea9f7df7df8f6ce51",
            "_dom_classes": [],
            "description": "Downloading: 100%",
            "_model_name": "FloatProgressModel",
            "bar_style": "success",
            "max": 1382015,
            "_view_module": "@jupyter-widgets/controls",
            "_model_module_version": "1.5.0",
            "value": 1382015,
            "_view_count": null,
            "_view_module_version": "1.5.0",
            "orientation": "horizontal",
            "min": 0,
            "description_tooltip": null,
            "_model_module": "@jupyter-widgets/controls",
            "layout": "IPY_MODEL_cf1bb8df506644ada109a0db1954785e"
          }
        },
        "1395162c9add4a5b8cb1c9dc6256efab": {
          "model_module": "@jupyter-widgets/controls",
          "model_name": "HTMLModel",
          "state": {
            "_view_name": "HTMLView",
            "style": "IPY_MODEL_840900e8f22a47b2b69e2cab24642b0b",
            "_dom_classes": [],
            "description": "",
            "_model_name": "HTMLModel",
            "placeholder": "​",
            "_view_module": "@jupyter-widgets/controls",
            "_model_module_version": "1.5.0",
            "value": " 1.38M/1.38M [00:15&lt;00:00, 89.0kB/s]",
            "_view_count": null,
            "_view_module_version": "1.5.0",
            "description_tooltip": null,
            "_model_module": "@jupyter-widgets/controls",
            "layout": "IPY_MODEL_19551e3ebf8a4babba168776c3e8edec"
          }
        },
        "ed37a6ac3dae4cbea9f7df7df8f6ce51": {
          "model_module": "@jupyter-widgets/controls",
          "model_name": "ProgressStyleModel",
          "state": {
            "_view_name": "StyleView",
            "_model_name": "ProgressStyleModel",
            "description_width": "initial",
            "_view_module": "@jupyter-widgets/base",
            "_model_module_version": "1.5.0",
            "_view_count": null,
            "_view_module_version": "1.2.0",
            "bar_color": null,
            "_model_module": "@jupyter-widgets/controls"
          }
        },
        "cf1bb8df506644ada109a0db1954785e": {
          "model_module": "@jupyter-widgets/base",
          "model_name": "LayoutModel",
          "state": {
            "_view_name": "LayoutView",
            "grid_template_rows": null,
            "right": null,
            "justify_content": null,
            "_view_module": "@jupyter-widgets/base",
            "overflow": null,
            "_model_module_version": "1.2.0",
            "_view_count": null,
            "flex_flow": null,
            "width": null,
            "min_width": null,
            "border": null,
            "align_items": null,
            "bottom": null,
            "_model_module": "@jupyter-widgets/base",
            "top": null,
            "grid_column": null,
            "overflow_y": null,
            "overflow_x": null,
            "grid_auto_flow": null,
            "grid_area": null,
            "grid_template_columns": null,
            "flex": null,
            "_model_name": "LayoutModel",
            "justify_items": null,
            "grid_row": null,
            "max_height": null,
            "align_content": null,
            "visibility": null,
            "align_self": null,
            "height": null,
            "min_height": null,
            "padding": null,
            "grid_auto_rows": null,
            "grid_gap": null,
            "max_width": null,
            "order": null,
            "_view_module_version": "1.2.0",
            "grid_template_areas": null,
            "object_position": null,
            "object_fit": null,
            "grid_auto_columns": null,
            "margin": null,
            "display": null,
            "left": null
          }
        },
        "840900e8f22a47b2b69e2cab24642b0b": {
          "model_module": "@jupyter-widgets/controls",
          "model_name": "DescriptionStyleModel",
          "state": {
            "_view_name": "StyleView",
            "_model_name": "DescriptionStyleModel",
            "description_width": "",
            "_view_module": "@jupyter-widgets/base",
            "_model_module_version": "1.5.0",
            "_view_count": null,
            "_view_module_version": "1.2.0",
            "_model_module": "@jupyter-widgets/controls"
          }
        },
        "19551e3ebf8a4babba168776c3e8edec": {
          "model_module": "@jupyter-widgets/base",
          "model_name": "LayoutModel",
          "state": {
            "_view_name": "LayoutView",
            "grid_template_rows": null,
            "right": null,
            "justify_content": null,
            "_view_module": "@jupyter-widgets/base",
            "overflow": null,
            "_model_module_version": "1.2.0",
            "_view_count": null,
            "flex_flow": null,
            "width": null,
            "min_width": null,
            "border": null,
            "align_items": null,
            "bottom": null,
            "_model_module": "@jupyter-widgets/base",
            "top": null,
            "grid_column": null,
            "overflow_y": null,
            "overflow_x": null,
            "grid_auto_flow": null,
            "grid_area": null,
            "grid_template_columns": null,
            "flex": null,
            "_model_name": "LayoutModel",
            "justify_items": null,
            "grid_row": null,
            "max_height": null,
            "align_content": null,
            "visibility": null,
            "align_self": null,
            "height": null,
            "min_height": null,
            "padding": null,
            "grid_auto_rows": null,
            "grid_gap": null,
            "max_width": null,
            "order": null,
            "_view_module_version": "1.2.0",
            "grid_template_areas": null,
            "object_position": null,
            "object_fit": null,
            "grid_auto_columns": null,
            "margin": null,
            "display": null,
            "left": null
          }
        },
        "215cd6a1b6db44349f5dabf16406f155": {
          "model_module": "@jupyter-widgets/controls",
          "model_name": "HBoxModel",
          "state": {
            "_view_name": "HBoxView",
            "_dom_classes": [],
            "_model_name": "HBoxModel",
            "_view_module": "@jupyter-widgets/controls",
            "_model_module_version": "1.5.0",
            "_view_count": null,
            "_view_module_version": "1.5.0",
            "box_style": "",
            "layout": "IPY_MODEL_4f92a889aa104033a0ca3b1dfab05e5c",
            "_model_module": "@jupyter-widgets/controls",
            "children": [
              "IPY_MODEL_5d4851a95b6341eaa0047442aa747645",
              "IPY_MODEL_c6fb9c51b30f49669bb60c550cae0ec4"
            ]
          }
        },
        "4f92a889aa104033a0ca3b1dfab05e5c": {
          "model_module": "@jupyter-widgets/base",
          "model_name": "LayoutModel",
          "state": {
            "_view_name": "LayoutView",
            "grid_template_rows": null,
            "right": null,
            "justify_content": null,
            "_view_module": "@jupyter-widgets/base",
            "overflow": null,
            "_model_module_version": "1.2.0",
            "_view_count": null,
            "flex_flow": null,
            "width": null,
            "min_width": null,
            "border": null,
            "align_items": null,
            "bottom": null,
            "_model_module": "@jupyter-widgets/base",
            "top": null,
            "grid_column": null,
            "overflow_y": null,
            "overflow_x": null,
            "grid_auto_flow": null,
            "grid_area": null,
            "grid_template_columns": null,
            "flex": null,
            "_model_name": "LayoutModel",
            "justify_items": null,
            "grid_row": null,
            "max_height": null,
            "align_content": null,
            "visibility": null,
            "align_self": null,
            "height": null,
            "min_height": null,
            "padding": null,
            "grid_auto_rows": null,
            "grid_gap": null,
            "max_width": null,
            "order": null,
            "_view_module_version": "1.2.0",
            "grid_template_areas": null,
            "object_position": null,
            "object_fit": null,
            "grid_auto_columns": null,
            "margin": null,
            "display": null,
            "left": null
          }
        },
        "5d4851a95b6341eaa0047442aa747645": {
          "model_module": "@jupyter-widgets/controls",
          "model_name": "FloatProgressModel",
          "state": {
            "_view_name": "ProgressView",
            "style": "IPY_MODEL_dc6ad0fee276468cac99b2d6ca34662d",
            "_dom_classes": [],
            "description": "Downloading: 100%",
            "_model_name": "FloatProgressModel",
            "bar_style": "success",
            "max": 760,
            "_view_module": "@jupyter-widgets/controls",
            "_model_module_version": "1.5.0",
            "value": 760,
            "_view_count": null,
            "_view_module_version": "1.5.0",
            "orientation": "horizontal",
            "min": 0,
            "description_tooltip": null,
            "_model_module": "@jupyter-widgets/controls",
            "layout": "IPY_MODEL_b6edcab060594f3aa1c2ae0ae320077f"
          }
        },
        "c6fb9c51b30f49669bb60c550cae0ec4": {
          "model_module": "@jupyter-widgets/controls",
          "model_name": "HTMLModel",
          "state": {
            "_view_name": "HTMLView",
            "style": "IPY_MODEL_b48c5e74cc014640977555b8b02a2a50",
            "_dom_classes": [],
            "description": "",
            "_model_name": "HTMLModel",
            "placeholder": "​",
            "_view_module": "@jupyter-widgets/controls",
            "_model_module_version": "1.5.0",
            "value": " 760/760 [00:00&lt;00:00, 1.13kB/s]",
            "_view_count": null,
            "_view_module_version": "1.5.0",
            "description_tooltip": null,
            "_model_module": "@jupyter-widgets/controls",
            "layout": "IPY_MODEL_b173b7f5069846588b790d1a0b60fd4e"
          }
        },
        "dc6ad0fee276468cac99b2d6ca34662d": {
          "model_module": "@jupyter-widgets/controls",
          "model_name": "ProgressStyleModel",
          "state": {
            "_view_name": "StyleView",
            "_model_name": "ProgressStyleModel",
            "description_width": "initial",
            "_view_module": "@jupyter-widgets/base",
            "_model_module_version": "1.5.0",
            "_view_count": null,
            "_view_module_version": "1.2.0",
            "bar_color": null,
            "_model_module": "@jupyter-widgets/controls"
          }
        },
        "b6edcab060594f3aa1c2ae0ae320077f": {
          "model_module": "@jupyter-widgets/base",
          "model_name": "LayoutModel",
          "state": {
            "_view_name": "LayoutView",
            "grid_template_rows": null,
            "right": null,
            "justify_content": null,
            "_view_module": "@jupyter-widgets/base",
            "overflow": null,
            "_model_module_version": "1.2.0",
            "_view_count": null,
            "flex_flow": null,
            "width": null,
            "min_width": null,
            "border": null,
            "align_items": null,
            "bottom": null,
            "_model_module": "@jupyter-widgets/base",
            "top": null,
            "grid_column": null,
            "overflow_y": null,
            "overflow_x": null,
            "grid_auto_flow": null,
            "grid_area": null,
            "grid_template_columns": null,
            "flex": null,
            "_model_name": "LayoutModel",
            "justify_items": null,
            "grid_row": null,
            "max_height": null,
            "align_content": null,
            "visibility": null,
            "align_self": null,
            "height": null,
            "min_height": null,
            "padding": null,
            "grid_auto_rows": null,
            "grid_gap": null,
            "max_width": null,
            "order": null,
            "_view_module_version": "1.2.0",
            "grid_template_areas": null,
            "object_position": null,
            "object_fit": null,
            "grid_auto_columns": null,
            "margin": null,
            "display": null,
            "left": null
          }
        },
        "b48c5e74cc014640977555b8b02a2a50": {
          "model_module": "@jupyter-widgets/controls",
          "model_name": "DescriptionStyleModel",
          "state": {
            "_view_name": "StyleView",
            "_model_name": "DescriptionStyleModel",
            "description_width": "",
            "_view_module": "@jupyter-widgets/base",
            "_model_module_version": "1.5.0",
            "_view_count": null,
            "_view_module_version": "1.2.0",
            "_model_module": "@jupyter-widgets/controls"
          }
        },
        "b173b7f5069846588b790d1a0b60fd4e": {
          "model_module": "@jupyter-widgets/base",
          "model_name": "LayoutModel",
          "state": {
            "_view_name": "LayoutView",
            "grid_template_rows": null,
            "right": null,
            "justify_content": null,
            "_view_module": "@jupyter-widgets/base",
            "overflow": null,
            "_model_module_version": "1.2.0",
            "_view_count": null,
            "flex_flow": null,
            "width": null,
            "min_width": null,
            "border": null,
            "align_items": null,
            "bottom": null,
            "_model_module": "@jupyter-widgets/base",
            "top": null,
            "grid_column": null,
            "overflow_y": null,
            "overflow_x": null,
            "grid_auto_flow": null,
            "grid_area": null,
            "grid_template_columns": null,
            "flex": null,
            "_model_name": "LayoutModel",
            "justify_items": null,
            "grid_row": null,
            "max_height": null,
            "align_content": null,
            "visibility": null,
            "align_self": null,
            "height": null,
            "min_height": null,
            "padding": null,
            "grid_auto_rows": null,
            "grid_gap": null,
            "max_width": null,
            "order": null,
            "_view_module_version": "1.2.0",
            "grid_template_areas": null,
            "object_position": null,
            "object_fit": null,
            "grid_auto_columns": null,
            "margin": null,
            "display": null,
            "left": null
          }
        },
        "3106aa9139294ddc87390e2dd4c5a64f": {
          "model_module": "@jupyter-widgets/controls",
          "model_name": "HBoxModel",
          "state": {
            "_view_name": "HBoxView",
            "_dom_classes": [],
            "_model_name": "HBoxModel",
            "_view_module": "@jupyter-widgets/controls",
            "_model_module_version": "1.5.0",
            "_view_count": null,
            "_view_module_version": "1.5.0",
            "box_style": "",
            "layout": "IPY_MODEL_13d646255bfe4e04978ebc68ebad2104",
            "_model_module": "@jupyter-widgets/controls",
            "children": [
              "IPY_MODEL_b5731649746e413e93f1a4ea908ed814",
              "IPY_MODEL_46d94d759b374191bc878fb8d86a58d6"
            ]
          }
        },
        "13d646255bfe4e04978ebc68ebad2104": {
          "model_module": "@jupyter-widgets/base",
          "model_name": "LayoutModel",
          "state": {
            "_view_name": "LayoutView",
            "grid_template_rows": null,
            "right": null,
            "justify_content": null,
            "_view_module": "@jupyter-widgets/base",
            "overflow": null,
            "_model_module_version": "1.2.0",
            "_view_count": null,
            "flex_flow": null,
            "width": null,
            "min_width": null,
            "border": null,
            "align_items": null,
            "bottom": null,
            "_model_module": "@jupyter-widgets/base",
            "top": null,
            "grid_column": null,
            "overflow_y": null,
            "overflow_x": null,
            "grid_auto_flow": null,
            "grid_area": null,
            "grid_template_columns": null,
            "flex": null,
            "_model_name": "LayoutModel",
            "justify_items": null,
            "grid_row": null,
            "max_height": null,
            "align_content": null,
            "visibility": null,
            "align_self": null,
            "height": null,
            "min_height": null,
            "padding": null,
            "grid_auto_rows": null,
            "grid_gap": null,
            "max_width": null,
            "order": null,
            "_view_module_version": "1.2.0",
            "grid_template_areas": null,
            "object_position": null,
            "object_fit": null,
            "grid_auto_columns": null,
            "margin": null,
            "display": null,
            "left": null
          }
        },
        "b5731649746e413e93f1a4ea908ed814": {
          "model_module": "@jupyter-widgets/controls",
          "model_name": "FloatProgressModel",
          "state": {
            "_view_name": "ProgressView",
            "style": "IPY_MODEL_8749273e49dd4cbfa7bb83ed6b4e8ac9",
            "_dom_classes": [],
            "description": "Downloading: 100%",
            "_model_name": "FloatProgressModel",
            "bar_style": "success",
            "max": 565485600,
            "_view_module": "@jupyter-widgets/controls",
            "_model_module_version": "1.5.0",
            "value": 565485600,
            "_view_count": null,
            "_view_module_version": "1.5.0",
            "orientation": "horizontal",
            "min": 0,
            "description_tooltip": null,
            "_model_module": "@jupyter-widgets/controls",
            "layout": "IPY_MODEL_80de8b5e61944d10b769aae30217b659"
          }
        },
        "46d94d759b374191bc878fb8d86a58d6": {
          "model_module": "@jupyter-widgets/controls",
          "model_name": "HTMLModel",
          "state": {
            "_view_name": "HTMLView",
            "style": "IPY_MODEL_ef90eed4caec466b95e47b4da3890ab2",
            "_dom_classes": [],
            "description": "",
            "_model_name": "HTMLModel",
            "placeholder": "​",
            "_view_module": "@jupyter-widgets/controls",
            "_model_module_version": "1.5.0",
            "value": " 565M/565M [00:14&lt;00:00, 38.7MB/s]",
            "_view_count": null,
            "_view_module_version": "1.5.0",
            "description_tooltip": null,
            "_model_module": "@jupyter-widgets/controls",
            "layout": "IPY_MODEL_a38b0634998840d08e91802747555594"
          }
        },
        "8749273e49dd4cbfa7bb83ed6b4e8ac9": {
          "model_module": "@jupyter-widgets/controls",
          "model_name": "ProgressStyleModel",
          "state": {
            "_view_name": "StyleView",
            "_model_name": "ProgressStyleModel",
            "description_width": "initial",
            "_view_module": "@jupyter-widgets/base",
            "_model_module_version": "1.5.0",
            "_view_count": null,
            "_view_module_version": "1.2.0",
            "bar_color": null,
            "_model_module": "@jupyter-widgets/controls"
          }
        },
        "80de8b5e61944d10b769aae30217b659": {
          "model_module": "@jupyter-widgets/base",
          "model_name": "LayoutModel",
          "state": {
            "_view_name": "LayoutView",
            "grid_template_rows": null,
            "right": null,
            "justify_content": null,
            "_view_module": "@jupyter-widgets/base",
            "overflow": null,
            "_model_module_version": "1.2.0",
            "_view_count": null,
            "flex_flow": null,
            "width": null,
            "min_width": null,
            "border": null,
            "align_items": null,
            "bottom": null,
            "_model_module": "@jupyter-widgets/base",
            "top": null,
            "grid_column": null,
            "overflow_y": null,
            "overflow_x": null,
            "grid_auto_flow": null,
            "grid_area": null,
            "grid_template_columns": null,
            "flex": null,
            "_model_name": "LayoutModel",
            "justify_items": null,
            "grid_row": null,
            "max_height": null,
            "align_content": null,
            "visibility": null,
            "align_self": null,
            "height": null,
            "min_height": null,
            "padding": null,
            "grid_auto_rows": null,
            "grid_gap": null,
            "max_width": null,
            "order": null,
            "_view_module_version": "1.2.0",
            "grid_template_areas": null,
            "object_position": null,
            "object_fit": null,
            "grid_auto_columns": null,
            "margin": null,
            "display": null,
            "left": null
          }
        },
        "ef90eed4caec466b95e47b4da3890ab2": {
          "model_module": "@jupyter-widgets/controls",
          "model_name": "DescriptionStyleModel",
          "state": {
            "_view_name": "StyleView",
            "_model_name": "DescriptionStyleModel",
            "description_width": "",
            "_view_module": "@jupyter-widgets/base",
            "_model_module_version": "1.5.0",
            "_view_count": null,
            "_view_module_version": "1.2.0",
            "_model_module": "@jupyter-widgets/controls"
          }
        },
        "a38b0634998840d08e91802747555594": {
          "model_module": "@jupyter-widgets/base",
          "model_name": "LayoutModel",
          "state": {
            "_view_name": "LayoutView",
            "grid_template_rows": null,
            "right": null,
            "justify_content": null,
            "_view_module": "@jupyter-widgets/base",
            "overflow": null,
            "_model_module_version": "1.2.0",
            "_view_count": null,
            "flex_flow": null,
            "width": null,
            "min_width": null,
            "border": null,
            "align_items": null,
            "bottom": null,
            "_model_module": "@jupyter-widgets/base",
            "top": null,
            "grid_column": null,
            "overflow_y": null,
            "overflow_x": null,
            "grid_auto_flow": null,
            "grid_area": null,
            "grid_template_columns": null,
            "flex": null,
            "_model_name": "LayoutModel",
            "justify_items": null,
            "grid_row": null,
            "max_height": null,
            "align_content": null,
            "visibility": null,
            "align_self": null,
            "height": null,
            "min_height": null,
            "padding": null,
            "grid_auto_rows": null,
            "grid_gap": null,
            "max_width": null,
            "order": null,
            "_view_module_version": "1.2.0",
            "grid_template_areas": null,
            "object_position": null,
            "object_fit": null,
            "grid_auto_columns": null,
            "margin": null,
            "display": null,
            "left": null
          }
        },
        "6cfa1dce0dd74de5ab7ab43335cdf955": {
          "model_module": "@jupyter-widgets/controls",
          "model_name": "HBoxModel",
          "state": {
            "_view_name": "HBoxView",
            "_dom_classes": [],
            "_model_name": "HBoxModel",
            "_view_module": "@jupyter-widgets/controls",
            "_model_module_version": "1.5.0",
            "_view_count": null,
            "_view_module_version": "1.5.0",
            "box_style": "",
            "layout": "IPY_MODEL_78e1bf4b22a74db18cffe78a270ba7b3",
            "_model_module": "@jupyter-widgets/controls",
            "children": [
              "IPY_MODEL_2d8c36b701a2473bb125cdd6aaab9d37",
              "IPY_MODEL_4d53386c80db4a27afe496ebe1cf314b"
            ]
          }
        },
        "78e1bf4b22a74db18cffe78a270ba7b3": {
          "model_module": "@jupyter-widgets/base",
          "model_name": "LayoutModel",
          "state": {
            "_view_name": "LayoutView",
            "grid_template_rows": null,
            "right": null,
            "justify_content": null,
            "_view_module": "@jupyter-widgets/base",
            "overflow": null,
            "_model_module_version": "1.2.0",
            "_view_count": null,
            "flex_flow": null,
            "width": null,
            "min_width": null,
            "border": null,
            "align_items": null,
            "bottom": null,
            "_model_module": "@jupyter-widgets/base",
            "top": null,
            "grid_column": null,
            "overflow_y": null,
            "overflow_x": null,
            "grid_auto_flow": null,
            "grid_area": null,
            "grid_template_columns": null,
            "flex": null,
            "_model_name": "LayoutModel",
            "justify_items": null,
            "grid_row": null,
            "max_height": null,
            "align_content": null,
            "visibility": null,
            "align_self": null,
            "height": null,
            "min_height": null,
            "padding": null,
            "grid_auto_rows": null,
            "grid_gap": null,
            "max_width": null,
            "order": null,
            "_view_module_version": "1.2.0",
            "grid_template_areas": null,
            "object_position": null,
            "object_fit": null,
            "grid_auto_columns": null,
            "margin": null,
            "display": null,
            "left": null
          }
        },
        "2d8c36b701a2473bb125cdd6aaab9d37": {
          "model_module": "@jupyter-widgets/controls",
          "model_name": "FloatProgressModel",
          "state": {
            "_view_name": "ProgressView",
            "style": "IPY_MODEL_8e8396b221b646c28d52aef50faa2e4b",
            "_dom_classes": [],
            "description": "Downloading: 100%",
            "_model_name": "FloatProgressModel",
            "bar_style": "success",
            "max": 231508,
            "_view_module": "@jupyter-widgets/controls",
            "_model_module_version": "1.5.0",
            "value": 231508,
            "_view_count": null,
            "_view_module_version": "1.5.0",
            "orientation": "horizontal",
            "min": 0,
            "description_tooltip": null,
            "_model_module": "@jupyter-widgets/controls",
            "layout": "IPY_MODEL_c5af87a5e7e94eca974a128a59762d61"
          }
        },
        "4d53386c80db4a27afe496ebe1cf314b": {
          "model_module": "@jupyter-widgets/controls",
          "model_name": "HTMLModel",
          "state": {
            "_view_name": "HTMLView",
            "style": "IPY_MODEL_526ecaa3b2e1474cb2ad1b612c81611d",
            "_dom_classes": [],
            "description": "",
            "_model_name": "HTMLModel",
            "placeholder": "​",
            "_view_module": "@jupyter-widgets/controls",
            "_model_module_version": "1.5.0",
            "value": " 232k/232k [00:00&lt;00:00, 464kB/s]",
            "_view_count": null,
            "_view_module_version": "1.5.0",
            "description_tooltip": null,
            "_model_module": "@jupyter-widgets/controls",
            "layout": "IPY_MODEL_f5440de48e65484e89c90f89254af196"
          }
        },
        "8e8396b221b646c28d52aef50faa2e4b": {
          "model_module": "@jupyter-widgets/controls",
          "model_name": "ProgressStyleModel",
          "state": {
            "_view_name": "StyleView",
            "_model_name": "ProgressStyleModel",
            "description_width": "initial",
            "_view_module": "@jupyter-widgets/base",
            "_model_module_version": "1.5.0",
            "_view_count": null,
            "_view_module_version": "1.2.0",
            "bar_color": null,
            "_model_module": "@jupyter-widgets/controls"
          }
        },
        "c5af87a5e7e94eca974a128a59762d61": {
          "model_module": "@jupyter-widgets/base",
          "model_name": "LayoutModel",
          "state": {
            "_view_name": "LayoutView",
            "grid_template_rows": null,
            "right": null,
            "justify_content": null,
            "_view_module": "@jupyter-widgets/base",
            "overflow": null,
            "_model_module_version": "1.2.0",
            "_view_count": null,
            "flex_flow": null,
            "width": null,
            "min_width": null,
            "border": null,
            "align_items": null,
            "bottom": null,
            "_model_module": "@jupyter-widgets/base",
            "top": null,
            "grid_column": null,
            "overflow_y": null,
            "overflow_x": null,
            "grid_auto_flow": null,
            "grid_area": null,
            "grid_template_columns": null,
            "flex": null,
            "_model_name": "LayoutModel",
            "justify_items": null,
            "grid_row": null,
            "max_height": null,
            "align_content": null,
            "visibility": null,
            "align_self": null,
            "height": null,
            "min_height": null,
            "padding": null,
            "grid_auto_rows": null,
            "grid_gap": null,
            "max_width": null,
            "order": null,
            "_view_module_version": "1.2.0",
            "grid_template_areas": null,
            "object_position": null,
            "object_fit": null,
            "grid_auto_columns": null,
            "margin": null,
            "display": null,
            "left": null
          }
        },
        "526ecaa3b2e1474cb2ad1b612c81611d": {
          "model_module": "@jupyter-widgets/controls",
          "model_name": "DescriptionStyleModel",
          "state": {
            "_view_name": "StyleView",
            "_model_name": "DescriptionStyleModel",
            "description_width": "",
            "_view_module": "@jupyter-widgets/base",
            "_model_module_version": "1.5.0",
            "_view_count": null,
            "_view_module_version": "1.2.0",
            "_model_module": "@jupyter-widgets/controls"
          }
        },
        "f5440de48e65484e89c90f89254af196": {
          "model_module": "@jupyter-widgets/base",
          "model_name": "LayoutModel",
          "state": {
            "_view_name": "LayoutView",
            "grid_template_rows": null,
            "right": null,
            "justify_content": null,
            "_view_module": "@jupyter-widgets/base",
            "overflow": null,
            "_model_module_version": "1.2.0",
            "_view_count": null,
            "flex_flow": null,
            "width": null,
            "min_width": null,
            "border": null,
            "align_items": null,
            "bottom": null,
            "_model_module": "@jupyter-widgets/base",
            "top": null,
            "grid_column": null,
            "overflow_y": null,
            "overflow_x": null,
            "grid_auto_flow": null,
            "grid_area": null,
            "grid_template_columns": null,
            "flex": null,
            "_model_name": "LayoutModel",
            "justify_items": null,
            "grid_row": null,
            "max_height": null,
            "align_content": null,
            "visibility": null,
            "align_self": null,
            "height": null,
            "min_height": null,
            "padding": null,
            "grid_auto_rows": null,
            "grid_gap": null,
            "max_width": null,
            "order": null,
            "_view_module_version": "1.2.0",
            "grid_template_areas": null,
            "object_position": null,
            "object_fit": null,
            "grid_auto_columns": null,
            "margin": null,
            "display": null,
            "left": null
          }
        },
        "6b0d53c636014a27a37dab9a36305f86": {
          "model_module": "@jupyter-widgets/controls",
          "model_name": "HBoxModel",
          "state": {
            "_view_name": "HBoxView",
            "_dom_classes": [],
            "_model_name": "HBoxModel",
            "_view_module": "@jupyter-widgets/controls",
            "_model_module_version": "1.5.0",
            "_view_count": null,
            "_view_module_version": "1.5.0",
            "box_style": "",
            "layout": "IPY_MODEL_3bb552ed5f62483aa0ec76d62728c60b",
            "_model_module": "@jupyter-widgets/controls",
            "children": [
              "IPY_MODEL_9ac3689d8b7040eca4a271c0450b4302",
              "IPY_MODEL_63490de0e17b418e9dede616dc33b350"
            ]
          }
        },
        "3bb552ed5f62483aa0ec76d62728c60b": {
          "model_module": "@jupyter-widgets/base",
          "model_name": "LayoutModel",
          "state": {
            "_view_name": "LayoutView",
            "grid_template_rows": null,
            "right": null,
            "justify_content": null,
            "_view_module": "@jupyter-widgets/base",
            "overflow": null,
            "_model_module_version": "1.2.0",
            "_view_count": null,
            "flex_flow": null,
            "width": null,
            "min_width": null,
            "border": null,
            "align_items": null,
            "bottom": null,
            "_model_module": "@jupyter-widgets/base",
            "top": null,
            "grid_column": null,
            "overflow_y": null,
            "overflow_x": null,
            "grid_auto_flow": null,
            "grid_area": null,
            "grid_template_columns": null,
            "flex": null,
            "_model_name": "LayoutModel",
            "justify_items": null,
            "grid_row": null,
            "max_height": null,
            "align_content": null,
            "visibility": null,
            "align_self": null,
            "height": null,
            "min_height": null,
            "padding": null,
            "grid_auto_rows": null,
            "grid_gap": null,
            "max_width": null,
            "order": null,
            "_view_module_version": "1.2.0",
            "grid_template_areas": null,
            "object_position": null,
            "object_fit": null,
            "grid_auto_columns": null,
            "margin": null,
            "display": null,
            "left": null
          }
        },
        "9ac3689d8b7040eca4a271c0450b4302": {
          "model_module": "@jupyter-widgets/controls",
          "model_name": "FloatProgressModel",
          "state": {
            "_view_name": "ProgressView",
            "style": "IPY_MODEL_2584ed483d804b39b3ecd37dab5cdc29",
            "_dom_classes": [],
            "description": "Downloading: 100%",
            "_model_name": "FloatProgressModel",
            "bar_style": "success",
            "max": 28,
            "_view_module": "@jupyter-widgets/controls",
            "_model_module_version": "1.5.0",
            "value": 28,
            "_view_count": null,
            "_view_module_version": "1.5.0",
            "orientation": "horizontal",
            "min": 0,
            "description_tooltip": null,
            "_model_module": "@jupyter-widgets/controls",
            "layout": "IPY_MODEL_0eb18788bd0e4ff0a1f9d4797ef7ea68"
          }
        },
        "63490de0e17b418e9dede616dc33b350": {
          "model_module": "@jupyter-widgets/controls",
          "model_name": "HTMLModel",
          "state": {
            "_view_name": "HTMLView",
            "style": "IPY_MODEL_35e2bdcd990b44ac884d2a9e2d0d0d14",
            "_dom_classes": [],
            "description": "",
            "_model_name": "HTMLModel",
            "placeholder": "​",
            "_view_module": "@jupyter-widgets/controls",
            "_model_module_version": "1.5.0",
            "value": " 28.0/28.0 [00:00&lt;00:00, 118B/s]",
            "_view_count": null,
            "_view_module_version": "1.5.0",
            "description_tooltip": null,
            "_model_module": "@jupyter-widgets/controls",
            "layout": "IPY_MODEL_f08fbcdcd02249108d53819693466a73"
          }
        },
        "2584ed483d804b39b3ecd37dab5cdc29": {
          "model_module": "@jupyter-widgets/controls",
          "model_name": "ProgressStyleModel",
          "state": {
            "_view_name": "StyleView",
            "_model_name": "ProgressStyleModel",
            "description_width": "initial",
            "_view_module": "@jupyter-widgets/base",
            "_model_module_version": "1.5.0",
            "_view_count": null,
            "_view_module_version": "1.2.0",
            "bar_color": null,
            "_model_module": "@jupyter-widgets/controls"
          }
        },
        "0eb18788bd0e4ff0a1f9d4797ef7ea68": {
          "model_module": "@jupyter-widgets/base",
          "model_name": "LayoutModel",
          "state": {
            "_view_name": "LayoutView",
            "grid_template_rows": null,
            "right": null,
            "justify_content": null,
            "_view_module": "@jupyter-widgets/base",
            "overflow": null,
            "_model_module_version": "1.2.0",
            "_view_count": null,
            "flex_flow": null,
            "width": null,
            "min_width": null,
            "border": null,
            "align_items": null,
            "bottom": null,
            "_model_module": "@jupyter-widgets/base",
            "top": null,
            "grid_column": null,
            "overflow_y": null,
            "overflow_x": null,
            "grid_auto_flow": null,
            "grid_area": null,
            "grid_template_columns": null,
            "flex": null,
            "_model_name": "LayoutModel",
            "justify_items": null,
            "grid_row": null,
            "max_height": null,
            "align_content": null,
            "visibility": null,
            "align_self": null,
            "height": null,
            "min_height": null,
            "padding": null,
            "grid_auto_rows": null,
            "grid_gap": null,
            "max_width": null,
            "order": null,
            "_view_module_version": "1.2.0",
            "grid_template_areas": null,
            "object_position": null,
            "object_fit": null,
            "grid_auto_columns": null,
            "margin": null,
            "display": null,
            "left": null
          }
        },
        "35e2bdcd990b44ac884d2a9e2d0d0d14": {
          "model_module": "@jupyter-widgets/controls",
          "model_name": "DescriptionStyleModel",
          "state": {
            "_view_name": "StyleView",
            "_model_name": "DescriptionStyleModel",
            "description_width": "",
            "_view_module": "@jupyter-widgets/base",
            "_model_module_version": "1.5.0",
            "_view_count": null,
            "_view_module_version": "1.2.0",
            "_model_module": "@jupyter-widgets/controls"
          }
        },
        "f08fbcdcd02249108d53819693466a73": {
          "model_module": "@jupyter-widgets/base",
          "model_name": "LayoutModel",
          "state": {
            "_view_name": "LayoutView",
            "grid_template_rows": null,
            "right": null,
            "justify_content": null,
            "_view_module": "@jupyter-widgets/base",
            "overflow": null,
            "_model_module_version": "1.2.0",
            "_view_count": null,
            "flex_flow": null,
            "width": null,
            "min_width": null,
            "border": null,
            "align_items": null,
            "bottom": null,
            "_model_module": "@jupyter-widgets/base",
            "top": null,
            "grid_column": null,
            "overflow_y": null,
            "overflow_x": null,
            "grid_auto_flow": null,
            "grid_area": null,
            "grid_template_columns": null,
            "flex": null,
            "_model_name": "LayoutModel",
            "justify_items": null,
            "grid_row": null,
            "max_height": null,
            "align_content": null,
            "visibility": null,
            "align_self": null,
            "height": null,
            "min_height": null,
            "padding": null,
            "grid_auto_rows": null,
            "grid_gap": null,
            "max_width": null,
            "order": null,
            "_view_module_version": "1.2.0",
            "grid_template_areas": null,
            "object_position": null,
            "object_fit": null,
            "grid_auto_columns": null,
            "margin": null,
            "display": null,
            "left": null
          }
        },
        "41483e602bb9455ea110d8fd69e74e8a": {
          "model_module": "@jupyter-widgets/controls",
          "model_name": "HBoxModel",
          "state": {
            "_view_name": "HBoxView",
            "_dom_classes": [],
            "_model_name": "HBoxModel",
            "_view_module": "@jupyter-widgets/controls",
            "_model_module_version": "1.5.0",
            "_view_count": null,
            "_view_module_version": "1.5.0",
            "box_style": "",
            "layout": "IPY_MODEL_74e9ceeaeef0408cb39ef32b9f88502b",
            "_model_module": "@jupyter-widgets/controls",
            "children": [
              "IPY_MODEL_1586d96897d64801abbf063530b0abeb",
              "IPY_MODEL_66e35c91e4fa48819f7d38c080678559"
            ]
          }
        },
        "74e9ceeaeef0408cb39ef32b9f88502b": {
          "model_module": "@jupyter-widgets/base",
          "model_name": "LayoutModel",
          "state": {
            "_view_name": "LayoutView",
            "grid_template_rows": null,
            "right": null,
            "justify_content": null,
            "_view_module": "@jupyter-widgets/base",
            "overflow": null,
            "_model_module_version": "1.2.0",
            "_view_count": null,
            "flex_flow": null,
            "width": null,
            "min_width": null,
            "border": null,
            "align_items": null,
            "bottom": null,
            "_model_module": "@jupyter-widgets/base",
            "top": null,
            "grid_column": null,
            "overflow_y": null,
            "overflow_x": null,
            "grid_auto_flow": null,
            "grid_area": null,
            "grid_template_columns": null,
            "flex": null,
            "_model_name": "LayoutModel",
            "justify_items": null,
            "grid_row": null,
            "max_height": null,
            "align_content": null,
            "visibility": null,
            "align_self": null,
            "height": null,
            "min_height": null,
            "padding": null,
            "grid_auto_rows": null,
            "grid_gap": null,
            "max_width": null,
            "order": null,
            "_view_module_version": "1.2.0",
            "grid_template_areas": null,
            "object_position": null,
            "object_fit": null,
            "grid_auto_columns": null,
            "margin": null,
            "display": null,
            "left": null
          }
        },
        "1586d96897d64801abbf063530b0abeb": {
          "model_module": "@jupyter-widgets/controls",
          "model_name": "FloatProgressModel",
          "state": {
            "_view_name": "ProgressView",
            "style": "IPY_MODEL_3ce188f6df0a4e96bd45122516adeb75",
            "_dom_classes": [],
            "description": "Downloading: 100%",
            "_model_name": "FloatProgressModel",
            "bar_style": "success",
            "max": 466062,
            "_view_module": "@jupyter-widgets/controls",
            "_model_module_version": "1.5.0",
            "value": 466062,
            "_view_count": null,
            "_view_module_version": "1.5.0",
            "orientation": "horizontal",
            "min": 0,
            "description_tooltip": null,
            "_model_module": "@jupyter-widgets/controls",
            "layout": "IPY_MODEL_7c8d31d1aac14dfa9ac2e006c71a35ce"
          }
        },
        "66e35c91e4fa48819f7d38c080678559": {
          "model_module": "@jupyter-widgets/controls",
          "model_name": "HTMLModel",
          "state": {
            "_view_name": "HTMLView",
            "style": "IPY_MODEL_5d71d7391eed4e4a9739d1e7e1d2bb83",
            "_dom_classes": [],
            "description": "",
            "_model_name": "HTMLModel",
            "placeholder": "​",
            "_view_module": "@jupyter-widgets/controls",
            "_model_module_version": "1.5.0",
            "value": " 466k/466k [00:00&lt;00:00, 4.73MB/s]",
            "_view_count": null,
            "_view_module_version": "1.5.0",
            "description_tooltip": null,
            "_model_module": "@jupyter-widgets/controls",
            "layout": "IPY_MODEL_d31080fb02b74181a41868985ba2aabd"
          }
        },
        "3ce188f6df0a4e96bd45122516adeb75": {
          "model_module": "@jupyter-widgets/controls",
          "model_name": "ProgressStyleModel",
          "state": {
            "_view_name": "StyleView",
            "_model_name": "ProgressStyleModel",
            "description_width": "initial",
            "_view_module": "@jupyter-widgets/base",
            "_model_module_version": "1.5.0",
            "_view_count": null,
            "_view_module_version": "1.2.0",
            "bar_color": null,
            "_model_module": "@jupyter-widgets/controls"
          }
        },
        "7c8d31d1aac14dfa9ac2e006c71a35ce": {
          "model_module": "@jupyter-widgets/base",
          "model_name": "LayoutModel",
          "state": {
            "_view_name": "LayoutView",
            "grid_template_rows": null,
            "right": null,
            "justify_content": null,
            "_view_module": "@jupyter-widgets/base",
            "overflow": null,
            "_model_module_version": "1.2.0",
            "_view_count": null,
            "flex_flow": null,
            "width": null,
            "min_width": null,
            "border": null,
            "align_items": null,
            "bottom": null,
            "_model_module": "@jupyter-widgets/base",
            "top": null,
            "grid_column": null,
            "overflow_y": null,
            "overflow_x": null,
            "grid_auto_flow": null,
            "grid_area": null,
            "grid_template_columns": null,
            "flex": null,
            "_model_name": "LayoutModel",
            "justify_items": null,
            "grid_row": null,
            "max_height": null,
            "align_content": null,
            "visibility": null,
            "align_self": null,
            "height": null,
            "min_height": null,
            "padding": null,
            "grid_auto_rows": null,
            "grid_gap": null,
            "max_width": null,
            "order": null,
            "_view_module_version": "1.2.0",
            "grid_template_areas": null,
            "object_position": null,
            "object_fit": null,
            "grid_auto_columns": null,
            "margin": null,
            "display": null,
            "left": null
          }
        },
        "5d71d7391eed4e4a9739d1e7e1d2bb83": {
          "model_module": "@jupyter-widgets/controls",
          "model_name": "DescriptionStyleModel",
          "state": {
            "_view_name": "StyleView",
            "_model_name": "DescriptionStyleModel",
            "description_width": "",
            "_view_module": "@jupyter-widgets/base",
            "_model_module_version": "1.5.0",
            "_view_count": null,
            "_view_module_version": "1.2.0",
            "_model_module": "@jupyter-widgets/controls"
          }
        },
        "d31080fb02b74181a41868985ba2aabd": {
          "model_module": "@jupyter-widgets/base",
          "model_name": "LayoutModel",
          "state": {
            "_view_name": "LayoutView",
            "grid_template_rows": null,
            "right": null,
            "justify_content": null,
            "_view_module": "@jupyter-widgets/base",
            "overflow": null,
            "_model_module_version": "1.2.0",
            "_view_count": null,
            "flex_flow": null,
            "width": null,
            "min_width": null,
            "border": null,
            "align_items": null,
            "bottom": null,
            "_model_module": "@jupyter-widgets/base",
            "top": null,
            "grid_column": null,
            "overflow_y": null,
            "overflow_x": null,
            "grid_auto_flow": null,
            "grid_area": null,
            "grid_template_columns": null,
            "flex": null,
            "_model_name": "LayoutModel",
            "justify_items": null,
            "grid_row": null,
            "max_height": null,
            "align_content": null,
            "visibility": null,
            "align_self": null,
            "height": null,
            "min_height": null,
            "padding": null,
            "grid_auto_rows": null,
            "grid_gap": null,
            "max_width": null,
            "order": null,
            "_view_module_version": "1.2.0",
            "grid_template_areas": null,
            "object_position": null,
            "object_fit": null,
            "grid_auto_columns": null,
            "margin": null,
            "display": null,
            "left": null
          }
        },
        "fbb22ccf7c8f491bbb87cd59060459a9": {
          "model_module": "@jupyter-widgets/controls",
          "model_name": "HBoxModel",
          "state": {
            "_view_name": "HBoxView",
            "_dom_classes": [],
            "_model_name": "HBoxModel",
            "_view_module": "@jupyter-widgets/controls",
            "_model_module_version": "1.5.0",
            "_view_count": null,
            "_view_module_version": "1.5.0",
            "box_style": "",
            "layout": "IPY_MODEL_24ebfe5980124bbfa5ee959cb02c1c49",
            "_model_module": "@jupyter-widgets/controls",
            "children": [
              "IPY_MODEL_b49dc8fb4466432e816b8bcaea027f45",
              "IPY_MODEL_e6bb40aa22e84e07bf5786be67c6fb86"
            ]
          }
        },
        "24ebfe5980124bbfa5ee959cb02c1c49": {
          "model_module": "@jupyter-widgets/base",
          "model_name": "LayoutModel",
          "state": {
            "_view_name": "LayoutView",
            "grid_template_rows": null,
            "right": null,
            "justify_content": null,
            "_view_module": "@jupyter-widgets/base",
            "overflow": null,
            "_model_module_version": "1.2.0",
            "_view_count": null,
            "flex_flow": null,
            "width": null,
            "min_width": null,
            "border": null,
            "align_items": null,
            "bottom": null,
            "_model_module": "@jupyter-widgets/base",
            "top": null,
            "grid_column": null,
            "overflow_y": null,
            "overflow_x": null,
            "grid_auto_flow": null,
            "grid_area": null,
            "grid_template_columns": null,
            "flex": null,
            "_model_name": "LayoutModel",
            "justify_items": null,
            "grid_row": null,
            "max_height": null,
            "align_content": null,
            "visibility": null,
            "align_self": null,
            "height": null,
            "min_height": null,
            "padding": null,
            "grid_auto_rows": null,
            "grid_gap": null,
            "max_width": null,
            "order": null,
            "_view_module_version": "1.2.0",
            "grid_template_areas": null,
            "object_position": null,
            "object_fit": null,
            "grid_auto_columns": null,
            "margin": null,
            "display": null,
            "left": null
          }
        },
        "b49dc8fb4466432e816b8bcaea027f45": {
          "model_module": "@jupyter-widgets/controls",
          "model_name": "FloatProgressModel",
          "state": {
            "_view_name": "ProgressView",
            "style": "IPY_MODEL_fd36ed2e8d6747628d59117e43dd46f2",
            "_dom_classes": [],
            "description": "Downloading: 100%",
            "_model_name": "FloatProgressModel",
            "bar_style": "success",
            "max": 442,
            "_view_module": "@jupyter-widgets/controls",
            "_model_module_version": "1.5.0",
            "value": 442,
            "_view_count": null,
            "_view_module_version": "1.5.0",
            "orientation": "horizontal",
            "min": 0,
            "description_tooltip": null,
            "_model_module": "@jupyter-widgets/controls",
            "layout": "IPY_MODEL_de1e2f87e50647298a948042d1b5462a"
          }
        },
        "e6bb40aa22e84e07bf5786be67c6fb86": {
          "model_module": "@jupyter-widgets/controls",
          "model_name": "HTMLModel",
          "state": {
            "_view_name": "HTMLView",
            "style": "IPY_MODEL_934ff9d3635f4b4199f34d4ca68dcc88",
            "_dom_classes": [],
            "description": "",
            "_model_name": "HTMLModel",
            "placeholder": "​",
            "_view_module": "@jupyter-widgets/controls",
            "_model_module_version": "1.5.0",
            "value": " 442/442 [00:06&lt;00:00, 72.8B/s]",
            "_view_count": null,
            "_view_module_version": "1.5.0",
            "description_tooltip": null,
            "_model_module": "@jupyter-widgets/controls",
            "layout": "IPY_MODEL_952f2246c14549668c3a03ed88932823"
          }
        },
        "fd36ed2e8d6747628d59117e43dd46f2": {
          "model_module": "@jupyter-widgets/controls",
          "model_name": "ProgressStyleModel",
          "state": {
            "_view_name": "StyleView",
            "_model_name": "ProgressStyleModel",
            "description_width": "initial",
            "_view_module": "@jupyter-widgets/base",
            "_model_module_version": "1.5.0",
            "_view_count": null,
            "_view_module_version": "1.2.0",
            "bar_color": null,
            "_model_module": "@jupyter-widgets/controls"
          }
        },
        "de1e2f87e50647298a948042d1b5462a": {
          "model_module": "@jupyter-widgets/base",
          "model_name": "LayoutModel",
          "state": {
            "_view_name": "LayoutView",
            "grid_template_rows": null,
            "right": null,
            "justify_content": null,
            "_view_module": "@jupyter-widgets/base",
            "overflow": null,
            "_model_module_version": "1.2.0",
            "_view_count": null,
            "flex_flow": null,
            "width": null,
            "min_width": null,
            "border": null,
            "align_items": null,
            "bottom": null,
            "_model_module": "@jupyter-widgets/base",
            "top": null,
            "grid_column": null,
            "overflow_y": null,
            "overflow_x": null,
            "grid_auto_flow": null,
            "grid_area": null,
            "grid_template_columns": null,
            "flex": null,
            "_model_name": "LayoutModel",
            "justify_items": null,
            "grid_row": null,
            "max_height": null,
            "align_content": null,
            "visibility": null,
            "align_self": null,
            "height": null,
            "min_height": null,
            "padding": null,
            "grid_auto_rows": null,
            "grid_gap": null,
            "max_width": null,
            "order": null,
            "_view_module_version": "1.2.0",
            "grid_template_areas": null,
            "object_position": null,
            "object_fit": null,
            "grid_auto_columns": null,
            "margin": null,
            "display": null,
            "left": null
          }
        },
        "934ff9d3635f4b4199f34d4ca68dcc88": {
          "model_module": "@jupyter-widgets/controls",
          "model_name": "DescriptionStyleModel",
          "state": {
            "_view_name": "StyleView",
            "_model_name": "DescriptionStyleModel",
            "description_width": "",
            "_view_module": "@jupyter-widgets/base",
            "_model_module_version": "1.5.0",
            "_view_count": null,
            "_view_module_version": "1.2.0",
            "_model_module": "@jupyter-widgets/controls"
          }
        },
        "952f2246c14549668c3a03ed88932823": {
          "model_module": "@jupyter-widgets/base",
          "model_name": "LayoutModel",
          "state": {
            "_view_name": "LayoutView",
            "grid_template_rows": null,
            "right": null,
            "justify_content": null,
            "_view_module": "@jupyter-widgets/base",
            "overflow": null,
            "_model_module_version": "1.2.0",
            "_view_count": null,
            "flex_flow": null,
            "width": null,
            "min_width": null,
            "border": null,
            "align_items": null,
            "bottom": null,
            "_model_module": "@jupyter-widgets/base",
            "top": null,
            "grid_column": null,
            "overflow_y": null,
            "overflow_x": null,
            "grid_auto_flow": null,
            "grid_area": null,
            "grid_template_columns": null,
            "flex": null,
            "_model_name": "LayoutModel",
            "justify_items": null,
            "grid_row": null,
            "max_height": null,
            "align_content": null,
            "visibility": null,
            "align_self": null,
            "height": null,
            "min_height": null,
            "padding": null,
            "grid_auto_rows": null,
            "grid_gap": null,
            "max_width": null,
            "order": null,
            "_view_module_version": "1.2.0",
            "grid_template_areas": null,
            "object_position": null,
            "object_fit": null,
            "grid_auto_columns": null,
            "margin": null,
            "display": null,
            "left": null
          }
        },
        "94807f48f2024688aee8dc1cd53564c3": {
          "model_module": "@jupyter-widgets/controls",
          "model_name": "HBoxModel",
          "state": {
            "_view_name": "HBoxView",
            "_dom_classes": [],
            "_model_name": "HBoxModel",
            "_view_module": "@jupyter-widgets/controls",
            "_model_module_version": "1.5.0",
            "_view_count": null,
            "_view_module_version": "1.5.0",
            "box_style": "",
            "layout": "IPY_MODEL_1b756bc988fb44da8a62868c22c0207f",
            "_model_module": "@jupyter-widgets/controls",
            "children": [
              "IPY_MODEL_c890ab63c22342ad9ba3c39750b0369a",
              "IPY_MODEL_fc835b2fc2414f319b2965d8c9f853b7"
            ]
          }
        },
        "1b756bc988fb44da8a62868c22c0207f": {
          "model_module": "@jupyter-widgets/base",
          "model_name": "LayoutModel",
          "state": {
            "_view_name": "LayoutView",
            "grid_template_rows": null,
            "right": null,
            "justify_content": null,
            "_view_module": "@jupyter-widgets/base",
            "overflow": null,
            "_model_module_version": "1.2.0",
            "_view_count": null,
            "flex_flow": null,
            "width": null,
            "min_width": null,
            "border": null,
            "align_items": null,
            "bottom": null,
            "_model_module": "@jupyter-widgets/base",
            "top": null,
            "grid_column": null,
            "overflow_y": null,
            "overflow_x": null,
            "grid_auto_flow": null,
            "grid_area": null,
            "grid_template_columns": null,
            "flex": null,
            "_model_name": "LayoutModel",
            "justify_items": null,
            "grid_row": null,
            "max_height": null,
            "align_content": null,
            "visibility": null,
            "align_self": null,
            "height": null,
            "min_height": null,
            "padding": null,
            "grid_auto_rows": null,
            "grid_gap": null,
            "max_width": null,
            "order": null,
            "_view_module_version": "1.2.0",
            "grid_template_areas": null,
            "object_position": null,
            "object_fit": null,
            "grid_auto_columns": null,
            "margin": null,
            "display": null,
            "left": null
          }
        },
        "c890ab63c22342ad9ba3c39750b0369a": {
          "model_module": "@jupyter-widgets/controls",
          "model_name": "FloatProgressModel",
          "state": {
            "_view_name": "ProgressView",
            "style": "IPY_MODEL_028ae087c2e0409492fd7fef59817b03",
            "_dom_classes": [],
            "description": "Downloading: 100%",
            "_model_name": "FloatProgressModel",
            "bar_style": "success",
            "max": 363423424,
            "_view_module": "@jupyter-widgets/controls",
            "_model_module_version": "1.5.0",
            "value": 363423424,
            "_view_count": null,
            "_view_module_version": "1.5.0",
            "orientation": "horizontal",
            "min": 0,
            "description_tooltip": null,
            "_model_module": "@jupyter-widgets/controls",
            "layout": "IPY_MODEL_ae6d5d7b681b44a588c37a09da5c42e5"
          }
        },
        "fc835b2fc2414f319b2965d8c9f853b7": {
          "model_module": "@jupyter-widgets/controls",
          "model_name": "HTMLModel",
          "state": {
            "_view_name": "HTMLView",
            "style": "IPY_MODEL_f96c6afce5884b2f8f065f1721b940b1",
            "_dom_classes": [],
            "description": "",
            "_model_name": "HTMLModel",
            "placeholder": "​",
            "_view_module": "@jupyter-widgets/controls",
            "_model_module_version": "1.5.0",
            "value": " 363M/363M [00:05&lt;00:00, 62.9MB/s]",
            "_view_count": null,
            "_view_module_version": "1.5.0",
            "description_tooltip": null,
            "_model_module": "@jupyter-widgets/controls",
            "layout": "IPY_MODEL_11c09f2602254a489a7270fbba5bea67"
          }
        },
        "028ae087c2e0409492fd7fef59817b03": {
          "model_module": "@jupyter-widgets/controls",
          "model_name": "ProgressStyleModel",
          "state": {
            "_view_name": "StyleView",
            "_model_name": "ProgressStyleModel",
            "description_width": "initial",
            "_view_module": "@jupyter-widgets/base",
            "_model_module_version": "1.5.0",
            "_view_count": null,
            "_view_module_version": "1.2.0",
            "bar_color": null,
            "_model_module": "@jupyter-widgets/controls"
          }
        },
        "ae6d5d7b681b44a588c37a09da5c42e5": {
          "model_module": "@jupyter-widgets/base",
          "model_name": "LayoutModel",
          "state": {
            "_view_name": "LayoutView",
            "grid_template_rows": null,
            "right": null,
            "justify_content": null,
            "_view_module": "@jupyter-widgets/base",
            "overflow": null,
            "_model_module_version": "1.2.0",
            "_view_count": null,
            "flex_flow": null,
            "width": null,
            "min_width": null,
            "border": null,
            "align_items": null,
            "bottom": null,
            "_model_module": "@jupyter-widgets/base",
            "top": null,
            "grid_column": null,
            "overflow_y": null,
            "overflow_x": null,
            "grid_auto_flow": null,
            "grid_area": null,
            "grid_template_columns": null,
            "flex": null,
            "_model_name": "LayoutModel",
            "justify_items": null,
            "grid_row": null,
            "max_height": null,
            "align_content": null,
            "visibility": null,
            "align_self": null,
            "height": null,
            "min_height": null,
            "padding": null,
            "grid_auto_rows": null,
            "grid_gap": null,
            "max_width": null,
            "order": null,
            "_view_module_version": "1.2.0",
            "grid_template_areas": null,
            "object_position": null,
            "object_fit": null,
            "grid_auto_columns": null,
            "margin": null,
            "display": null,
            "left": null
          }
        },
        "f96c6afce5884b2f8f065f1721b940b1": {
          "model_module": "@jupyter-widgets/controls",
          "model_name": "DescriptionStyleModel",
          "state": {
            "_view_name": "StyleView",
            "_model_name": "DescriptionStyleModel",
            "description_width": "",
            "_view_module": "@jupyter-widgets/base",
            "_model_module_version": "1.5.0",
            "_view_count": null,
            "_view_module_version": "1.2.0",
            "_model_module": "@jupyter-widgets/controls"
          }
        },
        "11c09f2602254a489a7270fbba5bea67": {
          "model_module": "@jupyter-widgets/base",
          "model_name": "LayoutModel",
          "state": {
            "_view_name": "LayoutView",
            "grid_template_rows": null,
            "right": null,
            "justify_content": null,
            "_view_module": "@jupyter-widgets/base",
            "overflow": null,
            "_model_module_version": "1.2.0",
            "_view_count": null,
            "flex_flow": null,
            "width": null,
            "min_width": null,
            "border": null,
            "align_items": null,
            "bottom": null,
            "_model_module": "@jupyter-widgets/base",
            "top": null,
            "grid_column": null,
            "overflow_y": null,
            "overflow_x": null,
            "grid_auto_flow": null,
            "grid_area": null,
            "grid_template_columns": null,
            "flex": null,
            "_model_name": "LayoutModel",
            "justify_items": null,
            "grid_row": null,
            "max_height": null,
            "align_content": null,
            "visibility": null,
            "align_self": null,
            "height": null,
            "min_height": null,
            "padding": null,
            "grid_auto_rows": null,
            "grid_gap": null,
            "max_width": null,
            "order": null,
            "_view_module_version": "1.2.0",
            "grid_template_areas": null,
            "object_position": null,
            "object_fit": null,
            "grid_auto_columns": null,
            "margin": null,
            "display": null,
            "left": null
          }
        }
      }
    }
  },
  "cells": [
    {
      "cell_type": "markdown",
      "metadata": {
        "id": "view-in-github",
        "colab_type": "text"
      },
      "source": [
        "<a href=\"https://colab.research.google.com/github/gibsonx/CE888/blob/master/Assignment/Assignment_2.ipynb\" target=\"_parent\"><img src=\"https://colab.research.google.com/assets/colab-badge.svg\" alt=\"Open In Colab\"/></a>"
      ]
    },
    {
      "cell_type": "code",
      "metadata": {
        "id": "nk0hIUcdXpi2",
        "colab": {
          "base_uri": "https://localhost:8080/"
        },
        "outputId": "b78d04f2-54e6-4647-912a-5f03f20b9da8"
      },
      "source": [
        "!pip install -U tensorflow zhon transformers sentencepiece\n",
        "!git clone https://github.com/cardiffnlp/tweeteval.git\n",
        "!git clone https://github.com/gibsonx/grocery.git"
      ],
      "execution_count": 1,
      "outputs": [
        {
          "output_type": "stream",
          "text": [
            "Requirement already up-to-date: tensorflow in /usr/local/lib/python3.7/dist-packages (2.4.1)\n",
            "Collecting zhon\n",
            "\u001b[?25l  Downloading https://files.pythonhosted.org/packages/9f/b0/c56c6079ad47c35a2341440818b6620de8c46a265ed690a51b1a4e5591bc/zhon-1.1.5.tar.gz (99kB)\n",
            "\u001b[K     |████████████████████████████████| 102kB 4.5MB/s \n",
            "\u001b[?25hCollecting transformers\n",
            "\u001b[?25l  Downloading https://files.pythonhosted.org/packages/d8/b2/57495b5309f09fa501866e225c84532d1fd89536ea62406b2181933fb418/transformers-4.5.1-py3-none-any.whl (2.1MB)\n",
            "\u001b[K     |████████████████████████████████| 2.1MB 7.4MB/s \n",
            "\u001b[?25hCollecting sentencepiece\n",
            "\u001b[?25l  Downloading https://files.pythonhosted.org/packages/f5/99/e0808cb947ba10f575839c43e8fafc9cc44e4a7a2c8f79c60db48220a577/sentencepiece-0.1.95-cp37-cp37m-manylinux2014_x86_64.whl (1.2MB)\n",
            "\u001b[K     |████████████████████████████████| 1.2MB 22.1MB/s \n",
            "\u001b[?25hRequirement already satisfied, skipping upgrade: termcolor~=1.1.0 in /usr/local/lib/python3.7/dist-packages (from tensorflow) (1.1.0)\n",
            "Requirement already satisfied, skipping upgrade: tensorboard~=2.4 in /usr/local/lib/python3.7/dist-packages (from tensorflow) (2.4.1)\n",
            "Requirement already satisfied, skipping upgrade: astunparse~=1.6.3 in /usr/local/lib/python3.7/dist-packages (from tensorflow) (1.6.3)\n",
            "Requirement already satisfied, skipping upgrade: six~=1.15.0 in /usr/local/lib/python3.7/dist-packages (from tensorflow) (1.15.0)\n",
            "Requirement already satisfied, skipping upgrade: grpcio~=1.32.0 in /usr/local/lib/python3.7/dist-packages (from tensorflow) (1.32.0)\n",
            "Requirement already satisfied, skipping upgrade: flatbuffers~=1.12.0 in /usr/local/lib/python3.7/dist-packages (from tensorflow) (1.12)\n",
            "Requirement already satisfied, skipping upgrade: gast==0.3.3 in /usr/local/lib/python3.7/dist-packages (from tensorflow) (0.3.3)\n",
            "Requirement already satisfied, skipping upgrade: numpy~=1.19.2 in /usr/local/lib/python3.7/dist-packages (from tensorflow) (1.19.5)\n",
            "Requirement already satisfied, skipping upgrade: h5py~=2.10.0 in /usr/local/lib/python3.7/dist-packages (from tensorflow) (2.10.0)\n",
            "Requirement already satisfied, skipping upgrade: typing-extensions~=3.7.4 in /usr/local/lib/python3.7/dist-packages (from tensorflow) (3.7.4.3)\n",
            "Requirement already satisfied, skipping upgrade: absl-py~=0.10 in /usr/local/lib/python3.7/dist-packages (from tensorflow) (0.12.0)\n",
            "Requirement already satisfied, skipping upgrade: protobuf>=3.9.2 in /usr/local/lib/python3.7/dist-packages (from tensorflow) (3.12.4)\n",
            "Requirement already satisfied, skipping upgrade: wheel~=0.35 in /usr/local/lib/python3.7/dist-packages (from tensorflow) (0.36.2)\n",
            "Requirement already satisfied, skipping upgrade: wrapt~=1.12.1 in /usr/local/lib/python3.7/dist-packages (from tensorflow) (1.12.1)\n",
            "Requirement already satisfied, skipping upgrade: keras-preprocessing~=1.1.2 in /usr/local/lib/python3.7/dist-packages (from tensorflow) (1.1.2)\n",
            "Requirement already satisfied, skipping upgrade: tensorflow-estimator<2.5.0,>=2.4.0 in /usr/local/lib/python3.7/dist-packages (from tensorflow) (2.4.0)\n",
            "Requirement already satisfied, skipping upgrade: opt-einsum~=3.3.0 in /usr/local/lib/python3.7/dist-packages (from tensorflow) (3.3.0)\n",
            "Requirement already satisfied, skipping upgrade: google-pasta~=0.2 in /usr/local/lib/python3.7/dist-packages (from tensorflow) (0.2.0)\n",
            "Requirement already satisfied, skipping upgrade: filelock in /usr/local/lib/python3.7/dist-packages (from transformers) (3.0.12)\n",
            "Requirement already satisfied, skipping upgrade: tqdm>=4.27 in /usr/local/lib/python3.7/dist-packages (from transformers) (4.41.1)\n",
            "Collecting tokenizers<0.11,>=0.10.1\n",
            "\u001b[?25l  Downloading https://files.pythonhosted.org/packages/ae/04/5b870f26a858552025a62f1649c20d29d2672c02ff3c3fb4c688ca46467a/tokenizers-0.10.2-cp37-cp37m-manylinux2010_x86_64.whl (3.3MB)\n",
            "\u001b[K     |████████████████████████████████| 3.3MB 37.6MB/s \n",
            "\u001b[?25hCollecting sacremoses\n",
            "\u001b[?25l  Downloading https://files.pythonhosted.org/packages/75/ee/67241dc87f266093c533a2d4d3d69438e57d7a90abb216fa076e7d475d4a/sacremoses-0.0.45-py3-none-any.whl (895kB)\n",
            "\u001b[K     |████████████████████████████████| 901kB 55.2MB/s \n",
            "\u001b[?25hRequirement already satisfied, skipping upgrade: requests in /usr/local/lib/python3.7/dist-packages (from transformers) (2.23.0)\n",
            "Requirement already satisfied, skipping upgrade: regex!=2019.12.17 in /usr/local/lib/python3.7/dist-packages (from transformers) (2019.12.20)\n",
            "Requirement already satisfied, skipping upgrade: importlib-metadata; python_version < \"3.8\" in /usr/local/lib/python3.7/dist-packages (from transformers) (3.10.1)\n",
            "Requirement already satisfied, skipping upgrade: packaging in /usr/local/lib/python3.7/dist-packages (from transformers) (20.9)\n",
            "Requirement already satisfied, skipping upgrade: setuptools>=41.0.0 in /usr/local/lib/python3.7/dist-packages (from tensorboard~=2.4->tensorflow) (54.2.0)\n",
            "Requirement already satisfied, skipping upgrade: markdown>=2.6.8 in /usr/local/lib/python3.7/dist-packages (from tensorboard~=2.4->tensorflow) (3.3.4)\n",
            "Requirement already satisfied, skipping upgrade: werkzeug>=0.11.15 in /usr/local/lib/python3.7/dist-packages (from tensorboard~=2.4->tensorflow) (1.0.1)\n",
            "Requirement already satisfied, skipping upgrade: google-auth<2,>=1.6.3 in /usr/local/lib/python3.7/dist-packages (from tensorboard~=2.4->tensorflow) (1.28.1)\n",
            "Requirement already satisfied, skipping upgrade: tensorboard-plugin-wit>=1.6.0 in /usr/local/lib/python3.7/dist-packages (from tensorboard~=2.4->tensorflow) (1.8.0)\n",
            "Requirement already satisfied, skipping upgrade: google-auth-oauthlib<0.5,>=0.4.1 in /usr/local/lib/python3.7/dist-packages (from tensorboard~=2.4->tensorflow) (0.4.4)\n",
            "Requirement already satisfied, skipping upgrade: joblib in /usr/local/lib/python3.7/dist-packages (from sacremoses->transformers) (1.0.1)\n",
            "Requirement already satisfied, skipping upgrade: click in /usr/local/lib/python3.7/dist-packages (from sacremoses->transformers) (7.1.2)\n",
            "Requirement already satisfied, skipping upgrade: urllib3!=1.25.0,!=1.25.1,<1.26,>=1.21.1 in /usr/local/lib/python3.7/dist-packages (from requests->transformers) (1.24.3)\n",
            "Requirement already satisfied, skipping upgrade: idna<3,>=2.5 in /usr/local/lib/python3.7/dist-packages (from requests->transformers) (2.10)\n",
            "Requirement already satisfied, skipping upgrade: certifi>=2017.4.17 in /usr/local/lib/python3.7/dist-packages (from requests->transformers) (2020.12.5)\n",
            "Requirement already satisfied, skipping upgrade: chardet<4,>=3.0.2 in /usr/local/lib/python3.7/dist-packages (from requests->transformers) (3.0.4)\n",
            "Requirement already satisfied, skipping upgrade: zipp>=0.5 in /usr/local/lib/python3.7/dist-packages (from importlib-metadata; python_version < \"3.8\"->transformers) (3.4.1)\n",
            "Requirement already satisfied, skipping upgrade: pyparsing>=2.0.2 in /usr/local/lib/python3.7/dist-packages (from packaging->transformers) (2.4.7)\n",
            "Requirement already satisfied, skipping upgrade: cachetools<5.0,>=2.0.0 in /usr/local/lib/python3.7/dist-packages (from google-auth<2,>=1.6.3->tensorboard~=2.4->tensorflow) (4.2.1)\n",
            "Requirement already satisfied, skipping upgrade: rsa<5,>=3.1.4; python_version >= \"3.6\" in /usr/local/lib/python3.7/dist-packages (from google-auth<2,>=1.6.3->tensorboard~=2.4->tensorflow) (4.7.2)\n",
            "Requirement already satisfied, skipping upgrade: pyasn1-modules>=0.2.1 in /usr/local/lib/python3.7/dist-packages (from google-auth<2,>=1.6.3->tensorboard~=2.4->tensorflow) (0.2.8)\n",
            "Requirement already satisfied, skipping upgrade: requests-oauthlib>=0.7.0 in /usr/local/lib/python3.7/dist-packages (from google-auth-oauthlib<0.5,>=0.4.1->tensorboard~=2.4->tensorflow) (1.3.0)\n",
            "Requirement already satisfied, skipping upgrade: pyasn1>=0.1.3 in /usr/local/lib/python3.7/dist-packages (from rsa<5,>=3.1.4; python_version >= \"3.6\"->google-auth<2,>=1.6.3->tensorboard~=2.4->tensorflow) (0.4.8)\n",
            "Requirement already satisfied, skipping upgrade: oauthlib>=3.0.0 in /usr/local/lib/python3.7/dist-packages (from requests-oauthlib>=0.7.0->google-auth-oauthlib<0.5,>=0.4.1->tensorboard~=2.4->tensorflow) (3.1.0)\n",
            "Building wheels for collected packages: zhon\n",
            "  Building wheel for zhon (setup.py) ... \u001b[?25l\u001b[?25hdone\n",
            "  Created wheel for zhon: filename=zhon-1.1.5-cp37-none-any.whl size=84291 sha256=dffce0d894d9a3716f4c46fe38c6e59fc235864efbf6a1e0c2af5de81dd4d08e\n",
            "  Stored in directory: /root/.cache/pip/wheels/0e/93/5a/ad2f403c359ba996e33c21bf18611d921413df9740ede2fcf4\n",
            "Successfully built zhon\n",
            "Installing collected packages: zhon, tokenizers, sacremoses, transformers, sentencepiece\n",
            "Successfully installed sacremoses-0.0.45 sentencepiece-0.1.95 tokenizers-0.10.2 transformers-4.5.1 zhon-1.1.5\n",
            "Cloning into 'tweeteval'...\n",
            "remote: Enumerating objects: 341, done.\u001b[K\n",
            "remote: Counting objects: 100% (23/23), done.\u001b[K\n",
            "remote: Compressing objects: 100% (22/22), done.\u001b[K\n",
            "remote: Total 341 (delta 5), reused 10 (delta 1), pack-reused 318\u001b[K\n",
            "Receiving objects: 100% (341/341), 10.78 MiB | 17.55 MiB/s, done.\n",
            "Resolving deltas: 100% (96/96), done.\n",
            "Cloning into 'grocery'...\n",
            "remote: Enumerating objects: 32, done.\u001b[K\n",
            "remote: Counting objects: 100% (32/32), done.\u001b[K\n",
            "remote: Compressing objects: 100% (22/22), done.\u001b[K\n",
            "remote: Total 32 (delta 12), reused 29 (delta 9), pack-reused 0\u001b[K\n",
            "Unpacking objects: 100% (32/32), done.\n"
          ],
          "name": "stdout"
        }
      ]
    },
    {
      "cell_type": "code",
      "metadata": {
        "id": "8WFgb6kZXX8C",
        "colab": {
          "base_uri": "https://localhost:8080/"
        },
        "outputId": "4422f99e-d6a7-4907-f4f5-fa16348b54fd"
      },
      "source": [
        "import re,os,string,sys\n",
        "import pandas as pd\n",
        "import csv\n",
        "from zhon import hanzi\n",
        "import itertools\n",
        "import numpy as np\n",
        "import matplotlib.pyplot as plt\n",
        "import tensorflow as tf\n",
        "from tensorflow.keras import Input, layers, losses, preprocessing, utils\n",
        "from tensorflow.keras.callbacks import ModelCheckpoint\n",
        "from tensorflow.keras.models import Model\n",
        "from tensorflow.keras.optimizers import Adam\n",
        "from keras.layers.core import Dense\n",
        "from sklearn.metrics import accuracy_score,confusion_matrix,f1_score\n",
        "from zhon import hanzi\n",
        "from sklearn.metrics import accuracy_score, roc_auc_score, roc_curve\n",
        "\n",
        "sys.path.insert(0, '/content/grocery/')\n",
        "from CE888_Transformer import DataPrep, imbalance_under_sampling , create_model, get_tokenization, warmup\n",
        "from CustomizedPlots import *\n",
        "try:\n",
        "    %tensorflow_version 2.x\n",
        "except Exception:\n",
        "    pass\n",
        "print(\"Num GPUs Available: \", len(tf.config.list_physical_devices('GPU')))"
      ],
      "execution_count": 2,
      "outputs": [
        {
          "output_type": "stream",
          "text": [
            "Num GPUs Available:  1\n"
          ],
          "name": "stdout"
        }
      ]
    },
    {
      "cell_type": "markdown",
      "metadata": {
        "id": "1s7tr1fdFsKT"
      },
      "source": [
        "#Data nominalization for training , validation and test datasets (Hate, Irony and Offensive)"
      ]
    },
    {
      "cell_type": "code",
      "metadata": {
        "id": "hcveRCcrB1Kh"
      },
      "source": [
        "#Define the root folder where we put the datasets\n",
        "base_dir = '/content/tweeteval/datasets/'\n",
        "\n",
        "#Create hate dataframe\n",
        "hate = DataPrep(base_dir, 'hate') \n",
        "hate_dict_train, hate_dict_val, hate_dict_test = hate.dataframe()\n",
        "df_hate = hate.dataframe_merge()\n",
        "not_hate, hate = hate.binary_split()\n",
        "\n",
        "#Create irony dataframe\n",
        "irony = DataPrep(base_dir, 'irony') \n",
        "irony_dict_train, irony_dict_val, irony_dict_test = irony.dataframe()\n",
        "df_irony = irony.dataframe_merge()\n",
        "not_irony, irony = irony.binary_split()\n",
        "\n",
        "#Create offensive dataframe\n",
        "offensive = DataPrep(base_dir, 'offensive')\n",
        "offensive_dict_train, offensive_dict_val, offensive_dict_test = offensive.dataframe()\n",
        "df_offensive = offensive.dataframe_merge()\n",
        "not_offensive, offensive = offensive.binary_split()"
      ],
      "execution_count": 3,
      "outputs": []
    },
    {
      "cell_type": "code",
      "metadata": {
        "colab": {
          "base_uri": "https://localhost:8080/"
        },
        "id": "Cbnu5FmtMR1J",
        "outputId": "c5377788-7911-4afe-aade-a7485d0ec4fc"
      },
      "source": [
        "hate_dict_train = imbalance_under_sampling(hate_dict_train)\n",
        "irony_dict_train = imbalance_under_sampling(irony_dict_train)\n",
        "offensive_dict_train = imbalance_under_sampling(offensive_dict_train)"
      ],
      "execution_count": 4,
      "outputs": [
        {
          "output_type": "stream",
          "text": [
            "label 1 is more 1    3783\n",
            "0    3783\n",
            "Name: label, dtype: int64\n",
            "label 0 is more 1    1417\n",
            "0    1417\n",
            "Name: label, dtype: int64\n",
            "label 1 is more 1    3941\n",
            "0    3941\n",
            "Name: label, dtype: int64\n"
          ],
          "name": "stdout"
        }
      ]
    },
    {
      "cell_type": "markdown",
      "metadata": {
        "id": "m56adpKPv0R0"
      },
      "source": [
        "#Downloading Models and Tokenizations from HuggingFace"
      ]
    },
    {
      "cell_type": "code",
      "metadata": {
        "id": "j_18embbHU9R",
        "colab": {
          "base_uri": "https://localhost:8080/",
          "height": 653,
          "referenced_widgets": [
            "65858ccae44a4f8e92e0e9155b5e5db3",
            "3c72c839b1804c4fb29c51053005a0be",
            "b1120ced4146445c84555b73afe74f31",
            "36b79f95a0994cf7b7c9629948e4ed5c",
            "dd77ebce535b4df58f0eeee437e04ed7",
            "49484106c4044aa0b5f4534f378b3311",
            "5ffb20aee9ca4d3280f59d6460d31d07",
            "04c33f325e884d199b81b8a1ac77c3ef",
            "05e76fa0e4e047edb37acba51c9d77f5",
            "8c2e3c3d9b7e45dea209f0acf68c49b5",
            "95c7e4b599ec463484021d40c1893baa",
            "1395162c9add4a5b8cb1c9dc6256efab",
            "ed37a6ac3dae4cbea9f7df7df8f6ce51",
            "cf1bb8df506644ada109a0db1954785e",
            "840900e8f22a47b2b69e2cab24642b0b",
            "19551e3ebf8a4babba168776c3e8edec",
            "215cd6a1b6db44349f5dabf16406f155",
            "4f92a889aa104033a0ca3b1dfab05e5c",
            "5d4851a95b6341eaa0047442aa747645",
            "c6fb9c51b30f49669bb60c550cae0ec4",
            "dc6ad0fee276468cac99b2d6ca34662d",
            "b6edcab060594f3aa1c2ae0ae320077f",
            "b48c5e74cc014640977555b8b02a2a50",
            "b173b7f5069846588b790d1a0b60fd4e",
            "3106aa9139294ddc87390e2dd4c5a64f",
            "13d646255bfe4e04978ebc68ebad2104",
            "b5731649746e413e93f1a4ea908ed814",
            "46d94d759b374191bc878fb8d86a58d6",
            "8749273e49dd4cbfa7bb83ed6b4e8ac9",
            "80de8b5e61944d10b769aae30217b659",
            "ef90eed4caec466b95e47b4da3890ab2",
            "a38b0634998840d08e91802747555594",
            "6cfa1dce0dd74de5ab7ab43335cdf955",
            "78e1bf4b22a74db18cffe78a270ba7b3",
            "2d8c36b701a2473bb125cdd6aaab9d37",
            "4d53386c80db4a27afe496ebe1cf314b",
            "8e8396b221b646c28d52aef50faa2e4b",
            "c5af87a5e7e94eca974a128a59762d61",
            "526ecaa3b2e1474cb2ad1b612c81611d",
            "f5440de48e65484e89c90f89254af196",
            "6b0d53c636014a27a37dab9a36305f86",
            "3bb552ed5f62483aa0ec76d62728c60b",
            "9ac3689d8b7040eca4a271c0450b4302",
            "63490de0e17b418e9dede616dc33b350",
            "2584ed483d804b39b3ecd37dab5cdc29",
            "0eb18788bd0e4ff0a1f9d4797ef7ea68",
            "35e2bdcd990b44ac884d2a9e2d0d0d14",
            "f08fbcdcd02249108d53819693466a73",
            "41483e602bb9455ea110d8fd69e74e8a",
            "74e9ceeaeef0408cb39ef32b9f88502b",
            "1586d96897d64801abbf063530b0abeb",
            "66e35c91e4fa48819f7d38c080678559",
            "3ce188f6df0a4e96bd45122516adeb75",
            "7c8d31d1aac14dfa9ac2e006c71a35ce",
            "5d71d7391eed4e4a9739d1e7e1d2bb83",
            "d31080fb02b74181a41868985ba2aabd",
            "fbb22ccf7c8f491bbb87cd59060459a9",
            "24ebfe5980124bbfa5ee959cb02c1c49",
            "b49dc8fb4466432e816b8bcaea027f45",
            "e6bb40aa22e84e07bf5786be67c6fb86",
            "fd36ed2e8d6747628d59117e43dd46f2",
            "de1e2f87e50647298a948042d1b5462a",
            "934ff9d3635f4b4199f34d4ca68dcc88",
            "952f2246c14549668c3a03ed88932823",
            "94807f48f2024688aee8dc1cd53564c3",
            "1b756bc988fb44da8a62868c22c0207f",
            "c890ab63c22342ad9ba3c39750b0369a",
            "fc835b2fc2414f319b2965d8c9f853b7",
            "028ae087c2e0409492fd7fef59817b03",
            "ae6d5d7b681b44a588c37a09da5c42e5",
            "f96c6afce5884b2f8f065f1721b940b1",
            "11c09f2602254a489a7270fbba5bea67"
          ]
        },
        "outputId": "d85d4beb-938f-44c0-e690-146d85a853b4"
      },
      "source": [
        "from transformers import TFXLNetModel, XLNetTokenizer, TFDistilBertModel, DistilBertTokenizer\n",
        "\n",
        "xlnet_tokenizer = XLNetTokenizer.from_pretrained('xlnet-base-cased')\n",
        "xlnet_model = TFXLNetModel.from_pretrained('xlnet-base-cased')\n",
        "\n",
        "dbert_tokenizer = DistilBertTokenizer.from_pretrained('distilbert-base-uncased')\n",
        "dbert_model = TFDistilBertModel.from_pretrained('distilbert-base-uncased')\n",
        "\n",
        "for layer in xlnet_model.layers:\n",
        "    layer.trainable = True\n",
        "for layer in dbert_model.layers:\n",
        "    layer.trainable = True"
      ],
      "execution_count": 5,
      "outputs": [
        {
          "output_type": "display_data",
          "data": {
            "application/vnd.jupyter.widget-view+json": {
              "model_id": "65858ccae44a4f8e92e0e9155b5e5db3",
              "version_minor": 0,
              "version_major": 2
            },
            "text/plain": [
              "HBox(children=(FloatProgress(value=0.0, description='Downloading', max=798011.0, style=ProgressStyle(descripti…"
            ]
          },
          "metadata": {
            "tags": []
          }
        },
        {
          "output_type": "stream",
          "text": [
            "\n"
          ],
          "name": "stdout"
        },
        {
          "output_type": "display_data",
          "data": {
            "application/vnd.jupyter.widget-view+json": {
              "model_id": "05e76fa0e4e047edb37acba51c9d77f5",
              "version_minor": 0,
              "version_major": 2
            },
            "text/plain": [
              "HBox(children=(FloatProgress(value=0.0, description='Downloading', max=1382015.0, style=ProgressStyle(descript…"
            ]
          },
          "metadata": {
            "tags": []
          }
        },
        {
          "output_type": "stream",
          "text": [
            "\n"
          ],
          "name": "stdout"
        },
        {
          "output_type": "display_data",
          "data": {
            "application/vnd.jupyter.widget-view+json": {
              "model_id": "215cd6a1b6db44349f5dabf16406f155",
              "version_minor": 0,
              "version_major": 2
            },
            "text/plain": [
              "HBox(children=(FloatProgress(value=0.0, description='Downloading', max=760.0, style=ProgressStyle(description_…"
            ]
          },
          "metadata": {
            "tags": []
          }
        },
        {
          "output_type": "stream",
          "text": [
            "\n"
          ],
          "name": "stdout"
        },
        {
          "output_type": "display_data",
          "data": {
            "application/vnd.jupyter.widget-view+json": {
              "model_id": "3106aa9139294ddc87390e2dd4c5a64f",
              "version_minor": 0,
              "version_major": 2
            },
            "text/plain": [
              "HBox(children=(FloatProgress(value=0.0, description='Downloading', max=565485600.0, style=ProgressStyle(descri…"
            ]
          },
          "metadata": {
            "tags": []
          }
        },
        {
          "output_type": "stream",
          "text": [
            "\n"
          ],
          "name": "stdout"
        },
        {
          "output_type": "stream",
          "text": [
            "Some layers from the model checkpoint at xlnet-base-cased were not used when initializing TFXLNetModel: ['lm_loss']\n",
            "- This IS expected if you are initializing TFXLNetModel from the checkpoint of a model trained on another task or with another architecture (e.g. initializing a BertForSequenceClassification model from a BertForPreTraining model).\n",
            "- This IS NOT expected if you are initializing TFXLNetModel from the checkpoint of a model that you expect to be exactly identical (initializing a BertForSequenceClassification model from a BertForSequenceClassification model).\n",
            "All the layers of TFXLNetModel were initialized from the model checkpoint at xlnet-base-cased.\n",
            "If your task is similar to the task the model of the checkpoint was trained on, you can already use TFXLNetModel for predictions without further training.\n"
          ],
          "name": "stderr"
        },
        {
          "output_type": "display_data",
          "data": {
            "application/vnd.jupyter.widget-view+json": {
              "model_id": "6cfa1dce0dd74de5ab7ab43335cdf955",
              "version_minor": 0,
              "version_major": 2
            },
            "text/plain": [
              "HBox(children=(FloatProgress(value=0.0, description='Downloading', max=231508.0, style=ProgressStyle(descripti…"
            ]
          },
          "metadata": {
            "tags": []
          }
        },
        {
          "output_type": "stream",
          "text": [
            "\n"
          ],
          "name": "stdout"
        },
        {
          "output_type": "display_data",
          "data": {
            "application/vnd.jupyter.widget-view+json": {
              "model_id": "6b0d53c636014a27a37dab9a36305f86",
              "version_minor": 0,
              "version_major": 2
            },
            "text/plain": [
              "HBox(children=(FloatProgress(value=0.0, description='Downloading', max=28.0, style=ProgressStyle(description_w…"
            ]
          },
          "metadata": {
            "tags": []
          }
        },
        {
          "output_type": "stream",
          "text": [
            "\n"
          ],
          "name": "stdout"
        },
        {
          "output_type": "display_data",
          "data": {
            "application/vnd.jupyter.widget-view+json": {
              "model_id": "41483e602bb9455ea110d8fd69e74e8a",
              "version_minor": 0,
              "version_major": 2
            },
            "text/plain": [
              "HBox(children=(FloatProgress(value=0.0, description='Downloading', max=466062.0, style=ProgressStyle(descripti…"
            ]
          },
          "metadata": {
            "tags": []
          }
        },
        {
          "output_type": "stream",
          "text": [
            "\n"
          ],
          "name": "stdout"
        },
        {
          "output_type": "display_data",
          "data": {
            "application/vnd.jupyter.widget-view+json": {
              "model_id": "fbb22ccf7c8f491bbb87cd59060459a9",
              "version_minor": 0,
              "version_major": 2
            },
            "text/plain": [
              "HBox(children=(FloatProgress(value=0.0, description='Downloading', max=442.0, style=ProgressStyle(description_…"
            ]
          },
          "metadata": {
            "tags": []
          }
        },
        {
          "output_type": "stream",
          "text": [
            "\n"
          ],
          "name": "stdout"
        },
        {
          "output_type": "display_data",
          "data": {
            "application/vnd.jupyter.widget-view+json": {
              "model_id": "94807f48f2024688aee8dc1cd53564c3",
              "version_minor": 0,
              "version_major": 2
            },
            "text/plain": [
              "HBox(children=(FloatProgress(value=0.0, description='Downloading', max=363423424.0, style=ProgressStyle(descri…"
            ]
          },
          "metadata": {
            "tags": []
          }
        },
        {
          "output_type": "stream",
          "text": [
            "\n"
          ],
          "name": "stdout"
        },
        {
          "output_type": "stream",
          "text": [
            "Some layers from the model checkpoint at distilbert-base-uncased were not used when initializing TFDistilBertModel: ['vocab_layer_norm', 'vocab_transform', 'vocab_projector', 'activation_13']\n",
            "- This IS expected if you are initializing TFDistilBertModel from the checkpoint of a model trained on another task or with another architecture (e.g. initializing a BertForSequenceClassification model from a BertForPreTraining model).\n",
            "- This IS NOT expected if you are initializing TFDistilBertModel from the checkpoint of a model that you expect to be exactly identical (initializing a BertForSequenceClassification model from a BertForSequenceClassification model).\n",
            "All the layers of TFDistilBertModel were initialized from the model checkpoint at distilbert-base-uncased.\n",
            "If your task is similar to the task the model of the checkpoint was trained on, you can already use TFDistilBertModel for predictions without further training.\n"
          ],
          "name": "stderr"
        }
      ]
    },
    {
      "cell_type": "markdown",
      "metadata": {
        "id": "yV7jZ6-MwFg0"
      },
      "source": [
        "#CallBacks for all attempts of training"
      ]
    },
    {
      "cell_type": "code",
      "metadata": {
        "id": "qzc6sYs2ss8A"
      },
      "source": [
        "callbacks = [\n",
        "    tf.keras.callbacks.EarlyStopping(monitor='loss', patience=4, min_delta=0.001, restore_best_weights=True),\n",
        "    tf.keras.callbacks.LearningRateScheduler(warmup, verbose=0),\n",
        "    tf.keras.callbacks.ReduceLROnPlateau(monitor='val_accuracy', factor=1e-6, patience=2, verbose=0, mode='auto', min_delta=0.001, cooldown=0, min_lr=1e-6)\n",
        "]"
      ],
      "execution_count": 6,
      "outputs": []
    },
    {
      "cell_type": "markdown",
      "metadata": {
        "id": "Rni4kvqHvD3X"
      },
      "source": [
        "#Word Embeddings using XLNet tokenizier, inputs include Tokens and Attention masks"
      ]
    },
    {
      "cell_type": "code",
      "metadata": {
        "id": "4LUW3oWeOYaA",
        "colab": {
          "base_uri": "https://localhost:8080/"
        },
        "outputId": "0ccf2bd0-e5d6-4642-b8c0-278cba41c6c7"
      },
      "source": [
        "#DistilBert\n",
        "dl_hate_train_input = get_tokenization(hate_dict_train['text'], dbert_tokenizer)\n",
        "dl_hate_val_input = get_tokenization(hate_dict_val['text'], dbert_tokenizer)\n",
        "dl_hate_test_input = get_tokenization(hate_dict_test['text'], dbert_tokenizer)\n",
        "\n",
        "dl_irony_train_input = get_tokenization(irony_dict_train['text'], dbert_tokenizer)\n",
        "dl_irony_val_input = get_tokenization(irony_dict_val['text'], dbert_tokenizer)\n",
        "dl_irony_test_input = get_tokenization(irony_dict_test['text'], dbert_tokenizer)\n",
        "\n",
        "dl_offensive_train_input = get_tokenization(offensive_dict_train['text'], xlnet_tokenizer)\n",
        "dl_offensive_val_input = get_tokenization(offensive_dict_val['text'], xlnet_tokenizer)\n",
        "dl_offensive_test_input = get_tokenization(offensive_dict_test['text'], xlnet_tokenizer)\n",
        "\n",
        "#XLNet\n",
        "xl_hate_train_input = get_tokenization(hate_dict_train['text'], xlnet_tokenizer)\n",
        "xl_hate_val_input = get_tokenization(hate_dict_val['text'], xlnet_tokenizer)\n",
        "xl_hate_test_input = get_tokenization(hate_dict_test['text'], xlnet_tokenizer)\n",
        "\n",
        "xl_irony_train_input = get_tokenization(irony_dict_train['text'], xlnet_tokenizer)\n",
        "xl_irony_val_input = get_tokenization(irony_dict_val['text'], xlnet_tokenizer)\n",
        "xl_irony_test_input = get_tokenization(irony_dict_test['text'], xlnet_tokenizer)\n",
        "\n",
        "xl_offensive_train_input = get_tokenization(offensive_dict_train['text'], xlnet_tokenizer)\n",
        "xl_offensive_val_input = get_tokenization(offensive_dict_val['text'], xlnet_tokenizer)\n",
        "xl_offensive_test_input = get_tokenization(offensive_dict_test['text'], xlnet_tokenizer)\n",
        "\n",
        "print(\"The sample of tokenizations is shown below:\")\n",
        "xl_offensive_test_input"
      ],
      "execution_count": 7,
      "outputs": [
        {
          "output_type": "stream",
          "text": [
            "Truncation was not explicitly activated but `max_length` is provided a specific value, please use `truncation=True` to explicitly truncate examples to max length. Defaulting to 'longest_first' truncation strategy. If you encode pairs of sequences (GLUE-style) with the tokenizer you can select this strategy more precisely by providing a specific strategy to `truncation`.\n",
            "/usr/local/lib/python3.7/dist-packages/transformers/tokenization_utils_base.py:2079: FutureWarning: The `pad_to_max_length` argument is deprecated and will be removed in a future version, use `padding=True` or `padding='longest'` to pad to the longest sequence in the batch, or use `padding='max_length'` to pad to a max length. In this case, you can give a specific length with `max_length` (e.g. `max_length=45`) or leave max_length to None to pad to the maximal input size of the model (e.g. 512 for Bert).\n",
            "  FutureWarning,\n",
            "Truncation was not explicitly activated but `max_length` is provided a specific value, please use `truncation=True` to explicitly truncate examples to max length. Defaulting to 'longest_first' truncation strategy. If you encode pairs of sequences (GLUE-style) with the tokenizer you can select this strategy more precisely by providing a specific strategy to `truncation`.\n"
          ],
          "name": "stderr"
        },
        {
          "output_type": "stream",
          "text": [
            "The sample of tokenizations is shown below:\n"
          ],
          "name": "stdout"
        },
        {
          "output_type": "execute_result",
          "data": {
            "text/plain": [
              "(array([[    5,     5,     5, ...,    99,     4,     3],\n",
              "        [    5,     5,     5, ...,   110,     4,     3],\n",
              "        [    5,     5,     5, ...,  5277,     4,     3],\n",
              "        ...,\n",
              "        [    5,     5,     5, ..., 13336,     4,     3],\n",
              "        [    5,     5,     5, ...,  4177,     4,     3],\n",
              "        [    5,     5,     5, ...,  4796,     4,     3]]),\n",
              " array([[0, 0, 0, ..., 1, 1, 1],\n",
              "        [0, 0, 0, ..., 1, 1, 1],\n",
              "        [0, 0, 0, ..., 1, 1, 1],\n",
              "        ...,\n",
              "        [0, 0, 0, ..., 1, 1, 1],\n",
              "        [0, 0, 0, ..., 1, 1, 1],\n",
              "        [0, 0, 0, ..., 1, 1, 1]]))"
            ]
          },
          "metadata": {
            "tags": []
          },
          "execution_count": 7
        }
      ]
    },
    {
      "cell_type": "markdown",
      "metadata": {
        "id": "4uhPp5NPva-C"
      },
      "source": [
        "#Apply DistilBert as the 1st model to predict classifcation.\n"
      ]
    },
    {
      "cell_type": "code",
      "metadata": {
        "id": "_WhwGNpZPVhV"
      },
      "source": [
        "callbacks = [\n",
        "    tf.keras.callbacks.EarlyStopping(monitor='loss', patience=4, min_delta=0.001, restore_best_weights=True),\n",
        "    tf.keras.callbacks.LearningRateScheduler(warmup, verbose=0),\n",
        "    tf.keras.callbacks.ReduceLROnPlateau(monitor='val_accuracy', factor=1e-6, patience=2, verbose=0, mode='auto', min_delta=0.001, cooldown=0, min_lr=1e-6)\n",
        "]"
      ],
      "execution_count": 8,
      "outputs": []
    },
    {
      "cell_type": "code",
      "metadata": {
        "colab": {
          "base_uri": "https://localhost:8080/"
        },
        "id": "WhKOF0i_HdE-",
        "outputId": "b3192f16-cc24-45f1-b5c1-3c6d355c5f85"
      },
      "source": [
        "DistilBert_hate = create_model(dbert_model)\n",
        "DistilBert_hate.summary()"
      ],
      "execution_count": 9,
      "outputs": [
        {
          "output_type": "stream",
          "text": [
            "WARNING:tensorflow:The parameters `output_attentions`, `output_hidden_states` and `use_cache` cannot be updated when calling a model.They have to be set to True/False in the config object (i.e.: `config=XConfig.from_pretrained('name', output_attentions=True)`).\n",
            "WARNING:tensorflow:AutoGraph could not transform <bound method Socket.send of <zmq.sugar.socket.Socket object at 0x7fead9612d70>> and will run it as-is.\n",
            "Please report this to the TensorFlow team. When filing the bug, set the verbosity to 10 (on Linux, `export AUTOGRAPH_VERBOSITY=10`) and attach the full output.\n",
            "Cause: module, class, method, function, traceback, frame, or code object was expected, got cython_function_or_method\n",
            "To silence this warning, decorate the function with @tf.autograph.experimental.do_not_convert\n",
            "WARNING: AutoGraph could not transform <bound method Socket.send of <zmq.sugar.socket.Socket object at 0x7fead9612d70>> and will run it as-is.\n",
            "Please report this to the TensorFlow team. When filing the bug, set the verbosity to 10 (on Linux, `export AUTOGRAPH_VERBOSITY=10`) and attach the full output.\n",
            "Cause: module, class, method, function, traceback, frame, or code object was expected, got cython_function_or_method\n",
            "To silence this warning, decorate the function with @tf.autograph.experimental.do_not_convert\n",
            "WARNING:tensorflow:AutoGraph could not transform <function wrap at 0x7feb04ebec20> and will run it as-is.\n",
            "Cause: while/else statement not yet supported\n",
            "To silence this warning, decorate the function with @tf.autograph.experimental.do_not_convert\n",
            "WARNING: AutoGraph could not transform <function wrap at 0x7feb04ebec20> and will run it as-is.\n",
            "Cause: while/else statement not yet supported\n",
            "To silence this warning, decorate the function with @tf.autograph.experimental.do_not_convertWARNING:tensorflow:The parameter `return_dict` cannot be set in graph mode and will always be set to `True`.\n",
            "\n",
            "Model: \"model\"\n",
            "__________________________________________________________________________________________________\n",
            "Layer (type)                    Output Shape         Param #     Connected to                     \n",
            "==================================================================================================\n",
            "word_ids (InputLayer)           [(None, 120)]        0                                            \n",
            "__________________________________________________________________________________________________\n",
            "word_attention (InputLayer)     [(None, 120)]        0                                            \n",
            "__________________________________________________________________________________________________\n",
            "tf_distil_bert_model (TFDistilB TFBaseModelOutput(la 66362880    word_ids[0][0]                   \n",
            "                                                                 word_attention[0][0]             \n",
            "__________________________________________________________________________________________________\n",
            "tf.__operators__.getitem (Slici (None, 1, 768)       0           tf_distil_bert_model[0][0]       \n",
            "__________________________________________________________________________________________________\n",
            "tf.compat.v1.squeeze (TFOpLambd (None, 768)          0           tf.__operators__.getitem[0][0]   \n",
            "__________________________________________________________________________________________________\n",
            "encoding (Dense)                (None, 32)           24608       tf.compat.v1.squeeze[0][0]       \n",
            "__________________________________________________________________________________________________\n",
            "dropout_56 (Dropout)            (None, 32)           0           encoding[0][0]                   \n",
            "__________________________________________________________________________________________________\n",
            "outputs (Dense)                 (None, 1)            33          dropout_56[0][0]                 \n",
            "==================================================================================================\n",
            "Total params: 66,387,521\n",
            "Trainable params: 66,387,521\n",
            "Non-trainable params: 0\n",
            "__________________________________________________________________________________________________\n"
          ],
          "name": "stdout"
        }
      ]
    },
    {
      "cell_type": "code",
      "metadata": {
        "colab": {
          "base_uri": "https://localhost:8080/"
        },
        "id": "wKcm9zTpPW6k",
        "outputId": "0def652d-0c84-455c-e2db-99c547045c1a"
      },
      "source": [
        "hist_dl_hate = DistilBert_hate.fit(x=dl_hate_train_input, y=hate_dict_train.label, epochs=25, batch_size=16, validation_data=(dl_hate_val_input, hate_dict_val.label), callbacks=callbacks)"
      ],
      "execution_count": 10,
      "outputs": [
        {
          "output_type": "stream",
          "text": [
            "Epoch 1/25\n",
            "WARNING:tensorflow:The parameters `output_attentions`, `output_hidden_states` and `use_cache` cannot be updated when calling a model.They have to be set to True/False in the config object (i.e.: `config=XConfig.from_pretrained('name', output_attentions=True)`).\n",
            "WARNING:tensorflow:The parameter `return_dict` cannot be set in graph mode and will always be set to `True`.\n",
            "WARNING:tensorflow:The parameters `output_attentions`, `output_hidden_states` and `use_cache` cannot be updated when calling a model.They have to be set to True/False in the config object (i.e.: `config=XConfig.from_pretrained('name', output_attentions=True)`).\n",
            "WARNING:tensorflow:The parameter `return_dict` cannot be set in graph mode and will always be set to `True`.\n",
            "473/473 [==============================] - ETA: 0s - loss: 0.6099 - accuracy: 0.6597 - precision: 0.6566 - recall: 0.6945WARNING:tensorflow:The parameters `output_attentions`, `output_hidden_states` and `use_cache` cannot be updated when calling a model.They have to be set to True/False in the config object (i.e.: `config=XConfig.from_pretrained('name', output_attentions=True)`).\n",
            "WARNING:tensorflow:The parameter `return_dict` cannot be set in graph mode and will always be set to `True`.\n",
            "473/473 [==============================] - 70s 133ms/step - loss: 0.6098 - accuracy: 0.6598 - precision: 0.6567 - recall: 0.6946 - val_loss: 0.5496 - val_accuracy: 0.7110 - val_precision: 0.6283 - val_recall: 0.7916\n",
            "Epoch 2/25\n",
            "473/473 [==============================] - 61s 130ms/step - loss: 0.4035 - accuracy: 0.8214 - precision: 0.8176 - recall: 0.8252 - val_loss: 0.5569 - val_accuracy: 0.7170 - val_precision: 0.6379 - val_recall: 0.7799\n",
            "Epoch 3/25\n",
            "473/473 [==============================] - 61s 130ms/step - loss: 0.2468 - accuracy: 0.8979 - precision: 0.8902 - recall: 0.9111 - val_loss: 0.6724 - val_accuracy: 0.7070 - val_precision: 0.6232 - val_recall: 0.7939\n",
            "Epoch 4/25\n",
            "473/473 [==============================] - 61s 130ms/step - loss: 0.1124 - accuracy: 0.9604 - precision: 0.9569 - recall: 0.9642 - val_loss: 0.9131 - val_accuracy: 0.7420 - val_precision: 0.6771 - val_recall: 0.7564\n",
            "Epoch 5/25\n",
            "473/473 [==============================] - 61s 130ms/step - loss: 0.0575 - accuracy: 0.9801 - precision: 0.9795 - recall: 0.9807 - val_loss: 1.1393 - val_accuracy: 0.6970 - val_precision: 0.6026 - val_recall: 0.8525\n",
            "Epoch 6/25\n",
            "473/473 [==============================] - 61s 129ms/step - loss: 0.0459 - accuracy: 0.9848 - precision: 0.9827 - recall: 0.9873 - val_loss: 1.0525 - val_accuracy: 0.7360 - val_precision: 0.6791 - val_recall: 0.7237\n",
            "Epoch 7/25\n",
            "473/473 [==============================] - 61s 129ms/step - loss: 0.0198 - accuracy: 0.9942 - precision: 0.9950 - recall: 0.9935 - val_loss: 1.3870 - val_accuracy: 0.7250 - val_precision: 0.6352 - val_recall: 0.8361\n",
            "Epoch 8/25\n",
            "473/473 [==============================] - 61s 129ms/step - loss: 0.0236 - accuracy: 0.9914 - precision: 0.9913 - recall: 0.9917 - val_loss: 1.4820 - val_accuracy: 0.7260 - val_precision: 0.6509 - val_recall: 0.7728\n",
            "Epoch 9/25\n",
            "473/473 [==============================] - 61s 129ms/step - loss: 0.0198 - accuracy: 0.9919 - precision: 0.9928 - recall: 0.9908 - val_loss: 1.5055 - val_accuracy: 0.7240 - val_precision: 0.6489 - val_recall: 0.7705\n",
            "Epoch 10/25\n",
            "473/473 [==============================] - 61s 129ms/step - loss: 0.0195 - accuracy: 0.9931 - precision: 0.9934 - recall: 0.9930 - val_loss: 1.7013 - val_accuracy: 0.7100 - val_precision: 0.6204 - val_recall: 0.8267\n",
            "Epoch 11/25\n",
            "473/473 [==============================] - 61s 129ms/step - loss: 0.0186 - accuracy: 0.9932 - precision: 0.9936 - recall: 0.9923 - val_loss: 1.4009 - val_accuracy: 0.7250 - val_precision: 0.6538 - val_recall: 0.7564\n",
            "Epoch 12/25\n",
            "473/473 [==============================] - 61s 129ms/step - loss: 0.0140 - accuracy: 0.9946 - precision: 0.9966 - recall: 0.9926 - val_loss: 1.4875 - val_accuracy: 0.7230 - val_precision: 0.6518 - val_recall: 0.7541\n",
            "Epoch 13/25\n",
            "473/473 [==============================] - 61s 129ms/step - loss: 0.0133 - accuracy: 0.9955 - precision: 0.9958 - recall: 0.9953 - val_loss: 1.5722 - val_accuracy: 0.7280 - val_precision: 0.6688 - val_recall: 0.7190\n",
            "Epoch 14/25\n",
            "473/473 [==============================] - 61s 129ms/step - loss: 0.0098 - accuracy: 0.9963 - precision: 0.9965 - recall: 0.9961 - val_loss: 1.6451 - val_accuracy: 0.7110 - val_precision: 0.6380 - val_recall: 0.7471\n",
            "Epoch 15/25\n",
            "473/473 [==============================] - 61s 129ms/step - loss: 0.0088 - accuracy: 0.9964 - precision: 0.9969 - recall: 0.9957 - val_loss: 2.0132 - val_accuracy: 0.7120 - val_precision: 0.6376 - val_recall: 0.7541\n",
            "Epoch 16/25\n",
            "473/473 [==============================] - 61s 129ms/step - loss: 0.0131 - accuracy: 0.9939 - precision: 0.9947 - recall: 0.9933 - val_loss: 2.0843 - val_accuracy: 0.7230 - val_precision: 0.6623 - val_recall: 0.7166\n",
            "Epoch 17/25\n",
            "473/473 [==============================] - 61s 129ms/step - loss: 0.0102 - accuracy: 0.9965 - precision: 0.9972 - recall: 0.9958 - val_loss: 1.7192 - val_accuracy: 0.7160 - val_precision: 0.6416 - val_recall: 0.7588\n",
            "Epoch 18/25\n",
            "473/473 [==============================] - 61s 129ms/step - loss: 0.0121 - accuracy: 0.9963 - precision: 0.9969 - recall: 0.9957 - val_loss: 1.5588 - val_accuracy: 0.7140 - val_precision: 0.6323 - val_recall: 0.7892\n",
            "Epoch 19/25\n",
            "473/473 [==============================] - 61s 129ms/step - loss: 0.0089 - accuracy: 0.9970 - precision: 0.9984 - recall: 0.9955 - val_loss: 1.9584 - val_accuracy: 0.7170 - val_precision: 0.6233 - val_recall: 0.8525\n",
            "Epoch 20/25\n",
            "473/473 [==============================] - 61s 129ms/step - loss: 0.0132 - accuracy: 0.9949 - precision: 0.9961 - recall: 0.9937 - val_loss: 2.0172 - val_accuracy: 0.7140 - val_precision: 0.6313 - val_recall: 0.7939\n"
          ],
          "name": "stdout"
        }
      ]
    },
    {
      "cell_type": "code",
      "metadata": {
        "colab": {
          "base_uri": "https://localhost:8080/"
        },
        "id": "-FsN50b505Ij",
        "outputId": "091cd936-9b0e-44e3-db47-3bba71eb46b3"
      },
      "source": [
        "preds_dl_hate = DistilBert_hate.predict(dl_hate_test_input, verbose=True)"
      ],
      "execution_count": 11,
      "outputs": [
        {
          "output_type": "stream",
          "text": [
            "WARNING:tensorflow:The parameters `output_attentions`, `output_hidden_states` and `use_cache` cannot be updated when calling a model.They have to be set to True/False in the config object (i.e.: `config=XConfig.from_pretrained('name', output_attentions=True)`).\n",
            "WARNING:tensorflow:The parameter `return_dict` cannot be set in graph mode and will always be set to `True`.\n",
            "93/93 [==============================] - 8s 76ms/step\n"
          ],
          "name": "stdout"
        }
      ]
    },
    {
      "cell_type": "code",
      "metadata": {
        "colab": {
          "base_uri": "https://localhost:8080/",
          "height": 485
        },
        "id": "HXaU8imwHI9u",
        "outputId": "871bb239-3483-4e43-bed3-5b16d0275355"
      },
      "source": [
        "hate_pred_dl_label = [i[0] for i in preds_dl_hate.round().astype(int)]\n",
        "cm = confusion_matrix(hate_dict_test.label,hate_pred_dl_label)\n",
        "f1_dl_hate = f1_score(hate_dict_test.label,hate_pred_dl_label,average='macro')\n",
        "print(\"F1_score of Hate dataset with DistilBert is: %.1f%%\" % round(f1_dl_hate*100,1))\n",
        "plot_confusion_matrix(cm, normalize=False,target_names=['Not_hate', 'Hate'],title=\"Confusion Matrix for Hate\")"
      ],
      "execution_count": 12,
      "outputs": [
        {
          "output_type": "stream",
          "text": [
            "F1_score of Hate dataset with DistilBert is: 56.0%\n"
          ],
          "name": "stdout"
        },
        {
          "output_type": "display_data",
          "data": {
            "image/png": "[encoded data removed]",
            "text/plain": [
              "<Figure size 576x432 with 2 Axes>"
            ]
          },
          "metadata": {
            "tags": [],
            "needs_background": "light"
          }
        }
      ]
    },
    {
      "cell_type": "code",
      "metadata": {
        "colab": {
          "base_uri": "https://localhost:8080/"
        },
        "id": "q7rfxgAnHb-i",
        "outputId": "7483126e-bdf8-438f-a9f1-fe4f93128e06"
      },
      "source": [
        "DistilBert_irony = create_model(dbert_model)\n",
        "hist_irony = DistilBert_irony.fit(x=dl_irony_train_input, y=irony_dict_train.label, epochs=25, batch_size=16, validation_data=(dl_irony_val_input, irony_dict_val.label), callbacks=callbacks)"
      ],
      "execution_count": 13,
      "outputs": [
        {
          "output_type": "stream",
          "text": [
            "WARNING:tensorflow:The parameters `output_attentions`, `output_hidden_states` and `use_cache` cannot be updated when calling a model.They have to be set to True/False in the config object (i.e.: `config=XConfig.from_pretrained('name', output_attentions=True)`).\n",
            "WARNING:tensorflow:The parameter `return_dict` cannot be set in graph mode and will always be set to `True`.\n",
            "Epoch 1/25\n",
            "WARNING:tensorflow:The parameters `output_attentions`, `output_hidden_states` and `use_cache` cannot be updated when calling a model.They have to be set to True/False in the config object (i.e.: `config=XConfig.from_pretrained('name', output_attentions=True)`).\n",
            "WARNING:tensorflow:The parameter `return_dict` cannot be set in graph mode and will always be set to `True`.\n",
            "WARNING:tensorflow:The parameters `output_attentions`, `output_hidden_states` and `use_cache` cannot be updated when calling a model.They have to be set to True/False in the config object (i.e.: `config=XConfig.from_pretrained('name', output_attentions=True)`).\n",
            "WARNING:tensorflow:The parameter `return_dict` cannot be set in graph mode and will always be set to `True`.\n",
            "177/178 [============================>.] - ETA: 0s - loss: 0.7242 - accuracy: 0.5290 - precision_1: 0.5320 - recall_1: 0.6120WARNING:tensorflow:The parameters `output_attentions`, `output_hidden_states` and `use_cache` cannot be updated when calling a model.They have to be set to True/False in the config object (i.e.: `config=XConfig.from_pretrained('name', output_attentions=True)`).\n",
            "WARNING:tensorflow:The parameter `return_dict` cannot be set in graph mode and will always be set to `True`.\n",
            "178/178 [==============================] - 33s 146ms/step - loss: 0.7239 - accuracy: 0.5294 - precision_1: 0.5323 - recall_1: 0.6117 - val_loss: 0.6465 - val_accuracy: 0.6251 - val_precision_1: 0.5950 - val_recall_1: 0.6732\n",
            "Epoch 2/25\n",
            "178/178 [==============================] - 24s 137ms/step - loss: 0.5558 - accuracy: 0.7318 - precision_1: 0.7438 - recall_1: 0.7020 - val_loss: 0.6325 - val_accuracy: 0.6398 - val_precision_1: 0.6250 - val_recall_1: 0.6140\n",
            "Epoch 3/25\n",
            "178/178 [==============================] - 24s 137ms/step - loss: 0.3524 - accuracy: 0.8598 - precision_1: 0.8736 - recall_1: 0.8438 - val_loss: 0.6936 - val_accuracy: 0.6471 - val_precision_1: 0.6227 - val_recall_1: 0.6623\n",
            "Epoch 4/25\n",
            "178/178 [==============================] - 24s 137ms/step - loss: 0.1666 - accuracy: 0.9460 - precision_1: 0.9447 - recall_1: 0.9478 - val_loss: 0.9464 - val_accuracy: 0.6304 - val_precision_1: 0.5970 - val_recall_1: 0.6952\n",
            "Epoch 5/25\n",
            "178/178 [==============================] - 24s 137ms/step - loss: 0.0662 - accuracy: 0.9827 - precision_1: 0.9839 - recall_1: 0.9811 - val_loss: 1.2648 - val_accuracy: 0.6335 - val_precision_1: 0.5898 - val_recall_1: 0.7632\n",
            "Epoch 6/25\n",
            "178/178 [==============================] - 24s 137ms/step - loss: 0.0414 - accuracy: 0.9907 - precision_1: 0.9951 - recall_1: 0.9858 - val_loss: 1.2805 - val_accuracy: 0.6534 - val_precision_1: 0.6499 - val_recall_1: 0.5943\n",
            "Epoch 7/25\n",
            "178/178 [==============================] - 24s 137ms/step - loss: 0.0230 - accuracy: 0.9937 - precision_1: 0.9953 - recall_1: 0.9920 - val_loss: 1.5503 - val_accuracy: 0.6408 - val_precision_1: 0.6155 - val_recall_1: 0.6601\n",
            "Epoch 8/25\n",
            "178/178 [==============================] - 24s 137ms/step - loss: 0.0156 - accuracy: 0.9961 - precision_1: 0.9978 - recall_1: 0.9943 - val_loss: 1.7907 - val_accuracy: 0.6314 - val_precision_1: 0.5800 - val_recall_1: 0.8268\n",
            "Epoch 9/25\n",
            "178/178 [==============================] - 24s 138ms/step - loss: 0.0160 - accuracy: 0.9964 - precision_1: 0.9975 - recall_1: 0.9952 - val_loss: 1.9518 - val_accuracy: 0.6272 - val_precision_1: 0.5801 - val_recall_1: 0.7939\n",
            "Epoch 10/25\n",
            "178/178 [==============================] - 24s 137ms/step - loss: 0.0392 - accuracy: 0.9898 - precision_1: 0.9890 - recall_1: 0.9910 - val_loss: 1.4660 - val_accuracy: 0.6534 - val_precision_1: 0.6283 - val_recall_1: 0.6711\n",
            "Epoch 11/25\n",
            "178/178 [==============================] - 24s 137ms/step - loss: 0.0193 - accuracy: 0.9944 - precision_1: 0.9949 - recall_1: 0.9936 - val_loss: 1.7320 - val_accuracy: 0.6597 - val_precision_1: 0.6238 - val_recall_1: 0.7237\n",
            "Epoch 12/25\n",
            "178/178 [==============================] - 24s 137ms/step - loss: 0.0097 - accuracy: 0.9971 - precision_1: 0.9995 - recall_1: 0.9946 - val_loss: 1.7835 - val_accuracy: 0.6534 - val_precision_1: 0.6263 - val_recall_1: 0.6798\n",
            "Epoch 13/25\n",
            "178/178 [==============================] - 25s 138ms/step - loss: 0.0217 - accuracy: 0.9940 - precision_1: 0.9959 - recall_1: 0.9921 - val_loss: 1.6836 - val_accuracy: 0.6450 - val_precision_1: 0.6286 - val_recall_1: 0.6272\n",
            "Epoch 14/25\n",
            "178/178 [==============================] - 24s 137ms/step - loss: 0.0152 - accuracy: 0.9955 - precision_1: 0.9980 - recall_1: 0.9926 - val_loss: 1.9943 - val_accuracy: 0.6283 - val_precision_1: 0.5800 - val_recall_1: 0.8026\n",
            "Epoch 15/25\n",
            "178/178 [==============================] - 24s 137ms/step - loss: 0.0193 - accuracy: 0.9942 - precision_1: 0.9959 - recall_1: 0.9923 - val_loss: 1.6436 - val_accuracy: 0.6597 - val_precision_1: 0.6373 - val_recall_1: 0.6667\n",
            "Epoch 16/25\n",
            "178/178 [==============================] - 24s 137ms/step - loss: 0.0066 - accuracy: 0.9984 - precision_1: 1.0000 - recall_1: 0.9968 - val_loss: 1.9375 - val_accuracy: 0.6545 - val_precision_1: 0.6275 - val_recall_1: 0.6798\n",
            "Epoch 17/25\n",
            "178/178 [==============================] - 24s 137ms/step - loss: 0.0097 - accuracy: 0.9967 - precision_1: 0.9966 - recall_1: 0.9967 - val_loss: 1.7649 - val_accuracy: 0.6618 - val_precision_1: 0.6371 - val_recall_1: 0.6776\n",
            "Epoch 18/25\n",
            "178/178 [==============================] - 24s 137ms/step - loss: 0.0172 - accuracy: 0.9946 - precision_1: 0.9960 - recall_1: 0.9930 - val_loss: 1.9384 - val_accuracy: 0.6251 - val_precision_1: 0.5798 - val_recall_1: 0.7807\n",
            "Epoch 19/25\n",
            "178/178 [==============================] - 24s 137ms/step - loss: 0.0164 - accuracy: 0.9937 - precision_1: 0.9948 - recall_1: 0.9925 - val_loss: 1.8369 - val_accuracy: 0.6377 - val_precision_1: 0.6046 - val_recall_1: 0.6974\n",
            "Epoch 20/25\n",
            "178/178 [==============================] - 24s 137ms/step - loss: 0.0072 - accuracy: 0.9981 - precision_1: 0.9999 - recall_1: 0.9963 - val_loss: 2.2729 - val_accuracy: 0.6209 - val_precision_1: 0.5712 - val_recall_1: 0.8268\n"
          ],
          "name": "stdout"
        }
      ]
    },
    {
      "cell_type": "code",
      "metadata": {
        "colab": {
          "base_uri": "https://localhost:8080/"
        },
        "id": "UTwy1LkDHooF",
        "outputId": "81e262f5-cbdf-4a82-8727-3066b82df85d"
      },
      "source": [
        "preds_dl_irony = DistilBert_irony.predict(dl_irony_test_input, verbose=True)"
      ],
      "execution_count": 14,
      "outputs": [
        {
          "output_type": "stream",
          "text": [
            "WARNING:tensorflow:The parameters `output_attentions`, `output_hidden_states` and `use_cache` cannot be updated when calling a model.They have to be set to True/False in the config object (i.e.: `config=XConfig.from_pretrained('name', output_attentions=True)`).\n",
            "WARNING:tensorflow:The parameter `return_dict` cannot be set in graph mode and will always be set to `True`.\n",
            "25/25 [==============================] - 3s 75ms/step\n"
          ],
          "name": "stdout"
        }
      ]
    },
    {
      "cell_type": "code",
      "metadata": {
        "colab": {
          "base_uri": "https://localhost:8080/",
          "height": 485
        },
        "id": "6yanVWo7Hpz1",
        "outputId": "4ae94436-e4e8-4622-e713-cae19e394deb"
      },
      "source": [
        "irony_pred_dl_label = [i[0] for i in preds_dl_irony.round().astype(int)]\n",
        "cm = confusion_matrix(irony_dict_test.label,irony_pred_dl_label)\n",
        "f1_dl_irony = f1_score(irony_dict_test.label,irony_pred_dl_label,average='macro')\n",
        "print(\"F1_score of irony dataset with DistilBert is: %.1f%%\" % round(f1_dl_irony*100,1))\n",
        "plot_confusion_matrix(cm, normalize=False,target_names=['Not_irony', 'Irony'],title=\"Confusion Matrix for Irony\")"
      ],
      "execution_count": 15,
      "outputs": [
        {
          "output_type": "stream",
          "text": [
            "F1_score of irony dataset with DistilBert is: 61.8%\n"
          ],
          "name": "stdout"
        },
        {
          "output_type": "display_data",
          "data": {
            "image/png": "[encoded data removed]",
            "text/plain": [
              "<Figure size 576x432 with 2 Axes>"
            ]
          },
          "metadata": {
            "tags": [],
            "needs_background": "light"
          }
        }
      ]
    },
    {
      "cell_type": "code",
      "metadata": {
        "colab": {
          "base_uri": "https://localhost:8080/"
        },
        "id": "E0IDd7q5RM58",
        "outputId": "4f89a9f7-2241-48ad-8f5a-95bcd6907cdc"
      },
      "source": [
        "DistilBert_offensive = create_model(dbert_model)\n",
        "hist_dl_offensive = DistilBert_offensive.fit(x=dl_offensive_train_input, y=offensive_dict_train.label, epochs=25, batch_size=16, validation_data=(dl_offensive_val_input, offensive_dict_val.label), callbacks=callbacks)"
      ],
      "execution_count": 16,
      "outputs": [
        {
          "output_type": "stream",
          "text": [
            "WARNING:tensorflow:The parameters `output_attentions`, `output_hidden_states` and `use_cache` cannot be updated when calling a model.They have to be set to True/False in the config object (i.e.: `config=XConfig.from_pretrained('name', output_attentions=True)`).\n",
            "WARNING:tensorflow:The parameter `return_dict` cannot be set in graph mode and will always be set to `True`.\n",
            "Epoch 1/25\n",
            "WARNING:tensorflow:The parameters `output_attentions`, `output_hidden_states` and `use_cache` cannot be updated when calling a model.They have to be set to True/False in the config object (i.e.: `config=XConfig.from_pretrained('name', output_attentions=True)`).\n",
            "WARNING:tensorflow:The parameter `return_dict` cannot be set in graph mode and will always be set to `True`.\n",
            "WARNING:tensorflow:The parameters `output_attentions`, `output_hidden_states` and `use_cache` cannot be updated when calling a model.They have to be set to True/False in the config object (i.e.: `config=XConfig.from_pretrained('name', output_attentions=True)`).\n",
            "WARNING:tensorflow:The parameter `return_dict` cannot be set in graph mode and will always be set to `True`.\n",
            "493/493 [==============================] - ETA: 0s - loss: 0.7069 - accuracy: 0.5130 - precision_2: 0.5112 - recall_2: 0.5071WARNING:tensorflow:The parameters `output_attentions`, `output_hidden_states` and `use_cache` cannot be updated when calling a model.They have to be set to True/False in the config object (i.e.: `config=XConfig.from_pretrained('name', output_attentions=True)`).\n",
            "WARNING:tensorflow:The parameter `return_dict` cannot be set in graph mode and will always be set to `True`.\n",
            "493/493 [==============================] - 73s 134ms/step - loss: 0.7068 - accuracy: 0.5130 - precision_2: 0.5112 - recall_2: 0.5071 - val_loss: 0.7024 - val_accuracy: 0.3467 - val_precision_2: 0.3467 - val_recall_2: 1.0000\n",
            "Epoch 2/25\n",
            "493/493 [==============================] - 64s 131ms/step - loss: 0.6903 - accuracy: 0.5190 - precision_2: 0.5137 - recall_2: 0.8227 - val_loss: 0.6270 - val_accuracy: 0.6813 - val_precision_2: 0.5504 - val_recall_2: 0.4401\n",
            "Epoch 3/25\n",
            "493/493 [==============================] - 64s 130ms/step - loss: 0.6265 - accuracy: 0.6412 - precision_2: 0.6520 - recall_2: 0.6048 - val_loss: 0.5890 - val_accuracy: 0.6858 - val_precision_2: 0.5408 - val_recall_2: 0.6209\n",
            "Epoch 4/25\n",
            "493/493 [==============================] - 64s 130ms/step - loss: 0.5284 - accuracy: 0.7423 - precision_2: 0.7705 - recall_2: 0.6958 - val_loss: 0.5763 - val_accuracy: 0.7190 - val_precision_2: 0.5978 - val_recall_2: 0.5795\n",
            "Epoch 5/25\n",
            "493/493 [==============================] - 64s 130ms/step - loss: 0.4276 - accuracy: 0.8116 - precision_2: 0.8085 - recall_2: 0.8164 - val_loss: 0.6957 - val_accuracy: 0.6654 - val_precision_2: 0.5123 - val_recall_2: 0.7233\n",
            "Epoch 6/25\n",
            "493/493 [==============================] - 64s 130ms/step - loss: 0.3424 - accuracy: 0.8581 - precision_2: 0.8476 - recall_2: 0.8760 - val_loss: 0.7423 - val_accuracy: 0.6458 - val_precision_2: 0.4926 - val_recall_2: 0.7298\n",
            "Epoch 7/25\n",
            "493/493 [==============================] - 64s 131ms/step - loss: 0.2304 - accuracy: 0.9181 - precision_2: 0.9159 - recall_2: 0.9224 - val_loss: 0.8488 - val_accuracy: 0.6994 - val_precision_2: 0.5611 - val_recall_2: 0.6100\n",
            "Epoch 8/25\n",
            "493/493 [==============================] - 64s 130ms/step - loss: 0.1707 - accuracy: 0.9410 - precision_2: 0.9417 - recall_2: 0.9402 - val_loss: 0.9433 - val_accuracy: 0.6745 - val_precision_2: 0.5257 - val_recall_2: 0.6231\n",
            "Epoch 9/25\n",
            "493/493 [==============================] - 64s 131ms/step - loss: 0.1351 - accuracy: 0.9541 - precision_2: 0.9504 - recall_2: 0.9575 - val_loss: 1.1636 - val_accuracy: 0.6813 - val_precision_2: 0.5333 - val_recall_2: 0.6449\n",
            "Epoch 10/25\n",
            "493/493 [==============================] - 64s 131ms/step - loss: 0.1079 - accuracy: 0.9695 - precision_2: 0.9690 - recall_2: 0.9707 - val_loss: 1.3701 - val_accuracy: 0.5937 - val_precision_2: 0.4517 - val_recall_2: 0.8039\n",
            "Epoch 11/25\n",
            "493/493 [==============================] - 64s 131ms/step - loss: 0.1025 - accuracy: 0.9670 - precision_2: 0.9620 - recall_2: 0.9727 - val_loss: 1.6004 - val_accuracy: 0.6563 - val_precision_2: 0.5030 - val_recall_2: 0.7342\n",
            "Epoch 12/25\n",
            "493/493 [==============================] - 64s 130ms/step - loss: 0.0746 - accuracy: 0.9776 - precision_2: 0.9766 - recall_2: 0.9795 - val_loss: 1.3558 - val_accuracy: 0.6722 - val_precision_2: 0.5205 - val_recall_2: 0.6906\n",
            "Epoch 13/25\n",
            "493/493 [==============================] - 64s 130ms/step - loss: 0.0651 - accuracy: 0.9798 - precision_2: 0.9786 - recall_2: 0.9809 - val_loss: 1.5482 - val_accuracy: 0.6473 - val_precision_2: 0.4942 - val_recall_2: 0.7473\n",
            "Epoch 14/25\n",
            "493/493 [==============================] - 64s 130ms/step - loss: 0.0585 - accuracy: 0.9813 - precision_2: 0.9767 - recall_2: 0.9852 - val_loss: 1.6744 - val_accuracy: 0.6888 - val_precision_2: 0.5430 - val_recall_2: 0.6471\n",
            "Epoch 15/25\n",
            "493/493 [==============================] - 64s 130ms/step - loss: 0.0461 - accuracy: 0.9862 - precision_2: 0.9862 - recall_2: 0.9858 - val_loss: 2.0224 - val_accuracy: 0.6684 - val_precision_2: 0.5159 - val_recall_2: 0.7059\n",
            "Epoch 16/25\n",
            "493/493 [==============================] - 64s 131ms/step - loss: 0.0435 - accuracy: 0.9866 - precision_2: 0.9878 - recall_2: 0.9857 - val_loss: 1.4186 - val_accuracy: 0.6911 - val_precision_2: 0.5475 - val_recall_2: 0.6275\n",
            "Epoch 17/25\n",
            "493/493 [==============================] - 64s 131ms/step - loss: 0.0427 - accuracy: 0.9871 - precision_2: 0.9880 - recall_2: 0.9863 - val_loss: 1.9743 - val_accuracy: 0.6730 - val_precision_2: 0.5219 - val_recall_2: 0.6754\n",
            "Epoch 18/25\n",
            "493/493 [==============================] - 64s 130ms/step - loss: 0.0405 - accuracy: 0.9861 - precision_2: 0.9887 - recall_2: 0.9837 - val_loss: 1.7834 - val_accuracy: 0.6639 - val_precision_2: 0.5114 - val_recall_2: 0.6863\n",
            "Epoch 19/25\n",
            "493/493 [==============================] - 64s 130ms/step - loss: 0.0297 - accuracy: 0.9901 - precision_2: 0.9913 - recall_2: 0.9889 - val_loss: 1.7031 - val_accuracy: 0.6798 - val_precision_2: 0.5323 - val_recall_2: 0.6275\n",
            "Epoch 20/25\n",
            "493/493 [==============================] - 64s 131ms/step - loss: 0.0422 - accuracy: 0.9861 - precision_2: 0.9861 - recall_2: 0.9872 - val_loss: 1.8262 - val_accuracy: 0.6941 - val_precision_2: 0.5509 - val_recall_2: 0.6362\n",
            "Epoch 21/25\n",
            "493/493 [==============================] - 64s 131ms/step - loss: 0.0198 - accuracy: 0.9924 - precision_2: 0.9907 - recall_2: 0.9940 - val_loss: 2.2766 - val_accuracy: 0.6662 - val_precision_2: 0.5139 - val_recall_2: 0.6863\n",
            "Epoch 22/25\n",
            "493/493 [==============================] - 64s 131ms/step - loss: 0.0312 - accuracy: 0.9890 - precision_2: 0.9868 - recall_2: 0.9914 - val_loss: 1.8193 - val_accuracy: 0.6971 - val_precision_2: 0.5558 - val_recall_2: 0.6296\n",
            "Epoch 23/25\n",
            "493/493 [==============================] - 65s 131ms/step - loss: 0.0261 - accuracy: 0.9912 - precision_2: 0.9946 - recall_2: 0.9877 - val_loss: 2.2410 - val_accuracy: 0.6639 - val_precision_2: 0.5111 - val_recall_2: 0.6993\n",
            "Epoch 24/25\n",
            "493/493 [==============================] - 64s 131ms/step - loss: 0.0176 - accuracy: 0.9946 - precision_2: 0.9962 - recall_2: 0.9930 - val_loss: 2.2108 - val_accuracy: 0.6866 - val_precision_2: 0.5409 - val_recall_2: 0.6340\n",
            "Epoch 25/25\n",
            "493/493 [==============================] - 65s 131ms/step - loss: 0.0218 - accuracy: 0.9920 - precision_2: 0.9949 - recall_2: 0.9889 - val_loss: 2.2194 - val_accuracy: 0.6699 - val_precision_2: 0.5171 - val_recall_2: 0.7233\n"
          ],
          "name": "stdout"
        }
      ]
    },
    {
      "cell_type": "code",
      "metadata": {
        "colab": {
          "base_uri": "https://localhost:8080/"
        },
        "id": "0JZnQOGSRYay",
        "outputId": "bf797b91-6f3a-4f86-d314-9904b85bf8e0"
      },
      "source": [
        "preds_dl_offensive = DistilBert_offensive.predict(dl_offensive_test_input, verbose=True)"
      ],
      "execution_count": 17,
      "outputs": [
        {
          "output_type": "stream",
          "text": [
            "WARNING:tensorflow:The parameters `output_attentions`, `output_hidden_states` and `use_cache` cannot be updated when calling a model.They have to be set to True/False in the config object (i.e.: `config=XConfig.from_pretrained('name', output_attentions=True)`).\n",
            "WARNING:tensorflow:The parameter `return_dict` cannot be set in graph mode and will always be set to `True`.\n",
            "27/27 [==============================] - 3s 77ms/step\n"
          ],
          "name": "stdout"
        }
      ]
    },
    {
      "cell_type": "code",
      "metadata": {
        "colab": {
          "base_uri": "https://localhost:8080/",
          "height": 485
        },
        "id": "hVZI2SRnResz",
        "outputId": "acbd9279-22f4-4910-b197-feada895d83c"
      },
      "source": [
        "offensive_pred_dl_label = [i[0] for i in preds_dl_offensive.round().astype(int)]\n",
        "cm = confusion_matrix(offensive_dict_test.label,offensive_pred_dl_label)\n",
        "f1_dl_offensive = f1_score(offensive_dict_test.label,offensive_pred_dl_label,average='macro')\n",
        "print(\"F1_score of offensive dataset with DistilBert is: %.1f%%\" % round(f1_dl_offensive*100,1))\n",
        "plot_confusion_matrix(cm, normalize=False, target_names=['Not_offensive', 'Offensive'],title=\"Confusion Matrix for Offensive\")"
      ],
      "execution_count": 18,
      "outputs": [
        {
          "output_type": "stream",
          "text": [
            "F1_score of offensive dataset with DistilBert is: 64.9%\n"
          ],
          "name": "stdout"
        },
        {
          "output_type": "display_data",
          "data": {
            "image/png": "[encoded data removed]",
            "text/plain": [
              "<Figure size 576x432 with 2 Axes>"
            ]
          },
          "metadata": {
            "tags": [],
            "needs_background": "light"
          }
        }
      ]
    },
    {
      "cell_type": "markdown",
      "metadata": {
        "id": "toeItPapUByt"
      },
      "source": [
        "#Apply XLNet as the 2nd model to predict classifcation."
      ]
    },
    {
      "cell_type": "code",
      "metadata": {
        "colab": {
          "base_uri": "https://localhost:8080/"
        },
        "id": "MpMxeYhzT-NW",
        "outputId": "d6182caa-cd3b-45b5-8a9c-8477069e6089"
      },
      "source": [
        "XLNet_hate = create_model(xlnet_model)\n",
        "XLNet_hate.summary()"
      ],
      "execution_count": 19,
      "outputs": [
        {
          "output_type": "stream",
          "text": [
            "WARNING:tensorflow:The parameters `output_attentions`, `output_hidden_states` and `use_cache` cannot be updated when calling a model.They have to be set to True/False in the config object (i.e.: `config=XConfig.from_pretrained('name', output_attentions=True)`).\n",
            "WARNING:tensorflow:The parameter `return_dict` cannot be set in graph mode and will always be set to `True`.\n",
            "Model: \"model_3\"\n",
            "__________________________________________________________________________________________________\n",
            "Layer (type)                    Output Shape         Param #     Connected to                     \n",
            "==================================================================================================\n",
            "word_ids (InputLayer)           [(None, 120)]        0                                            \n",
            "__________________________________________________________________________________________________\n",
            "word_attention (InputLayer)     [(None, 120)]        0                                            \n",
            "__________________________________________________________________________________________________\n",
            "tfxl_net_model (TFXLNetModel)   TFXLNetModelOutput(l 116718336   word_ids[0][0]                   \n",
            "                                                                 word_attention[0][0]             \n",
            "__________________________________________________________________________________________________\n",
            "tf.__operators__.getitem_3 (Sli (None, 1, 768)       0           tfxl_net_model[0][0]             \n",
            "__________________________________________________________________________________________________\n",
            "tf.compat.v1.squeeze_3 (TFOpLam (None, 768)          0           tf.__operators__.getitem_3[0][0] \n",
            "__________________________________________________________________________________________________\n",
            "encoding (Dense)                (None, 32)           24608       tf.compat.v1.squeeze_3[0][0]     \n",
            "__________________________________________________________________________________________________\n",
            "dropout_59 (Dropout)            (None, 32)           0           encoding[0][0]                   \n",
            "__________________________________________________________________________________________________\n",
            "outputs (Dense)                 (None, 1)            33          dropout_59[0][0]                 \n",
            "==================================================================================================\n",
            "Total params: 116,742,977\n",
            "Trainable params: 116,742,977\n",
            "Non-trainable params: 0\n",
            "__________________________________________________________________________________________________\n"
          ],
          "name": "stdout"
        }
      ]
    },
    {
      "cell_type": "code",
      "metadata": {
        "colab": {
          "base_uri": "https://localhost:8080/"
        },
        "id": "6bDNJJUjTgnK",
        "outputId": "022b1b7b-6339-478b-c474-639b03f038ab"
      },
      "source": [
        "hist_xl_hate = XLNet_hate.fit(x=xl_hate_train_input, y=hate_dict_train.label, epochs=25, batch_size=16, validation_data=(xl_hate_val_input, hate_dict_val.label), callbacks=callbacks)"
      ],
      "execution_count": 20,
      "outputs": [
        {
          "output_type": "stream",
          "text": [
            "Epoch 1/25\n",
            "WARNING:tensorflow:The parameters `output_attentions`, `output_hidden_states` and `use_cache` cannot be updated when calling a model.They have to be set to True/False in the config object (i.e.: `config=XConfig.from_pretrained('name', output_attentions=True)`).\n",
            "WARNING:tensorflow:The parameter `return_dict` cannot be set in graph mode and will always be set to `True`.\n",
            "WARNING:tensorflow:Gradients do not exist for variables ['tfxl_net_model/transformer/mask_emb:0', 'tfxl_net_model/transformer/layer_._0/rel_attn/r_s_bias:0', 'tfxl_net_model/transformer/layer_._0/rel_attn/seg_embed:0', 'tfxl_net_model/transformer/layer_._1/rel_attn/r_s_bias:0', 'tfxl_net_model/transformer/layer_._1/rel_attn/seg_embed:0', 'tfxl_net_model/transformer/layer_._2/rel_attn/r_s_bias:0', 'tfxl_net_model/transformer/layer_._2/rel_attn/seg_embed:0', 'tfxl_net_model/transformer/layer_._3/rel_attn/r_s_bias:0', 'tfxl_net_model/transformer/layer_._3/rel_attn/seg_embed:0', 'tfxl_net_model/transformer/layer_._4/rel_attn/r_s_bias:0', 'tfxl_net_model/transformer/layer_._4/rel_attn/seg_embed:0', 'tfxl_net_model/transformer/layer_._5/rel_attn/r_s_bias:0', 'tfxl_net_model/transformer/layer_._5/rel_attn/seg_embed:0', 'tfxl_net_model/transformer/layer_._6/rel_attn/r_s_bias:0', 'tfxl_net_model/transformer/layer_._6/rel_attn/seg_embed:0', 'tfxl_net_model/transformer/layer_._7/rel_attn/r_s_bias:0', 'tfxl_net_model/transformer/layer_._7/rel_attn/seg_embed:0', 'tfxl_net_model/transformer/layer_._8/rel_attn/r_s_bias:0', 'tfxl_net_model/transformer/layer_._8/rel_attn/seg_embed:0', 'tfxl_net_model/transformer/layer_._9/rel_attn/r_s_bias:0', 'tfxl_net_model/transformer/layer_._9/rel_attn/seg_embed:0', 'tfxl_net_model/transformer/layer_._10/rel_attn/r_s_bias:0', 'tfxl_net_model/transformer/layer_._10/rel_attn/seg_embed:0', 'tfxl_net_model/transformer/layer_._11/rel_attn/r_s_bias:0', 'tfxl_net_model/transformer/layer_._11/rel_attn/seg_embed:0'] when minimizing the loss.\n",
            "WARNING:tensorflow:The parameters `output_attentions`, `output_hidden_states` and `use_cache` cannot be updated when calling a model.They have to be set to True/False in the config object (i.e.: `config=XConfig.from_pretrained('name', output_attentions=True)`).\n",
            "WARNING:tensorflow:The parameter `return_dict` cannot be set in graph mode and will always be set to `True`.\n",
            "WARNING:tensorflow:Gradients do not exist for variables ['tfxl_net_model/transformer/mask_emb:0', 'tfxl_net_model/transformer/layer_._0/rel_attn/r_s_bias:0', 'tfxl_net_model/transformer/layer_._0/rel_attn/seg_embed:0', 'tfxl_net_model/transformer/layer_._1/rel_attn/r_s_bias:0', 'tfxl_net_model/transformer/layer_._1/rel_attn/seg_embed:0', 'tfxl_net_model/transformer/layer_._2/rel_attn/r_s_bias:0', 'tfxl_net_model/transformer/layer_._2/rel_attn/seg_embed:0', 'tfxl_net_model/transformer/layer_._3/rel_attn/r_s_bias:0', 'tfxl_net_model/transformer/layer_._3/rel_attn/seg_embed:0', 'tfxl_net_model/transformer/layer_._4/rel_attn/r_s_bias:0', 'tfxl_net_model/transformer/layer_._4/rel_attn/seg_embed:0', 'tfxl_net_model/transformer/layer_._5/rel_attn/r_s_bias:0', 'tfxl_net_model/transformer/layer_._5/rel_attn/seg_embed:0', 'tfxl_net_model/transformer/layer_._6/rel_attn/r_s_bias:0', 'tfxl_net_model/transformer/layer_._6/rel_attn/seg_embed:0', 'tfxl_net_model/transformer/layer_._7/rel_attn/r_s_bias:0', 'tfxl_net_model/transformer/layer_._7/rel_attn/seg_embed:0', 'tfxl_net_model/transformer/layer_._8/rel_attn/r_s_bias:0', 'tfxl_net_model/transformer/layer_._8/rel_attn/seg_embed:0', 'tfxl_net_model/transformer/layer_._9/rel_attn/r_s_bias:0', 'tfxl_net_model/transformer/layer_._9/rel_attn/seg_embed:0', 'tfxl_net_model/transformer/layer_._10/rel_attn/r_s_bias:0', 'tfxl_net_model/transformer/layer_._10/rel_attn/seg_embed:0', 'tfxl_net_model/transformer/layer_._11/rel_attn/r_s_bias:0', 'tfxl_net_model/transformer/layer_._11/rel_attn/seg_embed:0'] when minimizing the loss.\n",
            "473/473 [==============================] - ETA: 0s - loss: 0.7206 - accuracy: 0.5913 - precision_3: 0.5767 - recall_3: 0.6502WARNING:tensorflow:The parameters `output_attentions`, `output_hidden_states` and `use_cache` cannot be updated when calling a model.They have to be set to True/False in the config object (i.e.: `config=XConfig.from_pretrained('name', output_attentions=True)`).\n",
            "WARNING:tensorflow:The parameter `return_dict` cannot be set in graph mode and will always be set to `True`.\n",
            "473/473 [==============================] - 161s 314ms/step - loss: 0.7204 - accuracy: 0.5914 - precision_3: 0.5767 - recall_3: 0.6503 - val_loss: 0.6100 - val_accuracy: 0.6580 - val_precision_3: 0.5707 - val_recall_3: 0.8033\n",
            "Epoch 2/25\n",
            "473/473 [==============================] - 146s 310ms/step - loss: 0.5265 - accuracy: 0.7437 - precision_3: 0.7373 - recall_3: 0.7680 - val_loss: 0.5638 - val_accuracy: 0.7030 - val_precision_3: 0.6231 - val_recall_3: 0.7705\n",
            "Epoch 3/25\n",
            "473/473 [==============================] - 146s 310ms/step - loss: 0.4240 - accuracy: 0.8148 - precision_3: 0.8038 - recall_3: 0.8313 - val_loss: 0.6758 - val_accuracy: 0.6650 - val_precision_3: 0.5708 - val_recall_3: 0.8689\n",
            "Epoch 4/25\n",
            "473/473 [==============================] - 146s 309ms/step - loss: 0.3321 - accuracy: 0.8582 - precision_3: 0.8422 - recall_3: 0.8788 - val_loss: 0.6133 - val_accuracy: 0.7210 - val_precision_3: 0.6418 - val_recall_3: 0.7845\n",
            "Epoch 5/25\n",
            "473/473 [==============================] - 146s 309ms/step - loss: 0.2425 - accuracy: 0.9043 - precision_3: 0.8980 - recall_3: 0.9117 - val_loss: 0.7053 - val_accuracy: 0.7320 - val_precision_3: 0.6897 - val_recall_3: 0.6768\n",
            "Epoch 6/25\n",
            "473/473 [==============================] - 146s 309ms/step - loss: 0.1415 - accuracy: 0.9474 - precision_3: 0.9487 - recall_3: 0.9436 - val_loss: 1.1811 - val_accuracy: 0.6860 - val_precision_3: 0.5966 - val_recall_3: 0.8173\n",
            "Epoch 7/25\n",
            "473/473 [==============================] - 146s 309ms/step - loss: 0.1063 - accuracy: 0.9591 - precision_3: 0.9572 - recall_3: 0.9620 - val_loss: 1.3064 - val_accuracy: 0.7210 - val_precision_3: 0.6561 - val_recall_3: 0.7283\n",
            "Epoch 8/25\n",
            "473/473 [==============================] - 146s 309ms/step - loss: 0.0626 - accuracy: 0.9799 - precision_3: 0.9811 - recall_3: 0.9787 - val_loss: 1.7792 - val_accuracy: 0.7020 - val_precision_3: 0.6166 - val_recall_3: 0.7986\n",
            "Epoch 9/25\n",
            "473/473 [==============================] - 146s 309ms/step - loss: 0.0476 - accuracy: 0.9825 - precision_3: 0.9814 - recall_3: 0.9837 - val_loss: 1.2040 - val_accuracy: 0.7340 - val_precision_3: 0.6842 - val_recall_3: 0.7002\n",
            "Epoch 10/25\n",
            "473/473 [==============================] - 146s 310ms/step - loss: 0.0496 - accuracy: 0.9822 - precision_3: 0.9784 - recall_3: 0.9860 - val_loss: 1.7052 - val_accuracy: 0.7160 - val_precision_3: 0.6399 - val_recall_3: 0.7658\n",
            "Epoch 11/25\n",
            "473/473 [==============================] - 146s 309ms/step - loss: 0.0381 - accuracy: 0.9874 - precision_3: 0.9866 - recall_3: 0.9889 - val_loss: 1.8926 - val_accuracy: 0.7170 - val_precision_3: 0.6674 - val_recall_3: 0.6721\n",
            "Epoch 12/25\n",
            "473/473 [==============================] - 146s 309ms/step - loss: 0.0378 - accuracy: 0.9892 - precision_3: 0.9913 - recall_3: 0.9871 - val_loss: 1.9235 - val_accuracy: 0.7190 - val_precision_3: 0.6460 - val_recall_3: 0.7564\n",
            "Epoch 13/25\n",
            "473/473 [==============================] - 146s 309ms/step - loss: 0.0299 - accuracy: 0.9892 - precision_3: 0.9917 - recall_3: 0.9868 - val_loss: 1.7173 - val_accuracy: 0.7220 - val_precision_3: 0.6609 - val_recall_3: 0.7166\n",
            "Epoch 14/25\n",
            "473/473 [==============================] - 146s 310ms/step - loss: 0.0431 - accuracy: 0.9849 - precision_3: 0.9846 - recall_3: 0.9857 - val_loss: 1.6729 - val_accuracy: 0.6940 - val_precision_3: 0.6049 - val_recall_3: 0.8173\n",
            "Epoch 15/25\n",
            "473/473 [==============================] - 146s 309ms/step - loss: 0.0330 - accuracy: 0.9896 - precision_3: 0.9897 - recall_3: 0.9894 - val_loss: 2.0641 - val_accuracy: 0.7080 - val_precision_3: 0.6199 - val_recall_3: 0.8173\n",
            "Epoch 16/25\n",
            "473/473 [==============================] - 146s 310ms/step - loss: 0.0259 - accuracy: 0.9924 - precision_3: 0.9936 - recall_3: 0.9913 - val_loss: 1.7472 - val_accuracy: 0.7300 - val_precision_3: 0.6788 - val_recall_3: 0.6979\n",
            "Epoch 17/25\n",
            "473/473 [==============================] - 146s 309ms/step - loss: 0.0185 - accuracy: 0.9937 - precision_3: 0.9934 - recall_3: 0.9940 - val_loss: 2.1318 - val_accuracy: 0.7170 - val_precision_3: 0.6434 - val_recall_3: 0.7564\n",
            "Epoch 18/25\n",
            "473/473 [==============================] - 146s 310ms/step - loss: 0.0231 - accuracy: 0.9910 - precision_3: 0.9948 - recall_3: 0.9870 - val_loss: 2.7845 - val_accuracy: 0.7150 - val_precision_3: 0.6360 - val_recall_3: 0.7775\n",
            "Epoch 19/25\n",
            "473/473 [==============================] - 146s 310ms/step - loss: 0.0310 - accuracy: 0.9888 - precision_3: 0.9899 - recall_3: 0.9879 - val_loss: 2.2025 - val_accuracy: 0.7250 - val_precision_3: 0.6603 - val_recall_3: 0.7330\n",
            "Epoch 20/25\n",
            "473/473 [==============================] - 147s 310ms/step - loss: 0.0287 - accuracy: 0.9915 - precision_3: 0.9936 - recall_3: 0.9890 - val_loss: 1.5246 - val_accuracy: 0.7200 - val_precision_3: 0.6541 - val_recall_3: 0.7307\n",
            "Epoch 21/25\n",
            "473/473 [==============================] - 146s 310ms/step - loss: 0.0193 - accuracy: 0.9935 - precision_3: 0.9953 - recall_3: 0.9917 - val_loss: 1.9257 - val_accuracy: 0.7110 - val_precision_3: 0.6507 - val_recall_3: 0.6979\n"
          ],
          "name": "stdout"
        }
      ]
    },
    {
      "cell_type": "code",
      "metadata": {
        "colab": {
          "base_uri": "https://localhost:8080/"
        },
        "id": "FvLsulRdUpuG",
        "outputId": "855cba1b-5b9f-4382-bbd9-662382f92247"
      },
      "source": [
        "preds_xl_hate = XLNet_hate.predict(xl_hate_test_input, verbose=True)"
      ],
      "execution_count": 21,
      "outputs": [
        {
          "output_type": "stream",
          "text": [
            "WARNING:tensorflow:The parameters `output_attentions`, `output_hidden_states` and `use_cache` cannot be updated when calling a model.They have to be set to True/False in the config object (i.e.: `config=XConfig.from_pretrained('name', output_attentions=True)`).\n",
            "WARNING:tensorflow:The parameter `return_dict` cannot be set in graph mode and will always be set to `True`.\n",
            "93/93 [==============================] - 19s 185ms/step\n"
          ],
          "name": "stdout"
        }
      ]
    },
    {
      "cell_type": "code",
      "metadata": {
        "colab": {
          "base_uri": "https://localhost:8080/",
          "height": 485
        },
        "id": "ZDaUwPk_UVWt",
        "outputId": "a30ac888-7c5d-4650-bab9-045aecf157e0"
      },
      "source": [
        "hate_pred_xl_label = [i[0] for i in preds_xl_hate.round().astype(int)]\n",
        "cm = confusion_matrix(hate_dict_test.label,hate_pred_xl_label)\n",
        "f1_xl_hate = f1_score(hate_dict_test.label,hate_pred_xl_label,average='macro')\n",
        "print(\"F1_score of Hate dataset with XLnet is: %.1f%%\" % round(f1_xl_hate*100,1))\n",
        "plot_confusion_matrix(cm, normalize=False,target_names=['Not_hate', 'Hate'],title=\"Confusion Matrix for Hate\")"
      ],
      "execution_count": 22,
      "outputs": [
        {
          "output_type": "stream",
          "text": [
            "F1_score of Hate dataset with DistilBert is: 56.3%\n"
          ],
          "name": "stdout"
        },
        {
          "output_type": "display_data",
          "data": {
            "image/png": "[encoded data removed]",
            "text/plain": [
              "<Figure size 576x432 with 2 Axes>"
            ]
          },
          "metadata": {
            "tags": [],
            "needs_background": "light"
          }
        }
      ]
    },
    {
      "cell_type": "code",
      "metadata": {
        "colab": {
          "base_uri": "https://localhost:8080/"
        },
        "id": "ari-sMwRU9pM",
        "outputId": "3bfd4926-45a7-4703-ff07-23efbd82ce5c"
      },
      "source": [
        "XLNet_irony = create_model(xlnet_model)"
      ],
      "execution_count": 23,
      "outputs": [
        {
          "output_type": "stream",
          "text": [
            "WARNING:tensorflow:The parameters `output_attentions`, `output_hidden_states` and `use_cache` cannot be updated when calling a model.They have to be set to True/False in the config object (i.e.: `config=XConfig.from_pretrained('name', output_attentions=True)`).\n",
            "WARNING:tensorflow:The parameter `return_dict` cannot be set in graph mode and will always be set to `True`.\n"
          ],
          "name": "stdout"
        }
      ]
    },
    {
      "cell_type": "code",
      "metadata": {
        "colab": {
          "base_uri": "https://localhost:8080/"
        },
        "id": "NX62uykYVBOm",
        "outputId": "ada86d21-695f-4311-fc46-cff52be48907"
      },
      "source": [
        "hist_xl_irony = XLNet_irony.fit(x=xl_irony_train_input, y=irony_dict_train.label, epochs=25, batch_size=16, validation_data=(xl_irony_val_input, irony_dict_val.label), callbacks=callbacks)"
      ],
      "execution_count": 24,
      "outputs": [
        {
          "output_type": "stream",
          "text": [
            "Epoch 1/25\n",
            "WARNING:tensorflow:The parameters `output_attentions`, `output_hidden_states` and `use_cache` cannot be updated when calling a model.They have to be set to True/False in the config object (i.e.: `config=XConfig.from_pretrained('name', output_attentions=True)`).\n",
            "WARNING:tensorflow:The parameter `return_dict` cannot be set in graph mode and will always be set to `True`.\n",
            "WARNING:tensorflow:Gradients do not exist for variables ['tfxl_net_model/transformer/mask_emb:0', 'tfxl_net_model/transformer/layer_._0/rel_attn/r_s_bias:0', 'tfxl_net_model/transformer/layer_._0/rel_attn/seg_embed:0', 'tfxl_net_model/transformer/layer_._1/rel_attn/r_s_bias:0', 'tfxl_net_model/transformer/layer_._1/rel_attn/seg_embed:0', 'tfxl_net_model/transformer/layer_._2/rel_attn/r_s_bias:0', 'tfxl_net_model/transformer/layer_._2/rel_attn/seg_embed:0', 'tfxl_net_model/transformer/layer_._3/rel_attn/r_s_bias:0', 'tfxl_net_model/transformer/layer_._3/rel_attn/seg_embed:0', 'tfxl_net_model/transformer/layer_._4/rel_attn/r_s_bias:0', 'tfxl_net_model/transformer/layer_._4/rel_attn/seg_embed:0', 'tfxl_net_model/transformer/layer_._5/rel_attn/r_s_bias:0', 'tfxl_net_model/transformer/layer_._5/rel_attn/seg_embed:0', 'tfxl_net_model/transformer/layer_._6/rel_attn/r_s_bias:0', 'tfxl_net_model/transformer/layer_._6/rel_attn/seg_embed:0', 'tfxl_net_model/transformer/layer_._7/rel_attn/r_s_bias:0', 'tfxl_net_model/transformer/layer_._7/rel_attn/seg_embed:0', 'tfxl_net_model/transformer/layer_._8/rel_attn/r_s_bias:0', 'tfxl_net_model/transformer/layer_._8/rel_attn/seg_embed:0', 'tfxl_net_model/transformer/layer_._9/rel_attn/r_s_bias:0', 'tfxl_net_model/transformer/layer_._9/rel_attn/seg_embed:0', 'tfxl_net_model/transformer/layer_._10/rel_attn/r_s_bias:0', 'tfxl_net_model/transformer/layer_._10/rel_attn/seg_embed:0', 'tfxl_net_model/transformer/layer_._11/rel_attn/r_s_bias:0', 'tfxl_net_model/transformer/layer_._11/rel_attn/seg_embed:0'] when minimizing the loss.\n",
            "WARNING:tensorflow:The parameters `output_attentions`, `output_hidden_states` and `use_cache` cannot be updated when calling a model.They have to be set to True/False in the config object (i.e.: `config=XConfig.from_pretrained('name', output_attentions=True)`).\n",
            "WARNING:tensorflow:The parameter `return_dict` cannot be set in graph mode and will always be set to `True`.\n",
            "WARNING:tensorflow:Gradients do not exist for variables ['tfxl_net_model/transformer/mask_emb:0', 'tfxl_net_model/transformer/layer_._0/rel_attn/r_s_bias:0', 'tfxl_net_model/transformer/layer_._0/rel_attn/seg_embed:0', 'tfxl_net_model/transformer/layer_._1/rel_attn/r_s_bias:0', 'tfxl_net_model/transformer/layer_._1/rel_attn/seg_embed:0', 'tfxl_net_model/transformer/layer_._2/rel_attn/r_s_bias:0', 'tfxl_net_model/transformer/layer_._2/rel_attn/seg_embed:0', 'tfxl_net_model/transformer/layer_._3/rel_attn/r_s_bias:0', 'tfxl_net_model/transformer/layer_._3/rel_attn/seg_embed:0', 'tfxl_net_model/transformer/layer_._4/rel_attn/r_s_bias:0', 'tfxl_net_model/transformer/layer_._4/rel_attn/seg_embed:0', 'tfxl_net_model/transformer/layer_._5/rel_attn/r_s_bias:0', 'tfxl_net_model/transformer/layer_._5/rel_attn/seg_embed:0', 'tfxl_net_model/transformer/layer_._6/rel_attn/r_s_bias:0', 'tfxl_net_model/transformer/layer_._6/rel_attn/seg_embed:0', 'tfxl_net_model/transformer/layer_._7/rel_attn/r_s_bias:0', 'tfxl_net_model/transformer/layer_._7/rel_attn/seg_embed:0', 'tfxl_net_model/transformer/layer_._8/rel_attn/r_s_bias:0', 'tfxl_net_model/transformer/layer_._8/rel_attn/seg_embed:0', 'tfxl_net_model/transformer/layer_._9/rel_attn/r_s_bias:0', 'tfxl_net_model/transformer/layer_._9/rel_attn/seg_embed:0', 'tfxl_net_model/transformer/layer_._10/rel_attn/r_s_bias:0', 'tfxl_net_model/transformer/layer_._10/rel_attn/seg_embed:0', 'tfxl_net_model/transformer/layer_._11/rel_attn/r_s_bias:0', 'tfxl_net_model/transformer/layer_._11/rel_attn/seg_embed:0'] when minimizing the loss.\n",
            "178/178 [==============================] - ETA: 0s - loss: 0.7411 - accuracy: 0.5170 - precision_4: 0.5139 - recall_4: 0.5242WARNING:tensorflow:The parameters `output_attentions`, `output_hidden_states` and `use_cache` cannot be updated when calling a model.They have to be set to True/False in the config object (i.e.: `config=XConfig.from_pretrained('name', output_attentions=True)`).\n",
            "WARNING:tensorflow:The parameter `return_dict` cannot be set in graph mode and will always be set to `True`.\n",
            "178/178 [==============================] - 72s 340ms/step - loss: 0.7409 - accuracy: 0.5170 - precision_4: 0.5140 - recall_4: 0.5243 - val_loss: 0.6917 - val_accuracy: 0.5372 - val_precision_4: 0.5086 - val_recall_4: 0.9079\n",
            "Epoch 2/25\n",
            "178/178 [==============================] - 58s 329ms/step - loss: 0.6438 - accuracy: 0.6334 - precision_4: 0.6111 - recall_4: 0.7233 - val_loss: 0.6879 - val_accuracy: 0.6094 - val_precision_4: 0.5636 - val_recall_4: 0.8070\n",
            "Epoch 3/25\n",
            "178/178 [==============================] - 58s 329ms/step - loss: 0.5110 - accuracy: 0.7630 - precision_4: 0.7767 - recall_4: 0.7388 - val_loss: 0.8371 - val_accuracy: 0.5948 - val_precision_4: 0.5483 - val_recall_4: 0.8596\n",
            "Epoch 4/25\n",
            "178/178 [==============================] - 58s 328ms/step - loss: 0.3959 - accuracy: 0.8419 - precision_4: 0.8488 - recall_4: 0.8177 - val_loss: 0.8201 - val_accuracy: 0.6482 - val_precision_4: 0.6091 - val_recall_4: 0.7346\n",
            "Epoch 5/25\n",
            "178/178 [==============================] - 58s 328ms/step - loss: 0.1884 - accuracy: 0.9339 - precision_4: 0.9382 - recall_4: 0.9240 - val_loss: 0.9393 - val_accuracy: 0.6450 - val_precision_4: 0.6073 - val_recall_4: 0.7259\n",
            "Epoch 6/25\n",
            "178/178 [==============================] - 58s 329ms/step - loss: 0.1460 - accuracy: 0.9549 - precision_4: 0.9582 - recall_4: 0.9515 - val_loss: 1.3653 - val_accuracy: 0.6398 - val_precision_4: 0.5851 - val_recall_4: 0.8443\n",
            "Epoch 7/25\n",
            "178/178 [==============================] - 58s 329ms/step - loss: 0.0729 - accuracy: 0.9758 - precision_4: 0.9726 - recall_4: 0.9799 - val_loss: 1.6795 - val_accuracy: 0.6597 - val_precision_4: 0.6272 - val_recall_4: 0.7083\n",
            "Epoch 8/25\n",
            "178/178 [==============================] - 58s 329ms/step - loss: 0.0622 - accuracy: 0.9817 - precision_4: 0.9860 - recall_4: 0.9774 - val_loss: 2.1929 - val_accuracy: 0.6618 - val_precision_4: 0.6475 - val_recall_4: 0.6404\n",
            "Epoch 9/25\n",
            "178/178 [==============================] - 58s 329ms/step - loss: 0.0488 - accuracy: 0.9822 - precision_4: 0.9881 - recall_4: 0.9760 - val_loss: 2.7600 - val_accuracy: 0.6565 - val_precision_4: 0.6074 - val_recall_4: 0.7939\n",
            "Epoch 10/25\n",
            "178/178 [==============================] - 58s 329ms/step - loss: 0.0300 - accuracy: 0.9900 - precision_4: 0.9907 - recall_4: 0.9889 - val_loss: 2.0699 - val_accuracy: 0.6513 - val_precision_4: 0.6208 - val_recall_4: 0.6930\n",
            "Epoch 11/25\n",
            "178/178 [==============================] - 58s 328ms/step - loss: 0.0388 - accuracy: 0.9895 - precision_4: 0.9894 - recall_4: 0.9895 - val_loss: 2.0903 - val_accuracy: 0.6576 - val_precision_4: 0.6158 - val_recall_4: 0.7522\n",
            "Epoch 12/25\n",
            "178/178 [==============================] - 58s 329ms/step - loss: 0.0225 - accuracy: 0.9932 - precision_4: 0.9933 - recall_4: 0.9928 - val_loss: 2.1317 - val_accuracy: 0.6524 - val_precision_4: 0.6202 - val_recall_4: 0.7018\n",
            "Epoch 13/25\n",
            "178/178 [==============================] - 59s 329ms/step - loss: 0.0331 - accuracy: 0.9875 - precision_4: 0.9909 - recall_4: 0.9838 - val_loss: 2.2266 - val_accuracy: 0.6450 - val_precision_4: 0.6010 - val_recall_4: 0.7632\n",
            "Epoch 14/25\n",
            "178/178 [==============================] - 58s 329ms/step - loss: 0.0224 - accuracy: 0.9920 - precision_4: 0.9973 - recall_4: 0.9867 - val_loss: 2.1767 - val_accuracy: 0.6586 - val_precision_4: 0.6305 - val_recall_4: 0.6886\n",
            "Epoch 15/25\n",
            "178/178 [==============================] - 58s 329ms/step - loss: 0.0203 - accuracy: 0.9935 - precision_4: 0.9957 - recall_4: 0.9915 - val_loss: 2.7687 - val_accuracy: 0.6628 - val_precision_4: 0.6304 - val_recall_4: 0.7105\n",
            "Epoch 16/25\n",
            "178/178 [==============================] - 58s 328ms/step - loss: 0.0147 - accuracy: 0.9954 - precision_4: 0.9950 - recall_4: 0.9958 - val_loss: 3.2420 - val_accuracy: 0.6492 - val_precision_4: 0.5971 - val_recall_4: 0.8158\n",
            "Epoch 17/25\n",
            "178/178 [==============================] - 58s 329ms/step - loss: 0.0151 - accuracy: 0.9948 - precision_4: 0.9955 - recall_4: 0.9946 - val_loss: 2.6371 - val_accuracy: 0.6628 - val_precision_4: 0.6264 - val_recall_4: 0.7281\n",
            "Epoch 18/25\n",
            "178/178 [==============================] - 58s 328ms/step - loss: 0.0185 - accuracy: 0.9938 - precision_4: 0.9959 - recall_4: 0.9918 - val_loss: 1.8876 - val_accuracy: 0.6607 - val_precision_4: 0.6183 - val_recall_4: 0.7566\n",
            "Epoch 19/25\n",
            "178/178 [==============================] - 58s 329ms/step - loss: 0.0244 - accuracy: 0.9922 - precision_4: 0.9935 - recall_4: 0.9909 - val_loss: 2.9406 - val_accuracy: 0.6387 - val_precision_4: 0.5939 - val_recall_4: 0.7697\n",
            "Epoch 20/25\n",
            "178/178 [==============================] - 58s 329ms/step - loss: 0.0132 - accuracy: 0.9947 - precision_4: 0.9970 - recall_4: 0.9927 - val_loss: 3.8316 - val_accuracy: 0.6429 - val_precision_4: 0.5990 - val_recall_4: 0.7632\n",
            "Epoch 21/25\n",
            "178/178 [==============================] - 58s 328ms/step - loss: 0.0199 - accuracy: 0.9945 - precision_4: 0.9953 - recall_4: 0.9939 - val_loss: 4.1667 - val_accuracy: 0.5885 - val_precision_4: 0.5423 - val_recall_4: 0.8860\n",
            "Epoch 22/25\n",
            "178/178 [==============================] - 58s 329ms/step - loss: 0.0472 - accuracy: 0.9862 - precision_4: 0.9872 - recall_4: 0.9847 - val_loss: 4.4047 - val_accuracy: 0.6377 - val_precision_4: 0.5911 - val_recall_4: 0.7829\n",
            "Epoch 23/25\n",
            "178/178 [==============================] - 58s 328ms/step - loss: 0.0074 - accuracy: 0.9984 - precision_4: 0.9986 - recall_4: 0.9982 - val_loss: 4.8666 - val_accuracy: 0.6513 - val_precision_4: 0.6077 - val_recall_4: 0.7610\n",
            "Epoch 24/25\n",
            "178/178 [==============================] - 58s 329ms/step - loss: 0.0259 - accuracy: 0.9951 - precision_4: 0.9972 - recall_4: 0.9931 - val_loss: 2.6459 - val_accuracy: 0.6450 - val_precision_4: 0.6000 - val_recall_4: 0.7697\n",
            "Epoch 25/25\n",
            "178/178 [==============================] - 58s 329ms/step - loss: 0.0111 - accuracy: 0.9973 - precision_4: 0.9981 - recall_4: 0.9963 - val_loss: 3.4346 - val_accuracy: 0.6618 - val_precision_4: 0.6238 - val_recall_4: 0.7346\n"
          ],
          "name": "stdout"
        }
      ]
    },
    {
      "cell_type": "code",
      "metadata": {
        "colab": {
          "base_uri": "https://localhost:8080/"
        },
        "id": "HZ5yCM_8VFrn",
        "outputId": "920c3492-5639-4dc2-b8f0-fb403b4d75fd"
      },
      "source": [
        "preds_xl_irony = XLNet_irony.predict(xl_irony_test_input, verbose=True)"
      ],
      "execution_count": 25,
      "outputs": [
        {
          "output_type": "stream",
          "text": [
            "WARNING:tensorflow:The parameters `output_attentions`, `output_hidden_states` and `use_cache` cannot be updated when calling a model.They have to be set to True/False in the config object (i.e.: `config=XConfig.from_pretrained('name', output_attentions=True)`).\n",
            "WARNING:tensorflow:The parameter `return_dict` cannot be set in graph mode and will always be set to `True`.\n",
            "25/25 [==============================] - 6s 182ms/step\n"
          ],
          "name": "stdout"
        }
      ]
    },
    {
      "cell_type": "code",
      "metadata": {
        "colab": {
          "base_uri": "https://localhost:8080/",
          "height": 485
        },
        "id": "j08QJgf3VIh_",
        "outputId": "e017d077-40c0-4cb1-c39c-1c8a1e589a4d"
      },
      "source": [
        "irony_pred_xl_label = [i[0] for i in preds_xl_irony.round().astype(int)]\n",
        "cm = confusion_matrix(irony_dict_test.label,irony_pred_xl_label)\n",
        "f1_xl_irony = f1_score(irony_dict_test.label,irony_pred_xl_label,average='macro')\n",
        "print(\"F1_score of irony dataset with DistilBert is: %.1f%%\" % round(f1_xl_irony * 100,1))\n",
        "plot_confusion_matrix(cm, normalize=False,target_names=['Not_irony', 'Irony'],title=\"Confusion Matrix for Irony\")"
      ],
      "execution_count": 26,
      "outputs": [
        {
          "output_type": "stream",
          "text": [
            "F1_score of irony dataset with DistilBert is: 62.6%\n"
          ],
          "name": "stdout"
        },
        {
          "output_type": "display_data",
          "data": {
            "image/png": "[encoded data removed]",
            "text/plain": [
              "<Figure size 576x432 with 2 Axes>"
            ]
          },
          "metadata": {
            "tags": [],
            "needs_background": "light"
          }
        }
      ]
    },
    {
      "cell_type": "code",
      "metadata": {
        "colab": {
          "base_uri": "https://localhost:8080/"
        },
        "id": "CxFjQUmYVaqt",
        "outputId": "d9f80135-fbbb-4fcd-9817-04f1424b7749"
      },
      "source": [
        "XLNet_offensive = create_model(xlnet_model)"
      ],
      "execution_count": 27,
      "outputs": [
        {
          "output_type": "stream",
          "text": [
            "WARNING:tensorflow:The parameters `output_attentions`, `output_hidden_states` and `use_cache` cannot be updated when calling a model.They have to be set to True/False in the config object (i.e.: `config=XConfig.from_pretrained('name', output_attentions=True)`).\n",
            "WARNING:tensorflow:The parameter `return_dict` cannot be set in graph mode and will always be set to `True`.\n"
          ],
          "name": "stdout"
        }
      ]
    },
    {
      "cell_type": "code",
      "metadata": {
        "colab": {
          "base_uri": "https://localhost:8080/"
        },
        "id": "ThdUia-5VamC",
        "outputId": "4f3fe319-9c13-4b17-f887-a11e47be8004"
      },
      "source": [
        "hist_xl_offensive = XLNet_offensive.fit(x=xl_offensive_train_input, y=offensive_dict_train.label, epochs=25, batch_size=16, validation_data=(xl_offensive_val_input, offensive_dict_val.label), callbacks=callbacks)"
      ],
      "execution_count": 28,
      "outputs": [
        {
          "output_type": "stream",
          "text": [
            "Epoch 1/25\n",
            "WARNING:tensorflow:The parameters `output_attentions`, `output_hidden_states` and `use_cache` cannot be updated when calling a model.They have to be set to True/False in the config object (i.e.: `config=XConfig.from_pretrained('name', output_attentions=True)`).\n",
            "WARNING:tensorflow:The parameter `return_dict` cannot be set in graph mode and will always be set to `True`.\n",
            "WARNING:tensorflow:Gradients do not exist for variables ['tfxl_net_model/transformer/mask_emb:0', 'tfxl_net_model/transformer/layer_._0/rel_attn/r_s_bias:0', 'tfxl_net_model/transformer/layer_._0/rel_attn/seg_embed:0', 'tfxl_net_model/transformer/layer_._1/rel_attn/r_s_bias:0', 'tfxl_net_model/transformer/layer_._1/rel_attn/seg_embed:0', 'tfxl_net_model/transformer/layer_._2/rel_attn/r_s_bias:0', 'tfxl_net_model/transformer/layer_._2/rel_attn/seg_embed:0', 'tfxl_net_model/transformer/layer_._3/rel_attn/r_s_bias:0', 'tfxl_net_model/transformer/layer_._3/rel_attn/seg_embed:0', 'tfxl_net_model/transformer/layer_._4/rel_attn/r_s_bias:0', 'tfxl_net_model/transformer/layer_._4/rel_attn/seg_embed:0', 'tfxl_net_model/transformer/layer_._5/rel_attn/r_s_bias:0', 'tfxl_net_model/transformer/layer_._5/rel_attn/seg_embed:0', 'tfxl_net_model/transformer/layer_._6/rel_attn/r_s_bias:0', 'tfxl_net_model/transformer/layer_._6/rel_attn/seg_embed:0', 'tfxl_net_model/transformer/layer_._7/rel_attn/r_s_bias:0', 'tfxl_net_model/transformer/layer_._7/rel_attn/seg_embed:0', 'tfxl_net_model/transformer/layer_._8/rel_attn/r_s_bias:0', 'tfxl_net_model/transformer/layer_._8/rel_attn/seg_embed:0', 'tfxl_net_model/transformer/layer_._9/rel_attn/r_s_bias:0', 'tfxl_net_model/transformer/layer_._9/rel_attn/seg_embed:0', 'tfxl_net_model/transformer/layer_._10/rel_attn/r_s_bias:0', 'tfxl_net_model/transformer/layer_._10/rel_attn/seg_embed:0', 'tfxl_net_model/transformer/layer_._11/rel_attn/r_s_bias:0', 'tfxl_net_model/transformer/layer_._11/rel_attn/seg_embed:0'] when minimizing the loss.\n",
            "WARNING:tensorflow:The parameters `output_attentions`, `output_hidden_states` and `use_cache` cannot be updated when calling a model.They have to be set to True/False in the config object (i.e.: `config=XConfig.from_pretrained('name', output_attentions=True)`).\n",
            "WARNING:tensorflow:The parameter `return_dict` cannot be set in graph mode and will always be set to `True`.\n",
            "WARNING:tensorflow:Gradients do not exist for variables ['tfxl_net_model/transformer/mask_emb:0', 'tfxl_net_model/transformer/layer_._0/rel_attn/r_s_bias:0', 'tfxl_net_model/transformer/layer_._0/rel_attn/seg_embed:0', 'tfxl_net_model/transformer/layer_._1/rel_attn/r_s_bias:0', 'tfxl_net_model/transformer/layer_._1/rel_attn/seg_embed:0', 'tfxl_net_model/transformer/layer_._2/rel_attn/r_s_bias:0', 'tfxl_net_model/transformer/layer_._2/rel_attn/seg_embed:0', 'tfxl_net_model/transformer/layer_._3/rel_attn/r_s_bias:0', 'tfxl_net_model/transformer/layer_._3/rel_attn/seg_embed:0', 'tfxl_net_model/transformer/layer_._4/rel_attn/r_s_bias:0', 'tfxl_net_model/transformer/layer_._4/rel_attn/seg_embed:0', 'tfxl_net_model/transformer/layer_._5/rel_attn/r_s_bias:0', 'tfxl_net_model/transformer/layer_._5/rel_attn/seg_embed:0', 'tfxl_net_model/transformer/layer_._6/rel_attn/r_s_bias:0', 'tfxl_net_model/transformer/layer_._6/rel_attn/seg_embed:0', 'tfxl_net_model/transformer/layer_._7/rel_attn/r_s_bias:0', 'tfxl_net_model/transformer/layer_._7/rel_attn/seg_embed:0', 'tfxl_net_model/transformer/layer_._8/rel_attn/r_s_bias:0', 'tfxl_net_model/transformer/layer_._8/rel_attn/seg_embed:0', 'tfxl_net_model/transformer/layer_._9/rel_attn/r_s_bias:0', 'tfxl_net_model/transformer/layer_._9/rel_attn/seg_embed:0', 'tfxl_net_model/transformer/layer_._10/rel_attn/r_s_bias:0', 'tfxl_net_model/transformer/layer_._10/rel_attn/seg_embed:0', 'tfxl_net_model/transformer/layer_._11/rel_attn/r_s_bias:0', 'tfxl_net_model/transformer/layer_._11/rel_attn/seg_embed:0'] when minimizing the loss.\n",
            "493/493 [==============================] - ETA: 0s - loss: 0.6909 - accuracy: 0.5931 - precision_5: 0.5913 - recall_5: 0.6192WARNING:tensorflow:The parameters `output_attentions`, `output_hidden_states` and `use_cache` cannot be updated when calling a model.They have to be set to True/False in the config object (i.e.: `config=XConfig.from_pretrained('name', output_attentions=True)`).\n",
            "WARNING:tensorflow:The parameter `return_dict` cannot be set in graph mode and will always be set to `True`.\n",
            "493/493 [==============================] - 169s 318ms/step - loss: 0.6907 - accuracy: 0.5932 - precision_5: 0.5914 - recall_5: 0.6193 - val_loss: 0.5016 - val_accuracy: 0.7779 - val_precision_5: 0.6846 - val_recall_5: 0.6667\n",
            "Epoch 2/25\n",
            "493/493 [==============================] - 154s 313ms/step - loss: 0.4643 - accuracy: 0.7977 - precision_5: 0.8039 - recall_5: 0.7886 - val_loss: 0.5337 - val_accuracy: 0.7560 - val_precision_5: 0.6076 - val_recall_5: 0.8366\n",
            "Epoch 3/25\n",
            "493/493 [==============================] - 154s 313ms/step - loss: 0.3464 - accuracy: 0.8578 - precision_5: 0.8639 - recall_5: 0.8503 - val_loss: 0.5947 - val_accuracy: 0.7273 - val_precision_5: 0.5740 - val_recall_5: 0.8279\n",
            "Epoch 4/25\n",
            "493/493 [==============================] - 154s 313ms/step - loss: 0.2142 - accuracy: 0.9218 - precision_5: 0.9201 - recall_5: 0.9264 - val_loss: 0.7180 - val_accuracy: 0.7409 - val_precision_5: 0.5980 - val_recall_5: 0.7712\n",
            "Epoch 5/25\n",
            "493/493 [==============================] - 154s 313ms/step - loss: 0.1405 - accuracy: 0.9518 - precision_5: 0.9575 - recall_5: 0.9445 - val_loss: 1.1116 - val_accuracy: 0.7198 - val_precision_5: 0.5724 - val_recall_5: 0.7582\n",
            "Epoch 6/25\n",
            "493/493 [==============================] - 154s 313ms/step - loss: 0.0965 - accuracy: 0.9678 - precision_5: 0.9690 - recall_5: 0.9664 - val_loss: 1.0228 - val_accuracy: 0.7092 - val_precision_5: 0.5585 - val_recall_5: 0.7691\n",
            "Epoch 7/25\n",
            "493/493 [==============================] - 154s 313ms/step - loss: 0.0714 - accuracy: 0.9769 - precision_5: 0.9753 - recall_5: 0.9780 - val_loss: 1.1332 - val_accuracy: 0.7205 - val_precision_5: 0.5719 - val_recall_5: 0.7712\n",
            "Epoch 8/25\n",
            "493/493 [==============================] - 154s 313ms/step - loss: 0.0532 - accuracy: 0.9822 - precision_5: 0.9856 - recall_5: 0.9788 - val_loss: 1.2510 - val_accuracy: 0.7492 - val_precision_5: 0.6128 - val_recall_5: 0.7516\n",
            "Epoch 9/25\n",
            "493/493 [==============================] - 154s 313ms/step - loss: 0.0563 - accuracy: 0.9795 - precision_5: 0.9791 - recall_5: 0.9794 - val_loss: 1.6063 - val_accuracy: 0.7221 - val_precision_5: 0.5735 - val_recall_5: 0.7734\n",
            "Epoch 10/25\n",
            "493/493 [==============================] - 154s 313ms/step - loss: 0.0309 - accuracy: 0.9904 - precision_5: 0.9878 - recall_5: 0.9932 - val_loss: 1.6825 - val_accuracy: 0.7485 - val_precision_5: 0.6141 - val_recall_5: 0.7386\n",
            "Epoch 11/25\n",
            "493/493 [==============================] - 154s 313ms/step - loss: 0.0331 - accuracy: 0.9888 - precision_5: 0.9891 - recall_5: 0.9886 - val_loss: 1.8711 - val_accuracy: 0.7319 - val_precision_5: 0.5867 - val_recall_5: 0.7669\n",
            "Epoch 12/25\n",
            "493/493 [==============================] - 154s 313ms/step - loss: 0.0346 - accuracy: 0.9911 - precision_5: 0.9914 - recall_5: 0.9911 - val_loss: 2.2682 - val_accuracy: 0.7304 - val_precision_5: 0.5833 - val_recall_5: 0.7778\n",
            "Epoch 13/25\n",
            "493/493 [==============================] - 154s 313ms/step - loss: 0.0323 - accuracy: 0.9902 - precision_5: 0.9903 - recall_5: 0.9902 - val_loss: 1.3014 - val_accuracy: 0.7273 - val_precision_5: 0.5878 - val_recall_5: 0.7146\n",
            "Epoch 14/25\n",
            "493/493 [==============================] - 154s 313ms/step - loss: 0.0246 - accuracy: 0.9918 - precision_5: 0.9920 - recall_5: 0.9920 - val_loss: 1.4046 - val_accuracy: 0.7183 - val_precision_5: 0.5648 - val_recall_5: 0.8170\n",
            "Epoch 15/25\n",
            "493/493 [==============================] - 154s 313ms/step - loss: 0.0366 - accuracy: 0.9893 - precision_5: 0.9901 - recall_5: 0.9885 - val_loss: 1.8239 - val_accuracy: 0.7409 - val_precision_5: 0.5954 - val_recall_5: 0.7887\n",
            "Epoch 16/25\n",
            "493/493 [==============================] - 154s 313ms/step - loss: 0.0275 - accuracy: 0.9916 - precision_5: 0.9937 - recall_5: 0.9894 - val_loss: 2.7023 - val_accuracy: 0.7160 - val_precision_5: 0.5606 - val_recall_5: 0.8366\n",
            "Epoch 17/25\n",
            "493/493 [==============================] - 154s 313ms/step - loss: 0.0367 - accuracy: 0.9882 - precision_5: 0.9892 - recall_5: 0.9867 - val_loss: 1.7592 - val_accuracy: 0.7205 - val_precision_5: 0.5726 - val_recall_5: 0.7647\n",
            "Epoch 18/25\n",
            "493/493 [==============================] - 154s 313ms/step - loss: 0.0244 - accuracy: 0.9911 - precision_5: 0.9925 - recall_5: 0.9895 - val_loss: 2.3077 - val_accuracy: 0.7447 - val_precision_5: 0.6056 - val_recall_5: 0.7560\n",
            "Epoch 19/25\n",
            "493/493 [==============================] - 154s 313ms/step - loss: 0.0302 - accuracy: 0.9920 - precision_5: 0.9937 - recall_5: 0.9906 - val_loss: 1.6535 - val_accuracy: 0.7424 - val_precision_5: 0.5961 - val_recall_5: 0.7974\n",
            "Epoch 20/25\n",
            "493/493 [==============================] - 154s 313ms/step - loss: 0.0205 - accuracy: 0.9938 - precision_5: 0.9927 - recall_5: 0.9952 - val_loss: 1.8996 - val_accuracy: 0.7100 - val_precision_5: 0.5549 - val_recall_5: 0.8257\n",
            "Epoch 21/25\n",
            "493/493 [==============================] - 154s 313ms/step - loss: 0.0171 - accuracy: 0.9953 - precision_5: 0.9961 - recall_5: 0.9943 - val_loss: 1.3866 - val_accuracy: 0.7447 - val_precision_5: 0.6067 - val_recall_5: 0.7495\n",
            "Epoch 22/25\n",
            "493/493 [==============================] - 154s 313ms/step - loss: 0.0215 - accuracy: 0.9938 - precision_5: 0.9944 - recall_5: 0.9932 - val_loss: 1.8010 - val_accuracy: 0.7085 - val_precision_5: 0.5539 - val_recall_5: 0.8170\n",
            "Epoch 23/25\n",
            "493/493 [==============================] - 154s 313ms/step - loss: 0.0218 - accuracy: 0.9931 - precision_5: 0.9934 - recall_5: 0.9927 - val_loss: 2.0239 - val_accuracy: 0.7379 - val_precision_5: 0.5936 - val_recall_5: 0.7734\n",
            "Epoch 24/25\n",
            "493/493 [==============================] - 154s 313ms/step - loss: 0.0175 - accuracy: 0.9938 - precision_5: 0.9921 - recall_5: 0.9956 - val_loss: 1.6451 - val_accuracy: 0.7508 - val_precision_5: 0.6179 - val_recall_5: 0.7364\n",
            "Epoch 25/25\n",
            "493/493 [==============================] - 154s 313ms/step - loss: 0.0117 - accuracy: 0.9963 - precision_5: 0.9969 - recall_5: 0.9956 - val_loss: 2.3201 - val_accuracy: 0.7500 - val_precision_5: 0.6301 - val_recall_5: 0.6754\n"
          ],
          "name": "stdout"
        }
      ]
    },
    {
      "cell_type": "code",
      "metadata": {
        "colab": {
          "base_uri": "https://localhost:8080/"
        },
        "id": "chZqFuDKVhxC",
        "outputId": "ca892c1d-151b-4ea1-d188-7213e1dfa027"
      },
      "source": [
        "preds_xl_offensive = XLNet_offensive.predict(xl_offensive_test_input, verbose=True)"
      ],
      "execution_count": 29,
      "outputs": [
        {
          "output_type": "stream",
          "text": [
            "WARNING:tensorflow:The parameters `output_attentions`, `output_hidden_states` and `use_cache` cannot be updated when calling a model.They have to be set to True/False in the config object (i.e.: `config=XConfig.from_pretrained('name', output_attentions=True)`).\n",
            "WARNING:tensorflow:The parameter `return_dict` cannot be set in graph mode and will always be set to `True`.\n",
            "27/27 [==============================] - 7s 185ms/step\n"
          ],
          "name": "stdout"
        }
      ]
    },
    {
      "cell_type": "code",
      "metadata": {
        "colab": {
          "base_uri": "https://localhost:8080/",
          "height": 485
        },
        "id": "dA_awMECVtVk",
        "outputId": "0f3d8321-e547-47dc-fa9e-0395716fd873"
      },
      "source": [
        "offensive_pred_xl_label = [i[0] for i in preds_xl_offensive.round().astype(int)]\n",
        "cm = confusion_matrix(offensive_dict_test.label,offensive_pred_xl_label)\n",
        "f1_xl_offensive = f1_score(offensive_dict_test.label,offensive_pred_xl_label,average='macro')\n",
        "print(\"F1_score of offensive dataset with XLNET is: %.1f%%\" % round(f1_xl_offensive * 100,1))\n",
        "plot_confusion_matrix(cm, normalize=False,target_names=['Not_offensive', 'Offensive'],title=\"Confusion Matrix for Offensive\")"
      ],
      "execution_count": 30,
      "outputs": [
        {
          "output_type": "stream",
          "text": [
            "F1_score of offensive dataset with DistilBert is: 75.9%\n"
          ],
          "name": "stdout"
        },
        {
          "output_type": "display_data",
          "data": {
            "image/png": "[encoded data removed]",
            "text/plain": [
              "<Figure size 576x432 with 2 Axes>"
            ]
          },
          "metadata": {
            "tags": [],
            "needs_background": "light"
          }
        }
      ]
    },
    {
      "cell_type": "code",
      "metadata": {
        "id": "EIOkwZ1Il15o",
        "outputId": "0bca10c9-4eac-4756-faed-6a8a28c01af8",
        "colab": {
          "base_uri": "https://localhost:8080/",
          "height": 297
        }
      },
      "source": [
        "f1_score_bar(f1_dl_hate,f1_dl_irony,f1_dl_offensive,f1_xl_hate,f1_xl_irony,f1_xl_offensive)    "
      ],
      "execution_count": 33,
      "outputs": [
        {
          "output_type": "display_data",
          "data": {
            "image/png": "[encoded data removed]",
            "text/plain": [
              "<Figure size 432x288 with 1 Axes>"
            ]
          },
          "metadata": {
            "tags": [],
            "needs_background": "light"
          }
        }
      ]
    },
    {
      "cell_type": "code",
      "metadata": {
        "id": "E8syuZOtpKVM",
        "outputId": "bbc185f8-aa0f-4209-d534-9a71ce1caa4d",
        "colab": {
          "base_uri": "https://localhost:8080/",
          "height": 361
        }
      },
      "source": [
        "def auc_plot_metrics(hate_pred_dl,hate_pred_xl,hate_true_labels,irony_pred_dl,irony_pred_xl,irony_true_labels,offensive_pred_dl,offensive_pred_xl,offensive_true_labels):\n",
        "    \"\"\"Plots a ROC curve with the accuracy and the AUC\"\"\"\n",
        "    fpr, tpr, thresholds = roc_curve(hate_true_labels, hate_pred_dl)\n",
        "    fpr2, tpr2, thresholds2 = roc_curve(hate_true_labels, hate_pred_xl)\n",
        "    auc_dl_hate = roc_auc_score(hate_true_labels, hate_pred_dl)\n",
        "    auc_xl_hate = roc_auc_score(hate_true_labels, hate_pred_xl)\n",
        "\n",
        "    fpr3, tpr3, thresholds3 = roc_curve(irony_true_labels, irony_pred_dl)\n",
        "    fpr4, tpr4, thresholds4 = roc_curve(irony_true_labels, irony_pred_xl)\n",
        "    auc_dl_irony = roc_auc_score(irony_true_labels, irony_pred_dl)\n",
        "    auc_xl_irony = roc_auc_score(irony_true_labels, irony_pred_xl)\n",
        "\n",
        "    fpr5, tpr5, thresholds5 = roc_curve(offensive_true_labels, offensive_pred_dl)\n",
        "    fpr6, tpr6, thresholds6 = roc_curve(offensive_true_labels, offensive_pred_xl)\n",
        "    auc_dl_offensive = roc_auc_score(offensive_true_labels, offensive_pred_dl)\n",
        "    auc_xl_offensive = roc_auc_score(offensive_true_labels, offensive_pred_xl)\n",
        "\n",
        "    fig, ax = plt.subplots(1,3)\n",
        "    fig.set_figheight(5)\n",
        "    fig.set_figwidth(18)\n",
        "\n",
        "    ax[0].plot(fpr, tpr, color='red',label='DistilBert')\n",
        "    ax[0].plot(fpr2, tpr2, color='blue',label='XLNet')\n",
        "    ax[0].legend()\n",
        "    ax[0].plot([0,1], [0,1], color='black', linestyle='--')\n",
        "    ax[0].set_title(f\"Hate ROC Cruve & AUC\");\n",
        "    ax[0].set_xlabel(f\"DistilBert AUC: {auc_dl_hate}\\n XLNet AUC: {auc_xl_hate}\")\n",
        "\n",
        "    ax[1].plot(fpr3, tpr3, color='red',label='DistilBert')\n",
        "    ax[1].plot(fpr4, tpr4, color='blue',label='XLNet')\n",
        "    ax[1].legend()\n",
        "    ax[1].plot([0,1], [0,1], color='black', linestyle='--')\n",
        "    ax[1].set_title(f\"Irony ROC Cruve & AUC\");\n",
        "    ax[1].set_xlabel(f\"DistilBert AUC: {auc_dl_irony}\\n XLNet AUC: {auc_xl_irony}\")\n",
        "\n",
        "    ax[2].plot(fpr5, tpr5, color='red',label='DistilBert')\n",
        "    ax[2].plot(fpr6, tpr6, color='blue',label='XLNet')\n",
        "    ax[2].legend()\n",
        "    ax[2].plot([0,1], [0,1], color='black', linestyle='--')\n",
        "    ax[2].set_title(f\"Irony ROC Cruve & AUC\");\n",
        "    ax[2].set_xlabel(f\"DistilBert AUC: {auc_dl_offensive}\\n XLNet AUC: {auc_xl_offensive}\")\n",
        "\n",
        "auc_plot_metrics(preds_dl_hate, preds_xl_hate, hate_dict_test.label,\n",
        "         preds_dl_irony, preds_xl_irony, irony_dict_test.label,\n",
        "         preds_dl_offensive, preds_xl_offensive, offensive_dict_test.label)"
      ],
      "execution_count": 84,
      "outputs": [
        {
          "output_type": "display_data",
          "data": {
            "image/png": "[encoded data removed]",
            "text/plain": [
              "<Figure size 1296x360 with 3 Axes>"
            ]
          },
          "metadata": {
            "tags": [],
            "needs_background": "light"
          }
        }
      ]
    }
  ]
}