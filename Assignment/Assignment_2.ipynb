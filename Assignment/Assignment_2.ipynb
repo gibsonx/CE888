{
  "nbformat": 4,
  "nbformat_minor": 0,
  "metadata": {
    "colab": {
      "name": "Assignment_2.ipynb",
      "provenance": [],
      "collapsed_sections": [],
      "toc_visible": true,
      "machine_shape": "hm",
      "include_colab_link": true
    },
    "kernelspec": {
      "name": "python3",
      "display_name": "Python 3"
    },
    "accelerator": "GPU",
    "widgets": {
      "application/vnd.jupyter.widget-state+json": {
        "b512d29729c24de0acc3ae4e0a664a89": {
          "model_module": "@jupyter-widgets/controls",
          "model_name": "HBoxModel",
          "state": {
            "_view_name": "HBoxView",
            "_dom_classes": [],
            "_model_name": "HBoxModel",
            "_view_module": "@jupyter-widgets/controls",
            "_model_module_version": "1.5.0",
            "_view_count": null,
            "_view_module_version": "1.5.0",
            "box_style": "",
            "layout": "IPY_MODEL_c2793f6af98042d2ab1a76cf8ece1b08",
            "_model_module": "@jupyter-widgets/controls",
            "children": [
              "IPY_MODEL_f5f55ed5ac8c4ae09e7d3d548cf7181d",
              "IPY_MODEL_3b8b2f611b3c4ae19909b0854ca5c922"
            ]
          }
        },
        "c2793f6af98042d2ab1a76cf8ece1b08": {
          "model_module": "@jupyter-widgets/base",
          "model_name": "LayoutModel",
          "state": {
            "_view_name": "LayoutView",
            "grid_template_rows": null,
            "right": null,
            "justify_content": null,
            "_view_module": "@jupyter-widgets/base",
            "overflow": null,
            "_model_module_version": "1.2.0",
            "_view_count": null,
            "flex_flow": null,
            "width": null,
            "min_width": null,
            "border": null,
            "align_items": null,
            "bottom": null,
            "_model_module": "@jupyter-widgets/base",
            "top": null,
            "grid_column": null,
            "overflow_y": null,
            "overflow_x": null,
            "grid_auto_flow": null,
            "grid_area": null,
            "grid_template_columns": null,
            "flex": null,
            "_model_name": "LayoutModel",
            "justify_items": null,
            "grid_row": null,
            "max_height": null,
            "align_content": null,
            "visibility": null,
            "align_self": null,
            "height": null,
            "min_height": null,
            "padding": null,
            "grid_auto_rows": null,
            "grid_gap": null,
            "max_width": null,
            "order": null,
            "_view_module_version": "1.2.0",
            "grid_template_areas": null,
            "object_position": null,
            "object_fit": null,
            "grid_auto_columns": null,
            "margin": null,
            "display": null,
            "left": null
          }
        },
        "f5f55ed5ac8c4ae09e7d3d548cf7181d": {
          "model_module": "@jupyter-widgets/controls",
          "model_name": "FloatProgressModel",
          "state": {
            "_view_name": "ProgressView",
            "style": "IPY_MODEL_729f0bb4966c4de0b1021820a3d636c8",
            "_dom_classes": [],
            "description": "Downloading: 100%",
            "_model_name": "FloatProgressModel",
            "bar_style": "success",
            "max": 798011,
            "_view_module": "@jupyter-widgets/controls",
            "_model_module_version": "1.5.0",
            "value": 798011,
            "_view_count": null,
            "_view_module_version": "1.5.0",
            "orientation": "horizontal",
            "min": 0,
            "description_tooltip": null,
            "_model_module": "@jupyter-widgets/controls",
            "layout": "IPY_MODEL_ab2e3c93c96a49ae9785f27ee1c9bcb1"
          }
        },
        "3b8b2f611b3c4ae19909b0854ca5c922": {
          "model_module": "@jupyter-widgets/controls",
          "model_name": "HTMLModel",
          "state": {
            "_view_name": "HTMLView",
            "style": "IPY_MODEL_9520e10c9498467c9265c8a781a8437d",
            "_dom_classes": [],
            "description": "",
            "_model_name": "HTMLModel",
            "placeholder": "​",
            "_view_module": "@jupyter-widgets/controls",
            "_model_module_version": "1.5.0",
            "value": " 798k/798k [00:00&lt;00:00, 1.10MB/s]",
            "_view_count": null,
            "_view_module_version": "1.5.0",
            "description_tooltip": null,
            "_model_module": "@jupyter-widgets/controls",
            "layout": "IPY_MODEL_1b0a6d4d20954134898e39c392382123"
          }
        },
        "729f0bb4966c4de0b1021820a3d636c8": {
          "model_module": "@jupyter-widgets/controls",
          "model_name": "ProgressStyleModel",
          "state": {
            "_view_name": "StyleView",
            "_model_name": "ProgressStyleModel",
            "description_width": "initial",
            "_view_module": "@jupyter-widgets/base",
            "_model_module_version": "1.5.0",
            "_view_count": null,
            "_view_module_version": "1.2.0",
            "bar_color": null,
            "_model_module": "@jupyter-widgets/controls"
          }
        },
        "ab2e3c93c96a49ae9785f27ee1c9bcb1": {
          "model_module": "@jupyter-widgets/base",
          "model_name": "LayoutModel",
          "state": {
            "_view_name": "LayoutView",
            "grid_template_rows": null,
            "right": null,
            "justify_content": null,
            "_view_module": "@jupyter-widgets/base",
            "overflow": null,
            "_model_module_version": "1.2.0",
            "_view_count": null,
            "flex_flow": null,
            "width": null,
            "min_width": null,
            "border": null,
            "align_items": null,
            "bottom": null,
            "_model_module": "@jupyter-widgets/base",
            "top": null,
            "grid_column": null,
            "overflow_y": null,
            "overflow_x": null,
            "grid_auto_flow": null,
            "grid_area": null,
            "grid_template_columns": null,
            "flex": null,
            "_model_name": "LayoutModel",
            "justify_items": null,
            "grid_row": null,
            "max_height": null,
            "align_content": null,
            "visibility": null,
            "align_self": null,
            "height": null,
            "min_height": null,
            "padding": null,
            "grid_auto_rows": null,
            "grid_gap": null,
            "max_width": null,
            "order": null,
            "_view_module_version": "1.2.0",
            "grid_template_areas": null,
            "object_position": null,
            "object_fit": null,
            "grid_auto_columns": null,
            "margin": null,
            "display": null,
            "left": null
          }
        },
        "9520e10c9498467c9265c8a781a8437d": {
          "model_module": "@jupyter-widgets/controls",
          "model_name": "DescriptionStyleModel",
          "state": {
            "_view_name": "StyleView",
            "_model_name": "DescriptionStyleModel",
            "description_width": "",
            "_view_module": "@jupyter-widgets/base",
            "_model_module_version": "1.5.0",
            "_view_count": null,
            "_view_module_version": "1.2.0",
            "_model_module": "@jupyter-widgets/controls"
          }
        },
        "1b0a6d4d20954134898e39c392382123": {
          "model_module": "@jupyter-widgets/base",
          "model_name": "LayoutModel",
          "state": {
            "_view_name": "LayoutView",
            "grid_template_rows": null,
            "right": null,
            "justify_content": null,
            "_view_module": "@jupyter-widgets/base",
            "overflow": null,
            "_model_module_version": "1.2.0",
            "_view_count": null,
            "flex_flow": null,
            "width": null,
            "min_width": null,
            "border": null,
            "align_items": null,
            "bottom": null,
            "_model_module": "@jupyter-widgets/base",
            "top": null,
            "grid_column": null,
            "overflow_y": null,
            "overflow_x": null,
            "grid_auto_flow": null,
            "grid_area": null,
            "grid_template_columns": null,
            "flex": null,
            "_model_name": "LayoutModel",
            "justify_items": null,
            "grid_row": null,
            "max_height": null,
            "align_content": null,
            "visibility": null,
            "align_self": null,
            "height": null,
            "min_height": null,
            "padding": null,
            "grid_auto_rows": null,
            "grid_gap": null,
            "max_width": null,
            "order": null,
            "_view_module_version": "1.2.0",
            "grid_template_areas": null,
            "object_position": null,
            "object_fit": null,
            "grid_auto_columns": null,
            "margin": null,
            "display": null,
            "left": null
          }
        },
        "68091a64bace43519f474f3a90df74be": {
          "model_module": "@jupyter-widgets/controls",
          "model_name": "HBoxModel",
          "state": {
            "_view_name": "HBoxView",
            "_dom_classes": [],
            "_model_name": "HBoxModel",
            "_view_module": "@jupyter-widgets/controls",
            "_model_module_version": "1.5.0",
            "_view_count": null,
            "_view_module_version": "1.5.0",
            "box_style": "",
            "layout": "IPY_MODEL_22d2e0be97b446c6b1d625385a19dbc7",
            "_model_module": "@jupyter-widgets/controls",
            "children": [
              "IPY_MODEL_4a624678845b4fe48431a19ea9fca94d",
              "IPY_MODEL_af9d8435fae8451db1a49bc886792a9c"
            ]
          }
        },
        "22d2e0be97b446c6b1d625385a19dbc7": {
          "model_module": "@jupyter-widgets/base",
          "model_name": "LayoutModel",
          "state": {
            "_view_name": "LayoutView",
            "grid_template_rows": null,
            "right": null,
            "justify_content": null,
            "_view_module": "@jupyter-widgets/base",
            "overflow": null,
            "_model_module_version": "1.2.0",
            "_view_count": null,
            "flex_flow": null,
            "width": null,
            "min_width": null,
            "border": null,
            "align_items": null,
            "bottom": null,
            "_model_module": "@jupyter-widgets/base",
            "top": null,
            "grid_column": null,
            "overflow_y": null,
            "overflow_x": null,
            "grid_auto_flow": null,
            "grid_area": null,
            "grid_template_columns": null,
            "flex": null,
            "_model_name": "LayoutModel",
            "justify_items": null,
            "grid_row": null,
            "max_height": null,
            "align_content": null,
            "visibility": null,
            "align_self": null,
            "height": null,
            "min_height": null,
            "padding": null,
            "grid_auto_rows": null,
            "grid_gap": null,
            "max_width": null,
            "order": null,
            "_view_module_version": "1.2.0",
            "grid_template_areas": null,
            "object_position": null,
            "object_fit": null,
            "grid_auto_columns": null,
            "margin": null,
            "display": null,
            "left": null
          }
        },
        "4a624678845b4fe48431a19ea9fca94d": {
          "model_module": "@jupyter-widgets/controls",
          "model_name": "FloatProgressModel",
          "state": {
            "_view_name": "ProgressView",
            "style": "IPY_MODEL_8e3cc77851a64ff1a568d48f028b942b",
            "_dom_classes": [],
            "description": "Downloading: 100%",
            "_model_name": "FloatProgressModel",
            "bar_style": "success",
            "max": 1382015,
            "_view_module": "@jupyter-widgets/controls",
            "_model_module_version": "1.5.0",
            "value": 1382015,
            "_view_count": null,
            "_view_module_version": "1.5.0",
            "orientation": "horizontal",
            "min": 0,
            "description_tooltip": null,
            "_model_module": "@jupyter-widgets/controls",
            "layout": "IPY_MODEL_d718f1a96d3843869a60ede76df6689f"
          }
        },
        "af9d8435fae8451db1a49bc886792a9c": {
          "model_module": "@jupyter-widgets/controls",
          "model_name": "HTMLModel",
          "state": {
            "_view_name": "HTMLView",
            "style": "IPY_MODEL_d892431e969b4b07b2d38dd3563d9b8b",
            "_dom_classes": [],
            "description": "",
            "_model_name": "HTMLModel",
            "placeholder": "​",
            "_view_module": "@jupyter-widgets/controls",
            "_model_module_version": "1.5.0",
            "value": " 1.38M/1.38M [00:00&lt;00:00, 3.78MB/s]",
            "_view_count": null,
            "_view_module_version": "1.5.0",
            "description_tooltip": null,
            "_model_module": "@jupyter-widgets/controls",
            "layout": "IPY_MODEL_d079c89e6ab7415c8fc9e9f1a9aedd3f"
          }
        },
        "8e3cc77851a64ff1a568d48f028b942b": {
          "model_module": "@jupyter-widgets/controls",
          "model_name": "ProgressStyleModel",
          "state": {
            "_view_name": "StyleView",
            "_model_name": "ProgressStyleModel",
            "description_width": "initial",
            "_view_module": "@jupyter-widgets/base",
            "_model_module_version": "1.5.0",
            "_view_count": null,
            "_view_module_version": "1.2.0",
            "bar_color": null,
            "_model_module": "@jupyter-widgets/controls"
          }
        },
        "d718f1a96d3843869a60ede76df6689f": {
          "model_module": "@jupyter-widgets/base",
          "model_name": "LayoutModel",
          "state": {
            "_view_name": "LayoutView",
            "grid_template_rows": null,
            "right": null,
            "justify_content": null,
            "_view_module": "@jupyter-widgets/base",
            "overflow": null,
            "_model_module_version": "1.2.0",
            "_view_count": null,
            "flex_flow": null,
            "width": null,
            "min_width": null,
            "border": null,
            "align_items": null,
            "bottom": null,
            "_model_module": "@jupyter-widgets/base",
            "top": null,
            "grid_column": null,
            "overflow_y": null,
            "overflow_x": null,
            "grid_auto_flow": null,
            "grid_area": null,
            "grid_template_columns": null,
            "flex": null,
            "_model_name": "LayoutModel",
            "justify_items": null,
            "grid_row": null,
            "max_height": null,
            "align_content": null,
            "visibility": null,
            "align_self": null,
            "height": null,
            "min_height": null,
            "padding": null,
            "grid_auto_rows": null,
            "grid_gap": null,
            "max_width": null,
            "order": null,
            "_view_module_version": "1.2.0",
            "grid_template_areas": null,
            "object_position": null,
            "object_fit": null,
            "grid_auto_columns": null,
            "margin": null,
            "display": null,
            "left": null
          }
        },
        "d892431e969b4b07b2d38dd3563d9b8b": {
          "model_module": "@jupyter-widgets/controls",
          "model_name": "DescriptionStyleModel",
          "state": {
            "_view_name": "StyleView",
            "_model_name": "DescriptionStyleModel",
            "description_width": "",
            "_view_module": "@jupyter-widgets/base",
            "_model_module_version": "1.5.0",
            "_view_count": null,
            "_view_module_version": "1.2.0",
            "_model_module": "@jupyter-widgets/controls"
          }
        },
        "d079c89e6ab7415c8fc9e9f1a9aedd3f": {
          "model_module": "@jupyter-widgets/base",
          "model_name": "LayoutModel",
          "state": {
            "_view_name": "LayoutView",
            "grid_template_rows": null,
            "right": null,
            "justify_content": null,
            "_view_module": "@jupyter-widgets/base",
            "overflow": null,
            "_model_module_version": "1.2.0",
            "_view_count": null,
            "flex_flow": null,
            "width": null,
            "min_width": null,
            "border": null,
            "align_items": null,
            "bottom": null,
            "_model_module": "@jupyter-widgets/base",
            "top": null,
            "grid_column": null,
            "overflow_y": null,
            "overflow_x": null,
            "grid_auto_flow": null,
            "grid_area": null,
            "grid_template_columns": null,
            "flex": null,
            "_model_name": "LayoutModel",
            "justify_items": null,
            "grid_row": null,
            "max_height": null,
            "align_content": null,
            "visibility": null,
            "align_self": null,
            "height": null,
            "min_height": null,
            "padding": null,
            "grid_auto_rows": null,
            "grid_gap": null,
            "max_width": null,
            "order": null,
            "_view_module_version": "1.2.0",
            "grid_template_areas": null,
            "object_position": null,
            "object_fit": null,
            "grid_auto_columns": null,
            "margin": null,
            "display": null,
            "left": null
          }
        },
        "af01e4260f6f466abf0d81330eb5d2a5": {
          "model_module": "@jupyter-widgets/controls",
          "model_name": "HBoxModel",
          "state": {
            "_view_name": "HBoxView",
            "_dom_classes": [],
            "_model_name": "HBoxModel",
            "_view_module": "@jupyter-widgets/controls",
            "_model_module_version": "1.5.0",
            "_view_count": null,
            "_view_module_version": "1.5.0",
            "box_style": "",
            "layout": "IPY_MODEL_a09004ae684d42b6868ecd5d127faa0e",
            "_model_module": "@jupyter-widgets/controls",
            "children": [
              "IPY_MODEL_c7b02b1fad5e4559a6dd858f886c5779",
              "IPY_MODEL_a68a513d81db4e039db9ec6076432a54"
            ]
          }
        },
        "a09004ae684d42b6868ecd5d127faa0e": {
          "model_module": "@jupyter-widgets/base",
          "model_name": "LayoutModel",
          "state": {
            "_view_name": "LayoutView",
            "grid_template_rows": null,
            "right": null,
            "justify_content": null,
            "_view_module": "@jupyter-widgets/base",
            "overflow": null,
            "_model_module_version": "1.2.0",
            "_view_count": null,
            "flex_flow": null,
            "width": null,
            "min_width": null,
            "border": null,
            "align_items": null,
            "bottom": null,
            "_model_module": "@jupyter-widgets/base",
            "top": null,
            "grid_column": null,
            "overflow_y": null,
            "overflow_x": null,
            "grid_auto_flow": null,
            "grid_area": null,
            "grid_template_columns": null,
            "flex": null,
            "_model_name": "LayoutModel",
            "justify_items": null,
            "grid_row": null,
            "max_height": null,
            "align_content": null,
            "visibility": null,
            "align_self": null,
            "height": null,
            "min_height": null,
            "padding": null,
            "grid_auto_rows": null,
            "grid_gap": null,
            "max_width": null,
            "order": null,
            "_view_module_version": "1.2.0",
            "grid_template_areas": null,
            "object_position": null,
            "object_fit": null,
            "grid_auto_columns": null,
            "margin": null,
            "display": null,
            "left": null
          }
        },
        "c7b02b1fad5e4559a6dd858f886c5779": {
          "model_module": "@jupyter-widgets/controls",
          "model_name": "FloatProgressModel",
          "state": {
            "_view_name": "ProgressView",
            "style": "IPY_MODEL_493c6306db7d47b4a9436d176760d1b0",
            "_dom_classes": [],
            "description": "Downloading: 100%",
            "_model_name": "FloatProgressModel",
            "bar_style": "success",
            "max": 760,
            "_view_module": "@jupyter-widgets/controls",
            "_model_module_version": "1.5.0",
            "value": 760,
            "_view_count": null,
            "_view_module_version": "1.5.0",
            "orientation": "horizontal",
            "min": 0,
            "description_tooltip": null,
            "_model_module": "@jupyter-widgets/controls",
            "layout": "IPY_MODEL_8477baaa6c244a03909f6ec1fa5c6b6c"
          }
        },
        "a68a513d81db4e039db9ec6076432a54": {
          "model_module": "@jupyter-widgets/controls",
          "model_name": "HTMLModel",
          "state": {
            "_view_name": "HTMLView",
            "style": "IPY_MODEL_f9974521ad444a32b563eb9438a6161a",
            "_dom_classes": [],
            "description": "",
            "_model_name": "HTMLModel",
            "placeholder": "​",
            "_view_module": "@jupyter-widgets/controls",
            "_model_module_version": "1.5.0",
            "value": " 760/760 [00:00&lt;00:00, 8.58kB/s]",
            "_view_count": null,
            "_view_module_version": "1.5.0",
            "description_tooltip": null,
            "_model_module": "@jupyter-widgets/controls",
            "layout": "IPY_MODEL_a49e6e35f9cf44b5828506e5a4ae0ce2"
          }
        },
        "493c6306db7d47b4a9436d176760d1b0": {
          "model_module": "@jupyter-widgets/controls",
          "model_name": "ProgressStyleModel",
          "state": {
            "_view_name": "StyleView",
            "_model_name": "ProgressStyleModel",
            "description_width": "initial",
            "_view_module": "@jupyter-widgets/base",
            "_model_module_version": "1.5.0",
            "_view_count": null,
            "_view_module_version": "1.2.0",
            "bar_color": null,
            "_model_module": "@jupyter-widgets/controls"
          }
        },
        "8477baaa6c244a03909f6ec1fa5c6b6c": {
          "model_module": "@jupyter-widgets/base",
          "model_name": "LayoutModel",
          "state": {
            "_view_name": "LayoutView",
            "grid_template_rows": null,
            "right": null,
            "justify_content": null,
            "_view_module": "@jupyter-widgets/base",
            "overflow": null,
            "_model_module_version": "1.2.0",
            "_view_count": null,
            "flex_flow": null,
            "width": null,
            "min_width": null,
            "border": null,
            "align_items": null,
            "bottom": null,
            "_model_module": "@jupyter-widgets/base",
            "top": null,
            "grid_column": null,
            "overflow_y": null,
            "overflow_x": null,
            "grid_auto_flow": null,
            "grid_area": null,
            "grid_template_columns": null,
            "flex": null,
            "_model_name": "LayoutModel",
            "justify_items": null,
            "grid_row": null,
            "max_height": null,
            "align_content": null,
            "visibility": null,
            "align_self": null,
            "height": null,
            "min_height": null,
            "padding": null,
            "grid_auto_rows": null,
            "grid_gap": null,
            "max_width": null,
            "order": null,
            "_view_module_version": "1.2.0",
            "grid_template_areas": null,
            "object_position": null,
            "object_fit": null,
            "grid_auto_columns": null,
            "margin": null,
            "display": null,
            "left": null
          }
        },
        "f9974521ad444a32b563eb9438a6161a": {
          "model_module": "@jupyter-widgets/controls",
          "model_name": "DescriptionStyleModel",
          "state": {
            "_view_name": "StyleView",
            "_model_name": "DescriptionStyleModel",
            "description_width": "",
            "_view_module": "@jupyter-widgets/base",
            "_model_module_version": "1.5.0",
            "_view_count": null,
            "_view_module_version": "1.2.0",
            "_model_module": "@jupyter-widgets/controls"
          }
        },
        "a49e6e35f9cf44b5828506e5a4ae0ce2": {
          "model_module": "@jupyter-widgets/base",
          "model_name": "LayoutModel",
          "state": {
            "_view_name": "LayoutView",
            "grid_template_rows": null,
            "right": null,
            "justify_content": null,
            "_view_module": "@jupyter-widgets/base",
            "overflow": null,
            "_model_module_version": "1.2.0",
            "_view_count": null,
            "flex_flow": null,
            "width": null,
            "min_width": null,
            "border": null,
            "align_items": null,
            "bottom": null,
            "_model_module": "@jupyter-widgets/base",
            "top": null,
            "grid_column": null,
            "overflow_y": null,
            "overflow_x": null,
            "grid_auto_flow": null,
            "grid_area": null,
            "grid_template_columns": null,
            "flex": null,
            "_model_name": "LayoutModel",
            "justify_items": null,
            "grid_row": null,
            "max_height": null,
            "align_content": null,
            "visibility": null,
            "align_self": null,
            "height": null,
            "min_height": null,
            "padding": null,
            "grid_auto_rows": null,
            "grid_gap": null,
            "max_width": null,
            "order": null,
            "_view_module_version": "1.2.0",
            "grid_template_areas": null,
            "object_position": null,
            "object_fit": null,
            "grid_auto_columns": null,
            "margin": null,
            "display": null,
            "left": null
          }
        },
        "bd7be352a48441f2ab372e009dec9d58": {
          "model_module": "@jupyter-widgets/controls",
          "model_name": "HBoxModel",
          "state": {
            "_view_name": "HBoxView",
            "_dom_classes": [],
            "_model_name": "HBoxModel",
            "_view_module": "@jupyter-widgets/controls",
            "_model_module_version": "1.5.0",
            "_view_count": null,
            "_view_module_version": "1.5.0",
            "box_style": "",
            "layout": "IPY_MODEL_b9cbef1f747545d8a8e709ac86642cbd",
            "_model_module": "@jupyter-widgets/controls",
            "children": [
              "IPY_MODEL_dade9036812f4edea2f9136c3ba76ae1",
              "IPY_MODEL_42fd5d3557f9464ab8edd1fe1e50399e"
            ]
          }
        },
        "b9cbef1f747545d8a8e709ac86642cbd": {
          "model_module": "@jupyter-widgets/base",
          "model_name": "LayoutModel",
          "state": {
            "_view_name": "LayoutView",
            "grid_template_rows": null,
            "right": null,
            "justify_content": null,
            "_view_module": "@jupyter-widgets/base",
            "overflow": null,
            "_model_module_version": "1.2.0",
            "_view_count": null,
            "flex_flow": null,
            "width": null,
            "min_width": null,
            "border": null,
            "align_items": null,
            "bottom": null,
            "_model_module": "@jupyter-widgets/base",
            "top": null,
            "grid_column": null,
            "overflow_y": null,
            "overflow_x": null,
            "grid_auto_flow": null,
            "grid_area": null,
            "grid_template_columns": null,
            "flex": null,
            "_model_name": "LayoutModel",
            "justify_items": null,
            "grid_row": null,
            "max_height": null,
            "align_content": null,
            "visibility": null,
            "align_self": null,
            "height": null,
            "min_height": null,
            "padding": null,
            "grid_auto_rows": null,
            "grid_gap": null,
            "max_width": null,
            "order": null,
            "_view_module_version": "1.2.0",
            "grid_template_areas": null,
            "object_position": null,
            "object_fit": null,
            "grid_auto_columns": null,
            "margin": null,
            "display": null,
            "left": null
          }
        },
        "dade9036812f4edea2f9136c3ba76ae1": {
          "model_module": "@jupyter-widgets/controls",
          "model_name": "FloatProgressModel",
          "state": {
            "_view_name": "ProgressView",
            "style": "IPY_MODEL_a71fe3017f80479f8c2aede25eeec0c6",
            "_dom_classes": [],
            "description": "Downloading: 100%",
            "_model_name": "FloatProgressModel",
            "bar_style": "success",
            "max": 565485600,
            "_view_module": "@jupyter-widgets/controls",
            "_model_module_version": "1.5.0",
            "value": 565485600,
            "_view_count": null,
            "_view_module_version": "1.5.0",
            "orientation": "horizontal",
            "min": 0,
            "description_tooltip": null,
            "_model_module": "@jupyter-widgets/controls",
            "layout": "IPY_MODEL_feaa36f38b294d229189083490f7464e"
          }
        },
        "42fd5d3557f9464ab8edd1fe1e50399e": {
          "model_module": "@jupyter-widgets/controls",
          "model_name": "HTMLModel",
          "state": {
            "_view_name": "HTMLView",
            "style": "IPY_MODEL_6d25c731240c4386a663201597b5b468",
            "_dom_classes": [],
            "description": "",
            "_model_name": "HTMLModel",
            "placeholder": "​",
            "_view_module": "@jupyter-widgets/controls",
            "_model_module_version": "1.5.0",
            "value": " 565M/565M [00:14&lt;00:00, 39.5MB/s]",
            "_view_count": null,
            "_view_module_version": "1.5.0",
            "description_tooltip": null,
            "_model_module": "@jupyter-widgets/controls",
            "layout": "IPY_MODEL_a89a043355274122b87de272991c04be"
          }
        },
        "a71fe3017f80479f8c2aede25eeec0c6": {
          "model_module": "@jupyter-widgets/controls",
          "model_name": "ProgressStyleModel",
          "state": {
            "_view_name": "StyleView",
            "_model_name": "ProgressStyleModel",
            "description_width": "initial",
            "_view_module": "@jupyter-widgets/base",
            "_model_module_version": "1.5.0",
            "_view_count": null,
            "_view_module_version": "1.2.0",
            "bar_color": null,
            "_model_module": "@jupyter-widgets/controls"
          }
        },
        "feaa36f38b294d229189083490f7464e": {
          "model_module": "@jupyter-widgets/base",
          "model_name": "LayoutModel",
          "state": {
            "_view_name": "LayoutView",
            "grid_template_rows": null,
            "right": null,
            "justify_content": null,
            "_view_module": "@jupyter-widgets/base",
            "overflow": null,
            "_model_module_version": "1.2.0",
            "_view_count": null,
            "flex_flow": null,
            "width": null,
            "min_width": null,
            "border": null,
            "align_items": null,
            "bottom": null,
            "_model_module": "@jupyter-widgets/base",
            "top": null,
            "grid_column": null,
            "overflow_y": null,
            "overflow_x": null,
            "grid_auto_flow": null,
            "grid_area": null,
            "grid_template_columns": null,
            "flex": null,
            "_model_name": "LayoutModel",
            "justify_items": null,
            "grid_row": null,
            "max_height": null,
            "align_content": null,
            "visibility": null,
            "align_self": null,
            "height": null,
            "min_height": null,
            "padding": null,
            "grid_auto_rows": null,
            "grid_gap": null,
            "max_width": null,
            "order": null,
            "_view_module_version": "1.2.0",
            "grid_template_areas": null,
            "object_position": null,
            "object_fit": null,
            "grid_auto_columns": null,
            "margin": null,
            "display": null,
            "left": null
          }
        },
        "6d25c731240c4386a663201597b5b468": {
          "model_module": "@jupyter-widgets/controls",
          "model_name": "DescriptionStyleModel",
          "state": {
            "_view_name": "StyleView",
            "_model_name": "DescriptionStyleModel",
            "description_width": "",
            "_view_module": "@jupyter-widgets/base",
            "_model_module_version": "1.5.0",
            "_view_count": null,
            "_view_module_version": "1.2.0",
            "_model_module": "@jupyter-widgets/controls"
          }
        },
        "a89a043355274122b87de272991c04be": {
          "model_module": "@jupyter-widgets/base",
          "model_name": "LayoutModel",
          "state": {
            "_view_name": "LayoutView",
            "grid_template_rows": null,
            "right": null,
            "justify_content": null,
            "_view_module": "@jupyter-widgets/base",
            "overflow": null,
            "_model_module_version": "1.2.0",
            "_view_count": null,
            "flex_flow": null,
            "width": null,
            "min_width": null,
            "border": null,
            "align_items": null,
            "bottom": null,
            "_model_module": "@jupyter-widgets/base",
            "top": null,
            "grid_column": null,
            "overflow_y": null,
            "overflow_x": null,
            "grid_auto_flow": null,
            "grid_area": null,
            "grid_template_columns": null,
            "flex": null,
            "_model_name": "LayoutModel",
            "justify_items": null,
            "grid_row": null,
            "max_height": null,
            "align_content": null,
            "visibility": null,
            "align_self": null,
            "height": null,
            "min_height": null,
            "padding": null,
            "grid_auto_rows": null,
            "grid_gap": null,
            "max_width": null,
            "order": null,
            "_view_module_version": "1.2.0",
            "grid_template_areas": null,
            "object_position": null,
            "object_fit": null,
            "grid_auto_columns": null,
            "margin": null,
            "display": null,
            "left": null
          }
        },
        "97dc79cc7cd440cdb8e0692c6ce8aca2": {
          "model_module": "@jupyter-widgets/controls",
          "model_name": "HBoxModel",
          "state": {
            "_view_name": "HBoxView",
            "_dom_classes": [],
            "_model_name": "HBoxModel",
            "_view_module": "@jupyter-widgets/controls",
            "_model_module_version": "1.5.0",
            "_view_count": null,
            "_view_module_version": "1.5.0",
            "box_style": "",
            "layout": "IPY_MODEL_ec8be359bcaf4ce290c4f8171b579dfa",
            "_model_module": "@jupyter-widgets/controls",
            "children": [
              "IPY_MODEL_74ae4b6ff7d44b98b798aa83ab948612",
              "IPY_MODEL_e2cba17c4e8f4e80b5d2ccef9bc75e26"
            ]
          }
        },
        "ec8be359bcaf4ce290c4f8171b579dfa": {
          "model_module": "@jupyter-widgets/base",
          "model_name": "LayoutModel",
          "state": {
            "_view_name": "LayoutView",
            "grid_template_rows": null,
            "right": null,
            "justify_content": null,
            "_view_module": "@jupyter-widgets/base",
            "overflow": null,
            "_model_module_version": "1.2.0",
            "_view_count": null,
            "flex_flow": null,
            "width": null,
            "min_width": null,
            "border": null,
            "align_items": null,
            "bottom": null,
            "_model_module": "@jupyter-widgets/base",
            "top": null,
            "grid_column": null,
            "overflow_y": null,
            "overflow_x": null,
            "grid_auto_flow": null,
            "grid_area": null,
            "grid_template_columns": null,
            "flex": null,
            "_model_name": "LayoutModel",
            "justify_items": null,
            "grid_row": null,
            "max_height": null,
            "align_content": null,
            "visibility": null,
            "align_self": null,
            "height": null,
            "min_height": null,
            "padding": null,
            "grid_auto_rows": null,
            "grid_gap": null,
            "max_width": null,
            "order": null,
            "_view_module_version": "1.2.0",
            "grid_template_areas": null,
            "object_position": null,
            "object_fit": null,
            "grid_auto_columns": null,
            "margin": null,
            "display": null,
            "left": null
          }
        },
        "74ae4b6ff7d44b98b798aa83ab948612": {
          "model_module": "@jupyter-widgets/controls",
          "model_name": "FloatProgressModel",
          "state": {
            "_view_name": "ProgressView",
            "style": "IPY_MODEL_c8b64fdc752143a5b5ce2ccf7866636f",
            "_dom_classes": [],
            "description": "Downloading: 100%",
            "_model_name": "FloatProgressModel",
            "bar_style": "success",
            "max": 231508,
            "_view_module": "@jupyter-widgets/controls",
            "_model_module_version": "1.5.0",
            "value": 231508,
            "_view_count": null,
            "_view_module_version": "1.5.0",
            "orientation": "horizontal",
            "min": 0,
            "description_tooltip": null,
            "_model_module": "@jupyter-widgets/controls",
            "layout": "IPY_MODEL_e7d2b392e07947cb9e3fe7ec5de30649"
          }
        },
        "e2cba17c4e8f4e80b5d2ccef9bc75e26": {
          "model_module": "@jupyter-widgets/controls",
          "model_name": "HTMLModel",
          "state": {
            "_view_name": "HTMLView",
            "style": "IPY_MODEL_810fb167f0824b838186dbecb980346d",
            "_dom_classes": [],
            "description": "",
            "_model_name": "HTMLModel",
            "placeholder": "​",
            "_view_module": "@jupyter-widgets/controls",
            "_model_module_version": "1.5.0",
            "value": " 232k/232k [00:00&lt;00:00, 378kB/s]",
            "_view_count": null,
            "_view_module_version": "1.5.0",
            "description_tooltip": null,
            "_model_module": "@jupyter-widgets/controls",
            "layout": "IPY_MODEL_27b59469adcc4a5baba9d5a103c445e1"
          }
        },
        "c8b64fdc752143a5b5ce2ccf7866636f": {
          "model_module": "@jupyter-widgets/controls",
          "model_name": "ProgressStyleModel",
          "state": {
            "_view_name": "StyleView",
            "_model_name": "ProgressStyleModel",
            "description_width": "initial",
            "_view_module": "@jupyter-widgets/base",
            "_model_module_version": "1.5.0",
            "_view_count": null,
            "_view_module_version": "1.2.0",
            "bar_color": null,
            "_model_module": "@jupyter-widgets/controls"
          }
        },
        "e7d2b392e07947cb9e3fe7ec5de30649": {
          "model_module": "@jupyter-widgets/base",
          "model_name": "LayoutModel",
          "state": {
            "_view_name": "LayoutView",
            "grid_template_rows": null,
            "right": null,
            "justify_content": null,
            "_view_module": "@jupyter-widgets/base",
            "overflow": null,
            "_model_module_version": "1.2.0",
            "_view_count": null,
            "flex_flow": null,
            "width": null,
            "min_width": null,
            "border": null,
            "align_items": null,
            "bottom": null,
            "_model_module": "@jupyter-widgets/base",
            "top": null,
            "grid_column": null,
            "overflow_y": null,
            "overflow_x": null,
            "grid_auto_flow": null,
            "grid_area": null,
            "grid_template_columns": null,
            "flex": null,
            "_model_name": "LayoutModel",
            "justify_items": null,
            "grid_row": null,
            "max_height": null,
            "align_content": null,
            "visibility": null,
            "align_self": null,
            "height": null,
            "min_height": null,
            "padding": null,
            "grid_auto_rows": null,
            "grid_gap": null,
            "max_width": null,
            "order": null,
            "_view_module_version": "1.2.0",
            "grid_template_areas": null,
            "object_position": null,
            "object_fit": null,
            "grid_auto_columns": null,
            "margin": null,
            "display": null,
            "left": null
          }
        },
        "810fb167f0824b838186dbecb980346d": {
          "model_module": "@jupyter-widgets/controls",
          "model_name": "DescriptionStyleModel",
          "state": {
            "_view_name": "StyleView",
            "_model_name": "DescriptionStyleModel",
            "description_width": "",
            "_view_module": "@jupyter-widgets/base",
            "_model_module_version": "1.5.0",
            "_view_count": null,
            "_view_module_version": "1.2.0",
            "_model_module": "@jupyter-widgets/controls"
          }
        },
        "27b59469adcc4a5baba9d5a103c445e1": {
          "model_module": "@jupyter-widgets/base",
          "model_name": "LayoutModel",
          "state": {
            "_view_name": "LayoutView",
            "grid_template_rows": null,
            "right": null,
            "justify_content": null,
            "_view_module": "@jupyter-widgets/base",
            "overflow": null,
            "_model_module_version": "1.2.0",
            "_view_count": null,
            "flex_flow": null,
            "width": null,
            "min_width": null,
            "border": null,
            "align_items": null,
            "bottom": null,
            "_model_module": "@jupyter-widgets/base",
            "top": null,
            "grid_column": null,
            "overflow_y": null,
            "overflow_x": null,
            "grid_auto_flow": null,
            "grid_area": null,
            "grid_template_columns": null,
            "flex": null,
            "_model_name": "LayoutModel",
            "justify_items": null,
            "grid_row": null,
            "max_height": null,
            "align_content": null,
            "visibility": null,
            "align_self": null,
            "height": null,
            "min_height": null,
            "padding": null,
            "grid_auto_rows": null,
            "grid_gap": null,
            "max_width": null,
            "order": null,
            "_view_module_version": "1.2.0",
            "grid_template_areas": null,
            "object_position": null,
            "object_fit": null,
            "grid_auto_columns": null,
            "margin": null,
            "display": null,
            "left": null
          }
        },
        "7eedee97185f4db586f12943f193d217": {
          "model_module": "@jupyter-widgets/controls",
          "model_name": "HBoxModel",
          "state": {
            "_view_name": "HBoxView",
            "_dom_classes": [],
            "_model_name": "HBoxModel",
            "_view_module": "@jupyter-widgets/controls",
            "_model_module_version": "1.5.0",
            "_view_count": null,
            "_view_module_version": "1.5.0",
            "box_style": "",
            "layout": "IPY_MODEL_792c56f638934b03958aad824d4c0799",
            "_model_module": "@jupyter-widgets/controls",
            "children": [
              "IPY_MODEL_0a999f60ac614aa2bd258ffdeefe8f29",
              "IPY_MODEL_be5285fe02194099a74a17cff1d4bd9c"
            ]
          }
        },
        "792c56f638934b03958aad824d4c0799": {
          "model_module": "@jupyter-widgets/base",
          "model_name": "LayoutModel",
          "state": {
            "_view_name": "LayoutView",
            "grid_template_rows": null,
            "right": null,
            "justify_content": null,
            "_view_module": "@jupyter-widgets/base",
            "overflow": null,
            "_model_module_version": "1.2.0",
            "_view_count": null,
            "flex_flow": null,
            "width": null,
            "min_width": null,
            "border": null,
            "align_items": null,
            "bottom": null,
            "_model_module": "@jupyter-widgets/base",
            "top": null,
            "grid_column": null,
            "overflow_y": null,
            "overflow_x": null,
            "grid_auto_flow": null,
            "grid_area": null,
            "grid_template_columns": null,
            "flex": null,
            "_model_name": "LayoutModel",
            "justify_items": null,
            "grid_row": null,
            "max_height": null,
            "align_content": null,
            "visibility": null,
            "align_self": null,
            "height": null,
            "min_height": null,
            "padding": null,
            "grid_auto_rows": null,
            "grid_gap": null,
            "max_width": null,
            "order": null,
            "_view_module_version": "1.2.0",
            "grid_template_areas": null,
            "object_position": null,
            "object_fit": null,
            "grid_auto_columns": null,
            "margin": null,
            "display": null,
            "left": null
          }
        },
        "0a999f60ac614aa2bd258ffdeefe8f29": {
          "model_module": "@jupyter-widgets/controls",
          "model_name": "FloatProgressModel",
          "state": {
            "_view_name": "ProgressView",
            "style": "IPY_MODEL_72058c1e59154faa9b82fb96cd385645",
            "_dom_classes": [],
            "description": "Downloading: 100%",
            "_model_name": "FloatProgressModel",
            "bar_style": "success",
            "max": 28,
            "_view_module": "@jupyter-widgets/controls",
            "_model_module_version": "1.5.0",
            "value": 28,
            "_view_count": null,
            "_view_module_version": "1.5.0",
            "orientation": "horizontal",
            "min": 0,
            "description_tooltip": null,
            "_model_module": "@jupyter-widgets/controls",
            "layout": "IPY_MODEL_1beb645e65fb4dbb949193968a4de409"
          }
        },
        "be5285fe02194099a74a17cff1d4bd9c": {
          "model_module": "@jupyter-widgets/controls",
          "model_name": "HTMLModel",
          "state": {
            "_view_name": "HTMLView",
            "style": "IPY_MODEL_18efaf6ae7544da99d52407baf36b593",
            "_dom_classes": [],
            "description": "",
            "_model_name": "HTMLModel",
            "placeholder": "​",
            "_view_module": "@jupyter-widgets/controls",
            "_model_module_version": "1.5.0",
            "value": " 28.0/28.0 [00:00&lt;00:00, 81.9B/s]",
            "_view_count": null,
            "_view_module_version": "1.5.0",
            "description_tooltip": null,
            "_model_module": "@jupyter-widgets/controls",
            "layout": "IPY_MODEL_3854f3876cdc408aaabddb1ff7b4fdd9"
          }
        },
        "72058c1e59154faa9b82fb96cd385645": {
          "model_module": "@jupyter-widgets/controls",
          "model_name": "ProgressStyleModel",
          "state": {
            "_view_name": "StyleView",
            "_model_name": "ProgressStyleModel",
            "description_width": "initial",
            "_view_module": "@jupyter-widgets/base",
            "_model_module_version": "1.5.0",
            "_view_count": null,
            "_view_module_version": "1.2.0",
            "bar_color": null,
            "_model_module": "@jupyter-widgets/controls"
          }
        },
        "1beb645e65fb4dbb949193968a4de409": {
          "model_module": "@jupyter-widgets/base",
          "model_name": "LayoutModel",
          "state": {
            "_view_name": "LayoutView",
            "grid_template_rows": null,
            "right": null,
            "justify_content": null,
            "_view_module": "@jupyter-widgets/base",
            "overflow": null,
            "_model_module_version": "1.2.0",
            "_view_count": null,
            "flex_flow": null,
            "width": null,
            "min_width": null,
            "border": null,
            "align_items": null,
            "bottom": null,
            "_model_module": "@jupyter-widgets/base",
            "top": null,
            "grid_column": null,
            "overflow_y": null,
            "overflow_x": null,
            "grid_auto_flow": null,
            "grid_area": null,
            "grid_template_columns": null,
            "flex": null,
            "_model_name": "LayoutModel",
            "justify_items": null,
            "grid_row": null,
            "max_height": null,
            "align_content": null,
            "visibility": null,
            "align_self": null,
            "height": null,
            "min_height": null,
            "padding": null,
            "grid_auto_rows": null,
            "grid_gap": null,
            "max_width": null,
            "order": null,
            "_view_module_version": "1.2.0",
            "grid_template_areas": null,
            "object_position": null,
            "object_fit": null,
            "grid_auto_columns": null,
            "margin": null,
            "display": null,
            "left": null
          }
        },
        "18efaf6ae7544da99d52407baf36b593": {
          "model_module": "@jupyter-widgets/controls",
          "model_name": "DescriptionStyleModel",
          "state": {
            "_view_name": "StyleView",
            "_model_name": "DescriptionStyleModel",
            "description_width": "",
            "_view_module": "@jupyter-widgets/base",
            "_model_module_version": "1.5.0",
            "_view_count": null,
            "_view_module_version": "1.2.0",
            "_model_module": "@jupyter-widgets/controls"
          }
        },
        "3854f3876cdc408aaabddb1ff7b4fdd9": {
          "model_module": "@jupyter-widgets/base",
          "model_name": "LayoutModel",
          "state": {
            "_view_name": "LayoutView",
            "grid_template_rows": null,
            "right": null,
            "justify_content": null,
            "_view_module": "@jupyter-widgets/base",
            "overflow": null,
            "_model_module_version": "1.2.0",
            "_view_count": null,
            "flex_flow": null,
            "width": null,
            "min_width": null,
            "border": null,
            "align_items": null,
            "bottom": null,
            "_model_module": "@jupyter-widgets/base",
            "top": null,
            "grid_column": null,
            "overflow_y": null,
            "overflow_x": null,
            "grid_auto_flow": null,
            "grid_area": null,
            "grid_template_columns": null,
            "flex": null,
            "_model_name": "LayoutModel",
            "justify_items": null,
            "grid_row": null,
            "max_height": null,
            "align_content": null,
            "visibility": null,
            "align_self": null,
            "height": null,
            "min_height": null,
            "padding": null,
            "grid_auto_rows": null,
            "grid_gap": null,
            "max_width": null,
            "order": null,
            "_view_module_version": "1.2.0",
            "grid_template_areas": null,
            "object_position": null,
            "object_fit": null,
            "grid_auto_columns": null,
            "margin": null,
            "display": null,
            "left": null
          }
        },
        "1de65551d61f4aa68e885c7027b15551": {
          "model_module": "@jupyter-widgets/controls",
          "model_name": "HBoxModel",
          "state": {
            "_view_name": "HBoxView",
            "_dom_classes": [],
            "_model_name": "HBoxModel",
            "_view_module": "@jupyter-widgets/controls",
            "_model_module_version": "1.5.0",
            "_view_count": null,
            "_view_module_version": "1.5.0",
            "box_style": "",
            "layout": "IPY_MODEL_4f41c555e58b4f8f8b21b5196a650974",
            "_model_module": "@jupyter-widgets/controls",
            "children": [
              "IPY_MODEL_9df9f5752b4b4c809a688bbec1763180",
              "IPY_MODEL_26866f62035c4c4c83e00a3eee8540de"
            ]
          }
        },
        "4f41c555e58b4f8f8b21b5196a650974": {
          "model_module": "@jupyter-widgets/base",
          "model_name": "LayoutModel",
          "state": {
            "_view_name": "LayoutView",
            "grid_template_rows": null,
            "right": null,
            "justify_content": null,
            "_view_module": "@jupyter-widgets/base",
            "overflow": null,
            "_model_module_version": "1.2.0",
            "_view_count": null,
            "flex_flow": null,
            "width": null,
            "min_width": null,
            "border": null,
            "align_items": null,
            "bottom": null,
            "_model_module": "@jupyter-widgets/base",
            "top": null,
            "grid_column": null,
            "overflow_y": null,
            "overflow_x": null,
            "grid_auto_flow": null,
            "grid_area": null,
            "grid_template_columns": null,
            "flex": null,
            "_model_name": "LayoutModel",
            "justify_items": null,
            "grid_row": null,
            "max_height": null,
            "align_content": null,
            "visibility": null,
            "align_self": null,
            "height": null,
            "min_height": null,
            "padding": null,
            "grid_auto_rows": null,
            "grid_gap": null,
            "max_width": null,
            "order": null,
            "_view_module_version": "1.2.0",
            "grid_template_areas": null,
            "object_position": null,
            "object_fit": null,
            "grid_auto_columns": null,
            "margin": null,
            "display": null,
            "left": null
          }
        },
        "9df9f5752b4b4c809a688bbec1763180": {
          "model_module": "@jupyter-widgets/controls",
          "model_name": "FloatProgressModel",
          "state": {
            "_view_name": "ProgressView",
            "style": "IPY_MODEL_eea37367cfba42c380422a7a92bcba3a",
            "_dom_classes": [],
            "description": "Downloading: 100%",
            "_model_name": "FloatProgressModel",
            "bar_style": "success",
            "max": 466062,
            "_view_module": "@jupyter-widgets/controls",
            "_model_module_version": "1.5.0",
            "value": 466062,
            "_view_count": null,
            "_view_module_version": "1.5.0",
            "orientation": "horizontal",
            "min": 0,
            "description_tooltip": null,
            "_model_module": "@jupyter-widgets/controls",
            "layout": "IPY_MODEL_1679239337b64f638fb5933241a3568e"
          }
        },
        "26866f62035c4c4c83e00a3eee8540de": {
          "model_module": "@jupyter-widgets/controls",
          "model_name": "HTMLModel",
          "state": {
            "_view_name": "HTMLView",
            "style": "IPY_MODEL_92f94dd0447645b99ff4dfb74a9c036c",
            "_dom_classes": [],
            "description": "",
            "_model_name": "HTMLModel",
            "placeholder": "​",
            "_view_module": "@jupyter-widgets/controls",
            "_model_module_version": "1.5.0",
            "value": " 466k/466k [00:00&lt;00:00, 4.08MB/s]",
            "_view_count": null,
            "_view_module_version": "1.5.0",
            "description_tooltip": null,
            "_model_module": "@jupyter-widgets/controls",
            "layout": "IPY_MODEL_c22fedd00c3c4215bc37df02e74ec4e5"
          }
        },
        "eea37367cfba42c380422a7a92bcba3a": {
          "model_module": "@jupyter-widgets/controls",
          "model_name": "ProgressStyleModel",
          "state": {
            "_view_name": "StyleView",
            "_model_name": "ProgressStyleModel",
            "description_width": "initial",
            "_view_module": "@jupyter-widgets/base",
            "_model_module_version": "1.5.0",
            "_view_count": null,
            "_view_module_version": "1.2.0",
            "bar_color": null,
            "_model_module": "@jupyter-widgets/controls"
          }
        },
        "1679239337b64f638fb5933241a3568e": {
          "model_module": "@jupyter-widgets/base",
          "model_name": "LayoutModel",
          "state": {
            "_view_name": "LayoutView",
            "grid_template_rows": null,
            "right": null,
            "justify_content": null,
            "_view_module": "@jupyter-widgets/base",
            "overflow": null,
            "_model_module_version": "1.2.0",
            "_view_count": null,
            "flex_flow": null,
            "width": null,
            "min_width": null,
            "border": null,
            "align_items": null,
            "bottom": null,
            "_model_module": "@jupyter-widgets/base",
            "top": null,
            "grid_column": null,
            "overflow_y": null,
            "overflow_x": null,
            "grid_auto_flow": null,
            "grid_area": null,
            "grid_template_columns": null,
            "flex": null,
            "_model_name": "LayoutModel",
            "justify_items": null,
            "grid_row": null,
            "max_height": null,
            "align_content": null,
            "visibility": null,
            "align_self": null,
            "height": null,
            "min_height": null,
            "padding": null,
            "grid_auto_rows": null,
            "grid_gap": null,
            "max_width": null,
            "order": null,
            "_view_module_version": "1.2.0",
            "grid_template_areas": null,
            "object_position": null,
            "object_fit": null,
            "grid_auto_columns": null,
            "margin": null,
            "display": null,
            "left": null
          }
        },
        "92f94dd0447645b99ff4dfb74a9c036c": {
          "model_module": "@jupyter-widgets/controls",
          "model_name": "DescriptionStyleModel",
          "state": {
            "_view_name": "StyleView",
            "_model_name": "DescriptionStyleModel",
            "description_width": "",
            "_view_module": "@jupyter-widgets/base",
            "_model_module_version": "1.5.0",
            "_view_count": null,
            "_view_module_version": "1.2.0",
            "_model_module": "@jupyter-widgets/controls"
          }
        },
        "c22fedd00c3c4215bc37df02e74ec4e5": {
          "model_module": "@jupyter-widgets/base",
          "model_name": "LayoutModel",
          "state": {
            "_view_name": "LayoutView",
            "grid_template_rows": null,
            "right": null,
            "justify_content": null,
            "_view_module": "@jupyter-widgets/base",
            "overflow": null,
            "_model_module_version": "1.2.0",
            "_view_count": null,
            "flex_flow": null,
            "width": null,
            "min_width": null,
            "border": null,
            "align_items": null,
            "bottom": null,
            "_model_module": "@jupyter-widgets/base",
            "top": null,
            "grid_column": null,
            "overflow_y": null,
            "overflow_x": null,
            "grid_auto_flow": null,
            "grid_area": null,
            "grid_template_columns": null,
            "flex": null,
            "_model_name": "LayoutModel",
            "justify_items": null,
            "grid_row": null,
            "max_height": null,
            "align_content": null,
            "visibility": null,
            "align_self": null,
            "height": null,
            "min_height": null,
            "padding": null,
            "grid_auto_rows": null,
            "grid_gap": null,
            "max_width": null,
            "order": null,
            "_view_module_version": "1.2.0",
            "grid_template_areas": null,
            "object_position": null,
            "object_fit": null,
            "grid_auto_columns": null,
            "margin": null,
            "display": null,
            "left": null
          }
        },
        "fadc55e8c15a43c9bc134ddcbdb3376c": {
          "model_module": "@jupyter-widgets/controls",
          "model_name": "HBoxModel",
          "state": {
            "_view_name": "HBoxView",
            "_dom_classes": [],
            "_model_name": "HBoxModel",
            "_view_module": "@jupyter-widgets/controls",
            "_model_module_version": "1.5.0",
            "_view_count": null,
            "_view_module_version": "1.5.0",
            "box_style": "",
            "layout": "IPY_MODEL_3bb87bafb3cb47f6a3afa816f0b9261d",
            "_model_module": "@jupyter-widgets/controls",
            "children": [
              "IPY_MODEL_db0bee1e889c47098b30f6c5617e47d4",
              "IPY_MODEL_5e3b28a78e3949ea97160c565b41964b"
            ]
          }
        },
        "3bb87bafb3cb47f6a3afa816f0b9261d": {
          "model_module": "@jupyter-widgets/base",
          "model_name": "LayoutModel",
          "state": {
            "_view_name": "LayoutView",
            "grid_template_rows": null,
            "right": null,
            "justify_content": null,
            "_view_module": "@jupyter-widgets/base",
            "overflow": null,
            "_model_module_version": "1.2.0",
            "_view_count": null,
            "flex_flow": null,
            "width": null,
            "min_width": null,
            "border": null,
            "align_items": null,
            "bottom": null,
            "_model_module": "@jupyter-widgets/base",
            "top": null,
            "grid_column": null,
            "overflow_y": null,
            "overflow_x": null,
            "grid_auto_flow": null,
            "grid_area": null,
            "grid_template_columns": null,
            "flex": null,
            "_model_name": "LayoutModel",
            "justify_items": null,
            "grid_row": null,
            "max_height": null,
            "align_content": null,
            "visibility": null,
            "align_self": null,
            "height": null,
            "min_height": null,
            "padding": null,
            "grid_auto_rows": null,
            "grid_gap": null,
            "max_width": null,
            "order": null,
            "_view_module_version": "1.2.0",
            "grid_template_areas": null,
            "object_position": null,
            "object_fit": null,
            "grid_auto_columns": null,
            "margin": null,
            "display": null,
            "left": null
          }
        },
        "db0bee1e889c47098b30f6c5617e47d4": {
          "model_module": "@jupyter-widgets/controls",
          "model_name": "FloatProgressModel",
          "state": {
            "_view_name": "ProgressView",
            "style": "IPY_MODEL_0e8d4cbf71e84af68eff9ab37f7e2a3d",
            "_dom_classes": [],
            "description": "Downloading: 100%",
            "_model_name": "FloatProgressModel",
            "bar_style": "success",
            "max": 442,
            "_view_module": "@jupyter-widgets/controls",
            "_model_module_version": "1.5.0",
            "value": 442,
            "_view_count": null,
            "_view_module_version": "1.5.0",
            "orientation": "horizontal",
            "min": 0,
            "description_tooltip": null,
            "_model_module": "@jupyter-widgets/controls",
            "layout": "IPY_MODEL_200a9c7c4b0640d68bd31fa83eea9bdb"
          }
        },
        "5e3b28a78e3949ea97160c565b41964b": {
          "model_module": "@jupyter-widgets/controls",
          "model_name": "HTMLModel",
          "state": {
            "_view_name": "HTMLView",
            "style": "IPY_MODEL_9283ab809ab34ee68536c74d7fb2190f",
            "_dom_classes": [],
            "description": "",
            "_model_name": "HTMLModel",
            "placeholder": "​",
            "_view_module": "@jupyter-widgets/controls",
            "_model_module_version": "1.5.0",
            "value": " 442/442 [00:00&lt;00:00, 1.39kB/s]",
            "_view_count": null,
            "_view_module_version": "1.5.0",
            "description_tooltip": null,
            "_model_module": "@jupyter-widgets/controls",
            "layout": "IPY_MODEL_5385059e4a994f3aa9cb5031a54b2e51"
          }
        },
        "0e8d4cbf71e84af68eff9ab37f7e2a3d": {
          "model_module": "@jupyter-widgets/controls",
          "model_name": "ProgressStyleModel",
          "state": {
            "_view_name": "StyleView",
            "_model_name": "ProgressStyleModel",
            "description_width": "initial",
            "_view_module": "@jupyter-widgets/base",
            "_model_module_version": "1.5.0",
            "_view_count": null,
            "_view_module_version": "1.2.0",
            "bar_color": null,
            "_model_module": "@jupyter-widgets/controls"
          }
        },
        "200a9c7c4b0640d68bd31fa83eea9bdb": {
          "model_module": "@jupyter-widgets/base",
          "model_name": "LayoutModel",
          "state": {
            "_view_name": "LayoutView",
            "grid_template_rows": null,
            "right": null,
            "justify_content": null,
            "_view_module": "@jupyter-widgets/base",
            "overflow": null,
            "_model_module_version": "1.2.0",
            "_view_count": null,
            "flex_flow": null,
            "width": null,
            "min_width": null,
            "border": null,
            "align_items": null,
            "bottom": null,
            "_model_module": "@jupyter-widgets/base",
            "top": null,
            "grid_column": null,
            "overflow_y": null,
            "overflow_x": null,
            "grid_auto_flow": null,
            "grid_area": null,
            "grid_template_columns": null,
            "flex": null,
            "_model_name": "LayoutModel",
            "justify_items": null,
            "grid_row": null,
            "max_height": null,
            "align_content": null,
            "visibility": null,
            "align_self": null,
            "height": null,
            "min_height": null,
            "padding": null,
            "grid_auto_rows": null,
            "grid_gap": null,
            "max_width": null,
            "order": null,
            "_view_module_version": "1.2.0",
            "grid_template_areas": null,
            "object_position": null,
            "object_fit": null,
            "grid_auto_columns": null,
            "margin": null,
            "display": null,
            "left": null
          }
        },
        "9283ab809ab34ee68536c74d7fb2190f": {
          "model_module": "@jupyter-widgets/controls",
          "model_name": "DescriptionStyleModel",
          "state": {
            "_view_name": "StyleView",
            "_model_name": "DescriptionStyleModel",
            "description_width": "",
            "_view_module": "@jupyter-widgets/base",
            "_model_module_version": "1.5.0",
            "_view_count": null,
            "_view_module_version": "1.2.0",
            "_model_module": "@jupyter-widgets/controls"
          }
        },
        "5385059e4a994f3aa9cb5031a54b2e51": {
          "model_module": "@jupyter-widgets/base",
          "model_name": "LayoutModel",
          "state": {
            "_view_name": "LayoutView",
            "grid_template_rows": null,
            "right": null,
            "justify_content": null,
            "_view_module": "@jupyter-widgets/base",
            "overflow": null,
            "_model_module_version": "1.2.0",
            "_view_count": null,
            "flex_flow": null,
            "width": null,
            "min_width": null,
            "border": null,
            "align_items": null,
            "bottom": null,
            "_model_module": "@jupyter-widgets/base",
            "top": null,
            "grid_column": null,
            "overflow_y": null,
            "overflow_x": null,
            "grid_auto_flow": null,
            "grid_area": null,
            "grid_template_columns": null,
            "flex": null,
            "_model_name": "LayoutModel",
            "justify_items": null,
            "grid_row": null,
            "max_height": null,
            "align_content": null,
            "visibility": null,
            "align_self": null,
            "height": null,
            "min_height": null,
            "padding": null,
            "grid_auto_rows": null,
            "grid_gap": null,
            "max_width": null,
            "order": null,
            "_view_module_version": "1.2.0",
            "grid_template_areas": null,
            "object_position": null,
            "object_fit": null,
            "grid_auto_columns": null,
            "margin": null,
            "display": null,
            "left": null
          }
        },
        "f3f4fcc35bb344e386d1e28a751b7420": {
          "model_module": "@jupyter-widgets/controls",
          "model_name": "HBoxModel",
          "state": {
            "_view_name": "HBoxView",
            "_dom_classes": [],
            "_model_name": "HBoxModel",
            "_view_module": "@jupyter-widgets/controls",
            "_model_module_version": "1.5.0",
            "_view_count": null,
            "_view_module_version": "1.5.0",
            "box_style": "",
            "layout": "IPY_MODEL_ccf09bf3a3fc4f85a372a42d8005598f",
            "_model_module": "@jupyter-widgets/controls",
            "children": [
              "IPY_MODEL_173c93f7b30545829496de5b7eb9a348",
              "IPY_MODEL_f9b488e086934db1aebb4c74adf74644"
            ]
          }
        },
        "ccf09bf3a3fc4f85a372a42d8005598f": {
          "model_module": "@jupyter-widgets/base",
          "model_name": "LayoutModel",
          "state": {
            "_view_name": "LayoutView",
            "grid_template_rows": null,
            "right": null,
            "justify_content": null,
            "_view_module": "@jupyter-widgets/base",
            "overflow": null,
            "_model_module_version": "1.2.0",
            "_view_count": null,
            "flex_flow": null,
            "width": null,
            "min_width": null,
            "border": null,
            "align_items": null,
            "bottom": null,
            "_model_module": "@jupyter-widgets/base",
            "top": null,
            "grid_column": null,
            "overflow_y": null,
            "overflow_x": null,
            "grid_auto_flow": null,
            "grid_area": null,
            "grid_template_columns": null,
            "flex": null,
            "_model_name": "LayoutModel",
            "justify_items": null,
            "grid_row": null,
            "max_height": null,
            "align_content": null,
            "visibility": null,
            "align_self": null,
            "height": null,
            "min_height": null,
            "padding": null,
            "grid_auto_rows": null,
            "grid_gap": null,
            "max_width": null,
            "order": null,
            "_view_module_version": "1.2.0",
            "grid_template_areas": null,
            "object_position": null,
            "object_fit": null,
            "grid_auto_columns": null,
            "margin": null,
            "display": null,
            "left": null
          }
        },
        "173c93f7b30545829496de5b7eb9a348": {
          "model_module": "@jupyter-widgets/controls",
          "model_name": "FloatProgressModel",
          "state": {
            "_view_name": "ProgressView",
            "style": "IPY_MODEL_d95c2726039e4562939883f55d4078bf",
            "_dom_classes": [],
            "description": "Downloading: 100%",
            "_model_name": "FloatProgressModel",
            "bar_style": "success",
            "max": 363423424,
            "_view_module": "@jupyter-widgets/controls",
            "_model_module_version": "1.5.0",
            "value": 363423424,
            "_view_count": null,
            "_view_module_version": "1.5.0",
            "orientation": "horizontal",
            "min": 0,
            "description_tooltip": null,
            "_model_module": "@jupyter-widgets/controls",
            "layout": "IPY_MODEL_cadca536df104fb99c38643637d9f6e6"
          }
        },
        "f9b488e086934db1aebb4c74adf74644": {
          "model_module": "@jupyter-widgets/controls",
          "model_name": "HTMLModel",
          "state": {
            "_view_name": "HTMLView",
            "style": "IPY_MODEL_4e979e9080fa46dd9c1249a194e52c51",
            "_dom_classes": [],
            "description": "",
            "_model_name": "HTMLModel",
            "placeholder": "​",
            "_view_module": "@jupyter-widgets/controls",
            "_model_module_version": "1.5.0",
            "value": " 363M/363M [00:09&lt;00:00, 39.1MB/s]",
            "_view_count": null,
            "_view_module_version": "1.5.0",
            "description_tooltip": null,
            "_model_module": "@jupyter-widgets/controls",
            "layout": "IPY_MODEL_58da9399b4144a148d375eba58a2198a"
          }
        },
        "d95c2726039e4562939883f55d4078bf": {
          "model_module": "@jupyter-widgets/controls",
          "model_name": "ProgressStyleModel",
          "state": {
            "_view_name": "StyleView",
            "_model_name": "ProgressStyleModel",
            "description_width": "initial",
            "_view_module": "@jupyter-widgets/base",
            "_model_module_version": "1.5.0",
            "_view_count": null,
            "_view_module_version": "1.2.0",
            "bar_color": null,
            "_model_module": "@jupyter-widgets/controls"
          }
        },
        "cadca536df104fb99c38643637d9f6e6": {
          "model_module": "@jupyter-widgets/base",
          "model_name": "LayoutModel",
          "state": {
            "_view_name": "LayoutView",
            "grid_template_rows": null,
            "right": null,
            "justify_content": null,
            "_view_module": "@jupyter-widgets/base",
            "overflow": null,
            "_model_module_version": "1.2.0",
            "_view_count": null,
            "flex_flow": null,
            "width": null,
            "min_width": null,
            "border": null,
            "align_items": null,
            "bottom": null,
            "_model_module": "@jupyter-widgets/base",
            "top": null,
            "grid_column": null,
            "overflow_y": null,
            "overflow_x": null,
            "grid_auto_flow": null,
            "grid_area": null,
            "grid_template_columns": null,
            "flex": null,
            "_model_name": "LayoutModel",
            "justify_items": null,
            "grid_row": null,
            "max_height": null,
            "align_content": null,
            "visibility": null,
            "align_self": null,
            "height": null,
            "min_height": null,
            "padding": null,
            "grid_auto_rows": null,
            "grid_gap": null,
            "max_width": null,
            "order": null,
            "_view_module_version": "1.2.0",
            "grid_template_areas": null,
            "object_position": null,
            "object_fit": null,
            "grid_auto_columns": null,
            "margin": null,
            "display": null,
            "left": null
          }
        },
        "4e979e9080fa46dd9c1249a194e52c51": {
          "model_module": "@jupyter-widgets/controls",
          "model_name": "DescriptionStyleModel",
          "state": {
            "_view_name": "StyleView",
            "_model_name": "DescriptionStyleModel",
            "description_width": "",
            "_view_module": "@jupyter-widgets/base",
            "_model_module_version": "1.5.0",
            "_view_count": null,
            "_view_module_version": "1.2.0",
            "_model_module": "@jupyter-widgets/controls"
          }
        },
        "58da9399b4144a148d375eba58a2198a": {
          "model_module": "@jupyter-widgets/base",
          "model_name": "LayoutModel",
          "state": {
            "_view_name": "LayoutView",
            "grid_template_rows": null,
            "right": null,
            "justify_content": null,
            "_view_module": "@jupyter-widgets/base",
            "overflow": null,
            "_model_module_version": "1.2.0",
            "_view_count": null,
            "flex_flow": null,
            "width": null,
            "min_width": null,
            "border": null,
            "align_items": null,
            "bottom": null,
            "_model_module": "@jupyter-widgets/base",
            "top": null,
            "grid_column": null,
            "overflow_y": null,
            "overflow_x": null,
            "grid_auto_flow": null,
            "grid_area": null,
            "grid_template_columns": null,
            "flex": null,
            "_model_name": "LayoutModel",
            "justify_items": null,
            "grid_row": null,
            "max_height": null,
            "align_content": null,
            "visibility": null,
            "align_self": null,
            "height": null,
            "min_height": null,
            "padding": null,
            "grid_auto_rows": null,
            "grid_gap": null,
            "max_width": null,
            "order": null,
            "_view_module_version": "1.2.0",
            "grid_template_areas": null,
            "object_position": null,
            "object_fit": null,
            "grid_auto_columns": null,
            "margin": null,
            "display": null,
            "left": null
          }
        }
      }
    }
  },
  "cells": [
    {
      "cell_type": "markdown",
      "metadata": {
        "id": "view-in-github",
        "colab_type": "text"
      },
      "source": [
        "<a href=\"https://colab.research.google.com/github/gibsonx/CE888/blob/master/Assignment/Assignment_2.ipynb\" target=\"_parent\"><img src=\"https://colab.research.google.com/assets/colab-badge.svg\" alt=\"Open In Colab\"/></a>"
      ]
    },
    {
      "cell_type": "markdown",
      "metadata": {
        "id": "4NzW2BbFzSdh"
      },
      "source": [
        "#A Comparative Study of Latest Models for TwitterSentiment Analysis (Assignment2)\n"
      ]
    },
    {
      "cell_type": "code",
      "metadata": {
        "id": "nk0hIUcdXpi2"
      },
      "source": [
        "# Silent installation \n",
        "!pip install -U tensorflow zhon transformers sentencepiece &> /dev/null\n",
        "# Download dataset and lib files from the github\n",
        "!git clone https://github.com/cardiffnlp/tweeteval.git &> /dev/null\n",
        "!git clone https://github.com/gibsonx/grocery.git &> /dev/null"
      ],
      "execution_count": 1,
      "outputs": []
    },
    {
      "cell_type": "code",
      "metadata": {
        "id": "8WFgb6kZXX8C",
        "colab": {
          "base_uri": "https://localhost:8080/"
        },
        "outputId": "8416572b-d5e8-4b0e-b176-444858911133"
      },
      "source": [
        "import sys\n",
        "import numpy as np\n",
        "import matplotlib.pyplot as plt\n",
        "import tensorflow as tf\n",
        "from tensorflow.keras import Input, layers, losses, preprocessing, utils\n",
        "from tensorflow.keras.callbacks import ModelCheckpoint\n",
        "from tensorflow.keras.models import Model\n",
        "from tensorflow.keras.optimizers import Adam\n",
        "from keras.layers.core import Dense\n",
        "from sklearn.metrics import accuracy_score, roc_auc_score, roc_curve,confusion_matrix,f1_score\n",
        "\n",
        "#Import customized classes and libraries from file\n",
        "sys.path.insert(0, '/content/grocery/')\n",
        "from CE888_Transformer import DataPrep, imbalance_under_sampling , create_model, get_tokenization, warmup\n",
        "from CustomizedPlots import *\n",
        "try:\n",
        "    %tensorflow_version 2.x\n",
        "except Exception:\n",
        "    pass\n",
        "print(\"Num GPUs Available: \", len(tf.config.list_physical_devices('GPU')))"
      ],
      "execution_count": 2,
      "outputs": [
        {
          "output_type": "stream",
          "text": [
            "Num GPUs Available:  1\n"
          ],
          "name": "stdout"
        }
      ]
    },
    {
      "cell_type": "markdown",
      "metadata": {
        "id": "1s7tr1fdFsKT"
      },
      "source": [
        "#1.Data nominalization for training , validation and test datasets (Hate, Irony and Offensive)"
      ]
    },
    {
      "cell_type": "code",
      "metadata": {
        "id": "hcveRCcrB1Kh",
        "colab": {
          "base_uri": "https://localhost:8080/",
          "height": 221
        },
        "outputId": "f03a226c-0ce5-4fd2-e19c-3598d3912d88"
      },
      "source": [
        "#Define the root folder where we put the datasets\n",
        "base_dir = '/content/tweeteval/datasets/'\n",
        "\n",
        "#Create hate dataframe\n",
        "hate = DataPrep(base_dir, 'hate') \n",
        "hate_dict_train, hate_dict_val, hate_dict_test = hate.dataframe()\n",
        "df_hate = hate.dataframe_merge()\n",
        "not_hate, hate = hate.binary_split()\n",
        "\n",
        "#Create irony dataframe\n",
        "irony = DataPrep(base_dir, 'irony') \n",
        "irony_dict_train, irony_dict_val, irony_dict_test = irony.dataframe()\n",
        "df_irony = irony.dataframe_merge()\n",
        "not_irony, irony = irony.binary_split()\n",
        "\n",
        "#Create offensive dataframe\n",
        "offensive = DataPrep(base_dir, 'offensive')\n",
        "offensive_dict_train, offensive_dict_val, offensive_dict_test = offensive.dataframe()\n",
        "df_offensive = offensive.dataframe_merge()\n",
        "not_offensive, offensive = offensive.binary_split()\n",
        "\n",
        "print(\"The sample of pre-precessed dataset is shown below:\")\n",
        "hate.head()"
      ],
      "execution_count": 3,
      "outputs": [
        {
          "output_type": "stream",
          "text": [
            "The sample of pre-precessed dataset is shown below:\n"
          ],
          "name": "stdout"
        },
        {
          "output_type": "execute_result",
          "data": {
            "text/html": [
              "<div>\n",
              "<style scoped>\n",
              "    .dataframe tbody tr th:only-of-type {\n",
              "        vertical-align: middle;\n",
              "    }\n",
              "\n",
              "    .dataframe tbody tr th {\n",
              "        vertical-align: top;\n",
              "    }\n",
              "\n",
              "    .dataframe thead th {\n",
              "        text-align: right;\n",
              "    }\n",
              "</style>\n",
              "<table border=\"1\" class=\"dataframe\">\n",
              "  <thead>\n",
              "    <tr style=\"text-align: right;\">\n",
              "      <th></th>\n",
              "      <th>text</th>\n",
              "      <th>label</th>\n",
              "    </tr>\n",
              "  </thead>\n",
              "  <tbody>\n",
              "    <tr>\n",
              "      <th>0</th>\n",
              "      <td>a woman who you fucked multiple times saying y...</td>\n",
              "      <td>1</td>\n",
              "    </tr>\n",
              "    <tr>\n",
              "      <th>1</th>\n",
              "      <td>real talk do you have eyes or were they gouge...</td>\n",
              "      <td>1</td>\n",
              "    </tr>\n",
              "    <tr>\n",
              "      <th>2</th>\n",
              "      <td>your girlfriend lookin at me like a groupie in...</td>\n",
              "      <td>1</td>\n",
              "    </tr>\n",
              "    <tr>\n",
              "      <th>3</th>\n",
              "      <td>i am not going after your ex bf you lieing sac...</td>\n",
              "      <td>1</td>\n",
              "    </tr>\n",
              "    <tr>\n",
              "      <th>4</th>\n",
              "      <td>send home migrants not in need of protection p...</td>\n",
              "      <td>1</td>\n",
              "    </tr>\n",
              "  </tbody>\n",
              "</table>\n",
              "</div>"
            ],
            "text/plain": [
              "                                                text  label\n",
              "0  a woman who you fucked multiple times saying y...      1\n",
              "1   real talk do you have eyes or were they gouge...      1\n",
              "2  your girlfriend lookin at me like a groupie in...      1\n",
              "3  i am not going after your ex bf you lieing sac...      1\n",
              "4  send home migrants not in need of protection p...      1"
            ]
          },
          "metadata": {
            "tags": []
          },
          "execution_count": 3
        }
      ]
    },
    {
      "cell_type": "markdown",
      "metadata": {
        "id": "l-jY5aKf6jfe"
      },
      "source": [
        "The samples in the datasets are imbalance, so we make the training dataset balanced using function \"imbalance_under_sampling\""
      ]
    },
    {
      "cell_type": "code",
      "metadata": {
        "id": "37tWMzto2zE1",
        "colab": {
          "base_uri": "https://localhost:8080/",
          "height": 319
        },
        "outputId": "95b23602-85dd-4096-8f18-b2323c94ebcc"
      },
      "source": [
        "Proportion_chart(df_hate,hate,not_hate,df_irony,irony,not_irony,df_offensive,offensive,not_offensive)"
      ],
      "execution_count": 4,
      "outputs": [
        {
          "output_type": "display_data",
          "data": {
            "image/png": "[encoded data removed]",
            "text/plain": [
              "<Figure size 1296x360 with 3 Axes>"
            ]
          },
          "metadata": {
            "tags": []
          }
        }
      ]
    },
    {
      "cell_type": "code",
      "metadata": {
        "id": "Cbnu5FmtMR1J"
      },
      "source": [
        "hate_dict_train = imbalance_under_sampling(hate_dict_train)\n",
        "irony_dict_train = imbalance_under_sampling(irony_dict_train)\n",
        "offensive_dict_train = imbalance_under_sampling(offensive_dict_train)"
      ],
      "execution_count": 5,
      "outputs": []
    },
    {
      "cell_type": "markdown",
      "metadata": {
        "id": "m56adpKPv0R0"
      },
      "source": [
        "#2.Downloading Models and Tokenizations from HuggingFace"
      ]
    },
    {
      "cell_type": "code",
      "metadata": {
        "id": "j_18embbHU9R",
        "colab": {
          "base_uri": "https://localhost:8080/",
          "height": 648,
          "referenced_widgets": [
            "b512d29729c24de0acc3ae4e0a664a89",
            "c2793f6af98042d2ab1a76cf8ece1b08",
            "f5f55ed5ac8c4ae09e7d3d548cf7181d",
            "3b8b2f611b3c4ae19909b0854ca5c922",
            "729f0bb4966c4de0b1021820a3d636c8",
            "ab2e3c93c96a49ae9785f27ee1c9bcb1",
            "9520e10c9498467c9265c8a781a8437d",
            "1b0a6d4d20954134898e39c392382123",
            "68091a64bace43519f474f3a90df74be",
            "22d2e0be97b446c6b1d625385a19dbc7",
            "4a624678845b4fe48431a19ea9fca94d",
            "af9d8435fae8451db1a49bc886792a9c",
            "8e3cc77851a64ff1a568d48f028b942b",
            "d718f1a96d3843869a60ede76df6689f",
            "d892431e969b4b07b2d38dd3563d9b8b",
            "d079c89e6ab7415c8fc9e9f1a9aedd3f",
            "af01e4260f6f466abf0d81330eb5d2a5",
            "a09004ae684d42b6868ecd5d127faa0e",
            "c7b02b1fad5e4559a6dd858f886c5779",
            "a68a513d81db4e039db9ec6076432a54",
            "493c6306db7d47b4a9436d176760d1b0",
            "8477baaa6c244a03909f6ec1fa5c6b6c",
            "f9974521ad444a32b563eb9438a6161a",
            "a49e6e35f9cf44b5828506e5a4ae0ce2",
            "bd7be352a48441f2ab372e009dec9d58",
            "b9cbef1f747545d8a8e709ac86642cbd",
            "dade9036812f4edea2f9136c3ba76ae1",
            "42fd5d3557f9464ab8edd1fe1e50399e",
            "a71fe3017f80479f8c2aede25eeec0c6",
            "feaa36f38b294d229189083490f7464e",
            "6d25c731240c4386a663201597b5b468",
            "a89a043355274122b87de272991c04be",
            "97dc79cc7cd440cdb8e0692c6ce8aca2",
            "ec8be359bcaf4ce290c4f8171b579dfa",
            "74ae4b6ff7d44b98b798aa83ab948612",
            "e2cba17c4e8f4e80b5d2ccef9bc75e26",
            "c8b64fdc752143a5b5ce2ccf7866636f",
            "e7d2b392e07947cb9e3fe7ec5de30649",
            "810fb167f0824b838186dbecb980346d",
            "27b59469adcc4a5baba9d5a103c445e1",
            "7eedee97185f4db586f12943f193d217",
            "792c56f638934b03958aad824d4c0799",
            "0a999f60ac614aa2bd258ffdeefe8f29",
            "be5285fe02194099a74a17cff1d4bd9c",
            "72058c1e59154faa9b82fb96cd385645",
            "1beb645e65fb4dbb949193968a4de409",
            "18efaf6ae7544da99d52407baf36b593",
            "3854f3876cdc408aaabddb1ff7b4fdd9",
            "1de65551d61f4aa68e885c7027b15551",
            "4f41c555e58b4f8f8b21b5196a650974",
            "9df9f5752b4b4c809a688bbec1763180",
            "26866f62035c4c4c83e00a3eee8540de",
            "eea37367cfba42c380422a7a92bcba3a",
            "1679239337b64f638fb5933241a3568e",
            "92f94dd0447645b99ff4dfb74a9c036c",
            "c22fedd00c3c4215bc37df02e74ec4e5",
            "fadc55e8c15a43c9bc134ddcbdb3376c",
            "3bb87bafb3cb47f6a3afa816f0b9261d",
            "db0bee1e889c47098b30f6c5617e47d4",
            "5e3b28a78e3949ea97160c565b41964b",
            "0e8d4cbf71e84af68eff9ab37f7e2a3d",
            "200a9c7c4b0640d68bd31fa83eea9bdb",
            "9283ab809ab34ee68536c74d7fb2190f",
            "5385059e4a994f3aa9cb5031a54b2e51",
            "f3f4fcc35bb344e386d1e28a751b7420",
            "ccf09bf3a3fc4f85a372a42d8005598f",
            "173c93f7b30545829496de5b7eb9a348",
            "f9b488e086934db1aebb4c74adf74644",
            "d95c2726039e4562939883f55d4078bf",
            "cadca536df104fb99c38643637d9f6e6",
            "4e979e9080fa46dd9c1249a194e52c51",
            "58da9399b4144a148d375eba58a2198a"
          ]
        },
        "outputId": "f834f739-9aea-44dc-d0ef-06b23b11b3af"
      },
      "source": [
        "from transformers import TFXLNetModel, XLNetTokenizer, TFDistilBertModel, DistilBertTokenizer\n",
        "\n",
        "xlnet_tokenizer = XLNetTokenizer.from_pretrained('xlnet-base-cased')\n",
        "xlnet_model = TFXLNetModel.from_pretrained('xlnet-base-cased')\n",
        "\n",
        "dbert_tokenizer = DistilBertTokenizer.from_pretrained('distilbert-base-uncased')\n",
        "dbert_model = TFDistilBertModel.from_pretrained('distilbert-base-uncased')\n",
        "\n",
        "for layer in xlnet_model.layers:\n",
        "    layer.trainable = True\n",
        "for layer in dbert_model.layers:\n",
        "    layer.trainable = True"
      ],
      "execution_count": 6,
      "outputs": [
        {
          "output_type": "display_data",
          "data": {
            "application/vnd.jupyter.widget-view+json": {
              "model_id": "b512d29729c24de0acc3ae4e0a664a89",
              "version_minor": 0,
              "version_major": 2
            },
            "text/plain": [
              "HBox(children=(FloatProgress(value=0.0, description='Downloading', max=798011.0, style=ProgressStyle(descripti…"
            ]
          },
          "metadata": {
            "tags": []
          }
        },
        {
          "output_type": "stream",
          "text": [
            "\n"
          ],
          "name": "stdout"
        },
        {
          "output_type": "display_data",
          "data": {
            "application/vnd.jupyter.widget-view+json": {
              "model_id": "68091a64bace43519f474f3a90df74be",
              "version_minor": 0,
              "version_major": 2
            },
            "text/plain": [
              "HBox(children=(FloatProgress(value=0.0, description='Downloading', max=1382015.0, style=ProgressStyle(descript…"
            ]
          },
          "metadata": {
            "tags": []
          }
        },
        {
          "output_type": "stream",
          "text": [
            "\n"
          ],
          "name": "stdout"
        },
        {
          "output_type": "display_data",
          "data": {
            "application/vnd.jupyter.widget-view+json": {
              "model_id": "af01e4260f6f466abf0d81330eb5d2a5",
              "version_minor": 0,
              "version_major": 2
            },
            "text/plain": [
              "HBox(children=(FloatProgress(value=0.0, description='Downloading', max=760.0, style=ProgressStyle(description_…"
            ]
          },
          "metadata": {
            "tags": []
          }
        },
        {
          "output_type": "stream",
          "text": [
            "\n"
          ],
          "name": "stdout"
        },
        {
          "output_type": "display_data",
          "data": {
            "application/vnd.jupyter.widget-view+json": {
              "model_id": "bd7be352a48441f2ab372e009dec9d58",
              "version_minor": 0,
              "version_major": 2
            },
            "text/plain": [
              "HBox(children=(FloatProgress(value=0.0, description='Downloading', max=565485600.0, style=ProgressStyle(descri…"
            ]
          },
          "metadata": {
            "tags": []
          }
        },
        {
          "output_type": "stream",
          "text": [
            "\n"
          ],
          "name": "stdout"
        },
        {
          "output_type": "stream",
          "text": [
            "Some layers from the model checkpoint at xlnet-base-cased were not used when initializing TFXLNetModel: ['lm_loss']\n",
            "- This IS expected if you are initializing TFXLNetModel from the checkpoint of a model trained on another task or with another architecture (e.g. initializing a BertForSequenceClassification model from a BertForPreTraining model).\n",
            "- This IS NOT expected if you are initializing TFXLNetModel from the checkpoint of a model that you expect to be exactly identical (initializing a BertForSequenceClassification model from a BertForSequenceClassification model).\n",
            "All the layers of TFXLNetModel were initialized from the model checkpoint at xlnet-base-cased.\n",
            "If your task is similar to the task the model of the checkpoint was trained on, you can already use TFXLNetModel for predictions without further training.\n"
          ],
          "name": "stderr"
        },
        {
          "output_type": "display_data",
          "data": {
            "application/vnd.jupyter.widget-view+json": {
              "model_id": "97dc79cc7cd440cdb8e0692c6ce8aca2",
              "version_minor": 0,
              "version_major": 2
            },
            "text/plain": [
              "HBox(children=(FloatProgress(value=0.0, description='Downloading', max=231508.0, style=ProgressStyle(descripti…"
            ]
          },
          "metadata": {
            "tags": []
          }
        },
        {
          "output_type": "stream",
          "text": [
            "\n"
          ],
          "name": "stdout"
        },
        {
          "output_type": "display_data",
          "data": {
            "application/vnd.jupyter.widget-view+json": {
              "model_id": "7eedee97185f4db586f12943f193d217",
              "version_minor": 0,
              "version_major": 2
            },
            "text/plain": [
              "HBox(children=(FloatProgress(value=0.0, description='Downloading', max=28.0, style=ProgressStyle(description_w…"
            ]
          },
          "metadata": {
            "tags": []
          }
        },
        {
          "output_type": "stream",
          "text": [
            "\n"
          ],
          "name": "stdout"
        },
        {
          "output_type": "display_data",
          "data": {
            "application/vnd.jupyter.widget-view+json": {
              "model_id": "1de65551d61f4aa68e885c7027b15551",
              "version_minor": 0,
              "version_major": 2
            },
            "text/plain": [
              "HBox(children=(FloatProgress(value=0.0, description='Downloading', max=466062.0, style=ProgressStyle(descripti…"
            ]
          },
          "metadata": {
            "tags": []
          }
        },
        {
          "output_type": "stream",
          "text": [
            "\n"
          ],
          "name": "stdout"
        },
        {
          "output_type": "display_data",
          "data": {
            "application/vnd.jupyter.widget-view+json": {
              "model_id": "fadc55e8c15a43c9bc134ddcbdb3376c",
              "version_minor": 0,
              "version_major": 2
            },
            "text/plain": [
              "HBox(children=(FloatProgress(value=0.0, description='Downloading', max=442.0, style=ProgressStyle(description_…"
            ]
          },
          "metadata": {
            "tags": []
          }
        },
        {
          "output_type": "stream",
          "text": [
            "\n"
          ],
          "name": "stdout"
        },
        {
          "output_type": "display_data",
          "data": {
            "application/vnd.jupyter.widget-view+json": {
              "model_id": "f3f4fcc35bb344e386d1e28a751b7420",
              "version_minor": 0,
              "version_major": 2
            },
            "text/plain": [
              "HBox(children=(FloatProgress(value=0.0, description='Downloading', max=363423424.0, style=ProgressStyle(descri…"
            ]
          },
          "metadata": {
            "tags": []
          }
        },
        {
          "output_type": "stream",
          "text": [
            "\n"
          ],
          "name": "stdout"
        },
        {
          "output_type": "stream",
          "text": [
            "Some layers from the model checkpoint at distilbert-base-uncased were not used when initializing TFDistilBertModel: ['vocab_layer_norm', 'activation_13', 'vocab_projector', 'vocab_transform']\n",
            "- This IS expected if you are initializing TFDistilBertModel from the checkpoint of a model trained on another task or with another architecture (e.g. initializing a BertForSequenceClassification model from a BertForPreTraining model).\n",
            "- This IS NOT expected if you are initializing TFDistilBertModel from the checkpoint of a model that you expect to be exactly identical (initializing a BertForSequenceClassification model from a BertForSequenceClassification model).\n",
            "All the layers of TFDistilBertModel were initialized from the model checkpoint at distilbert-base-uncased.\n",
            "If your task is similar to the task the model of the checkpoint was trained on, you can already use TFDistilBertModel for predictions without further training.\n"
          ],
          "name": "stderr"
        }
      ]
    },
    {
      "cell_type": "markdown",
      "metadata": {
        "id": "Rni4kvqHvD3X"
      },
      "source": [
        "#3.Word Embeddings using XLNet tokenizier, which consist of tokens and attention masks"
      ]
    },
    {
      "cell_type": "code",
      "metadata": {
        "id": "4LUW3oWeOYaA",
        "colab": {
          "base_uri": "https://localhost:8080/"
        },
        "outputId": "a455fa19-26d3-4fbd-e1fc-9e3164b9d794"
      },
      "source": [
        "#DistilBert Tokenizer\n",
        "dl_hate_train_input = get_tokenization(hate_dict_train['text'], dbert_tokenizer)\n",
        "dl_hate_val_input = get_tokenization(hate_dict_val['text'], dbert_tokenizer)\n",
        "dl_hate_test_input = get_tokenization(hate_dict_test['text'], dbert_tokenizer)\n",
        "\n",
        "dl_irony_train_input = get_tokenization(irony_dict_train['text'], dbert_tokenizer)\n",
        "dl_irony_val_input = get_tokenization(irony_dict_val['text'], dbert_tokenizer)\n",
        "dl_irony_test_input = get_tokenization(irony_dict_test['text'], dbert_tokenizer)\n",
        "\n",
        "dl_offensive_train_input = get_tokenization(offensive_dict_train['text'], dbert_tokenizer)\n",
        "dl_offensive_val_input = get_tokenization(offensive_dict_val['text'], dbert_tokenizer)\n",
        "dl_offensive_test_input = get_tokenization(offensive_dict_test['text'], dbert_tokenizer)\n",
        "\n",
        "#XLNet Tokenizer\n",
        "xl_hate_train_input = get_tokenization(hate_dict_train['text'], xlnet_tokenizer)\n",
        "xl_hate_val_input = get_tokenization(hate_dict_val['text'], xlnet_tokenizer)\n",
        "xl_hate_test_input = get_tokenization(hate_dict_test['text'], xlnet_tokenizer)\n",
        "\n",
        "xl_irony_train_input = get_tokenization(irony_dict_train['text'], xlnet_tokenizer)\n",
        "xl_irony_val_input = get_tokenization(irony_dict_val['text'], xlnet_tokenizer)\n",
        "xl_irony_test_input = get_tokenization(irony_dict_test['text'], xlnet_tokenizer)\n",
        "\n",
        "xl_offensive_train_input = get_tokenization(offensive_dict_train['text'], xlnet_tokenizer)\n",
        "xl_offensive_val_input = get_tokenization(offensive_dict_val['text'], xlnet_tokenizer)\n",
        "xl_offensive_test_input = get_tokenization(offensive_dict_test['text'], xlnet_tokenizer)"
      ],
      "execution_count": 7,
      "outputs": [
        {
          "output_type": "stream",
          "text": [
            "Truncation was not explicitly activated but `max_length` is provided a specific value, please use `truncation=True` to explicitly truncate examples to max length. Defaulting to 'longest_first' truncation strategy. If you encode pairs of sequences (GLUE-style) with the tokenizer you can select this strategy more precisely by providing a specific strategy to `truncation`.\n",
            "/usr/local/lib/python3.7/dist-packages/transformers/tokenization_utils_base.py:2079: FutureWarning: The `pad_to_max_length` argument is deprecated and will be removed in a future version, use `padding=True` or `padding='longest'` to pad to the longest sequence in the batch, or use `padding='max_length'` to pad to a max length. In this case, you can give a specific length with `max_length` (e.g. `max_length=45`) or leave max_length to None to pad to the maximal input size of the model (e.g. 512 for Bert).\n",
            "  FutureWarning,\n",
            "Truncation was not explicitly activated but `max_length` is provided a specific value, please use `truncation=True` to explicitly truncate examples to max length. Defaulting to 'longest_first' truncation strategy. If you encode pairs of sequences (GLUE-style) with the tokenizer you can select this strategy more precisely by providing a specific strategy to `truncation`.\n"
          ],
          "name": "stderr"
        }
      ]
    },
    {
      "cell_type": "markdown",
      "metadata": {
        "id": "4uhPp5NPva-C"
      },
      "source": [
        "#4.Apply DistilBert as the 1st model to predict classifcation.\n"
      ]
    },
    {
      "cell_type": "markdown",
      "metadata": {
        "id": "ZH6hffYs7kzr"
      },
      "source": [
        "4.1 DistilBert for Hate Dataset"
      ]
    },
    {
      "cell_type": "code",
      "metadata": {
        "colab": {
          "base_uri": "https://localhost:8080/"
        },
        "id": "WhKOF0i_HdE-",
        "outputId": "d3b05132-06a1-431b-f157-87c93c283588"
      },
      "source": [
        "DistilBert_hate = create_model(dbert_model)\n",
        "DistilBert_hate.summary()"
      ],
      "execution_count": 8,
      "outputs": [
        {
          "output_type": "stream",
          "text": [
            "WARNING:tensorflow:The parameters `output_attentions`, `output_hidden_states` and `use_cache` cannot be updated when calling a model.They have to be set to True/False in the config object (i.e.: `config=XConfig.from_pretrained('name', output_attentions=True)`).\n",
            "WARNING:tensorflow:AutoGraph could not transform <bound method Socket.send of <zmq.sugar.socket.Socket object at 0x7fd83f641d00>> and will run it as-is.\n",
            "Please report this to the TensorFlow team. When filing the bug, set the verbosity to 10 (on Linux, `export AUTOGRAPH_VERBOSITY=10`) and attach the full output.\n",
            "Cause: module, class, method, function, traceback, frame, or code object was expected, got cython_function_or_method\n",
            "To silence this warning, decorate the function with @tf.autograph.experimental.do_not_convert\n",
            "WARNING: AutoGraph could not transform <bound method Socket.send of <zmq.sugar.socket.Socket object at 0x7fd83f641d00>> and will run it as-is.\n",
            "Please report this to the TensorFlow team. When filing the bug, set the verbosity to 10 (on Linux, `export AUTOGRAPH_VERBOSITY=10`) and attach the full output.\n",
            "Cause: module, class, method, function, traceback, frame, or code object was expected, got cython_function_or_method\n",
            "To silence this warning, decorate the function with @tf.autograph.experimental.do_not_convert\n",
            "WARNING:tensorflow:AutoGraph could not transform <function wrap at 0x7fd86aeeed40> and will run it as-is.\n",
            "Cause: while/else statement not yet supported\n",
            "To silence this warning, decorate the function with @tf.autograph.experimental.do_not_convert\n",
            "WARNING: AutoGraph could not transform <function wrap at 0x7fd86aeeed40> and will run it as-is.\n",
            "Cause: while/else statement not yet supported\n",
            "To silence this warning, decorate the function with @tf.autograph.experimental.do_not_convert\n",
            "WARNING:tensorflow:The parameter `return_dict` cannot be set in graph mode and will always be set to `True`.\n",
            "Model: \"model\"\n",
            "__________________________________________________________________________________________________\n",
            "Layer (type)                    Output Shape         Param #     Connected to                     \n",
            "==================================================================================================\n",
            "word_ids (InputLayer)           [(None, 120)]        0                                            \n",
            "__________________________________________________________________________________________________\n",
            "word_attention (InputLayer)     [(None, 120)]        0                                            \n",
            "__________________________________________________________________________________________________\n",
            "tf_distil_bert_model (TFDistilB TFBaseModelOutput(la 66362880    word_ids[0][0]                   \n",
            "                                                                 word_attention[0][0]             \n",
            "__________________________________________________________________________________________________\n",
            "tf.__operators__.getitem (Slici (None, 1, 768)       0           tf_distil_bert_model[0][0]       \n",
            "__________________________________________________________________________________________________\n",
            "tf.compat.v1.squeeze (TFOpLambd (None, 768)          0           tf.__operators__.getitem[0][0]   \n",
            "__________________________________________________________________________________________________\n",
            "encoding (Dense)                (None, 32)           24608       tf.compat.v1.squeeze[0][0]       \n",
            "__________________________________________________________________________________________________\n",
            "dropout_56 (Dropout)            (None, 32)           0           encoding[0][0]                   \n",
            "__________________________________________________________________________________________________\n",
            "outputs (Dense)                 (None, 1)            33          dropout_56[0][0]                 \n",
            "==================================================================================================\n",
            "Total params: 66,387,521\n",
            "Trainable params: 66,387,521\n",
            "Non-trainable params: 0\n",
            "__________________________________________________________________________________________________\n"
          ],
          "name": "stdout"
        }
      ]
    },
    {
      "cell_type": "markdown",
      "metadata": {
        "id": "yV7jZ6-MwFg0"
      },
      "source": [
        "#CallBacks for all attempts of training"
      ]
    },
    {
      "cell_type": "code",
      "metadata": {
        "id": "_WhwGNpZPVhV"
      },
      "source": [
        "callbacks = [\n",
        "    tf.keras.callbacks.EarlyStopping(monitor='loss', patience=4, min_delta=0.001, restore_best_weights=True),\n",
        "    tf.keras.callbacks.LearningRateScheduler(warmup, verbose=0),\n",
        "    tf.keras.callbacks.ReduceLROnPlateau(monitor='val_accuracy', factor=1e-6, patience=2, verbose=0, mode='auto', min_delta=0.001, cooldown=0, min_lr=1e-6)\n",
        "]"
      ],
      "execution_count": 9,
      "outputs": []
    },
    {
      "cell_type": "code",
      "metadata": {
        "colab": {
          "base_uri": "https://localhost:8080/"
        },
        "id": "wKcm9zTpPW6k",
        "outputId": "02f40ee2-23cd-44d0-af1d-a15d7fb859f5"
      },
      "source": [
        "hist_dl_hate = DistilBert_hate.fit(x=dl_hate_train_input, y=hate_dict_train.label, epochs=25, batch_size=16, validation_data=(dl_hate_val_input, hate_dict_val.label), callbacks=callbacks)"
      ],
      "execution_count": 10,
      "outputs": [
        {
          "output_type": "stream",
          "text": [
            "Epoch 1/25\n",
            "WARNING:tensorflow:The parameters `output_attentions`, `output_hidden_states` and `use_cache` cannot be updated when calling a model.They have to be set to True/False in the config object (i.e.: `config=XConfig.from_pretrained('name', output_attentions=True)`).\n",
            "WARNING:tensorflow:The parameter `return_dict` cannot be set in graph mode and will always be set to `True`.\n",
            "WARNING:tensorflow:The parameters `output_attentions`, `output_hidden_states` and `use_cache` cannot be updated when calling a model.They have to be set to True/False in the config object (i.e.: `config=XConfig.from_pretrained('name', output_attentions=True)`).\n",
            "WARNING:tensorflow:The parameter `return_dict` cannot be set in graph mode and will always be set to `True`.\n",
            "473/473 [==============================] - ETA: 0s - loss: 0.6260 - accuracy: 0.6367 - precision: 0.6352 - recall: 0.6512WARNING:tensorflow:The parameters `output_attentions`, `output_hidden_states` and `use_cache` cannot be updated when calling a model.They have to be set to True/False in the config object (i.e.: `config=XConfig.from_pretrained('name', output_attentions=True)`).\n",
            "WARNING:tensorflow:The parameter `return_dict` cannot be set in graph mode and will always be set to `True`.\n",
            "473/473 [==============================] - 75s 138ms/step - loss: 0.6259 - accuracy: 0.6368 - precision: 0.6354 - recall: 0.6513 - val_loss: 0.5340 - val_accuracy: 0.7230 - val_precision: 0.6794 - val_recall: 0.6651\n",
            "Epoch 2/25\n",
            "473/473 [==============================] - 63s 133ms/step - loss: 0.4141 - accuracy: 0.8224 - precision: 0.8230 - recall: 0.8149 - val_loss: 0.5474 - val_accuracy: 0.7300 - val_precision: 0.6592 - val_recall: 0.7611\n",
            "Epoch 3/25\n",
            "473/473 [==============================] - 63s 133ms/step - loss: 0.2344 - accuracy: 0.9068 - precision: 0.9015 - recall: 0.9146 - val_loss: 0.6274 - val_accuracy: 0.7270 - val_precision: 0.6869 - val_recall: 0.6628\n",
            "Epoch 4/25\n",
            "473/473 [==============================] - 63s 133ms/step - loss: 0.1316 - accuracy: 0.9501 - precision: 0.9480 - recall: 0.9516 - val_loss: 0.8757 - val_accuracy: 0.7230 - val_precision: 0.6359 - val_recall: 0.8220\n",
            "Epoch 5/25\n",
            "473/473 [==============================] - 63s 133ms/step - loss: 0.0510 - accuracy: 0.9848 - precision: 0.9851 - recall: 0.9846 - val_loss: 1.2103 - val_accuracy: 0.7080 - val_precision: 0.6221 - val_recall: 0.8056\n",
            "Epoch 6/25\n",
            "473/473 [==============================] - 63s 133ms/step - loss: 0.0392 - accuracy: 0.9873 - precision: 0.9878 - recall: 0.9866 - val_loss: 1.1584 - val_accuracy: 0.7330 - val_precision: 0.6538 - val_recall: 0.7963\n",
            "Epoch 7/25\n",
            "473/473 [==============================] - 63s 133ms/step - loss: 0.0294 - accuracy: 0.9890 - precision: 0.9890 - recall: 0.9891 - val_loss: 1.3434 - val_accuracy: 0.7290 - val_precision: 0.6632 - val_recall: 0.7424\n",
            "Epoch 8/25\n",
            "473/473 [==============================] - 63s 133ms/step - loss: 0.0233 - accuracy: 0.9925 - precision: 0.9938 - recall: 0.9910 - val_loss: 1.3513 - val_accuracy: 0.7360 - val_precision: 0.6791 - val_recall: 0.7237\n",
            "Epoch 9/25\n",
            "473/473 [==============================] - 63s 133ms/step - loss: 0.0261 - accuracy: 0.9911 - precision: 0.9922 - recall: 0.9894 - val_loss: 1.4835 - val_accuracy: 0.7390 - val_precision: 0.6844 - val_recall: 0.7213\n",
            "Epoch 10/25\n",
            "473/473 [==============================] - 63s 133ms/step - loss: 0.0223 - accuracy: 0.9914 - precision: 0.9934 - recall: 0.9895 - val_loss: 1.3882 - val_accuracy: 0.7380 - val_precision: 0.6744 - val_recall: 0.7471\n",
            "Epoch 11/25\n",
            "473/473 [==============================] - 63s 133ms/step - loss: 0.0344 - accuracy: 0.9869 - precision: 0.9856 - recall: 0.9880 - val_loss: 1.3007 - val_accuracy: 0.7270 - val_precision: 0.6944 - val_recall: 0.6440\n",
            "Epoch 12/25\n",
            "473/473 [==============================] - 63s 133ms/step - loss: 0.0227 - accuracy: 0.9913 - precision: 0.9938 - recall: 0.9883 - val_loss: 1.7117 - val_accuracy: 0.7160 - val_precision: 0.6388 - val_recall: 0.7705\n",
            "Epoch 13/25\n",
            "473/473 [==============================] - 63s 133ms/step - loss: 0.0078 - accuracy: 0.9971 - precision: 0.9976 - recall: 0.9967 - val_loss: 1.8729 - val_accuracy: 0.7160 - val_precision: 0.6512 - val_recall: 0.7213\n",
            "Epoch 14/25\n",
            "473/473 [==============================] - 63s 133ms/step - loss: 0.0155 - accuracy: 0.9933 - precision: 0.9946 - recall: 0.9918 - val_loss: 1.7267 - val_accuracy: 0.7220 - val_precision: 0.6424 - val_recall: 0.7869\n",
            "Epoch 15/25\n",
            "473/473 [==============================] - 63s 133ms/step - loss: 0.0138 - accuracy: 0.9952 - precision: 0.9963 - recall: 0.9940 - val_loss: 1.5348 - val_accuracy: 0.7250 - val_precision: 0.6638 - val_recall: 0.7213\n",
            "Epoch 16/25\n",
            "473/473 [==============================] - 63s 133ms/step - loss: 0.0146 - accuracy: 0.9941 - precision: 0.9956 - recall: 0.9927 - val_loss: 1.6312 - val_accuracy: 0.7210 - val_precision: 0.6498 - val_recall: 0.7518\n",
            "Epoch 17/25\n",
            "473/473 [==============================] - 63s 133ms/step - loss: 0.0090 - accuracy: 0.9961 - precision: 0.9973 - recall: 0.9949 - val_loss: 1.8915 - val_accuracy: 0.7230 - val_precision: 0.6374 - val_recall: 0.8150\n",
            "Epoch 18/25\n",
            "473/473 [==============================] - 63s 133ms/step - loss: 0.0062 - accuracy: 0.9974 - precision: 0.9994 - recall: 0.9953 - val_loss: 1.7757 - val_accuracy: 0.7250 - val_precision: 0.6735 - val_recall: 0.6909\n",
            "Epoch 19/25\n",
            "473/473 [==============================] - 63s 133ms/step - loss: 0.0073 - accuracy: 0.9976 - precision: 0.9987 - recall: 0.9966 - val_loss: 1.6330 - val_accuracy: 0.7030 - val_precision: 0.6425 - val_recall: 0.6862\n",
            "Epoch 20/25\n",
            "473/473 [==============================] - 63s 133ms/step - loss: 0.0109 - accuracy: 0.9966 - precision: 0.9966 - recall: 0.9966 - val_loss: 1.6128 - val_accuracy: 0.7120 - val_precision: 0.6404 - val_recall: 0.7424\n",
            "Epoch 21/25\n",
            "473/473 [==============================] - 63s 133ms/step - loss: 0.0114 - accuracy: 0.9964 - precision: 0.9959 - recall: 0.9968 - val_loss: 1.4912 - val_accuracy: 0.7140 - val_precision: 0.6374 - val_recall: 0.7658\n",
            "Epoch 22/25\n",
            "473/473 [==============================] - 63s 133ms/step - loss: 0.0107 - accuracy: 0.9942 - precision: 0.9967 - recall: 0.9916 - val_loss: 1.6885 - val_accuracy: 0.7090 - val_precision: 0.6344 - val_recall: 0.7518\n"
          ],
          "name": "stdout"
        }
      ]
    },
    {
      "cell_type": "code",
      "metadata": {
        "colab": {
          "base_uri": "https://localhost:8080/"
        },
        "id": "-FsN50b505Ij",
        "outputId": "4a45106d-c29a-461d-bd49-1d91ccaf7873"
      },
      "source": [
        "preds_dl_hate = DistilBert_hate.predict(dl_hate_test_input, verbose=True)"
      ],
      "execution_count": 11,
      "outputs": [
        {
          "output_type": "stream",
          "text": [
            "WARNING:tensorflow:The parameters `output_attentions`, `output_hidden_states` and `use_cache` cannot be updated when calling a model.They have to be set to True/False in the config object (i.e.: `config=XConfig.from_pretrained('name', output_attentions=True)`).\n",
            "WARNING:tensorflow:The parameter `return_dict` cannot be set in graph mode and will always be set to `True`.\n",
            "93/93 [==============================] - 9s 79ms/step\n"
          ],
          "name": "stdout"
        }
      ]
    },
    {
      "cell_type": "code",
      "metadata": {
        "colab": {
          "base_uri": "https://localhost:8080/",
          "height": 467
        },
        "id": "HXaU8imwHI9u",
        "outputId": "2473d658-5c16-41a9-bdae-1df3d26cc97d"
      },
      "source": [
        "hate_pred_dl_label = [i[0] for i in preds_dl_hate.round().astype(int)]\n",
        "cm = confusion_matrix(hate_dict_test.label,hate_pred_dl_label)\n",
        "plot_confusion_matrix(cm, normalize=False,target_names=['Not_hate', 'Hate'],title=\"DistilBert Confusion Matrix for Hate\")"
      ],
      "execution_count": 12,
      "outputs": [
        {
          "output_type": "display_data",
          "data": {
            "image/png": "[encoded data removed]",
            "text/plain": [
              "<Figure size 576x432 with 2 Axes>"
            ]
          },
          "metadata": {
            "tags": [],
            "needs_background": "light"
          }
        }
      ]
    },
    {
      "cell_type": "code",
      "metadata": {
        "id": "T0yeLXBX2J1s",
        "colab": {
          "base_uri": "https://localhost:8080/"
        },
        "outputId": "79075715-e417-47c5-811f-12a4bc04f989"
      },
      "source": [
        "f1_dl_hate = f1_score(hate_dict_test.label,hate_pred_dl_label,average='macro')\n",
        "print(\"F1_score of Hate dataset with DistilBert is: %.1f%%\" % round(f1_dl_hate*100,1))"
      ],
      "execution_count": 13,
      "outputs": [
        {
          "output_type": "stream",
          "text": [
            "F1_score of Hate dataset with DistilBert is: 56.2%\n"
          ],
          "name": "stdout"
        }
      ]
    },
    {
      "cell_type": "markdown",
      "metadata": {
        "id": "p63rNrbl7vPq"
      },
      "source": [
        "4.2 DistilBert for Irony Dataset"
      ]
    },
    {
      "cell_type": "code",
      "metadata": {
        "colab": {
          "base_uri": "https://localhost:8080/"
        },
        "id": "q7rfxgAnHb-i",
        "outputId": "cce947cd-5222-4814-d144-152f237c74f9"
      },
      "source": [
        "DistilBert_irony = create_model(dbert_model)\n",
        "hist_irony = DistilBert_irony.fit(x=dl_irony_train_input, y=irony_dict_train.label, epochs=25, batch_size=16, validation_data=(dl_irony_val_input, irony_dict_val.label), callbacks=callbacks)"
      ],
      "execution_count": 14,
      "outputs": [
        {
          "output_type": "stream",
          "text": [
            "WARNING:tensorflow:The parameters `output_attentions`, `output_hidden_states` and `use_cache` cannot be updated when calling a model.They have to be set to True/False in the config object (i.e.: `config=XConfig.from_pretrained('name', output_attentions=True)`).\n",
            "WARNING:tensorflow:The parameter `return_dict` cannot be set in graph mode and will always be set to `True`.\n",
            "Epoch 1/25\n",
            "WARNING:tensorflow:The parameters `output_attentions`, `output_hidden_states` and `use_cache` cannot be updated when calling a model.They have to be set to True/False in the config object (i.e.: `config=XConfig.from_pretrained('name', output_attentions=True)`).\n",
            "WARNING:tensorflow:The parameter `return_dict` cannot be set in graph mode and will always be set to `True`.\n",
            "WARNING:tensorflow:The parameters `output_attentions`, `output_hidden_states` and `use_cache` cannot be updated when calling a model.They have to be set to True/False in the config object (i.e.: `config=XConfig.from_pretrained('name', output_attentions=True)`).\n",
            "WARNING:tensorflow:The parameter `return_dict` cannot be set in graph mode and will always be set to `True`.\n",
            "177/178 [============================>.] - ETA: 0s - loss: 0.7147 - accuracy: 0.5172 - precision_1: 0.5172 - recall_1: 0.5676WARNING:tensorflow:The parameters `output_attentions`, `output_hidden_states` and `use_cache` cannot be updated when calling a model.They have to be set to True/False in the config object (i.e.: `config=XConfig.from_pretrained('name', output_attentions=True)`).\n",
            "WARNING:tensorflow:The parameter `return_dict` cannot be set in graph mode and will always be set to `True`.\n",
            "178/178 [==============================] - 36s 153ms/step - loss: 0.7144 - accuracy: 0.5176 - precision_1: 0.5175 - recall_1: 0.5678 - val_loss: 0.6536 - val_accuracy: 0.6126 - val_precision_1: 0.5837 - val_recall_1: 0.6579\n",
            "Epoch 2/25\n",
            "178/178 [==============================] - 25s 142ms/step - loss: 0.5485 - accuracy: 0.7236 - precision_1: 0.7299 - recall_1: 0.6972 - val_loss: 0.6426 - val_accuracy: 0.6429 - val_precision_1: 0.6139 - val_recall_1: 0.6798\n",
            "Epoch 3/25\n",
            "178/178 [==============================] - 25s 143ms/step - loss: 0.3649 - accuracy: 0.8539 - precision_1: 0.8789 - recall_1: 0.8239 - val_loss: 0.7116 - val_accuracy: 0.6555 - val_precision_1: 0.6348 - val_recall_1: 0.6557\n",
            "Epoch 4/25\n",
            "178/178 [==============================] - 25s 142ms/step - loss: 0.1444 - accuracy: 0.9594 - precision_1: 0.9662 - recall_1: 0.9529 - val_loss: 0.9495 - val_accuracy: 0.6492 - val_precision_1: 0.6247 - val_recall_1: 0.6645\n",
            "Epoch 5/25\n",
            "178/178 [==============================] - 25s 142ms/step - loss: 0.0619 - accuracy: 0.9828 - precision_1: 0.9847 - recall_1: 0.9806 - val_loss: 1.2368 - val_accuracy: 0.6304 - val_precision_1: 0.5880 - val_recall_1: 0.7544\n",
            "Epoch 6/25\n",
            "178/178 [==============================] - 25s 142ms/step - loss: 0.0317 - accuracy: 0.9899 - precision_1: 0.9933 - recall_1: 0.9863 - val_loss: 1.3227 - val_accuracy: 0.6586 - val_precision_1: 0.6354 - val_recall_1: 0.6689\n",
            "Epoch 7/25\n",
            "178/178 [==============================] - 25s 142ms/step - loss: 0.0275 - accuracy: 0.9926 - precision_1: 0.9945 - recall_1: 0.9905 - val_loss: 1.5065 - val_accuracy: 0.6450 - val_precision_1: 0.6021 - val_recall_1: 0.7566\n",
            "Epoch 8/25\n",
            "178/178 [==============================] - 25s 142ms/step - loss: 0.0149 - accuracy: 0.9962 - precision_1: 0.9965 - recall_1: 0.9961 - val_loss: 1.4851 - val_accuracy: 0.6450 - val_precision_1: 0.6321 - val_recall_1: 0.6140\n",
            "Epoch 9/25\n",
            "178/178 [==============================] - 25s 142ms/step - loss: 0.0178 - accuracy: 0.9937 - precision_1: 0.9973 - recall_1: 0.9899 - val_loss: 1.7017 - val_accuracy: 0.6314 - val_precision_1: 0.5903 - val_recall_1: 0.7456\n",
            "Epoch 10/25\n",
            "178/178 [==============================] - 25s 142ms/step - loss: 0.0231 - accuracy: 0.9923 - precision_1: 0.9961 - recall_1: 0.9891 - val_loss: 1.4533 - val_accuracy: 0.6639 - val_precision_1: 0.6762 - val_recall_1: 0.5680\n",
            "Epoch 11/25\n",
            "178/178 [==============================] - 25s 142ms/step - loss: 0.0145 - accuracy: 0.9963 - precision_1: 0.9993 - recall_1: 0.9931 - val_loss: 1.8760 - val_accuracy: 0.6304 - val_precision_1: 0.5925 - val_recall_1: 0.7237\n",
            "Epoch 12/25\n",
            "178/178 [==============================] - 25s 142ms/step - loss: 0.0387 - accuracy: 0.9891 - precision_1: 0.9920 - recall_1: 0.9863 - val_loss: 1.6607 - val_accuracy: 0.6503 - val_precision_1: 0.6235 - val_recall_1: 0.6754\n"
          ],
          "name": "stdout"
        }
      ]
    },
    {
      "cell_type": "code",
      "metadata": {
        "colab": {
          "base_uri": "https://localhost:8080/"
        },
        "id": "UTwy1LkDHooF",
        "outputId": "238c6f94-51d2-497c-edaf-76ba7df8333d"
      },
      "source": [
        "preds_dl_irony = DistilBert_irony.predict(dl_irony_test_input, verbose=True)"
      ],
      "execution_count": 15,
      "outputs": [
        {
          "output_type": "stream",
          "text": [
            "WARNING:tensorflow:The parameters `output_attentions`, `output_hidden_states` and `use_cache` cannot be updated when calling a model.They have to be set to True/False in the config object (i.e.: `config=XConfig.from_pretrained('name', output_attentions=True)`).\n",
            "WARNING:tensorflow:The parameter `return_dict` cannot be set in graph mode and will always be set to `True`.\n",
            "25/25 [==============================] - 4s 78ms/step\n"
          ],
          "name": "stdout"
        }
      ]
    },
    {
      "cell_type": "code",
      "metadata": {
        "colab": {
          "base_uri": "https://localhost:8080/",
          "height": 467
        },
        "id": "6yanVWo7Hpz1",
        "outputId": "108e0d71-4ab3-4825-d436-c5d5d4c39a38"
      },
      "source": [
        "irony_pred_dl_label = [i[0] for i in preds_dl_irony.round().astype(int)]\n",
        "cm = confusion_matrix(irony_dict_test.label,irony_pred_dl_label)\n",
        "plot_confusion_matrix(cm, normalize=False,target_names=['Not_irony', 'Irony'],title=\"DistilBert Confusion Matrix for Irony\")"
      ],
      "execution_count": 16,
      "outputs": [
        {
          "output_type": "display_data",
          "data": {
            "image/png": "[encoded data removed]",
            "text/plain": [
              "<Figure size 576x432 with 2 Axes>"
            ]
          },
          "metadata": {
            "tags": [],
            "needs_background": "light"
          }
        }
      ]
    },
    {
      "cell_type": "code",
      "metadata": {
        "id": "2gCT8T532GxO",
        "colab": {
          "base_uri": "https://localhost:8080/"
        },
        "outputId": "ba8cb96c-ca41-433a-d27d-19415fd91314"
      },
      "source": [
        "f1_dl_irony = f1_score(irony_dict_test.label,irony_pred_dl_label,average='macro')\n",
        "print(\"F1_score of irony dataset with DistilBert is: %.1f%%\" % round(f1_dl_irony*100,1))"
      ],
      "execution_count": 17,
      "outputs": [
        {
          "output_type": "stream",
          "text": [
            "F1_score of irony dataset with DistilBert is: 63.1%\n"
          ],
          "name": "stdout"
        }
      ]
    },
    {
      "cell_type": "markdown",
      "metadata": {
        "id": "RDKaYpjC7ybo"
      },
      "source": [
        "4.3 DistilBert for Offensive Dataset"
      ]
    },
    {
      "cell_type": "code",
      "metadata": {
        "colab": {
          "base_uri": "https://localhost:8080/"
        },
        "id": "E0IDd7q5RM58",
        "outputId": "dbd5091a-aa9f-4cdf-a411-0daaab1410fc"
      },
      "source": [
        "DistilBert_offensive = create_model(dbert_model)\n",
        "hist_dl_offensive = DistilBert_offensive.fit(x=dl_offensive_train_input, y=offensive_dict_train.label, epochs=25, batch_size=16, validation_data=(dl_offensive_val_input, offensive_dict_val.label), callbacks=callbacks)"
      ],
      "execution_count": 18,
      "outputs": [
        {
          "output_type": "stream",
          "text": [
            "WARNING:tensorflow:The parameters `output_attentions`, `output_hidden_states` and `use_cache` cannot be updated when calling a model.They have to be set to True/False in the config object (i.e.: `config=XConfig.from_pretrained('name', output_attentions=True)`).\n",
            "WARNING:tensorflow:The parameter `return_dict` cannot be set in graph mode and will always be set to `True`.\n",
            "Epoch 1/25\n",
            "WARNING:tensorflow:The parameters `output_attentions`, `output_hidden_states` and `use_cache` cannot be updated when calling a model.They have to be set to True/False in the config object (i.e.: `config=XConfig.from_pretrained('name', output_attentions=True)`).\n",
            "WARNING:tensorflow:The parameter `return_dict` cannot be set in graph mode and will always be set to `True`.\n",
            "WARNING:tensorflow:The parameters `output_attentions`, `output_hidden_states` and `use_cache` cannot be updated when calling a model.They have to be set to True/False in the config object (i.e.: `config=XConfig.from_pretrained('name', output_attentions=True)`).\n",
            "WARNING:tensorflow:The parameter `return_dict` cannot be set in graph mode and will always be set to `True`.\n",
            "493/493 [==============================] - ETA: 0s - loss: 0.6197 - accuracy: 0.6518 - precision_2: 0.6526 - recall_2: 0.6381WARNING:tensorflow:The parameters `output_attentions`, `output_hidden_states` and `use_cache` cannot be updated when calling a model.They have to be set to True/False in the config object (i.e.: `config=XConfig.from_pretrained('name', output_attentions=True)`).\n",
            "WARNING:tensorflow:The parameter `return_dict` cannot be set in graph mode and will always be set to `True`.\n",
            "493/493 [==============================] - 77s 139ms/step - loss: 0.6196 - accuracy: 0.6519 - precision_2: 0.6527 - recall_2: 0.6382 - val_loss: 0.4781 - val_accuracy: 0.7825 - val_precision_2: 0.7221 - val_recall_2: 0.6057\n",
            "Epoch 2/25\n",
            "493/493 [==============================] - 66s 134ms/step - loss: 0.4219 - accuracy: 0.8003 - precision_2: 0.8102 - recall_2: 0.7864 - val_loss: 0.5739 - val_accuracy: 0.7319 - val_precision_2: 0.5774 - val_recall_2: 0.8453\n",
            "Epoch 3/25\n",
            "493/493 [==============================] - 66s 134ms/step - loss: 0.2569 - accuracy: 0.8934 - precision_2: 0.8992 - recall_2: 0.8906 - val_loss: 0.5825 - val_accuracy: 0.7742 - val_precision_2: 0.6606 - val_recall_2: 0.7168\n",
            "Epoch 4/25\n",
            "493/493 [==============================] - 66s 134ms/step - loss: 0.1165 - accuracy: 0.9578 - precision_2: 0.9624 - recall_2: 0.9545 - val_loss: 0.8766 - val_accuracy: 0.7470 - val_precision_2: 0.6026 - val_recall_2: 0.7930\n",
            "Epoch 5/25\n",
            "493/493 [==============================] - 66s 134ms/step - loss: 0.0663 - accuracy: 0.9773 - precision_2: 0.9756 - recall_2: 0.9793 - val_loss: 1.0329 - val_accuracy: 0.7470 - val_precision_2: 0.5997 - val_recall_2: 0.8126\n",
            "Epoch 6/25\n",
            "493/493 [==============================] - 66s 134ms/step - loss: 0.0364 - accuracy: 0.9889 - precision_2: 0.9884 - recall_2: 0.9894 - val_loss: 1.2170 - val_accuracy: 0.7409 - val_precision_2: 0.5912 - val_recall_2: 0.8192\n",
            "Epoch 7/25\n",
            "493/493 [==============================] - 66s 135ms/step - loss: 0.0372 - accuracy: 0.9873 - precision_2: 0.9867 - recall_2: 0.9880 - val_loss: 1.0253 - val_accuracy: 0.7560 - val_precision_2: 0.6333 - val_recall_2: 0.7037\n",
            "Epoch 8/25\n",
            "493/493 [==============================] - 66s 134ms/step - loss: 0.0305 - accuracy: 0.9882 - precision_2: 0.9897 - recall_2: 0.9869 - val_loss: 1.4263 - val_accuracy: 0.7576 - val_precision_2: 0.6228 - val_recall_2: 0.7625\n",
            "Epoch 9/25\n",
            "493/493 [==============================] - 66s 135ms/step - loss: 0.0227 - accuracy: 0.9939 - precision_2: 0.9935 - recall_2: 0.9944 - val_loss: 1.4009 - val_accuracy: 0.7364 - val_precision_2: 0.5814 - val_recall_2: 0.8562\n",
            "Epoch 10/25\n",
            "493/493 [==============================] - 67s 136ms/step - loss: 0.0211 - accuracy: 0.9932 - precision_2: 0.9940 - recall_2: 0.9923 - val_loss: 1.3201 - val_accuracy: 0.7742 - val_precision_2: 0.6476 - val_recall_2: 0.7647\n",
            "Epoch 11/25\n",
            "493/493 [==============================] - 66s 135ms/step - loss: 0.0322 - accuracy: 0.9865 - precision_2: 0.9849 - recall_2: 0.9876 - val_loss: 1.3370 - val_accuracy: 0.7440 - val_precision_2: 0.5962 - val_recall_2: 0.8105\n",
            "Epoch 12/25\n",
            "493/493 [==============================] - 66s 135ms/step - loss: 0.0217 - accuracy: 0.9926 - precision_2: 0.9931 - recall_2: 0.9924 - val_loss: 1.4393 - val_accuracy: 0.7606 - val_precision_2: 0.6237 - val_recall_2: 0.7800\n",
            "Epoch 13/25\n",
            "493/493 [==============================] - 67s 135ms/step - loss: 0.0116 - accuracy: 0.9963 - precision_2: 0.9968 - recall_2: 0.9959 - val_loss: 1.2933 - val_accuracy: 0.7598 - val_precision_2: 0.6252 - val_recall_2: 0.7669\n",
            "Epoch 14/25\n",
            "493/493 [==============================] - 66s 134ms/step - loss: 0.0180 - accuracy: 0.9934 - precision_2: 0.9943 - recall_2: 0.9926 - val_loss: 1.4453 - val_accuracy: 0.7651 - val_precision_2: 0.6510 - val_recall_2: 0.6950\n",
            "Epoch 15/25\n",
            "493/493 [==============================] - 66s 135ms/step - loss: 0.0308 - accuracy: 0.9878 - precision_2: 0.9869 - recall_2: 0.9887 - val_loss: 1.3002 - val_accuracy: 0.7659 - val_precision_2: 0.6475 - val_recall_2: 0.7124\n",
            "Epoch 16/25\n",
            "493/493 [==============================] - 66s 134ms/step - loss: 0.0108 - accuracy: 0.9963 - precision_2: 0.9960 - recall_2: 0.9968 - val_loss: 1.5450 - val_accuracy: 0.7628 - val_precision_2: 0.6279 - val_recall_2: 0.7756\n",
            "Epoch 17/25\n",
            "493/493 [==============================] - 66s 134ms/step - loss: 0.0144 - accuracy: 0.9944 - precision_2: 0.9946 - recall_2: 0.9942 - val_loss: 1.5270 - val_accuracy: 0.7485 - val_precision_2: 0.6101 - val_recall_2: 0.7603\n",
            "Epoch 18/25\n",
            "493/493 [==============================] - 66s 134ms/step - loss: 0.0173 - accuracy: 0.9950 - precision_2: 0.9949 - recall_2: 0.9950 - val_loss: 1.5745 - val_accuracy: 0.7462 - val_precision_2: 0.6070 - val_recall_2: 0.7603\n",
            "Epoch 19/25\n",
            "493/493 [==============================] - 66s 134ms/step - loss: 0.0210 - accuracy: 0.9928 - precision_2: 0.9930 - recall_2: 0.9922 - val_loss: 1.5871 - val_accuracy: 0.7621 - val_precision_2: 0.6212 - val_recall_2: 0.8039\n",
            "Epoch 20/25\n",
            "493/493 [==============================] - 66s 134ms/step - loss: 0.0099 - accuracy: 0.9961 - precision_2: 0.9967 - recall_2: 0.9956 - val_loss: 1.7013 - val_accuracy: 0.7500 - val_precision_2: 0.6100 - val_recall_2: 0.7734\n",
            "Epoch 21/25\n",
            "493/493 [==============================] - 66s 134ms/step - loss: 0.0100 - accuracy: 0.9969 - precision_2: 0.9970 - recall_2: 0.9968 - val_loss: 1.4512 - val_accuracy: 0.7402 - val_precision_2: 0.5944 - val_recall_2: 0.7887\n",
            "Epoch 22/25\n",
            "493/493 [==============================] - 66s 134ms/step - loss: 0.0152 - accuracy: 0.9949 - precision_2: 0.9948 - recall_2: 0.9949 - val_loss: 1.5096 - val_accuracy: 0.7492 - val_precision_2: 0.6071 - val_recall_2: 0.7843\n",
            "Epoch 23/25\n",
            "493/493 [==============================] - 66s 134ms/step - loss: 0.0136 - accuracy: 0.9939 - precision_2: 0.9945 - recall_2: 0.9933 - val_loss: 1.4424 - val_accuracy: 0.7583 - val_precision_2: 0.6319 - val_recall_2: 0.7255\n",
            "Epoch 24/25\n",
            "493/493 [==============================] - 66s 134ms/step - loss: 0.0161 - accuracy: 0.9944 - precision_2: 0.9960 - recall_2: 0.9926 - val_loss: 1.5630 - val_accuracy: 0.7379 - val_precision_2: 0.5897 - val_recall_2: 0.8017\n"
          ],
          "name": "stdout"
        }
      ]
    },
    {
      "cell_type": "code",
      "metadata": {
        "colab": {
          "base_uri": "https://localhost:8080/"
        },
        "id": "0JZnQOGSRYay",
        "outputId": "31a3b5a4-d050-46ef-9955-3b3d444b9e63"
      },
      "source": [
        "preds_dl_offensive = DistilBert_offensive.predict(dl_offensive_test_input, verbose=True)"
      ],
      "execution_count": 19,
      "outputs": [
        {
          "output_type": "stream",
          "text": [
            "WARNING:tensorflow:The parameters `output_attentions`, `output_hidden_states` and `use_cache` cannot be updated when calling a model.They have to be set to True/False in the config object (i.e.: `config=XConfig.from_pretrained('name', output_attentions=True)`).\n",
            "WARNING:tensorflow:The parameter `return_dict` cannot be set in graph mode and will always be set to `True`.\n",
            "27/27 [==============================] - 4s 80ms/step\n"
          ],
          "name": "stdout"
        }
      ]
    },
    {
      "cell_type": "code",
      "metadata": {
        "colab": {
          "base_uri": "https://localhost:8080/",
          "height": 467
        },
        "id": "hVZI2SRnResz",
        "outputId": "a5ac112a-b3f2-4b8e-cab0-f75252abf3cc"
      },
      "source": [
        "offensive_pred_dl_label = [i[0] for i in preds_dl_offensive.round().astype(int)]\n",
        "cm = confusion_matrix(offensive_dict_test.label,offensive_pred_dl_label)\n",
        "plot_confusion_matrix(cm, normalize=False, target_names=['Not_offensive', 'Offensive'],title=\"DistilBert Confusion Matrix for Offensive\")"
      ],
      "execution_count": 20,
      "outputs": [
        {
          "output_type": "display_data",
          "data": {
            "image/png": "[encoded data removed]",
            "text/plain": [
              "<Figure size 576x432 with 2 Axes>"
            ]
          },
          "metadata": {
            "tags": [],
            "needs_background": "light"
          }
        }
      ]
    },
    {
      "cell_type": "code",
      "metadata": {
        "id": "6cdfLTYk17iF",
        "colab": {
          "base_uri": "https://localhost:8080/"
        },
        "outputId": "1990bbb7-550c-4179-fd7c-ae4b2b79d3cc"
      },
      "source": [
        "f1_dl_offensive = f1_score(offensive_dict_test.label,offensive_pred_dl_label,average='macro')\n",
        "print(\"F1_score of offensive dataset with DistilBert is: %.1f%%\" % round(f1_dl_offensive*100,1))"
      ],
      "execution_count": 21,
      "outputs": [
        {
          "output_type": "stream",
          "text": [
            "F1_score of offensive dataset with DistilBert is: 75.2%\n"
          ],
          "name": "stdout"
        }
      ]
    },
    {
      "cell_type": "markdown",
      "metadata": {
        "id": "toeItPapUByt"
      },
      "source": [
        "#5. Apply XLNet as the 2nd model to predict classifcation."
      ]
    },
    {
      "cell_type": "markdown",
      "metadata": {
        "id": "wX2G8j857_Jw"
      },
      "source": [
        "5.1 XLnet for Hate Dataset"
      ]
    },
    {
      "cell_type": "code",
      "metadata": {
        "colab": {
          "base_uri": "https://localhost:8080/"
        },
        "id": "MpMxeYhzT-NW",
        "outputId": "23b50710-ead1-473f-bf7d-c56b3d30d43a"
      },
      "source": [
        "XLNet_hate = create_model(xlnet_model)\n",
        "XLNet_hate.summary()"
      ],
      "execution_count": 22,
      "outputs": [
        {
          "output_type": "stream",
          "text": [
            "WARNING:tensorflow:The parameters `output_attentions`, `output_hidden_states` and `use_cache` cannot be updated when calling a model.They have to be set to True/False in the config object (i.e.: `config=XConfig.from_pretrained('name', output_attentions=True)`).\n",
            "WARNING:tensorflow:The parameter `return_dict` cannot be set in graph mode and will always be set to `True`.\n",
            "Model: \"model_3\"\n",
            "__________________________________________________________________________________________________\n",
            "Layer (type)                    Output Shape         Param #     Connected to                     \n",
            "==================================================================================================\n",
            "word_ids (InputLayer)           [(None, 120)]        0                                            \n",
            "__________________________________________________________________________________________________\n",
            "word_attention (InputLayer)     [(None, 120)]        0                                            \n",
            "__________________________________________________________________________________________________\n",
            "tfxl_net_model (TFXLNetModel)   TFXLNetModelOutput(l 116718336   word_ids[0][0]                   \n",
            "                                                                 word_attention[0][0]             \n",
            "__________________________________________________________________________________________________\n",
            "tf.__operators__.getitem_3 (Sli (None, 1, 768)       0           tfxl_net_model[0][0]             \n",
            "__________________________________________________________________________________________________\n",
            "tf.compat.v1.squeeze_3 (TFOpLam (None, 768)          0           tf.__operators__.getitem_3[0][0] \n",
            "__________________________________________________________________________________________________\n",
            "encoding (Dense)                (None, 32)           24608       tf.compat.v1.squeeze_3[0][0]     \n",
            "__________________________________________________________________________________________________\n",
            "dropout_59 (Dropout)            (None, 32)           0           encoding[0][0]                   \n",
            "__________________________________________________________________________________________________\n",
            "outputs (Dense)                 (None, 1)            33          dropout_59[0][0]                 \n",
            "==================================================================================================\n",
            "Total params: 116,742,977\n",
            "Trainable params: 116,742,977\n",
            "Non-trainable params: 0\n",
            "__________________________________________________________________________________________________\n"
          ],
          "name": "stdout"
        }
      ]
    },
    {
      "cell_type": "code",
      "metadata": {
        "colab": {
          "base_uri": "https://localhost:8080/"
        },
        "id": "6bDNJJUjTgnK",
        "outputId": "37d0ca2e-474b-4956-984d-0a9c15791c83"
      },
      "source": [
        "hist_xl_hate = XLNet_hate.fit(x=xl_hate_train_input, y=hate_dict_train.label, epochs=25, batch_size=16, validation_data=(xl_hate_val_input, hate_dict_val.label), callbacks=callbacks)"
      ],
      "execution_count": 23,
      "outputs": [
        {
          "output_type": "stream",
          "text": [
            "Epoch 1/25\n",
            "WARNING:tensorflow:The parameters `output_attentions`, `output_hidden_states` and `use_cache` cannot be updated when calling a model.They have to be set to True/False in the config object (i.e.: `config=XConfig.from_pretrained('name', output_attentions=True)`).\n",
            "WARNING:tensorflow:The parameter `return_dict` cannot be set in graph mode and will always be set to `True`.\n",
            "WARNING:tensorflow:Gradients do not exist for variables ['tfxl_net_model/transformer/mask_emb:0', 'tfxl_net_model/transformer/layer_._0/rel_attn/r_s_bias:0', 'tfxl_net_model/transformer/layer_._0/rel_attn/seg_embed:0', 'tfxl_net_model/transformer/layer_._1/rel_attn/r_s_bias:0', 'tfxl_net_model/transformer/layer_._1/rel_attn/seg_embed:0', 'tfxl_net_model/transformer/layer_._2/rel_attn/r_s_bias:0', 'tfxl_net_model/transformer/layer_._2/rel_attn/seg_embed:0', 'tfxl_net_model/transformer/layer_._3/rel_attn/r_s_bias:0', 'tfxl_net_model/transformer/layer_._3/rel_attn/seg_embed:0', 'tfxl_net_model/transformer/layer_._4/rel_attn/r_s_bias:0', 'tfxl_net_model/transformer/layer_._4/rel_attn/seg_embed:0', 'tfxl_net_model/transformer/layer_._5/rel_attn/r_s_bias:0', 'tfxl_net_model/transformer/layer_._5/rel_attn/seg_embed:0', 'tfxl_net_model/transformer/layer_._6/rel_attn/r_s_bias:0', 'tfxl_net_model/transformer/layer_._6/rel_attn/seg_embed:0', 'tfxl_net_model/transformer/layer_._7/rel_attn/r_s_bias:0', 'tfxl_net_model/transformer/layer_._7/rel_attn/seg_embed:0', 'tfxl_net_model/transformer/layer_._8/rel_attn/r_s_bias:0', 'tfxl_net_model/transformer/layer_._8/rel_attn/seg_embed:0', 'tfxl_net_model/transformer/layer_._9/rel_attn/r_s_bias:0', 'tfxl_net_model/transformer/layer_._9/rel_attn/seg_embed:0', 'tfxl_net_model/transformer/layer_._10/rel_attn/r_s_bias:0', 'tfxl_net_model/transformer/layer_._10/rel_attn/seg_embed:0', 'tfxl_net_model/transformer/layer_._11/rel_attn/r_s_bias:0', 'tfxl_net_model/transformer/layer_._11/rel_attn/seg_embed:0'] when minimizing the loss.\n",
            "WARNING:tensorflow:The parameters `output_attentions`, `output_hidden_states` and `use_cache` cannot be updated when calling a model.They have to be set to True/False in the config object (i.e.: `config=XConfig.from_pretrained('name', output_attentions=True)`).\n",
            "WARNING:tensorflow:The parameter `return_dict` cannot be set in graph mode and will always be set to `True`.\n",
            "WARNING:tensorflow:Gradients do not exist for variables ['tfxl_net_model/transformer/mask_emb:0', 'tfxl_net_model/transformer/layer_._0/rel_attn/r_s_bias:0', 'tfxl_net_model/transformer/layer_._0/rel_attn/seg_embed:0', 'tfxl_net_model/transformer/layer_._1/rel_attn/r_s_bias:0', 'tfxl_net_model/transformer/layer_._1/rel_attn/seg_embed:0', 'tfxl_net_model/transformer/layer_._2/rel_attn/r_s_bias:0', 'tfxl_net_model/transformer/layer_._2/rel_attn/seg_embed:0', 'tfxl_net_model/transformer/layer_._3/rel_attn/r_s_bias:0', 'tfxl_net_model/transformer/layer_._3/rel_attn/seg_embed:0', 'tfxl_net_model/transformer/layer_._4/rel_attn/r_s_bias:0', 'tfxl_net_model/transformer/layer_._4/rel_attn/seg_embed:0', 'tfxl_net_model/transformer/layer_._5/rel_attn/r_s_bias:0', 'tfxl_net_model/transformer/layer_._5/rel_attn/seg_embed:0', 'tfxl_net_model/transformer/layer_._6/rel_attn/r_s_bias:0', 'tfxl_net_model/transformer/layer_._6/rel_attn/seg_embed:0', 'tfxl_net_model/transformer/layer_._7/rel_attn/r_s_bias:0', 'tfxl_net_model/transformer/layer_._7/rel_attn/seg_embed:0', 'tfxl_net_model/transformer/layer_._8/rel_attn/r_s_bias:0', 'tfxl_net_model/transformer/layer_._8/rel_attn/seg_embed:0', 'tfxl_net_model/transformer/layer_._9/rel_attn/r_s_bias:0', 'tfxl_net_model/transformer/layer_._9/rel_attn/seg_embed:0', 'tfxl_net_model/transformer/layer_._10/rel_attn/r_s_bias:0', 'tfxl_net_model/transformer/layer_._10/rel_attn/seg_embed:0', 'tfxl_net_model/transformer/layer_._11/rel_attn/r_s_bias:0', 'tfxl_net_model/transformer/layer_._11/rel_attn/seg_embed:0'] when minimizing the loss.\n",
            "473/473 [==============================] - ETA: 0s - loss: 0.7294 - accuracy: 0.5749 - precision_3: 0.5804 - recall_3: 0.5257WARNING:tensorflow:The parameters `output_attentions`, `output_hidden_states` and `use_cache` cannot be updated when calling a model.They have to be set to True/False in the config object (i.e.: `config=XConfig.from_pretrained('name', output_attentions=True)`).\n",
            "WARNING:tensorflow:The parameter `return_dict` cannot be set in graph mode and will always be set to `True`.\n",
            "473/473 [==============================] - 166s 319ms/step - loss: 0.7292 - accuracy: 0.5751 - precision_3: 0.5806 - recall_3: 0.5259 - val_loss: 0.5634 - val_accuracy: 0.7100 - val_precision_3: 0.6952 - val_recall_3: 0.5714\n",
            "Epoch 2/25\n",
            "473/473 [==============================] - 148s 313ms/step - loss: 0.5232 - accuracy: 0.7439 - precision_3: 0.7444 - recall_3: 0.7505 - val_loss: 0.6418 - val_accuracy: 0.6830 - val_precision_3: 0.5865 - val_recall_3: 0.8735\n",
            "Epoch 3/25\n",
            "473/473 [==============================] - 148s 313ms/step - loss: 0.4230 - accuracy: 0.8102 - precision_3: 0.8124 - recall_3: 0.8068 - val_loss: 0.6231 - val_accuracy: 0.7130 - val_precision_3: 0.6268 - val_recall_3: 0.8103\n",
            "Epoch 4/25\n",
            "473/473 [==============================] - 148s 313ms/step - loss: 0.3410 - accuracy: 0.8631 - precision_3: 0.8595 - recall_3: 0.8767 - val_loss: 0.6142 - val_accuracy: 0.7160 - val_precision_3: 0.6538 - val_recall_3: 0.7119\n",
            "Epoch 5/25\n",
            "473/473 [==============================] - 148s 313ms/step - loss: 0.2424 - accuracy: 0.9102 - precision_3: 0.9071 - recall_3: 0.9134 - val_loss: 0.9950 - val_accuracy: 0.6770 - val_precision_3: 0.5820 - val_recall_3: 0.8642\n",
            "Epoch 6/25\n",
            "473/473 [==============================] - 148s 313ms/step - loss: 0.1663 - accuracy: 0.9334 - precision_3: 0.9332 - recall_3: 0.9357 - val_loss: 0.8931 - val_accuracy: 0.6940 - val_precision_3: 0.6017 - val_recall_3: 0.8384\n",
            "Epoch 7/25\n",
            "473/473 [==============================] - 148s 313ms/step - loss: 0.0960 - accuracy: 0.9695 - precision_3: 0.9727 - recall_3: 0.9646 - val_loss: 1.1437 - val_accuracy: 0.7040 - val_precision_3: 0.6287 - val_recall_3: 0.7494\n",
            "Epoch 8/25\n",
            "473/473 [==============================] - 148s 313ms/step - loss: 0.0672 - accuracy: 0.9768 - precision_3: 0.9811 - recall_3: 0.9725 - val_loss: 1.0813 - val_accuracy: 0.7380 - val_precision_3: 0.6862 - val_recall_3: 0.7119\n",
            "Epoch 9/25\n",
            "473/473 [==============================] - 148s 313ms/step - loss: 0.0527 - accuracy: 0.9813 - precision_3: 0.9831 - recall_3: 0.9803 - val_loss: 1.6937 - val_accuracy: 0.7030 - val_precision_3: 0.6165 - val_recall_3: 0.8056\n",
            "Epoch 10/25\n",
            "473/473 [==============================] - 148s 313ms/step - loss: 0.0505 - accuracy: 0.9840 - precision_3: 0.9852 - recall_3: 0.9823 - val_loss: 1.4595 - val_accuracy: 0.7120 - val_precision_3: 0.6285 - val_recall_3: 0.7963\n",
            "Epoch 11/25\n",
            "473/473 [==============================] - 148s 313ms/step - loss: 0.0352 - accuracy: 0.9872 - precision_3: 0.9897 - recall_3: 0.9843 - val_loss: 1.5755 - val_accuracy: 0.7190 - val_precision_3: 0.6515 - val_recall_3: 0.7354\n",
            "Epoch 12/25\n",
            "473/473 [==============================] - 148s 314ms/step - loss: 0.0343 - accuracy: 0.9877 - precision_3: 0.9864 - recall_3: 0.9892 - val_loss: 1.8444 - val_accuracy: 0.7350 - val_precision_3: 0.6646 - val_recall_3: 0.7658\n",
            "Epoch 13/25\n",
            "473/473 [==============================] - 148s 313ms/step - loss: 0.0310 - accuracy: 0.9917 - precision_3: 0.9921 - recall_3: 0.9913 - val_loss: 1.4277 - val_accuracy: 0.7310 - val_precision_3: 0.6667 - val_recall_3: 0.7400\n",
            "Epoch 14/25\n",
            "473/473 [==============================] - 148s 313ms/step - loss: 0.0368 - accuracy: 0.9896 - precision_3: 0.9919 - recall_3: 0.9875 - val_loss: 1.5955 - val_accuracy: 0.7230 - val_precision_3: 0.6420 - val_recall_3: 0.7939\n",
            "Epoch 15/25\n",
            "473/473 [==============================] - 148s 313ms/step - loss: 0.0254 - accuracy: 0.9914 - precision_3: 0.9916 - recall_3: 0.9911 - val_loss: 1.4976 - val_accuracy: 0.7200 - val_precision_3: 0.6283 - val_recall_3: 0.8431\n",
            "Epoch 16/25\n",
            "473/473 [==============================] - 148s 313ms/step - loss: 0.0288 - accuracy: 0.9892 - precision_3: 0.9902 - recall_3: 0.9878 - val_loss: 1.9483 - val_accuracy: 0.7120 - val_precision_3: 0.6243 - val_recall_3: 0.8173\n",
            "Epoch 17/25\n",
            "473/473 [==============================] - 148s 313ms/step - loss: 0.0246 - accuracy: 0.9906 - precision_3: 0.9920 - recall_3: 0.9892 - val_loss: 2.2829 - val_accuracy: 0.7330 - val_precision_3: 0.6794 - val_recall_3: 0.7096\n",
            "Epoch 18/25\n",
            "473/473 [==============================] - 148s 313ms/step - loss: 0.0298 - accuracy: 0.9901 - precision_3: 0.9905 - recall_3: 0.9902 - val_loss: 2.0381 - val_accuracy: 0.7240 - val_precision_3: 0.6557 - val_recall_3: 0.7447\n",
            "Epoch 19/25\n",
            "473/473 [==============================] - 148s 313ms/step - loss: 0.0320 - accuracy: 0.9883 - precision_3: 0.9884 - recall_3: 0.9883 - val_loss: 2.2515 - val_accuracy: 0.7060 - val_precision_3: 0.6455 - val_recall_3: 0.6909\n",
            "Epoch 20/25\n",
            "473/473 [==============================] - 148s 313ms/step - loss: 0.0241 - accuracy: 0.9916 - precision_3: 0.9930 - recall_3: 0.9902 - val_loss: 2.2141 - val_accuracy: 0.7260 - val_precision_3: 0.6584 - val_recall_3: 0.7447\n",
            "Epoch 21/25\n",
            "473/473 [==============================] - 148s 313ms/step - loss: 0.0241 - accuracy: 0.9937 - precision_3: 0.9952 - recall_3: 0.9922 - val_loss: 1.9514 - val_accuracy: 0.7180 - val_precision_3: 0.6447 - val_recall_3: 0.7564\n"
          ],
          "name": "stdout"
        }
      ]
    },
    {
      "cell_type": "code",
      "metadata": {
        "colab": {
          "base_uri": "https://localhost:8080/"
        },
        "id": "FvLsulRdUpuG",
        "outputId": "7ab36083-b106-4d37-a9e8-550a96542914"
      },
      "source": [
        "preds_xl_hate = XLNet_hate.predict(xl_hate_test_input, verbose=True)"
      ],
      "execution_count": 24,
      "outputs": [
        {
          "output_type": "stream",
          "text": [
            "WARNING:tensorflow:The parameters `output_attentions`, `output_hidden_states` and `use_cache` cannot be updated when calling a model.They have to be set to True/False in the config object (i.e.: `config=XConfig.from_pretrained('name', output_attentions=True)`).\n",
            "WARNING:tensorflow:The parameter `return_dict` cannot be set in graph mode and will always be set to `True`.\n",
            "93/93 [==============================] - 20s 186ms/step\n"
          ],
          "name": "stdout"
        }
      ]
    },
    {
      "cell_type": "code",
      "metadata": {
        "colab": {
          "base_uri": "https://localhost:8080/",
          "height": 467
        },
        "id": "ZDaUwPk_UVWt",
        "outputId": "4a99d6eb-5042-4429-a0af-88cda534db88"
      },
      "source": [
        "hate_pred_xl_label = [i[0] for i in preds_xl_hate.round().astype(int)]\n",
        "cm = confusion_matrix(hate_dict_test.label,hate_pred_xl_label)\n",
        "plot_confusion_matrix(cm, normalize=False,target_names=['Not_hate', 'Hate'],title=\"XLNet Confusion Matrix for Hate\")"
      ],
      "execution_count": 25,
      "outputs": [
        {
          "output_type": "display_data",
          "data": {
            "image/png": "[encoded data removed]",
            "text/plain": [
              "<Figure size 576x432 with 2 Axes>"
            ]
          },
          "metadata": {
            "tags": [],
            "needs_background": "light"
          }
        }
      ]
    },
    {
      "cell_type": "code",
      "metadata": {
        "id": "c1t3aKYX14Nb",
        "colab": {
          "base_uri": "https://localhost:8080/"
        },
        "outputId": "f1ae2bc7-ed3b-4878-e1df-1b9992fa7438"
      },
      "source": [
        "f1_xl_hate = f1_score(hate_dict_test.label,hate_pred_xl_label,average='macro')\n",
        "print(\"F1_score of Hate dataset with XLnet is: %.1f%%\" % round(f1_xl_hate*100,1))"
      ],
      "execution_count": 26,
      "outputs": [
        {
          "output_type": "stream",
          "text": [
            "F1_score of Hate dataset with XLnet is: 58.6%\n"
          ],
          "name": "stdout"
        }
      ]
    },
    {
      "cell_type": "markdown",
      "metadata": {
        "id": "PuJ9i_or8FfM"
      },
      "source": [
        "XLnet for Irony Dataset"
      ]
    },
    {
      "cell_type": "code",
      "metadata": {
        "colab": {
          "base_uri": "https://localhost:8080/"
        },
        "id": "ari-sMwRU9pM",
        "outputId": "7dfd2351-b1ec-49a2-c3dd-f16824cf79f7"
      },
      "source": [
        "XLNet_irony = create_model(xlnet_model)"
      ],
      "execution_count": 27,
      "outputs": [
        {
          "output_type": "stream",
          "text": [
            "WARNING:tensorflow:The parameters `output_attentions`, `output_hidden_states` and `use_cache` cannot be updated when calling a model.They have to be set to True/False in the config object (i.e.: `config=XConfig.from_pretrained('name', output_attentions=True)`).\n",
            "WARNING:tensorflow:The parameter `return_dict` cannot be set in graph mode and will always be set to `True`.\n"
          ],
          "name": "stdout"
        }
      ]
    },
    {
      "cell_type": "code",
      "metadata": {
        "colab": {
          "base_uri": "https://localhost:8080/"
        },
        "id": "NX62uykYVBOm",
        "outputId": "d8858fc2-5c20-497a-a07a-8d5e31bf78f2"
      },
      "source": [
        "hist_xl_irony = XLNet_irony.fit(x=xl_irony_train_input, y=irony_dict_train.label, epochs=25, batch_size=16, validation_data=(xl_irony_val_input, irony_dict_val.label), callbacks=callbacks)"
      ],
      "execution_count": 28,
      "outputs": [
        {
          "output_type": "stream",
          "text": [
            "Epoch 1/25\n",
            "WARNING:tensorflow:The parameters `output_attentions`, `output_hidden_states` and `use_cache` cannot be updated when calling a model.They have to be set to True/False in the config object (i.e.: `config=XConfig.from_pretrained('name', output_attentions=True)`).\n",
            "WARNING:tensorflow:The parameter `return_dict` cannot be set in graph mode and will always be set to `True`.\n",
            "WARNING:tensorflow:Gradients do not exist for variables ['tfxl_net_model/transformer/mask_emb:0', 'tfxl_net_model/transformer/layer_._0/rel_attn/r_s_bias:0', 'tfxl_net_model/transformer/layer_._0/rel_attn/seg_embed:0', 'tfxl_net_model/transformer/layer_._1/rel_attn/r_s_bias:0', 'tfxl_net_model/transformer/layer_._1/rel_attn/seg_embed:0', 'tfxl_net_model/transformer/layer_._2/rel_attn/r_s_bias:0', 'tfxl_net_model/transformer/layer_._2/rel_attn/seg_embed:0', 'tfxl_net_model/transformer/layer_._3/rel_attn/r_s_bias:0', 'tfxl_net_model/transformer/layer_._3/rel_attn/seg_embed:0', 'tfxl_net_model/transformer/layer_._4/rel_attn/r_s_bias:0', 'tfxl_net_model/transformer/layer_._4/rel_attn/seg_embed:0', 'tfxl_net_model/transformer/layer_._5/rel_attn/r_s_bias:0', 'tfxl_net_model/transformer/layer_._5/rel_attn/seg_embed:0', 'tfxl_net_model/transformer/layer_._6/rel_attn/r_s_bias:0', 'tfxl_net_model/transformer/layer_._6/rel_attn/seg_embed:0', 'tfxl_net_model/transformer/layer_._7/rel_attn/r_s_bias:0', 'tfxl_net_model/transformer/layer_._7/rel_attn/seg_embed:0', 'tfxl_net_model/transformer/layer_._8/rel_attn/r_s_bias:0', 'tfxl_net_model/transformer/layer_._8/rel_attn/seg_embed:0', 'tfxl_net_model/transformer/layer_._9/rel_attn/r_s_bias:0', 'tfxl_net_model/transformer/layer_._9/rel_attn/seg_embed:0', 'tfxl_net_model/transformer/layer_._10/rel_attn/r_s_bias:0', 'tfxl_net_model/transformer/layer_._10/rel_attn/seg_embed:0', 'tfxl_net_model/transformer/layer_._11/rel_attn/r_s_bias:0', 'tfxl_net_model/transformer/layer_._11/rel_attn/seg_embed:0'] when minimizing the loss.\n",
            "WARNING:tensorflow:The parameters `output_attentions`, `output_hidden_states` and `use_cache` cannot be updated when calling a model.They have to be set to True/False in the config object (i.e.: `config=XConfig.from_pretrained('name', output_attentions=True)`).\n",
            "WARNING:tensorflow:The parameter `return_dict` cannot be set in graph mode and will always be set to `True`.\n",
            "WARNING:tensorflow:Gradients do not exist for variables ['tfxl_net_model/transformer/mask_emb:0', 'tfxl_net_model/transformer/layer_._0/rel_attn/r_s_bias:0', 'tfxl_net_model/transformer/layer_._0/rel_attn/seg_embed:0', 'tfxl_net_model/transformer/layer_._1/rel_attn/r_s_bias:0', 'tfxl_net_model/transformer/layer_._1/rel_attn/seg_embed:0', 'tfxl_net_model/transformer/layer_._2/rel_attn/r_s_bias:0', 'tfxl_net_model/transformer/layer_._2/rel_attn/seg_embed:0', 'tfxl_net_model/transformer/layer_._3/rel_attn/r_s_bias:0', 'tfxl_net_model/transformer/layer_._3/rel_attn/seg_embed:0', 'tfxl_net_model/transformer/layer_._4/rel_attn/r_s_bias:0', 'tfxl_net_model/transformer/layer_._4/rel_attn/seg_embed:0', 'tfxl_net_model/transformer/layer_._5/rel_attn/r_s_bias:0', 'tfxl_net_model/transformer/layer_._5/rel_attn/seg_embed:0', 'tfxl_net_model/transformer/layer_._6/rel_attn/r_s_bias:0', 'tfxl_net_model/transformer/layer_._6/rel_attn/seg_embed:0', 'tfxl_net_model/transformer/layer_._7/rel_attn/r_s_bias:0', 'tfxl_net_model/transformer/layer_._7/rel_attn/seg_embed:0', 'tfxl_net_model/transformer/layer_._8/rel_attn/r_s_bias:0', 'tfxl_net_model/transformer/layer_._8/rel_attn/seg_embed:0', 'tfxl_net_model/transformer/layer_._9/rel_attn/r_s_bias:0', 'tfxl_net_model/transformer/layer_._9/rel_attn/seg_embed:0', 'tfxl_net_model/transformer/layer_._10/rel_attn/r_s_bias:0', 'tfxl_net_model/transformer/layer_._10/rel_attn/seg_embed:0', 'tfxl_net_model/transformer/layer_._11/rel_attn/r_s_bias:0', 'tfxl_net_model/transformer/layer_._11/rel_attn/seg_embed:0'] when minimizing the loss.\n",
            "178/178 [==============================] - ETA: 0s - loss: 0.7790 - accuracy: 0.5211 - precision_4: 0.5190 - recall_4: 0.4937WARNING:tensorflow:The parameters `output_attentions`, `output_hidden_states` and `use_cache` cannot be updated when calling a model.They have to be set to True/False in the config object (i.e.: `config=XConfig.from_pretrained('name', output_attentions=True)`).\n",
            "WARNING:tensorflow:The parameter `return_dict` cannot be set in graph mode and will always be set to `True`.\n",
            "178/178 [==============================] - 77s 348ms/step - loss: 0.7786 - accuracy: 0.5212 - precision_4: 0.5191 - recall_4: 0.4937 - val_loss: 0.7004 - val_accuracy: 0.5026 - val_precision_4: 0.4895 - val_recall_4: 0.9759\n",
            "Epoch 2/25\n",
            "178/178 [==============================] - 59s 333ms/step - loss: 0.6308 - accuracy: 0.6368 - precision_4: 0.6432 - recall_4: 0.6745 - val_loss: 0.6234 - val_accuracy: 0.6586 - val_precision_4: 0.6720 - val_recall_4: 0.5570\n",
            "Epoch 3/25\n",
            "178/178 [==============================] - 59s 333ms/step - loss: 0.5082 - accuracy: 0.7574 - precision_4: 0.7923 - recall_4: 0.7050 - val_loss: 0.6367 - val_accuracy: 0.6712 - val_precision_4: 0.6355 - val_recall_4: 0.7303\n",
            "Epoch 4/25\n",
            "178/178 [==============================] - 59s 333ms/step - loss: 0.3307 - accuracy: 0.8677 - precision_4: 0.8832 - recall_4: 0.8458 - val_loss: 0.9299 - val_accuracy: 0.6482 - val_precision_4: 0.5906 - val_recall_4: 0.8575\n",
            "Epoch 5/25\n",
            "178/178 [==============================] - 59s 333ms/step - loss: 0.1835 - accuracy: 0.9308 - precision_4: 0.9395 - recall_4: 0.9190 - val_loss: 1.1058 - val_accuracy: 0.6827 - val_precision_4: 0.7062 - val_recall_4: 0.5746\n",
            "Epoch 6/25\n",
            "178/178 [==============================] - 59s 333ms/step - loss: 0.1406 - accuracy: 0.9479 - precision_4: 0.9532 - recall_4: 0.9414 - val_loss: 1.5274 - val_accuracy: 0.6827 - val_precision_4: 0.6533 - val_recall_4: 0.7149\n",
            "Epoch 7/25\n",
            "178/178 [==============================] - 59s 333ms/step - loss: 0.1123 - accuracy: 0.9641 - precision_4: 0.9761 - recall_4: 0.9523 - val_loss: 1.5635 - val_accuracy: 0.6628 - val_precision_4: 0.6151 - val_recall_4: 0.7851\n",
            "Epoch 8/25\n",
            "178/178 [==============================] - 59s 333ms/step - loss: 0.0385 - accuracy: 0.9898 - precision_4: 0.9896 - recall_4: 0.9900 - val_loss: 1.8207 - val_accuracy: 0.6366 - val_precision_4: 0.5803 - val_recall_4: 0.8640\n",
            "Epoch 9/25\n",
            "178/178 [==============================] - 59s 333ms/step - loss: 0.0676 - accuracy: 0.9732 - precision_4: 0.9685 - recall_4: 0.9766 - val_loss: 1.9600 - val_accuracy: 0.6660 - val_precision_4: 0.6300 - val_recall_4: 0.7281\n",
            "Epoch 10/25\n",
            "178/178 [==============================] - 59s 333ms/step - loss: 0.0344 - accuracy: 0.9874 - precision_4: 0.9875 - recall_4: 0.9879 - val_loss: 2.0536 - val_accuracy: 0.6806 - val_precision_4: 0.6438 - val_recall_4: 0.7412\n",
            "Epoch 11/25\n",
            "178/178 [==============================] - 59s 333ms/step - loss: 0.0230 - accuracy: 0.9908 - precision_4: 0.9930 - recall_4: 0.9883 - val_loss: 2.2749 - val_accuracy: 0.6628 - val_precision_4: 0.6175 - val_recall_4: 0.7719\n",
            "Epoch 12/25\n",
            "178/178 [==============================] - 59s 333ms/step - loss: 0.0237 - accuracy: 0.9918 - precision_4: 0.9923 - recall_4: 0.9911 - val_loss: 2.2074 - val_accuracy: 0.6607 - val_precision_4: 0.6183 - val_recall_4: 0.7566\n",
            "Epoch 13/25\n",
            "178/178 [==============================] - 59s 333ms/step - loss: 0.0250 - accuracy: 0.9913 - precision_4: 0.9961 - recall_4: 0.9867 - val_loss: 2.6930 - val_accuracy: 0.6670 - val_precision_4: 0.6237 - val_recall_4: 0.7632\n",
            "Epoch 14/25\n",
            "178/178 [==============================] - 59s 333ms/step - loss: 0.0123 - accuracy: 0.9963 - precision_4: 0.9977 - recall_4: 0.9946 - val_loss: 2.3119 - val_accuracy: 0.6660 - val_precision_4: 0.6280 - val_recall_4: 0.7368\n",
            "Epoch 15/25\n",
            "178/178 [==============================] - 59s 333ms/step - loss: 0.0286 - accuracy: 0.9907 - precision_4: 0.9911 - recall_4: 0.9902 - val_loss: 1.9173 - val_accuracy: 0.6764 - val_precision_4: 0.6405 - val_recall_4: 0.7346\n",
            "Epoch 16/25\n",
            "178/178 [==============================] - 59s 333ms/step - loss: 0.0253 - accuracy: 0.9908 - precision_4: 0.9941 - recall_4: 0.9878 - val_loss: 1.8816 - val_accuracy: 0.6817 - val_precision_4: 0.6891 - val_recall_4: 0.6075\n",
            "Epoch 17/25\n",
            "178/178 [==============================] - 59s 333ms/step - loss: 0.0442 - accuracy: 0.9822 - precision_4: 0.9902 - recall_4: 0.9748 - val_loss: 2.8744 - val_accuracy: 0.6597 - val_precision_4: 0.6197 - val_recall_4: 0.7434\n",
            "Epoch 18/25\n",
            "178/178 [==============================] - 59s 334ms/step - loss: 0.0683 - accuracy: 0.9829 - precision_4: 0.9827 - recall_4: 0.9826 - val_loss: 1.6380 - val_accuracy: 0.6681 - val_precision_4: 0.6252 - val_recall_4: 0.7610\n"
          ],
          "name": "stdout"
        }
      ]
    },
    {
      "cell_type": "code",
      "metadata": {
        "colab": {
          "base_uri": "https://localhost:8080/"
        },
        "id": "HZ5yCM_8VFrn",
        "outputId": "9896ca4d-0469-4437-8ff3-0c5bfe2b34bb"
      },
      "source": [
        "preds_xl_irony = XLNet_irony.predict(xl_irony_test_input, verbose=True)"
      ],
      "execution_count": 29,
      "outputs": [
        {
          "output_type": "stream",
          "text": [
            "WARNING:tensorflow:The parameters `output_attentions`, `output_hidden_states` and `use_cache` cannot be updated when calling a model.They have to be set to True/False in the config object (i.e.: `config=XConfig.from_pretrained('name', output_attentions=True)`).\n",
            "WARNING:tensorflow:The parameter `return_dict` cannot be set in graph mode and will always be set to `True`.\n",
            "25/25 [==============================] - 7s 183ms/step\n"
          ],
          "name": "stdout"
        }
      ]
    },
    {
      "cell_type": "code",
      "metadata": {
        "colab": {
          "base_uri": "https://localhost:8080/",
          "height": 467
        },
        "id": "j08QJgf3VIh_",
        "outputId": "4c64eccc-88b1-42f9-dd5a-27495c5b3113"
      },
      "source": [
        "irony_pred_xl_label = [i[0] for i in preds_xl_irony.round().astype(int)]\n",
        "cm = confusion_matrix(irony_dict_test.label,irony_pred_xl_label)\n",
        "plot_confusion_matrix(cm, normalize=False,target_names=['Not_irony', 'Irony'],title=\"XLNet Confusion Matrix for Irony\")"
      ],
      "execution_count": 30,
      "outputs": [
        {
          "output_type": "display_data",
          "data": {
            "image/png": "[encoded data removed]",
            "text/plain": [
              "<Figure size 576x432 with 2 Axes>"
            ]
          },
          "metadata": {
            "tags": [],
            "needs_background": "light"
          }
        }
      ]
    },
    {
      "cell_type": "code",
      "metadata": {
        "id": "EQVmcs2y2PPx",
        "colab": {
          "base_uri": "https://localhost:8080/"
        },
        "outputId": "b16fd1b6-ae3c-4b20-c0ec-804e1222f0a6"
      },
      "source": [
        "f1_xl_irony = f1_score(irony_dict_test.label,irony_pred_xl_label,average='macro')\n",
        "print(\"F1_score of irony dataset with DistilBert is: %.1f%%\" % round(f1_xl_irony * 100,1))"
      ],
      "execution_count": 31,
      "outputs": [
        {
          "output_type": "stream",
          "text": [
            "F1_score of irony dataset with DistilBert is: 64.6%\n"
          ],
          "name": "stdout"
        }
      ]
    },
    {
      "cell_type": "markdown",
      "metadata": {
        "id": "KC9SehaH8K4x"
      },
      "source": [
        "5.3 XLnet for Offensive Dataset"
      ]
    },
    {
      "cell_type": "code",
      "metadata": {
        "colab": {
          "base_uri": "https://localhost:8080/"
        },
        "id": "CxFjQUmYVaqt",
        "outputId": "7cfcb22c-f0b9-4c59-eb51-7ef120fd697d"
      },
      "source": [
        "XLNet_offensive = create_model(xlnet_model)"
      ],
      "execution_count": 32,
      "outputs": [
        {
          "output_type": "stream",
          "text": [
            "WARNING:tensorflow:The parameters `output_attentions`, `output_hidden_states` and `use_cache` cannot be updated when calling a model.They have to be set to True/False in the config object (i.e.: `config=XConfig.from_pretrained('name', output_attentions=True)`).\n",
            "WARNING:tensorflow:The parameter `return_dict` cannot be set in graph mode and will always be set to `True`.\n"
          ],
          "name": "stdout"
        }
      ]
    },
    {
      "cell_type": "code",
      "metadata": {
        "colab": {
          "base_uri": "https://localhost:8080/"
        },
        "id": "ThdUia-5VamC",
        "outputId": "368017c4-c5f1-4b86-97c7-977163577454"
      },
      "source": [
        "hist_xl_offensive = XLNet_offensive.fit(x=xl_offensive_train_input, y=offensive_dict_train.label, epochs=25, batch_size=16, validation_data=(xl_offensive_val_input, offensive_dict_val.label), callbacks=callbacks)"
      ],
      "execution_count": 33,
      "outputs": [
        {
          "output_type": "stream",
          "text": [
            "Epoch 1/25\n",
            "WARNING:tensorflow:The parameters `output_attentions`, `output_hidden_states` and `use_cache` cannot be updated when calling a model.They have to be set to True/False in the config object (i.e.: `config=XConfig.from_pretrained('name', output_attentions=True)`).\n",
            "WARNING:tensorflow:The parameter `return_dict` cannot be set in graph mode and will always be set to `True`.\n",
            "WARNING:tensorflow:Gradients do not exist for variables ['tfxl_net_model/transformer/mask_emb:0', 'tfxl_net_model/transformer/layer_._0/rel_attn/r_s_bias:0', 'tfxl_net_model/transformer/layer_._0/rel_attn/seg_embed:0', 'tfxl_net_model/transformer/layer_._1/rel_attn/r_s_bias:0', 'tfxl_net_model/transformer/layer_._1/rel_attn/seg_embed:0', 'tfxl_net_model/transformer/layer_._2/rel_attn/r_s_bias:0', 'tfxl_net_model/transformer/layer_._2/rel_attn/seg_embed:0', 'tfxl_net_model/transformer/layer_._3/rel_attn/r_s_bias:0', 'tfxl_net_model/transformer/layer_._3/rel_attn/seg_embed:0', 'tfxl_net_model/transformer/layer_._4/rel_attn/r_s_bias:0', 'tfxl_net_model/transformer/layer_._4/rel_attn/seg_embed:0', 'tfxl_net_model/transformer/layer_._5/rel_attn/r_s_bias:0', 'tfxl_net_model/transformer/layer_._5/rel_attn/seg_embed:0', 'tfxl_net_model/transformer/layer_._6/rel_attn/r_s_bias:0', 'tfxl_net_model/transformer/layer_._6/rel_attn/seg_embed:0', 'tfxl_net_model/transformer/layer_._7/rel_attn/r_s_bias:0', 'tfxl_net_model/transformer/layer_._7/rel_attn/seg_embed:0', 'tfxl_net_model/transformer/layer_._8/rel_attn/r_s_bias:0', 'tfxl_net_model/transformer/layer_._8/rel_attn/seg_embed:0', 'tfxl_net_model/transformer/layer_._9/rel_attn/r_s_bias:0', 'tfxl_net_model/transformer/layer_._9/rel_attn/seg_embed:0', 'tfxl_net_model/transformer/layer_._10/rel_attn/r_s_bias:0', 'tfxl_net_model/transformer/layer_._10/rel_attn/seg_embed:0', 'tfxl_net_model/transformer/layer_._11/rel_attn/r_s_bias:0', 'tfxl_net_model/transformer/layer_._11/rel_attn/seg_embed:0'] when minimizing the loss.\n",
            "WARNING:tensorflow:The parameters `output_attentions`, `output_hidden_states` and `use_cache` cannot be updated when calling a model.They have to be set to True/False in the config object (i.e.: `config=XConfig.from_pretrained('name', output_attentions=True)`).\n",
            "WARNING:tensorflow:The parameter `return_dict` cannot be set in graph mode and will always be set to `True`.\n",
            "WARNING:tensorflow:Gradients do not exist for variables ['tfxl_net_model/transformer/mask_emb:0', 'tfxl_net_model/transformer/layer_._0/rel_attn/r_s_bias:0', 'tfxl_net_model/transformer/layer_._0/rel_attn/seg_embed:0', 'tfxl_net_model/transformer/layer_._1/rel_attn/r_s_bias:0', 'tfxl_net_model/transformer/layer_._1/rel_attn/seg_embed:0', 'tfxl_net_model/transformer/layer_._2/rel_attn/r_s_bias:0', 'tfxl_net_model/transformer/layer_._2/rel_attn/seg_embed:0', 'tfxl_net_model/transformer/layer_._3/rel_attn/r_s_bias:0', 'tfxl_net_model/transformer/layer_._3/rel_attn/seg_embed:0', 'tfxl_net_model/transformer/layer_._4/rel_attn/r_s_bias:0', 'tfxl_net_model/transformer/layer_._4/rel_attn/seg_embed:0', 'tfxl_net_model/transformer/layer_._5/rel_attn/r_s_bias:0', 'tfxl_net_model/transformer/layer_._5/rel_attn/seg_embed:0', 'tfxl_net_model/transformer/layer_._6/rel_attn/r_s_bias:0', 'tfxl_net_model/transformer/layer_._6/rel_attn/seg_embed:0', 'tfxl_net_model/transformer/layer_._7/rel_attn/r_s_bias:0', 'tfxl_net_model/transformer/layer_._7/rel_attn/seg_embed:0', 'tfxl_net_model/transformer/layer_._8/rel_attn/r_s_bias:0', 'tfxl_net_model/transformer/layer_._8/rel_attn/seg_embed:0', 'tfxl_net_model/transformer/layer_._9/rel_attn/r_s_bias:0', 'tfxl_net_model/transformer/layer_._9/rel_attn/seg_embed:0', 'tfxl_net_model/transformer/layer_._10/rel_attn/r_s_bias:0', 'tfxl_net_model/transformer/layer_._10/rel_attn/seg_embed:0', 'tfxl_net_model/transformer/layer_._11/rel_attn/r_s_bias:0', 'tfxl_net_model/transformer/layer_._11/rel_attn/seg_embed:0'] when minimizing the loss.\n",
            "493/493 [==============================] - ETA: 0s - loss: 0.6540 - accuracy: 0.6259 - precision_5: 0.6346 - recall_5: 0.6244WARNING:tensorflow:The parameters `output_attentions`, `output_hidden_states` and `use_cache` cannot be updated when calling a model.They have to be set to True/False in the config object (i.e.: `config=XConfig.from_pretrained('name', output_attentions=True)`).\n",
            "WARNING:tensorflow:The parameter `return_dict` cannot be set in graph mode and will always be set to `True`.\n",
            "493/493 [==============================] - 175s 323ms/step - loss: 0.6539 - accuracy: 0.6260 - precision_5: 0.6347 - recall_5: 0.6245 - val_loss: 0.4914 - val_accuracy: 0.7545 - val_precision_5: 0.6070 - val_recall_5: 0.8279\n",
            "Epoch 2/25\n",
            "493/493 [==============================] - 156s 316ms/step - loss: 0.4375 - accuracy: 0.8089 - precision_5: 0.8237 - recall_5: 0.7761 - val_loss: 0.5190 - val_accuracy: 0.7500 - val_precision_5: 0.6067 - val_recall_5: 0.7930\n",
            "Epoch 3/25\n",
            "493/493 [==============================] - 156s 316ms/step - loss: 0.3293 - accuracy: 0.8678 - precision_5: 0.8729 - recall_5: 0.8597 - val_loss: 0.6145 - val_accuracy: 0.7470 - val_precision_5: 0.6095 - val_recall_5: 0.7516\n",
            "Epoch 4/25\n",
            "493/493 [==============================] - 156s 316ms/step - loss: 0.1907 - accuracy: 0.9306 - precision_5: 0.9359 - recall_5: 0.9255 - val_loss: 0.9123 - val_accuracy: 0.7326 - val_precision_5: 0.5901 - val_recall_5: 0.7495\n",
            "Epoch 5/25\n",
            "493/493 [==============================] - 156s 316ms/step - loss: 0.1242 - accuracy: 0.9586 - precision_5: 0.9601 - recall_5: 0.9575 - val_loss: 1.0882 - val_accuracy: 0.7349 - val_precision_5: 0.5877 - val_recall_5: 0.7887\n",
            "Epoch 6/25\n",
            "493/493 [==============================] - 156s 316ms/step - loss: 0.0757 - accuracy: 0.9736 - precision_5: 0.9729 - recall_5: 0.9743 - val_loss: 1.9147 - val_accuracy: 0.7251 - val_precision_5: 0.5762 - val_recall_5: 0.7821\n",
            "Epoch 7/25\n",
            "493/493 [==============================] - 156s 316ms/step - loss: 0.0626 - accuracy: 0.9769 - precision_5: 0.9819 - recall_5: 0.9729 - val_loss: 1.9145 - val_accuracy: 0.7432 - val_precision_5: 0.6088 - val_recall_5: 0.7255\n",
            "Epoch 8/25\n",
            "493/493 [==============================] - 156s 317ms/step - loss: 0.0558 - accuracy: 0.9808 - precision_5: 0.9856 - recall_5: 0.9746 - val_loss: 1.5413 - val_accuracy: 0.7289 - val_precision_5: 0.5890 - val_recall_5: 0.7211\n",
            "Epoch 9/25\n",
            "493/493 [==============================] - 157s 318ms/step - loss: 0.0430 - accuracy: 0.9847 - precision_5: 0.9853 - recall_5: 0.9839 - val_loss: 1.5365 - val_accuracy: 0.7409 - val_precision_5: 0.6025 - val_recall_5: 0.7429\n",
            "Epoch 10/25\n",
            "493/493 [==============================] - 157s 318ms/step - loss: 0.0361 - accuracy: 0.9890 - precision_5: 0.9904 - recall_5: 0.9878 - val_loss: 1.6353 - val_accuracy: 0.7137 - val_precision_5: 0.5587 - val_recall_5: 0.8301\n",
            "Epoch 11/25\n",
            "493/493 [==============================] - 156s 317ms/step - loss: 0.0437 - accuracy: 0.9859 - precision_5: 0.9879 - recall_5: 0.9837 - val_loss: 1.2653 - val_accuracy: 0.7198 - val_precision_5: 0.5728 - val_recall_5: 0.7538\n",
            "Epoch 12/25\n",
            "493/493 [==============================] - 156s 317ms/step - loss: 0.0281 - accuracy: 0.9919 - precision_5: 0.9929 - recall_5: 0.9907 - val_loss: 1.3243 - val_accuracy: 0.7168 - val_precision_5: 0.5671 - val_recall_5: 0.7734\n",
            "Epoch 13/25\n",
            "493/493 [==============================] - 156s 317ms/step - loss: 0.0249 - accuracy: 0.9910 - precision_5: 0.9884 - recall_5: 0.9939 - val_loss: 2.2265 - val_accuracy: 0.6979 - val_precision_5: 0.5417 - val_recall_5: 0.8344\n",
            "Epoch 14/25\n",
            "493/493 [==============================] - 156s 317ms/step - loss: 0.0288 - accuracy: 0.9906 - precision_5: 0.9913 - recall_5: 0.9902 - val_loss: 1.8857 - val_accuracy: 0.7311 - val_precision_5: 0.5860 - val_recall_5: 0.7647\n",
            "Epoch 15/25\n",
            "493/493 [==============================] - 156s 317ms/step - loss: 0.0304 - accuracy: 0.9899 - precision_5: 0.9906 - recall_5: 0.9890 - val_loss: 1.8226 - val_accuracy: 0.7409 - val_precision_5: 0.6014 - val_recall_5: 0.7495\n",
            "Epoch 16/25\n",
            "493/493 [==============================] - 156s 317ms/step - loss: 0.0266 - accuracy: 0.9929 - precision_5: 0.9940 - recall_5: 0.9918 - val_loss: 2.3260 - val_accuracy: 0.7183 - val_precision_5: 0.5680 - val_recall_5: 0.7821\n",
            "Epoch 17/25\n",
            "493/493 [==============================] - 156s 316ms/step - loss: 0.0348 - accuracy: 0.9908 - precision_5: 0.9910 - recall_5: 0.9905 - val_loss: 1.6289 - val_accuracy: 0.7538 - val_precision_5: 0.6272 - val_recall_5: 0.7146\n",
            "Epoch 18/25\n",
            "493/493 [==============================] - 156s 317ms/step - loss: 0.0270 - accuracy: 0.9905 - precision_5: 0.9893 - recall_5: 0.9918 - val_loss: 1.7737 - val_accuracy: 0.7243 - val_precision_5: 0.5753 - val_recall_5: 0.7821\n",
            "Epoch 19/25\n",
            "493/493 [==============================] - 156s 316ms/step - loss: 0.0163 - accuracy: 0.9957 - precision_5: 0.9963 - recall_5: 0.9952 - val_loss: 1.9469 - val_accuracy: 0.7334 - val_precision_5: 0.5917 - val_recall_5: 0.7451\n",
            "Epoch 20/25\n",
            "493/493 [==============================] - 156s 317ms/step - loss: 0.0216 - accuracy: 0.9935 - precision_5: 0.9947 - recall_5: 0.9924 - val_loss: 2.4005 - val_accuracy: 0.7266 - val_precision_5: 0.5849 - val_recall_5: 0.7277\n",
            "Epoch 21/25\n",
            "493/493 [==============================] - 157s 317ms/step - loss: 0.0141 - accuracy: 0.9957 - precision_5: 0.9966 - recall_5: 0.9947 - val_loss: 2.6747 - val_accuracy: 0.7228 - val_precision_5: 0.5740 - val_recall_5: 0.7778\n",
            "Epoch 22/25\n",
            "493/493 [==============================] - 157s 318ms/step - loss: 0.0175 - accuracy: 0.9931 - precision_5: 0.9939 - recall_5: 0.9922 - val_loss: 2.6303 - val_accuracy: 0.7130 - val_precision_5: 0.5687 - val_recall_5: 0.7124\n",
            "Epoch 23/25\n",
            "493/493 [==============================] - 156s 317ms/step - loss: 0.0223 - accuracy: 0.9927 - precision_5: 0.9926 - recall_5: 0.9929 - val_loss: 3.3583 - val_accuracy: 0.7545 - val_precision_5: 0.6293 - val_recall_5: 0.7102\n",
            "Epoch 24/25\n",
            "493/493 [==============================] - 156s 317ms/step - loss: 0.0220 - accuracy: 0.9913 - precision_5: 0.9935 - recall_5: 0.9895 - val_loss: 1.7950 - val_accuracy: 0.7190 - val_precision_5: 0.5687 - val_recall_5: 0.7843\n",
            "Epoch 25/25\n",
            "493/493 [==============================] - 156s 317ms/step - loss: 0.0174 - accuracy: 0.9932 - precision_5: 0.9919 - recall_5: 0.9944 - val_loss: 2.9643 - val_accuracy: 0.7470 - val_precision_5: 0.6069 - val_recall_5: 0.7669\n"
          ],
          "name": "stdout"
        }
      ]
    },
    {
      "cell_type": "code",
      "metadata": {
        "colab": {
          "base_uri": "https://localhost:8080/"
        },
        "id": "chZqFuDKVhxC",
        "outputId": "bb458b53-f593-4760-8d3c-ac252f256af1"
      },
      "source": [
        "preds_xl_offensive = XLNet_offensive.predict(xl_offensive_test_input, verbose=True)"
      ],
      "execution_count": 34,
      "outputs": [
        {
          "output_type": "stream",
          "text": [
            "WARNING:tensorflow:The parameters `output_attentions`, `output_hidden_states` and `use_cache` cannot be updated when calling a model.They have to be set to True/False in the config object (i.e.: `config=XConfig.from_pretrained('name', output_attentions=True)`).\n",
            "WARNING:tensorflow:The parameter `return_dict` cannot be set in graph mode and will always be set to `True`.\n",
            "27/27 [==============================] - 7s 186ms/step\n"
          ],
          "name": "stdout"
        }
      ]
    },
    {
      "cell_type": "code",
      "metadata": {
        "colab": {
          "base_uri": "https://localhost:8080/",
          "height": 467
        },
        "id": "dA_awMECVtVk",
        "outputId": "9f9fc7cc-6054-4300-bde0-8d3ce4464a39"
      },
      "source": [
        "offensive_pred_xl_label = [i[0] for i in preds_xl_offensive.round().astype(int)]\n",
        "cm = confusion_matrix(offensive_dict_test.label,offensive_pred_xl_label)\n",
        "plot_confusion_matrix(cm, normalize=False,target_names=['Not_offensive', 'Offensive'],title=\"XLNet Confusion Matrix for Offensive\")"
      ],
      "execution_count": 35,
      "outputs": [
        {
          "output_type": "display_data",
          "data": {
            "image/png": "[encoded data removed]",
            "text/plain": [
              "<Figure size 576x432 with 2 Axes>"
            ]
          },
          "metadata": {
            "tags": [],
            "needs_background": "light"
          }
        }
      ]
    },
    {
      "cell_type": "code",
      "metadata": {
        "id": "8OzfSO1f2ir1",
        "colab": {
          "base_uri": "https://localhost:8080/"
        },
        "outputId": "fc49d9e0-82bc-4386-b0e2-eb84fc16bd96"
      },
      "source": [
        "f1_xl_offensive = f1_score(offensive_dict_test.label,offensive_pred_xl_label,average='macro')\n",
        "print(\"F1_score of offensive dataset with XLNet is: %.1f%%\" % round(f1_xl_offensive * 100,1))"
      ],
      "execution_count": 36,
      "outputs": [
        {
          "output_type": "stream",
          "text": [
            "F1_score of offensive dataset with XLNet is: 78.6%\n"
          ],
          "name": "stdout"
        }
      ]
    },
    {
      "cell_type": "markdown",
      "metadata": {
        "id": "LUG2Bn4Eykm_"
      },
      "source": [
        "#6. Graphs for comparing the result"
      ]
    },
    {
      "cell_type": "markdown",
      "metadata": {
        "id": "7NVaySq68nse"
      },
      "source": [
        "6.1 Comparasion For Macro F1 score "
      ]
    },
    {
      "cell_type": "code",
      "metadata": {
        "colab": {
          "base_uri": "https://localhost:8080/",
          "height": 297
        },
        "id": "EIOkwZ1Il15o",
        "outputId": "01dd36b7-b2a3-468c-b518-72398666f42a"
      },
      "source": [
        "f1_score_bar(f1_dl_hate,f1_dl_irony,f1_dl_offensive,f1_xl_hate,f1_xl_irony,f1_xl_offensive)    "
      ],
      "execution_count": 37,
      "outputs": [
        {
          "output_type": "display_data",
          "data": {
            "image/png": "[encoded data removed]",
            "text/plain": [
              "<Figure size 432x288 with 1 Axes>"
            ]
          },
          "metadata": {
            "tags": [],
            "needs_background": "light"
          }
        }
      ]
    },
    {
      "cell_type": "markdown",
      "metadata": {
        "id": "_ADl1cyK8s7B"
      },
      "source": [
        "6.2 AUC Performance"
      ]
    },
    {
      "cell_type": "code",
      "metadata": {
        "colab": {
          "base_uri": "https://localhost:8080/",
          "height": 361
        },
        "id": "E8syuZOtpKVM",
        "outputId": "a7dc0318-e6dd-4964-8284-93117270c945"
      },
      "source": [
        "auc_plot_metrics(preds_dl_hate, preds_xl_hate, hate_dict_test.label,\n",
        "         preds_dl_irony, preds_xl_irony, irony_dict_test.label,\n",
        "         preds_dl_offensive, preds_xl_offensive, offensive_dict_test.label)"
      ],
      "execution_count": 38,
      "outputs": [
        {
          "output_type": "display_data",
          "data": {
            "image/png": "[encoded data removed]",
            "text/plain": [
              "<Figure size 1296x360 with 3 Axes>"
            ]
          },
          "metadata": {
            "tags": [],
            "needs_background": "light"
          }
        }
      ]
    }
  ]
}