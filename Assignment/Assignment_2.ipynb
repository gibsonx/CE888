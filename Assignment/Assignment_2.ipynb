{
  "nbformat": 4,
  "nbformat_minor": 0,
  "metadata": {
    "colab": {
      "name": "Assignment_2.ipynb",
      "provenance": [],
      "collapsed_sections": [],
      "toc_visible": true,
      "machine_shape": "hm",
      "include_colab_link": true
    },
    "kernelspec": {
      "name": "python3",
      "display_name": "Python 3"
    },
    "accelerator": "GPU",
    "widgets": {
      "application/vnd.jupyter.widget-state+json": {
        "47aca1bc97694af684cc92cdc161add1": {
          "model_module": "@jupyter-widgets/controls",
          "model_name": "HBoxModel",
          "state": {
            "_view_name": "HBoxView",
            "_dom_classes": [],
            "_model_name": "HBoxModel",
            "_view_module": "@jupyter-widgets/controls",
            "_model_module_version": "1.5.0",
            "_view_count": null,
            "_view_module_version": "1.5.0",
            "box_style": "",
            "layout": "IPY_MODEL_338605b7c95e44018728231f6ec7169c",
            "_model_module": "@jupyter-widgets/controls",
            "children": [
              "IPY_MODEL_d1565df1ef9f4889a9545b5c4297ba63",
              "IPY_MODEL_304b0a2f4d79413f89f897ea731d2870"
            ]
          }
        },
        "338605b7c95e44018728231f6ec7169c": {
          "model_module": "@jupyter-widgets/base",
          "model_name": "LayoutModel",
          "state": {
            "_view_name": "LayoutView",
            "grid_template_rows": null,
            "right": null,
            "justify_content": null,
            "_view_module": "@jupyter-widgets/base",
            "overflow": null,
            "_model_module_version": "1.2.0",
            "_view_count": null,
            "flex_flow": null,
            "width": null,
            "min_width": null,
            "border": null,
            "align_items": null,
            "bottom": null,
            "_model_module": "@jupyter-widgets/base",
            "top": null,
            "grid_column": null,
            "overflow_y": null,
            "overflow_x": null,
            "grid_auto_flow": null,
            "grid_area": null,
            "grid_template_columns": null,
            "flex": null,
            "_model_name": "LayoutModel",
            "justify_items": null,
            "grid_row": null,
            "max_height": null,
            "align_content": null,
            "visibility": null,
            "align_self": null,
            "height": null,
            "min_height": null,
            "padding": null,
            "grid_auto_rows": null,
            "grid_gap": null,
            "max_width": null,
            "order": null,
            "_view_module_version": "1.2.0",
            "grid_template_areas": null,
            "object_position": null,
            "object_fit": null,
            "grid_auto_columns": null,
            "margin": null,
            "display": null,
            "left": null
          }
        },
        "d1565df1ef9f4889a9545b5c4297ba63": {
          "model_module": "@jupyter-widgets/controls",
          "model_name": "FloatProgressModel",
          "state": {
            "_view_name": "ProgressView",
            "style": "IPY_MODEL_7cbd6ac8f7b3441db01aca928306ca66",
            "_dom_classes": [],
            "description": "Downloading: 100%",
            "_model_name": "FloatProgressModel",
            "bar_style": "success",
            "max": 798011,
            "_view_module": "@jupyter-widgets/controls",
            "_model_module_version": "1.5.0",
            "value": 798011,
            "_view_count": null,
            "_view_module_version": "1.5.0",
            "orientation": "horizontal",
            "min": 0,
            "description_tooltip": null,
            "_model_module": "@jupyter-widgets/controls",
            "layout": "IPY_MODEL_5d01bbd38d494a88b38f309abde8b5ad"
          }
        },
        "304b0a2f4d79413f89f897ea731d2870": {
          "model_module": "@jupyter-widgets/controls",
          "model_name": "HTMLModel",
          "state": {
            "_view_name": "HTMLView",
            "style": "IPY_MODEL_90553e9d6ff2463ebebd1f375ee2adb5",
            "_dom_classes": [],
            "description": "",
            "_model_name": "HTMLModel",
            "placeholder": "​",
            "_view_module": "@jupyter-widgets/controls",
            "_model_module_version": "1.5.0",
            "value": " 798k/798k [00:01&lt;00:00, 442kB/s]",
            "_view_count": null,
            "_view_module_version": "1.5.0",
            "description_tooltip": null,
            "_model_module": "@jupyter-widgets/controls",
            "layout": "IPY_MODEL_0b10fdc9d92148068f23a3d98429c692"
          }
        },
        "7cbd6ac8f7b3441db01aca928306ca66": {
          "model_module": "@jupyter-widgets/controls",
          "model_name": "ProgressStyleModel",
          "state": {
            "_view_name": "StyleView",
            "_model_name": "ProgressStyleModel",
            "description_width": "initial",
            "_view_module": "@jupyter-widgets/base",
            "_model_module_version": "1.5.0",
            "_view_count": null,
            "_view_module_version": "1.2.0",
            "bar_color": null,
            "_model_module": "@jupyter-widgets/controls"
          }
        },
        "5d01bbd38d494a88b38f309abde8b5ad": {
          "model_module": "@jupyter-widgets/base",
          "model_name": "LayoutModel",
          "state": {
            "_view_name": "LayoutView",
            "grid_template_rows": null,
            "right": null,
            "justify_content": null,
            "_view_module": "@jupyter-widgets/base",
            "overflow": null,
            "_model_module_version": "1.2.0",
            "_view_count": null,
            "flex_flow": null,
            "width": null,
            "min_width": null,
            "border": null,
            "align_items": null,
            "bottom": null,
            "_model_module": "@jupyter-widgets/base",
            "top": null,
            "grid_column": null,
            "overflow_y": null,
            "overflow_x": null,
            "grid_auto_flow": null,
            "grid_area": null,
            "grid_template_columns": null,
            "flex": null,
            "_model_name": "LayoutModel",
            "justify_items": null,
            "grid_row": null,
            "max_height": null,
            "align_content": null,
            "visibility": null,
            "align_self": null,
            "height": null,
            "min_height": null,
            "padding": null,
            "grid_auto_rows": null,
            "grid_gap": null,
            "max_width": null,
            "order": null,
            "_view_module_version": "1.2.0",
            "grid_template_areas": null,
            "object_position": null,
            "object_fit": null,
            "grid_auto_columns": null,
            "margin": null,
            "display": null,
            "left": null
          }
        },
        "90553e9d6ff2463ebebd1f375ee2adb5": {
          "model_module": "@jupyter-widgets/controls",
          "model_name": "DescriptionStyleModel",
          "state": {
            "_view_name": "StyleView",
            "_model_name": "DescriptionStyleModel",
            "description_width": "",
            "_view_module": "@jupyter-widgets/base",
            "_model_module_version": "1.5.0",
            "_view_count": null,
            "_view_module_version": "1.2.0",
            "_model_module": "@jupyter-widgets/controls"
          }
        },
        "0b10fdc9d92148068f23a3d98429c692": {
          "model_module": "@jupyter-widgets/base",
          "model_name": "LayoutModel",
          "state": {
            "_view_name": "LayoutView",
            "grid_template_rows": null,
            "right": null,
            "justify_content": null,
            "_view_module": "@jupyter-widgets/base",
            "overflow": null,
            "_model_module_version": "1.2.0",
            "_view_count": null,
            "flex_flow": null,
            "width": null,
            "min_width": null,
            "border": null,
            "align_items": null,
            "bottom": null,
            "_model_module": "@jupyter-widgets/base",
            "top": null,
            "grid_column": null,
            "overflow_y": null,
            "overflow_x": null,
            "grid_auto_flow": null,
            "grid_area": null,
            "grid_template_columns": null,
            "flex": null,
            "_model_name": "LayoutModel",
            "justify_items": null,
            "grid_row": null,
            "max_height": null,
            "align_content": null,
            "visibility": null,
            "align_self": null,
            "height": null,
            "min_height": null,
            "padding": null,
            "grid_auto_rows": null,
            "grid_gap": null,
            "max_width": null,
            "order": null,
            "_view_module_version": "1.2.0",
            "grid_template_areas": null,
            "object_position": null,
            "object_fit": null,
            "grid_auto_columns": null,
            "margin": null,
            "display": null,
            "left": null
          }
        },
        "7416ca1d474e4b1f8a7c11101c0c5acf": {
          "model_module": "@jupyter-widgets/controls",
          "model_name": "HBoxModel",
          "state": {
            "_view_name": "HBoxView",
            "_dom_classes": [],
            "_model_name": "HBoxModel",
            "_view_module": "@jupyter-widgets/controls",
            "_model_module_version": "1.5.0",
            "_view_count": null,
            "_view_module_version": "1.5.0",
            "box_style": "",
            "layout": "IPY_MODEL_af26e1d838014e66b35abd8248a4617f",
            "_model_module": "@jupyter-widgets/controls",
            "children": [
              "IPY_MODEL_bda403331edb49d284177eb9d8c76557",
              "IPY_MODEL_286734abd5914d5f93da7d9ca6bb0501"
            ]
          }
        },
        "af26e1d838014e66b35abd8248a4617f": {
          "model_module": "@jupyter-widgets/base",
          "model_name": "LayoutModel",
          "state": {
            "_view_name": "LayoutView",
            "grid_template_rows": null,
            "right": null,
            "justify_content": null,
            "_view_module": "@jupyter-widgets/base",
            "overflow": null,
            "_model_module_version": "1.2.0",
            "_view_count": null,
            "flex_flow": null,
            "width": null,
            "min_width": null,
            "border": null,
            "align_items": null,
            "bottom": null,
            "_model_module": "@jupyter-widgets/base",
            "top": null,
            "grid_column": null,
            "overflow_y": null,
            "overflow_x": null,
            "grid_auto_flow": null,
            "grid_area": null,
            "grid_template_columns": null,
            "flex": null,
            "_model_name": "LayoutModel",
            "justify_items": null,
            "grid_row": null,
            "max_height": null,
            "align_content": null,
            "visibility": null,
            "align_self": null,
            "height": null,
            "min_height": null,
            "padding": null,
            "grid_auto_rows": null,
            "grid_gap": null,
            "max_width": null,
            "order": null,
            "_view_module_version": "1.2.0",
            "grid_template_areas": null,
            "object_position": null,
            "object_fit": null,
            "grid_auto_columns": null,
            "margin": null,
            "display": null,
            "left": null
          }
        },
        "bda403331edb49d284177eb9d8c76557": {
          "model_module": "@jupyter-widgets/controls",
          "model_name": "FloatProgressModel",
          "state": {
            "_view_name": "ProgressView",
            "style": "IPY_MODEL_e910ecf1fbd34b448d33d002651dfffb",
            "_dom_classes": [],
            "description": "Downloading: 100%",
            "_model_name": "FloatProgressModel",
            "bar_style": "success",
            "max": 1382015,
            "_view_module": "@jupyter-widgets/controls",
            "_model_module_version": "1.5.0",
            "value": 1382015,
            "_view_count": null,
            "_view_module_version": "1.5.0",
            "orientation": "horizontal",
            "min": 0,
            "description_tooltip": null,
            "_model_module": "@jupyter-widgets/controls",
            "layout": "IPY_MODEL_43c90fc198994877a632d4f84b629264"
          }
        },
        "286734abd5914d5f93da7d9ca6bb0501": {
          "model_module": "@jupyter-widgets/controls",
          "model_name": "HTMLModel",
          "state": {
            "_view_name": "HTMLView",
            "style": "IPY_MODEL_2cc745e1d3784704abc80f9e3a63df16",
            "_dom_classes": [],
            "description": "",
            "_model_name": "HTMLModel",
            "placeholder": "​",
            "_view_module": "@jupyter-widgets/controls",
            "_model_module_version": "1.5.0",
            "value": " 1.38M/1.38M [00:01&lt;00:00, 960kB/s]",
            "_view_count": null,
            "_view_module_version": "1.5.0",
            "description_tooltip": null,
            "_model_module": "@jupyter-widgets/controls",
            "layout": "IPY_MODEL_7aadb8872f6b49249089a065b1191545"
          }
        },
        "e910ecf1fbd34b448d33d002651dfffb": {
          "model_module": "@jupyter-widgets/controls",
          "model_name": "ProgressStyleModel",
          "state": {
            "_view_name": "StyleView",
            "_model_name": "ProgressStyleModel",
            "description_width": "initial",
            "_view_module": "@jupyter-widgets/base",
            "_model_module_version": "1.5.0",
            "_view_count": null,
            "_view_module_version": "1.2.0",
            "bar_color": null,
            "_model_module": "@jupyter-widgets/controls"
          }
        },
        "43c90fc198994877a632d4f84b629264": {
          "model_module": "@jupyter-widgets/base",
          "model_name": "LayoutModel",
          "state": {
            "_view_name": "LayoutView",
            "grid_template_rows": null,
            "right": null,
            "justify_content": null,
            "_view_module": "@jupyter-widgets/base",
            "overflow": null,
            "_model_module_version": "1.2.0",
            "_view_count": null,
            "flex_flow": null,
            "width": null,
            "min_width": null,
            "border": null,
            "align_items": null,
            "bottom": null,
            "_model_module": "@jupyter-widgets/base",
            "top": null,
            "grid_column": null,
            "overflow_y": null,
            "overflow_x": null,
            "grid_auto_flow": null,
            "grid_area": null,
            "grid_template_columns": null,
            "flex": null,
            "_model_name": "LayoutModel",
            "justify_items": null,
            "grid_row": null,
            "max_height": null,
            "align_content": null,
            "visibility": null,
            "align_self": null,
            "height": null,
            "min_height": null,
            "padding": null,
            "grid_auto_rows": null,
            "grid_gap": null,
            "max_width": null,
            "order": null,
            "_view_module_version": "1.2.0",
            "grid_template_areas": null,
            "object_position": null,
            "object_fit": null,
            "grid_auto_columns": null,
            "margin": null,
            "display": null,
            "left": null
          }
        },
        "2cc745e1d3784704abc80f9e3a63df16": {
          "model_module": "@jupyter-widgets/controls",
          "model_name": "DescriptionStyleModel",
          "state": {
            "_view_name": "StyleView",
            "_model_name": "DescriptionStyleModel",
            "description_width": "",
            "_view_module": "@jupyter-widgets/base",
            "_model_module_version": "1.5.0",
            "_view_count": null,
            "_view_module_version": "1.2.0",
            "_model_module": "@jupyter-widgets/controls"
          }
        },
        "7aadb8872f6b49249089a065b1191545": {
          "model_module": "@jupyter-widgets/base",
          "model_name": "LayoutModel",
          "state": {
            "_view_name": "LayoutView",
            "grid_template_rows": null,
            "right": null,
            "justify_content": null,
            "_view_module": "@jupyter-widgets/base",
            "overflow": null,
            "_model_module_version": "1.2.0",
            "_view_count": null,
            "flex_flow": null,
            "width": null,
            "min_width": null,
            "border": null,
            "align_items": null,
            "bottom": null,
            "_model_module": "@jupyter-widgets/base",
            "top": null,
            "grid_column": null,
            "overflow_y": null,
            "overflow_x": null,
            "grid_auto_flow": null,
            "grid_area": null,
            "grid_template_columns": null,
            "flex": null,
            "_model_name": "LayoutModel",
            "justify_items": null,
            "grid_row": null,
            "max_height": null,
            "align_content": null,
            "visibility": null,
            "align_self": null,
            "height": null,
            "min_height": null,
            "padding": null,
            "grid_auto_rows": null,
            "grid_gap": null,
            "max_width": null,
            "order": null,
            "_view_module_version": "1.2.0",
            "grid_template_areas": null,
            "object_position": null,
            "object_fit": null,
            "grid_auto_columns": null,
            "margin": null,
            "display": null,
            "left": null
          }
        },
        "49ed76bc354d44b1836da08b72e11666": {
          "model_module": "@jupyter-widgets/controls",
          "model_name": "HBoxModel",
          "state": {
            "_view_name": "HBoxView",
            "_dom_classes": [],
            "_model_name": "HBoxModel",
            "_view_module": "@jupyter-widgets/controls",
            "_model_module_version": "1.5.0",
            "_view_count": null,
            "_view_module_version": "1.5.0",
            "box_style": "",
            "layout": "IPY_MODEL_c72fcdb8dd9541129fe7069d9dd66679",
            "_model_module": "@jupyter-widgets/controls",
            "children": [
              "IPY_MODEL_9e25aea5012047278401b7b3e4287f0b",
              "IPY_MODEL_95533a84e6fc41ec88e9cee542c056c9"
            ]
          }
        },
        "c72fcdb8dd9541129fe7069d9dd66679": {
          "model_module": "@jupyter-widgets/base",
          "model_name": "LayoutModel",
          "state": {
            "_view_name": "LayoutView",
            "grid_template_rows": null,
            "right": null,
            "justify_content": null,
            "_view_module": "@jupyter-widgets/base",
            "overflow": null,
            "_model_module_version": "1.2.0",
            "_view_count": null,
            "flex_flow": null,
            "width": null,
            "min_width": null,
            "border": null,
            "align_items": null,
            "bottom": null,
            "_model_module": "@jupyter-widgets/base",
            "top": null,
            "grid_column": null,
            "overflow_y": null,
            "overflow_x": null,
            "grid_auto_flow": null,
            "grid_area": null,
            "grid_template_columns": null,
            "flex": null,
            "_model_name": "LayoutModel",
            "justify_items": null,
            "grid_row": null,
            "max_height": null,
            "align_content": null,
            "visibility": null,
            "align_self": null,
            "height": null,
            "min_height": null,
            "padding": null,
            "grid_auto_rows": null,
            "grid_gap": null,
            "max_width": null,
            "order": null,
            "_view_module_version": "1.2.0",
            "grid_template_areas": null,
            "object_position": null,
            "object_fit": null,
            "grid_auto_columns": null,
            "margin": null,
            "display": null,
            "left": null
          }
        },
        "9e25aea5012047278401b7b3e4287f0b": {
          "model_module": "@jupyter-widgets/controls",
          "model_name": "FloatProgressModel",
          "state": {
            "_view_name": "ProgressView",
            "style": "IPY_MODEL_b55771b618cd4305a9798942224196d0",
            "_dom_classes": [],
            "description": "Downloading: 100%",
            "_model_name": "FloatProgressModel",
            "bar_style": "success",
            "max": 760,
            "_view_module": "@jupyter-widgets/controls",
            "_model_module_version": "1.5.0",
            "value": 760,
            "_view_count": null,
            "_view_module_version": "1.5.0",
            "orientation": "horizontal",
            "min": 0,
            "description_tooltip": null,
            "_model_module": "@jupyter-widgets/controls",
            "layout": "IPY_MODEL_b082608762f742e88b3d853b28f20490"
          }
        },
        "95533a84e6fc41ec88e9cee542c056c9": {
          "model_module": "@jupyter-widgets/controls",
          "model_name": "HTMLModel",
          "state": {
            "_view_name": "HTMLView",
            "style": "IPY_MODEL_a11d7e2e8f134afcba1c1caeec6cfd6e",
            "_dom_classes": [],
            "description": "",
            "_model_name": "HTMLModel",
            "placeholder": "​",
            "_view_module": "@jupyter-widgets/controls",
            "_model_module_version": "1.5.0",
            "value": " 760/760 [00:00&lt;00:00, 2.20kB/s]",
            "_view_count": null,
            "_view_module_version": "1.5.0",
            "description_tooltip": null,
            "_model_module": "@jupyter-widgets/controls",
            "layout": "IPY_MODEL_592b1b75dfda4f28bb115803fcb43381"
          }
        },
        "b55771b618cd4305a9798942224196d0": {
          "model_module": "@jupyter-widgets/controls",
          "model_name": "ProgressStyleModel",
          "state": {
            "_view_name": "StyleView",
            "_model_name": "ProgressStyleModel",
            "description_width": "initial",
            "_view_module": "@jupyter-widgets/base",
            "_model_module_version": "1.5.0",
            "_view_count": null,
            "_view_module_version": "1.2.0",
            "bar_color": null,
            "_model_module": "@jupyter-widgets/controls"
          }
        },
        "b082608762f742e88b3d853b28f20490": {
          "model_module": "@jupyter-widgets/base",
          "model_name": "LayoutModel",
          "state": {
            "_view_name": "LayoutView",
            "grid_template_rows": null,
            "right": null,
            "justify_content": null,
            "_view_module": "@jupyter-widgets/base",
            "overflow": null,
            "_model_module_version": "1.2.0",
            "_view_count": null,
            "flex_flow": null,
            "width": null,
            "min_width": null,
            "border": null,
            "align_items": null,
            "bottom": null,
            "_model_module": "@jupyter-widgets/base",
            "top": null,
            "grid_column": null,
            "overflow_y": null,
            "overflow_x": null,
            "grid_auto_flow": null,
            "grid_area": null,
            "grid_template_columns": null,
            "flex": null,
            "_model_name": "LayoutModel",
            "justify_items": null,
            "grid_row": null,
            "max_height": null,
            "align_content": null,
            "visibility": null,
            "align_self": null,
            "height": null,
            "min_height": null,
            "padding": null,
            "grid_auto_rows": null,
            "grid_gap": null,
            "max_width": null,
            "order": null,
            "_view_module_version": "1.2.0",
            "grid_template_areas": null,
            "object_position": null,
            "object_fit": null,
            "grid_auto_columns": null,
            "margin": null,
            "display": null,
            "left": null
          }
        },
        "a11d7e2e8f134afcba1c1caeec6cfd6e": {
          "model_module": "@jupyter-widgets/controls",
          "model_name": "DescriptionStyleModel",
          "state": {
            "_view_name": "StyleView",
            "_model_name": "DescriptionStyleModel",
            "description_width": "",
            "_view_module": "@jupyter-widgets/base",
            "_model_module_version": "1.5.0",
            "_view_count": null,
            "_view_module_version": "1.2.0",
            "_model_module": "@jupyter-widgets/controls"
          }
        },
        "592b1b75dfda4f28bb115803fcb43381": {
          "model_module": "@jupyter-widgets/base",
          "model_name": "LayoutModel",
          "state": {
            "_view_name": "LayoutView",
            "grid_template_rows": null,
            "right": null,
            "justify_content": null,
            "_view_module": "@jupyter-widgets/base",
            "overflow": null,
            "_model_module_version": "1.2.0",
            "_view_count": null,
            "flex_flow": null,
            "width": null,
            "min_width": null,
            "border": null,
            "align_items": null,
            "bottom": null,
            "_model_module": "@jupyter-widgets/base",
            "top": null,
            "grid_column": null,
            "overflow_y": null,
            "overflow_x": null,
            "grid_auto_flow": null,
            "grid_area": null,
            "grid_template_columns": null,
            "flex": null,
            "_model_name": "LayoutModel",
            "justify_items": null,
            "grid_row": null,
            "max_height": null,
            "align_content": null,
            "visibility": null,
            "align_self": null,
            "height": null,
            "min_height": null,
            "padding": null,
            "grid_auto_rows": null,
            "grid_gap": null,
            "max_width": null,
            "order": null,
            "_view_module_version": "1.2.0",
            "grid_template_areas": null,
            "object_position": null,
            "object_fit": null,
            "grid_auto_columns": null,
            "margin": null,
            "display": null,
            "left": null
          }
        },
        "ef1ebe1139e1415eada64c47c006b7ec": {
          "model_module": "@jupyter-widgets/controls",
          "model_name": "HBoxModel",
          "state": {
            "_view_name": "HBoxView",
            "_dom_classes": [],
            "_model_name": "HBoxModel",
            "_view_module": "@jupyter-widgets/controls",
            "_model_module_version": "1.5.0",
            "_view_count": null,
            "_view_module_version": "1.5.0",
            "box_style": "",
            "layout": "IPY_MODEL_cd358af6023a4b9e921f4e3acbac640c",
            "_model_module": "@jupyter-widgets/controls",
            "children": [
              "IPY_MODEL_daabbe95f4ec4e8e806e3396b90e9fa7",
              "IPY_MODEL_e0b7c16611084f88a37c8a1581705f2c"
            ]
          }
        },
        "cd358af6023a4b9e921f4e3acbac640c": {
          "model_module": "@jupyter-widgets/base",
          "model_name": "LayoutModel",
          "state": {
            "_view_name": "LayoutView",
            "grid_template_rows": null,
            "right": null,
            "justify_content": null,
            "_view_module": "@jupyter-widgets/base",
            "overflow": null,
            "_model_module_version": "1.2.0",
            "_view_count": null,
            "flex_flow": null,
            "width": null,
            "min_width": null,
            "border": null,
            "align_items": null,
            "bottom": null,
            "_model_module": "@jupyter-widgets/base",
            "top": null,
            "grid_column": null,
            "overflow_y": null,
            "overflow_x": null,
            "grid_auto_flow": null,
            "grid_area": null,
            "grid_template_columns": null,
            "flex": null,
            "_model_name": "LayoutModel",
            "justify_items": null,
            "grid_row": null,
            "max_height": null,
            "align_content": null,
            "visibility": null,
            "align_self": null,
            "height": null,
            "min_height": null,
            "padding": null,
            "grid_auto_rows": null,
            "grid_gap": null,
            "max_width": null,
            "order": null,
            "_view_module_version": "1.2.0",
            "grid_template_areas": null,
            "object_position": null,
            "object_fit": null,
            "grid_auto_columns": null,
            "margin": null,
            "display": null,
            "left": null
          }
        },
        "daabbe95f4ec4e8e806e3396b90e9fa7": {
          "model_module": "@jupyter-widgets/controls",
          "model_name": "FloatProgressModel",
          "state": {
            "_view_name": "ProgressView",
            "style": "IPY_MODEL_6603554883364e11834f689a8d6c3758",
            "_dom_classes": [],
            "description": "Downloading: 100%",
            "_model_name": "FloatProgressModel",
            "bar_style": "success",
            "max": 565485600,
            "_view_module": "@jupyter-widgets/controls",
            "_model_module_version": "1.5.0",
            "value": 565485600,
            "_view_count": null,
            "_view_module_version": "1.5.0",
            "orientation": "horizontal",
            "min": 0,
            "description_tooltip": null,
            "_model_module": "@jupyter-widgets/controls",
            "layout": "IPY_MODEL_63583720d2bc4f9e81a0ff3f631b7667"
          }
        },
        "e0b7c16611084f88a37c8a1581705f2c": {
          "model_module": "@jupyter-widgets/controls",
          "model_name": "HTMLModel",
          "state": {
            "_view_name": "HTMLView",
            "style": "IPY_MODEL_8c5dbad9462d444c81ffa8641fbe5f84",
            "_dom_classes": [],
            "description": "",
            "_model_name": "HTMLModel",
            "placeholder": "​",
            "_view_module": "@jupyter-widgets/controls",
            "_model_module_version": "1.5.0",
            "value": " 565M/565M [00:08&lt;00:00, 66.1MB/s]",
            "_view_count": null,
            "_view_module_version": "1.5.0",
            "description_tooltip": null,
            "_model_module": "@jupyter-widgets/controls",
            "layout": "IPY_MODEL_d6ef9eee278146a9a5af7f9e607ea422"
          }
        },
        "6603554883364e11834f689a8d6c3758": {
          "model_module": "@jupyter-widgets/controls",
          "model_name": "ProgressStyleModel",
          "state": {
            "_view_name": "StyleView",
            "_model_name": "ProgressStyleModel",
            "description_width": "initial",
            "_view_module": "@jupyter-widgets/base",
            "_model_module_version": "1.5.0",
            "_view_count": null,
            "_view_module_version": "1.2.0",
            "bar_color": null,
            "_model_module": "@jupyter-widgets/controls"
          }
        },
        "63583720d2bc4f9e81a0ff3f631b7667": {
          "model_module": "@jupyter-widgets/base",
          "model_name": "LayoutModel",
          "state": {
            "_view_name": "LayoutView",
            "grid_template_rows": null,
            "right": null,
            "justify_content": null,
            "_view_module": "@jupyter-widgets/base",
            "overflow": null,
            "_model_module_version": "1.2.0",
            "_view_count": null,
            "flex_flow": null,
            "width": null,
            "min_width": null,
            "border": null,
            "align_items": null,
            "bottom": null,
            "_model_module": "@jupyter-widgets/base",
            "top": null,
            "grid_column": null,
            "overflow_y": null,
            "overflow_x": null,
            "grid_auto_flow": null,
            "grid_area": null,
            "grid_template_columns": null,
            "flex": null,
            "_model_name": "LayoutModel",
            "justify_items": null,
            "grid_row": null,
            "max_height": null,
            "align_content": null,
            "visibility": null,
            "align_self": null,
            "height": null,
            "min_height": null,
            "padding": null,
            "grid_auto_rows": null,
            "grid_gap": null,
            "max_width": null,
            "order": null,
            "_view_module_version": "1.2.0",
            "grid_template_areas": null,
            "object_position": null,
            "object_fit": null,
            "grid_auto_columns": null,
            "margin": null,
            "display": null,
            "left": null
          }
        },
        "8c5dbad9462d444c81ffa8641fbe5f84": {
          "model_module": "@jupyter-widgets/controls",
          "model_name": "DescriptionStyleModel",
          "state": {
            "_view_name": "StyleView",
            "_model_name": "DescriptionStyleModel",
            "description_width": "",
            "_view_module": "@jupyter-widgets/base",
            "_model_module_version": "1.5.0",
            "_view_count": null,
            "_view_module_version": "1.2.0",
            "_model_module": "@jupyter-widgets/controls"
          }
        },
        "d6ef9eee278146a9a5af7f9e607ea422": {
          "model_module": "@jupyter-widgets/base",
          "model_name": "LayoutModel",
          "state": {
            "_view_name": "LayoutView",
            "grid_template_rows": null,
            "right": null,
            "justify_content": null,
            "_view_module": "@jupyter-widgets/base",
            "overflow": null,
            "_model_module_version": "1.2.0",
            "_view_count": null,
            "flex_flow": null,
            "width": null,
            "min_width": null,
            "border": null,
            "align_items": null,
            "bottom": null,
            "_model_module": "@jupyter-widgets/base",
            "top": null,
            "grid_column": null,
            "overflow_y": null,
            "overflow_x": null,
            "grid_auto_flow": null,
            "grid_area": null,
            "grid_template_columns": null,
            "flex": null,
            "_model_name": "LayoutModel",
            "justify_items": null,
            "grid_row": null,
            "max_height": null,
            "align_content": null,
            "visibility": null,
            "align_self": null,
            "height": null,
            "min_height": null,
            "padding": null,
            "grid_auto_rows": null,
            "grid_gap": null,
            "max_width": null,
            "order": null,
            "_view_module_version": "1.2.0",
            "grid_template_areas": null,
            "object_position": null,
            "object_fit": null,
            "grid_auto_columns": null,
            "margin": null,
            "display": null,
            "left": null
          }
        },
        "e42066fd1b954a6da3c370ba8cb009be": {
          "model_module": "@jupyter-widgets/controls",
          "model_name": "HBoxModel",
          "state": {
            "_view_name": "HBoxView",
            "_dom_classes": [],
            "_model_name": "HBoxModel",
            "_view_module": "@jupyter-widgets/controls",
            "_model_module_version": "1.5.0",
            "_view_count": null,
            "_view_module_version": "1.5.0",
            "box_style": "",
            "layout": "IPY_MODEL_322cc40034e54d5e95981f37b4e664c1",
            "_model_module": "@jupyter-widgets/controls",
            "children": [
              "IPY_MODEL_87bea73a22e4416d9308d989e9b23177",
              "IPY_MODEL_c9f67ea6681e484cb1c3921cc4b256a9"
            ]
          }
        },
        "322cc40034e54d5e95981f37b4e664c1": {
          "model_module": "@jupyter-widgets/base",
          "model_name": "LayoutModel",
          "state": {
            "_view_name": "LayoutView",
            "grid_template_rows": null,
            "right": null,
            "justify_content": null,
            "_view_module": "@jupyter-widgets/base",
            "overflow": null,
            "_model_module_version": "1.2.0",
            "_view_count": null,
            "flex_flow": null,
            "width": null,
            "min_width": null,
            "border": null,
            "align_items": null,
            "bottom": null,
            "_model_module": "@jupyter-widgets/base",
            "top": null,
            "grid_column": null,
            "overflow_y": null,
            "overflow_x": null,
            "grid_auto_flow": null,
            "grid_area": null,
            "grid_template_columns": null,
            "flex": null,
            "_model_name": "LayoutModel",
            "justify_items": null,
            "grid_row": null,
            "max_height": null,
            "align_content": null,
            "visibility": null,
            "align_self": null,
            "height": null,
            "min_height": null,
            "padding": null,
            "grid_auto_rows": null,
            "grid_gap": null,
            "max_width": null,
            "order": null,
            "_view_module_version": "1.2.0",
            "grid_template_areas": null,
            "object_position": null,
            "object_fit": null,
            "grid_auto_columns": null,
            "margin": null,
            "display": null,
            "left": null
          }
        },
        "87bea73a22e4416d9308d989e9b23177": {
          "model_module": "@jupyter-widgets/controls",
          "model_name": "FloatProgressModel",
          "state": {
            "_view_name": "ProgressView",
            "style": "IPY_MODEL_22813fd513a7413da26593defa0e7041",
            "_dom_classes": [],
            "description": "Downloading: 100%",
            "_model_name": "FloatProgressModel",
            "bar_style": "success",
            "max": 231508,
            "_view_module": "@jupyter-widgets/controls",
            "_model_module_version": "1.5.0",
            "value": 231508,
            "_view_count": null,
            "_view_module_version": "1.5.0",
            "orientation": "horizontal",
            "min": 0,
            "description_tooltip": null,
            "_model_module": "@jupyter-widgets/controls",
            "layout": "IPY_MODEL_88f803b6568f4db8b3f269555e6aac99"
          }
        },
        "c9f67ea6681e484cb1c3921cc4b256a9": {
          "model_module": "@jupyter-widgets/controls",
          "model_name": "HTMLModel",
          "state": {
            "_view_name": "HTMLView",
            "style": "IPY_MODEL_6f75bc1f7b7c43e6bf5da4a185ae3098",
            "_dom_classes": [],
            "description": "",
            "_model_name": "HTMLModel",
            "placeholder": "​",
            "_view_module": "@jupyter-widgets/controls",
            "_model_module_version": "1.5.0",
            "value": " 232k/232k [00:01&lt;00:00, 162kB/s]",
            "_view_count": null,
            "_view_module_version": "1.5.0",
            "description_tooltip": null,
            "_model_module": "@jupyter-widgets/controls",
            "layout": "IPY_MODEL_db7c69399ee44c2184a5bba62ea2817e"
          }
        },
        "22813fd513a7413da26593defa0e7041": {
          "model_module": "@jupyter-widgets/controls",
          "model_name": "ProgressStyleModel",
          "state": {
            "_view_name": "StyleView",
            "_model_name": "ProgressStyleModel",
            "description_width": "initial",
            "_view_module": "@jupyter-widgets/base",
            "_model_module_version": "1.5.0",
            "_view_count": null,
            "_view_module_version": "1.2.0",
            "bar_color": null,
            "_model_module": "@jupyter-widgets/controls"
          }
        },
        "88f803b6568f4db8b3f269555e6aac99": {
          "model_module": "@jupyter-widgets/base",
          "model_name": "LayoutModel",
          "state": {
            "_view_name": "LayoutView",
            "grid_template_rows": null,
            "right": null,
            "justify_content": null,
            "_view_module": "@jupyter-widgets/base",
            "overflow": null,
            "_model_module_version": "1.2.0",
            "_view_count": null,
            "flex_flow": null,
            "width": null,
            "min_width": null,
            "border": null,
            "align_items": null,
            "bottom": null,
            "_model_module": "@jupyter-widgets/base",
            "top": null,
            "grid_column": null,
            "overflow_y": null,
            "overflow_x": null,
            "grid_auto_flow": null,
            "grid_area": null,
            "grid_template_columns": null,
            "flex": null,
            "_model_name": "LayoutModel",
            "justify_items": null,
            "grid_row": null,
            "max_height": null,
            "align_content": null,
            "visibility": null,
            "align_self": null,
            "height": null,
            "min_height": null,
            "padding": null,
            "grid_auto_rows": null,
            "grid_gap": null,
            "max_width": null,
            "order": null,
            "_view_module_version": "1.2.0",
            "grid_template_areas": null,
            "object_position": null,
            "object_fit": null,
            "grid_auto_columns": null,
            "margin": null,
            "display": null,
            "left": null
          }
        },
        "6f75bc1f7b7c43e6bf5da4a185ae3098": {
          "model_module": "@jupyter-widgets/controls",
          "model_name": "DescriptionStyleModel",
          "state": {
            "_view_name": "StyleView",
            "_model_name": "DescriptionStyleModel",
            "description_width": "",
            "_view_module": "@jupyter-widgets/base",
            "_model_module_version": "1.5.0",
            "_view_count": null,
            "_view_module_version": "1.2.0",
            "_model_module": "@jupyter-widgets/controls"
          }
        },
        "db7c69399ee44c2184a5bba62ea2817e": {
          "model_module": "@jupyter-widgets/base",
          "model_name": "LayoutModel",
          "state": {
            "_view_name": "LayoutView",
            "grid_template_rows": null,
            "right": null,
            "justify_content": null,
            "_view_module": "@jupyter-widgets/base",
            "overflow": null,
            "_model_module_version": "1.2.0",
            "_view_count": null,
            "flex_flow": null,
            "width": null,
            "min_width": null,
            "border": null,
            "align_items": null,
            "bottom": null,
            "_model_module": "@jupyter-widgets/base",
            "top": null,
            "grid_column": null,
            "overflow_y": null,
            "overflow_x": null,
            "grid_auto_flow": null,
            "grid_area": null,
            "grid_template_columns": null,
            "flex": null,
            "_model_name": "LayoutModel",
            "justify_items": null,
            "grid_row": null,
            "max_height": null,
            "align_content": null,
            "visibility": null,
            "align_self": null,
            "height": null,
            "min_height": null,
            "padding": null,
            "grid_auto_rows": null,
            "grid_gap": null,
            "max_width": null,
            "order": null,
            "_view_module_version": "1.2.0",
            "grid_template_areas": null,
            "object_position": null,
            "object_fit": null,
            "grid_auto_columns": null,
            "margin": null,
            "display": null,
            "left": null
          }
        },
        "9d25e002a17f4822a5bb857328647235": {
          "model_module": "@jupyter-widgets/controls",
          "model_name": "HBoxModel",
          "state": {
            "_view_name": "HBoxView",
            "_dom_classes": [],
            "_model_name": "HBoxModel",
            "_view_module": "@jupyter-widgets/controls",
            "_model_module_version": "1.5.0",
            "_view_count": null,
            "_view_module_version": "1.5.0",
            "box_style": "",
            "layout": "IPY_MODEL_b7b890a4ec6f400b9114d076c806c1e4",
            "_model_module": "@jupyter-widgets/controls",
            "children": [
              "IPY_MODEL_d9360ff60ca94502abaa53e5a2989b64",
              "IPY_MODEL_c953c48ff43b428489ab6172570a6aac"
            ]
          }
        },
        "b7b890a4ec6f400b9114d076c806c1e4": {
          "model_module": "@jupyter-widgets/base",
          "model_name": "LayoutModel",
          "state": {
            "_view_name": "LayoutView",
            "grid_template_rows": null,
            "right": null,
            "justify_content": null,
            "_view_module": "@jupyter-widgets/base",
            "overflow": null,
            "_model_module_version": "1.2.0",
            "_view_count": null,
            "flex_flow": null,
            "width": null,
            "min_width": null,
            "border": null,
            "align_items": null,
            "bottom": null,
            "_model_module": "@jupyter-widgets/base",
            "top": null,
            "grid_column": null,
            "overflow_y": null,
            "overflow_x": null,
            "grid_auto_flow": null,
            "grid_area": null,
            "grid_template_columns": null,
            "flex": null,
            "_model_name": "LayoutModel",
            "justify_items": null,
            "grid_row": null,
            "max_height": null,
            "align_content": null,
            "visibility": null,
            "align_self": null,
            "height": null,
            "min_height": null,
            "padding": null,
            "grid_auto_rows": null,
            "grid_gap": null,
            "max_width": null,
            "order": null,
            "_view_module_version": "1.2.0",
            "grid_template_areas": null,
            "object_position": null,
            "object_fit": null,
            "grid_auto_columns": null,
            "margin": null,
            "display": null,
            "left": null
          }
        },
        "d9360ff60ca94502abaa53e5a2989b64": {
          "model_module": "@jupyter-widgets/controls",
          "model_name": "FloatProgressModel",
          "state": {
            "_view_name": "ProgressView",
            "style": "IPY_MODEL_20b75a76013f47c2b817a297e6a0282f",
            "_dom_classes": [],
            "description": "Downloading: 100%",
            "_model_name": "FloatProgressModel",
            "bar_style": "success",
            "max": 28,
            "_view_module": "@jupyter-widgets/controls",
            "_model_module_version": "1.5.0",
            "value": 28,
            "_view_count": null,
            "_view_module_version": "1.5.0",
            "orientation": "horizontal",
            "min": 0,
            "description_tooltip": null,
            "_model_module": "@jupyter-widgets/controls",
            "layout": "IPY_MODEL_7bb6299b6df34873afcca11c798a6e3c"
          }
        },
        "c953c48ff43b428489ab6172570a6aac": {
          "model_module": "@jupyter-widgets/controls",
          "model_name": "HTMLModel",
          "state": {
            "_view_name": "HTMLView",
            "style": "IPY_MODEL_59bb492b72064c41b954fedefcde6ab2",
            "_dom_classes": [],
            "description": "",
            "_model_name": "HTMLModel",
            "placeholder": "​",
            "_view_module": "@jupyter-widgets/controls",
            "_model_module_version": "1.5.0",
            "value": " 28.0/28.0 [00:01&lt;00:00, 27.6B/s]",
            "_view_count": null,
            "_view_module_version": "1.5.0",
            "description_tooltip": null,
            "_model_module": "@jupyter-widgets/controls",
            "layout": "IPY_MODEL_c7498aa199c34e53820337ef32fd1b11"
          }
        },
        "20b75a76013f47c2b817a297e6a0282f": {
          "model_module": "@jupyter-widgets/controls",
          "model_name": "ProgressStyleModel",
          "state": {
            "_view_name": "StyleView",
            "_model_name": "ProgressStyleModel",
            "description_width": "initial",
            "_view_module": "@jupyter-widgets/base",
            "_model_module_version": "1.5.0",
            "_view_count": null,
            "_view_module_version": "1.2.0",
            "bar_color": null,
            "_model_module": "@jupyter-widgets/controls"
          }
        },
        "7bb6299b6df34873afcca11c798a6e3c": {
          "model_module": "@jupyter-widgets/base",
          "model_name": "LayoutModel",
          "state": {
            "_view_name": "LayoutView",
            "grid_template_rows": null,
            "right": null,
            "justify_content": null,
            "_view_module": "@jupyter-widgets/base",
            "overflow": null,
            "_model_module_version": "1.2.0",
            "_view_count": null,
            "flex_flow": null,
            "width": null,
            "min_width": null,
            "border": null,
            "align_items": null,
            "bottom": null,
            "_model_module": "@jupyter-widgets/base",
            "top": null,
            "grid_column": null,
            "overflow_y": null,
            "overflow_x": null,
            "grid_auto_flow": null,
            "grid_area": null,
            "grid_template_columns": null,
            "flex": null,
            "_model_name": "LayoutModel",
            "justify_items": null,
            "grid_row": null,
            "max_height": null,
            "align_content": null,
            "visibility": null,
            "align_self": null,
            "height": null,
            "min_height": null,
            "padding": null,
            "grid_auto_rows": null,
            "grid_gap": null,
            "max_width": null,
            "order": null,
            "_view_module_version": "1.2.0",
            "grid_template_areas": null,
            "object_position": null,
            "object_fit": null,
            "grid_auto_columns": null,
            "margin": null,
            "display": null,
            "left": null
          }
        },
        "59bb492b72064c41b954fedefcde6ab2": {
          "model_module": "@jupyter-widgets/controls",
          "model_name": "DescriptionStyleModel",
          "state": {
            "_view_name": "StyleView",
            "_model_name": "DescriptionStyleModel",
            "description_width": "",
            "_view_module": "@jupyter-widgets/base",
            "_model_module_version": "1.5.0",
            "_view_count": null,
            "_view_module_version": "1.2.0",
            "_model_module": "@jupyter-widgets/controls"
          }
        },
        "c7498aa199c34e53820337ef32fd1b11": {
          "model_module": "@jupyter-widgets/base",
          "model_name": "LayoutModel",
          "state": {
            "_view_name": "LayoutView",
            "grid_template_rows": null,
            "right": null,
            "justify_content": null,
            "_view_module": "@jupyter-widgets/base",
            "overflow": null,
            "_model_module_version": "1.2.0",
            "_view_count": null,
            "flex_flow": null,
            "width": null,
            "min_width": null,
            "border": null,
            "align_items": null,
            "bottom": null,
            "_model_module": "@jupyter-widgets/base",
            "top": null,
            "grid_column": null,
            "overflow_y": null,
            "overflow_x": null,
            "grid_auto_flow": null,
            "grid_area": null,
            "grid_template_columns": null,
            "flex": null,
            "_model_name": "LayoutModel",
            "justify_items": null,
            "grid_row": null,
            "max_height": null,
            "align_content": null,
            "visibility": null,
            "align_self": null,
            "height": null,
            "min_height": null,
            "padding": null,
            "grid_auto_rows": null,
            "grid_gap": null,
            "max_width": null,
            "order": null,
            "_view_module_version": "1.2.0",
            "grid_template_areas": null,
            "object_position": null,
            "object_fit": null,
            "grid_auto_columns": null,
            "margin": null,
            "display": null,
            "left": null
          }
        },
        "70bca5e5f80d402da093b33288f69bdc": {
          "model_module": "@jupyter-widgets/controls",
          "model_name": "HBoxModel",
          "state": {
            "_view_name": "HBoxView",
            "_dom_classes": [],
            "_model_name": "HBoxModel",
            "_view_module": "@jupyter-widgets/controls",
            "_model_module_version": "1.5.0",
            "_view_count": null,
            "_view_module_version": "1.5.0",
            "box_style": "",
            "layout": "IPY_MODEL_36ff9f04c49e401db06fe2ec5b4a8d7c",
            "_model_module": "@jupyter-widgets/controls",
            "children": [
              "IPY_MODEL_775589c05c8548358dd054bbbc54119e",
              "IPY_MODEL_c2add8d5d13b44398804f53f94d1216a"
            ]
          }
        },
        "36ff9f04c49e401db06fe2ec5b4a8d7c": {
          "model_module": "@jupyter-widgets/base",
          "model_name": "LayoutModel",
          "state": {
            "_view_name": "LayoutView",
            "grid_template_rows": null,
            "right": null,
            "justify_content": null,
            "_view_module": "@jupyter-widgets/base",
            "overflow": null,
            "_model_module_version": "1.2.0",
            "_view_count": null,
            "flex_flow": null,
            "width": null,
            "min_width": null,
            "border": null,
            "align_items": null,
            "bottom": null,
            "_model_module": "@jupyter-widgets/base",
            "top": null,
            "grid_column": null,
            "overflow_y": null,
            "overflow_x": null,
            "grid_auto_flow": null,
            "grid_area": null,
            "grid_template_columns": null,
            "flex": null,
            "_model_name": "LayoutModel",
            "justify_items": null,
            "grid_row": null,
            "max_height": null,
            "align_content": null,
            "visibility": null,
            "align_self": null,
            "height": null,
            "min_height": null,
            "padding": null,
            "grid_auto_rows": null,
            "grid_gap": null,
            "max_width": null,
            "order": null,
            "_view_module_version": "1.2.0",
            "grid_template_areas": null,
            "object_position": null,
            "object_fit": null,
            "grid_auto_columns": null,
            "margin": null,
            "display": null,
            "left": null
          }
        },
        "775589c05c8548358dd054bbbc54119e": {
          "model_module": "@jupyter-widgets/controls",
          "model_name": "FloatProgressModel",
          "state": {
            "_view_name": "ProgressView",
            "style": "IPY_MODEL_0585d8a792274f378eefe1438ee59ada",
            "_dom_classes": [],
            "description": "Downloading: 100%",
            "_model_name": "FloatProgressModel",
            "bar_style": "success",
            "max": 466062,
            "_view_module": "@jupyter-widgets/controls",
            "_model_module_version": "1.5.0",
            "value": 466062,
            "_view_count": null,
            "_view_module_version": "1.5.0",
            "orientation": "horizontal",
            "min": 0,
            "description_tooltip": null,
            "_model_module": "@jupyter-widgets/controls",
            "layout": "IPY_MODEL_2198478e89564931ae2a7455ecc1437a"
          }
        },
        "c2add8d5d13b44398804f53f94d1216a": {
          "model_module": "@jupyter-widgets/controls",
          "model_name": "HTMLModel",
          "state": {
            "_view_name": "HTMLView",
            "style": "IPY_MODEL_dfb2e223d52d4c75a7f61dc1a8ed17ae",
            "_dom_classes": [],
            "description": "",
            "_model_name": "HTMLModel",
            "placeholder": "​",
            "_view_module": "@jupyter-widgets/controls",
            "_model_module_version": "1.5.0",
            "value": " 466k/466k [00:00&lt;00:00, 1.06MB/s]",
            "_view_count": null,
            "_view_module_version": "1.5.0",
            "description_tooltip": null,
            "_model_module": "@jupyter-widgets/controls",
            "layout": "IPY_MODEL_4dcc7b39e6fe4aa89b64b1457e978d21"
          }
        },
        "0585d8a792274f378eefe1438ee59ada": {
          "model_module": "@jupyter-widgets/controls",
          "model_name": "ProgressStyleModel",
          "state": {
            "_view_name": "StyleView",
            "_model_name": "ProgressStyleModel",
            "description_width": "initial",
            "_view_module": "@jupyter-widgets/base",
            "_model_module_version": "1.5.0",
            "_view_count": null,
            "_view_module_version": "1.2.0",
            "bar_color": null,
            "_model_module": "@jupyter-widgets/controls"
          }
        },
        "2198478e89564931ae2a7455ecc1437a": {
          "model_module": "@jupyter-widgets/base",
          "model_name": "LayoutModel",
          "state": {
            "_view_name": "LayoutView",
            "grid_template_rows": null,
            "right": null,
            "justify_content": null,
            "_view_module": "@jupyter-widgets/base",
            "overflow": null,
            "_model_module_version": "1.2.0",
            "_view_count": null,
            "flex_flow": null,
            "width": null,
            "min_width": null,
            "border": null,
            "align_items": null,
            "bottom": null,
            "_model_module": "@jupyter-widgets/base",
            "top": null,
            "grid_column": null,
            "overflow_y": null,
            "overflow_x": null,
            "grid_auto_flow": null,
            "grid_area": null,
            "grid_template_columns": null,
            "flex": null,
            "_model_name": "LayoutModel",
            "justify_items": null,
            "grid_row": null,
            "max_height": null,
            "align_content": null,
            "visibility": null,
            "align_self": null,
            "height": null,
            "min_height": null,
            "padding": null,
            "grid_auto_rows": null,
            "grid_gap": null,
            "max_width": null,
            "order": null,
            "_view_module_version": "1.2.0",
            "grid_template_areas": null,
            "object_position": null,
            "object_fit": null,
            "grid_auto_columns": null,
            "margin": null,
            "display": null,
            "left": null
          }
        },
        "dfb2e223d52d4c75a7f61dc1a8ed17ae": {
          "model_module": "@jupyter-widgets/controls",
          "model_name": "DescriptionStyleModel",
          "state": {
            "_view_name": "StyleView",
            "_model_name": "DescriptionStyleModel",
            "description_width": "",
            "_view_module": "@jupyter-widgets/base",
            "_model_module_version": "1.5.0",
            "_view_count": null,
            "_view_module_version": "1.2.0",
            "_model_module": "@jupyter-widgets/controls"
          }
        },
        "4dcc7b39e6fe4aa89b64b1457e978d21": {
          "model_module": "@jupyter-widgets/base",
          "model_name": "LayoutModel",
          "state": {
            "_view_name": "LayoutView",
            "grid_template_rows": null,
            "right": null,
            "justify_content": null,
            "_view_module": "@jupyter-widgets/base",
            "overflow": null,
            "_model_module_version": "1.2.0",
            "_view_count": null,
            "flex_flow": null,
            "width": null,
            "min_width": null,
            "border": null,
            "align_items": null,
            "bottom": null,
            "_model_module": "@jupyter-widgets/base",
            "top": null,
            "grid_column": null,
            "overflow_y": null,
            "overflow_x": null,
            "grid_auto_flow": null,
            "grid_area": null,
            "grid_template_columns": null,
            "flex": null,
            "_model_name": "LayoutModel",
            "justify_items": null,
            "grid_row": null,
            "max_height": null,
            "align_content": null,
            "visibility": null,
            "align_self": null,
            "height": null,
            "min_height": null,
            "padding": null,
            "grid_auto_rows": null,
            "grid_gap": null,
            "max_width": null,
            "order": null,
            "_view_module_version": "1.2.0",
            "grid_template_areas": null,
            "object_position": null,
            "object_fit": null,
            "grid_auto_columns": null,
            "margin": null,
            "display": null,
            "left": null
          }
        },
        "7d78348b4660471d8ea643bd295f3d40": {
          "model_module": "@jupyter-widgets/controls",
          "model_name": "HBoxModel",
          "state": {
            "_view_name": "HBoxView",
            "_dom_classes": [],
            "_model_name": "HBoxModel",
            "_view_module": "@jupyter-widgets/controls",
            "_model_module_version": "1.5.0",
            "_view_count": null,
            "_view_module_version": "1.5.0",
            "box_style": "",
            "layout": "IPY_MODEL_048fd6b79f0f4271b55fe2620479ab32",
            "_model_module": "@jupyter-widgets/controls",
            "children": [
              "IPY_MODEL_248986b55c454a1ea5574f463650b859",
              "IPY_MODEL_9cdf8d2e92b34f508532be88434fc0b3"
            ]
          }
        },
        "048fd6b79f0f4271b55fe2620479ab32": {
          "model_module": "@jupyter-widgets/base",
          "model_name": "LayoutModel",
          "state": {
            "_view_name": "LayoutView",
            "grid_template_rows": null,
            "right": null,
            "justify_content": null,
            "_view_module": "@jupyter-widgets/base",
            "overflow": null,
            "_model_module_version": "1.2.0",
            "_view_count": null,
            "flex_flow": null,
            "width": null,
            "min_width": null,
            "border": null,
            "align_items": null,
            "bottom": null,
            "_model_module": "@jupyter-widgets/base",
            "top": null,
            "grid_column": null,
            "overflow_y": null,
            "overflow_x": null,
            "grid_auto_flow": null,
            "grid_area": null,
            "grid_template_columns": null,
            "flex": null,
            "_model_name": "LayoutModel",
            "justify_items": null,
            "grid_row": null,
            "max_height": null,
            "align_content": null,
            "visibility": null,
            "align_self": null,
            "height": null,
            "min_height": null,
            "padding": null,
            "grid_auto_rows": null,
            "grid_gap": null,
            "max_width": null,
            "order": null,
            "_view_module_version": "1.2.0",
            "grid_template_areas": null,
            "object_position": null,
            "object_fit": null,
            "grid_auto_columns": null,
            "margin": null,
            "display": null,
            "left": null
          }
        },
        "248986b55c454a1ea5574f463650b859": {
          "model_module": "@jupyter-widgets/controls",
          "model_name": "FloatProgressModel",
          "state": {
            "_view_name": "ProgressView",
            "style": "IPY_MODEL_7c6e4df7a7f0495983f0d1182a761291",
            "_dom_classes": [],
            "description": "Downloading: 100%",
            "_model_name": "FloatProgressModel",
            "bar_style": "success",
            "max": 442,
            "_view_module": "@jupyter-widgets/controls",
            "_model_module_version": "1.5.0",
            "value": 442,
            "_view_count": null,
            "_view_module_version": "1.5.0",
            "orientation": "horizontal",
            "min": 0,
            "description_tooltip": null,
            "_model_module": "@jupyter-widgets/controls",
            "layout": "IPY_MODEL_0037a3983c0a46c4b9bed975372a045c"
          }
        },
        "9cdf8d2e92b34f508532be88434fc0b3": {
          "model_module": "@jupyter-widgets/controls",
          "model_name": "HTMLModel",
          "state": {
            "_view_name": "HTMLView",
            "style": "IPY_MODEL_75811d85dc5e4041b72940e45237c2a5",
            "_dom_classes": [],
            "description": "",
            "_model_name": "HTMLModel",
            "placeholder": "​",
            "_view_module": "@jupyter-widgets/controls",
            "_model_module_version": "1.5.0",
            "value": " 442/442 [00:06&lt;00:00, 72.3B/s]",
            "_view_count": null,
            "_view_module_version": "1.5.0",
            "description_tooltip": null,
            "_model_module": "@jupyter-widgets/controls",
            "layout": "IPY_MODEL_f8d6a7dd725142b196051fb5151283c2"
          }
        },
        "7c6e4df7a7f0495983f0d1182a761291": {
          "model_module": "@jupyter-widgets/controls",
          "model_name": "ProgressStyleModel",
          "state": {
            "_view_name": "StyleView",
            "_model_name": "ProgressStyleModel",
            "description_width": "initial",
            "_view_module": "@jupyter-widgets/base",
            "_model_module_version": "1.5.0",
            "_view_count": null,
            "_view_module_version": "1.2.0",
            "bar_color": null,
            "_model_module": "@jupyter-widgets/controls"
          }
        },
        "0037a3983c0a46c4b9bed975372a045c": {
          "model_module": "@jupyter-widgets/base",
          "model_name": "LayoutModel",
          "state": {
            "_view_name": "LayoutView",
            "grid_template_rows": null,
            "right": null,
            "justify_content": null,
            "_view_module": "@jupyter-widgets/base",
            "overflow": null,
            "_model_module_version": "1.2.0",
            "_view_count": null,
            "flex_flow": null,
            "width": null,
            "min_width": null,
            "border": null,
            "align_items": null,
            "bottom": null,
            "_model_module": "@jupyter-widgets/base",
            "top": null,
            "grid_column": null,
            "overflow_y": null,
            "overflow_x": null,
            "grid_auto_flow": null,
            "grid_area": null,
            "grid_template_columns": null,
            "flex": null,
            "_model_name": "LayoutModel",
            "justify_items": null,
            "grid_row": null,
            "max_height": null,
            "align_content": null,
            "visibility": null,
            "align_self": null,
            "height": null,
            "min_height": null,
            "padding": null,
            "grid_auto_rows": null,
            "grid_gap": null,
            "max_width": null,
            "order": null,
            "_view_module_version": "1.2.0",
            "grid_template_areas": null,
            "object_position": null,
            "object_fit": null,
            "grid_auto_columns": null,
            "margin": null,
            "display": null,
            "left": null
          }
        },
        "75811d85dc5e4041b72940e45237c2a5": {
          "model_module": "@jupyter-widgets/controls",
          "model_name": "DescriptionStyleModel",
          "state": {
            "_view_name": "StyleView",
            "_model_name": "DescriptionStyleModel",
            "description_width": "",
            "_view_module": "@jupyter-widgets/base",
            "_model_module_version": "1.5.0",
            "_view_count": null,
            "_view_module_version": "1.2.0",
            "_model_module": "@jupyter-widgets/controls"
          }
        },
        "f8d6a7dd725142b196051fb5151283c2": {
          "model_module": "@jupyter-widgets/base",
          "model_name": "LayoutModel",
          "state": {
            "_view_name": "LayoutView",
            "grid_template_rows": null,
            "right": null,
            "justify_content": null,
            "_view_module": "@jupyter-widgets/base",
            "overflow": null,
            "_model_module_version": "1.2.0",
            "_view_count": null,
            "flex_flow": null,
            "width": null,
            "min_width": null,
            "border": null,
            "align_items": null,
            "bottom": null,
            "_model_module": "@jupyter-widgets/base",
            "top": null,
            "grid_column": null,
            "overflow_y": null,
            "overflow_x": null,
            "grid_auto_flow": null,
            "grid_area": null,
            "grid_template_columns": null,
            "flex": null,
            "_model_name": "LayoutModel",
            "justify_items": null,
            "grid_row": null,
            "max_height": null,
            "align_content": null,
            "visibility": null,
            "align_self": null,
            "height": null,
            "min_height": null,
            "padding": null,
            "grid_auto_rows": null,
            "grid_gap": null,
            "max_width": null,
            "order": null,
            "_view_module_version": "1.2.0",
            "grid_template_areas": null,
            "object_position": null,
            "object_fit": null,
            "grid_auto_columns": null,
            "margin": null,
            "display": null,
            "left": null
          }
        },
        "4f1f48f6fb2441e6a348ce3d800db60b": {
          "model_module": "@jupyter-widgets/controls",
          "model_name": "HBoxModel",
          "state": {
            "_view_name": "HBoxView",
            "_dom_classes": [],
            "_model_name": "HBoxModel",
            "_view_module": "@jupyter-widgets/controls",
            "_model_module_version": "1.5.0",
            "_view_count": null,
            "_view_module_version": "1.5.0",
            "box_style": "",
            "layout": "IPY_MODEL_5abc7f16b64646589595b536f7869d73",
            "_model_module": "@jupyter-widgets/controls",
            "children": [
              "IPY_MODEL_33708946de3d40b3ae39d2f2dc0b738d",
              "IPY_MODEL_76bfed4334b649d08519fc5adc330d45"
            ]
          }
        },
        "5abc7f16b64646589595b536f7869d73": {
          "model_module": "@jupyter-widgets/base",
          "model_name": "LayoutModel",
          "state": {
            "_view_name": "LayoutView",
            "grid_template_rows": null,
            "right": null,
            "justify_content": null,
            "_view_module": "@jupyter-widgets/base",
            "overflow": null,
            "_model_module_version": "1.2.0",
            "_view_count": null,
            "flex_flow": null,
            "width": null,
            "min_width": null,
            "border": null,
            "align_items": null,
            "bottom": null,
            "_model_module": "@jupyter-widgets/base",
            "top": null,
            "grid_column": null,
            "overflow_y": null,
            "overflow_x": null,
            "grid_auto_flow": null,
            "grid_area": null,
            "grid_template_columns": null,
            "flex": null,
            "_model_name": "LayoutModel",
            "justify_items": null,
            "grid_row": null,
            "max_height": null,
            "align_content": null,
            "visibility": null,
            "align_self": null,
            "height": null,
            "min_height": null,
            "padding": null,
            "grid_auto_rows": null,
            "grid_gap": null,
            "max_width": null,
            "order": null,
            "_view_module_version": "1.2.0",
            "grid_template_areas": null,
            "object_position": null,
            "object_fit": null,
            "grid_auto_columns": null,
            "margin": null,
            "display": null,
            "left": null
          }
        },
        "33708946de3d40b3ae39d2f2dc0b738d": {
          "model_module": "@jupyter-widgets/controls",
          "model_name": "FloatProgressModel",
          "state": {
            "_view_name": "ProgressView",
            "style": "IPY_MODEL_64e53dde88e24faab4519960ea04d44e",
            "_dom_classes": [],
            "description": "Downloading: 100%",
            "_model_name": "FloatProgressModel",
            "bar_style": "success",
            "max": 363423424,
            "_view_module": "@jupyter-widgets/controls",
            "_model_module_version": "1.5.0",
            "value": 363423424,
            "_view_count": null,
            "_view_module_version": "1.5.0",
            "orientation": "horizontal",
            "min": 0,
            "description_tooltip": null,
            "_model_module": "@jupyter-widgets/controls",
            "layout": "IPY_MODEL_bbe5ac1f6d9a48c7a10c69773f29a73a"
          }
        },
        "76bfed4334b649d08519fc5adc330d45": {
          "model_module": "@jupyter-widgets/controls",
          "model_name": "HTMLModel",
          "state": {
            "_view_name": "HTMLView",
            "style": "IPY_MODEL_1c9bbb09a2c445e180d39c82ec2b880d",
            "_dom_classes": [],
            "description": "",
            "_model_name": "HTMLModel",
            "placeholder": "​",
            "_view_module": "@jupyter-widgets/controls",
            "_model_module_version": "1.5.0",
            "value": " 363M/363M [00:05&lt;00:00, 64.2MB/s]",
            "_view_count": null,
            "_view_module_version": "1.5.0",
            "description_tooltip": null,
            "_model_module": "@jupyter-widgets/controls",
            "layout": "IPY_MODEL_757ff4c6d3f34e5f95e33712fdf0dd7a"
          }
        },
        "64e53dde88e24faab4519960ea04d44e": {
          "model_module": "@jupyter-widgets/controls",
          "model_name": "ProgressStyleModel",
          "state": {
            "_view_name": "StyleView",
            "_model_name": "ProgressStyleModel",
            "description_width": "initial",
            "_view_module": "@jupyter-widgets/base",
            "_model_module_version": "1.5.0",
            "_view_count": null,
            "_view_module_version": "1.2.0",
            "bar_color": null,
            "_model_module": "@jupyter-widgets/controls"
          }
        },
        "bbe5ac1f6d9a48c7a10c69773f29a73a": {
          "model_module": "@jupyter-widgets/base",
          "model_name": "LayoutModel",
          "state": {
            "_view_name": "LayoutView",
            "grid_template_rows": null,
            "right": null,
            "justify_content": null,
            "_view_module": "@jupyter-widgets/base",
            "overflow": null,
            "_model_module_version": "1.2.0",
            "_view_count": null,
            "flex_flow": null,
            "width": null,
            "min_width": null,
            "border": null,
            "align_items": null,
            "bottom": null,
            "_model_module": "@jupyter-widgets/base",
            "top": null,
            "grid_column": null,
            "overflow_y": null,
            "overflow_x": null,
            "grid_auto_flow": null,
            "grid_area": null,
            "grid_template_columns": null,
            "flex": null,
            "_model_name": "LayoutModel",
            "justify_items": null,
            "grid_row": null,
            "max_height": null,
            "align_content": null,
            "visibility": null,
            "align_self": null,
            "height": null,
            "min_height": null,
            "padding": null,
            "grid_auto_rows": null,
            "grid_gap": null,
            "max_width": null,
            "order": null,
            "_view_module_version": "1.2.0",
            "grid_template_areas": null,
            "object_position": null,
            "object_fit": null,
            "grid_auto_columns": null,
            "margin": null,
            "display": null,
            "left": null
          }
        },
        "1c9bbb09a2c445e180d39c82ec2b880d": {
          "model_module": "@jupyter-widgets/controls",
          "model_name": "DescriptionStyleModel",
          "state": {
            "_view_name": "StyleView",
            "_model_name": "DescriptionStyleModel",
            "description_width": "",
            "_view_module": "@jupyter-widgets/base",
            "_model_module_version": "1.5.0",
            "_view_count": null,
            "_view_module_version": "1.2.0",
            "_model_module": "@jupyter-widgets/controls"
          }
        },
        "757ff4c6d3f34e5f95e33712fdf0dd7a": {
          "model_module": "@jupyter-widgets/base",
          "model_name": "LayoutModel",
          "state": {
            "_view_name": "LayoutView",
            "grid_template_rows": null,
            "right": null,
            "justify_content": null,
            "_view_module": "@jupyter-widgets/base",
            "overflow": null,
            "_model_module_version": "1.2.0",
            "_view_count": null,
            "flex_flow": null,
            "width": null,
            "min_width": null,
            "border": null,
            "align_items": null,
            "bottom": null,
            "_model_module": "@jupyter-widgets/base",
            "top": null,
            "grid_column": null,
            "overflow_y": null,
            "overflow_x": null,
            "grid_auto_flow": null,
            "grid_area": null,
            "grid_template_columns": null,
            "flex": null,
            "_model_name": "LayoutModel",
            "justify_items": null,
            "grid_row": null,
            "max_height": null,
            "align_content": null,
            "visibility": null,
            "align_self": null,
            "height": null,
            "min_height": null,
            "padding": null,
            "grid_auto_rows": null,
            "grid_gap": null,
            "max_width": null,
            "order": null,
            "_view_module_version": "1.2.0",
            "grid_template_areas": null,
            "object_position": null,
            "object_fit": null,
            "grid_auto_columns": null,
            "margin": null,
            "display": null,
            "left": null
          }
        }
      }
    }
  },
  "cells": [
    {
      "cell_type": "markdown",
      "metadata": {
        "id": "view-in-github",
        "colab_type": "text"
      },
      "source": [
        "<a href=\"https://colab.research.google.com/github/gibsonx/CE888/blob/master/Assignment/Assignment_2.ipynb\" target=\"_parent\"><img src=\"https://colab.research.google.com/assets/colab-badge.svg\" alt=\"Open In Colab\"/></a>"
      ]
    },
    {
      "cell_type": "markdown",
      "metadata": {
        "id": "4NzW2BbFzSdh"
      },
      "source": [
        "#A Comparative Study of Latest Models for TwitterSentiment Analysis (Assignment2)\n"
      ]
    },
    {
      "cell_type": "code",
      "metadata": {
        "id": "nk0hIUcdXpi2"
      },
      "source": [
        "# Silent installation  \n",
        "!pip install -U tensorflow zhon transformers sentencepiece &> /dev/null\n",
        "# Download dataset and lib files from the github\n",
        "!git clone https://github.com/cardiffnlp/tweeteval.git &> /dev/null\n",
        "!git clone https://github.com/gibsonx/grocery.git &> /dev/null"
      ],
      "execution_count": 1,
      "outputs": []
    },
    {
      "cell_type": "code",
      "metadata": {
        "id": "8WFgb6kZXX8C",
        "colab": {
          "base_uri": "https://localhost:8080/"
        },
        "outputId": "5cf3fda2-0fa1-4c97-9a67-fc6ff3fc662c"
      },
      "source": [
        "import sys\n",
        "import numpy as np\n",
        "import matplotlib.pyplot as plt\n",
        "import tensorflow as tf\n",
        "from tensorflow.keras import Input, layers, losses, preprocessing, utils\n",
        "from tensorflow.keras.callbacks import ModelCheckpoint\n",
        "from tensorflow.keras.models import Model\n",
        "from tensorflow.keras.optimizers import Adam\n",
        "from keras.layers.core import Dense\n",
        "from sklearn.metrics import accuracy_score, roc_auc_score, roc_curve,confusion_matrix,f1_score\n",
        "\n",
        "#Import customized classes and libraries from file\n",
        "sys.path.insert(0, '/content/grocery/')\n",
        "from CE888_Transformer import DataPrep, imbalance_under_sampling , create_model, get_tokenization, warmup\n",
        "from CustomizedPlots import *\n",
        "try:\n",
        "    %tensorflow_version 2.x\n",
        "except Exception:\n",
        "    pass\n",
        "print(\"Num GPUs Available: \", len(tf.config.list_physical_devices('GPU')))"
      ],
      "execution_count": 2,
      "outputs": [
        {
          "output_type": "stream",
          "text": [
            "Num GPUs Available:  1\n"
          ],
          "name": "stdout"
        }
      ]
    },
    {
      "cell_type": "markdown",
      "metadata": {
        "id": "1s7tr1fdFsKT"
      },
      "source": [
        "#Data nominalization for training , validation and test datasets (Hate, Irony and Offensive)"
      ]
    },
    {
      "cell_type": "code",
      "metadata": {
        "id": "hcveRCcrB1Kh",
        "colab": {
          "base_uri": "https://localhost:8080/",
          "height": 215
        },
        "outputId": "864ed30f-bf69-4e3e-9a61-ba8c83c3eff9"
      },
      "source": [
        "#Define the root folder where we put the datasets\n",
        "base_dir = '/content/tweeteval/datasets/'\n",
        "\n",
        "#Create hate dataframe\n",
        "hate = DataPrep(base_dir, 'hate') \n",
        "hate_dict_train, hate_dict_val, hate_dict_test = hate.dataframe()\n",
        "df_hate = hate.dataframe_merge()\n",
        "not_hate, hate = hate.binary_split()\n",
        "\n",
        "#Create irony dataframe\n",
        "irony = DataPrep(base_dir, 'irony') \n",
        "irony_dict_train, irony_dict_val, irony_dict_test = irony.dataframe()\n",
        "df_irony = irony.dataframe_merge()\n",
        "not_irony, irony = irony.binary_split()\n",
        "\n",
        "#Create offensive dataframe\n",
        "offensive = DataPrep(base_dir, 'offensive')\n",
        "offensive_dict_train, offensive_dict_val, offensive_dict_test = offensive.dataframe()\n",
        "df_offensive = offensive.dataframe_merge()\n",
        "not_offensive, offensive = offensive.binary_split()\n",
        "\n",
        "print(\"The sample of pre-precessed dataset is shown below:\")\n",
        "hate.head()"
      ],
      "execution_count": 3,
      "outputs": [
        {
          "output_type": "stream",
          "text": [
            "The sample of pre-precessed dataset is shown below:\n"
          ],
          "name": "stdout"
        },
        {
          "output_type": "execute_result",
          "data": {
            "text/html": [
              "<div>\n",
              "<style scoped>\n",
              "    .dataframe tbody tr th:only-of-type {\n",
              "        vertical-align: middle;\n",
              "    }\n",
              "\n",
              "    .dataframe tbody tr th {\n",
              "        vertical-align: top;\n",
              "    }\n",
              "\n",
              "    .dataframe thead th {\n",
              "        text-align: right;\n",
              "    }\n",
              "</style>\n",
              "<table border=\"1\" class=\"dataframe\">\n",
              "  <thead>\n",
              "    <tr style=\"text-align: right;\">\n",
              "      <th></th>\n",
              "      <th>text</th>\n",
              "      <th>label</th>\n",
              "    </tr>\n",
              "  </thead>\n",
              "  <tbody>\n",
              "    <tr>\n",
              "      <th>0</th>\n",
              "      <td>a woman who you fucked multiple times saying y...</td>\n",
              "      <td>1</td>\n",
              "    </tr>\n",
              "    <tr>\n",
              "      <th>1</th>\n",
              "      <td>real talk do you have eyes or were they gouge...</td>\n",
              "      <td>1</td>\n",
              "    </tr>\n",
              "    <tr>\n",
              "      <th>2</th>\n",
              "      <td>your girlfriend lookin at me like a groupie in...</td>\n",
              "      <td>1</td>\n",
              "    </tr>\n",
              "    <tr>\n",
              "      <th>3</th>\n",
              "      <td>i am not going after your ex bf you lieing sac...</td>\n",
              "      <td>1</td>\n",
              "    </tr>\n",
              "    <tr>\n",
              "      <th>4</th>\n",
              "      <td>send home migrants not in need of protection p...</td>\n",
              "      <td>1</td>\n",
              "    </tr>\n",
              "  </tbody>\n",
              "</table>\n",
              "</div>"
            ],
            "text/plain": [
              "                                                text  label\n",
              "0  a woman who you fucked multiple times saying y...      1\n",
              "1   real talk do you have eyes or were they gouge...      1\n",
              "2  your girlfriend lookin at me like a groupie in...      1\n",
              "3  i am not going after your ex bf you lieing sac...      1\n",
              "4  send home migrants not in need of protection p...      1"
            ]
          },
          "metadata": {
            "tags": []
          },
          "execution_count": 3
        }
      ]
    },
    {
      "cell_type": "markdown",
      "metadata": {
        "id": "l-jY5aKf6jfe"
      },
      "source": [
        "#The samples in the datasets are imbalance, so we make the training dataset balanced using function \"imbalance_under_sampling\""
      ]
    },
    {
      "cell_type": "code",
      "metadata": {
        "id": "37tWMzto2zE1",
        "outputId": "0f3d9ec9-f02f-428c-8554-99d0eea3f988",
        "colab": {
          "base_uri": "https://localhost:8080/",
          "height": 319
        }
      },
      "source": [
        "Proportion_chart(df_hate,hate,not_hate,df_irony,irony,not_irony,df_offensive,offensive,not_offensive)"
      ],
      "execution_count": 4,
      "outputs": [
        {
          "output_type": "display_data",
          "data": {
            "image/png": "[encoded data removed]",
            "text/plain": [
              "<Figure size 1296x360 with 3 Axes>"
            ]
          },
          "metadata": {
            "tags": []
          }
        }
      ]
    },
    {
      "cell_type": "code",
      "metadata": {
        "id": "Cbnu5FmtMR1J"
      },
      "source": [
        "hate_dict_train = imbalance_under_sampling(hate_dict_train)\n",
        "irony_dict_train = imbalance_under_sampling(irony_dict_train)\n",
        "offensive_dict_train = imbalance_under_sampling(offensive_dict_train)"
      ],
      "execution_count": 5,
      "outputs": []
    },
    {
      "cell_type": "markdown",
      "metadata": {
        "id": "m56adpKPv0R0"
      },
      "source": [
        "#Downloading Models and Tokenizations from HuggingFace"
      ]
    },
    {
      "cell_type": "code",
      "metadata": {
        "id": "j_18embbHU9R",
        "colab": {
          "base_uri": "https://localhost:8080/",
          "height": 653,
          "referenced_widgets": [
            "47aca1bc97694af684cc92cdc161add1",
            "338605b7c95e44018728231f6ec7169c",
            "d1565df1ef9f4889a9545b5c4297ba63",
            "304b0a2f4d79413f89f897ea731d2870",
            "7cbd6ac8f7b3441db01aca928306ca66",
            "5d01bbd38d494a88b38f309abde8b5ad",
            "90553e9d6ff2463ebebd1f375ee2adb5",
            "0b10fdc9d92148068f23a3d98429c692",
            "7416ca1d474e4b1f8a7c11101c0c5acf",
            "af26e1d838014e66b35abd8248a4617f",
            "bda403331edb49d284177eb9d8c76557",
            "286734abd5914d5f93da7d9ca6bb0501",
            "e910ecf1fbd34b448d33d002651dfffb",
            "43c90fc198994877a632d4f84b629264",
            "2cc745e1d3784704abc80f9e3a63df16",
            "7aadb8872f6b49249089a065b1191545",
            "49ed76bc354d44b1836da08b72e11666",
            "c72fcdb8dd9541129fe7069d9dd66679",
            "9e25aea5012047278401b7b3e4287f0b",
            "95533a84e6fc41ec88e9cee542c056c9",
            "b55771b618cd4305a9798942224196d0",
            "b082608762f742e88b3d853b28f20490",
            "a11d7e2e8f134afcba1c1caeec6cfd6e",
            "592b1b75dfda4f28bb115803fcb43381",
            "ef1ebe1139e1415eada64c47c006b7ec",
            "cd358af6023a4b9e921f4e3acbac640c",
            "daabbe95f4ec4e8e806e3396b90e9fa7",
            "e0b7c16611084f88a37c8a1581705f2c",
            "6603554883364e11834f689a8d6c3758",
            "63583720d2bc4f9e81a0ff3f631b7667",
            "8c5dbad9462d444c81ffa8641fbe5f84",
            "d6ef9eee278146a9a5af7f9e607ea422",
            "e42066fd1b954a6da3c370ba8cb009be",
            "322cc40034e54d5e95981f37b4e664c1",
            "87bea73a22e4416d9308d989e9b23177",
            "c9f67ea6681e484cb1c3921cc4b256a9",
            "22813fd513a7413da26593defa0e7041",
            "88f803b6568f4db8b3f269555e6aac99",
            "6f75bc1f7b7c43e6bf5da4a185ae3098",
            "db7c69399ee44c2184a5bba62ea2817e",
            "9d25e002a17f4822a5bb857328647235",
            "b7b890a4ec6f400b9114d076c806c1e4",
            "d9360ff60ca94502abaa53e5a2989b64",
            "c953c48ff43b428489ab6172570a6aac",
            "20b75a76013f47c2b817a297e6a0282f",
            "7bb6299b6df34873afcca11c798a6e3c",
            "59bb492b72064c41b954fedefcde6ab2",
            "c7498aa199c34e53820337ef32fd1b11",
            "70bca5e5f80d402da093b33288f69bdc",
            "36ff9f04c49e401db06fe2ec5b4a8d7c",
            "775589c05c8548358dd054bbbc54119e",
            "c2add8d5d13b44398804f53f94d1216a",
            "0585d8a792274f378eefe1438ee59ada",
            "2198478e89564931ae2a7455ecc1437a",
            "dfb2e223d52d4c75a7f61dc1a8ed17ae",
            "4dcc7b39e6fe4aa89b64b1457e978d21",
            "7d78348b4660471d8ea643bd295f3d40",
            "048fd6b79f0f4271b55fe2620479ab32",
            "248986b55c454a1ea5574f463650b859",
            "9cdf8d2e92b34f508532be88434fc0b3",
            "7c6e4df7a7f0495983f0d1182a761291",
            "0037a3983c0a46c4b9bed975372a045c",
            "75811d85dc5e4041b72940e45237c2a5",
            "f8d6a7dd725142b196051fb5151283c2",
            "4f1f48f6fb2441e6a348ce3d800db60b",
            "5abc7f16b64646589595b536f7869d73",
            "33708946de3d40b3ae39d2f2dc0b738d",
            "76bfed4334b649d08519fc5adc330d45",
            "64e53dde88e24faab4519960ea04d44e",
            "bbe5ac1f6d9a48c7a10c69773f29a73a",
            "1c9bbb09a2c445e180d39c82ec2b880d",
            "757ff4c6d3f34e5f95e33712fdf0dd7a"
          ]
        },
        "outputId": "b8457dfc-a29e-43c2-81ac-a380205d647a"
      },
      "source": [
        "from transformers import TFXLNetModel, XLNetTokenizer, TFDistilBertModel, DistilBertTokenizer\n",
        "\n",
        "xlnet_tokenizer = XLNetTokenizer.from_pretrained('xlnet-base-cased')\n",
        "xlnet_model = TFXLNetModel.from_pretrained('xlnet-base-cased')\n",
        "\n",
        "dbert_tokenizer = DistilBertTokenizer.from_pretrained('distilbert-base-uncased')\n",
        "dbert_model = TFDistilBertModel.from_pretrained('distilbert-base-uncased')\n",
        "\n",
        "for layer in xlnet_model.layers:\n",
        "    layer.trainable = True\n",
        "for layer in dbert_model.layers:\n",
        "    layer.trainable = True"
      ],
      "execution_count": 6,
      "outputs": [
        {
          "output_type": "display_data",
          "data": {
            "application/vnd.jupyter.widget-view+json": {
              "model_id": "47aca1bc97694af684cc92cdc161add1",
              "version_minor": 0,
              "version_major": 2
            },
            "text/plain": [
              "HBox(children=(FloatProgress(value=0.0, description='Downloading', max=798011.0, style=ProgressStyle(descripti…"
            ]
          },
          "metadata": {
            "tags": []
          }
        },
        {
          "output_type": "stream",
          "text": [
            "\n"
          ],
          "name": "stdout"
        },
        {
          "output_type": "display_data",
          "data": {
            "application/vnd.jupyter.widget-view+json": {
              "model_id": "7416ca1d474e4b1f8a7c11101c0c5acf",
              "version_minor": 0,
              "version_major": 2
            },
            "text/plain": [
              "HBox(children=(FloatProgress(value=0.0, description='Downloading', max=1382015.0, style=ProgressStyle(descript…"
            ]
          },
          "metadata": {
            "tags": []
          }
        },
        {
          "output_type": "stream",
          "text": [
            "\n"
          ],
          "name": "stdout"
        },
        {
          "output_type": "display_data",
          "data": {
            "application/vnd.jupyter.widget-view+json": {
              "model_id": "49ed76bc354d44b1836da08b72e11666",
              "version_minor": 0,
              "version_major": 2
            },
            "text/plain": [
              "HBox(children=(FloatProgress(value=0.0, description='Downloading', max=760.0, style=ProgressStyle(description_…"
            ]
          },
          "metadata": {
            "tags": []
          }
        },
        {
          "output_type": "stream",
          "text": [
            "\n"
          ],
          "name": "stdout"
        },
        {
          "output_type": "display_data",
          "data": {
            "application/vnd.jupyter.widget-view+json": {
              "model_id": "ef1ebe1139e1415eada64c47c006b7ec",
              "version_minor": 0,
              "version_major": 2
            },
            "text/plain": [
              "HBox(children=(FloatProgress(value=0.0, description='Downloading', max=565485600.0, style=ProgressStyle(descri…"
            ]
          },
          "metadata": {
            "tags": []
          }
        },
        {
          "output_type": "stream",
          "text": [
            "\n"
          ],
          "name": "stdout"
        },
        {
          "output_type": "stream",
          "text": [
            "Some layers from the model checkpoint at xlnet-base-cased were not used when initializing TFXLNetModel: ['lm_loss']\n",
            "- This IS expected if you are initializing TFXLNetModel from the checkpoint of a model trained on another task or with another architecture (e.g. initializing a BertForSequenceClassification model from a BertForPreTraining model).\n",
            "- This IS NOT expected if you are initializing TFXLNetModel from the checkpoint of a model that you expect to be exactly identical (initializing a BertForSequenceClassification model from a BertForSequenceClassification model).\n",
            "All the layers of TFXLNetModel were initialized from the model checkpoint at xlnet-base-cased.\n",
            "If your task is similar to the task the model of the checkpoint was trained on, you can already use TFXLNetModel for predictions without further training.\n"
          ],
          "name": "stderr"
        },
        {
          "output_type": "display_data",
          "data": {
            "application/vnd.jupyter.widget-view+json": {
              "model_id": "e42066fd1b954a6da3c370ba8cb009be",
              "version_minor": 0,
              "version_major": 2
            },
            "text/plain": [
              "HBox(children=(FloatProgress(value=0.0, description='Downloading', max=231508.0, style=ProgressStyle(descripti…"
            ]
          },
          "metadata": {
            "tags": []
          }
        },
        {
          "output_type": "stream",
          "text": [
            "\n"
          ],
          "name": "stdout"
        },
        {
          "output_type": "display_data",
          "data": {
            "application/vnd.jupyter.widget-view+json": {
              "model_id": "9d25e002a17f4822a5bb857328647235",
              "version_minor": 0,
              "version_major": 2
            },
            "text/plain": [
              "HBox(children=(FloatProgress(value=0.0, description='Downloading', max=28.0, style=ProgressStyle(description_w…"
            ]
          },
          "metadata": {
            "tags": []
          }
        },
        {
          "output_type": "stream",
          "text": [
            "\n"
          ],
          "name": "stdout"
        },
        {
          "output_type": "display_data",
          "data": {
            "application/vnd.jupyter.widget-view+json": {
              "model_id": "70bca5e5f80d402da093b33288f69bdc",
              "version_minor": 0,
              "version_major": 2
            },
            "text/plain": [
              "HBox(children=(FloatProgress(value=0.0, description='Downloading', max=466062.0, style=ProgressStyle(descripti…"
            ]
          },
          "metadata": {
            "tags": []
          }
        },
        {
          "output_type": "stream",
          "text": [
            "\n"
          ],
          "name": "stdout"
        },
        {
          "output_type": "display_data",
          "data": {
            "application/vnd.jupyter.widget-view+json": {
              "model_id": "7d78348b4660471d8ea643bd295f3d40",
              "version_minor": 0,
              "version_major": 2
            },
            "text/plain": [
              "HBox(children=(FloatProgress(value=0.0, description='Downloading', max=442.0, style=ProgressStyle(description_…"
            ]
          },
          "metadata": {
            "tags": []
          }
        },
        {
          "output_type": "stream",
          "text": [
            "\n"
          ],
          "name": "stdout"
        },
        {
          "output_type": "display_data",
          "data": {
            "application/vnd.jupyter.widget-view+json": {
              "model_id": "4f1f48f6fb2441e6a348ce3d800db60b",
              "version_minor": 0,
              "version_major": 2
            },
            "text/plain": [
              "HBox(children=(FloatProgress(value=0.0, description='Downloading', max=363423424.0, style=ProgressStyle(descri…"
            ]
          },
          "metadata": {
            "tags": []
          }
        },
        {
          "output_type": "stream",
          "text": [
            "\n"
          ],
          "name": "stdout"
        },
        {
          "output_type": "stream",
          "text": [
            "Some layers from the model checkpoint at distilbert-base-uncased were not used when initializing TFDistilBertModel: ['activation_13', 'vocab_layer_norm', 'vocab_projector', 'vocab_transform']\n",
            "- This IS expected if you are initializing TFDistilBertModel from the checkpoint of a model trained on another task or with another architecture (e.g. initializing a BertForSequenceClassification model from a BertForPreTraining model).\n",
            "- This IS NOT expected if you are initializing TFDistilBertModel from the checkpoint of a model that you expect to be exactly identical (initializing a BertForSequenceClassification model from a BertForSequenceClassification model).\n",
            "All the layers of TFDistilBertModel were initialized from the model checkpoint at distilbert-base-uncased.\n",
            "If your task is similar to the task the model of the checkpoint was trained on, you can already use TFDistilBertModel for predictions without further training.\n"
          ],
          "name": "stderr"
        }
      ]
    },
    {
      "cell_type": "markdown",
      "metadata": {
        "id": "Rni4kvqHvD3X"
      },
      "source": [
        "#Word Embeddings using XLNet tokenizier, which consist of tokens and attention masks"
      ]
    },
    {
      "cell_type": "code",
      "metadata": {
        "id": "4LUW3oWeOYaA",
        "colab": {
          "base_uri": "https://localhost:8080/"
        },
        "outputId": "712b50aa-8203-4499-f605-921d5ffe7e04"
      },
      "source": [
        "#DistilBert Tokenizer\n",
        "dl_hate_train_input = get_tokenization(hate_dict_train['text'], dbert_tokenizer)\n",
        "dl_hate_val_input = get_tokenization(hate_dict_val['text'], dbert_tokenizer)\n",
        "dl_hate_test_input = get_tokenization(hate_dict_test['text'], dbert_tokenizer)\n",
        "\n",
        "dl_irony_train_input = get_tokenization(irony_dict_train['text'], dbert_tokenizer)\n",
        "dl_irony_val_input = get_tokenization(irony_dict_val['text'], dbert_tokenizer)\n",
        "dl_irony_test_input = get_tokenization(irony_dict_test['text'], dbert_tokenizer)\n",
        "\n",
        "dl_offensive_train_input = get_tokenization(offensive_dict_train['text'], xlnet_tokenizer)\n",
        "dl_offensive_val_input = get_tokenization(offensive_dict_val['text'], xlnet_tokenizer)\n",
        "dl_offensive_test_input = get_tokenization(offensive_dict_test['text'], xlnet_tokenizer)\n",
        "\n",
        "#XLNet Tokenizer\n",
        "xl_hate_train_input = get_tokenization(hate_dict_train['text'], xlnet_tokenizer)\n",
        "xl_hate_val_input = get_tokenization(hate_dict_val['text'], xlnet_tokenizer)\n",
        "xl_hate_test_input = get_tokenization(hate_dict_test['text'], xlnet_tokenizer)\n",
        "\n",
        "xl_irony_train_input = get_tokenization(irony_dict_train['text'], xlnet_tokenizer)\n",
        "xl_irony_val_input = get_tokenization(irony_dict_val['text'], xlnet_tokenizer)\n",
        "xl_irony_test_input = get_tokenization(irony_dict_test['text'], xlnet_tokenizer)\n",
        "\n",
        "xl_offensive_train_input = get_tokenization(offensive_dict_train['text'], xlnet_tokenizer)\n",
        "xl_offensive_val_input = get_tokenization(offensive_dict_val['text'], xlnet_tokenizer)\n",
        "xl_offensive_test_input = get_tokenization(offensive_dict_test['text'], xlnet_tokenizer)"
      ],
      "execution_count": 7,
      "outputs": [
        {
          "output_type": "stream",
          "text": [
            "Truncation was not explicitly activated but `max_length` is provided a specific value, please use `truncation=True` to explicitly truncate examples to max length. Defaulting to 'longest_first' truncation strategy. If you encode pairs of sequences (GLUE-style) with the tokenizer you can select this strategy more precisely by providing a specific strategy to `truncation`.\n",
            "/usr/local/lib/python3.7/dist-packages/transformers/tokenization_utils_base.py:2079: FutureWarning: The `pad_to_max_length` argument is deprecated and will be removed in a future version, use `padding=True` or `padding='longest'` to pad to the longest sequence in the batch, or use `padding='max_length'` to pad to a max length. In this case, you can give a specific length with `max_length` (e.g. `max_length=45`) or leave max_length to None to pad to the maximal input size of the model (e.g. 512 for Bert).\n",
            "  FutureWarning,\n",
            "Truncation was not explicitly activated but `max_length` is provided a specific value, please use `truncation=True` to explicitly truncate examples to max length. Defaulting to 'longest_first' truncation strategy. If you encode pairs of sequences (GLUE-style) with the tokenizer you can select this strategy more precisely by providing a specific strategy to `truncation`.\n"
          ],
          "name": "stderr"
        }
      ]
    },
    {
      "cell_type": "markdown",
      "metadata": {
        "id": "4uhPp5NPva-C"
      },
      "source": [
        "#Apply DistilBert as the 1st model to predict classifcation.\n"
      ]
    },
    {
      "cell_type": "code",
      "metadata": {
        "colab": {
          "base_uri": "https://localhost:8080/"
        },
        "id": "WhKOF0i_HdE-",
        "outputId": "2cbc9e33-8456-4e39-ee31-5bd4c7f8463b"
      },
      "source": [
        "DistilBert_hate = create_model(dbert_model)\n",
        "DistilBert_hate.summary()"
      ],
      "execution_count": 8,
      "outputs": [
        {
          "output_type": "stream",
          "text": [
            "WARNING:tensorflow:The parameters `output_attentions`, `output_hidden_states` and `use_cache` cannot be updated when calling a model.They have to be set to True/False in the config object (i.e.: `config=XConfig.from_pretrained('name', output_attentions=True)`).\n",
            "WARNING:tensorflow:AutoGraph could not transform <bound method Socket.send of <zmq.sugar.socket.Socket object at 0x7ffb9d443d70>> and will run it as-is.\n",
            "Please report this to the TensorFlow team. When filing the bug, set the verbosity to 10 (on Linux, `export AUTOGRAPH_VERBOSITY=10`) and attach the full output.\n",
            "Cause: module, class, method, function, traceback, frame, or code object was expected, got cython_function_or_method\n",
            "To silence this warning, decorate the function with @tf.autograph.experimental.do_not_convert\n",
            "WARNING: AutoGraph could not transform <bound method Socket.send of <zmq.sugar.socket.Socket object at 0x7ffb9d443d70>> and will run it as-is.\n",
            "Please report this to the TensorFlow team. When filing the bug, set the verbosity to 10 (on Linux, `export AUTOGRAPH_VERBOSITY=10`) and attach the full output.\n",
            "Cause: module, class, method, function, traceback, frame, or code object was expected, got cython_function_or_method\n",
            "To silence this warning, decorate the function with @tf.autograph.experimental.do_not_convert\n",
            "WARNING:tensorflow:AutoGraph could not transform <function wrap at 0x7ffbc8cf0c20> and will run it as-is.\n",
            "Cause: while/else statement not yet supported\n",
            "To silence this warning, decorate the function with @tf.autograph.experimental.do_not_convert\n",
            "WARNING: AutoGraph could not transform <function wrap at 0x7ffbc8cf0c20> and will run it as-is.\n",
            "Cause: while/else statement not yet supported\n",
            "To silence this warning, decorate the function with @tf.autograph.experimental.do_not_convertWARNING:tensorflow:The parameter `return_dict` cannot be set in graph mode and will always be set to `True`.\n",
            "\n",
            "Model: \"model\"\n",
            "__________________________________________________________________________________________________\n",
            "Layer (type)                    Output Shape         Param #     Connected to                     \n",
            "==================================================================================================\n",
            "word_ids (InputLayer)           [(None, 120)]        0                                            \n",
            "__________________________________________________________________________________________________\n",
            "word_attention (InputLayer)     [(None, 120)]        0                                            \n",
            "__________________________________________________________________________________________________\n",
            "tf_distil_bert_model (TFDistilB TFBaseModelOutput(la 66362880    word_ids[0][0]                   \n",
            "                                                                 word_attention[0][0]             \n",
            "__________________________________________________________________________________________________\n",
            "tf.__operators__.getitem (Slici (None, 1, 768)       0           tf_distil_bert_model[0][0]       \n",
            "__________________________________________________________________________________________________\n",
            "tf.compat.v1.squeeze (TFOpLambd (None, 768)          0           tf.__operators__.getitem[0][0]   \n",
            "__________________________________________________________________________________________________\n",
            "encoding (Dense)                (None, 32)           24608       tf.compat.v1.squeeze[0][0]       \n",
            "__________________________________________________________________________________________________\n",
            "dropout_56 (Dropout)            (None, 32)           0           encoding[0][0]                   \n",
            "__________________________________________________________________________________________________\n",
            "outputs (Dense)                 (None, 1)            33          dropout_56[0][0]                 \n",
            "==================================================================================================\n",
            "Total params: 66,387,521\n",
            "Trainable params: 66,387,521\n",
            "Non-trainable params: 0\n",
            "__________________________________________________________________________________________________\n"
          ],
          "name": "stdout"
        }
      ]
    },
    {
      "cell_type": "markdown",
      "metadata": {
        "id": "yV7jZ6-MwFg0"
      },
      "source": [
        "#CallBacks for all attempts of training"
      ]
    },
    {
      "cell_type": "code",
      "metadata": {
        "id": "_WhwGNpZPVhV"
      },
      "source": [
        "callbacks = [\n",
        "    tf.keras.callbacks.EarlyStopping(monitor='loss', patience=4, min_delta=0.001, restore_best_weights=True),\n",
        "    tf.keras.callbacks.LearningRateScheduler(warmup, verbose=0),\n",
        "    tf.keras.callbacks.ReduceLROnPlateau(monitor='val_accuracy', factor=1e-6, patience=2, verbose=0, mode='auto', min_delta=0.001, cooldown=0, min_lr=1e-6)\n",
        "]"
      ],
      "execution_count": 9,
      "outputs": []
    },
    {
      "cell_type": "code",
      "metadata": {
        "colab": {
          "base_uri": "https://localhost:8080/"
        },
        "id": "wKcm9zTpPW6k",
        "outputId": "f18355b0-9edf-4524-ed8d-668383c42bec"
      },
      "source": [
        "hist_dl_hate = DistilBert_hate.fit(x=dl_hate_train_input, y=hate_dict_train.label, epochs=25, batch_size=16, validation_data=(dl_hate_val_input, hate_dict_val.label), callbacks=callbacks)"
      ],
      "execution_count": 10,
      "outputs": [
        {
          "output_type": "stream",
          "text": [
            "Epoch 1/25\n",
            "WARNING:tensorflow:The parameters `output_attentions`, `output_hidden_states` and `use_cache` cannot be updated when calling a model.They have to be set to True/False in the config object (i.e.: `config=XConfig.from_pretrained('name', output_attentions=True)`).\n",
            "WARNING:tensorflow:The parameter `return_dict` cannot be set in graph mode and will always be set to `True`.\n",
            "WARNING:tensorflow:The parameters `output_attentions`, `output_hidden_states` and `use_cache` cannot be updated when calling a model.They have to be set to True/False in the config object (i.e.: `config=XConfig.from_pretrained('name', output_attentions=True)`).\n",
            "WARNING:tensorflow:The parameter `return_dict` cannot be set in graph mode and will always be set to `True`.\n",
            "473/473 [==============================] - ETA: 0s - loss: 0.6212 - accuracy: 0.6404 - precision: 0.6370 - recall: 0.6656WARNING:tensorflow:The parameters `output_attentions`, `output_hidden_states` and `use_cache` cannot be updated when calling a model.They have to be set to True/False in the config object (i.e.: `config=XConfig.from_pretrained('name', output_attentions=True)`).\n",
            "WARNING:tensorflow:The parameter `return_dict` cannot be set in graph mode and will always be set to `True`.\n",
            "473/473 [==============================] - 70s 133ms/step - loss: 0.6211 - accuracy: 0.6406 - precision: 0.6371 - recall: 0.6657 - val_loss: 0.5531 - val_accuracy: 0.6990 - val_precision: 0.6137 - val_recall: 0.7963\n",
            "Epoch 2/25\n",
            "473/473 [==============================] - 61s 129ms/step - loss: 0.4086 - accuracy: 0.8229 - precision: 0.8158 - recall: 0.8381 - val_loss: 0.6138 - val_accuracy: 0.7120 - val_precision: 0.6160 - val_recall: 0.8642\n",
            "Epoch 3/25\n",
            "473/473 [==============================] - 61s 129ms/step - loss: 0.2372 - accuracy: 0.9035 - precision: 0.8919 - recall: 0.9196 - val_loss: 0.6697 - val_accuracy: 0.7280 - val_precision: 0.6585 - val_recall: 0.7541\n",
            "Epoch 4/25\n",
            "473/473 [==============================] - 61s 129ms/step - loss: 0.1249 - accuracy: 0.9537 - precision: 0.9495 - recall: 0.9584 - val_loss: 0.8014 - val_accuracy: 0.7240 - val_precision: 0.6483 - val_recall: 0.7728\n",
            "Epoch 5/25\n",
            "473/473 [==============================] - 61s 129ms/step - loss: 0.0531 - accuracy: 0.9822 - precision: 0.9822 - recall: 0.9824 - val_loss: 1.0055 - val_accuracy: 0.7400 - val_precision: 0.7275 - val_recall: 0.6253\n",
            "Epoch 6/25\n",
            "473/473 [==============================] - 61s 129ms/step - loss: 0.0546 - accuracy: 0.9807 - precision: 0.9821 - recall: 0.9790 - val_loss: 1.1082 - val_accuracy: 0.7420 - val_precision: 0.6779 - val_recall: 0.7541\n",
            "Epoch 7/25\n",
            "473/473 [==============================] - 61s 129ms/step - loss: 0.0520 - accuracy: 0.9800 - precision: 0.9800 - recall: 0.9799 - val_loss: 1.2820 - val_accuracy: 0.7350 - val_precision: 0.6731 - val_recall: 0.7377\n",
            "Epoch 8/25\n",
            "473/473 [==============================] - 61s 129ms/step - loss: 0.0334 - accuracy: 0.9881 - precision: 0.9891 - recall: 0.9869 - val_loss: 1.3298 - val_accuracy: 0.7390 - val_precision: 0.6708 - val_recall: 0.7635\n",
            "Epoch 9/25\n",
            "473/473 [==============================] - 61s 129ms/step - loss: 0.0211 - accuracy: 0.9917 - precision: 0.9936 - recall: 0.9900 - val_loss: 1.4495 - val_accuracy: 0.7320 - val_precision: 0.6626 - val_recall: 0.7588\n",
            "Epoch 10/25\n",
            "473/473 [==============================] - 61s 129ms/step - loss: 0.0185 - accuracy: 0.9939 - precision: 0.9956 - recall: 0.9921 - val_loss: 1.3921 - val_accuracy: 0.7340 - val_precision: 0.6667 - val_recall: 0.7541\n",
            "Epoch 11/25\n",
            "473/473 [==============================] - 61s 129ms/step - loss: 0.0137 - accuracy: 0.9948 - precision: 0.9957 - recall: 0.9939 - val_loss: 1.9242 - val_accuracy: 0.7050 - val_precision: 0.6187 - val_recall: 0.8056\n",
            "Epoch 12/25\n",
            "473/473 [==============================] - 61s 129ms/step - loss: 0.0108 - accuracy: 0.9961 - precision: 0.9975 - recall: 0.9946 - val_loss: 1.4300 - val_accuracy: 0.7180 - val_precision: 0.6477 - val_recall: 0.7447\n",
            "Epoch 13/25\n",
            "473/473 [==============================] - 61s 129ms/step - loss: 0.0095 - accuracy: 0.9961 - precision: 0.9973 - recall: 0.9949 - val_loss: 1.7277 - val_accuracy: 0.7270 - val_precision: 0.6624 - val_recall: 0.7354\n",
            "Epoch 14/25\n",
            "473/473 [==============================] - 61s 129ms/step - loss: 0.0169 - accuracy: 0.9953 - precision: 0.9955 - recall: 0.9954 - val_loss: 1.7002 - val_accuracy: 0.7160 - val_precision: 0.6298 - val_recall: 0.8126\n",
            "Epoch 15/25\n",
            "473/473 [==============================] - 61s 129ms/step - loss: 0.0133 - accuracy: 0.9948 - precision: 0.9950 - recall: 0.9945 - val_loss: 1.6434 - val_accuracy: 0.7280 - val_precision: 0.6667 - val_recall: 0.7260\n",
            "Epoch 16/25\n",
            "473/473 [==============================] - 61s 129ms/step - loss: 0.0196 - accuracy: 0.9929 - precision: 0.9931 - recall: 0.9926 - val_loss: 1.7226 - val_accuracy: 0.7190 - val_precision: 0.6393 - val_recall: 0.7845\n",
            "Epoch 17/25\n",
            "473/473 [==============================] - 61s 129ms/step - loss: 0.0129 - accuracy: 0.9962 - precision: 0.9974 - recall: 0.9951 - val_loss: 1.8018 - val_accuracy: 0.7320 - val_precision: 0.6587 - val_recall: 0.7728\n"
          ],
          "name": "stdout"
        }
      ]
    },
    {
      "cell_type": "code",
      "metadata": {
        "colab": {
          "base_uri": "https://localhost:8080/"
        },
        "id": "-FsN50b505Ij",
        "outputId": "58edab48-4ed7-4e84-839e-e1b8059948ea"
      },
      "source": [
        "preds_dl_hate = DistilBert_hate.predict(dl_hate_test_input, verbose=True)"
      ],
      "execution_count": 11,
      "outputs": [
        {
          "output_type": "stream",
          "text": [
            "WARNING:tensorflow:The parameters `output_attentions`, `output_hidden_states` and `use_cache` cannot be updated when calling a model.They have to be set to True/False in the config object (i.e.: `config=XConfig.from_pretrained('name', output_attentions=True)`).\n",
            "WARNING:tensorflow:The parameter `return_dict` cannot be set in graph mode and will always be set to `True`.\n",
            "93/93 [==============================] - 8s 77ms/step\n"
          ],
          "name": "stdout"
        }
      ]
    },
    {
      "cell_type": "code",
      "metadata": {
        "colab": {
          "base_uri": "https://localhost:8080/",
          "height": 485
        },
        "id": "HXaU8imwHI9u",
        "outputId": "09e3fa86-c6ef-4f21-8239-b3b2cb3d8331"
      },
      "source": [
        "hate_pred_dl_label = [i[0] for i in preds_dl_hate.round().astype(int)]\n",
        "cm = confusion_matrix(hate_dict_test.label,hate_pred_dl_label)\n",
        "f1_dl_hate = f1_score(hate_dict_test.label,hate_pred_dl_label,average='macro')\n",
        "print(\"F1_score of Hate dataset with DistilBert is: %.1f%%\" % round(f1_dl_hate*100,1))\n",
        "plot_confusion_matrix(cm, normalize=False,target_names=['Not_hate', 'Hate'],title=\"Confusion Matrix for Hate\")"
      ],
      "execution_count": 12,
      "outputs": [
        {
          "output_type": "stream",
          "text": [
            "F1_score of Hate dataset with DistilBert is: 56.2%\n"
          ],
          "name": "stdout"
        },
        {
          "output_type": "display_data",
          "data": {
            "image/png": "[encoded data removed]",
            "text/plain": [
              "<Figure size 576x432 with 2 Axes>"
            ]
          },
          "metadata": {
            "tags": [],
            "needs_background": "light"
          }
        }
      ]
    },
    {
      "cell_type": "code",
      "metadata": {
        "colab": {
          "base_uri": "https://localhost:8080/"
        },
        "id": "q7rfxgAnHb-i",
        "outputId": "8ccb26eb-a4d3-40ca-9a9f-96206bca285d"
      },
      "source": [
        "DistilBert_irony = create_model(dbert_model)\n",
        "hist_irony = DistilBert_irony.fit(x=dl_irony_train_input, y=irony_dict_train.label, epochs=25, batch_size=16, validation_data=(dl_irony_val_input, irony_dict_val.label), callbacks=callbacks)"
      ],
      "execution_count": 13,
      "outputs": [
        {
          "output_type": "stream",
          "text": [
            "WARNING:tensorflow:The parameters `output_attentions`, `output_hidden_states` and `use_cache` cannot be updated when calling a model.They have to be set to True/False in the config object (i.e.: `config=XConfig.from_pretrained('name', output_attentions=True)`).\n",
            "WARNING:tensorflow:The parameter `return_dict` cannot be set in graph mode and will always be set to `True`.\n",
            "Epoch 1/25\n",
            "WARNING:tensorflow:The parameters `output_attentions`, `output_hidden_states` and `use_cache` cannot be updated when calling a model.They have to be set to True/False in the config object (i.e.: `config=XConfig.from_pretrained('name', output_attentions=True)`).\n",
            "WARNING:tensorflow:The parameter `return_dict` cannot be set in graph mode and will always be set to `True`.\n",
            "WARNING:tensorflow:The parameters `output_attentions`, `output_hidden_states` and `use_cache` cannot be updated when calling a model.They have to be set to True/False in the config object (i.e.: `config=XConfig.from_pretrained('name', output_attentions=True)`).\n",
            "WARNING:tensorflow:The parameter `return_dict` cannot be set in graph mode and will always be set to `True`.\n",
            "177/178 [============================>.] - ETA: 0s - loss: 0.7094 - accuracy: 0.5040 - precision_1: 0.5038 - recall_1: 0.5676WARNING:tensorflow:The parameters `output_attentions`, `output_hidden_states` and `use_cache` cannot be updated when calling a model.They have to be set to True/False in the config object (i.e.: `config=XConfig.from_pretrained('name', output_attentions=True)`).\n",
            "WARNING:tensorflow:The parameter `return_dict` cannot be set in graph mode and will always be set to `True`.\n",
            "178/178 [==============================] - 33s 146ms/step - loss: 0.7092 - accuracy: 0.5043 - precision_1: 0.5042 - recall_1: 0.5677 - val_loss: 0.6479 - val_accuracy: 0.6251 - val_precision_1: 0.6038 - val_recall_1: 0.6250\n",
            "Epoch 2/25\n",
            "178/178 [==============================] - 24s 137ms/step - loss: 0.5865 - accuracy: 0.6838 - precision_1: 0.6952 - recall_1: 0.6813 - val_loss: 0.6234 - val_accuracy: 0.6471 - val_precision_1: 0.6343 - val_recall_1: 0.6162\n",
            "Epoch 3/25\n",
            "178/178 [==============================] - 24s 138ms/step - loss: 0.3949 - accuracy: 0.8136 - precision_1: 0.8374 - recall_1: 0.7739 - val_loss: 0.7431 - val_accuracy: 0.6335 - val_precision_1: 0.5858 - val_recall_1: 0.7939\n",
            "Epoch 4/25\n",
            "178/178 [==============================] - 24s 138ms/step - loss: 0.1840 - accuracy: 0.9338 - precision_1: 0.9313 - recall_1: 0.9305 - val_loss: 0.9000 - val_accuracy: 0.6471 - val_precision_1: 0.6197 - val_recall_1: 0.6754\n",
            "Epoch 5/25\n",
            "178/178 [==============================] - 25s 138ms/step - loss: 0.0690 - accuracy: 0.9851 - precision_1: 0.9863 - recall_1: 0.9848 - val_loss: 1.2874 - val_accuracy: 0.6346 - val_precision_1: 0.5924 - val_recall_1: 0.7522\n",
            "Epoch 6/25\n",
            "178/178 [==============================] - 24s 138ms/step - loss: 0.0271 - accuracy: 0.9936 - precision_1: 0.9946 - recall_1: 0.9925 - val_loss: 1.4550 - val_accuracy: 0.6230 - val_precision_1: 0.5779 - val_recall_1: 0.7807\n",
            "Epoch 7/25\n",
            "178/178 [==============================] - 25s 138ms/step - loss: 0.0254 - accuracy: 0.9919 - precision_1: 0.9918 - recall_1: 0.9920 - val_loss: 1.6323 - val_accuracy: 0.6199 - val_precision_1: 0.5746 - val_recall_1: 0.7851\n",
            "Epoch 8/25\n",
            "178/178 [==============================] - 25s 138ms/step - loss: 0.0199 - accuracy: 0.9932 - precision_1: 0.9927 - recall_1: 0.9938 - val_loss: 1.4502 - val_accuracy: 0.6597 - val_precision_1: 0.6345 - val_recall_1: 0.6776\n",
            "Epoch 9/25\n",
            "178/178 [==============================] - 25s 138ms/step - loss: 0.0177 - accuracy: 0.9933 - precision_1: 0.9977 - recall_1: 0.9894 - val_loss: 1.5505 - val_accuracy: 0.6681 - val_precision_1: 0.6334 - val_recall_1: 0.7237\n",
            "Epoch 10/25\n",
            "178/178 [==============================] - 25s 138ms/step - loss: 0.0141 - accuracy: 0.9949 - precision_1: 0.9961 - recall_1: 0.9936 - val_loss: 1.7705 - val_accuracy: 0.6586 - val_precision_1: 0.6231 - val_recall_1: 0.7215\n",
            "Epoch 11/25\n",
            "178/178 [==============================] - 24s 138ms/step - loss: 0.0182 - accuracy: 0.9937 - precision_1: 0.9948 - recall_1: 0.9928 - val_loss: 1.9533 - val_accuracy: 0.6408 - val_precision_1: 0.5943 - val_recall_1: 0.7807\n",
            "Epoch 12/25\n",
            "178/178 [==============================] - 24s 138ms/step - loss: 0.0105 - accuracy: 0.9969 - precision_1: 0.9976 - recall_1: 0.9962 - val_loss: 1.9600 - val_accuracy: 0.6450 - val_precision_1: 0.6098 - val_recall_1: 0.7127\n",
            "Epoch 13/25\n",
            "178/178 [==============================] - 25s 138ms/step - loss: 0.0118 - accuracy: 0.9967 - precision_1: 0.9977 - recall_1: 0.9958 - val_loss: 1.7635 - val_accuracy: 0.6461 - val_precision_1: 0.6204 - val_recall_1: 0.6667\n",
            "Epoch 14/25\n",
            "178/178 [==============================] - 25s 138ms/step - loss: 0.0177 - accuracy: 0.9948 - precision_1: 0.9955 - recall_1: 0.9946 - val_loss: 1.7648 - val_accuracy: 0.6586 - val_precision_1: 0.6255 - val_recall_1: 0.7105\n",
            "Epoch 15/25\n",
            "178/178 [==============================] - 25s 138ms/step - loss: 0.0252 - accuracy: 0.9908 - precision_1: 0.9921 - recall_1: 0.9903 - val_loss: 1.6840 - val_accuracy: 0.6660 - val_precision_1: 0.6568 - val_recall_1: 0.6294\n",
            "Epoch 16/25\n",
            "178/178 [==============================] - 24s 138ms/step - loss: 0.0079 - accuracy: 0.9977 - precision_1: 0.9983 - recall_1: 0.9971 - val_loss: 1.8471 - val_accuracy: 0.6565 - val_precision_1: 0.6280 - val_recall_1: 0.6886\n"
          ],
          "name": "stdout"
        }
      ]
    },
    {
      "cell_type": "code",
      "metadata": {
        "colab": {
          "base_uri": "https://localhost:8080/"
        },
        "id": "UTwy1LkDHooF",
        "outputId": "666e3a14-7e6a-407a-b1fa-da57aebb0e52"
      },
      "source": [
        "preds_dl_irony = DistilBert_irony.predict(dl_irony_test_input, verbose=True)"
      ],
      "execution_count": 14,
      "outputs": [
        {
          "output_type": "stream",
          "text": [
            "WARNING:tensorflow:The parameters `output_attentions`, `output_hidden_states` and `use_cache` cannot be updated when calling a model.They have to be set to True/False in the config object (i.e.: `config=XConfig.from_pretrained('name', output_attentions=True)`).\n",
            "WARNING:tensorflow:The parameter `return_dict` cannot be set in graph mode and will always be set to `True`.\n",
            "25/25 [==============================] - 3s 76ms/step\n"
          ],
          "name": "stdout"
        }
      ]
    },
    {
      "cell_type": "code",
      "metadata": {
        "colab": {
          "base_uri": "https://localhost:8080/",
          "height": 485
        },
        "id": "6yanVWo7Hpz1",
        "outputId": "1a021969-0022-41a1-8e49-d394103cc233"
      },
      "source": [
        "irony_pred_dl_label = [i[0] for i in preds_dl_irony.round().astype(int)]\n",
        "cm = confusion_matrix(irony_dict_test.label,irony_pred_dl_label)\n",
        "f1_dl_irony = f1_score(irony_dict_test.label,irony_pred_dl_label,average='macro')\n",
        "print(\"F1_score of irony dataset with DistilBert is: %.1f%%\" % round(f1_dl_irony*100,1))\n",
        "plot_confusion_matrix(cm, normalize=False,target_names=['Not_irony', 'Irony'],title=\"Confusion Matrix for Irony\")"
      ],
      "execution_count": 15,
      "outputs": [
        {
          "output_type": "stream",
          "text": [
            "F1_score of irony dataset with DistilBert is: 64.3%\n"
          ],
          "name": "stdout"
        },
        {
          "output_type": "display_data",
          "data": {
            "image/png": "[encoded data removed]",
            "text/plain": [
              "<Figure size 576x432 with 2 Axes>"
            ]
          },
          "metadata": {
            "tags": [],
            "needs_background": "light"
          }
        }
      ]
    },
    {
      "cell_type": "code",
      "metadata": {
        "colab": {
          "base_uri": "https://localhost:8080/"
        },
        "id": "E0IDd7q5RM58",
        "outputId": "b9f62341-0db4-4729-dc86-95d4967c4562"
      },
      "source": [
        "DistilBert_offensive = create_model(dbert_model)\n",
        "hist_dl_offensive = DistilBert_offensive.fit(x=dl_offensive_train_input, y=offensive_dict_train.label, epochs=25, batch_size=16, validation_data=(dl_offensive_val_input, offensive_dict_val.label), callbacks=callbacks)"
      ],
      "execution_count": 16,
      "outputs": [
        {
          "output_type": "stream",
          "text": [
            "WARNING:tensorflow:The parameters `output_attentions`, `output_hidden_states` and `use_cache` cannot be updated when calling a model.They have to be set to True/False in the config object (i.e.: `config=XConfig.from_pretrained('name', output_attentions=True)`).\n",
            "WARNING:tensorflow:The parameter `return_dict` cannot be set in graph mode and will always be set to `True`.\n",
            "Epoch 1/25\n",
            "WARNING:tensorflow:The parameters `output_attentions`, `output_hidden_states` and `use_cache` cannot be updated when calling a model.They have to be set to True/False in the config object (i.e.: `config=XConfig.from_pretrained('name', output_attentions=True)`).\n",
            "WARNING:tensorflow:The parameter `return_dict` cannot be set in graph mode and will always be set to `True`.\n",
            "WARNING:tensorflow:The parameters `output_attentions`, `output_hidden_states` and `use_cache` cannot be updated when calling a model.They have to be set to True/False in the config object (i.e.: `config=XConfig.from_pretrained('name', output_attentions=True)`).\n",
            "WARNING:tensorflow:The parameter `return_dict` cannot be set in graph mode and will always be set to `True`.\n",
            "493/493 [==============================] - ETA: 0s - loss: 0.6998 - accuracy: 0.5172 - precision_2: 0.5183 - recall_2: 0.5501WARNING:tensorflow:The parameters `output_attentions`, `output_hidden_states` and `use_cache` cannot be updated when calling a model.They have to be set to True/False in the config object (i.e.: `config=XConfig.from_pretrained('name', output_attentions=True)`).\n",
            "WARNING:tensorflow:The parameter `return_dict` cannot be set in graph mode and will always be set to `True`.\n",
            "493/493 [==============================] - 73s 134ms/step - loss: 0.6998 - accuracy: 0.5172 - precision_2: 0.5183 - recall_2: 0.5501 - val_loss: 0.6898 - val_accuracy: 0.5431 - val_precision_2: 0.4087 - val_recall_2: 0.7124\n",
            "Epoch 2/25\n",
            "493/493 [==============================] - 64s 130ms/step - loss: 0.6666 - accuracy: 0.5793 - precision_2: 0.5940 - recall_2: 0.5182 - val_loss: 0.6817 - val_accuracy: 0.6261 - val_precision_2: 0.4746 - val_recall_2: 0.7320\n",
            "Epoch 3/25\n",
            "493/493 [==============================] - 64s 130ms/step - loss: 0.5814 - accuracy: 0.6804 - precision_2: 0.7186 - recall_2: 0.6125 - val_loss: 0.5585 - val_accuracy: 0.7364 - val_precision_2: 0.6858 - val_recall_2: 0.4423\n",
            "Epoch 4/25\n",
            "493/493 [==============================] - 64s 131ms/step - loss: 0.4774 - accuracy: 0.7790 - precision_2: 0.7885 - recall_2: 0.7670 - val_loss: 0.7366 - val_accuracy: 0.6427 - val_precision_2: 0.4898 - val_recall_2: 0.7342\n",
            "Epoch 5/25\n",
            "493/493 [==============================] - 64s 130ms/step - loss: 0.3592 - accuracy: 0.8529 - precision_2: 0.8533 - recall_2: 0.8498 - val_loss: 0.7791 - val_accuracy: 0.6903 - val_precision_2: 0.5423 - val_recall_2: 0.6841\n",
            "Epoch 6/25\n",
            "493/493 [==============================] - 64s 130ms/step - loss: 0.2392 - accuracy: 0.9133 - precision_2: 0.9204 - recall_2: 0.9054 - val_loss: 0.8870 - val_accuracy: 0.6835 - val_precision_2: 0.5331 - val_recall_2: 0.7015\n",
            "Epoch 7/25\n",
            "493/493 [==============================] - 64s 130ms/step - loss: 0.1531 - accuracy: 0.9457 - precision_2: 0.9437 - recall_2: 0.9461 - val_loss: 1.0294 - val_accuracy: 0.6662 - val_precision_2: 0.5127 - val_recall_2: 0.7451\n",
            "Epoch 8/25\n",
            "493/493 [==============================] - 64s 131ms/step - loss: 0.1273 - accuracy: 0.9557 - precision_2: 0.9579 - recall_2: 0.9533 - val_loss: 1.2497 - val_accuracy: 0.6828 - val_precision_2: 0.5327 - val_recall_2: 0.6928\n",
            "Epoch 9/25\n",
            "493/493 [==============================] - 64s 130ms/step - loss: 0.1077 - accuracy: 0.9642 - precision_2: 0.9668 - recall_2: 0.9630 - val_loss: 1.2591 - val_accuracy: 0.6730 - val_precision_2: 0.5217 - val_recall_2: 0.6797\n",
            "Epoch 10/25\n",
            "493/493 [==============================] - 64s 130ms/step - loss: 0.0764 - accuracy: 0.9731 - precision_2: 0.9768 - recall_2: 0.9687 - val_loss: 1.2517 - val_accuracy: 0.6775 - val_precision_2: 0.5268 - val_recall_2: 0.6863\n",
            "Epoch 11/25\n",
            "493/493 [==============================] - 64s 130ms/step - loss: 0.0779 - accuracy: 0.9754 - precision_2: 0.9789 - recall_2: 0.9710 - val_loss: 1.5188 - val_accuracy: 0.6707 - val_precision_2: 0.5183 - val_recall_2: 0.7081\n",
            "Epoch 12/25\n",
            "493/493 [==============================] - 64s 130ms/step - loss: 0.0617 - accuracy: 0.9794 - precision_2: 0.9795 - recall_2: 0.9782 - val_loss: 1.3715 - val_accuracy: 0.6730 - val_precision_2: 0.5207 - val_recall_2: 0.7124\n",
            "Epoch 13/25\n",
            "493/493 [==============================] - 64s 131ms/step - loss: 0.0506 - accuracy: 0.9835 - precision_2: 0.9860 - recall_2: 0.9803 - val_loss: 1.8964 - val_accuracy: 0.6609 - val_precision_2: 0.5083 - val_recall_2: 0.6688\n",
            "Epoch 14/25\n",
            "493/493 [==============================] - 64s 130ms/step - loss: 0.0503 - accuracy: 0.9829 - precision_2: 0.9876 - recall_2: 0.9785 - val_loss: 1.5590 - val_accuracy: 0.6715 - val_precision_2: 0.5197 - val_recall_2: 0.6906\n",
            "Epoch 15/25\n",
            "493/493 [==============================] - 64s 130ms/step - loss: 0.0383 - accuracy: 0.9878 - precision_2: 0.9893 - recall_2: 0.9863 - val_loss: 1.5879 - val_accuracy: 0.7047 - val_precision_2: 0.5675 - val_recall_2: 0.6231\n",
            "Epoch 16/25\n",
            "493/493 [==============================] - 64s 130ms/step - loss: 0.0281 - accuracy: 0.9895 - precision_2: 0.9932 - recall_2: 0.9858 - val_loss: 2.0337 - val_accuracy: 0.6488 - val_precision_2: 0.4957 - val_recall_2: 0.7495\n",
            "Epoch 17/25\n",
            "493/493 [==============================] - 64s 130ms/step - loss: 0.0328 - accuracy: 0.9887 - precision_2: 0.9900 - recall_2: 0.9873 - val_loss: 1.6495 - val_accuracy: 0.6563 - val_precision_2: 0.5029 - val_recall_2: 0.7516\n",
            "Epoch 18/25\n",
            "493/493 [==============================] - 64s 130ms/step - loss: 0.0390 - accuracy: 0.9873 - precision_2: 0.9847 - recall_2: 0.9897 - val_loss: 2.0854 - val_accuracy: 0.6563 - val_precision_2: 0.5032 - val_recall_2: 0.6906\n",
            "Epoch 19/25\n",
            "493/493 [==============================] - 64s 130ms/step - loss: 0.0318 - accuracy: 0.9889 - precision_2: 0.9909 - recall_2: 0.9867 - val_loss: 1.6932 - val_accuracy: 0.6760 - val_precision_2: 0.5250 - val_recall_2: 0.6863\n",
            "Epoch 20/25\n",
            "493/493 [==============================] - 64s 130ms/step - loss: 0.0270 - accuracy: 0.9897 - precision_2: 0.9921 - recall_2: 0.9877 - val_loss: 2.5044 - val_accuracy: 0.6526 - val_precision_2: 0.4992 - val_recall_2: 0.7190\n",
            "Epoch 21/25\n",
            "493/493 [==============================] - 64s 131ms/step - loss: 0.0255 - accuracy: 0.9920 - precision_2: 0.9932 - recall_2: 0.9907 - val_loss: 2.1718 - val_accuracy: 0.6798 - val_precision_2: 0.5319 - val_recall_2: 0.6362\n",
            "Epoch 22/25\n",
            "493/493 [==============================] - 64s 131ms/step - loss: 0.0237 - accuracy: 0.9917 - precision_2: 0.9929 - recall_2: 0.9903 - val_loss: 2.5330 - val_accuracy: 0.6344 - val_precision_2: 0.4826 - val_recall_2: 0.7560\n",
            "Epoch 23/25\n",
            "493/493 [==============================] - 64s 131ms/step - loss: 0.0209 - accuracy: 0.9924 - precision_2: 0.9932 - recall_2: 0.9914 - val_loss: 2.3629 - val_accuracy: 0.6571 - val_precision_2: 0.5038 - val_recall_2: 0.7168\n",
            "Epoch 24/25\n",
            "493/493 [==============================] - 64s 131ms/step - loss: 0.0185 - accuracy: 0.9931 - precision_2: 0.9947 - recall_2: 0.9914 - val_loss: 1.7618 - val_accuracy: 0.7258 - val_precision_2: 0.6194 - val_recall_2: 0.5425\n",
            "Epoch 25/25\n",
            "493/493 [==============================] - 64s 130ms/step - loss: 0.0264 - accuracy: 0.9923 - precision_2: 0.9950 - recall_2: 0.9895 - val_loss: 2.2000 - val_accuracy: 0.6624 - val_precision_2: 0.5097 - val_recall_2: 0.6841\n"
          ],
          "name": "stdout"
        }
      ]
    },
    {
      "cell_type": "code",
      "metadata": {
        "colab": {
          "base_uri": "https://localhost:8080/"
        },
        "id": "0JZnQOGSRYay",
        "outputId": "33c57c5b-aa3f-4325-c159-bb89df54a5c3"
      },
      "source": [
        "preds_dl_offensive = DistilBert_offensive.predict(dl_offensive_test_input, verbose=True)"
      ],
      "execution_count": 17,
      "outputs": [
        {
          "output_type": "stream",
          "text": [
            "WARNING:tensorflow:The parameters `output_attentions`, `output_hidden_states` and `use_cache` cannot be updated when calling a model.They have to be set to True/False in the config object (i.e.: `config=XConfig.from_pretrained('name', output_attentions=True)`).\n",
            "WARNING:tensorflow:The parameter `return_dict` cannot be set in graph mode and will always be set to `True`.\n",
            "27/27 [==============================] - 4s 76ms/step\n"
          ],
          "name": "stdout"
        }
      ]
    },
    {
      "cell_type": "code",
      "metadata": {
        "colab": {
          "base_uri": "https://localhost:8080/",
          "height": 485
        },
        "id": "hVZI2SRnResz",
        "outputId": "ecdb9a2a-4583-449f-daf9-726401cb8091"
      },
      "source": [
        "offensive_pred_dl_label = [i[0] for i in preds_dl_offensive.round().astype(int)]\n",
        "cm = confusion_matrix(offensive_dict_test.label,offensive_pred_dl_label)\n",
        "f1_dl_offensive = f1_score(offensive_dict_test.label,offensive_pred_dl_label,average='macro')\n",
        "print(\"F1_score of offensive dataset with DistilBert is: %.1f%%\" % round(f1_dl_offensive*100,1))\n",
        "plot_confusion_matrix(cm, normalize=False, target_names=['Not_offensive', 'Offensive'],title=\"Confusion Matrix for Offensive\")"
      ],
      "execution_count": 18,
      "outputs": [
        {
          "output_type": "stream",
          "text": [
            "F1_score of offensive dataset with DistilBert is: 66.1%\n"
          ],
          "name": "stdout"
        },
        {
          "output_type": "display_data",
          "data": {
            "image/png": "[encoded data removed]",
            "text/plain": [
              "<Figure size 576x432 with 2 Axes>"
            ]
          },
          "metadata": {
            "tags": [],
            "needs_background": "light"
          }
        }
      ]
    },
    {
      "cell_type": "markdown",
      "metadata": {
        "id": "toeItPapUByt"
      },
      "source": [
        "#Apply XLNet as the 2nd model to predict classifcation."
      ]
    },
    {
      "cell_type": "code",
      "metadata": {
        "colab": {
          "base_uri": "https://localhost:8080/"
        },
        "id": "MpMxeYhzT-NW",
        "outputId": "d907b156-0e77-40bf-c1ca-295497061ef0"
      },
      "source": [
        "XLNet_hate = create_model(xlnet_model)\n",
        "XLNet_hate.summary()"
      ],
      "execution_count": 19,
      "outputs": [
        {
          "output_type": "stream",
          "text": [
            "WARNING:tensorflow:The parameters `output_attentions`, `output_hidden_states` and `use_cache` cannot be updated when calling a model.They have to be set to True/False in the config object (i.e.: `config=XConfig.from_pretrained('name', output_attentions=True)`).\n",
            "WARNING:tensorflow:The parameter `return_dict` cannot be set in graph mode and will always be set to `True`.\n",
            "Model: \"model_3\"\n",
            "__________________________________________________________________________________________________\n",
            "Layer (type)                    Output Shape         Param #     Connected to                     \n",
            "==================================================================================================\n",
            "word_ids (InputLayer)           [(None, 120)]        0                                            \n",
            "__________________________________________________________________________________________________\n",
            "word_attention (InputLayer)     [(None, 120)]        0                                            \n",
            "__________________________________________________________________________________________________\n",
            "tfxl_net_model (TFXLNetModel)   TFXLNetModelOutput(l 116718336   word_ids[0][0]                   \n",
            "                                                                 word_attention[0][0]             \n",
            "__________________________________________________________________________________________________\n",
            "tf.__operators__.getitem_3 (Sli (None, 1, 768)       0           tfxl_net_model[0][0]             \n",
            "__________________________________________________________________________________________________\n",
            "tf.compat.v1.squeeze_3 (TFOpLam (None, 768)          0           tf.__operators__.getitem_3[0][0] \n",
            "__________________________________________________________________________________________________\n",
            "encoding (Dense)                (None, 32)           24608       tf.compat.v1.squeeze_3[0][0]     \n",
            "__________________________________________________________________________________________________\n",
            "dropout_59 (Dropout)            (None, 32)           0           encoding[0][0]                   \n",
            "__________________________________________________________________________________________________\n",
            "outputs (Dense)                 (None, 1)            33          dropout_59[0][0]                 \n",
            "==================================================================================================\n",
            "Total params: 116,742,977\n",
            "Trainable params: 116,742,977\n",
            "Non-trainable params: 0\n",
            "__________________________________________________________________________________________________\n"
          ],
          "name": "stdout"
        }
      ]
    },
    {
      "cell_type": "code",
      "metadata": {
        "colab": {
          "base_uri": "https://localhost:8080/"
        },
        "id": "6bDNJJUjTgnK",
        "outputId": "94afe5da-46ce-4200-cd1c-e20d879ac19e"
      },
      "source": [
        "hist_xl_hate = XLNet_hate.fit(x=xl_hate_train_input, y=hate_dict_train.label, epochs=25, batch_size=16, validation_data=(xl_hate_val_input, hate_dict_val.label), callbacks=callbacks)"
      ],
      "execution_count": 20,
      "outputs": [
        {
          "output_type": "stream",
          "text": [
            "Epoch 1/25\n",
            "WARNING:tensorflow:The parameters `output_attentions`, `output_hidden_states` and `use_cache` cannot be updated when calling a model.They have to be set to True/False in the config object (i.e.: `config=XConfig.from_pretrained('name', output_attentions=True)`).\n",
            "WARNING:tensorflow:The parameter `return_dict` cannot be set in graph mode and will always be set to `True`.\n",
            "WARNING:tensorflow:Gradients do not exist for variables ['tfxl_net_model/transformer/mask_emb:0', 'tfxl_net_model/transformer/layer_._0/rel_attn/r_s_bias:0', 'tfxl_net_model/transformer/layer_._0/rel_attn/seg_embed:0', 'tfxl_net_model/transformer/layer_._1/rel_attn/r_s_bias:0', 'tfxl_net_model/transformer/layer_._1/rel_attn/seg_embed:0', 'tfxl_net_model/transformer/layer_._2/rel_attn/r_s_bias:0', 'tfxl_net_model/transformer/layer_._2/rel_attn/seg_embed:0', 'tfxl_net_model/transformer/layer_._3/rel_attn/r_s_bias:0', 'tfxl_net_model/transformer/layer_._3/rel_attn/seg_embed:0', 'tfxl_net_model/transformer/layer_._4/rel_attn/r_s_bias:0', 'tfxl_net_model/transformer/layer_._4/rel_attn/seg_embed:0', 'tfxl_net_model/transformer/layer_._5/rel_attn/r_s_bias:0', 'tfxl_net_model/transformer/layer_._5/rel_attn/seg_embed:0', 'tfxl_net_model/transformer/layer_._6/rel_attn/r_s_bias:0', 'tfxl_net_model/transformer/layer_._6/rel_attn/seg_embed:0', 'tfxl_net_model/transformer/layer_._7/rel_attn/r_s_bias:0', 'tfxl_net_model/transformer/layer_._7/rel_attn/seg_embed:0', 'tfxl_net_model/transformer/layer_._8/rel_attn/r_s_bias:0', 'tfxl_net_model/transformer/layer_._8/rel_attn/seg_embed:0', 'tfxl_net_model/transformer/layer_._9/rel_attn/r_s_bias:0', 'tfxl_net_model/transformer/layer_._9/rel_attn/seg_embed:0', 'tfxl_net_model/transformer/layer_._10/rel_attn/r_s_bias:0', 'tfxl_net_model/transformer/layer_._10/rel_attn/seg_embed:0', 'tfxl_net_model/transformer/layer_._11/rel_attn/r_s_bias:0', 'tfxl_net_model/transformer/layer_._11/rel_attn/seg_embed:0'] when minimizing the loss.\n",
            "WARNING:tensorflow:The parameters `output_attentions`, `output_hidden_states` and `use_cache` cannot be updated when calling a model.They have to be set to True/False in the config object (i.e.: `config=XConfig.from_pretrained('name', output_attentions=True)`).\n",
            "WARNING:tensorflow:The parameter `return_dict` cannot be set in graph mode and will always be set to `True`.\n",
            "WARNING:tensorflow:Gradients do not exist for variables ['tfxl_net_model/transformer/mask_emb:0', 'tfxl_net_model/transformer/layer_._0/rel_attn/r_s_bias:0', 'tfxl_net_model/transformer/layer_._0/rel_attn/seg_embed:0', 'tfxl_net_model/transformer/layer_._1/rel_attn/r_s_bias:0', 'tfxl_net_model/transformer/layer_._1/rel_attn/seg_embed:0', 'tfxl_net_model/transformer/layer_._2/rel_attn/r_s_bias:0', 'tfxl_net_model/transformer/layer_._2/rel_attn/seg_embed:0', 'tfxl_net_model/transformer/layer_._3/rel_attn/r_s_bias:0', 'tfxl_net_model/transformer/layer_._3/rel_attn/seg_embed:0', 'tfxl_net_model/transformer/layer_._4/rel_attn/r_s_bias:0', 'tfxl_net_model/transformer/layer_._4/rel_attn/seg_embed:0', 'tfxl_net_model/transformer/layer_._5/rel_attn/r_s_bias:0', 'tfxl_net_model/transformer/layer_._5/rel_attn/seg_embed:0', 'tfxl_net_model/transformer/layer_._6/rel_attn/r_s_bias:0', 'tfxl_net_model/transformer/layer_._6/rel_attn/seg_embed:0', 'tfxl_net_model/transformer/layer_._7/rel_attn/r_s_bias:0', 'tfxl_net_model/transformer/layer_._7/rel_attn/seg_embed:0', 'tfxl_net_model/transformer/layer_._8/rel_attn/r_s_bias:0', 'tfxl_net_model/transformer/layer_._8/rel_attn/seg_embed:0', 'tfxl_net_model/transformer/layer_._9/rel_attn/r_s_bias:0', 'tfxl_net_model/transformer/layer_._9/rel_attn/seg_embed:0', 'tfxl_net_model/transformer/layer_._10/rel_attn/r_s_bias:0', 'tfxl_net_model/transformer/layer_._10/rel_attn/seg_embed:0', 'tfxl_net_model/transformer/layer_._11/rel_attn/r_s_bias:0', 'tfxl_net_model/transformer/layer_._11/rel_attn/seg_embed:0'] when minimizing the loss.\n",
            "473/473 [==============================] - ETA: 0s - loss: 0.7196 - accuracy: 0.5774 - precision_3: 0.5776 - recall_3: 0.5966WARNING:tensorflow:The parameters `output_attentions`, `output_hidden_states` and `use_cache` cannot be updated when calling a model.They have to be set to True/False in the config object (i.e.: `config=XConfig.from_pretrained('name', output_attentions=True)`).\n",
            "WARNING:tensorflow:The parameter `return_dict` cannot be set in graph mode and will always be set to `True`.\n",
            "473/473 [==============================] - 161s 315ms/step - loss: 0.7194 - accuracy: 0.5775 - precision_3: 0.5777 - recall_3: 0.5968 - val_loss: 0.5855 - val_accuracy: 0.7030 - val_precision_3: 0.6578 - val_recall_3: 0.6347\n",
            "Epoch 2/25\n",
            "473/473 [==============================] - 146s 310ms/step - loss: 0.5100 - accuracy: 0.7555 - precision_3: 0.7465 - recall_3: 0.7631 - val_loss: 0.5669 - val_accuracy: 0.7120 - val_precision_3: 0.6299 - val_recall_3: 0.7892\n",
            "Epoch 3/25\n",
            "473/473 [==============================] - 147s 310ms/step - loss: 0.4197 - accuracy: 0.8227 - precision_3: 0.8151 - recall_3: 0.8346 - val_loss: 0.6005 - val_accuracy: 0.7250 - val_precision_3: 0.6357 - val_recall_3: 0.8337\n",
            "Epoch 4/25\n",
            "473/473 [==============================] - 146s 310ms/step - loss: 0.3210 - accuracy: 0.8685 - precision_3: 0.8543 - recall_3: 0.8870 - val_loss: 0.6563 - val_accuracy: 0.7300 - val_precision_3: 0.6561 - val_recall_3: 0.7728\n",
            "Epoch 5/25\n",
            "473/473 [==============================] - 147s 310ms/step - loss: 0.2075 - accuracy: 0.9175 - precision_3: 0.9122 - recall_3: 0.9249 - val_loss: 0.7438 - val_accuracy: 0.6980 - val_precision_3: 0.6190 - val_recall_3: 0.7611\n",
            "Epoch 6/25\n",
            "473/473 [==============================] - 146s 310ms/step - loss: 0.1446 - accuracy: 0.9492 - precision_3: 0.9458 - recall_3: 0.9540 - val_loss: 0.9859 - val_accuracy: 0.7120 - val_precision_3: 0.6350 - val_recall_3: 0.7658\n",
            "Epoch 7/25\n",
            "473/473 [==============================] - 146s 310ms/step - loss: 0.0960 - accuracy: 0.9657 - precision_3: 0.9652 - recall_3: 0.9669 - val_loss: 1.3864 - val_accuracy: 0.7040 - val_precision_3: 0.6180 - val_recall_3: 0.8033\n",
            "Epoch 8/25\n",
            "473/473 [==============================] - 146s 310ms/step - loss: 0.0610 - accuracy: 0.9792 - precision_3: 0.9775 - recall_3: 0.9813 - val_loss: 1.6822 - val_accuracy: 0.7110 - val_precision_3: 0.6348 - val_recall_3: 0.7611\n",
            "Epoch 9/25\n",
            "473/473 [==============================] - 146s 310ms/step - loss: 0.0556 - accuracy: 0.9803 - precision_3: 0.9788 - recall_3: 0.9824 - val_loss: 3.0997 - val_accuracy: 0.7000 - val_precision_3: 0.6097 - val_recall_3: 0.8267\n",
            "Epoch 10/25\n",
            "473/473 [==============================] - 146s 310ms/step - loss: 0.0490 - accuracy: 0.9835 - precision_3: 0.9830 - recall_3: 0.9841 - val_loss: 1.5508 - val_accuracy: 0.7270 - val_precision_3: 0.6652 - val_recall_3: 0.7260\n",
            "Epoch 11/25\n",
            "473/473 [==============================] - 146s 309ms/step - loss: 0.0362 - accuracy: 0.9862 - precision_3: 0.9905 - recall_3: 0.9821 - val_loss: 1.8437 - val_accuracy: 0.7270 - val_precision_3: 0.6528 - val_recall_3: 0.7705\n",
            "Epoch 12/25\n",
            "473/473 [==============================] - 147s 310ms/step - loss: 0.0282 - accuracy: 0.9908 - precision_3: 0.9926 - recall_3: 0.9890 - val_loss: 2.0946 - val_accuracy: 0.7130 - val_precision_3: 0.6549 - val_recall_3: 0.6932\n",
            "Epoch 13/25\n",
            "473/473 [==============================] - 146s 309ms/step - loss: 0.0341 - accuracy: 0.9872 - precision_3: 0.9899 - recall_3: 0.9844 - val_loss: 2.0302 - val_accuracy: 0.7140 - val_precision_3: 0.6402 - val_recall_3: 0.7541\n",
            "Epoch 14/25\n",
            "473/473 [==============================] - 146s 310ms/step - loss: 0.0267 - accuracy: 0.9915 - precision_3: 0.9919 - recall_3: 0.9911 - val_loss: 2.0191 - val_accuracy: 0.7100 - val_precision_3: 0.6389 - val_recall_3: 0.7377\n",
            "Epoch 15/25\n",
            "473/473 [==============================] - 146s 309ms/step - loss: 0.0324 - accuracy: 0.9891 - precision_3: 0.9936 - recall_3: 0.9843 - val_loss: 1.7969 - val_accuracy: 0.7210 - val_precision_3: 0.6689 - val_recall_3: 0.6862\n",
            "Epoch 16/25\n",
            "473/473 [==============================] - 146s 310ms/step - loss: 0.0284 - accuracy: 0.9899 - precision_3: 0.9916 - recall_3: 0.9882 - val_loss: 1.8232 - val_accuracy: 0.7210 - val_precision_3: 0.6457 - val_recall_3: 0.7681\n",
            "Epoch 17/25\n",
            "473/473 [==============================] - 146s 309ms/step - loss: 0.0218 - accuracy: 0.9926 - precision_3: 0.9931 - recall_3: 0.9922 - val_loss: 1.8457 - val_accuracy: 0.7140 - val_precision_3: 0.6396 - val_recall_3: 0.7564\n",
            "Epoch 18/25\n",
            "473/473 [==============================] - 146s 310ms/step - loss: 0.0251 - accuracy: 0.9916 - precision_3: 0.9941 - recall_3: 0.9893 - val_loss: 2.4368 - val_accuracy: 0.6910 - val_precision_3: 0.6000 - val_recall_3: 0.8290\n",
            "Epoch 19/25\n",
            "473/473 [==============================] - 146s 310ms/step - loss: 0.0151 - accuracy: 0.9947 - precision_3: 0.9960 - recall_3: 0.9934 - val_loss: 1.8888 - val_accuracy: 0.7120 - val_precision_3: 0.6451 - val_recall_3: 0.7237\n",
            "Epoch 20/25\n",
            "473/473 [==============================] - 146s 310ms/step - loss: 0.0172 - accuracy: 0.9938 - precision_3: 0.9954 - recall_3: 0.9923 - val_loss: 2.7841 - val_accuracy: 0.7240 - val_precision_3: 0.6603 - val_recall_3: 0.7283\n",
            "Epoch 21/25\n",
            "473/473 [==============================] - 146s 310ms/step - loss: 0.0272 - accuracy: 0.9924 - precision_3: 0.9938 - recall_3: 0.9910 - val_loss: 2.3931 - val_accuracy: 0.7070 - val_precision_3: 0.6255 - val_recall_3: 0.7822\n",
            "Epoch 22/25\n",
            "473/473 [==============================] - 146s 310ms/step - loss: 0.0266 - accuracy: 0.9924 - precision_3: 0.9950 - recall_3: 0.9896 - val_loss: 1.5805 - val_accuracy: 0.7300 - val_precision_3: 0.6764 - val_recall_3: 0.7049\n",
            "Epoch 23/25\n",
            "473/473 [==============================] - 146s 310ms/step - loss: 0.0211 - accuracy: 0.9926 - precision_3: 0.9942 - recall_3: 0.9910 - val_loss: 2.0967 - val_accuracy: 0.6990 - val_precision_3: 0.6113 - val_recall_3: 0.8103\n",
            "Epoch 24/25\n",
            "473/473 [==============================] - 146s 310ms/step - loss: 0.0215 - accuracy: 0.9926 - precision_3: 0.9971 - recall_3: 0.9876 - val_loss: 2.0273 - val_accuracy: 0.7260 - val_precision_3: 0.6474 - val_recall_3: 0.7869\n"
          ],
          "name": "stdout"
        }
      ]
    },
    {
      "cell_type": "code",
      "metadata": {
        "colab": {
          "base_uri": "https://localhost:8080/"
        },
        "id": "FvLsulRdUpuG",
        "outputId": "2fcf84cc-ade2-4b25-a277-fd0ee567c2d2"
      },
      "source": [
        "preds_xl_hate = XLNet_hate.predict(xl_hate_test_input, verbose=True)"
      ],
      "execution_count": 21,
      "outputs": [
        {
          "output_type": "stream",
          "text": [
            "WARNING:tensorflow:The parameters `output_attentions`, `output_hidden_states` and `use_cache` cannot be updated when calling a model.They have to be set to True/False in the config object (i.e.: `config=XConfig.from_pretrained('name', output_attentions=True)`).\n",
            "WARNING:tensorflow:The parameter `return_dict` cannot be set in graph mode and will always be set to `True`.\n",
            "93/93 [==============================] - 19s 184ms/step\n"
          ],
          "name": "stdout"
        }
      ]
    },
    {
      "cell_type": "code",
      "metadata": {
        "colab": {
          "base_uri": "https://localhost:8080/",
          "height": 485
        },
        "id": "ZDaUwPk_UVWt",
        "outputId": "53a2a9da-ded9-43b3-b862-82d827e290e8"
      },
      "source": [
        "hate_pred_xl_label = [i[0] for i in preds_xl_hate.round().astype(int)]\n",
        "cm = confusion_matrix(hate_dict_test.label,hate_pred_xl_label)\n",
        "f1_xl_hate = f1_score(hate_dict_test.label,hate_pred_xl_label,average='macro')\n",
        "print(\"F1_score of Hate dataset with XLnet is: %.1f%%\" % round(f1_xl_hate*100,1))\n",
        "plot_confusion_matrix(cm, normalize=False,target_names=['Not_hate', 'Hate'],title=\"Confusion Matrix for Hate\")"
      ],
      "execution_count": 22,
      "outputs": [
        {
          "output_type": "stream",
          "text": [
            "F1_score of Hate dataset with XLnet is: 56.9%\n"
          ],
          "name": "stdout"
        },
        {
          "output_type": "display_data",
          "data": {
            "image/png": "[encoded data removed]",
            "text/plain": [
              "<Figure size 576x432 with 2 Axes>"
            ]
          },
          "metadata": {
            "tags": [],
            "needs_background": "light"
          }
        }
      ]
    },
    {
      "cell_type": "code",
      "metadata": {
        "colab": {
          "base_uri": "https://localhost:8080/"
        },
        "id": "ari-sMwRU9pM",
        "outputId": "ebdbebf3-de16-430a-f1cf-993a36586187"
      },
      "source": [
        "XLNet_irony = create_model(xlnet_model)"
      ],
      "execution_count": 23,
      "outputs": [
        {
          "output_type": "stream",
          "text": [
            "WARNING:tensorflow:The parameters `output_attentions`, `output_hidden_states` and `use_cache` cannot be updated when calling a model.They have to be set to True/False in the config object (i.e.: `config=XConfig.from_pretrained('name', output_attentions=True)`).\n",
            "WARNING:tensorflow:The parameter `return_dict` cannot be set in graph mode and will always be set to `True`.\n"
          ],
          "name": "stdout"
        }
      ]
    },
    {
      "cell_type": "code",
      "metadata": {
        "colab": {
          "base_uri": "https://localhost:8080/"
        },
        "id": "NX62uykYVBOm",
        "outputId": "b3574cc5-c6e3-4c8d-e877-59f21f2e499f"
      },
      "source": [
        "hist_xl_irony = XLNet_irony.fit(x=xl_irony_train_input, y=irony_dict_train.label, epochs=25, batch_size=16, validation_data=(xl_irony_val_input, irony_dict_val.label), callbacks=callbacks)"
      ],
      "execution_count": 24,
      "outputs": [
        {
          "output_type": "stream",
          "text": [
            "Epoch 1/25\n",
            "WARNING:tensorflow:The parameters `output_attentions`, `output_hidden_states` and `use_cache` cannot be updated when calling a model.They have to be set to True/False in the config object (i.e.: `config=XConfig.from_pretrained('name', output_attentions=True)`).\n",
            "WARNING:tensorflow:The parameter `return_dict` cannot be set in graph mode and will always be set to `True`.\n",
            "WARNING:tensorflow:Gradients do not exist for variables ['tfxl_net_model/transformer/mask_emb:0', 'tfxl_net_model/transformer/layer_._0/rel_attn/r_s_bias:0', 'tfxl_net_model/transformer/layer_._0/rel_attn/seg_embed:0', 'tfxl_net_model/transformer/layer_._1/rel_attn/r_s_bias:0', 'tfxl_net_model/transformer/layer_._1/rel_attn/seg_embed:0', 'tfxl_net_model/transformer/layer_._2/rel_attn/r_s_bias:0', 'tfxl_net_model/transformer/layer_._2/rel_attn/seg_embed:0', 'tfxl_net_model/transformer/layer_._3/rel_attn/r_s_bias:0', 'tfxl_net_model/transformer/layer_._3/rel_attn/seg_embed:0', 'tfxl_net_model/transformer/layer_._4/rel_attn/r_s_bias:0', 'tfxl_net_model/transformer/layer_._4/rel_attn/seg_embed:0', 'tfxl_net_model/transformer/layer_._5/rel_attn/r_s_bias:0', 'tfxl_net_model/transformer/layer_._5/rel_attn/seg_embed:0', 'tfxl_net_model/transformer/layer_._6/rel_attn/r_s_bias:0', 'tfxl_net_model/transformer/layer_._6/rel_attn/seg_embed:0', 'tfxl_net_model/transformer/layer_._7/rel_attn/r_s_bias:0', 'tfxl_net_model/transformer/layer_._7/rel_attn/seg_embed:0', 'tfxl_net_model/transformer/layer_._8/rel_attn/r_s_bias:0', 'tfxl_net_model/transformer/layer_._8/rel_attn/seg_embed:0', 'tfxl_net_model/transformer/layer_._9/rel_attn/r_s_bias:0', 'tfxl_net_model/transformer/layer_._9/rel_attn/seg_embed:0', 'tfxl_net_model/transformer/layer_._10/rel_attn/r_s_bias:0', 'tfxl_net_model/transformer/layer_._10/rel_attn/seg_embed:0', 'tfxl_net_model/transformer/layer_._11/rel_attn/r_s_bias:0', 'tfxl_net_model/transformer/layer_._11/rel_attn/seg_embed:0'] when minimizing the loss.\n",
            "WARNING:tensorflow:The parameters `output_attentions`, `output_hidden_states` and `use_cache` cannot be updated when calling a model.They have to be set to True/False in the config object (i.e.: `config=XConfig.from_pretrained('name', output_attentions=True)`).\n",
            "WARNING:tensorflow:The parameter `return_dict` cannot be set in graph mode and will always be set to `True`.\n",
            "WARNING:tensorflow:Gradients do not exist for variables ['tfxl_net_model/transformer/mask_emb:0', 'tfxl_net_model/transformer/layer_._0/rel_attn/r_s_bias:0', 'tfxl_net_model/transformer/layer_._0/rel_attn/seg_embed:0', 'tfxl_net_model/transformer/layer_._1/rel_attn/r_s_bias:0', 'tfxl_net_model/transformer/layer_._1/rel_attn/seg_embed:0', 'tfxl_net_model/transformer/layer_._2/rel_attn/r_s_bias:0', 'tfxl_net_model/transformer/layer_._2/rel_attn/seg_embed:0', 'tfxl_net_model/transformer/layer_._3/rel_attn/r_s_bias:0', 'tfxl_net_model/transformer/layer_._3/rel_attn/seg_embed:0', 'tfxl_net_model/transformer/layer_._4/rel_attn/r_s_bias:0', 'tfxl_net_model/transformer/layer_._4/rel_attn/seg_embed:0', 'tfxl_net_model/transformer/layer_._5/rel_attn/r_s_bias:0', 'tfxl_net_model/transformer/layer_._5/rel_attn/seg_embed:0', 'tfxl_net_model/transformer/layer_._6/rel_attn/r_s_bias:0', 'tfxl_net_model/transformer/layer_._6/rel_attn/seg_embed:0', 'tfxl_net_model/transformer/layer_._7/rel_attn/r_s_bias:0', 'tfxl_net_model/transformer/layer_._7/rel_attn/seg_embed:0', 'tfxl_net_model/transformer/layer_._8/rel_attn/r_s_bias:0', 'tfxl_net_model/transformer/layer_._8/rel_attn/seg_embed:0', 'tfxl_net_model/transformer/layer_._9/rel_attn/r_s_bias:0', 'tfxl_net_model/transformer/layer_._9/rel_attn/seg_embed:0', 'tfxl_net_model/transformer/layer_._10/rel_attn/r_s_bias:0', 'tfxl_net_model/transformer/layer_._10/rel_attn/seg_embed:0', 'tfxl_net_model/transformer/layer_._11/rel_attn/r_s_bias:0', 'tfxl_net_model/transformer/layer_._11/rel_attn/seg_embed:0'] when minimizing the loss.\n",
            "178/178 [==============================] - ETA: 0s - loss: 1.0916 - accuracy: 0.5049 - precision_4: 0.4991 - recall_4: 0.4882WARNING:tensorflow:The parameters `output_attentions`, `output_hidden_states` and `use_cache` cannot be updated when calling a model.They have to be set to True/False in the config object (i.e.: `config=XConfig.from_pretrained('name', output_attentions=True)`).\n",
            "WARNING:tensorflow:The parameter `return_dict` cannot be set in graph mode and will always be set to `True`.\n",
            "178/178 [==============================] - 72s 340ms/step - loss: 1.0901 - accuracy: 0.5049 - precision_4: 0.4991 - recall_4: 0.4882 - val_loss: 0.6912 - val_accuracy: 0.5288 - val_precision_4: 0.5238 - val_recall_4: 0.1447\n",
            "Epoch 2/25\n",
            "178/178 [==============================] - 58s 328ms/step - loss: 0.6963 - accuracy: 0.5328 - precision_4: 0.5376 - recall_4: 0.4912 - val_loss: 0.6757 - val_accuracy: 0.5696 - val_precision_4: 0.5672 - val_recall_4: 0.4167\n",
            "Epoch 3/25\n",
            "178/178 [==============================] - 58s 328ms/step - loss: 0.6746 - accuracy: 0.5856 - precision_4: 0.5906 - recall_4: 0.5549 - val_loss: 0.6606 - val_accuracy: 0.6084 - val_precision_4: 0.5756 - val_recall_4: 0.6842\n",
            "Epoch 4/25\n",
            "178/178 [==============================] - 58s 328ms/step - loss: 0.5825 - accuracy: 0.6980 - precision_4: 0.7029 - recall_4: 0.6846 - val_loss: 0.6298 - val_accuracy: 0.6471 - val_precision_4: 0.6715 - val_recall_4: 0.5110\n",
            "Epoch 5/25\n",
            "178/178 [==============================] - 58s 328ms/step - loss: 0.4738 - accuracy: 0.7833 - precision_4: 0.8327 - recall_4: 0.7179 - val_loss: 0.8797 - val_accuracy: 0.6482 - val_precision_4: 0.5965 - val_recall_4: 0.8136\n",
            "Epoch 6/25\n",
            "178/178 [==============================] - 58s 328ms/step - loss: 0.3101 - accuracy: 0.8799 - precision_4: 0.8852 - recall_4: 0.8720 - val_loss: 0.9579 - val_accuracy: 0.6702 - val_precision_4: 0.6510 - val_recall_4: 0.6667\n",
            "Epoch 7/25\n",
            "178/178 [==============================] - 58s 328ms/step - loss: 0.1779 - accuracy: 0.9293 - precision_4: 0.9551 - recall_4: 0.8958 - val_loss: 1.2955 - val_accuracy: 0.6586 - val_precision_4: 0.6195 - val_recall_4: 0.7390\n",
            "Epoch 8/25\n",
            "178/178 [==============================] - 58s 328ms/step - loss: 0.1282 - accuracy: 0.9518 - precision_4: 0.9524 - recall_4: 0.9502 - val_loss: 1.1040 - val_accuracy: 0.6649 - val_precision_4: 0.6828 - val_recall_4: 0.5570\n",
            "Epoch 9/25\n",
            "178/178 [==============================] - 59s 329ms/step - loss: 0.1149 - accuracy: 0.9618 - precision_4: 0.9812 - recall_4: 0.9384 - val_loss: 1.5561 - val_accuracy: 0.6827 - val_precision_4: 0.6783 - val_recall_4: 0.6382\n",
            "Epoch 10/25\n",
            "178/178 [==============================] - 58s 328ms/step - loss: 0.0552 - accuracy: 0.9808 - precision_4: 0.9881 - recall_4: 0.9738 - val_loss: 2.2680 - val_accuracy: 0.6335 - val_precision_4: 0.5901 - val_recall_4: 0.7610\n",
            "Epoch 11/25\n",
            "178/178 [==============================] - 58s 328ms/step - loss: 0.0519 - accuracy: 0.9790 - precision_4: 0.9855 - recall_4: 0.9723 - val_loss: 2.3579 - val_accuracy: 0.6670 - val_precision_4: 0.6369 - val_recall_4: 0.7039\n",
            "Epoch 12/25\n",
            "178/178 [==============================] - 58s 328ms/step - loss: 0.0243 - accuracy: 0.9933 - precision_4: 0.9970 - recall_4: 0.9900 - val_loss: 2.5493 - val_accuracy: 0.6660 - val_precision_4: 0.6315 - val_recall_4: 0.7215\n",
            "Epoch 13/25\n",
            "178/178 [==============================] - 58s 328ms/step - loss: 0.0320 - accuracy: 0.9894 - precision_4: 0.9922 - recall_4: 0.9865 - val_loss: 1.7363 - val_accuracy: 0.6723 - val_precision_4: 0.6456 - val_recall_4: 0.6952\n",
            "Epoch 14/25\n",
            "178/178 [==============================] - 58s 328ms/step - loss: 0.0301 - accuracy: 0.9885 - precision_4: 0.9894 - recall_4: 0.9878 - val_loss: 1.5036 - val_accuracy: 0.6691 - val_precision_4: 0.6440 - val_recall_4: 0.6864\n",
            "Epoch 15/25\n",
            "178/178 [==============================] - 58s 328ms/step - loss: 0.0318 - accuracy: 0.9893 - precision_4: 0.9925 - recall_4: 0.9865 - val_loss: 2.7061 - val_accuracy: 0.6796 - val_precision_4: 0.6933 - val_recall_4: 0.5899\n",
            "Epoch 16/25\n",
            "178/178 [==============================] - 58s 328ms/step - loss: 0.0279 - accuracy: 0.9914 - precision_4: 0.9930 - recall_4: 0.9898 - val_loss: 2.0911 - val_accuracy: 0.6733 - val_precision_4: 0.6475 - val_recall_4: 0.6930\n",
            "Epoch 17/25\n",
            "178/178 [==============================] - 58s 328ms/step - loss: 0.0281 - accuracy: 0.9881 - precision_4: 0.9974 - recall_4: 0.9790 - val_loss: 2.6726 - val_accuracy: 0.6607 - val_precision_4: 0.6274 - val_recall_4: 0.7127\n",
            "Epoch 18/25\n",
            "178/178 [==============================] - 58s 328ms/step - loss: 0.0137 - accuracy: 0.9949 - precision_4: 0.9957 - recall_4: 0.9942 - val_loss: 2.5421 - val_accuracy: 0.6639 - val_precision_4: 0.6484 - val_recall_4: 0.6469\n",
            "Epoch 19/25\n",
            "178/178 [==============================] - 58s 328ms/step - loss: 0.0238 - accuracy: 0.9893 - precision_4: 0.9927 - recall_4: 0.9857 - val_loss: 1.7454 - val_accuracy: 0.6796 - val_precision_4: 0.6603 - val_recall_4: 0.6776\n",
            "Epoch 20/25\n",
            "178/178 [==============================] - 58s 328ms/step - loss: 0.0192 - accuracy: 0.9943 - precision_4: 0.9945 - recall_4: 0.9943 - val_loss: 2.3636 - val_accuracy: 0.6681 - val_precision_4: 0.6514 - val_recall_4: 0.6557\n",
            "Epoch 21/25\n",
            "178/178 [==============================] - 58s 328ms/step - loss: 0.0721 - accuracy: 0.9804 - precision_4: 0.9901 - recall_4: 0.9697 - val_loss: 2.1298 - val_accuracy: 0.6670 - val_precision_4: 0.6353 - val_recall_4: 0.7105\n",
            "Epoch 22/25\n",
            "178/178 [==============================] - 58s 328ms/step - loss: 0.0174 - accuracy: 0.9957 - precision_4: 0.9957 - recall_4: 0.9955 - val_loss: 2.2582 - val_accuracy: 0.6702 - val_precision_4: 0.6338 - val_recall_4: 0.7325\n",
            "Epoch 23/25\n",
            "178/178 [==============================] - 58s 328ms/step - loss: 0.0261 - accuracy: 0.9926 - precision_4: 0.9932 - recall_4: 0.9920 - val_loss: 2.7060 - val_accuracy: 0.6775 - val_precision_4: 0.6555 - val_recall_4: 0.6842\n",
            "Epoch 24/25\n",
            "178/178 [==============================] - 58s 328ms/step - loss: 0.0130 - accuracy: 0.9951 - precision_4: 0.9968 - recall_4: 0.9933 - val_loss: 3.0414 - val_accuracy: 0.6712 - val_precision_4: 0.6300 - val_recall_4: 0.7544\n",
            "Epoch 25/25\n",
            "178/178 [==============================] - 58s 328ms/step - loss: 0.0259 - accuracy: 0.9909 - precision_4: 0.9923 - recall_4: 0.9897 - val_loss: 2.9729 - val_accuracy: 0.6932 - val_precision_4: 0.6738 - val_recall_4: 0.6930\n"
          ],
          "name": "stdout"
        }
      ]
    },
    {
      "cell_type": "code",
      "metadata": {
        "colab": {
          "base_uri": "https://localhost:8080/"
        },
        "id": "HZ5yCM_8VFrn",
        "outputId": "3b8263f2-3a60-4884-efce-aaae6a013c7f"
      },
      "source": [
        "preds_xl_irony = XLNet_irony.predict(xl_irony_test_input, verbose=True)"
      ],
      "execution_count": 25,
      "outputs": [
        {
          "output_type": "stream",
          "text": [
            "WARNING:tensorflow:The parameters `output_attentions`, `output_hidden_states` and `use_cache` cannot be updated when calling a model.They have to be set to True/False in the config object (i.e.: `config=XConfig.from_pretrained('name', output_attentions=True)`).\n",
            "WARNING:tensorflow:The parameter `return_dict` cannot be set in graph mode and will always be set to `True`.\n",
            "25/25 [==============================] - 6s 181ms/step\n"
          ],
          "name": "stdout"
        }
      ]
    },
    {
      "cell_type": "code",
      "metadata": {
        "colab": {
          "base_uri": "https://localhost:8080/",
          "height": 485
        },
        "id": "j08QJgf3VIh_",
        "outputId": "014d9487-6168-4ef3-e1a0-9427467916bb"
      },
      "source": [
        "irony_pred_xl_label = [i[0] for i in preds_xl_irony.round().astype(int)]\n",
        "cm = confusion_matrix(irony_dict_test.label,irony_pred_xl_label)\n",
        "f1_xl_irony = f1_score(irony_dict_test.label,irony_pred_xl_label,average='macro')\n",
        "print(\"F1_score of irony dataset with DistilBert is: %.1f%%\" % round(f1_xl_irony * 100,1))\n",
        "plot_confusion_matrix(cm, normalize=False,target_names=['Not_irony', 'Irony'],title=\"Confusion Matrix for Irony\")"
      ],
      "execution_count": 26,
      "outputs": [
        {
          "output_type": "stream",
          "text": [
            "F1_score of irony dataset with DistilBert is: 66.3%\n"
          ],
          "name": "stdout"
        },
        {
          "output_type": "display_data",
          "data": {
            "image/png": "[encoded data removed]",
            "text/plain": [
              "<Figure size 576x432 with 2 Axes>"
            ]
          },
          "metadata": {
            "tags": [],
            "needs_background": "light"
          }
        }
      ]
    },
    {
      "cell_type": "code",
      "metadata": {
        "colab": {
          "base_uri": "https://localhost:8080/"
        },
        "id": "CxFjQUmYVaqt",
        "outputId": "13effa5d-319d-4ce6-f24c-0e3193e79f0f"
      },
      "source": [
        "XLNet_offensive = create_model(xlnet_model)"
      ],
      "execution_count": 27,
      "outputs": [
        {
          "output_type": "stream",
          "text": [
            "WARNING:tensorflow:The parameters `output_attentions`, `output_hidden_states` and `use_cache` cannot be updated when calling a model.They have to be set to True/False in the config object (i.e.: `config=XConfig.from_pretrained('name', output_attentions=True)`).\n",
            "WARNING:tensorflow:The parameter `return_dict` cannot be set in graph mode and will always be set to `True`.\n"
          ],
          "name": "stdout"
        }
      ]
    },
    {
      "cell_type": "code",
      "metadata": {
        "colab": {
          "base_uri": "https://localhost:8080/"
        },
        "id": "ThdUia-5VamC",
        "outputId": "4df84fe7-1713-4ae3-892a-3dcac7762773"
      },
      "source": [
        "hist_xl_offensive = XLNet_offensive.fit(x=xl_offensive_train_input, y=offensive_dict_train.label, epochs=25, batch_size=16, validation_data=(xl_offensive_val_input, offensive_dict_val.label), callbacks=callbacks)"
      ],
      "execution_count": 28,
      "outputs": [
        {
          "output_type": "stream",
          "text": [
            "Epoch 1/25\n",
            "WARNING:tensorflow:The parameters `output_attentions`, `output_hidden_states` and `use_cache` cannot be updated when calling a model.They have to be set to True/False in the config object (i.e.: `config=XConfig.from_pretrained('name', output_attentions=True)`).\n",
            "WARNING:tensorflow:The parameter `return_dict` cannot be set in graph mode and will always be set to `True`.\n",
            "WARNING:tensorflow:Gradients do not exist for variables ['tfxl_net_model/transformer/mask_emb:0', 'tfxl_net_model/transformer/layer_._0/rel_attn/r_s_bias:0', 'tfxl_net_model/transformer/layer_._0/rel_attn/seg_embed:0', 'tfxl_net_model/transformer/layer_._1/rel_attn/r_s_bias:0', 'tfxl_net_model/transformer/layer_._1/rel_attn/seg_embed:0', 'tfxl_net_model/transformer/layer_._2/rel_attn/r_s_bias:0', 'tfxl_net_model/transformer/layer_._2/rel_attn/seg_embed:0', 'tfxl_net_model/transformer/layer_._3/rel_attn/r_s_bias:0', 'tfxl_net_model/transformer/layer_._3/rel_attn/seg_embed:0', 'tfxl_net_model/transformer/layer_._4/rel_attn/r_s_bias:0', 'tfxl_net_model/transformer/layer_._4/rel_attn/seg_embed:0', 'tfxl_net_model/transformer/layer_._5/rel_attn/r_s_bias:0', 'tfxl_net_model/transformer/layer_._5/rel_attn/seg_embed:0', 'tfxl_net_model/transformer/layer_._6/rel_attn/r_s_bias:0', 'tfxl_net_model/transformer/layer_._6/rel_attn/seg_embed:0', 'tfxl_net_model/transformer/layer_._7/rel_attn/r_s_bias:0', 'tfxl_net_model/transformer/layer_._7/rel_attn/seg_embed:0', 'tfxl_net_model/transformer/layer_._8/rel_attn/r_s_bias:0', 'tfxl_net_model/transformer/layer_._8/rel_attn/seg_embed:0', 'tfxl_net_model/transformer/layer_._9/rel_attn/r_s_bias:0', 'tfxl_net_model/transformer/layer_._9/rel_attn/seg_embed:0', 'tfxl_net_model/transformer/layer_._10/rel_attn/r_s_bias:0', 'tfxl_net_model/transformer/layer_._10/rel_attn/seg_embed:0', 'tfxl_net_model/transformer/layer_._11/rel_attn/r_s_bias:0', 'tfxl_net_model/transformer/layer_._11/rel_attn/seg_embed:0'] when minimizing the loss.\n",
            "WARNING:tensorflow:The parameters `output_attentions`, `output_hidden_states` and `use_cache` cannot be updated when calling a model.They have to be set to True/False in the config object (i.e.: `config=XConfig.from_pretrained('name', output_attentions=True)`).\n",
            "WARNING:tensorflow:The parameter `return_dict` cannot be set in graph mode and will always be set to `True`.\n",
            "WARNING:tensorflow:Gradients do not exist for variables ['tfxl_net_model/transformer/mask_emb:0', 'tfxl_net_model/transformer/layer_._0/rel_attn/r_s_bias:0', 'tfxl_net_model/transformer/layer_._0/rel_attn/seg_embed:0', 'tfxl_net_model/transformer/layer_._1/rel_attn/r_s_bias:0', 'tfxl_net_model/transformer/layer_._1/rel_attn/seg_embed:0', 'tfxl_net_model/transformer/layer_._2/rel_attn/r_s_bias:0', 'tfxl_net_model/transformer/layer_._2/rel_attn/seg_embed:0', 'tfxl_net_model/transformer/layer_._3/rel_attn/r_s_bias:0', 'tfxl_net_model/transformer/layer_._3/rel_attn/seg_embed:0', 'tfxl_net_model/transformer/layer_._4/rel_attn/r_s_bias:0', 'tfxl_net_model/transformer/layer_._4/rel_attn/seg_embed:0', 'tfxl_net_model/transformer/layer_._5/rel_attn/r_s_bias:0', 'tfxl_net_model/transformer/layer_._5/rel_attn/seg_embed:0', 'tfxl_net_model/transformer/layer_._6/rel_attn/r_s_bias:0', 'tfxl_net_model/transformer/layer_._6/rel_attn/seg_embed:0', 'tfxl_net_model/transformer/layer_._7/rel_attn/r_s_bias:0', 'tfxl_net_model/transformer/layer_._7/rel_attn/seg_embed:0', 'tfxl_net_model/transformer/layer_._8/rel_attn/r_s_bias:0', 'tfxl_net_model/transformer/layer_._8/rel_attn/seg_embed:0', 'tfxl_net_model/transformer/layer_._9/rel_attn/r_s_bias:0', 'tfxl_net_model/transformer/layer_._9/rel_attn/seg_embed:0', 'tfxl_net_model/transformer/layer_._10/rel_attn/r_s_bias:0', 'tfxl_net_model/transformer/layer_._10/rel_attn/seg_embed:0', 'tfxl_net_model/transformer/layer_._11/rel_attn/r_s_bias:0', 'tfxl_net_model/transformer/layer_._11/rel_attn/seg_embed:0'] when minimizing the loss.\n",
            "493/493 [==============================] - ETA: 0s - loss: 0.6826 - accuracy: 0.6173 - precision_5: 0.6142 - recall_5: 0.6162WARNING:tensorflow:The parameters `output_attentions`, `output_hidden_states` and `use_cache` cannot be updated when calling a model.They have to be set to True/False in the config object (i.e.: `config=XConfig.from_pretrained('name', output_attentions=True)`).\n",
            "WARNING:tensorflow:The parameter `return_dict` cannot be set in graph mode and will always be set to `True`.\n",
            "493/493 [==============================] - 168s 317ms/step - loss: 0.6825 - accuracy: 0.6174 - precision_5: 0.6143 - recall_5: 0.6164 - val_loss: 0.4952 - val_accuracy: 0.7817 - val_precision_5: 0.6628 - val_recall_5: 0.7538\n",
            "Epoch 2/25\n",
            "493/493 [==============================] - 154s 313ms/step - loss: 0.4627 - accuracy: 0.7871 - precision_5: 0.7834 - recall_5: 0.7979 - val_loss: 0.4902 - val_accuracy: 0.7583 - val_precision_5: 0.6108 - val_recall_5: 0.8344\n",
            "Epoch 3/25\n",
            "493/493 [==============================] - 154s 313ms/step - loss: 0.3419 - accuracy: 0.8593 - precision_5: 0.8467 - recall_5: 0.8754 - val_loss: 0.4843 - val_accuracy: 0.7802 - val_precision_5: 0.6567 - val_recall_5: 0.7669\n",
            "Epoch 4/25\n",
            "493/493 [==============================] - 154s 313ms/step - loss: 0.2191 - accuracy: 0.9207 - precision_5: 0.9214 - recall_5: 0.9215 - val_loss: 0.7134 - val_accuracy: 0.7356 - val_precision_5: 0.5817 - val_recall_5: 0.8453\n",
            "Epoch 5/25\n",
            "493/493 [==============================] - 154s 313ms/step - loss: 0.1349 - accuracy: 0.9542 - precision_5: 0.9560 - recall_5: 0.9537 - val_loss: 1.0107 - val_accuracy: 0.7485 - val_precision_5: 0.6040 - val_recall_5: 0.7974\n",
            "Epoch 6/25\n",
            "493/493 [==============================] - 154s 313ms/step - loss: 0.0923 - accuracy: 0.9706 - precision_5: 0.9760 - recall_5: 0.9655 - val_loss: 1.0193 - val_accuracy: 0.7628 - val_precision_5: 0.6283 - val_recall_5: 0.7734\n",
            "Epoch 7/25\n",
            "493/493 [==============================] - 154s 313ms/step - loss: 0.0667 - accuracy: 0.9772 - precision_5: 0.9813 - recall_5: 0.9727 - val_loss: 1.1793 - val_accuracy: 0.7440 - val_precision_5: 0.5929 - val_recall_5: 0.8344\n",
            "Epoch 8/25\n",
            "493/493 [==============================] - 154s 313ms/step - loss: 0.0495 - accuracy: 0.9848 - precision_5: 0.9862 - recall_5: 0.9833 - val_loss: 1.0740 - val_accuracy: 0.7613 - val_precision_5: 0.6322 - val_recall_5: 0.7451\n",
            "Epoch 9/25\n",
            "493/493 [==============================] - 154s 313ms/step - loss: 0.0485 - accuracy: 0.9833 - precision_5: 0.9866 - recall_5: 0.9800 - val_loss: 1.1620 - val_accuracy: 0.7560 - val_precision_5: 0.6318 - val_recall_5: 0.7102\n",
            "Epoch 10/25\n",
            "493/493 [==============================] - 154s 313ms/step - loss: 0.0317 - accuracy: 0.9892 - precision_5: 0.9891 - recall_5: 0.9892 - val_loss: 1.8421 - val_accuracy: 0.7613 - val_precision_5: 0.6210 - val_recall_5: 0.7996\n",
            "Epoch 11/25\n",
            "493/493 [==============================] - 154s 313ms/step - loss: 0.0391 - accuracy: 0.9866 - precision_5: 0.9876 - recall_5: 0.9855 - val_loss: 2.0336 - val_accuracy: 0.7417 - val_precision_5: 0.5896 - val_recall_5: 0.8388\n",
            "Epoch 12/25\n",
            "493/493 [==============================] - 154s 313ms/step - loss: 0.0255 - accuracy: 0.9924 - precision_5: 0.9943 - recall_5: 0.9904 - val_loss: 1.3241 - val_accuracy: 0.7341 - val_precision_5: 0.5840 - val_recall_5: 0.8105\n",
            "Epoch 13/25\n",
            "493/493 [==============================] - 154s 313ms/step - loss: 0.0277 - accuracy: 0.9897 - precision_5: 0.9895 - recall_5: 0.9896 - val_loss: 1.6002 - val_accuracy: 0.7545 - val_precision_5: 0.6147 - val_recall_5: 0.7821\n",
            "Epoch 14/25\n",
            "493/493 [==============================] - 154s 313ms/step - loss: 0.0319 - accuracy: 0.9903 - precision_5: 0.9922 - recall_5: 0.9883 - val_loss: 1.5654 - val_accuracy: 0.7666 - val_precision_5: 0.6364 - val_recall_5: 0.7625\n",
            "Epoch 15/25\n",
            "493/493 [==============================] - 154s 313ms/step - loss: 0.0200 - accuracy: 0.9930 - precision_5: 0.9936 - recall_5: 0.9925 - val_loss: 1.5542 - val_accuracy: 0.7719 - val_precision_5: 0.6484 - val_recall_5: 0.7473\n",
            "Epoch 16/25\n",
            "493/493 [==============================] - 154s 313ms/step - loss: 0.0279 - accuracy: 0.9905 - precision_5: 0.9923 - recall_5: 0.9889 - val_loss: 1.5710 - val_accuracy: 0.7666 - val_precision_5: 0.6339 - val_recall_5: 0.7734\n",
            "Epoch 17/25\n",
            "493/493 [==============================] - 154s 313ms/step - loss: 0.0244 - accuracy: 0.9912 - precision_5: 0.9925 - recall_5: 0.9898 - val_loss: 1.3012 - val_accuracy: 0.7477 - val_precision_5: 0.6013 - val_recall_5: 0.8083\n",
            "Epoch 18/25\n",
            "493/493 [==============================] - 154s 313ms/step - loss: 0.0220 - accuracy: 0.9929 - precision_5: 0.9938 - recall_5: 0.9917 - val_loss: 1.3985 - val_accuracy: 0.7394 - val_precision_5: 0.5885 - val_recall_5: 0.8257\n",
            "Epoch 19/25\n",
            "493/493 [==============================] - 154s 313ms/step - loss: 0.0267 - accuracy: 0.9919 - precision_5: 0.9910 - recall_5: 0.9931 - val_loss: 1.6235 - val_accuracy: 0.7628 - val_precision_5: 0.6297 - val_recall_5: 0.7669\n"
          ],
          "name": "stdout"
        }
      ]
    },
    {
      "cell_type": "code",
      "metadata": {
        "colab": {
          "base_uri": "https://localhost:8080/"
        },
        "id": "chZqFuDKVhxC",
        "outputId": "c9664d40-a6c3-4578-c865-d03a78a1ece2"
      },
      "source": [
        "preds_xl_offensive = XLNet_offensive.predict(xl_offensive_test_input, verbose=True)"
      ],
      "execution_count": 29,
      "outputs": [
        {
          "output_type": "stream",
          "text": [
            "WARNING:tensorflow:The parameters `output_attentions`, `output_hidden_states` and `use_cache` cannot be updated when calling a model.They have to be set to True/False in the config object (i.e.: `config=XConfig.from_pretrained('name', output_attentions=True)`).\n",
            "WARNING:tensorflow:The parameter `return_dict` cannot be set in graph mode and will always be set to `True`.\n",
            "27/27 [==============================] - 7s 184ms/step\n"
          ],
          "name": "stdout"
        }
      ]
    },
    {
      "cell_type": "code",
      "metadata": {
        "colab": {
          "base_uri": "https://localhost:8080/",
          "height": 485
        },
        "id": "dA_awMECVtVk",
        "outputId": "9ff2c5f5-0ef5-487b-eaac-19505803759e"
      },
      "source": [
        "offensive_pred_xl_label = [i[0] for i in preds_xl_offensive.round().astype(int)]\n",
        "cm = confusion_matrix(offensive_dict_test.label,offensive_pred_xl_label)\n",
        "f1_xl_offensive = f1_score(offensive_dict_test.label,offensive_pred_xl_label,average='macro')\n",
        "print(\"F1_score of offensive dataset with XLNET is: %.1f%%\" % round(f1_xl_offensive * 100,1))\n",
        "plot_confusion_matrix(cm, normalize=False,target_names=['Not_offensive', 'Offensive'],title=\"Confusion Matrix for Offensive\")"
      ],
      "execution_count": 30,
      "outputs": [
        {
          "output_type": "stream",
          "text": [
            "F1_score of offensive dataset with XLNET is: 77.1%\n"
          ],
          "name": "stdout"
        },
        {
          "output_type": "display_data",
          "data": {
            "image/png": "[encoded data removed]",
            "text/plain": [
              "<Figure size 576x432 with 2 Axes>"
            ]
          },
          "metadata": {
            "tags": [],
            "needs_background": "light"
          }
        }
      ]
    },
    {
      "cell_type": "markdown",
      "metadata": {
        "id": "LUG2Bn4Eykm_"
      },
      "source": [
        "#Report for comparing the result"
      ]
    },
    {
      "cell_type": "code",
      "metadata": {
        "colab": {
          "base_uri": "https://localhost:8080/",
          "height": 297
        },
        "id": "EIOkwZ1Il15o",
        "outputId": "66a47055-7a3b-4b52-d50c-fb98ac680baa"
      },
      "source": [
        "f1_score_bar(f1_dl_hate,f1_dl_irony,f1_dl_offensive,f1_xl_hate,f1_xl_irony,f1_xl_offensive)    "
      ],
      "execution_count": 31,
      "outputs": [
        {
          "output_type": "display_data",
          "data": {
            "image/png": "[encoded data removed]",
            "text/plain": [
              "<Figure size 432x288 with 1 Axes>"
            ]
          },
          "metadata": {
            "tags": [],
            "needs_background": "light"
          }
        }
      ]
    },
    {
      "cell_type": "code",
      "metadata": {
        "colab": {
          "base_uri": "https://localhost:8080/",
          "height": 361
        },
        "id": "E8syuZOtpKVM",
        "outputId": "8f3d7e14-cbeb-4211-f1b6-5e2dabcd86bc"
      },
      "source": [
        "auc_plot_metrics(preds_dl_hate, preds_xl_hate, hate_dict_test.label,\n",
        "         preds_dl_irony, preds_xl_irony, irony_dict_test.label,\n",
        "         preds_dl_offensive, preds_xl_offensive, offensive_dict_test.label)"
      ],
      "execution_count": 32,
      "outputs": [
        {
          "output_type": "display_data",
          "data": {
            "image/png": "[encoded data removed]",
            "text/plain": [
              "<Figure size 1296x360 with 3 Axes>"
            ]
          },
          "metadata": {
            "tags": [],
            "needs_background": "light"
          }
        }
      ]
    }
  ]
}