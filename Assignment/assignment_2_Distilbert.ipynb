{
  "nbformat": 4,
  "nbformat_minor": 0,
  "metadata": {
    "colab": {
      "name": "sentiment_analysis_twitter.ipynb",
      "provenance": [],
      "collapsed_sections": [],
      "machine_shape": "hm",
      "include_colab_link": true
    },
    "kernelspec": {
      "name": "python3",
      "display_name": "Python 3"
    },
    "accelerator": "GPU"
  },
  "cells": [
    {
      "cell_type": "markdown",
      "metadata": {
        "id": "view-in-github",
        "colab_type": "text"
      },
      "source": [
        "<a href=\"https://colab.research.google.com/github/gibsonx/CE888/blob/master/Assignment/assignment_2_Distilbert.ipynb\" target=\"_parent\"><img src=\"https://colab.research.google.com/assets/colab-badge.svg\" alt=\"Open In Colab\"/></a>"
      ]
    },
    {
      "cell_type": "code",
      "metadata": {
        "id": "nk0hIUcdXpi2",
        "colab": {
          "base_uri": "https://localhost:8080/"
        },
        "outputId": "c05ebb01-b060-4c4c-9193-ed0996e636bb"
      },
      "source": [
        "!pip install -U tensorflow tensorflow_datasets tensorflow_text zhon bert-for-tf2 sentencepiece focal-loss transformers tfa-nightly imbalanced-learn\n",
        "!wget --quiet https://raw.githubusercontent.com/tensorflow/models/master/official/nlp/bert/tokenization.py\n",
        "!git clone https://github.com/cardiffnlp/tweeteval.git"
      ],
      "execution_count": 1,
      "outputs": [
        {
          "output_type": "stream",
          "text": [
            "Requirement already up-to-date: tensorflow in /usr/local/lib/python3.7/dist-packages (2.4.1)\n",
            "Requirement already up-to-date: tensorflow_datasets in /usr/local/lib/python3.7/dist-packages (4.2.0)\n",
            "Requirement already up-to-date: tensorflow_text in /usr/local/lib/python3.7/dist-packages (2.4.3)\n",
            "Requirement already up-to-date: zhon in /usr/local/lib/python3.7/dist-packages (1.1.5)\n",
            "Requirement already up-to-date: bert-for-tf2 in /usr/local/lib/python3.7/dist-packages (0.14.9)\n",
            "Requirement already up-to-date: sentencepiece in /usr/local/lib/python3.7/dist-packages (0.1.95)\n",
            "Requirement already up-to-date: focal-loss in /usr/local/lib/python3.7/dist-packages (0.0.6)\n",
            "Requirement already up-to-date: transformers in /usr/local/lib/python3.7/dist-packages (4.5.0)\n",
            "Requirement already up-to-date: tfa-nightly in /usr/local/lib/python3.7/dist-packages (0.13.0.dev20210409202352)\n",
            "Requirement already up-to-date: imbalanced-learn in /usr/local/lib/python3.7/dist-packages (0.8.0)\n",
            "Requirement already satisfied, skipping upgrade: six~=1.15.0 in /usr/local/lib/python3.7/dist-packages (from tensorflow) (1.15.0)\n",
            "Requirement already satisfied, skipping upgrade: gast==0.3.3 in /usr/local/lib/python3.7/dist-packages (from tensorflow) (0.3.3)\n",
            "Requirement already satisfied, skipping upgrade: flatbuffers~=1.12.0 in /usr/local/lib/python3.7/dist-packages (from tensorflow) (1.12)\n",
            "Requirement already satisfied, skipping upgrade: termcolor~=1.1.0 in /usr/local/lib/python3.7/dist-packages (from tensorflow) (1.1.0)\n",
            "Requirement already satisfied, skipping upgrade: h5py~=2.10.0 in /usr/local/lib/python3.7/dist-packages (from tensorflow) (2.10.0)\n",
            "Requirement already satisfied, skipping upgrade: astunparse~=1.6.3 in /usr/local/lib/python3.7/dist-packages (from tensorflow) (1.6.3)\n",
            "Requirement already satisfied, skipping upgrade: google-pasta~=0.2 in /usr/local/lib/python3.7/dist-packages (from tensorflow) (0.2.0)\n",
            "Requirement already satisfied, skipping upgrade: keras-preprocessing~=1.1.2 in /usr/local/lib/python3.7/dist-packages (from tensorflow) (1.1.2)\n",
            "Requirement already satisfied, skipping upgrade: typing-extensions~=3.7.4 in /usr/local/lib/python3.7/dist-packages (from tensorflow) (3.7.4.3)\n",
            "Requirement already satisfied, skipping upgrade: absl-py~=0.10 in /usr/local/lib/python3.7/dist-packages (from tensorflow) (0.12.0)\n",
            "Requirement already satisfied, skipping upgrade: tensorboard~=2.4 in /usr/local/lib/python3.7/dist-packages (from tensorflow) (2.4.1)\n",
            "Requirement already satisfied, skipping upgrade: tensorflow-estimator<2.5.0,>=2.4.0 in /usr/local/lib/python3.7/dist-packages (from tensorflow) (2.4.0)\n",
            "Requirement already satisfied, skipping upgrade: opt-einsum~=3.3.0 in /usr/local/lib/python3.7/dist-packages (from tensorflow) (3.3.0)\n",
            "Requirement already satisfied, skipping upgrade: wrapt~=1.12.1 in /usr/local/lib/python3.7/dist-packages (from tensorflow) (1.12.1)\n",
            "Requirement already satisfied, skipping upgrade: protobuf>=3.9.2 in /usr/local/lib/python3.7/dist-packages (from tensorflow) (3.12.4)\n",
            "Requirement already satisfied, skipping upgrade: numpy~=1.19.2 in /usr/local/lib/python3.7/dist-packages (from tensorflow) (1.19.5)\n",
            "Requirement already satisfied, skipping upgrade: grpcio~=1.32.0 in /usr/local/lib/python3.7/dist-packages (from tensorflow) (1.32.0)\n",
            "Requirement already satisfied, skipping upgrade: wheel~=0.35 in /usr/local/lib/python3.7/dist-packages (from tensorflow) (0.36.2)\n",
            "Requirement already satisfied, skipping upgrade: tensorflow-metadata in /usr/local/lib/python3.7/dist-packages (from tensorflow_datasets) (0.29.0)\n",
            "Requirement already satisfied, skipping upgrade: importlib-resources; python_version < \"3.9\" in /usr/local/lib/python3.7/dist-packages (from tensorflow_datasets) (5.1.2)\n",
            "Requirement already satisfied, skipping upgrade: tqdm in /usr/local/lib/python3.7/dist-packages (from tensorflow_datasets) (4.41.1)\n",
            "Requirement already satisfied, skipping upgrade: dill in /usr/local/lib/python3.7/dist-packages (from tensorflow_datasets) (0.3.3)\n",
            "Requirement already satisfied, skipping upgrade: future in /usr/local/lib/python3.7/dist-packages (from tensorflow_datasets) (0.16.0)\n",
            "Requirement already satisfied, skipping upgrade: attrs>=18.1.0 in /usr/local/lib/python3.7/dist-packages (from tensorflow_datasets) (20.3.0)\n",
            "Requirement already satisfied, skipping upgrade: requests>=2.19.0 in /usr/local/lib/python3.7/dist-packages (from tensorflow_datasets) (2.23.0)\n",
            "Requirement already satisfied, skipping upgrade: promise in /usr/local/lib/python3.7/dist-packages (from tensorflow_datasets) (2.3)\n",
            "Requirement already satisfied, skipping upgrade: tensorflow-hub>=0.8.0 in /usr/local/lib/python3.7/dist-packages (from tensorflow_text) (0.11.0)\n",
            "Requirement already satisfied, skipping upgrade: py-params>=0.9.6 in /usr/local/lib/python3.7/dist-packages (from bert-for-tf2) (0.10.2)\n",
            "Requirement already satisfied, skipping upgrade: params-flow>=0.8.0 in /usr/local/lib/python3.7/dist-packages (from bert-for-tf2) (0.8.2)\n",
            "Requirement already satisfied, skipping upgrade: tokenizers<0.11,>=0.10.1 in /usr/local/lib/python3.7/dist-packages (from transformers) (0.10.2)\n",
            "Requirement already satisfied, skipping upgrade: regex!=2019.12.17 in /usr/local/lib/python3.7/dist-packages (from transformers) (2019.12.20)\n",
            "Requirement already satisfied, skipping upgrade: importlib-metadata; python_version < \"3.8\" in /usr/local/lib/python3.7/dist-packages (from transformers) (3.8.1)\n",
            "Requirement already satisfied, skipping upgrade: filelock in /usr/local/lib/python3.7/dist-packages (from transformers) (3.0.12)\n",
            "Requirement already satisfied, skipping upgrade: packaging in /usr/local/lib/python3.7/dist-packages (from transformers) (20.9)\n",
            "Requirement already satisfied, skipping upgrade: sacremoses in /usr/local/lib/python3.7/dist-packages (from transformers) (0.0.44)\n",
            "Requirement already satisfied, skipping upgrade: typeguard>=2.7 in /usr/local/lib/python3.7/dist-packages (from tfa-nightly) (2.7.1)\n",
            "Requirement already satisfied, skipping upgrade: joblib>=0.11 in /usr/local/lib/python3.7/dist-packages (from imbalanced-learn) (1.0.1)\n",
            "Requirement already satisfied, skipping upgrade: scikit-learn>=0.24 in /usr/local/lib/python3.7/dist-packages (from imbalanced-learn) (0.24.1)\n",
            "Requirement already satisfied, skipping upgrade: scipy>=0.19.1 in /usr/local/lib/python3.7/dist-packages (from imbalanced-learn) (1.4.1)\n",
            "Requirement already satisfied, skipping upgrade: markdown>=2.6.8 in /usr/local/lib/python3.7/dist-packages (from tensorboard~=2.4->tensorflow) (3.3.4)\n",
            "Requirement already satisfied, skipping upgrade: werkzeug>=0.11.15 in /usr/local/lib/python3.7/dist-packages (from tensorboard~=2.4->tensorflow) (1.0.1)\n",
            "Requirement already satisfied, skipping upgrade: tensorboard-plugin-wit>=1.6.0 in /usr/local/lib/python3.7/dist-packages (from tensorboard~=2.4->tensorflow) (1.8.0)\n",
            "Requirement already satisfied, skipping upgrade: setuptools>=41.0.0 in /usr/local/lib/python3.7/dist-packages (from tensorboard~=2.4->tensorflow) (54.2.0)\n",
            "Requirement already satisfied, skipping upgrade: google-auth-oauthlib<0.5,>=0.4.1 in /usr/local/lib/python3.7/dist-packages (from tensorboard~=2.4->tensorflow) (0.4.3)\n",
            "Requirement already satisfied, skipping upgrade: google-auth<2,>=1.6.3 in /usr/local/lib/python3.7/dist-packages (from tensorboard~=2.4->tensorflow) (1.28.0)\n",
            "Requirement already satisfied, skipping upgrade: googleapis-common-protos<2,>=1.52.0 in /usr/local/lib/python3.7/dist-packages (from tensorflow-metadata->tensorflow_datasets) (1.53.0)\n",
            "Requirement already satisfied, skipping upgrade: zipp>=0.4; python_version < \"3.8\" in /usr/local/lib/python3.7/dist-packages (from importlib-resources; python_version < \"3.9\"->tensorflow_datasets) (3.4.1)\n",
            "Requirement already satisfied, skipping upgrade: chardet<4,>=3.0.2 in /usr/local/lib/python3.7/dist-packages (from requests>=2.19.0->tensorflow_datasets) (3.0.4)\n",
            "Requirement already satisfied, skipping upgrade: idna<3,>=2.5 in /usr/local/lib/python3.7/dist-packages (from requests>=2.19.0->tensorflow_datasets) (2.10)\n",
            "Requirement already satisfied, skipping upgrade: certifi>=2017.4.17 in /usr/local/lib/python3.7/dist-packages (from requests>=2.19.0->tensorflow_datasets) (2020.12.5)\n",
            "Requirement already satisfied, skipping upgrade: urllib3!=1.25.0,!=1.25.1,<1.26,>=1.21.1 in /usr/local/lib/python3.7/dist-packages (from requests>=2.19.0->tensorflow_datasets) (1.24.3)\n",
            "Requirement already satisfied, skipping upgrade: pyparsing>=2.0.2 in /usr/local/lib/python3.7/dist-packages (from packaging->transformers) (2.4.7)\n",
            "Requirement already satisfied, skipping upgrade: click in /usr/local/lib/python3.7/dist-packages (from sacremoses->transformers) (7.1.2)\n",
            "Requirement already satisfied, skipping upgrade: threadpoolctl>=2.0.0 in /usr/local/lib/python3.7/dist-packages (from scikit-learn>=0.24->imbalanced-learn) (2.1.0)\n",
            "Requirement already satisfied, skipping upgrade: requests-oauthlib>=0.7.0 in /usr/local/lib/python3.7/dist-packages (from google-auth-oauthlib<0.5,>=0.4.1->tensorboard~=2.4->tensorflow) (1.3.0)\n",
            "Requirement already satisfied, skipping upgrade: cachetools<5.0,>=2.0.0 in /usr/local/lib/python3.7/dist-packages (from google-auth<2,>=1.6.3->tensorboard~=2.4->tensorflow) (4.2.1)\n",
            "Requirement already satisfied, skipping upgrade: pyasn1-modules>=0.2.1 in /usr/local/lib/python3.7/dist-packages (from google-auth<2,>=1.6.3->tensorboard~=2.4->tensorflow) (0.2.8)\n",
            "Requirement already satisfied, skipping upgrade: rsa<5,>=3.1.4; python_version >= \"3.6\" in /usr/local/lib/python3.7/dist-packages (from google-auth<2,>=1.6.3->tensorboard~=2.4->tensorflow) (4.7.2)\n",
            "Requirement already satisfied, skipping upgrade: oauthlib>=3.0.0 in /usr/local/lib/python3.7/dist-packages (from requests-oauthlib>=0.7.0->google-auth-oauthlib<0.5,>=0.4.1->tensorboard~=2.4->tensorflow) (3.1.0)\n",
            "Requirement already satisfied, skipping upgrade: pyasn1<0.5.0,>=0.4.6 in /usr/local/lib/python3.7/dist-packages (from pyasn1-modules>=0.2.1->google-auth<2,>=1.6.3->tensorboard~=2.4->tensorflow) (0.4.8)\n",
            "fatal: destination path 'tweeteval' already exists and is not an empty directory.\n"
          ],
          "name": "stdout"
        }
      ]
    },
    {
      "cell_type": "code",
      "metadata": {
        "id": "8WFgb6kZXX8C",
        "colab": {
          "base_uri": "https://localhost:8080/"
        },
        "outputId": "df67fb58-eea8-4f35-d3de-03f1dee617dc"
      },
      "source": [
        "from google.colab import output\n",
        "from google.colab import drive\n",
        "import tensorflow_addons as tfa\n",
        "import os,pathlib,re,nltk,pickle,string\n",
        "nltk.download('punkt')\n",
        "nltk.download('stopwords')\n",
        "from nltk.tokenize import word_tokenize\n",
        "from collections import Counter\n",
        "from nltk.stem import WordNetLemmatizer\n",
        "from sklearn.metrics import f1_score\n",
        "import pandas as pd\n",
        "import numpy as np\n",
        "import matplotlib.pyplot as plt\n",
        "import tensorflow as tf\n",
        "import tensorflow_hub as hub\n",
        "import tensorflow_datasets as tfds\n",
        "import tensorflow_text as text\n",
        "from tensorflow.keras import Input, layers, losses, preprocessing, utils\n",
        "from tensorflow.keras.callbacks import ModelCheckpoint\n",
        "from tensorflow.keras.models import Model\n",
        "from tensorflow.keras.optimizers import Adam\n",
        "from keras.layers.core import Dense,Dropout\n",
        "from nltk.corpus import stopwords\n",
        "from nltk.tokenize import word_tokenize\n",
        "from sklearn.feature_extraction.text import TfidfVectorizer\n",
        "from sklearn.model_selection import train_test_split\n",
        "# ML Libraries\n",
        "from sklearn.metrics import accuracy_score,confusion_matrix\n",
        "from zhon import hanzi \n",
        "from wordcloud import WordCloud, STOPWORDS, ImageColorGenerator\n",
        "import csv\n",
        "import tokenization\n",
        "from focal_loss import BinaryFocalLoss\n",
        "from sklearn.metrics import f1_score\n",
        "from imblearn.under_sampling import RandomUnderSampler\n",
        "from transformers import TFDistilBertModel,DistilBertTokenizer\n",
        "try:\n",
        "    %tensorflow_version 2.x\n",
        "except Exception:\n",
        "    pass\n",
        "print(\"Num GPUs Available: \", len(tf.config.list_physical_devices('GPU')))"
      ],
      "execution_count": 2,
      "outputs": [
        {
          "output_type": "stream",
          "text": [
            "[nltk_data] Downloading package punkt to /root/nltk_data...\n",
            "[nltk_data]   Package punkt is already up-to-date!\n",
            "[nltk_data] Downloading package stopwords to /root/nltk_data...\n",
            "[nltk_data]   Package stopwords is already up-to-date!\n",
            "Num GPUs Available:  1\n"
          ],
          "name": "stdout"
        }
      ]
    },
    {
      "cell_type": "code",
      "metadata": {
        "id": "HEXTeQYlY9Ss"
      },
      "source": [
        "# drive.mount('/content/drive/')\n",
        "base_dir = '/content/tweeteval/datasets/'\n",
        "hate_dir = base_dir + \"hate\"\n",
        "irony_dir = base_dir + \"irony\"\n",
        "offensive_dir = base_dir + \"offensive\""
      ],
      "execution_count": 3,
      "outputs": []
    },
    {
      "cell_type": "code",
      "metadata": {
        "id": "m98i1ZKv91Sh"
      },
      "source": [
        "def imbalance_under_sampling(dfname):\n",
        "  df_label_a = dfname[dfname['label'] == 1]\n",
        "  df_label_b = dfname[dfname['label'] == 0]\n",
        "  if df_label_a.shape[0] > df_label_b.shape[0]:\n",
        "  # count_class_0, count_class_1 = dfname.label.value_counts()\n",
        "    df_label_a = df_label_a.sample(df_label_b.shape[0],random_state=1)\n",
        "    df = pd.concat([df_label_b, df_label_a], axis=0)\n",
        "    print('label 0 is more',df.label.value_counts())  \n",
        "    return df\n",
        "  else: \n",
        "    df_label_b = df_label_b.sample(df_label_a.shape[0],random_state=1)\n",
        "    df = pd.concat([df_label_b, df_label_a], axis=0)\n",
        "    print('label 1 is more',df.label.value_counts())  \n",
        "    return df"
      ],
      "execution_count": 4,
      "outputs": []
    },
    {
      "cell_type": "code",
      "metadata": {
        "id": "hcveRCcrB1Kh"
      },
      "source": [
        "def remove_emoji(string):\n",
        "    emoji_pattern = re.compile(\"[\"\n",
        "                               u\"\\U0001F600-\\U0001F64F\"  # emoticons\n",
        "                               u\"\\U0001F300-\\U0001F5FF\"  # symbols & pictographs\n",
        "                               u\"\\U0001F680-\\U0001F6FF\"  # transport & map symbols\n",
        "                               u\"\\U0001F1E0-\\U0001F1FF\"  # flags (iOS)\n",
        "                               u\"\\U00002500-\\U00002BEF\"  # chinese char\n",
        "                               u\"\\U00002702-\\U000027B0\"\n",
        "                               u\"\\U00002702-\\U000027B0\"\n",
        "                               u\"\\U000024C2-\\U0001F251\"\n",
        "                               u\"\\U0001f926-\\U0001f937\"\n",
        "                               u\"\\U00010000-\\U0010ffff\"\n",
        "                               u\"\\u2640-\\u2642\"\n",
        "                               u\"\\u2600-\\u2B55\"\n",
        "                               u\"\\u200d\"\n",
        "                               u\"\\u23cf\"\n",
        "                               u\"\\u23e9\"\n",
        "                               u\"\\u231a\"\n",
        "                               u\"\\ufe0f\"  # dingbats\n",
        "                               u\"\\u3030\"\n",
        "                               \"]+\", flags=re.UNICODE)\n",
        "    \n",
        "    return emoji_pattern.sub(r'', string)\n",
        "\n",
        "def preprocess_tweet_text(tweet):\n",
        "    tweet = tweet.lower()\n",
        "    # Remove urls\n",
        "    tweet = re.sub(r\"^#\\S+|\\s#\\S+\", '', tweet, flags=re.MULTILINE)\n",
        "    # Remove user @ references and '#' from tweet\n",
        "    tweet = re.sub(r\"^@\\S+|\\s@\\S+\",'', tweet)\n",
        "    tweet = re.sub(r\"http\\S+|www\\S+|https\\S+\", '', tweet, flags=re.MULTILINE)\n",
        "    # Remove punctuations\n",
        "    tweet = tweet.translate(str.maketrans('', '', string.punctuation))\n",
        "    tweet = tweet.translate(str.maketrans('', '', hanzi.punctuation))\n",
        "    tweet = remove_emoji(tweet)\n",
        "    # tweet_tokens = word_tokenize(tweet)\n",
        "    # # Remove stopwords\n",
        "    # filtered_words = [w for w in tweet_tokens]\n",
        "    # return \" \".join(filtered_words)\n",
        "    return tweet\n",
        "\n",
        "def readfile(text):\n",
        "  pd_list = []\n",
        "  with open(text,'r') as f:\n",
        "    for tweet in f.read().splitlines():\n",
        "      tweet = preprocess_tweet_text(tweet)\n",
        "      pd_list.append(tweet)   \n",
        "  return pd_list\n",
        " \n",
        "def readfile_label(text):\n",
        "  pd_list = []\n",
        "  with open(text,'r') as f:\n",
        "    for tweet in f.read().splitlines():\n",
        "      pd_list.append(int(tweet))  \n",
        "  return pd_list"
      ],
      "execution_count": 5,
      "outputs": []
    },
    {
      "cell_type": "code",
      "metadata": {
        "id": "1q0IWHEhEScP",
        "colab": {
          "base_uri": "https://localhost:8080/",
          "height": 556
        },
        "outputId": "05d5e363-9be7-447b-945d-b44342ca171d"
      },
      "source": [
        "#Pre-process csv and merge into a Dataframe\n",
        "#Hate DataFrame Data \n",
        "hate_dict_train = {'text': readfile(os.path.join(hate_dir,\"train_text.txt\")),'label': readfile_label(os.path.join(hate_dir,\"train_labels.txt\"))}\n",
        "hate_dict_val = {'text': readfile(os.path.join(hate_dir,\"val_text.txt\")),'label': readfile_label(os.path.join(hate_dir,\"val_labels.txt\"))}\n",
        "hate_dict_test = {'text': readfile(os.path.join(hate_dir,\"test_text.txt\")),'label': readfile_label(os.path.join(hate_dir,\"test_labels.txt\"))}\n",
        "hate_train_df = imbalance_under_sampling(pd.DataFrame(hate_dict_train))\n",
        "hate_val_df = pd.DataFrame(hate_dict_val)\n",
        "hate_test_df = pd.DataFrame(hate_dict_test)\n",
        "hate_frames = [hate_train_df, hate_val_df, hate_test_df]\n",
        "df_hate = pd.concat(hate_frames)\n",
        "not_hate = df_hate[df_hate['label'] == 0]\n",
        "hate = df_hate[df_hate['label'] == 1]\n",
        "\n",
        "#Irony DataFrame\n",
        "irony_dict_train = {'text': readfile(os.path.join(irony_dir,\"train_text.txt\")),'label': readfile_label(os.path.join(irony_dir,\"train_labels.txt\"))}\n",
        "irony_dict_val = {'text': readfile(os.path.join(irony_dir,\"val_text.txt\")),'label': readfile_label(os.path.join(irony_dir,\"val_labels.txt\"))}\n",
        "irony_dict_test = {'text': readfile(os.path.join(irony_dir,\"test_text.txt\")),'label': readfile_label(os.path.join(irony_dir,\"test_labels.txt\"))}\n",
        "irony_train_df = imbalance_under_sampling(pd.DataFrame(irony_dict_train))\n",
        "irony_val_df = pd.DataFrame(irony_dict_val)\n",
        "irony_test_df = pd.DataFrame(irony_dict_test)\n",
        "irony_frames = [irony_train_df,irony_val_df,irony_test_df]\n",
        "df_irony = pd.concat(irony_frames)\n",
        "not_irony  = df_irony[df_irony['label'] == 0]\n",
        "irony  = df_irony[df_irony['label'] == 1]\n",
        "\n",
        "#Offensive DataFrame\n",
        "offensive_dict_train = {'text': readfile(os.path.join(offensive_dir,\"train_text.txt\")),'label': readfile_label(os.path.join(offensive_dir,\"train_labels.txt\"))}\n",
        "offensive_dict_val = {'text': readfile(os.path.join(offensive_dir,\"val_text.txt\")),'label': readfile_label(os.path.join(offensive_dir,\"val_labels.txt\"))}\n",
        "offensive_dict_test = {'text': readfile(os.path.join(offensive_dir,\"test_text.txt\")),'label': readfile_label(os.path.join(offensive_dir,\"test_labels.txt\"))}\n",
        "offensive_train_df = imbalance_under_sampling(pd.DataFrame(offensive_dict_train))\n",
        "offensive_val_df = pd.DataFrame(offensive_dict_val)\n",
        "offensive_test_df = pd.DataFrame(offensive_dict_test)\n",
        "offensive_frames = [offensive_train_df,offensive_val_df,offensive_test_df]\n",
        "df_offensive = pd.concat(offensive_frames)\n",
        "not_offensive  = df_offensive[df_offensive['label'] == 0]\n",
        "offensive  = df_offensive[df_offensive['label'] == 1]\n",
        "\n",
        "offensive_test_df[offensive_test_df['label'] == 1]"
      ],
      "execution_count": 6,
      "outputs": [
        {
          "output_type": "stream",
          "text": [
            "label 1 is more 1    3783\n",
            "0    3783\n",
            "Name: label, dtype: int64\n",
            "label 0 is more 1    1417\n",
            "0    1417\n",
            "Name: label, dtype: int64\n",
            "label 1 is more 1    3941\n",
            "0    3941\n",
            "Name: label, dtype: int64\n"
          ],
          "name": "stdout"
        },
        {
          "output_type": "execute_result",
          "data": {
            "text/html": [
              "<div>\n",
              "<style scoped>\n",
              "    .dataframe tbody tr th:only-of-type {\n",
              "        vertical-align: middle;\n",
              "    }\n",
              "\n",
              "    .dataframe tbody tr th {\n",
              "        vertical-align: top;\n",
              "    }\n",
              "\n",
              "    .dataframe thead th {\n",
              "        text-align: right;\n",
              "    }\n",
              "</style>\n",
              "<table border=\"1\" class=\"dataframe\">\n",
              "  <thead>\n",
              "    <tr style=\"text-align: right;\">\n",
              "      <th></th>\n",
              "      <th>text</th>\n",
              "      <th>label</th>\n",
              "    </tr>\n",
              "  </thead>\n",
              "  <tbody>\n",
              "    <tr>\n",
              "      <th>0</th>\n",
              "      <td>is liar she is fat ugly libreal she sold her ...</td>\n",
              "      <td>1</td>\n",
              "    </tr>\n",
              "    <tr>\n",
              "      <th>8</th>\n",
              "      <td>a grown ass woman probably 10 years older tha...</td>\n",
              "      <td>1</td>\n",
              "    </tr>\n",
              "    <tr>\n",
              "      <th>10</th>\n",
              "      <td>is a disciple of anthony kennedy who ed liber...</td>\n",
              "      <td>1</td>\n",
              "    </tr>\n",
              "    <tr>\n",
              "      <th>15</th>\n",
              "      <td>and apparently im committed to going to a new ...</td>\n",
              "      <td>1</td>\n",
              "    </tr>\n",
              "    <tr>\n",
              "      <th>18</th>\n",
              "      <td>50 cent calls out joe buddens bullshit on inst...</td>\n",
              "      <td>1</td>\n",
              "    </tr>\n",
              "    <tr>\n",
              "      <th>...</th>\n",
              "      <td>...</td>\n",
              "      <td>...</td>\n",
              "    </tr>\n",
              "    <tr>\n",
              "      <th>848</th>\n",
              "      <td>do not represent all canadians   they are aut...</td>\n",
              "      <td>1</td>\n",
              "    </tr>\n",
              "    <tr>\n",
              "      <th>849</th>\n",
              "      <td>s dt cycle track can easily open antifa tenni...</td>\n",
              "      <td>1</td>\n",
              "    </tr>\n",
              "    <tr>\n",
              "      <th>850</th>\n",
              "      <td>and have a bitch thinking you niggas have mone...</td>\n",
              "      <td>1</td>\n",
              "    </tr>\n",
              "    <tr>\n",
              "      <th>852</th>\n",
              "      <td>and  least 16 other</td>\n",
              "      <td>1</td>\n",
              "    </tr>\n",
              "    <tr>\n",
              "      <th>857</th>\n",
              "      <td>dont care what you postits propaganda</td>\n",
              "      <td>1</td>\n",
              "    </tr>\n",
              "  </tbody>\n",
              "</table>\n",
              "<p>240 rows × 2 columns</p>\n",
              "</div>"
            ],
            "text/plain": [
              "                                                  text  label\n",
              "0     is liar she is fat ugly libreal she sold her ...      1\n",
              "8     a grown ass woman probably 10 years older tha...      1\n",
              "10    is a disciple of anthony kennedy who ed liber...      1\n",
              "15   and apparently im committed to going to a new ...      1\n",
              "18   50 cent calls out joe buddens bullshit on inst...      1\n",
              "..                                                 ...    ...\n",
              "848   do not represent all canadians   they are aut...      1\n",
              "849   s dt cycle track can easily open antifa tenni...      1\n",
              "850  and have a bitch thinking you niggas have mone...      1\n",
              "852                               and  least 16 other       1\n",
              "857             dont care what you postits propaganda       1\n",
              "\n",
              "[240 rows x 2 columns]"
            ]
          },
          "metadata": {
            "tags": []
          },
          "execution_count": 6
        }
      ]
    },
    {
      "cell_type": "code",
      "metadata": {
        "id": "ggIut-u18AmS"
      },
      "source": [
        "def bert_encode(tweets, tokenizer, max_len=512):\n",
        "    \"\"\" Gets tensors from text using the tokenizer provided\"\"\"\n",
        "    inps = [tokenizer.encode_plus(t, max_length=max_len, pad_to_max_length=True, add_special_tokens=True) for t in tweets]\n",
        "    inp_tok = np.array([a['input_ids'] for a in inps])\n",
        "    ids = np.array([a['attention_mask'] for a in inps])\n",
        "    # segments = np.array([a['token_type_ids'] for a in inps])\n",
        "    return inp_tok, ids"
      ],
      "execution_count": 7,
      "outputs": []
    },
    {
      "cell_type": "code",
      "metadata": {
        "id": "SkaKgVCt-Ac6"
      },
      "source": [
        "#Create Bert Model\n",
        "def build_model(bert_layer, max_len=512):\n",
        "    ids = Input(shape=(max_len,), dtype=tf.int32, name=\"ids\")\n",
        "    mask = Input(shape=(max_len,), dtype=tf.int32, name=\"mask\")\n",
        "    doc_encoding = bert_layer(input_ids=ids, attention_mask=mask)[0][:,0,:]\n",
        "    dense = tf.keras.layers.Dense(32, activation='relu', name='encoding')(doc_encoding)\n",
        "    drop = tf.keras.layers.Dropout(0.1)(dense)\n",
        "    # Final output \n",
        "    outputs = tf.keras.layers.Dense(1, activation='sigmoid', name='outputs')(drop)\n",
        "    model = Model(inputs=[ids, mask], outputs=outputs)\n",
        "    model.compile(Adam(lr=1e-5), loss=BinaryFocalLoss(gamma=2), metrics=['accuracy'])\n",
        "    return model"
      ],
      "execution_count": 8,
      "outputs": []
    },
    {
      "cell_type": "code",
      "metadata": {
        "id": "Dj3tHfoTuaun"
      },
      "source": [
        "def plot_confusion_matrix(cm,target_names,title='Confusion matrix',cmap=None,normalize=True):\n",
        "    import matplotlib.pyplot as plt\n",
        "    import numpy as np\n",
        "    import itertools\n",
        "\n",
        "    accuracy = np.trace(cm) / float(np.sum(cm))\n",
        "    misclass = 1 - accuracy\n",
        "\n",
        "    if cmap is None:\n",
        "        cmap = plt.get_cmap('Blues')\n",
        "\n",
        "    plt.figure(figsize=(8, 6))\n",
        "    plt.imshow(cm, interpolation='nearest', cmap=cmap)\n",
        "    plt.title(title)\n",
        "    plt.colorbar()\n",
        "\n",
        "    if target_names is not None:\n",
        "        tick_marks = np.arange(len(target_names))\n",
        "        plt.xticks(tick_marks, target_names, rotation=45)\n",
        "        plt.yticks(tick_marks, target_names)\n",
        "\n",
        "    if normalize:\n",
        "        cm = cm.astype('float') / cm.sum(axis=1)[:, np.newaxis]\n",
        "\n",
        "\n",
        "    thresh = cm.max() / 1.5 if normalize else cm.max() / 2\n",
        "    for i, j in itertools.product(range(cm.shape[0]), range(cm.shape[1])):\n",
        "        if normalize:\n",
        "            plt.text(j, i, \"{:0.4f}\".format(cm[i, j]),\n",
        "                     horizontalalignment=\"center\",\n",
        "                     color=\"white\" if cm[i, j] > thresh else \"black\")\n",
        "        else:\n",
        "            plt.text(j, i, \"{:,}\".format(cm[i, j]),\n",
        "                     horizontalalignment=\"center\",\n",
        "                     color=\"white\" if cm[i, j] > thresh else \"black\")\n",
        "    plt.tight_layout()\n",
        "    plt.ylabel('True label')\n",
        "    plt.xlabel('Predicted label\\naccuracy={:0.4f}; misclass={:0.4f}'.format(accuracy, misclass))\n",
        "    plt.show()"
      ],
      "execution_count": 9,
      "outputs": []
    },
    {
      "cell_type": "code",
      "metadata": {
        "id": "8tj5qItl-nHh",
        "colab": {
          "base_uri": "https://localhost:8080/"
        },
        "outputId": "51ef7f1d-5b17-4ea1-a4da-8defd05e866b"
      },
      "source": [
        "from transformers import TFDistilBertModel,DistilBertTokenizer,DistilBertConfig\n",
        "\n",
        "dbert_tokenizer = DistilBertTokenizer.from_pretrained('distilbert-base-uncased')\n",
        "\n",
        "DISTILBERT_DROPOUT = 0.2\n",
        "DISTILBERT_ATT_DROPOUT = 0.2\n",
        "\n",
        "dis_config = DistilBertConfig()\n",
        "dis_config.dropout = DISTILBERT_DROPOUT\n",
        "dis_config.configattention_dropout=DISTILBERT_ATT_DROPOUT\n",
        "\n",
        "dbert_model = TFDistilBertModel.from_pretrained('distilbert-base-uncased')\n",
        "for layer in dbert_model.layers:\n",
        "    layer.trainable = True"
      ],
      "execution_count": 10,
      "outputs": [
        {
          "output_type": "stream",
          "text": [
            "Some layers from the model checkpoint at distilbert-base-uncased were not used when initializing TFDistilBertModel: ['vocab_layer_norm', 'vocab_transform', 'activation_13', 'vocab_projector']\n",
            "- This IS expected if you are initializing TFDistilBertModel from the checkpoint of a model trained on another task or with another architecture (e.g. initializing a BertForSequenceClassification model from a BertForPreTraining model).\n",
            "- This IS NOT expected if you are initializing TFDistilBertModel from the checkpoint of a model that you expect to be exactly identical (initializing a BertForSequenceClassification model from a BertForSequenceClassification model).\n",
            "All the layers of TFDistilBertModel were initialized from the model checkpoint at distilbert-base-uncased.\n",
            "If your task is similar to the task the model of the checkpoint was trained on, you can already use TFDistilBertModel for predictions without further training.\n"
          ],
          "name": "stderr"
        }
      ]
    },
    {
      "cell_type": "code",
      "metadata": {
        "id": "YHq2Xn9I_csA",
        "colab": {
          "base_uri": "https://localhost:8080/"
        },
        "outputId": "5d85afb3-1fe5-4234-e067-6aa92a6141c9"
      },
      "source": [
        "#Encoding text for hate datasets\n",
        "ha_train_input = bert_encode(hate_train_df.text, dbert_tokenizer, max_len=160)\n",
        "ha_val_input = bert_encode(hate_val_df.text, dbert_tokenizer, max_len=160)\n",
        "ha_test_input = bert_encode(hate_test_df.text, dbert_tokenizer, max_len=160)"
      ],
      "execution_count": 11,
      "outputs": [
        {
          "output_type": "stream",
          "text": [
            "Truncation was not explicitly activated but `max_length` is provided a specific value, please use `truncation=True` to explicitly truncate examples to max length. Defaulting to 'longest_first' truncation strategy. If you encode pairs of sequences (GLUE-style) with the tokenizer you can select this strategy more precisely by providing a specific strategy to `truncation`.\n",
            "/usr/local/lib/python3.7/dist-packages/transformers/tokenization_utils_base.py:2079: FutureWarning: The `pad_to_max_length` argument is deprecated and will be removed in a future version, use `padding=True` or `padding='longest'` to pad to the longest sequence in the batch, or use `padding='max_length'` to pad to a max length. In this case, you can give a specific length with `max_length` (e.g. `max_length=45`) or leave max_length to None to pad to the maximal input size of the model (e.g. 512 for Bert).\n",
            "  FutureWarning,\n"
          ],
          "name": "stderr"
        }
      ]
    },
    {
      "cell_type": "code",
      "metadata": {
        "colab": {
          "base_uri": "https://localhost:8080/"
        },
        "id": "O-ezzTVsDYKT",
        "outputId": "ba01053c-6e58-4548-d947-43a40163279b"
      },
      "source": [
        "model = build_model(dbert_model, max_len=160)\n",
        "model.summary()"
      ],
      "execution_count": 12,
      "outputs": [
        {
          "output_type": "stream",
          "text": [
            "WARNING:tensorflow:The parameters `output_attentions`, `output_hidden_states` and `use_cache` cannot be updated when calling a model.They have to be set to True/False in the config object (i.e.: `config=XConfig.from_pretrained('name', output_attentions=True)`).\n",
            "WARNING:tensorflow:AutoGraph could not transform <bound method Socket.send of <zmq.sugar.socket.Socket object at 0x7fc6ad30cde0>> and will run it as-is.\n",
            "Please report this to the TensorFlow team. When filing the bug, set the verbosity to 10 (on Linux, `export AUTOGRAPH_VERBOSITY=10`) and attach the full output.\n",
            "Cause: module, class, method, function, traceback, frame, or code object was expected, got cython_function_or_method\n",
            "To silence this warning, decorate the function with @tf.autograph.experimental.do_not_convert\n",
            "WARNING: AutoGraph could not transform <bound method Socket.send of <zmq.sugar.socket.Socket object at 0x7fc6ad30cde0>> and will run it as-is.\n",
            "Please report this to the TensorFlow team. When filing the bug, set the verbosity to 10 (on Linux, `export AUTOGRAPH_VERBOSITY=10`) and attach the full output.\n",
            "Cause: module, class, method, function, traceback, frame, or code object was expected, got cython_function_or_method\n",
            "To silence this warning, decorate the function with @tf.autograph.experimental.do_not_convert\n",
            "WARNING:tensorflow:AutoGraph could not transform <function wrap at 0x7fc6d8bb6cb0> and will run it as-is.\n",
            "Cause: while/else statement not yet supported\n",
            "To silence this warning, decorate the function with @tf.autograph.experimental.do_not_convert\n",
            "WARNING: AutoGraph could not transform <function wrap at 0x7fc6d8bb6cb0> and will run it as-is.\n",
            "Cause: while/else statement not yet supported\n",
            "To silence this warning, decorate the function with @tf.autograph.experimental.do_not_convertWARNING:tensorflow:The parameter `return_dict` cannot be set in graph mode and will always be set to `True`.\n",
            "\n",
            "Model: \"model\"\n",
            "__________________________________________________________________________________________________\n",
            "Layer (type)                    Output Shape         Param #     Connected to                     \n",
            "==================================================================================================\n",
            "ids (InputLayer)                [(None, 160)]        0                                            \n",
            "__________________________________________________________________________________________________\n",
            "mask (InputLayer)               [(None, 160)]        0                                            \n",
            "__________________________________________________________________________________________________\n",
            "tf_distil_bert_model (TFDistilB TFBaseModelOutput(la 66362880    ids[0][0]                        \n",
            "                                                                 mask[0][0]                       \n",
            "__________________________________________________________________________________________________\n",
            "tf.__operators__.getitem (Slici (None, 768)          0           tf_distil_bert_model[0][0]       \n",
            "__________________________________________________________________________________________________\n",
            "encoding (Dense)                (None, 32)           24608       tf.__operators__.getitem[0][0]   \n",
            "__________________________________________________________________________________________________\n",
            "dropout_19 (Dropout)            (None, 32)           0           encoding[0][0]                   \n",
            "__________________________________________________________________________________________________\n",
            "outputs (Dense)                 (None, 1)            33          dropout_19[0][0]                 \n",
            "==================================================================================================\n",
            "Total params: 66,387,521\n",
            "Trainable params: 66,387,521\n",
            "Non-trainable params: 0\n",
            "__________________________________________________________________________________________________\n"
          ],
          "name": "stdout"
        }
      ]
    },
    {
      "cell_type": "code",
      "metadata": {
        "id": "9jbpftHJ3qHe"
      },
      "source": [
        "#Training Hate model\n",
        "callbacks = [\n",
        "    tf.keras.callbacks.EarlyStopping(monitor='loss', patience=10, min_delta=0.001, restore_best_weights=True),\n",
        "    tf.keras.callbacks.ReduceLROnPlateau(monitor='val_accuracy', factor=1e-6, patience=2, verbose=0, mode='auto', min_delta=0.001, cooldown=0, min_lr=1e-6)\n",
        "]"
      ],
      "execution_count": 13,
      "outputs": []
    },
    {
      "cell_type": "code",
      "metadata": {
        "colab": {
          "base_uri": "https://localhost:8080/"
        },
        "id": "Yb0Q_51FE-PF",
        "outputId": "fadb84bf-fff8-4222-fa3b-54b7cfd76a58"
      },
      "source": [
        "train_history = model.fit(\n",
        "    ha_train_input, hate_train_df.label,\n",
        "    validation_data=(ha_val_input, hate_val_df.label),\n",
        "    epochs=25,\n",
        "    callbacks=callbacks,\n",
        "    batch_size=16\n",
        ")"
      ],
      "execution_count": 14,
      "outputs": [
        {
          "output_type": "stream",
          "text": [
            "Epoch 1/25\n",
            "WARNING:tensorflow:The parameters `output_attentions`, `output_hidden_states` and `use_cache` cannot be updated when calling a model.They have to be set to True/False in the config object (i.e.: `config=XConfig.from_pretrained('name', output_attentions=True)`).\n",
            "WARNING:tensorflow:The parameter `return_dict` cannot be set in graph mode and will always be set to `True`.\n",
            "WARNING:tensorflow:The parameters `output_attentions`, `output_hidden_states` and `use_cache` cannot be updated when calling a model.They have to be set to True/False in the config object (i.e.: `config=XConfig.from_pretrained('name', output_attentions=True)`).\n",
            "WARNING:tensorflow:The parameter `return_dict` cannot be set in graph mode and will always be set to `True`.\n",
            "473/473 [==============================] - ETA: 0s - loss: 0.1601 - accuracy: 0.6395WARNING:tensorflow:The parameters `output_attentions`, `output_hidden_states` and `use_cache` cannot be updated when calling a model.They have to be set to True/False in the config object (i.e.: `config=XConfig.from_pretrained('name', output_attentions=True)`).\n",
            "WARNING:tensorflow:The parameter `return_dict` cannot be set in graph mode and will always be set to `True`.\n",
            "473/473 [==============================] - 94s 182ms/step - loss: 0.1600 - accuracy: 0.6396 - val_loss: 0.1458 - val_accuracy: 0.7100\n",
            "Epoch 2/25\n",
            "473/473 [==============================] - 84s 179ms/step - loss: 0.1202 - accuracy: 0.7846 - val_loss: 0.1489 - val_accuracy: 0.6960\n",
            "Epoch 3/25\n",
            "473/473 [==============================] - 84s 179ms/step - loss: 0.0969 - accuracy: 0.8415 - val_loss: 0.1842 - val_accuracy: 0.6770\n",
            "Epoch 4/25\n",
            "473/473 [==============================] - 84s 179ms/step - loss: 0.0642 - accuracy: 0.8983 - val_loss: 0.1766 - val_accuracy: 0.7260\n",
            "Epoch 5/25\n",
            "473/473 [==============================] - 84s 179ms/step - loss: 0.0528 - accuracy: 0.9210 - val_loss: 0.1754 - val_accuracy: 0.7300\n",
            "Epoch 6/25\n",
            "473/473 [==============================] - 84s 179ms/step - loss: 0.0465 - accuracy: 0.9302 - val_loss: 0.1947 - val_accuracy: 0.7270\n",
            "Epoch 7/25\n",
            "473/473 [==============================] - 85s 179ms/step - loss: 0.0458 - accuracy: 0.9339 - val_loss: 0.1992 - val_accuracy: 0.7290\n",
            "Epoch 8/25\n",
            "473/473 [==============================] - 84s 178ms/step - loss: 0.0408 - accuracy: 0.9385 - val_loss: 0.2165 - val_accuracy: 0.7270\n",
            "Epoch 9/25\n",
            "473/473 [==============================] - 84s 178ms/step - loss: 0.0374 - accuracy: 0.9454 - val_loss: 0.2299 - val_accuracy: 0.7190\n",
            "Epoch 10/25\n",
            "473/473 [==============================] - 84s 178ms/step - loss: 0.0361 - accuracy: 0.9475 - val_loss: 0.2401 - val_accuracy: 0.7190\n",
            "Epoch 11/25\n",
            "473/473 [==============================] - 84s 178ms/step - loss: 0.0317 - accuracy: 0.9549 - val_loss: 0.2552 - val_accuracy: 0.7200\n",
            "Epoch 12/25\n",
            "473/473 [==============================] - 84s 177ms/step - loss: 0.0301 - accuracy: 0.9546 - val_loss: 0.2573 - val_accuracy: 0.7220\n",
            "Epoch 13/25\n",
            "473/473 [==============================] - 84s 177ms/step - loss: 0.0253 - accuracy: 0.9668 - val_loss: 0.2695 - val_accuracy: 0.7160\n",
            "Epoch 14/25\n",
            "473/473 [==============================] - 84s 178ms/step - loss: 0.0269 - accuracy: 0.9605 - val_loss: 0.2833 - val_accuracy: 0.7130\n",
            "Epoch 15/25\n",
            "473/473 [==============================] - 84s 178ms/step - loss: 0.0232 - accuracy: 0.9683 - val_loss: 0.2925 - val_accuracy: 0.7180\n",
            "Epoch 16/25\n",
            "473/473 [==============================] - 84s 178ms/step - loss: 0.0231 - accuracy: 0.9668 - val_loss: 0.3183 - val_accuracy: 0.7110\n",
            "Epoch 17/25\n",
            "473/473 [==============================] - 84s 178ms/step - loss: 0.0180 - accuracy: 0.9749 - val_loss: 0.3271 - val_accuracy: 0.7130\n",
            "Epoch 18/25\n",
            "473/473 [==============================] - 84s 178ms/step - loss: 0.0181 - accuracy: 0.9728 - val_loss: 0.3551 - val_accuracy: 0.7120\n",
            "Epoch 19/25\n",
            "473/473 [==============================] - 84s 178ms/step - loss: 0.0164 - accuracy: 0.9779 - val_loss: 0.3679 - val_accuracy: 0.7100\n",
            "Epoch 20/25\n",
            "473/473 [==============================] - 84s 178ms/step - loss: 0.0136 - accuracy: 0.9829 - val_loss: 0.3700 - val_accuracy: 0.7090\n",
            "Epoch 21/25\n",
            "473/473 [==============================] - 84s 178ms/step - loss: 0.0131 - accuracy: 0.9820 - val_loss: 0.3700 - val_accuracy: 0.7100\n",
            "Epoch 22/25\n",
            "473/473 [==============================] - 84s 178ms/step - loss: 0.0111 - accuracy: 0.9854 - val_loss: 0.3859 - val_accuracy: 0.7180\n",
            "Epoch 23/25\n",
            "473/473 [==============================] - 84s 178ms/step - loss: 0.0102 - accuracy: 0.9868 - val_loss: 0.4171 - val_accuracy: 0.7130\n",
            "Epoch 24/25\n",
            "473/473 [==============================] - 84s 178ms/step - loss: 0.0111 - accuracy: 0.9831 - val_loss: 0.4401 - val_accuracy: 0.7160\n",
            "Epoch 25/25\n",
            "473/473 [==============================] - 84s 177ms/step - loss: 0.0108 - accuracy: 0.9851 - val_loss: 0.4711 - val_accuracy: 0.7160\n"
          ],
          "name": "stdout"
        }
      ]
    },
    {
      "cell_type": "code",
      "metadata": {
        "id": "t-6914NE01QH",
        "colab": {
          "base_uri": "https://localhost:8080/"
        },
        "outputId": "e53c492a-f156-4507-ce86-81db95db5122"
      },
      "source": [
        "# model.evaluate(test_input, y_test,batch_size=200)\n",
        "test_pred = model.predict(ha_test_input)\n",
        "y_pred = [i[0] for i in test_pred.round().astype(int)]\n",
        "cm = confusion_matrix(hate_test_df.label,y_pred)"
      ],
      "execution_count": 15,
      "outputs": [
        {
          "output_type": "stream",
          "text": [
            "WARNING:tensorflow:The parameters `output_attentions`, `output_hidden_states` and `use_cache` cannot be updated when calling a model.They have to be set to True/False in the config object (i.e.: `config=XConfig.from_pretrained('name', output_attentions=True)`).\n",
            "WARNING:tensorflow:The parameter `return_dict` cannot be set in graph mode and will always be set to `True`.\n"
          ],
          "name": "stdout"
        }
      ]
    },
    {
      "cell_type": "code",
      "metadata": {
        "id": "fz-6hlJhzQYt",
        "colab": {
          "base_uri": "https://localhost:8080/",
          "height": 466
        },
        "outputId": "f13ba06a-8420-4d5e-d18a-5bc6d78715cb"
      },
      "source": [
        "plot_confusion_matrix(cm, normalize=False,target_names=['Not_hate', 'Hate'],title=\"Confusion Matrix for Hate\")"
      ],
      "execution_count": 16,
      "outputs": [
        {
          "output_type": "display_data",
          "data": {
            "image/png": "[encoded data removed]",
            "text/plain": [
              "<Figure size 576x432 with 2 Axes>"
            ]
          },
          "metadata": {
            "tags": [],
            "needs_background": "light"
          }
        }
      ]
    },
    {
      "cell_type": "code",
      "metadata": {
        "colab": {
          "base_uri": "https://localhost:8080/"
        },
        "id": "QJTnHxTSov91",
        "outputId": "169377df-15da-4d31-e989-ca0fe6282658"
      },
      "source": [
        "model.evaluate(ha_test_input, hate_test_df.label, verbose=True)\n",
        "f1_score(hate_test_df.label,y_pred,average='macro')"
      ],
      "execution_count": 17,
      "outputs": [
        {
          "output_type": "stream",
          "text": [
            "93/93 [==============================] - 10s 102ms/step - loss: 1.2328 - accuracy: 0.5609\n"
          ],
          "name": "stdout"
        },
        {
          "output_type": "execute_result",
          "data": {
            "text/plain": [
              "0.5376959570957096"
            ]
          },
          "metadata": {
            "tags": []
          },
          "execution_count": 17
        }
      ]
    },
    {
      "cell_type": "code",
      "metadata": {
        "id": "lq7hb-tuTItb",
        "colab": {
          "base_uri": "https://localhost:8080/"
        },
        "outputId": "651fac8f-950a-4544-c821-ef892e867f46"
      },
      "source": [
        "#Encoding text for irony datasets\n",
        "ir_train_input = bert_encode(irony_train_df.text, dbert_tokenizer, max_len=160)\n",
        "ir_val_input = bert_encode(irony_val_df.text, dbert_tokenizer, max_len=160)\n",
        "ir_test_input = bert_encode(irony_test_df.text, dbert_tokenizer, max_len=160)"
      ],
      "execution_count": 18,
      "outputs": [
        {
          "output_type": "stream",
          "text": [
            "/usr/local/lib/python3.7/dist-packages/transformers/tokenization_utils_base.py:2079: FutureWarning: The `pad_to_max_length` argument is deprecated and will be removed in a future version, use `padding=True` or `padding='longest'` to pad to the longest sequence in the batch, or use `padding='max_length'` to pad to a max length. In this case, you can give a specific length with `max_length` (e.g. `max_length=45`) or leave max_length to None to pad to the maximal input size of the model (e.g. 512 for Bert).\n",
            "  FutureWarning,\n"
          ],
          "name": "stderr"
        }
      ]
    },
    {
      "cell_type": "code",
      "metadata": {
        "id": "Sv6B9XjEWDRj",
        "colab": {
          "base_uri": "https://localhost:8080/"
        },
        "outputId": "9acd86e5-98de-407d-e0a5-fc2f8d13362d"
      },
      "source": [
        "from keras import backend as K\n",
        "K.clear_session()\n",
        "\n",
        "ir_model = build_model(dbert_model, max_len=160)\n",
        "\n",
        "train_history = ir_model.fit(\n",
        "    ir_train_input, irony_train_df.label,\n",
        "    validation_data=(ir_val_input, irony_val_df.label),\n",
        "    epochs=25,\n",
        "    callbacks=callbacks,\n",
        "    batch_size=16\n",
        ")"
      ],
      "execution_count": 19,
      "outputs": [
        {
          "output_type": "stream",
          "text": [
            "WARNING:tensorflow:The parameters `output_attentions`, `output_hidden_states` and `use_cache` cannot be updated when calling a model.They have to be set to True/False in the config object (i.e.: `config=XConfig.from_pretrained('name', output_attentions=True)`).\n",
            "WARNING:tensorflow:The parameter `return_dict` cannot be set in graph mode and will always be set to `True`.\n",
            "Epoch 1/25\n",
            "WARNING:tensorflow:The parameters `output_attentions`, `output_hidden_states` and `use_cache` cannot be updated when calling a model.They have to be set to True/False in the config object (i.e.: `config=XConfig.from_pretrained('name', output_attentions=True)`).\n",
            "WARNING:tensorflow:The parameter `return_dict` cannot be set in graph mode and will always be set to `True`.\n",
            "WARNING:tensorflow:The parameters `output_attentions`, `output_hidden_states` and `use_cache` cannot be updated when calling a model.They have to be set to True/False in the config object (i.e.: `config=XConfig.from_pretrained('name', output_attentions=True)`).\n",
            "WARNING:tensorflow:The parameter `return_dict` cannot be set in graph mode and will always be set to `True`.\n",
            "177/178 [============================>.] - ETA: 0s - loss: 0.1990 - accuracy: 0.5325WARNING:tensorflow:The parameters `output_attentions`, `output_hidden_states` and `use_cache` cannot be updated when calling a model.They have to be set to True/False in the config object (i.e.: `config=XConfig.from_pretrained('name', output_attentions=True)`).\n",
            "WARNING:tensorflow:The parameter `return_dict` cannot be set in graph mode and will always be set to `True`.\n",
            "178/178 [==============================] - 42s 197ms/step - loss: 0.1988 - accuracy: 0.5328 - val_loss: 0.1686 - val_accuracy: 0.5812\n",
            "Epoch 2/25\n",
            "178/178 [==============================] - 34s 189ms/step - loss: 0.1557 - accuracy: 0.6621 - val_loss: 0.1651 - val_accuracy: 0.6157\n",
            "Epoch 3/25\n",
            "178/178 [==============================] - 34s 189ms/step - loss: 0.1361 - accuracy: 0.7328 - val_loss: 0.1607 - val_accuracy: 0.6304\n",
            "Epoch 4/25\n",
            "178/178 [==============================] - 34s 189ms/step - loss: 0.1126 - accuracy: 0.8083 - val_loss: 0.1697 - val_accuracy: 0.6325\n",
            "Epoch 5/25\n",
            "178/178 [==============================] - 34s 189ms/step - loss: 0.0884 - accuracy: 0.8691 - val_loss: 0.1801 - val_accuracy: 0.6419\n",
            "Epoch 6/25\n",
            "178/178 [==============================] - 34s 189ms/step - loss: 0.0605 - accuracy: 0.9094 - val_loss: 0.2216 - val_accuracy: 0.6607\n",
            "Epoch 7/25\n",
            "178/178 [==============================] - 34s 189ms/step - loss: 0.0357 - accuracy: 0.9585 - val_loss: 0.2718 - val_accuracy: 0.6513\n",
            "Epoch 8/25\n",
            "178/178 [==============================] - 34s 189ms/step - loss: 0.0232 - accuracy: 0.9766 - val_loss: 0.2925 - val_accuracy: 0.6607\n",
            "Epoch 9/25\n",
            "178/178 [==============================] - 34s 189ms/step - loss: 0.0191 - accuracy: 0.9790 - val_loss: 0.3174 - val_accuracy: 0.6461\n",
            "Epoch 10/25\n",
            "178/178 [==============================] - 34s 189ms/step - loss: 0.0138 - accuracy: 0.9889 - val_loss: 0.3477 - val_accuracy: 0.6482\n",
            "Epoch 11/25\n",
            "178/178 [==============================] - 34s 189ms/step - loss: 0.0115 - accuracy: 0.9891 - val_loss: 0.3633 - val_accuracy: 0.6482\n",
            "Epoch 12/25\n",
            "178/178 [==============================] - 34s 189ms/step - loss: 0.0119 - accuracy: 0.9909 - val_loss: 0.3849 - val_accuracy: 0.6398\n",
            "Epoch 13/25\n",
            "178/178 [==============================] - 34s 189ms/step - loss: 0.0090 - accuracy: 0.9922 - val_loss: 0.3964 - val_accuracy: 0.6366\n",
            "Epoch 14/25\n",
            "178/178 [==============================] - 34s 189ms/step - loss: 0.0093 - accuracy: 0.9931 - val_loss: 0.4002 - val_accuracy: 0.6419\n",
            "Epoch 15/25\n",
            "178/178 [==============================] - 34s 189ms/step - loss: 0.0084 - accuracy: 0.9956 - val_loss: 0.4103 - val_accuracy: 0.6471\n",
            "Epoch 16/25\n",
            "178/178 [==============================] - 34s 189ms/step - loss: 0.0095 - accuracy: 0.9903 - val_loss: 0.4177 - val_accuracy: 0.6429\n",
            "Epoch 17/25\n",
            "178/178 [==============================] - 34s 189ms/step - loss: 0.0072 - accuracy: 0.9929 - val_loss: 0.4318 - val_accuracy: 0.6398\n",
            "Epoch 18/25\n",
            "178/178 [==============================] - 34s 189ms/step - loss: 0.0075 - accuracy: 0.9931 - val_loss: 0.4319 - val_accuracy: 0.6492\n",
            "Epoch 19/25\n",
            "178/178 [==============================] - 34s 189ms/step - loss: 0.0077 - accuracy: 0.9916 - val_loss: 0.4513 - val_accuracy: 0.6408\n",
            "Epoch 20/25\n",
            "178/178 [==============================] - 34s 189ms/step - loss: 0.0069 - accuracy: 0.9953 - val_loss: 0.4589 - val_accuracy: 0.6429\n",
            "Epoch 21/25\n",
            "178/178 [==============================] - 34s 189ms/step - loss: 0.0057 - accuracy: 0.9958 - val_loss: 0.4736 - val_accuracy: 0.6429\n",
            "Epoch 22/25\n",
            "178/178 [==============================] - 34s 189ms/step - loss: 0.0055 - accuracy: 0.9965 - val_loss: 0.4823 - val_accuracy: 0.6440\n",
            "Epoch 23/25\n",
            "178/178 [==============================] - 34s 189ms/step - loss: 0.0055 - accuracy: 0.9947 - val_loss: 0.5082 - val_accuracy: 0.6325\n",
            "Epoch 24/25\n",
            "178/178 [==============================] - 34s 189ms/step - loss: 0.0049 - accuracy: 0.9969 - val_loss: 0.5124 - val_accuracy: 0.6366\n",
            "Epoch 25/25\n",
            "178/178 [==============================] - 34s 189ms/step - loss: 0.0049 - accuracy: 0.9948 - val_loss: 0.5275 - val_accuracy: 0.6325\n"
          ],
          "name": "stdout"
        }
      ]
    },
    {
      "cell_type": "code",
      "metadata": {
        "id": "SlR06P4vXqUQ",
        "colab": {
          "base_uri": "https://localhost:8080/"
        },
        "outputId": "439b0de0-da0e-4c28-a03e-afe838b13b00"
      },
      "source": [
        "test_pred = ir_model.predict(ir_test_input)\n",
        "y_pred = [i[0] for i in test_pred.round().astype(int)]\n",
        "cm = confusion_matrix(irony_test_df.label,y_pred)"
      ],
      "execution_count": 20,
      "outputs": [
        {
          "output_type": "stream",
          "text": [
            "WARNING:tensorflow:The parameters `output_attentions`, `output_hidden_states` and `use_cache` cannot be updated when calling a model.They have to be set to True/False in the config object (i.e.: `config=XConfig.from_pretrained('name', output_attentions=True)`).\n",
            "WARNING:tensorflow:The parameter `return_dict` cannot be set in graph mode and will always be set to `True`.\n"
          ],
          "name": "stdout"
        }
      ]
    },
    {
      "cell_type": "code",
      "metadata": {
        "id": "yENylN1Lyyi4",
        "colab": {
          "base_uri": "https://localhost:8080/",
          "height": 466
        },
        "outputId": "37b9c335-27d8-46cf-db9c-be118d0d8935"
      },
      "source": [
        "plot_confusion_matrix(cm, normalize=False,target_names=['Not_irony', 'irony'],title=\"Confusion Matrix for Irony\")"
      ],
      "execution_count": 21,
      "outputs": [
        {
          "output_type": "display_data",
          "data": {
            "image/png": "[encoded data removed]",
            "text/plain": [
              "<Figure size 576x432 with 2 Axes>"
            ]
          },
          "metadata": {
            "tags": [],
            "needs_background": "light"
          }
        }
      ]
    },
    {
      "cell_type": "code",
      "metadata": {
        "id": "M6Lk26rqzDCx",
        "colab": {
          "base_uri": "https://localhost:8080/"
        },
        "outputId": "c87a42cb-7eca-4418-bc38-b642faed6c2b"
      },
      "source": [
        "ir_model.evaluate(ir_test_input,irony_test_df['label'], verbose=True)\n",
        "f1_score(irony_test_df.label,y_pred,average='macro')"
      ],
      "execution_count": 22,
      "outputs": [
        {
          "output_type": "stream",
          "text": [
            "25/25 [==============================] - 3s 101ms/step - loss: 0.5088 - accuracy: 0.6327\n"
          ],
          "name": "stdout"
        },
        {
          "output_type": "execute_result",
          "data": {
            "text/plain": [
              "0.6315957787016309"
            ]
          },
          "metadata": {
            "tags": []
          },
          "execution_count": 22
        }
      ]
    },
    {
      "cell_type": "code",
      "metadata": {
        "id": "eESkoNU_cWm1",
        "colab": {
          "base_uri": "https://localhost:8080/"
        },
        "outputId": "628e7857-e87e-4161-95b7-d803a76f2702"
      },
      "source": [
        "#Encoding text for offensive datasets\n",
        "of_train_input = bert_encode(offensive_train_df.text, dbert_tokenizer, max_len=160)\n",
        "of_val_input = bert_encode(offensive_val_df.text, dbert_tokenizer, max_len=160)\n",
        "of_test_input = bert_encode(offensive_test_df.text, dbert_tokenizer, max_len=160)\n",
        "of_test_input"
      ],
      "execution_count": 23,
      "outputs": [
        {
          "output_type": "stream",
          "text": [
            "/usr/local/lib/python3.7/dist-packages/transformers/tokenization_utils_base.py:2079: FutureWarning: The `pad_to_max_length` argument is deprecated and will be removed in a future version, use `padding=True` or `padding='longest'` to pad to the longest sequence in the batch, or use `padding='max_length'` to pad to a max length. In this case, you can give a specific length with `max_length` (e.g. `max_length=45`) or leave max_length to None to pad to the maximal input size of the model (e.g. 512 for Bert).\n",
            "  FutureWarning,\n"
          ],
          "name": "stderr"
        },
        {
          "output_type": "execute_result",
          "data": {
            "text/plain": [
              "(array([[  101,  2003, 16374, ...,     0,     0,     0],\n",
              "        [  101,  1045,  2288, ...,     0,     0,     0],\n",
              "        [  101,  2065,  2017, ...,     0,     0,     0],\n",
              "        ...,\n",
              "        [  101,  2123,  2102, ...,     0,     0,     0],\n",
              "        [  101,  8398,  2003, ...,     0,     0,     0],\n",
              "        [  101,  2017,  2342, ...,     0,     0,     0]]),\n",
              " array([[1, 1, 1, ..., 0, 0, 0],\n",
              "        [1, 1, 1, ..., 0, 0, 0],\n",
              "        [1, 1, 1, ..., 0, 0, 0],\n",
              "        ...,\n",
              "        [1, 1, 1, ..., 0, 0, 0],\n",
              "        [1, 1, 1, ..., 0, 0, 0],\n",
              "        [1, 1, 1, ..., 0, 0, 0]]))"
            ]
          },
          "metadata": {
            "tags": []
          },
          "execution_count": 23
        }
      ]
    },
    {
      "cell_type": "code",
      "metadata": {
        "colab": {
          "base_uri": "https://localhost:8080/"
        },
        "id": "ceAFM6O_cZQM",
        "outputId": "114873f2-70a1-443c-dc13-bedf81ff7011"
      },
      "source": [
        "K.clear_session()\n",
        "model_of = build_model(dbert_model, max_len=160)\n",
        "\n",
        "train_history = model_of.fit(\n",
        "    of_train_input, offensive_train_df.label,\n",
        "    validation_data=(of_val_input, offensive_val_df.label),\n",
        "    epochs=25,\n",
        "    callbacks=callbacks,\n",
        "    batch_size=16\n",
        ")"
      ],
      "execution_count": 24,
      "outputs": [
        {
          "output_type": "stream",
          "text": [
            "WARNING:tensorflow:The parameters `output_attentions`, `output_hidden_states` and `use_cache` cannot be updated when calling a model.They have to be set to True/False in the config object (i.e.: `config=XConfig.from_pretrained('name', output_attentions=True)`).\n",
            "WARNING:tensorflow:The parameter `return_dict` cannot be set in graph mode and will always be set to `True`.\n",
            "Epoch 1/25\n",
            "WARNING:tensorflow:The parameters `output_attentions`, `output_hidden_states` and `use_cache` cannot be updated when calling a model.They have to be set to True/False in the config object (i.e.: `config=XConfig.from_pretrained('name', output_attentions=True)`).\n",
            "WARNING:tensorflow:The parameter `return_dict` cannot be set in graph mode and will always be set to `True`.\n",
            "WARNING:tensorflow:The parameters `output_attentions`, `output_hidden_states` and `use_cache` cannot be updated when calling a model.They have to be set to True/False in the config object (i.e.: `config=XConfig.from_pretrained('name', output_attentions=True)`).\n",
            "WARNING:tensorflow:The parameter `return_dict` cannot be set in graph mode and will always be set to `True`.\n",
            "493/493 [==============================] - ETA: 0s - loss: 0.1742 - accuracy: 0.6162WARNING:tensorflow:The parameters `output_attentions`, `output_hidden_states` and `use_cache` cannot be updated when calling a model.They have to be set to True/False in the config object (i.e.: `config=XConfig.from_pretrained('name', output_attentions=True)`).\n",
            "WARNING:tensorflow:The parameter `return_dict` cannot be set in graph mode and will always be set to `True`.\n",
            "493/493 [==============================] - 96s 182ms/step - loss: 0.1742 - accuracy: 0.6163 - val_loss: 0.1361 - val_accuracy: 0.7394\n",
            "Epoch 2/25\n",
            "493/493 [==============================] - 88s 179ms/step - loss: 0.1212 - accuracy: 0.7722 - val_loss: 0.1198 - val_accuracy: 0.7711\n",
            "Epoch 3/25\n",
            "493/493 [==============================] - 88s 179ms/step - loss: 0.1001 - accuracy: 0.8203 - val_loss: 0.1208 - val_accuracy: 0.7840\n",
            "Epoch 4/25\n",
            "493/493 [==============================] - 88s 179ms/step - loss: 0.0812 - accuracy: 0.8644 - val_loss: 0.1864 - val_accuracy: 0.7326\n",
            "Epoch 5/25\n",
            "493/493 [==============================] - 88s 179ms/step - loss: 0.0595 - accuracy: 0.9008 - val_loss: 0.1685 - val_accuracy: 0.7523\n",
            "Epoch 6/25\n",
            "493/493 [==============================] - 88s 179ms/step - loss: 0.0391 - accuracy: 0.9504 - val_loss: 0.2206 - val_accuracy: 0.7719\n",
            "Epoch 7/25\n",
            "493/493 [==============================] - 88s 179ms/step - loss: 0.0314 - accuracy: 0.9547 - val_loss: 0.2373 - val_accuracy: 0.7628\n",
            "Epoch 8/25\n",
            "493/493 [==============================] - 89s 180ms/step - loss: 0.0260 - accuracy: 0.9624 - val_loss: 0.2564 - val_accuracy: 0.7689\n",
            "Epoch 9/25\n",
            "493/493 [==============================] - 88s 180ms/step - loss: 0.0255 - accuracy: 0.9614 - val_loss: 0.2602 - val_accuracy: 0.7659\n",
            "Epoch 10/25\n",
            "493/493 [==============================] - 88s 179ms/step - loss: 0.0231 - accuracy: 0.9654 - val_loss: 0.2881 - val_accuracy: 0.7636\n",
            "Epoch 11/25\n",
            "493/493 [==============================] - 89s 180ms/step - loss: 0.0201 - accuracy: 0.9706 - val_loss: 0.3096 - val_accuracy: 0.7538\n",
            "Epoch 12/25\n",
            "493/493 [==============================] - 88s 179ms/step - loss: 0.0208 - accuracy: 0.9708 - val_loss: 0.3180 - val_accuracy: 0.7545\n",
            "Epoch 13/25\n",
            "493/493 [==============================] - 88s 179ms/step - loss: 0.0184 - accuracy: 0.9774 - val_loss: 0.3380 - val_accuracy: 0.7560\n",
            "Epoch 14/25\n",
            "493/493 [==============================] - 88s 179ms/step - loss: 0.0156 - accuracy: 0.9805 - val_loss: 0.3315 - val_accuracy: 0.7598\n",
            "Epoch 15/25\n",
            "493/493 [==============================] - 88s 180ms/step - loss: 0.0151 - accuracy: 0.9765 - val_loss: 0.3593 - val_accuracy: 0.7553\n",
            "Epoch 16/25\n",
            "493/493 [==============================] - 88s 179ms/step - loss: 0.0134 - accuracy: 0.9794 - val_loss: 0.3557 - val_accuracy: 0.7583\n",
            "Epoch 17/25\n",
            "493/493 [==============================] - 88s 180ms/step - loss: 0.0116 - accuracy: 0.9862 - val_loss: 0.3968 - val_accuracy: 0.7568\n",
            "Epoch 18/25\n",
            "493/493 [==============================] - 88s 179ms/step - loss: 0.0130 - accuracy: 0.9842 - val_loss: 0.3889 - val_accuracy: 0.7583\n",
            "Epoch 19/25\n",
            "493/493 [==============================] - 88s 179ms/step - loss: 0.0116 - accuracy: 0.9870 - val_loss: 0.4126 - val_accuracy: 0.7477\n",
            "Epoch 20/25\n",
            "493/493 [==============================] - 88s 179ms/step - loss: 0.0104 - accuracy: 0.9851 - val_loss: 0.4307 - val_accuracy: 0.7568\n",
            "Epoch 21/25\n",
            "493/493 [==============================] - 88s 180ms/step - loss: 0.0091 - accuracy: 0.9878 - val_loss: 0.4207 - val_accuracy: 0.7659\n",
            "Epoch 22/25\n",
            "493/493 [==============================] - 89s 180ms/step - loss: 0.0084 - accuracy: 0.9899 - val_loss: 0.4443 - val_accuracy: 0.7477\n",
            "Epoch 23/25\n",
            "493/493 [==============================] - 88s 179ms/step - loss: 0.0092 - accuracy: 0.9912 - val_loss: 0.4404 - val_accuracy: 0.7576\n",
            "Epoch 24/25\n",
            "493/493 [==============================] - 88s 179ms/step - loss: 0.0071 - accuracy: 0.9918 - val_loss: 0.4605 - val_accuracy: 0.7606\n",
            "Epoch 25/25\n",
            "493/493 [==============================] - 89s 180ms/step - loss: 0.0082 - accuracy: 0.9880 - val_loss: 0.4913 - val_accuracy: 0.7568\n"
          ],
          "name": "stdout"
        }
      ]
    },
    {
      "cell_type": "code",
      "metadata": {
        "id": "_aeMQAtocgix",
        "outputId": "ceb6e952-6e19-4160-a5d6-cbaf15393b1a",
        "colab": {
          "base_uri": "https://localhost:8080/"
        }
      },
      "source": [
        "test_pred = model_of.predict(of_test_input)\n",
        "y_pred = [i[0] for i in test_pred.round().astype(int)]\n",
        "cm = confusion_matrix(offensive_test_df.label,y_pred)"
      ],
      "execution_count": 25,
      "outputs": [
        {
          "output_type": "stream",
          "text": [
            "WARNING:tensorflow:The parameters `output_attentions`, `output_hidden_states` and `use_cache` cannot be updated when calling a model.They have to be set to True/False in the config object (i.e.: `config=XConfig.from_pretrained('name', output_attentions=True)`).\n",
            "WARNING:tensorflow:The parameter `return_dict` cannot be set in graph mode and will always be set to `True`.\n"
          ],
          "name": "stdout"
        }
      ]
    },
    {
      "cell_type": "code",
      "metadata": {
        "colab": {
          "base_uri": "https://localhost:8080/",
          "height": 466
        },
        "id": "hb2A3hxaulB5",
        "outputId": "6081ccc5-e846-4c41-825e-6762cd2a2fd3"
      },
      "source": [
        "plot_confusion_matrix(cm, normalize=False,target_names=['Not_offensive', 'Offensive'],title=\"Confusion Matrix for offensive\")"
      ],
      "execution_count": 26,
      "outputs": [
        {
          "output_type": "display_data",
          "data": {
            "image/png": "[encoded data removed]",
            "text/plain": [
              "<Figure size 576x432 with 2 Axes>"
            ]
          },
          "metadata": {
            "tags": [],
            "needs_background": "light"
          }
        }
      ]
    },
    {
      "cell_type": "code",
      "metadata": {
        "id": "-k3p5Sswi-4W",
        "colab": {
          "base_uri": "https://localhost:8080/"
        },
        "outputId": "6a533c95-7096-4da5-ab8d-267dcde54e42"
      },
      "source": [
        "model_of.evaluate(of_test_input,offensive_test_df['label'], verbose=True)\n",
        "f1_score(offensive_test_df.label,y_pred,average='macro')"
      ],
      "execution_count": 27,
      "outputs": [
        {
          "output_type": "stream",
          "text": [
            "27/27 [==============================] - 3s 102ms/step - loss: 0.3965 - accuracy: 0.7884\n"
          ],
          "name": "stdout"
        },
        {
          "output_type": "execute_result",
          "data": {
            "text/plain": [
              "0.7523480418217259"
            ]
          },
          "metadata": {
            "tags": []
          },
          "execution_count": 27
        }
      ]
    }
  ]
}