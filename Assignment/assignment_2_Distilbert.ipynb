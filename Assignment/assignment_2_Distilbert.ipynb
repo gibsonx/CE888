{
  "nbformat": 4,
  "nbformat_minor": 0,
  "metadata": {
    "colab": {
      "name": "sentiment_analysis_twitter.ipynb",
      "provenance": [],
      "collapsed_sections": [],
      "machine_shape": "hm",
      "include_colab_link": true
    },
    "kernelspec": {
      "name": "python3",
      "display_name": "Python 3"
    },
    "accelerator": "GPU"
  },
  "cells": [
    {
      "cell_type": "markdown",
      "metadata": {
        "id": "view-in-github",
        "colab_type": "text"
      },
      "source": [
        "<a href=\"https://colab.research.google.com/github/gibsonx/CE888/blob/master/Assignment/assignment_2_Distilbert.ipynb\" target=\"_parent\"><img src=\"https://colab.research.google.com/assets/colab-badge.svg\" alt=\"Open In Colab\"/></a>"
      ]
    },
    {
      "cell_type": "code",
      "metadata": {
        "id": "nk0hIUcdXpi2",
        "colab": {
          "base_uri": "https://localhost:8080/"
        },
        "outputId": "e131e68a-f198-4edc-f271-79805eb164d5"
      },
      "source": [
        "!pip install -U tensorflow tensorflow_datasets tensorflow_text zhon bert-for-tf2 sentencepiece transformers focal-loss tfa-nightly\n",
        "!git clone https://github.com/cardiffnlp/tweeteval.git"
      ],
      "execution_count": 95,
      "outputs": [
        {
          "output_type": "stream",
          "text": [
            "Requirement already up-to-date: tensorflow in /usr/local/lib/python3.7/dist-packages (2.4.1)\n",
            "Requirement already up-to-date: tensorflow_datasets in /usr/local/lib/python3.7/dist-packages (4.2.0)\n",
            "Requirement already up-to-date: tensorflow_text in /usr/local/lib/python3.7/dist-packages (2.4.3)\n",
            "Requirement already up-to-date: zhon in /usr/local/lib/python3.7/dist-packages (1.1.5)\n",
            "Requirement already up-to-date: bert-for-tf2 in /usr/local/lib/python3.7/dist-packages (0.14.9)\n",
            "Requirement already up-to-date: sentencepiece in /usr/local/lib/python3.7/dist-packages (0.1.95)\n",
            "Requirement already up-to-date: transformers in /usr/local/lib/python3.7/dist-packages (4.4.2)\n",
            "Requirement already up-to-date: focal-loss in /usr/local/lib/python3.7/dist-packages (0.0.6)\n",
            "Requirement already up-to-date: tfa-nightly in /usr/local/lib/python3.7/dist-packages (0.13.0.dev20210402092435)\n",
            "Requirement already satisfied, skipping upgrade: wrapt~=1.12.1 in /usr/local/lib/python3.7/dist-packages (from tensorflow) (1.12.1)\n",
            "Requirement already satisfied, skipping upgrade: google-pasta~=0.2 in /usr/local/lib/python3.7/dist-packages (from tensorflow) (0.2.0)\n",
            "Requirement already satisfied, skipping upgrade: absl-py~=0.10 in /usr/local/lib/python3.7/dist-packages (from tensorflow) (0.12.0)\n",
            "Requirement already satisfied, skipping upgrade: flatbuffers~=1.12.0 in /usr/local/lib/python3.7/dist-packages (from tensorflow) (1.12)\n",
            "Requirement already satisfied, skipping upgrade: six~=1.15.0 in /usr/local/lib/python3.7/dist-packages (from tensorflow) (1.15.0)\n",
            "Requirement already satisfied, skipping upgrade: tensorflow-estimator<2.5.0,>=2.4.0 in /usr/local/lib/python3.7/dist-packages (from tensorflow) (2.4.0)\n",
            "Requirement already satisfied, skipping upgrade: grpcio~=1.32.0 in /usr/local/lib/python3.7/dist-packages (from tensorflow) (1.32.0)\n",
            "Requirement already satisfied, skipping upgrade: opt-einsum~=3.3.0 in /usr/local/lib/python3.7/dist-packages (from tensorflow) (3.3.0)\n",
            "Requirement already satisfied, skipping upgrade: typing-extensions~=3.7.4 in /usr/local/lib/python3.7/dist-packages (from tensorflow) (3.7.4.3)\n",
            "Requirement already satisfied, skipping upgrade: protobuf>=3.9.2 in /usr/local/lib/python3.7/dist-packages (from tensorflow) (3.12.4)\n",
            "Requirement already satisfied, skipping upgrade: termcolor~=1.1.0 in /usr/local/lib/python3.7/dist-packages (from tensorflow) (1.1.0)\n",
            "Requirement already satisfied, skipping upgrade: gast==0.3.3 in /usr/local/lib/python3.7/dist-packages (from tensorflow) (0.3.3)\n",
            "Requirement already satisfied, skipping upgrade: wheel~=0.35 in /usr/local/lib/python3.7/dist-packages (from tensorflow) (0.36.2)\n",
            "Requirement already satisfied, skipping upgrade: tensorboard~=2.4 in /usr/local/lib/python3.7/dist-packages (from tensorflow) (2.4.1)\n",
            "Requirement already satisfied, skipping upgrade: h5py~=2.10.0 in /usr/local/lib/python3.7/dist-packages (from tensorflow) (2.10.0)\n",
            "Requirement already satisfied, skipping upgrade: numpy~=1.19.2 in /usr/local/lib/python3.7/dist-packages (from tensorflow) (1.19.5)\n",
            "Requirement already satisfied, skipping upgrade: keras-preprocessing~=1.1.2 in /usr/local/lib/python3.7/dist-packages (from tensorflow) (1.1.2)\n",
            "Requirement already satisfied, skipping upgrade: astunparse~=1.6.3 in /usr/local/lib/python3.7/dist-packages (from tensorflow) (1.6.3)\n",
            "Requirement already satisfied, skipping upgrade: promise in /usr/local/lib/python3.7/dist-packages (from tensorflow_datasets) (2.3)\n",
            "Requirement already satisfied, skipping upgrade: importlib-resources; python_version < \"3.9\" in /usr/local/lib/python3.7/dist-packages (from tensorflow_datasets) (5.1.2)\n",
            "Requirement already satisfied, skipping upgrade: future in /usr/local/lib/python3.7/dist-packages (from tensorflow_datasets) (0.16.0)\n",
            "Requirement already satisfied, skipping upgrade: tqdm in /usr/local/lib/python3.7/dist-packages (from tensorflow_datasets) (4.41.1)\n",
            "Requirement already satisfied, skipping upgrade: requests>=2.19.0 in /usr/local/lib/python3.7/dist-packages (from tensorflow_datasets) (2.23.0)\n",
            "Requirement already satisfied, skipping upgrade: dill in /usr/local/lib/python3.7/dist-packages (from tensorflow_datasets) (0.3.3)\n",
            "Requirement already satisfied, skipping upgrade: attrs>=18.1.0 in /usr/local/lib/python3.7/dist-packages (from tensorflow_datasets) (20.3.0)\n",
            "Requirement already satisfied, skipping upgrade: tensorflow-metadata in /usr/local/lib/python3.7/dist-packages (from tensorflow_datasets) (0.29.0)\n",
            "Requirement already satisfied, skipping upgrade: tensorflow-hub>=0.8.0 in /usr/local/lib/python3.7/dist-packages (from tensorflow_text) (0.11.0)\n",
            "Requirement already satisfied, skipping upgrade: py-params>=0.9.6 in /usr/local/lib/python3.7/dist-packages (from bert-for-tf2) (0.10.2)\n",
            "Requirement already satisfied, skipping upgrade: params-flow>=0.8.0 in /usr/local/lib/python3.7/dist-packages (from bert-for-tf2) (0.8.2)\n",
            "Requirement already satisfied, skipping upgrade: packaging in /usr/local/lib/python3.7/dist-packages (from transformers) (20.9)\n",
            "Requirement already satisfied, skipping upgrade: tokenizers<0.11,>=0.10.1 in /usr/local/lib/python3.7/dist-packages (from transformers) (0.10.2)\n",
            "Requirement already satisfied, skipping upgrade: importlib-metadata; python_version < \"3.8\" in /usr/local/lib/python3.7/dist-packages (from transformers) (3.8.1)\n",
            "Requirement already satisfied, skipping upgrade: sacremoses in /usr/local/lib/python3.7/dist-packages (from transformers) (0.0.44)\n",
            "Requirement already satisfied, skipping upgrade: regex!=2019.12.17 in /usr/local/lib/python3.7/dist-packages (from transformers) (2019.12.20)\n",
            "Requirement already satisfied, skipping upgrade: filelock in /usr/local/lib/python3.7/dist-packages (from transformers) (3.0.12)\n",
            "Requirement already satisfied, skipping upgrade: typeguard>=2.7 in /usr/local/lib/python3.7/dist-packages (from tfa-nightly) (2.7.1)\n",
            "Requirement already satisfied, skipping upgrade: setuptools in /usr/local/lib/python3.7/dist-packages (from protobuf>=3.9.2->tensorflow) (54.2.0)\n",
            "Requirement already satisfied, skipping upgrade: werkzeug>=0.11.15 in /usr/local/lib/python3.7/dist-packages (from tensorboard~=2.4->tensorflow) (1.0.1)\n",
            "Requirement already satisfied, skipping upgrade: markdown>=2.6.8 in /usr/local/lib/python3.7/dist-packages (from tensorboard~=2.4->tensorflow) (3.3.4)\n",
            "Requirement already satisfied, skipping upgrade: tensorboard-plugin-wit>=1.6.0 in /usr/local/lib/python3.7/dist-packages (from tensorboard~=2.4->tensorflow) (1.8.0)\n",
            "Requirement already satisfied, skipping upgrade: google-auth-oauthlib<0.5,>=0.4.1 in /usr/local/lib/python3.7/dist-packages (from tensorboard~=2.4->tensorflow) (0.4.3)\n",
            "Requirement already satisfied, skipping upgrade: google-auth<2,>=1.6.3 in /usr/local/lib/python3.7/dist-packages (from tensorboard~=2.4->tensorflow) (1.28.0)\n",
            "Requirement already satisfied, skipping upgrade: zipp>=0.4; python_version < \"3.8\" in /usr/local/lib/python3.7/dist-packages (from importlib-resources; python_version < \"3.9\"->tensorflow_datasets) (3.4.1)\n",
            "Requirement already satisfied, skipping upgrade: idna<3,>=2.5 in /usr/local/lib/python3.7/dist-packages (from requests>=2.19.0->tensorflow_datasets) (2.10)\n",
            "Requirement already satisfied, skipping upgrade: chardet<4,>=3.0.2 in /usr/local/lib/python3.7/dist-packages (from requests>=2.19.0->tensorflow_datasets) (3.0.4)\n",
            "Requirement already satisfied, skipping upgrade: urllib3!=1.25.0,!=1.25.1,<1.26,>=1.21.1 in /usr/local/lib/python3.7/dist-packages (from requests>=2.19.0->tensorflow_datasets) (1.24.3)\n",
            "Requirement already satisfied, skipping upgrade: certifi>=2017.4.17 in /usr/local/lib/python3.7/dist-packages (from requests>=2.19.0->tensorflow_datasets) (2020.12.5)\n",
            "Requirement already satisfied, skipping upgrade: googleapis-common-protos<2,>=1.52.0 in /usr/local/lib/python3.7/dist-packages (from tensorflow-metadata->tensorflow_datasets) (1.53.0)\n",
            "Requirement already satisfied, skipping upgrade: pyparsing>=2.0.2 in /usr/local/lib/python3.7/dist-packages (from packaging->transformers) (2.4.7)\n",
            "Requirement already satisfied, skipping upgrade: click in /usr/local/lib/python3.7/dist-packages (from sacremoses->transformers) (7.1.2)\n",
            "Requirement already satisfied, skipping upgrade: joblib in /usr/local/lib/python3.7/dist-packages (from sacremoses->transformers) (1.0.1)\n",
            "Requirement already satisfied, skipping upgrade: requests-oauthlib>=0.7.0 in /usr/local/lib/python3.7/dist-packages (from google-auth-oauthlib<0.5,>=0.4.1->tensorboard~=2.4->tensorflow) (1.3.0)\n",
            "Requirement already satisfied, skipping upgrade: rsa<5,>=3.1.4; python_version >= \"3.6\" in /usr/local/lib/python3.7/dist-packages (from google-auth<2,>=1.6.3->tensorboard~=2.4->tensorflow) (4.7.2)\n",
            "Requirement already satisfied, skipping upgrade: pyasn1-modules>=0.2.1 in /usr/local/lib/python3.7/dist-packages (from google-auth<2,>=1.6.3->tensorboard~=2.4->tensorflow) (0.2.8)\n",
            "Requirement already satisfied, skipping upgrade: cachetools<5.0,>=2.0.0 in /usr/local/lib/python3.7/dist-packages (from google-auth<2,>=1.6.3->tensorboard~=2.4->tensorflow) (4.2.1)\n",
            "Requirement already satisfied, skipping upgrade: oauthlib>=3.0.0 in /usr/local/lib/python3.7/dist-packages (from requests-oauthlib>=0.7.0->google-auth-oauthlib<0.5,>=0.4.1->tensorboard~=2.4->tensorflow) (3.1.0)\n",
            "Requirement already satisfied, skipping upgrade: pyasn1>=0.1.3 in /usr/local/lib/python3.7/dist-packages (from rsa<5,>=3.1.4; python_version >= \"3.6\"->google-auth<2,>=1.6.3->tensorboard~=2.4->tensorflow) (0.4.8)\n",
            "fatal: destination path 'tweeteval' already exists and is not an empty directory.\n"
          ],
          "name": "stdout"
        }
      ]
    },
    {
      "cell_type": "code",
      "metadata": {
        "id": "8WFgb6kZXX8C",
        "colab": {
          "base_uri": "https://localhost:8080/"
        },
        "outputId": "4cc68937-2d94-47e1-fe47-38007af3cc04"
      },
      "source": [
        "from google.colab import output\n",
        "from google.colab import drive\n",
        "import tensorflow_addons as tfa\n",
        "import itertools\n",
        "import os,pathlib,re,nltk,pickle,string\n",
        "nltk.download('punkt')\n",
        "nltk.download('stopwords')\n",
        "from nltk.tokenize import word_tokenize\n",
        "from collections import Counter\n",
        "from nltk.stem import WordNetLemmatizer\n",
        "import pandas as pd\n",
        "import numpy as np\n",
        "import matplotlib.pyplot as plt\n",
        "import tensorflow as tf\n",
        "import tensorflow_hub as hub\n",
        "import tensorflow_datasets as tfds\n",
        "import tensorflow_text as text\n",
        "from tensorflow.keras import Input, layers, losses, preprocessing, utils\n",
        "from tensorflow.keras.callbacks import ModelCheckpoint\n",
        "from tensorflow.keras.models import Model\n",
        "from tensorflow.keras.optimizers import Adam\n",
        "from keras.layers.core import Dense\n",
        "from nltk.corpus import stopwords\n",
        "from nltk.tokenize import word_tokenize\n",
        "from sklearn.feature_extraction.text import TfidfVectorizer\n",
        "from sklearn.model_selection import train_test_split\n",
        "# ML Libraries\n",
        "from sklearn.metrics import accuracy_score,confusion_matrix\n",
        "from zhon import hanzi \n",
        "from wordcloud import WordCloud, STOPWORDS, ImageColorGenerator\n",
        "import csv\n",
        "from focal_loss import BinaryFocalLoss\n",
        "from tensorflow.keras import regularizers\n",
        "from tensorflow.keras.layers import Dense,Dropout, Input\n",
        "from transformers import TFDistilBertModel,DistilBertTokenizer\n",
        "\n",
        "try:\n",
        "    %tensorflow_version 2.x\n",
        "except Exception:\n",
        "    pass\n",
        "print(\"Num GPUs Available: \", len(tf.config.list_physical_devices('GPU')))"
      ],
      "execution_count": 96,
      "outputs": [
        {
          "output_type": "stream",
          "text": [
            "[nltk_data] Downloading package punkt to /root/nltk_data...\n",
            "[nltk_data]   Package punkt is already up-to-date!\n",
            "[nltk_data] Downloading package stopwords to /root/nltk_data...\n",
            "[nltk_data]   Package stopwords is already up-to-date!\n",
            "Num GPUs Available:  1\n"
          ],
          "name": "stdout"
        }
      ]
    },
    {
      "cell_type": "code",
      "metadata": {
        "id": "HEXTeQYlY9Ss"
      },
      "source": [
        "# drive.mount('/content/drive/')\n",
        "base_dir = '/content/tweeteval/datasets/'\n",
        "hate_dir = base_dir + \"hate\"\n",
        "irony_dir = base_dir + \"irony\"\n",
        "offensive_dir = base_dir + \"offensive\""
      ],
      "execution_count": 97,
      "outputs": []
    },
    {
      "cell_type": "code",
      "metadata": {
        "id": "hcveRCcrB1Kh"
      },
      "source": [
        "stop_words = stopwords.words('english')\n",
        "new_words=['im']\n",
        "for i in new_words:\n",
        "  stop_words.append(i) \n",
        "\n",
        "def remove_emoji(string):\n",
        "    emoji_pattern = re.compile(\"[\"\n",
        "                               u\"\\U0001F600-\\U0001F64F\"  # emoticons\n",
        "                               u\"\\U0001F300-\\U0001F5FF\"  # symbols & pictographs\n",
        "                               u\"\\U0001F680-\\U0001F6FF\"  # transport & map symbols\n",
        "                               u\"\\U0001F1E0-\\U0001F1FF\"  # flags (iOS)\n",
        "                               u\"\\U00002500-\\U00002BEF\"  # chinese char\n",
        "                               u\"\\U00002702-\\U000027B0\"\n",
        "                               u\"\\U00002702-\\U000027B0\"\n",
        "                               u\"\\U000024C2-\\U0001F251\"\n",
        "                               u\"\\U0001f926-\\U0001f937\"\n",
        "                               u\"\\U00010000-\\U0010ffff\"\n",
        "                               u\"\\u2640-\\u2642\"\n",
        "                               u\"\\u2600-\\u2B55\"\n",
        "                               u\"\\u200d\"\n",
        "                               u\"\\u23cf\"\n",
        "                               u\"\\u23e9\"\n",
        "                               u\"\\u231a\"\n",
        "                               u\"\\ufe0f\"  # dingbats\n",
        "                               u\"\\u3030\"\n",
        "                               \"]+\", flags=re.UNICODE)\n",
        "    \n",
        "    return emoji_pattern.sub(r'', string)\n",
        "\n",
        "def preprocess_tweet_text(tweet):\n",
        "    tweet = tweet.lower()\n",
        "    # Remove urls\n",
        "    tweet = re.sub(r\"http\\S+|www\\S+|https\\S+\", '', tweet, flags=re.MULTILINE)\n",
        "    # Remove user @ references and '#' from tweet\n",
        "    tweet = re.sub(r'\\@\\w+|\\#','', tweet)\n",
        "    # Remove punctuations\n",
        "    tweet = tweet.translate(str.maketrans('', '', string.punctuation))\n",
        "    tweet = tweet.translate(str.maketrans('', '', hanzi.punctuation))\n",
        "    tweet = remove_emoji(tweet)\n",
        "    tweet_tokens = word_tokenize(tweet)\n",
        "    # Remove stopwords\n",
        "    filtered_words = [w for w in tweet_tokens]\n",
        "    return \" \".join(filtered_words)\n",
        "\n",
        "def readfile(text):\n",
        "  pd_list = []\n",
        "  with open(text,'r') as f:\n",
        "    for tweet in f.read().splitlines():\n",
        "      tweet = preprocess_tweet_text(tweet)\n",
        "      pd_list.append(tweet)   \n",
        "  return pd_list\n",
        " \n",
        "def readfile_label(text):\n",
        "  pd_list = []\n",
        "  with open(text,'r') as f:\n",
        "    for tweet in f.read().splitlines():\n",
        "      pd_list.append(int(tweet))  \n",
        "  return pd_list"
      ],
      "execution_count": 98,
      "outputs": []
    },
    {
      "cell_type": "code",
      "metadata": {
        "id": "1q0IWHEhEScP"
      },
      "source": [
        "#Pre-process csv and merge into a Dataframe\n",
        "#Hate DataFrame Data \n",
        "hate_dict_train = {'text': readfile(os.path.join(hate_dir,\"train_text.txt\")),'label': readfile_label(os.path.join(hate_dir,\"train_labels.txt\"))}\n",
        "hate_dict_val = {'text': readfile(os.path.join(hate_dir,\"val_text.txt\")),'label': readfile_label(os.path.join(hate_dir,\"val_labels.txt\"))}\n",
        "hate_dict_test = {'text': readfile(os.path.join(hate_dir,\"test_text.txt\")),'label': readfile_label(os.path.join(hate_dir,\"test_labels.txt\"))}\n",
        "hate_train_df = pd.DataFrame(hate_dict_train)\n",
        "hate_val_df = pd.DataFrame(hate_dict_val)\n",
        "hate_test_df = pd.DataFrame(hate_dict_test)\n",
        "df_hate_train = pd.concat([hate_train_df, hate_val_df]).reset_index(drop=True)\n",
        "not_hate = df_hate_train[df_hate_train['label'] == 0]\n",
        "hate = df_hate_train[df_hate_train['label'] == 1]\n",
        "\n",
        "#Irony DataFrame\n",
        "irony_dict_train = {'text': readfile(os.path.join(irony_dir,\"train_text.txt\")),'label': readfile_label(os.path.join(irony_dir,\"train_labels.txt\"))}\n",
        "irony_dict_val = {'text': readfile(os.path.join(irony_dir,\"val_text.txt\")),'label': readfile_label(os.path.join(irony_dir,\"val_labels.txt\"))}\n",
        "irony_dict_test = {'text': readfile(os.path.join(irony_dir,\"test_text.txt\")),'label': readfile_label(os.path.join(irony_dir,\"test_labels.txt\"))}\n",
        "irony_train_df = pd.DataFrame(irony_dict_train)\n",
        "irony_val_df = pd.DataFrame(irony_dict_val)\n",
        "df_irony_test = pd.DataFrame(irony_dict_test)\n",
        "df_irony_train = pd.concat([irony_train_df,irony_val_df]).reset_index(drop=True)\n",
        "not_irony  = df_irony_train[df_irony_train['label'] == 0]\n",
        "irony  = df_irony_train[df_irony_train['label'] == 1]\n",
        "\n",
        "#Offensive DataFrame\n",
        "offensive_dict_train = {'text': readfile(os.path.join(offensive_dir,\"train_text.txt\")),'label': readfile_label(os.path.join(offensive_dir,\"train_labels.txt\"))}\n",
        "offensive_dict_val = {'text': readfile(os.path.join(offensive_dir,\"val_text.txt\")),'label': readfile_label(os.path.join(offensive_dir,\"val_labels.txt\"))}\n",
        "offensive_dict_test = {'text': readfile(os.path.join(offensive_dir,\"test_text.txt\")),'label': readfile_label(os.path.join(offensive_dir,\"test_labels.txt\"))}\n",
        "offensive_train_df = pd.DataFrame(offensive_dict_train)\n",
        "offensive_val_df = pd.DataFrame(offensive_dict_val)\n",
        "df_offensive_test = pd.DataFrame(offensive_dict_test)\n",
        "df_offensive_train = pd.concat([offensive_train_df,offensive_val_df]).reset_index(drop=True)\n",
        "not_offensive  = df_offensive_train[df_offensive_train['label'] == 0]\n",
        "offensive  = df_offensive_train[df_offensive_train['label'] == 1]"
      ],
      "execution_count": 138,
      "outputs": []
    },
    {
      "cell_type": "code",
      "metadata": {
        "colab": {
          "base_uri": "https://localhost:8080/"
        },
        "id": "8tj5qItl-nHh",
        "outputId": "94265f29-fedf-42ed-fd29-1653e24ba0d0"
      },
      "source": [
        "dbert_tokenizer = DistilBertTokenizer.from_pretrained('distilbert-base-uncased')\n",
        "dbert_model = TFDistilBertModel.from_pretrained('distilbert-base-uncased')"
      ],
      "execution_count": 100,
      "outputs": [
        {
          "output_type": "stream",
          "text": [
            "Some layers from the model checkpoint at distilbert-base-uncased were not used when initializing TFDistilBertModel: ['vocab_transform', 'vocab_projector', 'vocab_layer_norm', 'activation_13']\n",
            "- This IS expected if you are initializing TFDistilBertModel from the checkpoint of a model trained on another task or with another architecture (e.g. initializing a BertForSequenceClassification model from a BertForPreTraining model).\n",
            "- This IS NOT expected if you are initializing TFDistilBertModel from the checkpoint of a model that you expect to be exactly identical (initializing a BertForSequenceClassification model from a BertForSequenceClassification model).\n",
            "All the layers of TFDistilBertModel were initialized from the model checkpoint at distilbert-base-uncased.\n",
            "If your task is similar to the task the model of the checkpoint was trained on, you can already use TFDistilBertModel for predictions without further training.\n"
          ],
          "name": "stderr"
        }
      ]
    },
    {
      "cell_type": "code",
      "metadata": {
        "id": "c0EKg3DXDCi7"
      },
      "source": [
        "def create_model(max_len=512):\n",
        "    inps = Input(shape = (max_len,), dtype='int64',name='inps')\n",
        "    masks= Input(shape = (max_len,), dtype='int64',name='masks')\n",
        "    doc_encoding = dbert_model(inps, attention_mask=masks)[0][:,0,:]\n",
        "    doc_encoding = tf.keras.layers.Dropout(.1)(doc_encoding)\n",
        "    outputs = tf.keras.layers.Dense(1, activation='sigmoid', name='outputs')(doc_encoding)\n",
        "    model = tf.keras.Model(inputs=[inps,masks], outputs=outputs)\n",
        "    model.compile(optimizer=tf.keras.optimizers.Adam(lr=2e-5), loss=BinaryFocalLoss(gamma=2), metrics=['accuracy', tf.keras.metrics.Precision(), tf.keras.metrics.Recall(),tfa.metrics.F1Score(num_classes=2, average=\"micro\")])\n",
        "    return model"
      ],
      "execution_count": 133,
      "outputs": []
    },
    {
      "cell_type": "code",
      "metadata": {
        "colab": {
          "base_uri": "https://localhost:8080/"
        },
        "id": "abuAVrE6DEVO",
        "outputId": "ef758b8e-50aa-469f-cfec-8d051a2b778f"
      },
      "source": [
        "model=create_model(max_len=32)\n",
        "print(model.summary())"
      ],
      "execution_count": 134,
      "outputs": [
        {
          "output_type": "stream",
          "text": [
            "WARNING:tensorflow:The parameters `output_attentions`, `output_hidden_states` and `use_cache` cannot be updated when calling a model.They have to be set to True/False in the config object (i.e.: `config=XConfig.from_pretrained('name', output_attentions=True)`).\n",
            "WARNING:tensorflow:The parameter `return_dict` cannot be set in graph mode and will always be set to `True`.\n",
            "Model: \"model\"\n",
            "__________________________________________________________________________________________________\n",
            "Layer (type)                    Output Shape         Param #     Connected to                     \n",
            "==================================================================================================\n",
            "inps (InputLayer)               [(None, 32)]         0                                            \n",
            "__________________________________________________________________________________________________\n",
            "masks (InputLayer)              [(None, 32)]         0                                            \n",
            "__________________________________________________________________________________________________\n",
            "tf_distil_bert_model (TFDistilB TFBaseModelOutput(la 66362880    inps[0][0]                       \n",
            "                                                                 masks[0][0]                      \n",
            "__________________________________________________________________________________________________\n",
            "tf.__operators__.getitem (Slici (None, 768)          0           tf_distil_bert_model[2][0]       \n",
            "__________________________________________________________________________________________________\n",
            "dropout (Dropout)               (None, 768)          0           tf.__operators__.getitem[0][0]   \n",
            "__________________________________________________________________________________________________\n",
            "outputs (Dense)                 (None, 1)            769         dropout[0][0]                    \n",
            "==================================================================================================\n",
            "Total params: 66,363,649\n",
            "Trainable params: 66,363,649\n",
            "Non-trainable params: 0\n",
            "__________________________________________________________________________________________________\n",
            "None\n"
          ],
          "name": "stdout"
        }
      ]
    },
    {
      "cell_type": "code",
      "metadata": {
        "id": "cDvrDgT_EmmL"
      },
      "source": [
        "def warmup(epoch, lr):\n",
        "    \"\"\"Used for increasing the learning rate slowly, this tends to achieve better convergence.\n",
        "    However, as we are finetuning for few epoch it's not crucial.\n",
        "    \"\"\"\n",
        "    return max(lr +1e-6, 2e-5)\n",
        "\n",
        "def get_inputs(tweets, tokenizer):\n",
        "    \"\"\" Gets tensors from text using the tokenizer provided\"\"\"\n",
        "    inps = [tokenizer.encode_plus(t,add_special_tokens=True, max_length=32, pad_to_max_length=True, return_attention_mask=True, truncation=True) for t in tweets]\n",
        "    inp_tok = np.array([a['input_ids'] for a in inps])\n",
        "    ids = np.array([a['attention_mask'] for a in inps])\n",
        "    return inp_tok, ids"
      ],
      "execution_count": 103,
      "outputs": []
    },
    {
      "cell_type": "code",
      "metadata": {
        "id": "nvT6WHkFFYfg"
      },
      "source": [
        "callbacks = [\n",
        "    # tf.keras.callbacks.EarlyStopping(monitor='loss', patience=4, min_delta=0.001, restore_best_weights=True),\n",
        "    tf.keras.callbacks.LearningRateScheduler(warmup, verbose=0),\n",
        "    tf.keras.callbacks.ReduceLROnPlateau(monitor='val_accuracy', factor=1e-6, patience=2, verbose=0, mode='auto', min_delta=0.001, cooldown=0, min_lr=1e-6)\n",
        "]"
      ],
      "execution_count": 198,
      "outputs": []
    },
    {
      "cell_type": "code",
      "metadata": {
        "id": "l6n5i4gvVfjD",
        "colab": {
          "base_uri": "https://localhost:8080/"
        },
        "outputId": "5cc7b525-e68c-4dda-850b-2892bb60cf4a"
      },
      "source": [
        "input_ids,attention_masks = get_inputs(df_hate_train['text'], tokenizer=dbert_tokenizer)"
      ],
      "execution_count": 182,
      "outputs": [
        {
          "output_type": "stream",
          "text": [
            "/usr/local/lib/python3.7/dist-packages/transformers/tokenization_utils_base.py:2074: FutureWarning: The `pad_to_max_length` argument is deprecated and will be removed in a future version, use `padding=True` or `padding='longest'` to pad to the longest sequence in the batch, or use `padding='max_length'` to pad to a max length. In this case, you can give a specific length with `max_length` (e.g. `max_length=45`) or leave max_length to None to pad to the maximal input size of the model (e.g. 512 for Bert).\n",
            "  FutureWarning,\n"
          ],
          "name": "stderr"
        }
      ]
    },
    {
      "cell_type": "code",
      "metadata": {
        "colab": {
          "base_uri": "https://localhost:8080/"
        },
        "id": "epIZpZgKFbXF",
        "outputId": "d4ffee06-0bea-4011-c285-f5ce488e61f1"
      },
      "source": [
        "from keras import backend as K\n",
        "K.clear_session()\n",
        "del model\n",
        "model=create_model(max_len=32)\n",
        "hist = model.fit(x=(input_ids,attention_masks), y=df_hate_train['label'], epochs=16, batch_size=16, validation_split=.15, callbacks=callbacks)"
      ],
      "execution_count": 183,
      "outputs": [
        {
          "output_type": "stream",
          "text": [
            "WARNING:tensorflow:The parameters `output_attentions`, `output_hidden_states` and `use_cache` cannot be updated when calling a model.They have to be set to True/False in the config object (i.e.: `config=XConfig.from_pretrained('name', output_attentions=True)`).\n",
            "WARNING:tensorflow:The parameter `return_dict` cannot be set in graph mode and will always be set to `True`.\n",
            "Epoch 1/16\n",
            "WARNING:tensorflow:The parameters `output_attentions`, `output_hidden_states` and `use_cache` cannot be updated when calling a model.They have to be set to True/False in the config object (i.e.: `config=XConfig.from_pretrained('name', output_attentions=True)`).\n",
            "WARNING:tensorflow:The parameter `return_dict` cannot be set in graph mode and will always be set to `True`.\n",
            "WARNING:tensorflow:The parameters `output_attentions`, `output_hidden_states` and `use_cache` cannot be updated when calling a model.They have to be set to True/False in the config object (i.e.: `config=XConfig.from_pretrained('name', output_attentions=True)`).\n",
            "WARNING:tensorflow:The parameter `return_dict` cannot be set in graph mode and will always be set to `True`.\n",
            "532/532 [==============================] - ETA: 0s - loss: 0.1334 - accuracy: 0.7353 - precision: 0.6973 - recall: 0.6351 - f1_score: 0.5903WARNING:tensorflow:The parameters `output_attentions`, `output_hidden_states` and `use_cache` cannot be updated when calling a model.They have to be set to True/False in the config object (i.e.: `config=XConfig.from_pretrained('name', output_attentions=True)`).\n",
            "WARNING:tensorflow:The parameter `return_dict` cannot be set in graph mode and will always be set to `True`.\n",
            "532/532 [==============================] - 38s 56ms/step - loss: 0.1334 - accuracy: 0.7354 - precision: 0.6974 - recall: 0.6353 - f1_score: 0.5903 - val_loss: 0.1367 - val_accuracy: 0.7533 - val_precision: 0.6835 - val_recall: 0.7722 - val_f1_score: 0.5929\n",
            "Epoch 2/16\n",
            "532/532 [==============================] - 28s 52ms/step - loss: 0.0725 - accuracy: 0.8839 - precision: 0.8583 - recall: 0.8638 - f1_score: 0.5877 - val_loss: 0.1541 - val_accuracy: 0.7480 - val_precision: 0.7131 - val_recall: 0.6725 - val_f1_score: 0.5929\n",
            "Epoch 3/16\n",
            "532/532 [==============================] - 28s 53ms/step - loss: 0.0334 - accuracy: 0.9527 - precision: 0.9425 - recall: 0.9446 - f1_score: 0.5894 - val_loss: 0.2881 - val_accuracy: 0.7487 - val_precision: 0.7457 - val_recall: 0.6123 - val_f1_score: 0.5929\n",
            "Epoch 4/16\n",
            "532/532 [==============================] - 28s 53ms/step - loss: 0.0153 - accuracy: 0.9823 - precision: 0.9775 - recall: 0.9803 - f1_score: 0.5909 - val_loss: 0.3462 - val_accuracy: 0.7500 - val_precision: 0.6768 - val_recall: 0.7785 - val_f1_score: 0.5929\n",
            "Epoch 5/16\n",
            "532/532 [==============================] - 28s 53ms/step - loss: 0.0096 - accuracy: 0.9907 - precision: 0.9875 - recall: 0.9902 - f1_score: 0.5881 - val_loss: 0.3121 - val_accuracy: 0.7600 - val_precision: 0.7329 - val_recall: 0.6772 - val_f1_score: 0.5929\n",
            "Epoch 6/16\n",
            "532/532 [==============================] - 28s 53ms/step - loss: 0.0078 - accuracy: 0.9902 - precision: 0.9871 - recall: 0.9896 - f1_score: 0.5915 - val_loss: 0.4387 - val_accuracy: 0.7647 - val_precision: 0.7313 - val_recall: 0.6978 - val_f1_score: 0.5929\n",
            "Epoch 7/16\n",
            "532/532 [==============================] - 28s 52ms/step - loss: 0.0069 - accuracy: 0.9918 - precision: 0.9905 - recall: 0.9904 - f1_score: 0.6004 - val_loss: 0.3828 - val_accuracy: 0.7393 - val_precision: 0.6796 - val_recall: 0.7215 - val_f1_score: 0.5929\n",
            "Epoch 8/16\n",
            "532/532 [==============================] - 28s 52ms/step - loss: 0.0043 - accuracy: 0.9943 - precision: 0.9934 - recall: 0.9930 - f1_score: 0.5947 - val_loss: 0.3900 - val_accuracy: 0.7440 - val_precision: 0.6680 - val_recall: 0.7801 - val_f1_score: 0.5929\n",
            "Epoch 9/16\n",
            "532/532 [==============================] - 28s 52ms/step - loss: 0.0077 - accuracy: 0.9903 - precision: 0.9871 - recall: 0.9898 - f1_score: 0.5924 - val_loss: 0.5636 - val_accuracy: 0.7507 - val_precision: 0.7164 - val_recall: 0.6756 - val_f1_score: 0.5929\n",
            "Epoch 10/16\n",
            "532/532 [==============================] - 28s 52ms/step - loss: 0.0062 - accuracy: 0.9945 - precision: 0.9930 - recall: 0.9939 - f1_score: 0.5932 - val_loss: 0.4827 - val_accuracy: 0.7620 - val_precision: 0.7486 - val_recall: 0.6551 - val_f1_score: 0.5929\n",
            "Epoch 11/16\n",
            "532/532 [==============================] - 28s 52ms/step - loss: 0.0026 - accuracy: 0.9972 - precision: 0.9975 - recall: 0.9959 - f1_score: 0.5981 - val_loss: 0.5614 - val_accuracy: 0.7527 - val_precision: 0.7055 - val_recall: 0.7089 - val_f1_score: 0.5929\n",
            "Epoch 12/16\n",
            "532/532 [==============================] - 28s 53ms/step - loss: 0.0048 - accuracy: 0.9943 - precision: 0.9919 - recall: 0.9947 - f1_score: 0.5982 - val_loss: 0.5322 - val_accuracy: 0.7387 - val_precision: 0.6604 - val_recall: 0.7816 - val_f1_score: 0.5929\n",
            "Epoch 13/16\n",
            "532/532 [==============================] - 28s 53ms/step - loss: 0.0038 - accuracy: 0.9956 - precision: 0.9945 - recall: 0.9953 - f1_score: 0.6046 - val_loss: 0.5012 - val_accuracy: 0.7500 - val_precision: 0.7324 - val_recall: 0.6408 - val_f1_score: 0.5929\n",
            "Epoch 14/16\n",
            "532/532 [==============================] - 28s 52ms/step - loss: 0.0029 - accuracy: 0.9966 - precision: 0.9957 - recall: 0.9960 - f1_score: 0.5869 - val_loss: 0.4887 - val_accuracy: 0.7493 - val_precision: 0.7025 - val_recall: 0.7025 - val_f1_score: 0.5929\n",
            "Epoch 15/16\n",
            "532/532 [==============================] - 28s 52ms/step - loss: 0.0021 - accuracy: 0.9974 - precision: 0.9969 - recall: 0.9970 - f1_score: 0.5924 - val_loss: 0.5467 - val_accuracy: 0.7673 - val_precision: 0.7531 - val_recall: 0.6661 - val_f1_score: 0.5929\n"
          ],
          "name": "stdout"
        }
      ]
    },
    {
      "cell_type": "code",
      "metadata": {
        "id": "PFEkxcbWYPYz",
        "colab": {
          "base_uri": "https://localhost:8080/"
        },
        "outputId": "e3139b40-93b4-4ec4-dbed-cb79d4e13eb6"
      },
      "source": [
        "input_ids,attention_masks = get_inputs(hate_test_df['text'], tokenizer=dbert_tokenizer)"
      ],
      "execution_count": 184,
      "outputs": [
        {
          "output_type": "stream",
          "text": [
            "/usr/local/lib/python3.7/dist-packages/transformers/tokenization_utils_base.py:2074: FutureWarning: The `pad_to_max_length` argument is deprecated and will be removed in a future version, use `padding=True` or `padding='longest'` to pad to the longest sequence in the batch, or use `padding='max_length'` to pad to a max length. In this case, you can give a specific length with `max_length` (e.g. `max_length=45`) or leave max_length to None to pad to the maximal input size of the model (e.g. 512 for Bert).\n",
            "  FutureWarning,\n"
          ],
          "name": "stderr"
        }
      ]
    },
    {
      "cell_type": "code",
      "metadata": {
        "id": "LDRka2CdYUZR",
        "colab": {
          "base_uri": "https://localhost:8080/"
        },
        "outputId": "b5333e52-8249-4d94-cb6b-0f448462022a"
      },
      "source": [
        "preds = model.predict((input_ids,attention_masks), verbose=True)"
      ],
      "execution_count": 185,
      "outputs": [
        {
          "output_type": "stream",
          "text": [
            "WARNING:tensorflow:The parameters `output_attentions`, `output_hidden_states` and `use_cache` cannot be updated when calling a model.They have to be set to True/False in the config object (i.e.: `config=XConfig.from_pretrained('name', output_attentions=True)`).\n",
            "WARNING:tensorflow:The parameter `return_dict` cannot be set in graph mode and will always be set to `True`.\n",
            "93/93 [==============================] - 4s 27ms/step\n"
          ],
          "name": "stdout"
        }
      ]
    },
    {
      "cell_type": "code",
      "metadata": {
        "id": "9G6Gm6JyYU75"
      },
      "source": [
        "def plot_confusion_matrix(cm,target_names,title='Confusion matrix',cmap=None,normalize=True):\n",
        "  accuracy = np.trace(cm) / float(np.sum(cm))\n",
        "  misclass = 1 - accuracy\n",
        "\n",
        "  if cmap is None:\n",
        "      cmap = plt.get_cmap('Blues')\n",
        "\n",
        "  plt.figure(figsize=(8, 6))\n",
        "  plt.imshow(cm, interpolation='nearest', cmap=cmap)\n",
        "  plt.title(title)\n",
        "  plt.colorbar()\n",
        "\n",
        "  if target_names is not None:\n",
        "      tick_marks = np.arange(len(target_names))\n",
        "      plt.xticks(tick_marks, target_names, rotation=45)\n",
        "      plt.yticks(tick_marks, target_names)\n",
        "\n",
        "  if normalize:\n",
        "      cm = cm.astype('float') / cm.sum(axis=1)[:, np.newaxis]\n",
        "\n",
        "\n",
        "  thresh = cm.max() / 1.5 if normalize else cm.max() / 2\n",
        "  for i, j in itertools.product(range(cm.shape[0]), range(cm.shape[1])):\n",
        "      if normalize:\n",
        "          plt.text(j, i, \"{:0.4f}\".format(cm[i, j]),\n",
        "                    horizontalalignment=\"center\",\n",
        "                    color=\"white\" if cm[i, j] > thresh else \"black\")\n",
        "      else:\n",
        "          plt.text(j, i, \"{:,}\".format(cm[i, j]),\n",
        "                    horizontalalignment=\"center\",\n",
        "                    color=\"white\" if cm[i, j] > thresh else \"black\")\n",
        "  plt.tight_layout()\n",
        "  plt.ylabel('True label')\n",
        "  plt.xlabel('Predicted label\\naccuracy={:0.4f}; misclass={:0.4f}'.format(accuracy, misclass))\n",
        "  plt.show()"
      ],
      "execution_count": 186,
      "outputs": []
    },
    {
      "cell_type": "code",
      "metadata": {
        "id": "4CyTH9qCYaYR",
        "colab": {
          "base_uri": "https://localhost:8080/",
          "height": 467
        },
        "outputId": "cec77a0d-9518-4b3e-9b40-1c51ee39fbb3"
      },
      "source": [
        "# plot_metrics(preds, y_test)\n",
        "y_pred = [i[0] for i in preds.round().astype(int)]\n",
        "cm = confusion_matrix(hate_test_df['label'],y_pred)\n",
        "plot_confusion_matrix(cm, normalize=False,target_names=['Not_hate', 'Hate'],title=\"Confusion Matrix for Hate\")"
      ],
      "execution_count": 188,
      "outputs": [
        {
          "output_type": "display_data",
          "data": {
            "image/png": "[encoded data removed]",
            "text/plain": [
              "<Figure size 576x432 with 2 Axes>"
            ]
          },
          "metadata": {
            "tags": [],
            "needs_background": "light"
          }
        }
      ]
    },
    {
      "cell_type": "code",
      "metadata": {
        "id": "qQ2XaMkHyVk4",
        "outputId": "38ded645-b901-4804-b397-69c4bfb489d8",
        "colab": {
          "base_uri": "https://localhost:8080/"
        }
      },
      "source": [
        "input_ids,attention_masks = get_inputs(df_irony_train['text'], tokenizer=dbert_tokenizer)"
      ],
      "execution_count": 189,
      "outputs": [
        {
          "output_type": "stream",
          "text": [
            "/usr/local/lib/python3.7/dist-packages/transformers/tokenization_utils_base.py:2074: FutureWarning: The `pad_to_max_length` argument is deprecated and will be removed in a future version, use `padding=True` or `padding='longest'` to pad to the longest sequence in the batch, or use `padding='max_length'` to pad to a max length. In this case, you can give a specific length with `max_length` (e.g. `max_length=45`) or leave max_length to None to pad to the maximal input size of the model (e.g. 512 for Bert).\n",
            "  FutureWarning,\n"
          ],
          "name": "stderr"
        }
      ]
    },
    {
      "cell_type": "code",
      "metadata": {
        "id": "7UxDzR0GysF7",
        "outputId": "463f8161-4c20-4c51-a720-6d7f916d0df8",
        "colab": {
          "base_uri": "https://localhost:8080/"
        }
      },
      "source": [
        "K.clear_session()\n",
        "del model\n",
        "model=create_model(max_len=32)\n",
        "hist = model.fit(x=(input_ids,attention_masks), y=df_irony_train['label'], epochs=30, batch_size=16, validation_split=.15, callbacks=callbacks)"
      ],
      "execution_count": 199,
      "outputs": [
        {
          "output_type": "stream",
          "text": [
            "WARNING:tensorflow:The parameters `output_attentions`, `output_hidden_states` and `use_cache` cannot be updated when calling a model.They have to be set to True/False in the config object (i.e.: `config=XConfig.from_pretrained('name', output_attentions=True)`).\n",
            "WARNING:tensorflow:The parameter `return_dict` cannot be set in graph mode and will always be set to `True`.\n",
            "Epoch 1/30\n",
            "WARNING:tensorflow:The parameters `output_attentions`, `output_hidden_states` and `use_cache` cannot be updated when calling a model.They have to be set to True/False in the config object (i.e.: `config=XConfig.from_pretrained('name', output_attentions=True)`).\n",
            "WARNING:tensorflow:The parameter `return_dict` cannot be set in graph mode and will always be set to `True`.\n",
            "WARNING:tensorflow:The parameters `output_attentions`, `output_hidden_states` and `use_cache` cannot be updated when calling a model.They have to be set to True/False in the config object (i.e.: `config=XConfig.from_pretrained('name', output_attentions=True)`).\n",
            "WARNING:tensorflow:The parameter `return_dict` cannot be set in graph mode and will always be set to `True`.\n",
            "41/42 [============================>.] - ETA: 0s - loss: 0.1084 - accuracy: 0.7913 - precision: 0.7869 - recall: 0.7942 - f1_score: 0.6514WARNING:tensorflow:The parameters `output_attentions`, `output_hidden_states` and `use_cache` cannot be updated when calling a model.They have to be set to True/False in the config object (i.e.: `config=XConfig.from_pretrained('name', output_attentions=True)`).\n",
            "WARNING:tensorflow:The parameter `return_dict` cannot be set in graph mode and will always be set to `True`.\n",
            "42/42 [==============================] - 12s 93ms/step - loss: 0.1051 - accuracy: 0.7982 - precision: 0.7939 - recall: 0.8010 - f1_score: 0.6523 - val_loss: 1.0883 - val_accuracy: 0.5000 - val_precision: 0.5658 - val_recall: 0.6232 - val_f1_score: 0.7380\n",
            "Epoch 2/30\n",
            "42/42 [==============================] - 2s 54ms/step - loss: 0.0028 - accuracy: 0.9941 - precision: 0.9932 - recall: 0.9951 - f1_score: 0.6689 - val_loss: 1.3270 - val_accuracy: 0.4068 - val_precision: 0.4894 - val_recall: 0.3333 - val_f1_score: 0.7380\n",
            "Epoch 3/30\n",
            "42/42 [==============================] - 2s 54ms/step - loss: 0.0022 - accuracy: 0.9978 - precision: 0.9996 - recall: 0.9960 - f1_score: 0.6501 - val_loss: 1.2473 - val_accuracy: 0.4492 - val_precision: 0.5385 - val_recall: 0.4058 - val_f1_score: 0.7380\n",
            "Epoch 4/30\n",
            "42/42 [==============================] - 2s 54ms/step - loss: 0.0057 - accuracy: 0.9948 - precision: 0.9979 - recall: 0.9919 - f1_score: 0.6744 - val_loss: 1.2057 - val_accuracy: 0.4068 - val_precision: 0.4872 - val_recall: 0.2754 - val_f1_score: 0.7380\n",
            "Epoch 5/30\n",
            "42/42 [==============================] - 2s 54ms/step - loss: 7.5333e-04 - accuracy: 1.0000 - precision: 1.0000 - recall: 1.0000 - f1_score: 0.6797 - val_loss: 1.0767 - val_accuracy: 0.5000 - val_precision: 0.5735 - val_recall: 0.5652 - val_f1_score: 0.7380\n",
            "Epoch 6/30\n",
            "42/42 [==============================] - 2s 54ms/step - loss: 3.5891e-04 - accuracy: 1.0000 - precision: 1.0000 - recall: 1.0000 - f1_score: 0.6985 - val_loss: 1.1444 - val_accuracy: 0.4746 - val_precision: 0.5574 - val_recall: 0.4928 - val_f1_score: 0.7380\n",
            "Epoch 7/30\n",
            "42/42 [==============================] - 2s 54ms/step - loss: 7.1907e-05 - accuracy: 1.0000 - precision: 1.0000 - recall: 1.0000 - f1_score: 0.6687 - val_loss: 1.1666 - val_accuracy: 0.5000 - val_precision: 0.5758 - val_recall: 0.5507 - val_f1_score: 0.7380\n",
            "Epoch 8/30\n",
            "42/42 [==============================] - 2s 53ms/step - loss: 7.6447e-05 - accuracy: 1.0000 - precision: 1.0000 - recall: 1.0000 - f1_score: 0.6584 - val_loss: 1.2243 - val_accuracy: 0.4746 - val_precision: 0.5574 - val_recall: 0.4928 - val_f1_score: 0.7380\n",
            "Epoch 9/30\n",
            "42/42 [==============================] - 2s 53ms/step - loss: 4.5393e-05 - accuracy: 1.0000 - precision: 1.0000 - recall: 1.0000 - f1_score: 0.6450 - val_loss: 1.2419 - val_accuracy: 0.4831 - val_precision: 0.5645 - val_recall: 0.5072 - val_f1_score: 0.7380\n",
            "Epoch 10/30\n",
            "42/42 [==============================] - 2s 53ms/step - loss: 4.8502e-05 - accuracy: 1.0000 - precision: 1.0000 - recall: 1.0000 - f1_score: 0.6979 - val_loss: 1.2470 - val_accuracy: 0.4915 - val_precision: 0.5692 - val_recall: 0.5362 - val_f1_score: 0.7380\n",
            "Epoch 11/30\n",
            "42/42 [==============================] - 2s 53ms/step - loss: 4.2861e-05 - accuracy: 1.0000 - precision: 1.0000 - recall: 1.0000 - f1_score: 0.6692 - val_loss: 1.3031 - val_accuracy: 0.4492 - val_precision: 0.5345 - val_recall: 0.4493 - val_f1_score: 0.7380\n",
            "Epoch 12/30\n",
            "42/42 [==============================] - 2s 53ms/step - loss: 1.3920e-04 - accuracy: 1.0000 - precision: 1.0000 - recall: 1.0000 - f1_score: 0.6563 - val_loss: 1.4150 - val_accuracy: 0.4153 - val_precision: 0.5000 - val_recall: 0.3188 - val_f1_score: 0.7380\n",
            "Epoch 13/30\n",
            "42/42 [==============================] - 2s 53ms/step - loss: 8.3134e-04 - accuracy: 0.9983 - precision: 1.0000 - recall: 0.9966 - f1_score: 0.6617 - val_loss: 1.2251 - val_accuracy: 0.5169 - val_precision: 0.5857 - val_recall: 0.5942 - val_f1_score: 0.7380\n",
            "Epoch 14/30\n",
            "42/42 [==============================] - 2s 54ms/step - loss: 2.9644e-05 - accuracy: 1.0000 - precision: 1.0000 - recall: 1.0000 - f1_score: 0.6552 - val_loss: 1.2990 - val_accuracy: 0.5000 - val_precision: 0.5781 - val_recall: 0.5362 - val_f1_score: 0.7380\n",
            "Epoch 15/30\n",
            "42/42 [==============================] - 2s 53ms/step - loss: 2.2330e-05 - accuracy: 1.0000 - precision: 1.0000 - recall: 1.0000 - f1_score: 0.6713 - val_loss: 1.3212 - val_accuracy: 0.4915 - val_precision: 0.5714 - val_recall: 0.5217 - val_f1_score: 0.7380\n",
            "Epoch 16/30\n",
            "42/42 [==============================] - 2s 54ms/step - loss: 2.2949e-05 - accuracy: 1.0000 - precision: 1.0000 - recall: 1.0000 - f1_score: 0.6554 - val_loss: 1.3427 - val_accuracy: 0.4831 - val_precision: 0.5645 - val_recall: 0.5072 - val_f1_score: 0.7380\n",
            "Epoch 17/30\n",
            "42/42 [==============================] - 2s 54ms/step - loss: 1.7552e-05 - accuracy: 1.0000 - precision: 1.0000 - recall: 1.0000 - f1_score: 0.6728 - val_loss: 1.3544 - val_accuracy: 0.4915 - val_precision: 0.5714 - val_recall: 0.5217 - val_f1_score: 0.7380\n",
            "Epoch 18/30\n",
            "42/42 [==============================] - 2s 54ms/step - loss: 1.3102e-05 - accuracy: 1.0000 - precision: 1.0000 - recall: 1.0000 - f1_score: 0.6740 - val_loss: 1.3726 - val_accuracy: 0.4831 - val_precision: 0.5645 - val_recall: 0.5072 - val_f1_score: 0.7380\n",
            "Epoch 19/30\n",
            "42/42 [==============================] - 2s 54ms/step - loss: 1.6687e-05 - accuracy: 1.0000 - precision: 1.0000 - recall: 1.0000 - f1_score: 0.6751 - val_loss: 1.3964 - val_accuracy: 0.4831 - val_precision: 0.5645 - val_recall: 0.5072 - val_f1_score: 0.7380\n",
            "Epoch 20/30\n",
            "42/42 [==============================] - 2s 53ms/step - loss: 1.0736e-05 - accuracy: 1.0000 - precision: 1.0000 - recall: 1.0000 - f1_score: 0.6589 - val_loss: 1.4027 - val_accuracy: 0.4831 - val_precision: 0.5645 - val_recall: 0.5072 - val_f1_score: 0.7380\n",
            "Epoch 21/30\n",
            "42/42 [==============================] - 2s 53ms/step - loss: 3.9488e-05 - accuracy: 1.0000 - precision: 1.0000 - recall: 1.0000 - f1_score: 0.6491 - val_loss: 1.4504 - val_accuracy: 0.4576 - val_precision: 0.5424 - val_recall: 0.4638 - val_f1_score: 0.7380\n",
            "Epoch 22/30\n",
            "42/42 [==============================] - 2s 53ms/step - loss: 1.9187e-05 - accuracy: 1.0000 - precision: 1.0000 - recall: 1.0000 - f1_score: 0.6577 - val_loss: 1.4520 - val_accuracy: 0.4661 - val_precision: 0.5500 - val_recall: 0.4783 - val_f1_score: 0.7380\n",
            "Epoch 23/30\n",
            "42/42 [==============================] - 2s 54ms/step - loss: 8.0155e-06 - accuracy: 1.0000 - precision: 1.0000 - recall: 1.0000 - f1_score: 0.6857 - val_loss: 1.4534 - val_accuracy: 0.4831 - val_precision: 0.5645 - val_recall: 0.5072 - val_f1_score: 0.7380\n",
            "Epoch 24/30\n",
            "42/42 [==============================] - 2s 54ms/step - loss: 7.7319e-06 - accuracy: 1.0000 - precision: 1.0000 - recall: 1.0000 - f1_score: 0.6652 - val_loss: 1.4581 - val_accuracy: 0.4915 - val_precision: 0.5714 - val_recall: 0.5217 - val_f1_score: 0.7380\n",
            "Epoch 25/30\n",
            "42/42 [==============================] - 2s 53ms/step - loss: 4.6234e-06 - accuracy: 1.0000 - precision: 1.0000 - recall: 1.0000 - f1_score: 0.6737 - val_loss: 1.4638 - val_accuracy: 0.4915 - val_precision: 0.5714 - val_recall: 0.5217 - val_f1_score: 0.7380\n",
            "Epoch 26/30\n",
            "42/42 [==============================] - 2s 54ms/step - loss: 5.2558e-06 - accuracy: 1.0000 - precision: 1.0000 - recall: 1.0000 - f1_score: 0.6639 - val_loss: 1.4699 - val_accuracy: 0.4915 - val_precision: 0.5714 - val_recall: 0.5217 - val_f1_score: 0.7380\n",
            "Epoch 27/30\n",
            "42/42 [==============================] - 2s 55ms/step - loss: 4.6450e-06 - accuracy: 1.0000 - precision: 1.0000 - recall: 1.0000 - f1_score: 0.6675 - val_loss: 1.4764 - val_accuracy: 0.4915 - val_precision: 0.5714 - val_recall: 0.5217 - val_f1_score: 0.7380\n",
            "Epoch 28/30\n",
            "42/42 [==============================] - 2s 54ms/step - loss: 4.9177e-06 - accuracy: 1.0000 - precision: 1.0000 - recall: 1.0000 - f1_score: 0.6684 - val_loss: 1.4826 - val_accuracy: 0.4915 - val_precision: 0.5714 - val_recall: 0.5217 - val_f1_score: 0.7380\n",
            "Epoch 29/30\n",
            "42/42 [==============================] - 2s 54ms/step - loss: 7.3265e-06 - accuracy: 1.0000 - precision: 1.0000 - recall: 1.0000 - f1_score: 0.6918 - val_loss: 1.4904 - val_accuracy: 0.4915 - val_precision: 0.5714 - val_recall: 0.5217 - val_f1_score: 0.7380\n",
            "Epoch 30/30\n",
            "42/42 [==============================] - 2s 55ms/step - loss: 1.4403e-05 - accuracy: 1.0000 - precision: 1.0000 - recall: 1.0000 - f1_score: 0.6650 - val_loss: 1.5483 - val_accuracy: 0.4746 - val_precision: 0.5614 - val_recall: 0.4638 - val_f1_score: 0.7380\n"
          ],
          "name": "stdout"
        }
      ]
    },
    {
      "cell_type": "code",
      "metadata": {
        "id": "rNf17mdTzMrL",
        "outputId": "3fa2679c-a8ea-453e-ef7f-17ff53f06b56",
        "colab": {
          "base_uri": "https://localhost:8080/"
        }
      },
      "source": [
        "input_ids,attention_masks = get_inputs(df_irony_test['text'], tokenizer=dbert_tokenizer)"
      ],
      "execution_count": 210,
      "outputs": [
        {
          "output_type": "stream",
          "text": [
            "/usr/local/lib/python3.7/dist-packages/transformers/tokenization_utils_base.py:2074: FutureWarning: The `pad_to_max_length` argument is deprecated and will be removed in a future version, use `padding=True` or `padding='longest'` to pad to the longest sequence in the batch, or use `padding='max_length'` to pad to a max length. In this case, you can give a specific length with `max_length` (e.g. `max_length=45`) or leave max_length to None to pad to the maximal input size of the model (e.g. 512 for Bert).\n",
            "  FutureWarning,\n"
          ],
          "name": "stderr"
        }
      ]
    },
    {
      "cell_type": "code",
      "metadata": {
        "id": "Tqg_IOGGyhbY",
        "outputId": "0d96b848-fef7-47d9-c87d-bef6db579d58",
        "colab": {
          "base_uri": "https://localhost:8080/"
        }
      },
      "source": [
        "preds = model.predict((input_ids,attention_masks), verbose=True)"
      ],
      "execution_count": 211,
      "outputs": [
        {
          "output_type": "stream",
          "text": [
            "25/25 [==============================] - 1s 27ms/step\n"
          ],
          "name": "stdout"
        }
      ]
    },
    {
      "cell_type": "code",
      "metadata": {
        "id": "PYqHVDrkyomB",
        "outputId": "f0e89b63-f457-45f0-870a-b2e233d26dda",
        "colab": {
          "base_uri": "https://localhost:8080/",
          "height": 467
        }
      },
      "source": [
        "# plot_metrics(preds, y_test)\n",
        "y_pred = [i[0] for i in preds.round().astype(int)]\n",
        "cm = confusion_matrix(df_irony_test['label'],y_pred)\n",
        "plot_confusion_matrix(cm, normalize=False,target_names=['Not_Irony', 'Irony'],title=\"Confusion Matrix for Irony\")"
      ],
      "execution_count": 212,
      "outputs": [
        {
          "output_type": "display_data",
          "data": {
            "image/png": "[encoded data removed]",
            "text/plain": [
              "<Figure size 576x432 with 2 Axes>"
            ]
          },
          "metadata": {
            "tags": [],
            "needs_background": "light"
          }
        }
      ]
    },
    {
      "cell_type": "code",
      "metadata": {
        "id": "u17YxKPaBBg8",
        "outputId": "52dd859e-be0b-4fa5-b37e-c1c417ee7262",
        "colab": {
          "base_uri": "https://localhost:8080/"
        }
      },
      "source": [
        "K.clear_session()\n",
        "del model\n",
        "model=create_model(max_len=32)\n",
        "hist = model.fit(x=(input_ids,attention_masks), y=df_offensive_train['label'], epochs=30, batch_size=16, validation_split=.15, callbacks=callbacks)"
      ],
      "execution_count": 203,
      "outputs": [
        {
          "output_type": "stream",
          "text": [
            "WARNING:tensorflow:The parameters `output_attentions`, `output_hidden_states` and `use_cache` cannot be updated when calling a model.They have to be set to True/False in the config object (i.e.: `config=XConfig.from_pretrained('name', output_attentions=True)`).\n",
            "WARNING:tensorflow:The parameter `return_dict` cannot be set in graph mode and will always be set to `True`.\n",
            "Epoch 1/30\n",
            "WARNING:tensorflow:The parameters `output_attentions`, `output_hidden_states` and `use_cache` cannot be updated when calling a model.They have to be set to True/False in the config object (i.e.: `config=XConfig.from_pretrained('name', output_attentions=True)`).\n",
            "WARNING:tensorflow:The parameter `return_dict` cannot be set in graph mode and will always be set to `True`.\n",
            "WARNING:tensorflow:The parameters `output_attentions`, `output_hidden_states` and `use_cache` cannot be updated when calling a model.They have to be set to True/False in the config object (i.e.: `config=XConfig.from_pretrained('name', output_attentions=True)`).\n",
            "WARNING:tensorflow:The parameter `return_dict` cannot be set in graph mode and will always be set to `True`.\n",
            "42/42 [==============================] - ETA: 0s - loss: 0.2246 - accuracy: 0.5591 - precision: 0.3738 - recall: 0.3815 - f1_score: 0.5133WARNING:tensorflow:The parameters `output_attentions`, `output_hidden_states` and `use_cache` cannot be updated when calling a model.They have to be set to True/False in the config object (i.e.: `config=XConfig.from_pretrained('name', output_attentions=True)`).\n",
            "WARNING:tensorflow:The parameter `return_dict` cannot be set in graph mode and will always be set to `True`.\n",
            "42/42 [==============================] - 12s 92ms/step - loss: 0.2243 - accuracy: 0.5597 - precision: 0.3737 - recall: 0.3798 - f1_score: 0.5132 - val_loss: 0.1702 - val_accuracy: 0.5763 - val_precision: 0.3750 - val_recall: 0.2045 - val_f1_score: 0.5432\n",
            "Epoch 2/30\n",
            "42/42 [==============================] - 2s 54ms/step - loss: 0.1504 - accuracy: 0.6901 - precision: 0.5652 - recall: 0.4262 - f1_score: 0.5101 - val_loss: 0.1748 - val_accuracy: 0.5763 - val_precision: 0.4375 - val_recall: 0.4773 - val_f1_score: 0.5432\n",
            "Epoch 3/30\n",
            "42/42 [==============================] - 2s 53ms/step - loss: 0.1218 - accuracy: 0.7769 - precision: 0.6970 - recall: 0.6665 - f1_score: 0.5226 - val_loss: 0.1826 - val_accuracy: 0.5847 - val_precision: 0.4468 - val_recall: 0.4773 - val_f1_score: 0.5432\n",
            "Epoch 4/30\n",
            "42/42 [==============================] - 2s 53ms/step - loss: 0.0768 - accuracy: 0.8707 - precision: 0.9159 - recall: 0.6694 - f1_score: 0.4958 - val_loss: 0.2423 - val_accuracy: 0.5847 - val_precision: 0.4603 - val_recall: 0.6591 - val_f1_score: 0.5432\n",
            "Epoch 5/30\n",
            "42/42 [==============================] - 2s 53ms/step - loss: 0.0329 - accuracy: 0.9616 - precision: 0.9425 - recall: 0.9452 - f1_score: 0.5032 - val_loss: 0.3151 - val_accuracy: 0.5678 - val_precision: 0.4462 - val_recall: 0.6591 - val_f1_score: 0.5432\n",
            "Epoch 6/30\n",
            "42/42 [==============================] - 2s 54ms/step - loss: 0.0136 - accuracy: 0.9867 - precision: 0.9711 - recall: 0.9908 - f1_score: 0.5145 - val_loss: 0.3726 - val_accuracy: 0.5847 - val_precision: 0.4590 - val_recall: 0.6364 - val_f1_score: 0.5432\n",
            "Epoch 7/30\n",
            "42/42 [==============================] - 2s 53ms/step - loss: 0.0049 - accuracy: 0.9979 - precision: 1.0000 - recall: 0.9935 - f1_score: 0.4827 - val_loss: 0.4285 - val_accuracy: 0.5508 - val_precision: 0.4237 - val_recall: 0.5682 - val_f1_score: 0.5432\n",
            "Epoch 8/30\n",
            "42/42 [==============================] - 2s 53ms/step - loss: 0.0035 - accuracy: 0.9952 - precision: 1.0000 - recall: 0.9873 - f1_score: 0.5363 - val_loss: 0.4863 - val_accuracy: 0.5847 - val_precision: 0.4590 - val_recall: 0.6364 - val_f1_score: 0.5432\n",
            "Epoch 9/30\n",
            "42/42 [==============================] - 2s 53ms/step - loss: 0.0013 - accuracy: 1.0000 - precision: 1.0000 - recall: 1.0000 - f1_score: 0.5148 - val_loss: 0.5161 - val_accuracy: 0.5847 - val_precision: 0.4590 - val_recall: 0.6364 - val_f1_score: 0.5432\n",
            "Epoch 10/30\n",
            "42/42 [==============================] - 2s 53ms/step - loss: 0.0011 - accuracy: 1.0000 - precision: 1.0000 - recall: 1.0000 - f1_score: 0.5186 - val_loss: 0.5341 - val_accuracy: 0.5678 - val_precision: 0.4444 - val_recall: 0.6364 - val_f1_score: 0.5432\n",
            "Epoch 11/30\n",
            "42/42 [==============================] - 2s 53ms/step - loss: 8.9854e-04 - accuracy: 1.0000 - precision: 1.0000 - recall: 1.0000 - f1_score: 0.5249 - val_loss: 0.5566 - val_accuracy: 0.5932 - val_precision: 0.4667 - val_recall: 0.6364 - val_f1_score: 0.5432\n",
            "Epoch 12/30\n",
            "42/42 [==============================] - 2s 53ms/step - loss: 0.0031 - accuracy: 0.9963 - precision: 1.0000 - recall: 0.9887 - f1_score: 0.5005 - val_loss: 0.5884 - val_accuracy: 0.5763 - val_precision: 0.4500 - val_recall: 0.6136 - val_f1_score: 0.5432\n",
            "Epoch 13/30\n",
            "42/42 [==============================] - 2s 53ms/step - loss: 0.0050 - accuracy: 0.9967 - precision: 0.9934 - recall: 0.9972 - f1_score: 0.5364 - val_loss: 0.6950 - val_accuracy: 0.5085 - val_precision: 0.4054 - val_recall: 0.6818 - val_f1_score: 0.5432\n",
            "Epoch 14/30\n",
            "42/42 [==============================] - 2s 53ms/step - loss: 0.0017 - accuracy: 0.9994 - precision: 0.9985 - recall: 0.9997 - f1_score: 0.4933 - val_loss: 0.5707 - val_accuracy: 0.5932 - val_precision: 0.4630 - val_recall: 0.5682 - val_f1_score: 0.5432\n",
            "Epoch 15/30\n",
            "42/42 [==============================] - 2s 53ms/step - loss: 0.0014 - accuracy: 0.9984 - precision: 0.9957 - recall: 1.0000 - f1_score: 0.5378 - val_loss: 0.6606 - val_accuracy: 0.5254 - val_precision: 0.4118 - val_recall: 0.6364 - val_f1_score: 0.5432\n",
            "Epoch 16/30\n",
            "42/42 [==============================] - 2s 53ms/step - loss: 4.8426e-04 - accuracy: 1.0000 - precision: 1.0000 - recall: 1.0000 - f1_score: 0.4784 - val_loss: 0.6660 - val_accuracy: 0.5085 - val_precision: 0.4000 - val_recall: 0.6364 - val_f1_score: 0.5432\n",
            "Epoch 17/30\n",
            "42/42 [==============================] - 2s 54ms/step - loss: 0.0014 - accuracy: 1.0000 - precision: 1.0000 - recall: 1.0000 - f1_score: 0.4835 - val_loss: 0.6718 - val_accuracy: 0.5508 - val_precision: 0.4328 - val_recall: 0.6591 - val_f1_score: 0.5432\n",
            "Epoch 18/30\n",
            "42/42 [==============================] - 2s 53ms/step - loss: 0.0011 - accuracy: 1.0000 - precision: 1.0000 - recall: 1.0000 - f1_score: 0.5184 - val_loss: 0.6938 - val_accuracy: 0.5254 - val_precision: 0.4118 - val_recall: 0.6364 - val_f1_score: 0.5432\n",
            "Epoch 19/30\n",
            "42/42 [==============================] - 2s 53ms/step - loss: 3.9306e-04 - accuracy: 0.9999 - precision: 1.0000 - recall: 0.9998 - f1_score: 0.5363 - val_loss: 0.6795 - val_accuracy: 0.5763 - val_precision: 0.4500 - val_recall: 0.6136 - val_f1_score: 0.5432\n",
            "Epoch 20/30\n",
            "42/42 [==============================] - 2s 53ms/step - loss: 0.0037 - accuracy: 0.9970 - precision: 0.9927 - recall: 0.9994 - f1_score: 0.5396 - val_loss: 0.7247 - val_accuracy: 0.5424 - val_precision: 0.4324 - val_recall: 0.7273 - val_f1_score: 0.5432\n",
            "Epoch 21/30\n",
            "42/42 [==============================] - 2s 53ms/step - loss: 0.0060 - accuracy: 0.9926 - precision: 0.9867 - recall: 0.9936 - f1_score: 0.5331 - val_loss: 0.5747 - val_accuracy: 0.5763 - val_precision: 0.4464 - val_recall: 0.5682 - val_f1_score: 0.5432\n",
            "Epoch 22/30\n",
            "42/42 [==============================] - 2s 53ms/step - loss: 0.0012 - accuracy: 1.0000 - precision: 1.0000 - recall: 1.0000 - f1_score: 0.5202 - val_loss: 0.6221 - val_accuracy: 0.5593 - val_precision: 0.4355 - val_recall: 0.6136 - val_f1_score: 0.5432\n",
            "Epoch 23/30\n",
            "42/42 [==============================] - 2s 53ms/step - loss: 0.0016 - accuracy: 0.9974 - precision: 0.9929 - recall: 1.0000 - f1_score: 0.5270 - val_loss: 0.6220 - val_accuracy: 0.5763 - val_precision: 0.4444 - val_recall: 0.5455 - val_f1_score: 0.5432\n",
            "Epoch 24/30\n",
            "42/42 [==============================] - 2s 54ms/step - loss: 2.0420e-04 - accuracy: 1.0000 - precision: 1.0000 - recall: 1.0000 - f1_score: 0.5067 - val_loss: 0.6365 - val_accuracy: 0.5763 - val_precision: 0.4464 - val_recall: 0.5682 - val_f1_score: 0.5432\n",
            "Epoch 25/30\n",
            "42/42 [==============================] - 2s 54ms/step - loss: 2.3587e-04 - accuracy: 1.0000 - precision: 1.0000 - recall: 1.0000 - f1_score: 0.5032 - val_loss: 0.6552 - val_accuracy: 0.5847 - val_precision: 0.4561 - val_recall: 0.5909 - val_f1_score: 0.5432\n",
            "Epoch 26/30\n",
            "42/42 [==============================] - 2s 53ms/step - loss: 2.6497e-04 - accuracy: 1.0000 - precision: 1.0000 - recall: 1.0000 - f1_score: 0.5350 - val_loss: 0.6710 - val_accuracy: 0.5763 - val_precision: 0.4464 - val_recall: 0.5682 - val_f1_score: 0.5432\n",
            "Epoch 27/30\n",
            "42/42 [==============================] - 2s 53ms/step - loss: 2.4938e-04 - accuracy: 1.0000 - precision: 1.0000 - recall: 1.0000 - f1_score: 0.5119 - val_loss: 0.6829 - val_accuracy: 0.5593 - val_precision: 0.4333 - val_recall: 0.5909 - val_f1_score: 0.5432\n",
            "Epoch 28/30\n",
            "42/42 [==============================] - 2s 53ms/step - loss: 2.2847e-04 - accuracy: 1.0000 - precision: 1.0000 - recall: 1.0000 - f1_score: 0.5171 - val_loss: 0.6750 - val_accuracy: 0.5932 - val_precision: 0.4643 - val_recall: 0.5909 - val_f1_score: 0.5432\n",
            "Epoch 29/30\n",
            "42/42 [==============================] - 2s 54ms/step - loss: 2.2884e-04 - accuracy: 1.0000 - precision: 1.0000 - recall: 1.0000 - f1_score: 0.5387 - val_loss: 0.7287 - val_accuracy: 0.5678 - val_precision: 0.4493 - val_recall: 0.7045 - val_f1_score: 0.5432\n",
            "Epoch 30/30\n",
            "42/42 [==============================] - 2s 53ms/step - loss: 1.0248e-04 - accuracy: 1.0000 - precision: 1.0000 - recall: 1.0000 - f1_score: 0.5042 - val_loss: 0.7065 - val_accuracy: 0.5678 - val_precision: 0.4462 - val_recall: 0.6591 - val_f1_score: 0.5432\n"
          ],
          "name": "stdout"
        }
      ]
    },
    {
      "cell_type": "code",
      "metadata": {
        "id": "fYSD0ZQABDdS",
        "outputId": "ba02b52a-2573-4218-b95d-ce4f8a2985e4",
        "colab": {
          "base_uri": "https://localhost:8080/"
        }
      },
      "source": [
        "input_ids,attention_masks = get_inputs(df_offensive_test['text'], tokenizer=dbert_tokenizer)"
      ],
      "execution_count": 204,
      "outputs": [
        {
          "output_type": "stream",
          "text": [
            "/usr/local/lib/python3.7/dist-packages/transformers/tokenization_utils_base.py:2074: FutureWarning: The `pad_to_max_length` argument is deprecated and will be removed in a future version, use `padding=True` or `padding='longest'` to pad to the longest sequence in the batch, or use `padding='max_length'` to pad to a max length. In this case, you can give a specific length with `max_length` (e.g. `max_length=45`) or leave max_length to None to pad to the maximal input size of the model (e.g. 512 for Bert).\n",
            "  FutureWarning,\n"
          ],
          "name": "stderr"
        }
      ]
    },
    {
      "cell_type": "code",
      "metadata": {
        "id": "HmARD2cHBEq2",
        "outputId": "413fc33f-d569-4acb-92d3-9848fd9cbec4",
        "colab": {
          "base_uri": "https://localhost:8080/"
        }
      },
      "source": [
        "preds = model.predict((input_ids,attention_masks), verbose=True)"
      ],
      "execution_count": 205,
      "outputs": [
        {
          "output_type": "stream",
          "text": [
            "WARNING:tensorflow:The parameters `output_attentions`, `output_hidden_states` and `use_cache` cannot be updated when calling a model.They have to be set to True/False in the config object (i.e.: `config=XConfig.from_pretrained('name', output_attentions=True)`).\n",
            "WARNING:tensorflow:The parameter `return_dict` cannot be set in graph mode and will always be set to `True`.\n",
            "27/27 [==============================] - 2s 27ms/step\n"
          ],
          "name": "stdout"
        }
      ]
    },
    {
      "cell_type": "code",
      "metadata": {
        "id": "t_21jq6FBGEF",
        "outputId": "518667ee-7095-4f76-e7ca-780cfcffd63e",
        "colab": {
          "base_uri": "https://localhost:8080/",
          "height": 467
        }
      },
      "source": [
        "# plot_metrics(preds, y_test)\n",
        "y_pred = [i[0] for i in preds.round().astype(int)]\n",
        "cm = confusion_matrix(df_offensive_test['label'],y_pred)\n",
        "plot_confusion_matrix(cm, normalize=False,target_names=['Not_offensive', 'offensive'],title=\"Confusion Matrix for offensive\")"
      ],
      "execution_count": 207,
      "outputs": [
        {
          "output_type": "display_data",
          "data": {
            "image/png": "[encoded data removed]",
            "text/plain": [
              "<Figure size 576x432 with 2 Axes>"
            ]
          },
          "metadata": {
            "tags": [],
            "needs_background": "light"
          }
        }
      ]
    }
  ]
}