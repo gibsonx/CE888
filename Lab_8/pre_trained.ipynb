{
  "nbformat": 4,
  "nbformat_minor": 0,
  "metadata": {
    "colab": {
      "name": "pre-trained.ipynb",
      "provenance": [],
      "authorship_tag": "ABX9TyN518zRIUmUbCeKdWdGEGEl",
      "include_colab_link": true
    },
    "kernelspec": {
      "name": "python3",
      "display_name": "Python 3"
    }
  },
  "cells": [
    {
      "cell_type": "markdown",
      "metadata": {
        "id": "view-in-github",
        "colab_type": "text"
      },
      "source": [
        "<a href=\"https://colab.research.google.com/github/gibsonx/CE888/blob/master/Lab_8/pre_trained.ipynb\" target=\"_parent\"><img src=\"https://colab.research.google.com/assets/colab-badge.svg\" alt=\"Open In Colab\"/></a>"
      ]
    },
    {
      "cell_type": "code",
      "metadata": {
        "colab": {
          "base_uri": "https://localhost:8080/"
        },
        "id": "k28b0VOQfv5o",
        "outputId": "dc8fec5a-97c4-445f-fdde-eeb7753233c7"
      },
      "source": [
        "!wget https://raw.githubusercontent.com/sagihaider/CE888_2021/main/Lab_8/data.zip"
      ],
      "execution_count": 2,
      "outputs": [
        {
          "output_type": "stream",
          "text": [
            "--2021-03-12 11:21:13--  https://raw.githubusercontent.com/sagihaider/CE888_2021/main/Lab_8/data.zip\n",
            "Resolving raw.githubusercontent.com (raw.githubusercontent.com)... 185.199.108.133, 185.199.109.133, 185.199.110.133, ...\n",
            "Connecting to raw.githubusercontent.com (raw.githubusercontent.com)|185.199.108.133|:443... connected.\n",
            "HTTP request sent, awaiting response... 200 OK\n",
            "Length: 20194537 (19M) [application/zip]\n",
            "Saving to: ‘data.zip’\n",
            "\n",
            "data.zip            100%[===================>]  19.26M  69.2MB/s    in 0.3s    \n",
            "\n",
            "2021-03-12 11:21:14 (69.2 MB/s) - ‘data.zip’ saved [20194537/20194537]\n",
            "\n"
          ],
          "name": "stdout"
        }
      ]
    },
    {
      "cell_type": "code",
      "metadata": {
        "id": "TU8JX7_9mrAs",
        "outputId": "f33c471f-c0e1-4563-a183-aec447be51bc",
        "colab": {
          "base_uri": "https://localhost:8080/"
        }
      },
      "source": [
        "# Unzip training data\r\n",
        "from zipfile import ZipFile\r\n",
        "file_name = \"/content/data.zip\"\r\n",
        "with ZipFile(file_name, 'r') as zip:\r\n",
        "  zip.extractall()\r\n",
        "  print('done')"
      ],
      "execution_count": 3,
      "outputs": [
        {
          "output_type": "stream",
          "text": [
            "done\n"
          ],
          "name": "stdout"
        }
      ]
    },
    {
      "cell_type": "code",
      "metadata": {
        "id": "Q_msW4liK7W0",
        "outputId": "eccb1fd8-0298-43c0-bd9f-81caf4b632d9",
        "colab": {
          "base_uri": "https://localhost:8080/"
        }
      },
      "source": [
        "import os\r\n",
        "path, dirs, files = next(os.walk(\"/content/data/Humans\"))\r\n",
        "file_count = len(files)\r\n",
        "print(file_count)\r\n",
        "\r\n",
        "path, dirs, files = next(os.walk(\"/content/data/dogs\"))\r\n",
        "file_count = len(files)\r\n",
        "print(file_count)\r\n",
        "\r\n",
        "path, dirs, files = next(os.walk(\"/content/data/cats\"))\r\n",
        "file_count = len(files)\r\n",
        "print(file_count)\r\n",
        "\r\n",
        "path, dirs, files = next(os.walk(\"/content/data/horses\"))\r\n",
        "file_count = len(files)\r\n",
        "print(file_count)"
      ],
      "execution_count": 5,
      "outputs": [
        {
          "output_type": "stream",
          "text": [
            "202\n",
            "202\n",
            "202\n",
            "202\n"
          ],
          "name": "stdout"
        }
      ]
    }
  ]
}