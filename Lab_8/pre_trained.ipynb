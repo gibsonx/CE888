{
  "nbformat": 4,
  "nbformat_minor": 0,
  "metadata": {
    "colab": {
      "name": "pre-trained.ipynb",
      "provenance": [],
      "authorship_tag": "ABX9TyO60Rhqk8yRPNb/MffHYjI4",
      "include_colab_link": true
    },
    "kernelspec": {
      "name": "python3",
      "display_name": "Python 3"
    }
  },
  "cells": [
    {
      "cell_type": "markdown",
      "metadata": {
        "id": "view-in-github",
        "colab_type": "text"
      },
      "source": [
        "<a href=\"https://colab.research.google.com/github/gibsonx/CE888/blob/master/Lab_8/pre_trained.ipynb\" target=\"_parent\"><img src=\"https://colab.research.google.com/assets/colab-badge.svg\" alt=\"Open In Colab\"/></a>"
      ]
    },
    {
      "cell_type": "code",
      "metadata": {
        "colab": {
          "base_uri": "https://localhost:8080/"
        },
        "id": "k28b0VOQfv5o",
        "outputId": "6e5971c8-d3d5-4971-9ec7-8e056f49d2de"
      },
      "source": [
        "!wget https://github.com/sagihaider/CE888_2021/blob/main/Lab_8/data.zip"
      ],
      "execution_count": 1,
      "outputs": [
        {
          "output_type": "stream",
          "text": [
            "--2021-03-11 23:23:30--  https://github.com/sagihaider/CE888_2021/blob/main/Lab_8/data.zip\n",
            "Resolving github.com (github.com)... 140.82.112.3\n",
            "Connecting to github.com (github.com)|140.82.112.3|:443... connected.\n",
            "HTTP request sent, awaiting response... 200 OK\n",
            "Length: unspecified [text/html]\n",
            "Saving to: ‘data.zip’\n",
            "\n",
            "data.zip                [ <=>                ] 102.12K   561KB/s    in 0.2s    \n",
            "\n",
            "2021-03-11 23:23:30 (561 KB/s) - ‘data.zip’ saved [104572]\n",
            "\n"
          ],
          "name": "stdout"
        }
      ]
    },
    {
      "cell_type": "code",
      "metadata": {
        "id": "TU8JX7_9mrAs"
      },
      "source": [
        "# Unzip training data\r\n",
        "from zipfile import ZipFile\r\n",
        "file_name = \"/content/data.zip\"\r\n",
        "with ZipFile(file_name, 'r') as zip:\r\n",
        "  zip.extractall()\r\n",
        "  print('done')"
      ],
      "execution_count": null,
      "outputs": []
    }
  ]
}