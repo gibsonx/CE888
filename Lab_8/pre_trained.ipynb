{
  "nbformat": 4,
  "nbformat_minor": 0,
  "metadata": {
    "colab": {
      "name": "pre-trained.ipynb",
      "provenance": [],
      "authorship_tag": "ABX9TyOyUEODQqCpKHxziCLYCg5R",
      "include_colab_link": true
    },
    "kernelspec": {
      "name": "python3",
      "display_name": "Python 3"
    }
  },
  "cells": [
    {
      "cell_type": "markdown",
      "metadata": {
        "id": "view-in-github",
        "colab_type": "text"
      },
      "source": [
        "<a href=\"https://colab.research.google.com/github/gibsonx/CE888/blob/master/Lab_8/pre_trained.ipynb\" target=\"_parent\"><img src=\"https://colab.research.google.com/assets/colab-badge.svg\" alt=\"Open In Colab\"/></a>"
      ]
    },
    {
      "cell_type": "code",
      "metadata": {
        "colab": {
          "base_uri": "https://localhost:8080/"
        },
        "id": "k28b0VOQfv5o",
        "outputId": "dc8fec5a-97c4-445f-fdde-eeb7753233c7"
      },
      "source": [
        "!wget https://raw.githubusercontent.com/sagihaider/CE888_2021/main/Lab_8/data.zip"
      ],
      "execution_count": 2,
      "outputs": [
        {
          "output_type": "stream",
          "text": [
            "--2021-03-12 11:21:13--  https://raw.githubusercontent.com/sagihaider/CE888_2021/main/Lab_8/data.zip\n",
            "Resolving raw.githubusercontent.com (raw.githubusercontent.com)... 185.199.108.133, 185.199.109.133, 185.199.110.133, ...\n",
            "Connecting to raw.githubusercontent.com (raw.githubusercontent.com)|185.199.108.133|:443... connected.\n",
            "HTTP request sent, awaiting response... 200 OK\n",
            "Length: 20194537 (19M) [application/zip]\n",
            "Saving to: ‘data.zip’\n",
            "\n",
            "data.zip            100%[===================>]  19.26M  69.2MB/s    in 0.3s    \n",
            "\n",
            "2021-03-12 11:21:14 (69.2 MB/s) - ‘data.zip’ saved [20194537/20194537]\n",
            "\n"
          ],
          "name": "stdout"
        }
      ]
    },
    {
      "cell_type": "code",
      "metadata": {
        "id": "TU8JX7_9mrAs",
        "colab": {
          "base_uri": "https://localhost:8080/"
        },
        "outputId": "f33c471f-c0e1-4563-a183-aec447be51bc"
      },
      "source": [
        "# Unzip training data\r\n",
        "from zipfile import ZipFile\r\n",
        "file_name = \"/content/data.zip\"\r\n",
        "with ZipFile(file_name, 'r') as zip:\r\n",
        "  zip.extractall()\r\n",
        "  print('done')"
      ],
      "execution_count": 3,
      "outputs": [
        {
          "output_type": "stream",
          "text": [
            "done\n"
          ],
          "name": "stdout"
        }
      ]
    },
    {
      "cell_type": "code",
      "metadata": {
        "colab": {
          "base_uri": "https://localhost:8080/"
        },
        "id": "Q_msW4liK7W0",
        "outputId": "eccb1fd8-0298-43c0-bd9f-81caf4b632d9"
      },
      "source": [
        "import os\r\n",
        "path, dirs, files = next(os.walk(\"/content/data/Humans\"))\r\n",
        "file_count = len(files)\r\n",
        "print(file_count)\r\n",
        "\r\n",
        "path, dirs, files = next(os.walk(\"/content/data/dogs\"))\r\n",
        "file_count = len(files)\r\n",
        "print(file_count)\r\n",
        "\r\n",
        "path, dirs, files = next(os.walk(\"/content/data/cats\"))\r\n",
        "file_count = len(files)\r\n",
        "print(file_count)\r\n",
        "\r\n",
        "path, dirs, files = next(os.walk(\"/content/data/horses\"))\r\n",
        "file_count = len(files)\r\n",
        "print(file_count)"
      ],
      "execution_count": 5,
      "outputs": [
        {
          "output_type": "stream",
          "text": [
            "202\n",
            "202\n",
            "202\n",
            "202\n"
          ],
          "name": "stdout"
        }
      ]
    },
    {
      "cell_type": "code",
      "metadata": {
        "id": "rdVD7IOJL87V",
        "outputId": "14e24a04-a55d-4e19-a769-ddb225e26fef",
        "colab": {
          "base_uri": "https://localhost:8080/",
          "height": 237
        }
      },
      "source": [
        "base_dir = '/content/data'\r\n",
        "train_dir = os.path.join(base_dir, 'train')\r\n",
        "os.mkdir(train_dir)\r\n",
        "\r\n",
        "validation_dir = os.path.join(base_dir, 'validation')\r\n",
        "os.mkdir(validation_dir)\r\n",
        "\r\n",
        "test_dir = os.path.join(base_dir, 'test')\r\n",
        "os.mkdir(test_dir)"
      ],
      "execution_count": 9,
      "outputs": [
        {
          "output_type": "error",
          "ename": "FileExistsError",
          "evalue": "ignored",
          "traceback": [
            "\u001b[0;31m---------------------------------------------------------------------------\u001b[0m",
            "\u001b[0;31mFileExistsError\u001b[0m                           Traceback (most recent call last)",
            "\u001b[0;32m<ipython-input-9-1771bbde841c>\u001b[0m in \u001b[0;36m<module>\u001b[0;34m()\u001b[0m\n\u001b[1;32m      1\u001b[0m \u001b[0mbase_dir\u001b[0m \u001b[0;34m=\u001b[0m \u001b[0;34m'/content/data'\u001b[0m\u001b[0;34m\u001b[0m\u001b[0;34m\u001b[0m\u001b[0m\n\u001b[1;32m      2\u001b[0m \u001b[0mtrain_dir\u001b[0m \u001b[0;34m=\u001b[0m \u001b[0mos\u001b[0m\u001b[0;34m.\u001b[0m\u001b[0mpath\u001b[0m\u001b[0;34m.\u001b[0m\u001b[0mjoin\u001b[0m\u001b[0;34m(\u001b[0m\u001b[0mbase_dir\u001b[0m\u001b[0;34m,\u001b[0m \u001b[0;34m'train'\u001b[0m\u001b[0;34m)\u001b[0m\u001b[0;34m\u001b[0m\u001b[0;34m\u001b[0m\u001b[0m\n\u001b[0;32m----> 3\u001b[0;31m \u001b[0mos\u001b[0m\u001b[0;34m.\u001b[0m\u001b[0mmkdir\u001b[0m\u001b[0;34m(\u001b[0m\u001b[0mtrain_dir\u001b[0m\u001b[0;34m)\u001b[0m\u001b[0;34m\u001b[0m\u001b[0;34m\u001b[0m\u001b[0m\n\u001b[0m\u001b[1;32m      4\u001b[0m \u001b[0;34m\u001b[0m\u001b[0m\n\u001b[1;32m      5\u001b[0m \u001b[0mvalidation_dir\u001b[0m \u001b[0;34m=\u001b[0m \u001b[0mos\u001b[0m\u001b[0;34m.\u001b[0m\u001b[0mpath\u001b[0m\u001b[0;34m.\u001b[0m\u001b[0mjoin\u001b[0m\u001b[0;34m(\u001b[0m\u001b[0mbase_dir\u001b[0m\u001b[0;34m,\u001b[0m \u001b[0;34m'validation'\u001b[0m\u001b[0;34m)\u001b[0m\u001b[0;34m\u001b[0m\u001b[0;34m\u001b[0m\u001b[0m\n",
            "\u001b[0;31mFileExistsError\u001b[0m: [Errno 17] File exists: '/content/data/train'"
          ]
        }
      ]
    },
    {
      "cell_type": "code",
      "metadata": {
        "id": "ygZomMcgMOSD"
      },
      "source": [
        "import shutil\r\n",
        "##########Cat#############\r\n",
        "fnames = ['cat.{}.jpg'.format(i) for i in range(1,140)]\r\n",
        "for fname in fnames:\r\n",
        "    src = os.path.join(os.path.join(base_dir, 'cats'), fname)\r\n",
        "    dst = os.path.join(train_dir, fname)\r\n",
        "    print(src,dst)\r\n",
        "    shutil.copyfile(src, dst)\r\n",
        "    \r\n",
        "fnames = ['cat.{}.jpg'.format(i) for i in range(140, 170)]\r\n",
        "for fname in fnames:\r\n",
        "    src = os.path.join(os.path.join(base_dir, 'cats'), fname)\r\n",
        "    dst = os.path.join(validation_dir, fname)\r\n",
        "    shutil.copyfile(src, dst)\r\n",
        "\r\n",
        "fnames = ['cat.{}.jpg'.format(i) for i in range(170, 203)]\r\n",
        "for fname in fnames:\r\n",
        "    src = os.path.join(os.path.join(base_dir, 'cats'), fname)\r\n",
        "    dst = os.path.join(test_dir, fname)\r\n",
        "    shutil.copyfile(src, dst)\r\n",
        "##########Dog#############    \r\n",
        "fnames = ['dog.{}.jpg'.format(i) for i in range(1,140)]\r\n",
        "for fname in fnames:\r\n",
        "    src = os.path.join(os.path.join(base_dir, 'dogs'), fname)\r\n",
        "    dst = os.path.join(train_dir, fname)\r\n",
        "    print(src,dst)\r\n",
        "    shutil.copyfile(src, dst)\r\n",
        "    \r\n",
        "fnames = ['dog.{}.jpg'.format(i) for i in range(140, 170)]\r\n",
        "for fname in fnames:\r\n",
        "    src = os.path.join(os.path.join(base_dir, 'dogs'), fname)\r\n",
        "    dst = os.path.join(validation_dir, fname)\r\n",
        "    shutil.copyfile(src, dst)\r\n",
        "\r\n",
        "fnames = ['dog.{}.jpg'.format(i) for i in range(170, 203)]\r\n",
        "for fname in fnames:\r\n",
        "    src = os.path.join(os.path.join(base_dir, 'dogs'), fname)\r\n",
        "    dst = os.path.join(test_dir, fname)\r\n",
        "    shutil.copyfile(src, dst)\r\n",
        "\r\n",
        "##########Human#############\r\n",
        "fnames = ['rider-{}.jpg'.format(i) for i in range(1,140)]\r\n",
        "for fname in fnames:\r\n",
        "    src = os.path.join(os.path.join(base_dir, 'Humans'), fname)\r\n",
        "    dst = os.path.join(train_dir, fname)\r\n",
        "    print(src,dst)\r\n",
        "    shutil.copyfile(src, dst)\r\n",
        "    \r\n",
        "fnames = ['rider-{}.jpg'.format(i) for i in range(140, 170)]\r\n",
        "for fname in fnames:\r\n",
        "    src = os.path.join(os.path.join(base_dir, 'Humans'), fname)\r\n",
        "    dst = os.path.join(validation_dir, fname)\r\n",
        "    shutil.copyfile(src, dst)\r\n",
        "\r\n",
        "fnames = ['rider-{}.jpg'.format(i) for i in range(170, 203)]\r\n",
        "for fname in fnames:\r\n",
        "    src = os.path.join(os.path.join(base_dir, 'Humans'), fname)\r\n",
        "    dst = os.path.join(test_dir, fname)\r\n",
        "    shutil.copyfile(src, dst)\r\n",
        "##########Horses#############\r\n",
        "fnames = ['horse-{}.jpg'.format(i) for i in range(1,140)]\r\n",
        "for fname in fnames:\r\n",
        "    src = os.path.join(os.path.join(base_dir, 'horses'), fname)\r\n",
        "    dst = os.path.join(train_dir, fname)\r\n",
        "    print(src,dst)\r\n",
        "    shutil.copyfile(src, dst)\r\n",
        "    \r\n",
        "fnames = ['horse-{}.jpg'.format(i) for i in range(140, 170)]\r\n",
        "for fname in fnames:\r\n",
        "    src = os.path.join(os.path.join(base_dir, 'horses'), fname)\r\n",
        "    dst = os.path.join(validation_dir, fname)\r\n",
        "    shutil.copyfile(src, dst)\r\n",
        "\r\n",
        "fnames = ['horse-{}.jpg'.format(i) for i in range(170, 203)]\r\n",
        "for fname in fnames:\r\n",
        "    src = os.path.join(os.path.join(base_dir, 'horses'), fname)\r\n",
        "    dst = os.path.join(test_dir, fname)\r\n",
        "    shutil.copyfile(src, dst)    "
      ],
      "execution_count": null,
      "outputs": []
    },
    {
      "cell_type": "code",
      "metadata": {
        "id": "nQaXZB63S_8I"
      },
      "source": [
        ""
      ],
      "execution_count": null,
      "outputs": []
    }
  ]
}