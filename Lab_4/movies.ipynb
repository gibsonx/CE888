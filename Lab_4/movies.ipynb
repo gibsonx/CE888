{
 "cells": [
  {
   "cell_type": "markdown",
   "metadata": {
    "id": "view-in-github",
    "colab_type": "text"
   },
   "source": [
    "<a href=\"https://colab.research.google.com/github/gibsonx/CE888/blob/master/Lab_4/movies.ipynb\" target=\"_parent\"><img src=\"https://colab.research.google.com/assets/colab-badge.svg\" alt=\"Open In Colab\"/></a>"
   ]
  },
  {
   "cell_type": "code",
   "execution_count": null,
   "metadata": {
    "id": "cTnaYc2emjWy"
   },
   "outputs": [],
   "source": [
    "import pandas as pd\r\n",
    "import numpy as np\r\n",
    "import matplotlib.pyplot as plt\r\n",
    "np.set_printoptions(precision=3)"
   ]
  },
  {
   "cell_type": "code",
   "execution_count": 32,
   "metadata": {
    "id": "v98ar840mnhP"
   },
   "outputs": [],
   "source": [
    "df_movie_users = pd.read_excel('https://raw.githubusercontent.com/albanda/CE888/master/lab4-recommender/movies_latent_factors.xlsx',sheet_name='Users')\r\n",
    "df_movie_items = pd.read_excel('https://raw.githubusercontent.com/albanda/CE888/master/lab4-recommender/movies_latent_factors.xlsx',sheet_name='Items')"
   ]
  },
  {
   "cell_type": "code",
   "execution_count": 33,
   "metadata": {
    "colab": {
     "base_uri": "https://localhost:8080/",
     "height": 204.0
    },
    "id": "X9qCqghgodVi",
    "outputId": "a36e3b5a-740e-45c5-96a2-1e09054f8a44"
   },
   "outputs": [
    {
     "data": {
      "text/html": [
       "<div>\n",
       "<style scoped>\n",
       "    .dataframe tbody tr th:only-of-type {\n",
       "        vertical-align: middle;\n",
       "    }\n",
       "\n",
       "    .dataframe tbody tr th {\n",
       "        vertical-align: top;\n",
       "    }\n",
       "\n",
       "    .dataframe thead th {\n",
       "        text-align: right;\n",
       "    }\n",
       "</style>\n",
       "<table border=\"1\" class=\"dataframe\">\n",
       "  <thead>\n",
       "    <tr style=\"text-align: right;\">\n",
       "      <th></th>\n",
       "      <th>Movie ID</th>\n",
       "      <th>Title</th>\n",
       "      <th>Factor1</th>\n",
       "      <th>Factor2</th>\n",
       "      <th>Factor3</th>\n",
       "      <th>Factor4</th>\n",
       "      <th>Factor5</th>\n",
       "      <th>Factor6</th>\n",
       "      <th>Factor7</th>\n",
       "      <th>Factor8</th>\n",
       "      <th>Factor9</th>\n",
       "      <th>Factor10</th>\n",
       "      <th>Factor11</th>\n",
       "      <th>Factor12</th>\n",
       "      <th>Factor13</th>\n",
       "      <th>Factor14</th>\n",
       "      <th>Factor15</th>\n",
       "    </tr>\n",
       "  </thead>\n",
       "  <tbody>\n",
       "    <tr>\n",
       "      <th>7</th>\n",
       "      <td>63</td>\n",
       "      <td>Twelve Monkeys (a.k.a. 12 Monkeys) (1995)</td>\n",
       "      <td>-0.615623</td>\n",
       "      <td>1.390542</td>\n",
       "      <td>0.759321</td>\n",
       "      <td>-0.408655</td>\n",
       "      <td>-0.099375</td>\n",
       "      <td>-0.073539</td>\n",
       "      <td>-0.261833</td>\n",
       "      <td>-0.923701</td>\n",
       "      <td>0.073849</td>\n",
       "      <td>-0.041067</td>\n",
       "      <td>0.782604</td>\n",
       "      <td>-0.539200</td>\n",
       "      <td>0.290092</td>\n",
       "      <td>-0.229462</td>\n",
       "      <td>0.432006</td>\n",
       "    </tr>\n",
       "    <tr>\n",
       "      <th>52</th>\n",
       "      <td>607</td>\n",
       "      <td>Men in Black (a.k.a. MIB) (1997)</td>\n",
       "      <td>1.038193</td>\n",
       "      <td>-0.686655</td>\n",
       "      <td>0.377045</td>\n",
       "      <td>-0.704040</td>\n",
       "      <td>-1.715186</td>\n",
       "      <td>0.871926</td>\n",
       "      <td>0.506921</td>\n",
       "      <td>0.735494</td>\n",
       "      <td>-0.002964</td>\n",
       "      <td>1.117341</td>\n",
       "      <td>2.316365</td>\n",
       "      <td>-1.244796</td>\n",
       "      <td>0.025351</td>\n",
       "      <td>-0.229809</td>\n",
       "      <td>-0.949541</td>\n",
       "    </tr>\n",
       "    <tr>\n",
       "      <th>64</th>\n",
       "      <td>807</td>\n",
       "      <td>Seven (a.k.a. Se7en) (1995)</td>\n",
       "      <td>-1.261114</td>\n",
       "      <td>1.419946</td>\n",
       "      <td>-0.118211</td>\n",
       "      <td>-0.479119</td>\n",
       "      <td>0.205107</td>\n",
       "      <td>-0.416039</td>\n",
       "      <td>0.205585</td>\n",
       "      <td>-0.697883</td>\n",
       "      <td>-0.360988</td>\n",
       "      <td>-0.246101</td>\n",
       "      <td>0.407891</td>\n",
       "      <td>0.276333</td>\n",
       "      <td>0.741695</td>\n",
       "      <td>-0.597342</td>\n",
       "      <td>0.179386</td>\n",
       "    </tr>\n",
       "    <tr>\n",
       "      <th>68</th>\n",
       "      <td>854</td>\n",
       "      <td>The Mask (1994)</td>\n",
       "      <td>2.263142</td>\n",
       "      <td>-0.067761</td>\n",
       "      <td>-0.205463</td>\n",
       "      <td>0.068880</td>\n",
       "      <td>-0.189090</td>\n",
       "      <td>2.078554</td>\n",
       "      <td>2.444922</td>\n",
       "      <td>-0.075971</td>\n",
       "      <td>-0.674767</td>\n",
       "      <td>-0.198560</td>\n",
       "      <td>1.641380</td>\n",
       "      <td>-0.839276</td>\n",
       "      <td>-0.517086</td>\n",
       "      <td>-1.058431</td>\n",
       "      <td>-0.931746</td>\n",
       "    </tr>\n",
       "    <tr>\n",
       "      <th>43</th>\n",
       "      <td>558</td>\n",
       "      <td>Spider-Man 2 (2004)</td>\n",
       "      <td>2.235223</td>\n",
       "      <td>-0.788129</td>\n",
       "      <td>0.596722</td>\n",
       "      <td>-0.400082</td>\n",
       "      <td>-1.246623</td>\n",
       "      <td>-1.507203</td>\n",
       "      <td>-0.219911</td>\n",
       "      <td>-0.486254</td>\n",
       "      <td>0.331657</td>\n",
       "      <td>-1.833755</td>\n",
       "      <td>-2.243340</td>\n",
       "      <td>-1.197938</td>\n",
       "      <td>-1.450812</td>\n",
       "      <td>-2.381119</td>\n",
       "      <td>-0.455753</td>\n",
       "    </tr>\n",
       "  </tbody>\n",
       "</table>\n",
       "</div>"
      ],
      "text/plain": [
       "    Movie ID                                      Title  ...  Factor14  Factor15\n",
       "7         63  Twelve Monkeys (a.k.a. 12 Monkeys) (1995)  ... -0.229462  0.432006\n",
       "52       607           Men in Black (a.k.a. MIB) (1997)  ... -0.229809 -0.949541\n",
       "64       807                Seven (a.k.a. Se7en) (1995)  ... -0.597342  0.179386\n",
       "68       854                            The Mask (1994)  ... -1.058431 -0.931746\n",
       "43       558                        Spider-Man 2 (2004)  ... -2.381119 -0.455753\n",
       "\n",
       "[5 rows x 17 columns]"
      ]
     },
     "execution_count": 33,
     "metadata": {
      "tags": []
     },
     "output_type": "execute_result"
    }
   ],
   "source": [
    "#Question 6\r\n",
    "list_of_values = [854,63,558,607,807]\r\n",
    "df_movie_items.loc[df_movie_items['Movie ID'].isin(list_of_values)].sort_values(by='Factor14',ascending=False)"
   ]
  },
  {
   "cell_type": "code",
   "execution_count": 34,
   "metadata": {
    "id": "KuJagA-bntkQ"
   },
   "outputs": [],
   "source": [
    "latent_item_features = df_movie_items.filter(regex='Factor')\r\n",
    "latent_user_preferences = df_movie_users.filter(regex='Factor')\r\n",
    "\r\n",
    "# Matrix multiplication\r\n",
    "predictions = latent_item_features.dot(latent_user_preferences.T)\r\n",
    "df_movie_users['User']\r\n",
    "# Entitle prediction columns as User values\r\n",
    "predictions.columns = df_movie_users['User']\r\n",
    "\r\n",
    "# Merge Movie_ID and Title\r\n",
    "predictions[\"key\"] = range(predictions.shape[0])\r\n",
    "movie_title = df_movie_items.iloc[:,0:2]\r\n",
    "movie_title[\"key\"] = range(movie_title.shape[0])\r\n",
    "result = pd.merge(movie_title,predictions,on=\"key\")\r\n",
    "result.drop(labels='key', axis=1, inplace=True)"
   ]
  },
  {
   "cell_type": "code",
   "execution_count": 35,
   "metadata": {
    "colab": {
     "base_uri": "https://localhost:8080/",
     "height": 80.0
    },
    "id": "k9zMYPu6pY9A",
    "outputId": "b3be13c2-b239-4d21-f582-35940da2c965"
   },
   "outputs": [
    {
     "data": {
      "text/html": [
       "<div>\n",
       "<style scoped>\n",
       "    .dataframe tbody tr th:only-of-type {\n",
       "        vertical-align: middle;\n",
       "    }\n",
       "\n",
       "    .dataframe tbody tr th {\n",
       "        vertical-align: top;\n",
       "    }\n",
       "\n",
       "    .dataframe thead th {\n",
       "        text-align: right;\n",
       "    }\n",
       "</style>\n",
       "<table border=\"1\" class=\"dataframe\">\n",
       "  <thead>\n",
       "    <tr style=\"text-align: right;\">\n",
       "      <th></th>\n",
       "      <th>3878</th>\n",
       "      <th>Movie ID</th>\n",
       "      <th>Title</th>\n",
       "    </tr>\n",
       "  </thead>\n",
       "  <tbody>\n",
       "    <tr>\n",
       "      <th>12</th>\n",
       "      <td>0.326437</td>\n",
       "      <td>107</td>\n",
       "      <td>Snatch (2000)</td>\n",
       "    </tr>\n",
       "  </tbody>\n",
       "</table>\n",
       "</div>"
      ],
      "text/plain": [
       "        3878  Movie ID          Title\n",
       "12  0.326437       107  Snatch (2000)"
      ]
     },
     "execution_count": 35,
     "metadata": {
      "tags": []
     },
     "output_type": "execute_result"
    }
   ],
   "source": [
    "#Question 7\r\n",
    "q7 = result.loc[:,[3878,'Movie ID','Title']]\r\n",
    "q7.loc[(q7[\"Movie ID\"] == 107)]"
   ]
  },
  {
   "cell_type": "code",
   "execution_count": 36,
   "metadata": {
    "colab": {
     "base_uri": "https://localhost:8080/",
     "height": 80.0
    },
    "id": "HgtDZ-Xmqa9M",
    "outputId": "92a2cc1d-9be4-4472-d17a-23eb8b52d77b"
   },
   "outputs": [
    {
     "data": {
      "text/html": [
       "<div>\n",
       "<style scoped>\n",
       "    .dataframe tbody tr th:only-of-type {\n",
       "        vertical-align: middle;\n",
       "    }\n",
       "\n",
       "    .dataframe tbody tr th {\n",
       "        vertical-align: top;\n",
       "    }\n",
       "\n",
       "    .dataframe thead th {\n",
       "        text-align: right;\n",
       "    }\n",
       "</style>\n",
       "<table border=\"1\" class=\"dataframe\">\n",
       "  <thead>\n",
       "    <tr style=\"text-align: right;\">\n",
       "      <th></th>\n",
       "      <th>2067</th>\n",
       "      <th>Movie ID</th>\n",
       "      <th>Title</th>\n",
       "    </tr>\n",
       "  </thead>\n",
       "  <tbody>\n",
       "    <tr>\n",
       "      <th>88</th>\n",
       "      <td>-0.124345</td>\n",
       "      <td>7443</td>\n",
       "      <td>Chicken Run (2000)</td>\n",
       "    </tr>\n",
       "  </tbody>\n",
       "</table>\n",
       "</div>"
      ],
      "text/plain": [
       "        2067  Movie ID               Title\n",
       "88 -0.124345      7443  Chicken Run (2000)"
      ]
     },
     "execution_count": 36,
     "metadata": {
      "tags": []
     },
     "output_type": "execute_result"
    }
   ],
   "source": [
    "#Question 8\r\n",
    "q8 = result.loc[:,[2067,'Movie ID','Title']]\r\n",
    "q8.loc[(q8[\"Movie ID\"] == 7443)]"
   ]
  },
  {
   "cell_type": "code",
   "execution_count": 37,
   "metadata": {
    "colab": {
     "base_uri": "https://localhost:8080/",
     "height": 266.0
    },
    "id": "T4TTIru1pYzZ",
    "outputId": "aa58a5c4-db18-441d-c9ad-cd6edddd8da9"
   },
   "outputs": [
    {
     "data": {
      "text/html": [
       "<div>\n",
       "<style scoped>\n",
       "    .dataframe tbody tr th:only-of-type {\n",
       "        vertical-align: middle;\n",
       "    }\n",
       "\n",
       "    .dataframe tbody tr th {\n",
       "        vertical-align: top;\n",
       "    }\n",
       "\n",
       "    .dataframe thead th {\n",
       "        text-align: right;\n",
       "    }\n",
       "</style>\n",
       "<table border=\"1\" class=\"dataframe\">\n",
       "  <thead>\n",
       "    <tr style=\"text-align: right;\">\n",
       "      <th></th>\n",
       "      <th>4469</th>\n",
       "      <th>Movie ID</th>\n",
       "      <th>Title</th>\n",
       "    </tr>\n",
       "  </thead>\n",
       "  <tbody>\n",
       "    <tr>\n",
       "      <th>69</th>\n",
       "      <td>0.122192</td>\n",
       "      <td>857</td>\n",
       "      <td>Saving Private Ryan (1998)</td>\n",
       "    </tr>\n",
       "    <tr>\n",
       "      <th>89</th>\n",
       "      <td>0.073535</td>\n",
       "      <td>8358</td>\n",
       "      <td>Cast Away (2000)</td>\n",
       "    </tr>\n",
       "    <tr>\n",
       "      <th>90</th>\n",
       "      <td>0.016965</td>\n",
       "      <td>8467</td>\n",
       "      <td>Dumb &amp; Dumber (1994)</td>\n",
       "    </tr>\n",
       "    <tr>\n",
       "      <th>85</th>\n",
       "      <td>-0.002490</td>\n",
       "      <td>3049</td>\n",
       "      <td>Ace Ventura: Pet Detective (1994)</td>\n",
       "    </tr>\n",
       "    <tr>\n",
       "      <th>97</th>\n",
       "      <td>-0.052109</td>\n",
       "      <td>36657</td>\n",
       "      <td>X-Men (2000)</td>\n",
       "    </tr>\n",
       "    <tr>\n",
       "      <th>57</th>\n",
       "      <td>-0.085070</td>\n",
       "      <td>671</td>\n",
       "      <td>Harry Potter and the Sorcerer's Stone (a.k.a. ...</td>\n",
       "    </tr>\n",
       "    <tr>\n",
       "      <th>86</th>\n",
       "      <td>-0.199980</td>\n",
       "      <td>4327</td>\n",
       "      <td>Charlie's Angels (2000)</td>\n",
       "    </tr>\n",
       "  </tbody>\n",
       "</table>\n",
       "</div>"
      ],
      "text/plain": [
       "        4469  Movie ID                                              Title\n",
       "69  0.122192       857                         Saving Private Ryan (1998)\n",
       "89  0.073535      8358                                   Cast Away (2000)\n",
       "90  0.016965      8467                               Dumb & Dumber (1994)\n",
       "85 -0.002490      3049                  Ace Ventura: Pet Detective (1994)\n",
       "97 -0.052109     36657                                       X-Men (2000)\n",
       "57 -0.085070       671  Harry Potter and the Sorcerer's Stone (a.k.a. ...\n",
       "86 -0.199980      4327                            Charlie's Angels (2000)"
      ]
     },
     "execution_count": 37,
     "metadata": {
      "tags": []
     },
     "output_type": "execute_result"
    }
   ],
   "source": [
    "#Question 9\r\n",
    "q9 = result.loc[:,[4469,'Movie ID','Title']]\r\n",
    "list_of_values = [8358,857,36657,3049,8467,671,4327]\r\n",
    "q9.loc[q9['Movie ID'].isin(list_of_values)].sort_values(by=4469,ascending=False)"
   ]
  },
  {
   "cell_type": "code",
   "execution_count": 38,
   "metadata": {
    "colab": {
     "base_uri": "https://localhost:8080/",
     "height": 235.0
    },
    "id": "96N6v1TlrYcY",
    "outputId": "ab3cf9d1-eb0b-462a-922d-8bd77443e448"
   },
   "outputs": [
    {
     "data": {
      "text/html": [
       "<div>\n",
       "<style scoped>\n",
       "    .dataframe tbody tr th:only-of-type {\n",
       "        vertical-align: middle;\n",
       "    }\n",
       "\n",
       "    .dataframe tbody tr th {\n",
       "        vertical-align: top;\n",
       "    }\n",
       "\n",
       "    .dataframe thead th {\n",
       "        text-align: right;\n",
       "    }\n",
       "</style>\n",
       "<table border=\"1\" class=\"dataframe\">\n",
       "  <thead>\n",
       "    <tr style=\"text-align: right;\">\n",
       "      <th></th>\n",
       "      <th>174</th>\n",
       "      <th>Movie ID</th>\n",
       "      <th>Title</th>\n",
       "    </tr>\n",
       "  </thead>\n",
       "  <tbody>\n",
       "    <tr>\n",
       "      <th>40</th>\n",
       "      <td>-0.001440</td>\n",
       "      <td>462</td>\n",
       "      <td>Erin Brockovich (2000)</td>\n",
       "    </tr>\n",
       "    <tr>\n",
       "      <th>8</th>\n",
       "      <td>-0.096787</td>\n",
       "      <td>77</td>\n",
       "      <td>Memento (2000)</td>\n",
       "    </tr>\n",
       "    <tr>\n",
       "      <th>3</th>\n",
       "      <td>-0.411287</td>\n",
       "      <td>14</td>\n",
       "      <td>American Beauty (1999)</td>\n",
       "    </tr>\n",
       "    <tr>\n",
       "      <th>20</th>\n",
       "      <td>-0.465392</td>\n",
       "      <td>153</td>\n",
       "      <td>Lost in Translation (2003)</td>\n",
       "    </tr>\n",
       "    <tr>\n",
       "      <th>86</th>\n",
       "      <td>-1.337438</td>\n",
       "      <td>4327</td>\n",
       "      <td>Charlie's Angels (2000)</td>\n",
       "    </tr>\n",
       "    <tr>\n",
       "      <th>90</th>\n",
       "      <td>-1.370533</td>\n",
       "      <td>8467</td>\n",
       "      <td>Dumb &amp; Dumber (1994)</td>\n",
       "    </tr>\n",
       "  </tbody>\n",
       "</table>\n",
       "</div>"
      ],
      "text/plain": [
       "         174  Movie ID                       Title\n",
       "40 -0.001440       462      Erin Brockovich (2000)\n",
       "8  -0.096787        77              Memento (2000)\n",
       "3  -0.411287        14      American Beauty (1999)\n",
       "20 -0.465392       153  Lost in Translation (2003)\n",
       "86 -1.337438      4327     Charlie's Angels (2000)\n",
       "90 -1.370533      8467        Dumb & Dumber (1994)"
      ]
     },
     "execution_count": 38,
     "metadata": {
      "tags": []
     },
     "output_type": "execute_result"
    }
   ],
   "source": [
    "#Question 10\r\n",
    "q9 = result.loc[:,[174,'Movie ID','Title']]\r\n",
    "list_of_values = [153,8467,77,14,4327,462]\r\n",
    "q9.loc[q9['Movie ID'].isin(list_of_values)].sort_values(by=174,ascending=False)"
   ]
  }
 ],
 "metadata": {
  "colab": {
   "name": "movies.ipynb",
   "provenance": [],
   "collapsed_sections": [],
   "authorship_tag": "ABX9TyMCeytxh5W++++ftsW+SWNj",
   "include_colab_link": true
  },
  "kernelspec": {
   "name": "python3",
   "display_name": "Python 3"
  }
 },
 "nbformat": 4,
 "nbformat_minor": 0
}