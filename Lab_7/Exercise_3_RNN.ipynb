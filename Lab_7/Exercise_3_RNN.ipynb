{
  "nbformat": 4,
  "nbformat_minor": 0,
  "metadata": {
    "kernelspec": {
      "display_name": "Python 3",
      "language": "python",
      "name": "python3"
    },
    "language_info": {
      "codemirror_mode": {
        "name": "ipython",
        "version": 3
      },
      "file_extension": ".py",
      "mimetype": "text/x-python",
      "name": "python",
      "nbconvert_exporter": "python",
      "pygments_lexer": "ipython3",
      "version": "3.6.5"
    },
    "colab": {
      "name": "Exercise_3_RNN.ipynb",
      "provenance": [],
      "include_colab_link": true
    },
    "accelerator": "GPU"
  },
  "cells": [
    {
      "cell_type": "markdown",
      "metadata": {
        "id": "view-in-github",
        "colab_type": "text"
      },
      "source": [
        "<a href=\"https://colab.research.google.com/github/gibsonx/CE888/blob/master/Lab_7/Exercise_3_RNN.ipynb\" target=\"_parent\"><img src=\"https://colab.research.google.com/assets/colab-badge.svg\" alt=\"Open In Colab\"/></a>"
      ]
    },
    {
      "cell_type": "code",
      "metadata": {
        "id": "2OEAdhW0qjg9",
        "colab": {
          "base_uri": "https://localhost:8080/",
          "height": 35
        },
        "outputId": "93424050-b7e6-45e7-cdfd-7be2bb473de2"
      },
      "source": [
        "import keras\n",
        "import keras.models\n",
        "keras.__version__"
      ],
      "execution_count": 1,
      "outputs": [
        {
          "output_type": "execute_result",
          "data": {
            "application/vnd.google.colaboratory.intrinsic+json": {
              "type": "string"
            },
            "text/plain": [
              "'2.4.3'"
            ]
          },
          "metadata": {
            "tags": []
          },
          "execution_count": 1
        }
      ]
    },
    {
      "cell_type": "code",
      "metadata": {
        "id": "TYsNtFxgqjhC",
        "colab": {
          "base_uri": "https://localhost:8080/"
        },
        "outputId": "ace9354c-4288-45d0-9f16-e9d7d5963db1"
      },
      "source": [
        "from keras.preprocessing.text import Tokenizer\n",
        "samples = ['The cat sat on the mat.', 'The dog ate my homework.']\n",
        "\n",
        "# We create a tokenizer, configured to only take into account the top-1000 most common words\n",
        "tokenizer = Tokenizer(num_words=1000)\n",
        "\n",
        "# This builds the word index\n",
        "tokenizer.fit_on_texts(samples)\n",
        "\n",
        "# This turns strings into lists of integer indices.\n",
        "sequences = tokenizer.texts_to_sequences(samples)\n",
        "\n",
        "# You could also directly get the one-hot binary representations.\n",
        "# Note that other vectorization modes than one-hot encoding are supported!\n",
        "one_hot_results = tokenizer.texts_to_matrix(samples, mode='binary')\n",
        "\n",
        "# This is how you can recover the word index that was computed\n",
        "word_index = tokenizer.word_index\n",
        "print('Found %s unique tokens.' % len(word_index))"
      ],
      "execution_count": 2,
      "outputs": [
        {
          "output_type": "stream",
          "text": [
            "Found 9 unique tokens.\n"
          ],
          "name": "stdout"
        }
      ]
    },
    {
      "cell_type": "code",
      "metadata": {
        "id": "_1bFuvqKqjhF",
        "colab": {
          "base_uri": "https://localhost:8080/"
        },
        "outputId": "758d395e-87ef-4194-e1df-ed09c6b03bbc"
      },
      "source": [
        "one_hot_results"
      ],
      "execution_count": 3,
      "outputs": [
        {
          "output_type": "execute_result",
          "data": {
            "text/plain": [
              "array([[0., 1., 1., ..., 0., 0., 0.],\n",
              "       [0., 1., 0., ..., 0., 0., 0.]])"
            ]
          },
          "metadata": {
            "tags": []
          },
          "execution_count": 3
        }
      ]
    },
    {
      "cell_type": "markdown",
      "metadata": {
        "id": "95o1mdJkqjhI"
      },
      "source": [
        "Using word-embeddings "
      ]
    },
    {
      "cell_type": "code",
      "metadata": {
        "id": "DSAIqfdoqjhJ",
        "colab": {
          "base_uri": "https://localhost:8080/"
        },
        "outputId": "c194838e-0f11-45bf-b9a6-cf13baa232f1"
      },
      "source": [
        "from keras.datasets import imdb\n",
        "from keras.preprocessing import sequence\n",
        "\n",
        "max_features = 10000\n",
        "maxlen = 500\n",
        "batch_size = 32\n",
        "print('Loading data...')\n",
        "(input_train, y_train), (input_test, y_test) = imdb.load_data(num_words=max_features)\n",
        "print(len(input_train), 'train sequences')\n",
        "print(len(input_test), 'test sequences')\n",
        "print('Pad sequences (samples x time)')\n",
        "input_train = sequence.pad_sequences(input_train, maxlen=maxlen)\n",
        "input_test = sequence.pad_sequences(input_test, maxlen=maxlen)\n",
        "print('input_train shape:', input_train.shape)\n",
        "print('input_test shape:', input_test.shape)"
      ],
      "execution_count": 4,
      "outputs": [
        {
          "output_type": "stream",
          "text": [
            "Loading data...\n",
            "Downloading data from https://storage.googleapis.com/tensorflow/tf-keras-datasets/imdb.npz\n",
            "17465344/17464789 [==============================] - 0s 0us/step\n"
          ],
          "name": "stdout"
        },
        {
          "output_type": "stream",
          "text": [
            "<string>:6: VisibleDeprecationWarning: Creating an ndarray from ragged nested sequences (which is a list-or-tuple of lists-or-tuples-or ndarrays with different lengths or shapes) is deprecated. If you meant to do this, you must specify 'dtype=object' when creating the ndarray\n",
            "/usr/local/lib/python3.7/dist-packages/tensorflow/python/keras/datasets/imdb.py:159: VisibleDeprecationWarning: Creating an ndarray from ragged nested sequences (which is a list-or-tuple of lists-or-tuples-or ndarrays with different lengths or shapes) is deprecated. If you meant to do this, you must specify 'dtype=object' when creating the ndarray\n",
            "  x_train, y_train = np.array(xs[:idx]), np.array(labels[:idx])\n",
            "/usr/local/lib/python3.7/dist-packages/tensorflow/python/keras/datasets/imdb.py:160: VisibleDeprecationWarning: Creating an ndarray from ragged nested sequences (which is a list-or-tuple of lists-or-tuples-or ndarrays with different lengths or shapes) is deprecated. If you meant to do this, you must specify 'dtype=object' when creating the ndarray\n",
            "  x_test, y_test = np.array(xs[idx:]), np.array(labels[idx:])\n"
          ],
          "name": "stderr"
        },
        {
          "output_type": "stream",
          "text": [
            "25000 train sequences\n",
            "25000 test sequences\n",
            "Pad sequences (samples x time)\n",
            "input_train shape: (25000, 500)\n",
            "input_test shape: (25000, 500)\n"
          ],
          "name": "stdout"
        }
      ]
    },
    {
      "cell_type": "markdown",
      "metadata": {
        "id": "5ssh97qDqjhM"
      },
      "source": [
        "### Training the model with Embedding and SimpleRNN layers"
      ]
    },
    {
      "cell_type": "code",
      "metadata": {
        "id": "t_lIlBilqjhN",
        "colab": {
          "base_uri": "https://localhost:8080/"
        },
        "outputId": "0683f771-e7be-403e-aacd-257e4f130f32"
      },
      "source": [
        "from keras.layers import Dense\n",
        "from keras.layers import Embedding, SimpleRNN\n",
        "from keras.models import Sequential\n",
        "\n",
        "model = Sequential()\n",
        "model.add(Embedding(max_features, 32))\n",
        "model.add(SimpleRNN(32))\n",
        "model.add(Dense(1, activation='sigmoid'))\n",
        "model.summary()\n",
        "model.compile(optimizer='rmsprop', loss='binary_crossentropy', metrics=['acc'])\n",
        "history = model.fit(input_train, y_train, \n",
        "                    epochs=10,\n",
        "                    batch_size=128,\n",
        "                    validation_split=0.2)"
      ],
      "execution_count": 5,
      "outputs": [
        {
          "output_type": "stream",
          "text": [
            "Model: \"sequential\"\n",
            "_________________________________________________________________\n",
            "Layer (type)                 Output Shape              Param #   \n",
            "=================================================================\n",
            "embedding (Embedding)        (None, None, 32)          320000    \n",
            "_________________________________________________________________\n",
            "simple_rnn (SimpleRNN)       (None, 32)                2080      \n",
            "_________________________________________________________________\n",
            "dense (Dense)                (None, 1)                 33        \n",
            "=================================================================\n",
            "Total params: 322,113\n",
            "Trainable params: 322,113\n",
            "Non-trainable params: 0\n",
            "_________________________________________________________________\n",
            "Epoch 1/10\n",
            "157/157 [==============================] - 57s 340ms/step - loss: 0.6719 - acc: 0.5575 - val_loss: 0.8446 - val_acc: 0.5342\n",
            "Epoch 2/10\n",
            "157/157 [==============================] - 52s 331ms/step - loss: 0.4459 - acc: 0.8017 - val_loss: 0.3911 - val_acc: 0.8286\n",
            "Epoch 3/10\n",
            "157/157 [==============================] - 53s 339ms/step - loss: 0.3131 - acc: 0.8751 - val_loss: 0.4134 - val_acc: 0.8158\n",
            "Epoch 4/10\n",
            "157/157 [==============================] - 51s 323ms/step - loss: 0.2429 - acc: 0.9067 - val_loss: 0.3799 - val_acc: 0.8428\n",
            "Epoch 5/10\n",
            "157/157 [==============================] - 53s 337ms/step - loss: 0.2010 - acc: 0.9234 - val_loss: 0.4285 - val_acc: 0.8084\n",
            "Epoch 6/10\n",
            "157/157 [==============================] - 53s 335ms/step - loss: 0.1555 - acc: 0.9446 - val_loss: 0.4456 - val_acc: 0.8344\n",
            "Epoch 7/10\n",
            "157/157 [==============================] - 54s 343ms/step - loss: 0.0962 - acc: 0.9695 - val_loss: 0.6998 - val_acc: 0.7988\n",
            "Epoch 8/10\n",
            "157/157 [==============================] - 53s 335ms/step - loss: 0.0665 - acc: 0.9784 - val_loss: 0.5187 - val_acc: 0.8152\n",
            "Epoch 9/10\n",
            "157/157 [==============================] - 52s 330ms/step - loss: 0.0374 - acc: 0.9888 - val_loss: 0.5362 - val_acc: 0.8434\n",
            "Epoch 10/10\n",
            "157/157 [==============================] - 54s 343ms/step - loss: 0.0269 - acc: 0.9926 - val_loss: 0.5615 - val_acc: 0.8326\n"
          ],
          "name": "stdout"
        }
      ]
    },
    {
      "cell_type": "code",
      "metadata": {
        "id": "w03gEZ2RqjhQ",
        "colab": {
          "base_uri": "https://localhost:8080/",
          "height": 545
        },
        "outputId": "4355219d-38a9-436d-9c76-37a3fdc2abef"
      },
      "source": [
        "import matplotlib.pyplot as plt\n",
        "\n",
        "acc = history.history['acc']\n",
        "val_acc = history.history['val_acc']\n",
        "loss = history.history['loss']\n",
        "val_loss = history.history['val_loss']\n",
        "\n",
        "epochs = range(1, len(acc) + 1)\n",
        "\n",
        "plt.plot(epochs, acc, 'bo', label='Training acc')\n",
        "plt.plot(epochs, val_acc, 'b', label='Validation acc')\n",
        "plt.title('Training and validation accuracy')\n",
        "plt.legend()\n",
        "\n",
        "plt.figure()\n",
        "\n",
        "plt.plot(epochs, loss, 'bo', label='Training loss')\n",
        "plt.plot(epochs, val_loss, 'b', label='Validation loss')\n",
        "plt.title('Training and validation loss')\n",
        "plt.legend()\n",
        "\n",
        "plt.show()"
      ],
      "execution_count": 6,
      "outputs": [
        {
          "output_type": "display_data",
          "data": {
            "image/png": "[encoded data removed]",
            "text/plain": [
              "<Figure size 432x288 with 1 Axes>"
            ]
          },
          "metadata": {
            "tags": [],
            "needs_background": "light"
          }
        },
        {
          "output_type": "display_data",
          "data": {
            "image/png": "[encoded data removed]",
            "text/plain": [
              "<Figure size 432x288 with 1 Axes>"
            ]
          },
          "metadata": {
            "tags": [],
            "needs_background": "light"
          }
        }
      ]
    },
    {
      "cell_type": "markdown",
      "metadata": {
        "id": "mz8CfgKcqjhT"
      },
      "source": [
        "### Training the model with Embedding and SimpleRNN layers"
      ]
    },
    {
      "cell_type": "code",
      "metadata": {
        "id": "U_wjH-KGqjhU",
        "colab": {
          "base_uri": "https://localhost:8080/"
        },
        "outputId": "cd9e4d40-0884-4284-f86d-435869658052"
      },
      "source": [
        "from keras.layers import LSTM\n",
        "\n",
        "model = Sequential()\n",
        "model.add(Embedding(max_features, 32))\n",
        "model.add(LSTM(32))\n",
        "model.add(Dense(1, activation='sigmoid'))\n",
        "model.compile(optimizer='rmsprop',\n",
        "loss='binary_crossentropy',\n",
        "metrics=['acc'])\n",
        "history = model.fit(input_train, y_train,\n",
        "                    epochs=10,\n",
        "                    batch_size=128,\n",
        "                    validation_split=0.2)"
      ],
      "execution_count": 7,
      "outputs": [
        {
          "output_type": "stream",
          "text": [
            "Epoch 1/10\n",
            "157/157 [==============================] - 34s 28ms/step - loss: 0.5900 - acc: 0.6821 - val_loss: 0.3204 - val_acc: 0.8764\n",
            "Epoch 2/10\n",
            "157/157 [==============================] - 4s 26ms/step - loss: 0.3187 - acc: 0.8760 - val_loss: 0.3343 - val_acc: 0.8632\n",
            "Epoch 3/10\n",
            "157/157 [==============================] - 4s 24ms/step - loss: 0.2286 - acc: 0.9135 - val_loss: 0.2831 - val_acc: 0.8876\n",
            "Epoch 4/10\n",
            "157/157 [==============================] - 4s 24ms/step - loss: 0.1933 - acc: 0.9285 - val_loss: 0.2855 - val_acc: 0.8860\n",
            "Epoch 5/10\n",
            "157/157 [==============================] - 4s 25ms/step - loss: 0.1705 - acc: 0.9376 - val_loss: 0.2958 - val_acc: 0.8786\n",
            "Epoch 6/10\n",
            "157/157 [==============================] - 4s 24ms/step - loss: 0.1419 - acc: 0.9490 - val_loss: 0.3175 - val_acc: 0.8782\n",
            "Epoch 7/10\n",
            "157/157 [==============================] - 4s 25ms/step - loss: 0.1312 - acc: 0.9537 - val_loss: 0.3829 - val_acc: 0.8802\n",
            "Epoch 8/10\n",
            "157/157 [==============================] - 4s 26ms/step - loss: 0.1255 - acc: 0.9577 - val_loss: 0.3150 - val_acc: 0.8830\n",
            "Epoch 9/10\n",
            "157/157 [==============================] - 4s 25ms/step - loss: 0.1139 - acc: 0.9611 - val_loss: 0.3665 - val_acc: 0.8764\n",
            "Epoch 10/10\n",
            "157/157 [==============================] - 4s 27ms/step - loss: 0.1067 - acc: 0.9637 - val_loss: 0.3487 - val_acc: 0.8700\n"
          ],
          "name": "stdout"
        }
      ]
    },
    {
      "cell_type": "code",
      "metadata": {
        "id": "HU4eGq-DqjhX",
        "colab": {
          "base_uri": "https://localhost:8080/",
          "height": 545
        },
        "outputId": "35af5c19-a755-488b-a33e-6849ed0a2096"
      },
      "source": [
        "import matplotlib.pyplot as plt\n",
        "\n",
        "acc = history.history['acc']\n",
        "val_acc = history.history['val_acc']\n",
        "loss = history.history['loss']\n",
        "val_loss = history.history['val_loss']\n",
        "\n",
        "epochs = range(1, len(acc) + 1)\n",
        "\n",
        "plt.plot(epochs, acc, 'bo', label='Training acc')\n",
        "plt.plot(epochs, val_acc, 'b', label='Validation acc')\n",
        "plt.title('Training and validation accuracy')\n",
        "plt.legend()\n",
        "\n",
        "plt.figure()\n",
        "\n",
        "plt.plot(epochs, loss, 'bo', label='Training loss')\n",
        "plt.plot(epochs, val_loss, 'b', label='Validation loss')\n",
        "plt.title('Training and validation loss')\n",
        "plt.legend()\n",
        "\n",
        "plt.show()"
      ],
      "execution_count": 8,
      "outputs": [
        {
          "output_type": "display_data",
          "data": {
            "image/png": "[encoded data removed]",
            "text/plain": [
              "<Figure size 432x288 with 1 Axes>"
            ]
          },
          "metadata": {
            "tags": [],
            "needs_background": "light"
          }
        },
        {
          "output_type": "display_data",
          "data": {
            "image/png": "[encoded data removed]",
            "text/plain": [
              "<Figure size 432x288 with 1 Axes>"
            ]
          },
          "metadata": {
            "tags": [],
            "needs_background": "light"
          }
        }
      ]
    },
    {
      "cell_type": "markdown",
      "metadata": {
        "id": "r69U5tFUZ82R"
      },
      "source": [
        "### Task 3: \n",
        "\n",
        "Please consider this Time Series Prediction with LSTM Recurrent Neural Networks. We can see that the LSTM model in the code below has an average error of about 23 passengers (in thousands) on the training dataset, and about 53 passengers (in thousands) on the test dataset. Not that bad. Can you please improve the performance?\n",
        "\n",
        "#### Dataset Discription\n",
        "The problem we are going to look at in this post is the International Airline Passengers prediction problem.\n",
        "This is a problem where, given a year and a month, the task is to predict the number of international airline passengers in units of 1,000. The data ranges from January 1949 to December 1960, or 12 years, with 144 observations.\n",
        "\n"
      ]
    },
    {
      "cell_type": "code",
      "metadata": {
        "id": "w1vSusoyatCW",
        "colab": {
          "base_uri": "https://localhost:8080/",
          "height": 1000
        },
        "outputId": "105c2a1f-7937-4945-bba1-1c93a183ee7f"
      },
      "source": [
        "import numpy\n",
        "import math\n",
        "import matplotlib.pyplot as plt\n",
        "from pandas import read_csv\n",
        "from keras.models import Sequential\n",
        "from keras.layers import Dense\n",
        "from keras.layers import LSTM\n",
        "from sklearn.preprocessing import MinMaxScaler\n",
        "from sklearn.metrics import mean_squared_error\n",
        "# convert an array of values into a dataset matrix\n",
        "def create_dataset(dataset, look_back=1):\n",
        "\tdataX, dataY = [], []\n",
        "\tfor i in range(len(dataset)-look_back-1):\n",
        "\t\ta = dataset[i:(i+look_back), 0]\n",
        "\t\tdataX.append(a)\n",
        "\t\tdataY.append(dataset[i + look_back, 0])\n",
        "\treturn numpy.array(dataX), numpy.array(dataY)\n",
        "# fix random seed for reproducibility\n",
        "numpy.random.seed(7)\n",
        "# load the dataset\n",
        "dataframe = read_csv('https://raw.githubusercontent.com/jbrownlee/Datasets/master/airline-passengers.csv', usecols=[1], engine='python')\n",
        "dataset = dataframe.values\n",
        "dataset = dataset.astype('float32')\n",
        "# normalize the dataset\n",
        "scaler = MinMaxScaler(feature_range=(0, 1))\n",
        "dataset = scaler.fit_transform(dataset)\n",
        "# split into train and test sets\n",
        "train_size = int(len(dataset) * 0.67)\n",
        "test_size = len(dataset) - train_size\n",
        "train, test = dataset[0:train_size,:], dataset[train_size:len(dataset),:]\n",
        "# reshape into X=t and Y=t+1\n",
        "look_back = 10  #####retrospect more historical memory######\n",
        "trainX, trainY = create_dataset(train, look_back)\n",
        "testX, testY = create_dataset(test, look_back)\n",
        "# reshape input to be [samples, time steps, features]\n",
        "trainX = numpy.reshape(trainX, (trainX.shape[0], 1, trainX.shape[1]))\n",
        "testX = numpy.reshape(testX, (testX.shape[0], 1, testX.shape[1]))\n",
        "# create and fit the LSTM network\n",
        "model = Sequential()\n",
        "model.add(LSTM(32, input_shape=(1, look_back)))\n",
        "model.add(Dense(1))\n",
        "model.compile(loss='mean_squared_error', optimizer='adam')\n",
        "model.fit(trainX, trainY, epochs=100, batch_size=1, verbose=2)\n",
        "# make predictions\n",
        "trainPredict = model.predict(trainX)\n",
        "testPredict = model.predict(testX)\n",
        "# invert predictions\n",
        "trainPredict = scaler.inverse_transform(trainPredict)\n",
        "trainY = scaler.inverse_transform([trainY])\n",
        "testPredict = scaler.inverse_transform(testPredict)\n",
        "testY = scaler.inverse_transform([testY])\n",
        "# calculate root mean squared error\n",
        "trainScore = math.sqrt(mean_squared_error(trainY[0], trainPredict[:,0]))\n",
        "print('Train Score: %.2f RMSE' % (trainScore))\n",
        "testScore = math.sqrt(mean_squared_error(testY[0], testPredict[:,0]))\n",
        "print('Test Score: %.2f RMSE' % (testScore))\n",
        "# shift train predictions for plotting\n",
        "trainPredictPlot = numpy.empty_like(dataset)\n",
        "trainPredictPlot[:, :] = numpy.nan\n",
        "trainPredictPlot[look_back:len(trainPredict)+look_back, :] = trainPredict\n",
        "# shift test predictions for plotting\n",
        "testPredictPlot = numpy.empty_like(dataset)\n",
        "testPredictPlot[:, :] = numpy.nan\n",
        "testPredictPlot[len(trainPredict)+(look_back*2)+1:len(dataset)-1, :] = testPredict\n",
        "# plot baseline and predictions\n",
        "plt.plot(scaler.inverse_transform(dataset))\n",
        "plt.plot(trainPredictPlot)\n",
        "plt.plot(testPredictPlot)\n",
        "plt.show()"
      ],
      "execution_count": 27,
      "outputs": [
        {
          "output_type": "stream",
          "text": [
            "Epoch 1/100\n",
            "85/85 - 1s - loss: 0.0135\n",
            "Epoch 2/100\n",
            "85/85 - 0s - loss: 0.0059\n",
            "Epoch 3/100\n",
            "85/85 - 0s - loss: 0.0051\n",
            "Epoch 4/100\n",
            "85/85 - 0s - loss: 0.0050\n",
            "Epoch 5/100\n",
            "85/85 - 0s - loss: 0.0044\n",
            "Epoch 6/100\n",
            "85/85 - 0s - loss: 0.0041\n",
            "Epoch 7/100\n",
            "85/85 - 0s - loss: 0.0039\n",
            "Epoch 8/100\n",
            "85/85 - 0s - loss: 0.0035\n",
            "Epoch 9/100\n",
            "85/85 - 0s - loss: 0.0033\n",
            "Epoch 10/100\n",
            "85/85 - 0s - loss: 0.0033\n",
            "Epoch 11/100\n",
            "85/85 - 0s - loss: 0.0030\n",
            "Epoch 12/100\n",
            "85/85 - 0s - loss: 0.0028\n",
            "Epoch 13/100\n",
            "85/85 - 0s - loss: 0.0026\n",
            "Epoch 14/100\n",
            "85/85 - 0s - loss: 0.0027\n",
            "Epoch 15/100\n",
            "85/85 - 0s - loss: 0.0023\n",
            "Epoch 16/100\n",
            "85/85 - 0s - loss: 0.0024\n",
            "Epoch 17/100\n",
            "85/85 - 0s - loss: 0.0022\n",
            "Epoch 18/100\n",
            "85/85 - 0s - loss: 0.0021\n",
            "Epoch 19/100\n",
            "85/85 - 0s - loss: 0.0020\n",
            "Epoch 20/100\n",
            "85/85 - 0s - loss: 0.0020\n",
            "Epoch 21/100\n",
            "85/85 - 0s - loss: 0.0019\n",
            "Epoch 22/100\n",
            "85/85 - 0s - loss: 0.0020\n",
            "Epoch 23/100\n",
            "85/85 - 0s - loss: 0.0017\n",
            "Epoch 24/100\n",
            "85/85 - 0s - loss: 0.0019\n",
            "Epoch 25/100\n",
            "85/85 - 0s - loss: 0.0021\n",
            "Epoch 26/100\n",
            "85/85 - 0s - loss: 0.0017\n",
            "Epoch 27/100\n",
            "85/85 - 0s - loss: 0.0016\n",
            "Epoch 28/100\n",
            "85/85 - 0s - loss: 0.0017\n",
            "Epoch 29/100\n",
            "85/85 - 0s - loss: 0.0017\n",
            "Epoch 30/100\n",
            "85/85 - 0s - loss: 0.0017\n",
            "Epoch 31/100\n",
            "85/85 - 0s - loss: 0.0019\n",
            "Epoch 32/100\n",
            "85/85 - 0s - loss: 0.0016\n",
            "Epoch 33/100\n",
            "85/85 - 0s - loss: 0.0016\n",
            "Epoch 34/100\n",
            "85/85 - 0s - loss: 0.0016\n",
            "Epoch 35/100\n",
            "85/85 - 0s - loss: 0.0019\n",
            "Epoch 36/100\n",
            "85/85 - 0s - loss: 0.0014\n",
            "Epoch 37/100\n",
            "85/85 - 0s - loss: 0.0015\n",
            "Epoch 38/100\n",
            "85/85 - 0s - loss: 0.0014\n",
            "Epoch 39/100\n",
            "85/85 - 0s - loss: 0.0016\n",
            "Epoch 40/100\n",
            "85/85 - 0s - loss: 0.0013\n",
            "Epoch 41/100\n",
            "85/85 - 0s - loss: 0.0016\n",
            "Epoch 42/100\n",
            "85/85 - 0s - loss: 0.0014\n",
            "Epoch 43/100\n",
            "85/85 - 0s - loss: 0.0016\n",
            "Epoch 44/100\n",
            "85/85 - 0s - loss: 0.0017\n",
            "Epoch 45/100\n",
            "85/85 - 0s - loss: 0.0014\n",
            "Epoch 46/100\n",
            "85/85 - 0s - loss: 0.0014\n",
            "Epoch 47/100\n",
            "85/85 - 0s - loss: 0.0014\n",
            "Epoch 48/100\n",
            "85/85 - 0s - loss: 0.0016\n",
            "Epoch 49/100\n",
            "85/85 - 0s - loss: 0.0017\n",
            "Epoch 50/100\n",
            "85/85 - 0s - loss: 0.0015\n",
            "Epoch 51/100\n",
            "85/85 - 0s - loss: 0.0014\n",
            "Epoch 52/100\n",
            "85/85 - 0s - loss: 0.0015\n",
            "Epoch 53/100\n",
            "85/85 - 0s - loss: 0.0015\n",
            "Epoch 54/100\n",
            "85/85 - 0s - loss: 0.0013\n",
            "Epoch 55/100\n",
            "85/85 - 0s - loss: 0.0013\n",
            "Epoch 56/100\n",
            "85/85 - 0s - loss: 0.0014\n",
            "Epoch 57/100\n",
            "85/85 - 0s - loss: 0.0014\n",
            "Epoch 58/100\n",
            "85/85 - 0s - loss: 0.0015\n",
            "Epoch 59/100\n",
            "85/85 - 0s - loss: 0.0015\n",
            "Epoch 60/100\n",
            "85/85 - 0s - loss: 0.0014\n",
            "Epoch 61/100\n",
            "85/85 - 0s - loss: 0.0014\n",
            "Epoch 62/100\n",
            "85/85 - 0s - loss: 0.0014\n",
            "Epoch 63/100\n",
            "85/85 - 0s - loss: 0.0014\n",
            "Epoch 64/100\n",
            "85/85 - 0s - loss: 0.0013\n",
            "Epoch 65/100\n",
            "85/85 - 0s - loss: 0.0013\n",
            "Epoch 66/100\n",
            "85/85 - 0s - loss: 0.0013\n",
            "Epoch 67/100\n",
            "85/85 - 0s - loss: 0.0014\n",
            "Epoch 68/100\n",
            "85/85 - 0s - loss: 0.0013\n",
            "Epoch 69/100\n",
            "85/85 - 0s - loss: 0.0014\n",
            "Epoch 70/100\n",
            "85/85 - 0s - loss: 0.0013\n",
            "Epoch 71/100\n",
            "85/85 - 0s - loss: 0.0015\n",
            "Epoch 72/100\n",
            "85/85 - 0s - loss: 0.0014\n",
            "Epoch 73/100\n",
            "85/85 - 0s - loss: 0.0013\n",
            "Epoch 74/100\n",
            "85/85 - 0s - loss: 0.0014\n",
            "Epoch 75/100\n",
            "85/85 - 0s - loss: 0.0014\n",
            "Epoch 76/100\n",
            "85/85 - 0s - loss: 0.0013\n",
            "Epoch 77/100\n",
            "85/85 - 0s - loss: 0.0013\n",
            "Epoch 78/100\n",
            "85/85 - 0s - loss: 0.0014\n",
            "Epoch 79/100\n",
            "85/85 - 0s - loss: 0.0014\n",
            "Epoch 80/100\n",
            "85/85 - 0s - loss: 0.0013\n",
            "Epoch 81/100\n",
            "85/85 - 0s - loss: 0.0014\n",
            "Epoch 82/100\n",
            "85/85 - 0s - loss: 0.0013\n",
            "Epoch 83/100\n",
            "85/85 - 0s - loss: 0.0016\n",
            "Epoch 84/100\n",
            "85/85 - 0s - loss: 0.0012\n",
            "Epoch 85/100\n",
            "85/85 - 0s - loss: 0.0014\n",
            "Epoch 86/100\n",
            "85/85 - 0s - loss: 0.0015\n",
            "Epoch 87/100\n",
            "85/85 - 0s - loss: 0.0013\n",
            "Epoch 88/100\n",
            "85/85 - 0s - loss: 0.0014\n",
            "Epoch 89/100\n",
            "85/85 - 0s - loss: 0.0012\n",
            "Epoch 90/100\n",
            "85/85 - 0s - loss: 0.0013\n",
            "Epoch 91/100\n",
            "85/85 - 0s - loss: 0.0015\n",
            "Epoch 92/100\n",
            "85/85 - 0s - loss: 0.0013\n",
            "Epoch 93/100\n",
            "85/85 - 0s - loss: 0.0015\n",
            "Epoch 94/100\n",
            "85/85 - 0s - loss: 0.0014\n",
            "Epoch 95/100\n",
            "85/85 - 0s - loss: 0.0013\n",
            "Epoch 96/100\n",
            "85/85 - 0s - loss: 0.0012\n",
            "Epoch 97/100\n",
            "85/85 - 0s - loss: 0.0014\n",
            "Epoch 98/100\n",
            "85/85 - 0s - loss: 0.0014\n",
            "Epoch 99/100\n",
            "85/85 - 0s - loss: 0.0013\n",
            "Epoch 100/100\n",
            "85/85 - 0s - loss: 0.0013\n",
            "Train Score: 18.15 RMSE\n",
            "Test Score: 38.63 RMSE\n"
          ],
          "name": "stdout"
        },
        {
          "output_type": "display_data",
          "data": {
            "image/png": "[encoded data removed]",
            "text/plain": [
              "<Figure size 432x288 with 1 Axes>"
            ]
          },
          "metadata": {
            "tags": [],
            "needs_background": "light"
          }
        }
      ]
    },
    {
      "cell_type": "markdown",
      "metadata": {
        "id": "ZSz24HhlbUPF"
      },
      "source": [
        ""
      ]
    }
  ]
}