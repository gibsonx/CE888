{
  "nbformat": 4,
  "nbformat_minor": 0,
  "metadata": {
    "colab": {
      "name": "Exercise2_DogvsCat_CNN.ipynb",
      "provenance": [],
      "include_colab_link": true
    },
    "kernelspec": {
      "name": "python3",
      "display_name": "Python 3"
    },
    "accelerator": "GPU"
  },
  "cells": [
    {
      "cell_type": "markdown",
      "metadata": {
        "id": "view-in-github",
        "colab_type": "text"
      },
      "source": [
        "<a href=\"https://colab.research.google.com/github/gibsonx/CE888/blob/master/Lab_7/Exercise2_DogvsCat_CNN.ipynb\" target=\"_parent\"><img src=\"https://colab.research.google.com/assets/colab-badge.svg\" alt=\"Open In Colab\"/></a>"
      ]
    },
    {
      "cell_type": "markdown",
      "metadata": {
        "id": "qTh9DiKVslsJ"
      },
      "source": [
        "## Dogs vs. Cats \n",
        "\n",
        "In this competition, you'll write an algorithm to classify whether images contain either a dog or a cat.  This is easy for humans, dogs, and cats. Your computer will find it a bit more difficult.\n",
        "\n",
        "![alt text](https://miro.medium.com/max/3000/1*bhFifratH9DjKqMBTeQG5A.gif)\n",
        "\n",
        "Ref: https://medium.com/@thegrigorian/rolling-in-the-deep-cnn-c8d3f7108c8c"
      ]
    },
    {
      "cell_type": "markdown",
      "metadata": {
        "id": "RSBI-_mSSY1g"
      },
      "source": [
        "Get your API Key from Kaggle using following steps:\n",
        "1. Login to [Kaggle](https://www.kaggle.com/) or Register if you don't have account\n",
        "2. Open Dataset (https://www.kaggle.com/c/dogs-vs-cats/rules) and accept terms and condition. \n",
        "3. On the top right corner click on your Icon and go to accounts and press a button \"Create New API Token\". It will download a JSON file containing your username and key. \n",
        "4. Now, paste both below. \n"
      ]
    },
    {
      "cell_type": "code",
      "metadata": {
        "id": "YmXSOc0tZIGA",
        "colab": {
          "base_uri": "https://localhost:8080/"
        },
        "outputId": "d13125a5-99e6-4198-a12d-c6bf42e18cf2"
      },
      "source": [
        "import os\n",
        "os.environ['KAGGLE_USERNAME'] = \"gibsonxue\" # username from the json file\n",
        "os.environ['KAGGLE_KEY'] = \"da93103d39a26bc099e159eeae9ea785\" # key from the json file\n",
        "!kaggle competitions download -c dogs-vs-cats # api copied from kaggle (https://www.kaggle.com/c/dogs-vs-cats/data)"
      ],
      "execution_count": 2,
      "outputs": [
        {
          "output_type": "stream",
          "text": [
            "Warning: Looks like you're using an outdated API Version, please consider updating (server 1.5.10 / client 1.5.4)\n",
            "train.zip: Skipping, found more recently modified local copy (use --force to force download)\n",
            "sampleSubmission.csv: Skipping, found more recently modified local copy (use --force to force download)\n",
            "test1.zip: Skipping, found more recently modified local copy (use --force to force download)\n"
          ],
          "name": "stdout"
        }
      ]
    },
    {
      "cell_type": "code",
      "metadata": {
        "id": "PiwIL8d1n7eS",
        "colab": {
          "base_uri": "https://localhost:8080/"
        },
        "outputId": "ab2c0d3b-e094-449c-f566-dc187ec924c9"
      },
      "source": [
        "# Unzip training data\n",
        "from zipfile import ZipFile\n",
        "file_name = \"/content/train.zip\"\n",
        "with ZipFile(file_name, 'r') as zip:\n",
        "  zip.extractall()\n",
        "  print('done')"
      ],
      "execution_count": 3,
      "outputs": [
        {
          "output_type": "stream",
          "text": [
            "done\n"
          ],
          "name": "stdout"
        }
      ]
    },
    {
      "cell_type": "code",
      "metadata": {
        "id": "sa2Bj5i7pPKV",
        "colab": {
          "base_uri": "https://localhost:8080/"
        },
        "outputId": "f1bb4a3a-fba4-4d36-8319-702630949024"
      },
      "source": [
        "# Get all the paths\n",
        "data_dir_list = os.listdir('/content/train')\n",
        "#print(data_dir_list)\n",
        "path, dirs, files = next(os.walk(\"/content/train\"))\n",
        "file_count = len(files)\n",
        "print(file_count)"
      ],
      "execution_count": 4,
      "outputs": [
        {
          "output_type": "stream",
          "text": [
            "25000\n"
          ],
          "name": "stdout"
        }
      ]
    },
    {
      "cell_type": "code",
      "metadata": {
        "id": "0ERlHkfHqpK8"
      },
      "source": [
        "# Make new base directory\n",
        "original_dataset_dir = '/content/train'\n",
        "base_dir = '/content/cats_and_dogs_small'\n",
        "os.mkdir(base_dir)"
      ],
      "execution_count": 5,
      "outputs": []
    },
    {
      "cell_type": "code",
      "metadata": {
        "id": "AANB1UJ6rQhM"
      },
      "source": [
        "train_dir = os.path.join(base_dir, 'train')\n",
        "os.mkdir(train_dir)\n",
        "\n",
        "validation_dir = os.path.join(base_dir, 'validation')\n",
        "os.mkdir(validation_dir)\n",
        "\n",
        "test_dir = os.path.join(base_dir, 'test')\n",
        "os.mkdir(test_dir)\n",
        "\n",
        "train_cats_dir = os.path.join(train_dir, 'cats')\n",
        "os.mkdir(train_cats_dir)\n",
        "\n",
        "train_dogs_dir = os.path.join(train_dir, 'dogs')\n",
        "os.mkdir(train_dogs_dir)\n",
        "\n",
        "validation_cats_dir = os.path.join(validation_dir, 'cats')\n",
        "os.mkdir(validation_cats_dir)\n",
        "\n",
        "validation_dogs_dir = os.path.join(validation_dir, 'dogs')\n",
        "os.mkdir(validation_dogs_dir)\n",
        "\n",
        "test_cats_dir = os.path.join(test_dir, 'cats')\n",
        "os.mkdir(test_cats_dir)\n",
        "\n",
        "test_dogs_dir = os.path.join(test_dir, 'dogs')\n",
        "os.mkdir(test_dogs_dir)"
      ],
      "execution_count": 6,
      "outputs": []
    },
    {
      "cell_type": "code",
      "metadata": {
        "id": "ULRgL9s9rV8T"
      },
      "source": [
        "import shutil\n",
        "fnames = ['cat.{}.jpg'.format(i) for i in range(1000)]\n",
        "for fname in fnames:\n",
        "    src = os.path.join(original_dataset_dir, fname)\n",
        "    dst = os.path.join(train_cats_dir, fname)\n",
        "    #print(src,dst)\n",
        "    shutil.copyfile(src, dst)\n",
        "    \n",
        "fnames = ['cat.{}.jpg'.format(i) for i in range(1000, 1500)]\n",
        "for fname in fnames:\n",
        "    src = os.path.join(original_dataset_dir, fname)\n",
        "    dst = os.path.join(validation_cats_dir, fname)\n",
        "    shutil.copyfile(src, dst)\n",
        "\n",
        "fnames = ['cat.{}.jpg'.format(i) for i in range(1500, 2000)]\n",
        "for fname in fnames:\n",
        "    src = os.path.join(original_dataset_dir, fname)\n",
        "    dst = os.path.join(test_cats_dir, fname)\n",
        "    shutil.copyfile(src, dst)\n",
        "    \n",
        "fnames = ['dog.{}.jpg'.format(i) for i in range(1000)]\n",
        "for fname in fnames:\n",
        "    src = os.path.join(original_dataset_dir, fname)\n",
        "    dst = os.path.join(train_dogs_dir, fname)\n",
        "    shutil.copyfile(src, dst)\n",
        "\n",
        "fnames = ['dog.{}.jpg'.format(i) for i in range(1000, 1500)]\n",
        "for fname in fnames:\n",
        "    src = os.path.join(original_dataset_dir, fname)\n",
        "    dst = os.path.join(validation_dogs_dir, fname)\n",
        "    shutil.copyfile(src, dst)\n",
        "\n",
        "fnames = ['dog.{}.jpg'.format(i) for i in range(1500, 2000)]\n",
        "for fname in fnames:\n",
        "    src = os.path.join(original_dataset_dir, fname)\n",
        "    dst = os.path.join(test_dogs_dir, fname)\n",
        "    shutil.copyfile(src, dst)"
      ],
      "execution_count": 7,
      "outputs": []
    },
    {
      "cell_type": "code",
      "metadata": {
        "id": "ul3XAbIyr7vC",
        "colab": {
          "base_uri": "https://localhost:8080/"
        },
        "outputId": "7ead3e03-41bc-422c-a3ba-324f4e1d5ef5"
      },
      "source": [
        "print('total training cat images:', len(os.listdir(train_cats_dir)))\n",
        "print('total training dog images:', len(os.listdir(train_dogs_dir)))\n",
        "print('total validation cat images:', len(os.listdir(validation_cats_dir)))\n",
        "\n",
        "print('total validation dog images:', len(os.listdir(validation_dogs_dir)))\n",
        "print('total test cat images:', len(os.listdir(test_cats_dir)))\n",
        "print('total test dog images:', len(os.listdir(test_dogs_dir)))"
      ],
      "execution_count": 8,
      "outputs": [
        {
          "output_type": "stream",
          "text": [
            "total training cat images: 1000\n",
            "total training dog images: 1000\n",
            "total validation cat images: 500\n",
            "total validation dog images: 500\n",
            "total test cat images: 500\n",
            "total test dog images: 500\n"
          ],
          "name": "stdout"
        }
      ]
    },
    {
      "cell_type": "code",
      "metadata": {
        "id": "o9yTA21_r-ma",
        "colab": {
          "base_uri": "https://localhost:8080/"
        },
        "outputId": "8a6b981c-fe1d-458a-a6ef-7c3fd2cc09d2"
      },
      "source": [
        "from keras import layers\n",
        "from keras import models\n",
        "\n",
        "model = models.Sequential()\n",
        "model.add(layers.Conv2D(32, (3, 3), activation='relu', input_shape=(150, 150, 3)))\n",
        "model.add(layers.MaxPooling2D((2, 2)))\n",
        "model.add(layers.Conv2D(64, (3, 3), activation='relu'))\n",
        "model.add(layers.MaxPooling2D((2, 2)))\n",
        "model.add(layers.Conv2D(128, (3, 3), activation='relu'))\n",
        "model.add(layers.MaxPooling2D((2, 2)))\n",
        "model.add(layers.Conv2D(128, (3, 3), activation='relu'))\n",
        "model.add(layers.MaxPooling2D((2, 2)))\n",
        "model.add(layers.Flatten())\n",
        "model.add(layers.Dense(512, activation='relu'))\n",
        "model.add(layers.Dense(1, activation='sigmoid'))\n",
        "model.summary()"
      ],
      "execution_count": 9,
      "outputs": [
        {
          "output_type": "stream",
          "text": [
            "Model: \"sequential\"\n",
            "_________________________________________________________________\n",
            "Layer (type)                 Output Shape              Param #   \n",
            "=================================================================\n",
            "conv2d (Conv2D)              (None, 148, 148, 32)      896       \n",
            "_________________________________________________________________\n",
            "max_pooling2d (MaxPooling2D) (None, 74, 74, 32)        0         \n",
            "_________________________________________________________________\n",
            "conv2d_1 (Conv2D)            (None, 72, 72, 64)        18496     \n",
            "_________________________________________________________________\n",
            "max_pooling2d_1 (MaxPooling2 (None, 36, 36, 64)        0         \n",
            "_________________________________________________________________\n",
            "conv2d_2 (Conv2D)            (None, 34, 34, 128)       73856     \n",
            "_________________________________________________________________\n",
            "max_pooling2d_2 (MaxPooling2 (None, 17, 17, 128)       0         \n",
            "_________________________________________________________________\n",
            "conv2d_3 (Conv2D)            (None, 15, 15, 128)       147584    \n",
            "_________________________________________________________________\n",
            "max_pooling2d_3 (MaxPooling2 (None, 7, 7, 128)         0         \n",
            "_________________________________________________________________\n",
            "flatten (Flatten)            (None, 6272)              0         \n",
            "_________________________________________________________________\n",
            "dense (Dense)                (None, 512)               3211776   \n",
            "_________________________________________________________________\n",
            "dense_1 (Dense)              (None, 1)                 513       \n",
            "=================================================================\n",
            "Total params: 3,453,121\n",
            "Trainable params: 3,453,121\n",
            "Non-trainable params: 0\n",
            "_________________________________________________________________\n"
          ],
          "name": "stdout"
        }
      ]
    },
    {
      "cell_type": "code",
      "metadata": {
        "id": "2mG8wekxsBVS"
      },
      "source": [
        "from keras import optimizers\n",
        "model.compile(loss='binary_crossentropy', \n",
        "              optimizer=optimizers.RMSprop(lr=1e-4),\n",
        "              metrics=['acc'])"
      ],
      "execution_count": 10,
      "outputs": []
    },
    {
      "cell_type": "markdown",
      "metadata": {
        "id": "7zS4Klm8qWp6"
      },
      "source": [
        "## Using ImageDataGenerator to read images from directories\n",
        "As you know by now, data should be formatted into appropriately preprocessed floatingpoint tensors before being fed into the network. Currently, the data sits on a drive as JPEG files, so the steps for getting it into the network are roughly as follows:\n",
        "\n",
        "* Read the picture files.\n",
        "* Decode the JPEG content to RGB grids of pixels.\n",
        "* Convert these into floating-point tensors.\n",
        "* Rescale the pixel values (between 0 and 255) to the [0, 1] interval (as you know, neural networks prefer to deal with small input values).\n",
        "\n",
        "It may seem a bit daunting, but fortunately Keras has utilities to take care of these steps automatically. Keras has a module with image-processing helper tools, located at keras.preprocessing.image. In particular, it contains the class ImageDataGenerator,which lets you quickly set up Python generators that can automatically turn image files on disk into batches of preprocessed tensors."
      ]
    },
    {
      "cell_type": "code",
      "metadata": {
        "id": "XJ7XU7t9sEh6",
        "colab": {
          "base_uri": "https://localhost:8080/"
        },
        "outputId": "c01e7b52-e888-46e4-af10-346015566489"
      },
      "source": [
        "from keras.preprocessing.image import ImageDataGenerator\n",
        "\n",
        "train_datagen = ImageDataGenerator(rescale=1./255)\n",
        "test_datagen = ImageDataGenerator(rescale=1./255)\n",
        "\n",
        "train_generator = train_datagen.flow_from_directory(train_dir,\n",
        "                                                    target_size=(150, 150), \n",
        "                                                    batch_size=20,\n",
        "                                                    class_mode='binary')\n",
        "\n",
        "validation_generator = test_datagen.flow_from_directory(validation_dir,\n",
        "                                                        target_size=(150, 150),\n",
        "                                                        batch_size=20,\n",
        "                                                        class_mode='binary')"
      ],
      "execution_count": 11,
      "outputs": [
        {
          "output_type": "stream",
          "text": [
            "Found 2000 images belonging to 2 classes.\n",
            "Found 1000 images belonging to 2 classes.\n"
          ],
          "name": "stdout"
        }
      ]
    },
    {
      "cell_type": "markdown",
      "metadata": {
        "id": "SEgLywySqm4u"
      },
      "source": [
        "Let’s fit the model to the data using the generator. You do so using the fit_generator method, the equivalent of fit for data generators like this one. It expects as its first argument a Python generator that will yield batches of inputs and targets indefinitely,like this one does. Because the data is being generated endlessly, the Keras model needs to know how many samples to draw from the generator before declaring anepoch over. This is the role of the `steps_per_epoch` argument: after having drawn `steps_per_epoch` batches from the generator—that is, after having run for `steps_per_epoch` gradient descent steps—the fitting process will go to the next epoch. In this case, batches are 20 samples, so it will take 100 batches until you see your target of 2,000 samples.\n",
        "\n",
        "When using fit_generator, you can pass a validation_data argument, much as with the fit method. It’s important to note that this argument is allowed to be a data generator, but it could also be a tuple of Numpy arrays. If you pass a generator as validation_data, then this generator is expected to yield batches of validation data endlessly; thus you should also specify the validation_steps argument, which tells the process how many batches to draw from the validation generator for evaluation."
      ]
    },
    {
      "cell_type": "code",
      "metadata": {
        "id": "yMyfPphJsJG6",
        "colab": {
          "base_uri": "https://localhost:8080/"
        },
        "outputId": "55f74adf-5240-4dbc-c0a0-d692f7ac9e6a"
      },
      "source": [
        "history = model.fit_generator(train_generator,\n",
        "                              steps_per_epoch=100,\n",
        "                              epochs=30,\n",
        "                              validation_data=validation_generator,\n",
        "                              validation_steps=10)"
      ],
      "execution_count": 12,
      "outputs": [
        {
          "output_type": "stream",
          "text": [
            "/usr/local/lib/python3.7/dist-packages/tensorflow/python/keras/engine/training.py:1844: UserWarning: `Model.fit_generator` is deprecated and will be removed in a future version. Please use `Model.fit`, which supports generators.\n",
            "  warnings.warn('`Model.fit_generator` is deprecated and '\n"
          ],
          "name": "stderr"
        },
        {
          "output_type": "stream",
          "text": [
            "Epoch 1/30\n",
            "100/100 [==============================] - 40s 70ms/step - loss: 0.7061 - acc: 0.5405 - val_loss: 0.6912 - val_acc: 0.5050\n",
            "Epoch 2/30\n",
            "100/100 [==============================] - 7s 68ms/step - loss: 0.6672 - acc: 0.5755 - val_loss: 0.6506 - val_acc: 0.6050\n",
            "Epoch 3/30\n",
            "100/100 [==============================] - 7s 68ms/step - loss: 0.6342 - acc: 0.6512 - val_loss: 0.6371 - val_acc: 0.6000\n",
            "Epoch 4/30\n",
            "100/100 [==============================] - 7s 68ms/step - loss: 0.5755 - acc: 0.7091 - val_loss: 0.6472 - val_acc: 0.5850\n",
            "Epoch 5/30\n",
            "100/100 [==============================] - 7s 67ms/step - loss: 0.5381 - acc: 0.7413 - val_loss: 0.5446 - val_acc: 0.7150\n",
            "Epoch 6/30\n",
            "100/100 [==============================] - 7s 69ms/step - loss: 0.5139 - acc: 0.7396 - val_loss: 0.5562 - val_acc: 0.7100\n",
            "Epoch 7/30\n",
            "100/100 [==============================] - 7s 69ms/step - loss: 0.4804 - acc: 0.7721 - val_loss: 0.5672 - val_acc: 0.7250\n",
            "Epoch 8/30\n",
            "100/100 [==============================] - 7s 70ms/step - loss: 0.4354 - acc: 0.8076 - val_loss: 0.5548 - val_acc: 0.7150\n",
            "Epoch 9/30\n",
            "100/100 [==============================] - 7s 69ms/step - loss: 0.4191 - acc: 0.8109 - val_loss: 0.6099 - val_acc: 0.6900\n",
            "Epoch 10/30\n",
            "100/100 [==============================] - 7s 69ms/step - loss: 0.3947 - acc: 0.8223 - val_loss: 0.6252 - val_acc: 0.6900\n",
            "Epoch 11/30\n",
            "100/100 [==============================] - 7s 69ms/step - loss: 0.3704 - acc: 0.8429 - val_loss: 0.5728 - val_acc: 0.6850\n",
            "Epoch 12/30\n",
            "100/100 [==============================] - 7s 69ms/step - loss: 0.3384 - acc: 0.8536 - val_loss: 0.4628 - val_acc: 0.7900\n",
            "Epoch 13/30\n",
            "100/100 [==============================] - 7s 68ms/step - loss: 0.3010 - acc: 0.8870 - val_loss: 0.6141 - val_acc: 0.7250\n",
            "Epoch 14/30\n",
            "100/100 [==============================] - 7s 69ms/step - loss: 0.2820 - acc: 0.8818 - val_loss: 0.5615 - val_acc: 0.7200\n",
            "Epoch 15/30\n",
            "100/100 [==============================] - 7s 70ms/step - loss: 0.2560 - acc: 0.9030 - val_loss: 0.6539 - val_acc: 0.6900\n",
            "Epoch 16/30\n",
            "100/100 [==============================] - 7s 69ms/step - loss: 0.2369 - acc: 0.9183 - val_loss: 0.6037 - val_acc: 0.7550\n",
            "Epoch 17/30\n",
            "100/100 [==============================] - 7s 68ms/step - loss: 0.2124 - acc: 0.9185 - val_loss: 0.7109 - val_acc: 0.7100\n",
            "Epoch 18/30\n",
            "100/100 [==============================] - 7s 70ms/step - loss: 0.2016 - acc: 0.9222 - val_loss: 0.5753 - val_acc: 0.7600\n",
            "Epoch 19/30\n",
            "100/100 [==============================] - 7s 69ms/step - loss: 0.1797 - acc: 0.9351 - val_loss: 0.6541 - val_acc: 0.7400\n",
            "Epoch 20/30\n",
            "100/100 [==============================] - 7s 69ms/step - loss: 0.1340 - acc: 0.9626 - val_loss: 0.7634 - val_acc: 0.6950\n",
            "Epoch 21/30\n",
            "100/100 [==============================] - 7s 69ms/step - loss: 0.1233 - acc: 0.9645 - val_loss: 0.7193 - val_acc: 0.6950\n",
            "Epoch 22/30\n",
            "100/100 [==============================] - 7s 68ms/step - loss: 0.1090 - acc: 0.9712 - val_loss: 0.7893 - val_acc: 0.7400\n",
            "Epoch 23/30\n",
            "100/100 [==============================] - 7s 68ms/step - loss: 0.0905 - acc: 0.9767 - val_loss: 0.9845 - val_acc: 0.6850\n",
            "Epoch 24/30\n",
            "100/100 [==============================] - 7s 69ms/step - loss: 0.0797 - acc: 0.9763 - val_loss: 0.9159 - val_acc: 0.7350\n",
            "Epoch 25/30\n",
            "100/100 [==============================] - 7s 69ms/step - loss: 0.0622 - acc: 0.9839 - val_loss: 0.9883 - val_acc: 0.7050\n",
            "Epoch 26/30\n",
            "100/100 [==============================] - 7s 69ms/step - loss: 0.0565 - acc: 0.9850 - val_loss: 1.0977 - val_acc: 0.6650\n",
            "Epoch 27/30\n",
            "100/100 [==============================] - 7s 68ms/step - loss: 0.0498 - acc: 0.9856 - val_loss: 1.0568 - val_acc: 0.7100\n",
            "Epoch 28/30\n",
            "100/100 [==============================] - 7s 68ms/step - loss: 0.0391 - acc: 0.9918 - val_loss: 0.9418 - val_acc: 0.7450\n",
            "Epoch 29/30\n",
            "100/100 [==============================] - 7s 68ms/step - loss: 0.0276 - acc: 0.9970 - val_loss: 1.2538 - val_acc: 0.6800\n",
            "Epoch 30/30\n",
            "100/100 [==============================] - 7s 70ms/step - loss: 0.0294 - acc: 0.9949 - val_loss: 1.0534 - val_acc: 0.7050\n"
          ],
          "name": "stdout"
        }
      ]
    },
    {
      "cell_type": "code",
      "metadata": {
        "id": "MZaZ2HWZsNUi",
        "colab": {
          "base_uri": "https://localhost:8080/",
          "height": 545
        },
        "outputId": "b4190ff9-d142-4da2-beab-71ccf14b62af"
      },
      "source": [
        "model.save('cats_and_dogs_small_1.h5')\n",
        "\n",
        "import matplotlib.pyplot as plt\n",
        "\n",
        "acc = history.history['acc']\n",
        "val_acc = history.history['val_acc']\n",
        "loss = history.history['loss']\n",
        "val_loss = history.history['val_loss']\n",
        "\n",
        "epochs = range(1, len(acc) + 1)\n",
        "\n",
        "plt.plot(epochs, acc, 'bo', label='Training acc')\n",
        "plt.plot(epochs, val_acc, 'b', label='Validation acc')\n",
        "plt.title('Training and validation accuracy')\n",
        "plt.legend()\n",
        "\n",
        "plt.figure()\n",
        "\n",
        "plt.plot(epochs, loss, 'bo', label='Training loss')\n",
        "plt.plot(epochs, val_loss, 'b', label='Validation loss')\n",
        "plt.title('Training and validation loss')\n",
        "plt.legend()\n",
        "\n",
        "plt.show()"
      ],
      "execution_count": 13,
      "outputs": [
        {
          "output_type": "display_data",
          "data": {
            "image/png": "[encoded data removed]",
            "text/plain": [
              "<Figure size 432x288 with 1 Axes>"
            ]
          },
          "metadata": {
            "tags": [],
            "needs_background": "light"
          }
        },
        {
          "output_type": "display_data",
          "data": {
            "image/png": "[encoded data removed]",
            "text/plain": [
              "<Figure size 432x288 with 1 Axes>"
            ]
          },
          "metadata": {
            "tags": [],
            "needs_background": "light"
          }
        }
      ]
    },
    {
      "cell_type": "markdown",
      "metadata": {
        "id": "XKZmXmBcq_8-"
      },
      "source": [
        "## Convolutional Networks with Dropout\n",
        "\n",
        "![alt text](https://camo.githubusercontent.com/ee6fa1073247cd2c3d241300caf110d7a7541bc5/68747470733a2f2f63646e2d696d616765732d312e6d656469756d2e636f6d2f6d61782f3830302f312a4972644a355067684439596f4f7956415137334d4a772e676966)\n",
        "\n",
        "Ref: https://github.com/mneha4/Training-Neural-Nets---Guidelines"
      ]
    },
    {
      "cell_type": "code",
      "metadata": {
        "id": "wu3cqeYQrDeN"
      },
      "source": [
        "model = models.Sequential()\n",
        "model.add(layers.Conv2D(32, (3, 3), activation='relu',\n",
        "input_shape=(150, 150, 3)))\n",
        "model.add(layers.MaxPooling2D((2, 2)))\n",
        "model.add(layers.Conv2D(64, (3, 3), activation='relu'))\n",
        "model.add(layers.MaxPooling2D((2, 2)))\n",
        "model.add(layers.Conv2D(128, (3, 3), activation='relu'))\n",
        "model.add(layers.MaxPooling2D((2, 2)))\n",
        "model.add(layers.Conv2D(128, (3, 3), activation='relu'))\n",
        "model.add(layers.MaxPooling2D((2, 2)))\n",
        "model.add(layers.Flatten())\n",
        "model.add(layers.Dropout(0.5))\n",
        "model.add(layers.Dense(512, activation='relu'))\n",
        "model.add(layers.Dense(1, activation='sigmoid'))\n",
        "\n",
        "model.compile(loss='binary_crossentropy',\n",
        "              optimizer=optimizers.RMSprop(lr=1e-4),\n",
        "              metrics=['acc'])"
      ],
      "execution_count": 14,
      "outputs": []
    },
    {
      "cell_type": "code",
      "metadata": {
        "id": "QSeLpvY0rH7F",
        "colab": {
          "base_uri": "https://localhost:8080/"
        },
        "outputId": "2b56ac55-a1de-4c1c-c436-f7998412d03f"
      },
      "source": [
        "train_datagen = ImageDataGenerator(rescale=1./255,\n",
        "                                   rotation_range=40,\n",
        "                                   width_shift_range=0.2,\n",
        "                                   height_shift_range=0.2,\n",
        "                                   shear_range=0.2,\n",
        "                                   zoom_range=0.2,\n",
        "                                   horizontal_flip=True,)\n",
        "\n",
        "test_datagen = ImageDataGenerator(rescale=1./255)\n",
        "\n",
        "train_generator = train_datagen.flow_from_directory(train_dir,\n",
        "                                                    target_size=(150, 150), \n",
        "                                                    batch_size=20,\n",
        "                                                    class_mode='binary')\n",
        "\n",
        "validation_generator = test_datagen.flow_from_directory(validation_dir,\n",
        "                                                        target_size=(150, 150),\n",
        "                                                        batch_size=20,\n",
        "                                                        class_mode='binary')\n",
        "\n",
        "history = model.fit_generator(train_generator,\n",
        "                              steps_per_epoch=100,\n",
        "                              epochs=20,\n",
        "                              validation_data=validation_generator,\n",
        "                              validation_steps=50,)"
      ],
      "execution_count": 22,
      "outputs": [
        {
          "output_type": "stream",
          "text": [
            "Found 2000 images belonging to 2 classes.\n",
            "Found 1000 images belonging to 2 classes.\n"
          ],
          "name": "stdout"
        },
        {
          "output_type": "stream",
          "text": [
            "/usr/local/lib/python3.7/dist-packages/tensorflow/python/keras/engine/training.py:1844: UserWarning: `Model.fit_generator` is deprecated and will be removed in a future version. Please use `Model.fit`, which supports generators.\n",
            "  warnings.warn('`Model.fit_generator` is deprecated and '\n"
          ],
          "name": "stderr"
        },
        {
          "output_type": "stream",
          "text": [
            "Epoch 1/20\n",
            "100/100 [==============================] - 17s 174ms/step - loss: 0.5588 - acc: 0.7080 - val_loss: 0.4987 - val_acc: 0.7460\n",
            "Epoch 2/20\n",
            "100/100 [==============================] - 17s 174ms/step - loss: 0.5531 - acc: 0.7075 - val_loss: 0.5615 - val_acc: 0.6980\n",
            "Epoch 3/20\n",
            "100/100 [==============================] - 17s 172ms/step - loss: 0.5354 - acc: 0.7245 - val_loss: 0.5475 - val_acc: 0.7150\n",
            "Epoch 4/20\n",
            "100/100 [==============================] - 18s 176ms/step - loss: 0.5396 - acc: 0.7215 - val_loss: 0.5249 - val_acc: 0.7330\n",
            "Epoch 5/20\n",
            "100/100 [==============================] - 18s 176ms/step - loss: 0.5365 - acc: 0.7325 - val_loss: 0.5059 - val_acc: 0.7460\n",
            "Epoch 6/20\n",
            "100/100 [==============================] - 17s 175ms/step - loss: 0.5403 - acc: 0.7255 - val_loss: 0.5405 - val_acc: 0.7180\n",
            "Epoch 7/20\n",
            "100/100 [==============================] - 17s 174ms/step - loss: 0.5381 - acc: 0.7230 - val_loss: 0.5061 - val_acc: 0.7390\n",
            "Epoch 8/20\n",
            "100/100 [==============================] - 17s 173ms/step - loss: 0.5413 - acc: 0.7275 - val_loss: 0.4945 - val_acc: 0.7570\n",
            "Epoch 9/20\n",
            "100/100 [==============================] - 18s 177ms/step - loss: 0.5244 - acc: 0.7320 - val_loss: 0.4804 - val_acc: 0.7630\n",
            "Epoch 10/20\n",
            "100/100 [==============================] - 17s 175ms/step - loss: 0.5313 - acc: 0.7360 - val_loss: 0.5624 - val_acc: 0.7080\n",
            "Epoch 11/20\n",
            "100/100 [==============================] - 18s 175ms/step - loss: 0.5223 - acc: 0.7465 - val_loss: 0.4990 - val_acc: 0.7390\n",
            "Epoch 12/20\n",
            "100/100 [==============================] - 17s 173ms/step - loss: 0.5240 - acc: 0.7440 - val_loss: 0.4932 - val_acc: 0.7530\n",
            "Epoch 13/20\n",
            "100/100 [==============================] - 17s 174ms/step - loss: 0.5188 - acc: 0.7365 - val_loss: 0.5113 - val_acc: 0.7570\n",
            "Epoch 14/20\n",
            "100/100 [==============================] - 18s 175ms/step - loss: 0.5142 - acc: 0.7490 - val_loss: 0.4979 - val_acc: 0.7520\n",
            "Epoch 15/20\n",
            "100/100 [==============================] - 17s 174ms/step - loss: 0.5066 - acc: 0.7455 - val_loss: 0.5416 - val_acc: 0.7200\n",
            "Epoch 16/20\n",
            "100/100 [==============================] - 17s 175ms/step - loss: 0.5085 - acc: 0.7480 - val_loss: 0.4656 - val_acc: 0.7740\n",
            "Epoch 17/20\n",
            "100/100 [==============================] - 17s 174ms/step - loss: 0.5033 - acc: 0.7370 - val_loss: 0.5129 - val_acc: 0.7520\n",
            "Epoch 18/20\n",
            "100/100 [==============================] - 17s 174ms/step - loss: 0.5097 - acc: 0.7470 - val_loss: 0.4981 - val_acc: 0.7580\n",
            "Epoch 19/20\n",
            "100/100 [==============================] - 17s 175ms/step - loss: 0.4893 - acc: 0.7575 - val_loss: 0.4967 - val_acc: 0.7580\n",
            "Epoch 20/20\n",
            "100/100 [==============================] - 17s 173ms/step - loss: 0.5005 - acc: 0.7550 - val_loss: 0.5105 - val_acc: 0.7350\n"
          ],
          "name": "stdout"
        }
      ]
    },
    {
      "cell_type": "code",
      "metadata": {
        "colab": {
          "base_uri": "https://localhost:8080/",
          "height": 545
        },
        "id": "uElDIY4cU8bO",
        "outputId": "7777468c-4901-4c51-f948-ecd1978a4344"
      },
      "source": [
        "model.save('cats_and_dogs_small_1.h5')\r\n",
        "\r\n",
        "import matplotlib.pyplot as plt\r\n",
        "\r\n",
        "acc = history.history['acc']\r\n",
        "val_acc = history.history['val_acc']\r\n",
        "loss = history.history['loss']\r\n",
        "val_loss = history.history['val_loss']\r\n",
        "\r\n",
        "epochs = range(1, len(acc) + 1)\r\n",
        "\r\n",
        "plt.plot(epochs, acc, 'bo', label='Training acc')\r\n",
        "plt.plot(epochs, val_acc, 'b', label='Validation acc')\r\n",
        "plt.title('Training and validation accuracy')\r\n",
        "plt.legend()\r\n",
        "\r\n",
        "plt.figure()\r\n",
        "\r\n",
        "plt.plot(epochs, loss, 'bo', label='Training loss')\r\n",
        "plt.plot(epochs, val_loss, 'b', label='Validation loss')\r\n",
        "plt.title('Training and validation loss')\r\n",
        "plt.legend()\r\n",
        "\r\n",
        "plt.show()"
      ],
      "execution_count": 23,
      "outputs": [
        {
          "output_type": "display_data",
          "data": {
            "image/png": "[encoded data removed]",
            "text/plain": [
              "<Figure size 432x288 with 1 Axes>"
            ]
          },
          "metadata": {
            "tags": [],
            "needs_background": "light"
          }
        },
        {
          "output_type": "display_data",
          "data": {
            "image/png": "[encoded data removed]",
            "text/plain": [
              "<Figure size 432x288 with 1 Axes>"
            ]
          },
          "metadata": {
            "tags": [],
            "needs_background": "light"
          }
        }
      ]
    },
    {
      "cell_type": "markdown",
      "metadata": {
        "id": "BRdU5yrkUF_b"
      },
      "source": [
        "# Task 2:\n",
        "\n",
        "We have used Dropout to enhance the performance of the CNN model. Can you please use whatever you like to further enhance the performance from `val_acc: 0.7506`? "
      ]
    },
    {
      "cell_type": "code",
      "metadata": {
        "colab": {
          "base_uri": "https://localhost:8080/"
        },
        "id": "8Gn7CQA1Xft2",
        "outputId": "7d14e09d-5148-4080-c314-db64689fe429"
      },
      "source": [
        "model = models.Sequential()\r\n",
        "model.add(layers.Conv2D(32, (3, 3), activation='relu',\r\n",
        "input_shape=(150, 150, 3)))\r\n",
        "model.add(layers.MaxPooling2D((2, 2)))\r\n",
        "model.add(layers.Conv2D(64, (3, 3), activation='relu',))\r\n",
        "model.add(layers.MaxPooling2D((2, 2)))\r\n",
        "model.add(layers.Conv2D(128, (3, 3), activation='relu'))\r\n",
        "model.add(layers.MaxPooling2D((2, 2)))\r\n",
        "model.add(layers.Conv2D(128, (3, 3), activation='relu'))\r\n",
        "model.add(layers.MaxPooling2D((2, 2)))\r\n",
        "model.add(layers.Flatten())\r\n",
        "model.add(layers.Dropout(0.5))\r\n",
        "model.add(layers.Dense(512, activation='relu',kernel_regularizer=regularizers.l2(0.0001)))\r\n",
        "model.add(layers.Dense(1, activation='sigmoid'))\r\n",
        "\r\n",
        "model.compile(loss='binary_crossentropy',\r\n",
        "              optimizer=optimizers.RMSprop(lr=1e-4),\r\n",
        "              metrics=['acc'])\r\n",
        "model.summary()"
      ],
      "execution_count": 57,
      "outputs": [
        {
          "output_type": "stream",
          "text": [
            "Model: \"sequential_20\"\n",
            "_________________________________________________________________\n",
            "Layer (type)                 Output Shape              Param #   \n",
            "=================================================================\n",
            "conv2d_76 (Conv2D)           (None, 148, 148, 32)      896       \n",
            "_________________________________________________________________\n",
            "max_pooling2d_76 (MaxPooling (None, 74, 74, 32)        0         \n",
            "_________________________________________________________________\n",
            "conv2d_77 (Conv2D)           (None, 72, 72, 64)        18496     \n",
            "_________________________________________________________________\n",
            "max_pooling2d_77 (MaxPooling (None, 36, 36, 64)        0         \n",
            "_________________________________________________________________\n",
            "conv2d_78 (Conv2D)           (None, 34, 34, 128)       73856     \n",
            "_________________________________________________________________\n",
            "max_pooling2d_78 (MaxPooling (None, 17, 17, 128)       0         \n",
            "_________________________________________________________________\n",
            "conv2d_79 (Conv2D)           (None, 15, 15, 128)       147584    \n",
            "_________________________________________________________________\n",
            "max_pooling2d_79 (MaxPooling (None, 7, 7, 128)         0         \n",
            "_________________________________________________________________\n",
            "flatten_19 (Flatten)         (None, 6272)              0         \n",
            "_________________________________________________________________\n",
            "dropout_18 (Dropout)         (None, 6272)              0         \n",
            "_________________________________________________________________\n",
            "dense_38 (Dense)             (None, 512)               3211776   \n",
            "_________________________________________________________________\n",
            "dense_39 (Dense)             (None, 1)                 513       \n",
            "=================================================================\n",
            "Total params: 3,453,121\n",
            "Trainable params: 3,453,121\n",
            "Non-trainable params: 0\n",
            "_________________________________________________________________\n"
          ],
          "name": "stdout"
        }
      ]
    },
    {
      "cell_type": "code",
      "metadata": {
        "colab": {
          "base_uri": "https://localhost:8080/"
        },
        "id": "kTpoG3MtXlDI",
        "outputId": "2c995254-36b6-4bff-c4a2-307e6953bf0e"
      },
      "source": [
        "train_datagen = ImageDataGenerator(rescale=1./255,\r\n",
        "                                   rotation_range=40,\r\n",
        "                                   width_shift_range=0.2,\r\n",
        "                                   height_shift_range=0.2,\r\n",
        "                                   shear_range=0.2,\r\n",
        "                                   zoom_range=0.2,\r\n",
        "                                   horizontal_flip=True,)\r\n",
        "\r\n",
        "test_datagen = ImageDataGenerator(rescale=1./255)\r\n",
        "\r\n",
        "train_generator = train_datagen.flow_from_directory(train_dir,\r\n",
        "                                                    target_size=(150, 150), \r\n",
        "                                                    batch_size=20,\r\n",
        "                                                    class_mode='binary')\r\n",
        "\r\n",
        "validation_generator = test_datagen.flow_from_directory(validation_dir,\r\n",
        "                                                        target_size=(150, 150),\r\n",
        "                                                        batch_size=20,\r\n",
        "                                                        class_mode='binary')\r\n",
        "\r\n",
        "history = model.fit_generator(train_generator,\r\n",
        "                              steps_per_epoch=100,\r\n",
        "                              epochs=40,\r\n",
        "                              validation_data=validation_generator,\r\n",
        "                              validation_steps=50)"
      ],
      "execution_count": 60,
      "outputs": [
        {
          "output_type": "stream",
          "text": [
            "Found 2000 images belonging to 2 classes.\n",
            "Found 1000 images belonging to 2 classes.\n"
          ],
          "name": "stdout"
        },
        {
          "output_type": "stream",
          "text": [
            "/usr/local/lib/python3.7/dist-packages/tensorflow/python/keras/engine/training.py:1844: UserWarning: `Model.fit_generator` is deprecated and will be removed in a future version. Please use `Model.fit`, which supports generators.\n",
            "  warnings.warn('`Model.fit_generator` is deprecated and '\n"
          ],
          "name": "stderr"
        },
        {
          "output_type": "stream",
          "text": [
            "Epoch 1/40\n",
            "100/100 [==============================] - 17s 174ms/step - loss: 0.5806 - acc: 0.7100 - val_loss: 0.5777 - val_acc: 0.7180\n",
            "Epoch 2/40\n",
            "100/100 [==============================] - 17s 174ms/step - loss: 0.5731 - acc: 0.7235 - val_loss: 0.5794 - val_acc: 0.7270\n",
            "Epoch 3/40\n",
            "100/100 [==============================] - 17s 175ms/step - loss: 0.5703 - acc: 0.7300 - val_loss: 0.5696 - val_acc: 0.7060\n",
            "Epoch 4/40\n",
            "100/100 [==============================] - 17s 174ms/step - loss: 0.5647 - acc: 0.7295 - val_loss: 0.6382 - val_acc: 0.6980\n",
            "Epoch 5/40\n",
            "100/100 [==============================] - 17s 174ms/step - loss: 0.5649 - acc: 0.7170 - val_loss: 0.5529 - val_acc: 0.7250\n",
            "Epoch 6/40\n",
            "100/100 [==============================] - 17s 175ms/step - loss: 0.5572 - acc: 0.7350 - val_loss: 0.5507 - val_acc: 0.7280\n",
            "Epoch 7/40\n",
            "100/100 [==============================] - 17s 174ms/step - loss: 0.5638 - acc: 0.7270 - val_loss: 0.5916 - val_acc: 0.6920\n",
            "Epoch 8/40\n",
            "100/100 [==============================] - 17s 174ms/step - loss: 0.5619 - acc: 0.7320 - val_loss: 0.5148 - val_acc: 0.7570\n",
            "Epoch 9/40\n",
            "100/100 [==============================] - 17s 174ms/step - loss: 0.5532 - acc: 0.7335 - val_loss: 0.5498 - val_acc: 0.7350\n",
            "Epoch 10/40\n",
            "100/100 [==============================] - 17s 174ms/step - loss: 0.5437 - acc: 0.7455 - val_loss: 0.5194 - val_acc: 0.7590\n",
            "Epoch 11/40\n",
            "100/100 [==============================] - 17s 175ms/step - loss: 0.5487 - acc: 0.7320 - val_loss: 0.5154 - val_acc: 0.7610\n",
            "Epoch 12/40\n",
            "100/100 [==============================] - 17s 175ms/step - loss: 0.5431 - acc: 0.7420 - val_loss: 0.5328 - val_acc: 0.7490\n",
            "Epoch 13/40\n",
            "100/100 [==============================] - 18s 178ms/step - loss: 0.5237 - acc: 0.7595 - val_loss: 0.4938 - val_acc: 0.7690\n",
            "Epoch 14/40\n",
            "100/100 [==============================] - 17s 173ms/step - loss: 0.5409 - acc: 0.7390 - val_loss: 0.5038 - val_acc: 0.7620\n",
            "Epoch 15/40\n",
            "100/100 [==============================] - 17s 173ms/step - loss: 0.5433 - acc: 0.7425 - val_loss: 0.5720 - val_acc: 0.7120\n",
            "Epoch 16/40\n",
            "100/100 [==============================] - 18s 176ms/step - loss: 0.5421 - acc: 0.7470 - val_loss: 0.5072 - val_acc: 0.7710\n",
            "Epoch 17/40\n",
            "100/100 [==============================] - 18s 177ms/step - loss: 0.5156 - acc: 0.7565 - val_loss: 0.5017 - val_acc: 0.7740\n",
            "Epoch 18/40\n",
            "100/100 [==============================] - 17s 175ms/step - loss: 0.5250 - acc: 0.7575 - val_loss: 0.5122 - val_acc: 0.7480\n",
            "Epoch 19/40\n",
            "100/100 [==============================] - 17s 174ms/step - loss: 0.5276 - acc: 0.7510 - val_loss: 0.5026 - val_acc: 0.7610\n",
            "Epoch 20/40\n",
            "100/100 [==============================] - 17s 174ms/step - loss: 0.5126 - acc: 0.7630 - val_loss: 0.5011 - val_acc: 0.7680\n",
            "Epoch 21/40\n",
            "100/100 [==============================] - 17s 174ms/step - loss: 0.5089 - acc: 0.7710 - val_loss: 0.5215 - val_acc: 0.7590\n",
            "Epoch 22/40\n",
            "100/100 [==============================] - 18s 175ms/step - loss: 0.5138 - acc: 0.7665 - val_loss: 0.4969 - val_acc: 0.7640\n",
            "Epoch 23/40\n",
            "100/100 [==============================] - 18s 179ms/step - loss: 0.5154 - acc: 0.7555 - val_loss: 0.5048 - val_acc: 0.7820\n",
            "Epoch 24/40\n",
            "100/100 [==============================] - 18s 177ms/step - loss: 0.5121 - acc: 0.7600 - val_loss: 0.5955 - val_acc: 0.6940\n",
            "Epoch 25/40\n",
            "100/100 [==============================] - 18s 176ms/step - loss: 0.4985 - acc: 0.7815 - val_loss: 0.5225 - val_acc: 0.7340\n",
            "Epoch 26/40\n",
            "100/100 [==============================] - 17s 175ms/step - loss: 0.5091 - acc: 0.7550 - val_loss: 0.4675 - val_acc: 0.8020\n",
            "Epoch 27/40\n",
            "100/100 [==============================] - 17s 174ms/step - loss: 0.4863 - acc: 0.7770 - val_loss: 0.5581 - val_acc: 0.7220\n",
            "Epoch 28/40\n",
            "100/100 [==============================] - 17s 174ms/step - loss: 0.5008 - acc: 0.7740 - val_loss: 0.4897 - val_acc: 0.7700\n",
            "Epoch 29/40\n",
            "100/100 [==============================] - 17s 174ms/step - loss: 0.4915 - acc: 0.7665 - val_loss: 0.5063 - val_acc: 0.7540\n",
            "Epoch 30/40\n",
            "100/100 [==============================] - 18s 176ms/step - loss: 0.4869 - acc: 0.7785 - val_loss: 0.5083 - val_acc: 0.7750\n",
            "Epoch 31/40\n",
            "100/100 [==============================] - 18s 176ms/step - loss: 0.4874 - acc: 0.7810 - val_loss: 0.4858 - val_acc: 0.7850\n",
            "Epoch 32/40\n",
            "100/100 [==============================] - 18s 178ms/step - loss: 0.4845 - acc: 0.7815 - val_loss: 0.4554 - val_acc: 0.8070\n",
            "Epoch 33/40\n",
            "100/100 [==============================] - 18s 177ms/step - loss: 0.4896 - acc: 0.7880 - val_loss: 0.4883 - val_acc: 0.7880\n",
            "Epoch 34/40\n",
            "100/100 [==============================] - 18s 176ms/step - loss: 0.4888 - acc: 0.7795 - val_loss: 0.4467 - val_acc: 0.8090\n",
            "Epoch 35/40\n",
            "100/100 [==============================] - 18s 176ms/step - loss: 0.4793 - acc: 0.7885 - val_loss: 0.4781 - val_acc: 0.7720\n",
            "Epoch 36/40\n",
            "100/100 [==============================] - 17s 174ms/step - loss: 0.4759 - acc: 0.7890 - val_loss: 0.4760 - val_acc: 0.7950\n",
            "Epoch 37/40\n",
            "100/100 [==============================] - 17s 174ms/step - loss: 0.4780 - acc: 0.7940 - val_loss: 0.4632 - val_acc: 0.8000\n",
            "Epoch 38/40\n",
            "100/100 [==============================] - 17s 173ms/step - loss: 0.4699 - acc: 0.7925 - val_loss: 0.4803 - val_acc: 0.7910\n",
            "Epoch 39/40\n",
            "100/100 [==============================] - 17s 175ms/step - loss: 0.4707 - acc: 0.7920 - val_loss: 0.5173 - val_acc: 0.7720\n",
            "Epoch 40/40\n",
            "100/100 [==============================] - 18s 176ms/step - loss: 0.4843 - acc: 0.7745 - val_loss: 0.4352 - val_acc: 0.8170\n"
          ],
          "name": "stdout"
        }
      ]
    },
    {
      "cell_type": "code",
      "metadata": {
        "colab": {
          "base_uri": "https://localhost:8080/",
          "height": 545
        },
        "id": "9eLuhMfeXpf6",
        "outputId": "e3a1ead1-9e16-40c4-c4d2-ebb4f0fb714f"
      },
      "source": [
        "model.save('cats_and_dogs_small_1.h5')\r\n",
        "\r\n",
        "import matplotlib.pyplot as plt\r\n",
        "\r\n",
        "acc = history.history['acc']\r\n",
        "val_acc = history.history['val_acc']\r\n",
        "loss = history.history['loss']\r\n",
        "val_loss = history.history['val_loss']\r\n",
        "\r\n",
        "epochs = range(1, len(acc) + 1)\r\n",
        "\r\n",
        "plt.plot(epochs, acc, 'bo', label='Training acc')\r\n",
        "plt.plot(epochs, val_acc, 'b', label='Validation acc')\r\n",
        "plt.title('Training and validation accuracy')\r\n",
        "plt.legend()\r\n",
        "\r\n",
        "plt.figure()\r\n",
        "\r\n",
        "plt.plot(epochs, loss, 'bo', label='Training loss')\r\n",
        "plt.plot(epochs, val_loss, 'b', label='Validation loss')\r\n",
        "plt.title('Training and validation loss')\r\n",
        "plt.legend()\r\n",
        "\r\n",
        "plt.show()"
      ],
      "execution_count": 47,
      "outputs": [
        {
          "output_type": "display_data",
          "data": {
            "image/png": "[encoded data removed]",
            "text/plain": [
              "<Figure size 432x288 with 1 Axes>"
            ]
          },
          "metadata": {
            "tags": [],
            "needs_background": "light"
          }
        },
        {
          "output_type": "display_data",
          "data": {
            "image/png": "[encoded data removed]",
            "text/plain": [
              "<Figure size 432x288 with 1 Axes>"
            ]
          },
          "metadata": {
            "tags": [],
            "needs_background": "light"
          }
        }
      ]
    }
  ]
}