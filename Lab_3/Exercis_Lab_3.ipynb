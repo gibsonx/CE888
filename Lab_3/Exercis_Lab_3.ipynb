{
  "nbformat": 4,
  "nbformat_minor": 0,
  "metadata": {
    "kernelspec": {
      "display_name": "Python 2",
      "language": "python",
      "name": "python2"
    },
    "language_info": {
      "codemirror_mode": {
        "name": "ipython",
        "version": 2
      },
      "file_extension": ".py",
      "mimetype": "text/x-python",
      "name": "python",
      "nbconvert_exporter": "python",
      "pygments_lexer": "ipython2",
      "version": "2.7.6"
    },
    "colab": {
      "name": "Exercis_Lab_3.ipynb",
      "provenance": []
    }
  },
  "cells": [
    {
      "cell_type": "code",
      "metadata": {
        "collapsed": true,
        "id": "38TbEfGgbwjt"
      },
      "source": [
        "import numpy as np\r\n",
        "import matplotlib.pyplot as plt\r\n",
        "import pandas as pd\r\n",
        "import seaborn as sns\r\n",
        "from sklearn import datasets\r\n",
        "from sklearn.tree import DecisionTreeRegressor\r\n",
        "from sklearn.ensemble import RandomForestRegressor, GradientBoostingRegressor,RandomForestClassifier\r\n",
        "from sklearn.linear_model import SGDRegressor, BayesianRidge\r\n",
        "from sklearn.model_selection import cross_val_score,cross_validate,ShuffleSplit,StratifiedKFold,train_test_split,KFold,GridSearchCV\r\n",
        "from sklearn.metrics import mean_squared_error as mse\r\n",
        "from sklearn.metrics import mean_absolute_error as mae\r\n",
        "from sklearn.metrics import accuracy_score as acc\r\n",
        "from sklearn.metrics import make_scorer\r\n",
        "from sklearn.dummy import DummyRegressor, DummyClassifier\r\n",
        "from sklearn.preprocessing import LabelEncoder\r\n",
        "from sklearn import metrics"
      ],
      "execution_count": 5,
      "outputs": []
    },
    {
      "cell_type": "code",
      "metadata": {
        "id": "Zgcdc95NcOQa",
        "outputId": "76e2e34b-c1be-4a10-ffef-b05c0617c2ce",
        "colab": {
          "base_uri": "https://localhost:8080/"
        }
      },
      "source": [
        "df = pd.read_csv(\"https://raw.githubusercontent.com/albanda/ce888/master/lab3/bank-additional-full.csv\", delimiter=\";\")\r\n",
        "\r\n",
        "print(\"Number of rows before dropping NaNs: %d\" % len(df))\r\n",
        "df = df.dropna()\r\n",
        "print(\"Number of rows after dropping NaNs: %d\" % len(df))\r\n",
        "\r\n",
        "print(\"Number of columns before dropping duration: %d\" % df.shape[1] )\r\n",
        "df = df.drop(['duration'], axis=1)\r\n",
        "print(\"Number of columns after dropping duration: %s\" % df.shape[1] )\r\n",
        "\r\n",
        "rows_contains_unknown = df[df.eq('unknown').any(axis=1)].index\r\n",
        "df = df.drop(index=rows_contains_unknown)\r\n",
        "\r\n",
        "print(\"Number of rows after dropping unknowns: %d\" % len(df))\r\n",
        "df = pd.get_dummies(df)\r\n",
        "print(\"Number of columns after get_dummies: %d\" % df.shape[1])\r\n",
        "df = df.drop(['y_no'], axis=1)\r\n",
        "print(\"Number of columns after dropping y_no: %d\" % df.shape[1])\r\n",
        "\r\n",
        "X = df.iloc[:, :56]\r\n",
        "y = df.iloc[:, -1:]"
      ],
      "execution_count": 6,
      "outputs": [
        {
          "output_type": "stream",
          "text": [
            "Number of rows before dropping NaNs: 41188\n",
            "Number of rows after dropping NaNs: 41188\n",
            "Number of columns before dropping duration: 21\n",
            "Number of columns after dropping duration: 20\n",
            "Number of rows after dropping unknowns: 30488\n",
            "Number of columns after get_dummies: 58\n",
            "Number of columns after dropping y_no: 57\n"
          ],
          "name": "stdout"
        }
      ]
    },
    {
      "cell_type": "code",
      "metadata": {
        "id": "SqdqT9ddcY-N",
        "outputId": "8c37e378-75c0-4b53-ab78-d4e5d50a19ed",
        "colab": {
          "base_uri": "https://localhost:8080/"
        }
      },
      "source": [
        "random_clf = RandomForestClassifier(n_estimators=400,max_depth=6,random_state=60)\r\n",
        "\r\n",
        "X_train, X_test, y_train, y_test = train_test_split(X, y, test_size=0.20, random_state=50)\r\n",
        "random_clf.fit(X_train, y_train.values.ravel())\r\n",
        "scores_random = cross_val_score(random_clf, X=X_train,y=y_train.values.ravel(),cv=10,scoring='f1')\r\n",
        "scores_r = scores_random.mean()\r\n",
        "print (\"scores_random:\", scores_r)"
      ],
      "execution_count": 7,
      "outputs": [
        {
          "output_type": "stream",
          "text": [
            "('scores_random:', 0.30608043817668096)\n"
          ],
          "name": "stdout"
        }
      ]
    },
    {
      "cell_type": "code",
      "metadata": {
        "id": "JNTasNEdccit",
        "outputId": "33add1ad-12a5-400b-e20f-83c2c6657b1b",
        "colab": {
          "base_uri": "https://localhost:8080/",
          "height": 572
        }
      },
      "source": [
        "importances = random_clf.feature_importances_\r\n",
        "std = np.std([tree.feature_importances_ for tree in random_clf.estimators_],\r\n",
        "             axis=0)\r\n",
        "indices = np.argsort(importances)[::-1]\r\n",
        "\r\n",
        "print(importances[indices][:10])\r\n",
        "print(np.array(df.columns)[indices][:10])\r\n",
        "\r\n",
        "fig = plt.figure()\r\n",
        "plt.title(\"Feature importances\")\r\n",
        "plt.bar(range(10), importances[indices][:10],\r\n",
        "       color=\"r\", yerr=std[indices][:10], align=\"center\")\r\n",
        "plt.xticks(range(10), np.array(df.columns)[indices][:10])\r\n",
        "plt.xlim([-1, 10])\r\n",
        "plt.ylim([0, None])\r\n",
        "\r\n",
        "fig.set_size_inches(15, 8)\r\n",
        "\r\n",
        "fig.set_size_inches(15, 8)"
      ],
      "execution_count": 8,
      "outputs": [
        {
          "output_type": "stream",
          "text": [
            "[0.18944582 0.17418222 0.10859227 0.09390174 0.08200895 0.07949342\n",
            " 0.06214353 0.02536476 0.0196152  0.01683755]\n",
            "['nr.employed' 'euribor3m' 'pdays' 'poutcome_success' 'emp.var.rate'\n",
            " 'cons.conf.idx' 'cons.price.idx' 'previous' 'age' 'poutcome_failure']\n"
          ],
          "name": "stdout"
        },
        {
          "output_type": "display_data",
          "data": {
            "image/png": "[encoded data removed]",
            "text/plain": [
              "<Figure size 1080x576 with 1 Axes>"
            ]
          },
          "metadata": {
            "tags": [],
            "needs_background": "light"
          }
        }
      ]
    }
  ]
}