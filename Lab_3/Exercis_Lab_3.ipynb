{
  "nbformat": 4,
  "nbformat_minor": 0,
  "metadata": {
    "colab": {
      "name": "Neural_Network.ipynb",
      "provenance": [],
      "collapsed_sections": [],
      "authorship_tag": "ABX9TyNsHIOo6KkEYIus1EKwWx5l",
      "include_colab_link": true
    },
    "kernelspec": {
      "name": "python3",
      "display_name": "Python 3"
    }
  },
  "cells": [
    {
      "cell_type": "markdown",
      "metadata": {
        "id": "view-in-github",
        "colab_type": "text"
      },
      "source": [
        "<a href=\"https://colab.research.google.com/github/gibsonx/CE888/blob/master/Lab_3/Exercis_Lab_3.ipynb\" target=\"_parent\"><img src=\"https://colab.research.google.com/assets/colab-badge.svg\" alt=\"Open In Colab\"/></a>"
      ]
    },
    {
      "cell_type": "code",
      "metadata": {
        "id": "QHyYTBGatbRL"
      },
      "source": [
        "import numpy as np\r\n",
        "import matplotlib.pyplot as plt\r\n",
        "import pandas as pd\r\n",
        "import seaborn as sns\r\n",
        "import itertools\r\n",
        "from mlxtend.plotting import plot_confusion_matrix\r\n",
        "from pandas.api.types import is_numeric_dtype,is_categorical_dtype\r\n",
        "from sklearn import datasets\r\n",
        "from sklearn.tree import DecisionTreeRegressor\r\n",
        "from sklearn.ensemble import RandomForestRegressor, GradientBoostingRegressor,RandomForestClassifier\r\n",
        "from sklearn.model_selection import cross_val_score,cross_validate,ShuffleSplit,StratifiedKFold,train_test_split,KFold,GridSearchCV,cross_val_predict\r\n",
        "from sklearn.linear_model import SGDRegressor, BayesianRidge\r\n",
        "from sklearn.metrics import mean_squared_error as mse\r\n",
        "from sklearn.metrics import mean_absolute_error as mae\r\n",
        "from sklearn.metrics import accuracy_score as acc\r\n",
        "from sklearn.metrics import make_scorer,confusion_matrix\r\n",
        "from sklearn.metrics import roc_auc_score,roc_curve\r\n",
        "from sklearn.dummy import DummyRegressor, DummyClassifier\r\n",
        "from sklearn.preprocessing import LabelEncoder\r\n",
        "from sklearn.metrics import roc_curve\r\n",
        "from matplotlib import pyplot\r\n",
        "from sklearn import preprocessing\r\n"
      ],
      "execution_count": 1,
      "outputs": []
    },
    {
      "cell_type": "code",
      "metadata": {
        "colab": {
          "base_uri": "https://localhost:8080/"
        },
        "id": "ErIcvh-HNKjr",
        "outputId": "8e82e226-d4c2-4882-94fe-240456a3a56d"
      },
      "source": [
        "df = pd.read_csv(\"https://raw.githubusercontent.com/albanda/ce888/master/lab3/bank-additional-full.csv\", delimiter=\";\")\r\n",
        "\r\n",
        "le = preprocessing.LabelEncoder()\r\n",
        "df['y'] = le.fit_transform(df['y'])\r\n",
        "\r\n",
        "print(\"Number of rows before dropping NaNs: %d\" % len(df))\r\n",
        "df = df.dropna()\r\n",
        "print(\"Number of rows after dropping NaNs: %d\" % len(df))\r\n",
        "\r\n",
        "df = df.drop(['duration'], axis=1)\r\n",
        "print(\"Number of columns after dropping duration: %s\" % df.shape[1] )\r\n",
        "\r\n",
        "rows_contains_unknown = df[df.eq('unknown').any(axis=1)].index\r\n",
        "df = df.drop(index=rows_contains_unknown)\r\n",
        "print(\"Number of rows after dropping unknowns: %d\" % len(df))\r\n",
        "\r\n",
        "df = pd.get_dummies(df)\r\n",
        "print(\"Number of rows after dropping unknowns: %d\" % len(df))\r\n",
        "\r\n",
        "count = 0\r\n",
        "for column in df:\r\n",
        "  if is_categorical_dtype(df[column]) == True:\r\n",
        "    count += 1 \r\n",
        "print(\"The number of numerical columns:\", count)\r\n",
        "\r\n",
        "X = df.iloc[:, df.columns != 'y']\r\n",
        "y = df.iloc[:, df.columns == 'y']"
      ],
      "execution_count": 2,
      "outputs": [
        {
          "output_type": "stream",
          "text": [
            "Number of rows before dropping NaNs: 41188\n",
            "Number of rows after dropping NaNs: 41188\n",
            "Number of columns after dropping duration: 20\n",
            "Number of rows after dropping unknowns: 30488\n",
            "Number of rows after dropping unknowns: 30488\n",
            "The number of numerical columns: 0\n"
          ],
          "name": "stdout"
        }
      ]
    },
    {
      "cell_type": "code",
      "metadata": {
        "colab": {
          "base_uri": "https://localhost:8080/"
        },
        "id": "phFYgeJIP3wm",
        "outputId": "d5865f75-4f40-44e1-cc93-14b9b6ee5a47"
      },
      "source": [
        "#Dummy_Classification\r\n",
        "dummy_clf = DummyClassifier(strategy='stratified') #generates predictions by respecting the training set's class distribution\r\n",
        "X_train, X_test, y_train, y_test = train_test_split(X, y, test_size=0.20, random_state=50)\r\n",
        "dumpy_scores = cross_val_score(dummy_clf, X=X_train,y=y_train.values.ravel(),cv=10,scoring='f1')\r\n",
        "print(\"F1 Score for Dummy is: %.2f\" % dumpy_scores.mean())\r\n"
      ],
      "execution_count": 9,
      "outputs": [
        {
          "output_type": "stream",
          "text": [
            "F1 Score for Dummy is: 0.13\n"
          ],
          "name": "stdout"
        }
      ]
    },
    {
      "cell_type": "code",
      "metadata": {
        "colab": {
          "base_uri": "https://localhost:8080/"
        },
        "id": "MuZSPOwf9RFo",
        "outputId": "93e59a1d-b09e-4bb7-ce89-b7348b6c9fd0"
      },
      "source": [
        "#RandomForestClassifier with 10-fold verification\r\n",
        "random_clf = RandomForestClassifier(n_estimators=200,max_depth=8)\r\n",
        "X_train, X_test, y_train, y_test = train_test_split(X, y, test_size=0.20, random_state=50)\r\n",
        "scores = cross_val_score(random_clf, X=X_train,y=y_train.values.ravel(),cv=10,scoring='f1')\r\n",
        "print (\"F1 Score for RandomForest is %0.2f:\" % scores.mean())"
      ],
      "execution_count": 13,
      "outputs": [
        {
          "output_type": "stream",
          "text": [
            "F1 Score for RandomForest is 0.34:\n"
          ],
          "name": "stdout"
        }
      ]
    },
    {
      "cell_type": "code",
      "metadata": {
        "colab": {
          "base_uri": "https://localhost:8080/"
        },
        "id": "XdS21_TCPdV1",
        "outputId": "2a95089d-15d1-41df-9e4a-a1d28e6058d5"
      },
      "source": [
        "#\r\n",
        "param_grid = {\r\n",
        "    'n_estimators': [100,200,300],\r\n",
        "    'max_depth' : [3,4,5],\r\n",
        "}\r\n",
        "\r\n",
        "clf = RandomForestClassifier()\r\n",
        "hyper_parameter = GridSearchCV(estimator=clf, param_grid=param_grid, cv=5)\r\n",
        "hyper_parameter.fit(X_train,y_train.values.ravel())\r\n",
        "print(\"hyper_parameters are:\", hyper_parameter.best_params_)"
      ],
      "execution_count": 5,
      "outputs": [
        {
          "output_type": "stream",
          "text": [
            "hyper_parameters are: {'max_depth': 5, 'n_estimators': 200}\n"
          ],
          "name": "stdout"
        }
      ]
    },
    {
      "cell_type": "code",
      "metadata": {
        "colab": {
          "base_uri": "https://localhost:8080/",
          "height": 554
        },
        "id": "qaDH0bFaN9c2",
        "outputId": "0a03db95-24ea-4c9b-f60c-6776a8c07ee3"
      },
      "source": [
        "#importances analysis\r\n",
        "random_clf = RandomForestClassifier(n_estimators=750,max_depth=6,random_state=60)\r\n",
        "random_clf.fit(X_train, y_train.values.ravel())\r\n",
        "\r\n",
        "importances = random_clf.feature_importances_\r\n",
        "std = np.std([tree.feature_importances_ for tree in random_clf.estimators_],\r\n",
        "             axis=0)\r\n",
        "indices = np.argsort(importances)[::-1]\r\n",
        "\r\n",
        "print(importances[indices][:6])\r\n",
        "print(np.array(df.columns)[indices][:6])\r\n",
        "\r\n",
        "fig = plt.figure()\r\n",
        "plt.title(\"Feature importances\")\r\n",
        "plt.bar(range(6), importances[indices][:6],\r\n",
        "       color=\"r\", yerr=std[indices][:6], align=\"center\")\r\n",
        "plt.xticks(range(6), np.array(df.columns)[indices][:6])\r\n",
        "plt.xlim([-1, 6])\r\n",
        "plt.ylim([0, None])\r\n",
        "\r\n",
        "fig.set_size_inches(15, 8)\r\n",
        "fig.set_size_inches(15, 8)"
      ],
      "execution_count": 12,
      "outputs": [
        {
          "output_type": "stream",
          "text": [
            "[0.19222103 0.1685131  0.11888533 0.09854836 0.07978765 0.07362835]\n",
            "['nr.employed' 'euribor3m' 'pdays' 'poutcome_nonexistent' 'emp.var.rate'\n",
            " 'cons.conf.idx']\n"
          ],
          "name": "stdout"
        },
        {
          "output_type": "display_data",
          "data": {
            "image/png": "[encoded data removed]",
            "text/plain": [
              "<Figure size 1080x576 with 1 Axes>"
            ]
          },
          "metadata": {
            "tags": [],
            "needs_background": "light"
          }
        }
      ]
    },
    {
      "cell_type": "code",
      "metadata": {
        "colab": {
          "base_uri": "https://localhost:8080/",
          "height": 329
        },
        "id": "G90SE2I5TEI7",
        "outputId": "86c1a7c3-dcc7-4371-ba80-d90e06326996"
      },
      "source": [
        "def plot_confusion_matrix(conf_mat, classes,normalize=False,title='Confusion matrix',cmap=plt.cm.Blues):\r\n",
        "    if normalize:\r\n",
        "        conf_mat = conf_mat.astype('float') / conf_mat.sum(axis=1)[:, np.newaxis]\r\n",
        "        print(\"Normalized confusion matrix\")\r\n",
        "    else:\r\n",
        "        print('Confusion matrix, without normalization')\r\n",
        "    plt.imshow(conf_mat, interpolation='nearest', cmap=cmap)\r\n",
        "    plt.title(title)\r\n",
        "    plt.colorbar()\r\n",
        "    tick_marks = np.arange(len(classes))\r\n",
        "    plt.xticks(tick_marks, classes, rotation=45)\r\n",
        "    plt.yticks(tick_marks, classes)\r\n",
        "    for i, j in itertools.product(range(conf_mat.shape[0]), range(conf_mat.shape[1])):\r\n",
        "        t = \"(%.2f)\" % (conf_mat[i, j])\r\n",
        "    plt.tight_layout()\r\n",
        "    plt.ylabel('True label')\r\n",
        "    plt.xlabel('Predicted label')\r\n",
        "\r\n",
        "# Compute confusion matrix\r\n",
        "y_pred = random_clf.predict(X_test)\r\n",
        "cnf_matrix = confusion_matrix(y_test.values.ravel(),y_pred)\r\n",
        "\r\n",
        "# plot_confusion_matrix(conf_mat=mat)\r\n",
        "\r\n",
        "# np.set_printoptions(precision=2)\r\n",
        "\r\n",
        "# # Plot non-normalized confusion matrix\r\n",
        "plt.figure()\r\n",
        "plot_confusion_matrix(cnf_matrix, classes=range(len(set(y))), normalize=True,\r\n",
        "                      title='Confusion matrix')"
      ],
      "execution_count": 7,
      "outputs": [
        {
          "output_type": "stream",
          "text": [
            "Normalized confusion matrix\n"
          ],
          "name": "stdout"
        },
        {
          "output_type": "display_data",
          "data": {
            "image/png": "[encoded data removed]",
            "text/plain": [
              "<Figure size 432x288 with 2 Axes>"
            ]
          },
          "metadata": {
            "tags": [],
            "needs_background": "light"
          }
        }
      ]
    },
    {
      "cell_type": "code",
      "metadata": {
        "id": "shPKGNFDSn3V"
      },
      "source": [
        ""
      ],
      "execution_count": 7,
      "outputs": []
    }
  ]
}