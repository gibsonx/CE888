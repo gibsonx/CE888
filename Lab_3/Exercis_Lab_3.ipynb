{
 "cells": [
  {
   "cell_type": "code",
   "execution_count": null,
   "metadata": {
    "collapsed": true
   },
   "outputs": [],
   "source": [
    "import numpy as np\n",
    "import matplotlib.pyplot as plt\n",
    "import pandas as pd\n",
    "import seaborn as sns\n",
    "from pandas.api.types import is_string_dtype\n",
    "from pandas.api.types import is_numeric_dtype\n",
    "from sklearn import datasets\n",
    "from sklearn.tree import DecisionTreeRegressor\n",
    "from sklearn.ensemble import RandomForestRegressor, GradientBoostingRegressor,RandomForestClassifier\n",
    "from sklearn.linear_model import SGDRegressor, BayesianRidge\n",
    "from sklearn.model_selection import cross_val_score,cross_validate,ShuffleSplit,StratifiedKFold,train_test_split,KFold,GridSearchCV\n",
    "from sklearn.metrics import mean_squared_error as mse\n",
    "from sklearn.metrics import mean_absolute_error as mae\n",
    "from sklearn.metrics import accuracy_score as acc\n",
    "from sklearn.metrics import make_scorer\n",
    "from sklearn.dummy import DummyRegressor, DummyClassifier\n",
    "from sklearn.preprocessing import LabelEncoder\n",
    "from sklearn import metrics"
   ]
  },
  {
   "cell_type": "code",
   "execution_count": null,
   "metadata": {},
   "outputs": [],
   "source": [
    "df = pd.read_csv(\"https://raw.githubusercontent.com/albanda/ce888/master/lab3/bank-additional-full.csv\", delimiter=\";\")\n",
    "\n",
    "count = 0\n",
    "for column in df:\n",
    "  if is_numeric_dtype(df[column]) == True:\n",
    "    count += 1 \n",
    "print(\"The number of numerical columns:\", count)\n",
    "\n",
    "print(\"Number of rows before dropping NaNs: %d\" % len(df))\n",
    "df = df.dropna()\n",
    "print(\"Number of rows after dropping NaNs: %d\" % len(df))\n",
    "\n",
    "print(\"Number of columns before dropping duration: %d\" % df.shape[1] )\n",
    "df = df.drop(['duration'], axis=1)\n",
    "print(\"Number of columns after dropping duration: %s\" % df.shape[1] )\n",
    "\n",
    "rows_contains_unknown = df[df.eq('unknown').any(axis=1)].index\n",
    "df = df.drop(index=rows_contains_unknown)\n",
    "\n",
    "print(\"Number of rows after dropping unknowns: %d\" % len(df))\n",
    "df = pd.get_dummies(df)\n",
    "print(\"Number of columns after get_dummies: %d\" % df.shape[1])\n",
    "df = df.drop(['y_no'], axis=1)\n",
    "print(\"Number of columns after dropping y_no: %d\" % df.shape[1])\n",
    "\n",
    "X = df.iloc[:, :56]\n",
    "y = df.iloc[:, -1:]"
   ]
  },
  {
   "cell_type": "code",
   "execution_count": null,
   "metadata": {},
   "outputs": [],
   "source": [
    "random_clf = RandomForestClassifier(n_estimators=400,max_depth=6,random_state=60)\n",
    "\n",
    "X_train, X_test, y_train, y_test = train_test_split(X, y, test_size=0.20, random_state=50)\n",
    "random_clf.fit(X_train, y_train.values.ravel())\n",
    "scores_random = cross_val_score(random_clf, X=X_train,y=y_train.values.ravel(),cv=10,scoring='f1')\n",
    "scores_r = scores_random.mean()\n",
    "print (\"scores_random:\", scores_r)"
   ]
  },
  {
   "cell_type": "code",
   "execution_count": null,
   "metadata": {},
   "outputs": [],
   "source": [
    "importances = random_clf.feature_importances_\n",
    "std = np.std([tree.feature_importances_ for tree in random_clf.estimators_],\n",
    "             axis=0)\n",
    "indices = np.argsort(importances)[::-1]\n",
    "\n",
    "print(importances[indices][:10])\n",
    "print(np.array(df.columns)[indices][:10])\n",
    "\n",
    "fig = plt.figure()\n",
    "plt.title(\"Feature importances\")\n",
    "plt.bar(range(10), importances[indices][:10],\n",
    "       color=\"r\", yerr=std[indices][:10], align=\"center\")\n",
    "plt.xticks(range(10), np.array(df.columns)[indices][:10])\n",
    "plt.xlim([-1, 10])\n",
    "plt.ylim([0, None])\n",
    "\n",
    "fig.set_size_inches(15, 8)\n",
    "\n",
    "fig.set_size_inches(15, 8)"
   ]
  }
 ],
 "metadata": {
  "kernelspec": {
   "display_name": "Python 2",
   "language": "python",
   "name": "python2"
  },
  "language_info": {
   "codemirror_mode": {
    "name": "ipython",
    "version": 2.0
   },
   "file_extension": ".py",
   "mimetype": "text/x-python",
   "name": "python",
   "nbconvert_exporter": "python",
   "pygments_lexer": "ipython2",
   "version": "2.7.6"
  }
 },
 "nbformat": 4,
 "nbformat_minor": 0
}