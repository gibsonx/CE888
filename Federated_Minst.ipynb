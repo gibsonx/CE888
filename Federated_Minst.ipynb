{
  "nbformat": 4,
  "nbformat_minor": 0,
  "metadata": {
    "colab": {
      "name": "Copy of Federated_Minst.ipynb",
      "provenance": [],
      "collapsed_sections": [],
      "toc_visible": true,
      "authorship_tag": "ABX9TyMXj/WVh/87GDKsmgDrr9WJ",
      "include_colab_link": true
    },
    "kernelspec": {
      "display_name": "Python 3",
      "name": "python3"
    },
    "language_info": {
      "name": "python"
    }
  },
  "cells": [
    {
      "cell_type": "markdown",
      "metadata": {
        "id": "view-in-github",
        "colab_type": "text"
      },
      "source": [
        "<a href=\"https://colab.research.google.com/github/gibsonx/CE888/blob/master/Federated_Minst.ipynb\" target=\"_parent\"><img src=\"https://colab.research.google.com/assets/colab-badge.svg\" alt=\"Open In Colab\"/></a>"
      ]
    },
    {
      "cell_type": "code",
      "metadata": {
        "colab": {
          "base_uri": "https://localhost:8080/"
        },
        "id": "HiEPQ5LYqL-q",
        "outputId": "32f7ef4e-b973-452c-a6e7-1d59dbdfa805"
      },
      "source": [
        "#Modified by Gibson Xue on July 25, 2021\n",
        "!pip uninstall --yes tensorflow tensorboard tb-nightly\n",
        "!pip install --quiet tensorflow==2.5.0\n",
        "!pip install --quiet tensorflow-federated==0.19.0\n",
        "!pip install --quiet nest-asyncio \n",
        "!pip install --quiet tensorboard  # or tensorboard, but not both\n",
        "!pip install boto3"
      ],
      "execution_count": 1,
      "outputs": [
        {
          "output_type": "stream",
          "text": [
            "Found existing installation: tensorflow 2.5.0\n",
            "Uninstalling tensorflow-2.5.0:\n",
            "  Successfully uninstalled tensorflow-2.5.0\n",
            "Found existing installation: tensorboard 2.5.0\n",
            "Uninstalling tensorboard-2.5.0:\n",
            "  Successfully uninstalled tensorboard-2.5.0\n",
            "\u001b[33mWARNING: Skipping tb-nightly as it is not installed.\u001b[0m\n",
            "Requirement already satisfied: boto3 in /usr/local/lib/python3.7/dist-packages (1.18.6)\n",
            "Requirement already satisfied: jmespath<1.0.0,>=0.7.1 in /usr/local/lib/python3.7/dist-packages (from boto3) (0.10.0)\n",
            "Requirement already satisfied: s3transfer<0.6.0,>=0.5.0 in /usr/local/lib/python3.7/dist-packages (from boto3) (0.5.0)\n",
            "Requirement already satisfied: botocore<1.22.0,>=1.21.6 in /usr/local/lib/python3.7/dist-packages (from boto3) (1.21.6)\n",
            "Requirement already satisfied: urllib3<1.27,>=1.25.4 in /usr/local/lib/python3.7/dist-packages (from botocore<1.22.0,>=1.21.6->boto3) (1.25.11)\n",
            "Requirement already satisfied: python-dateutil<3.0.0,>=2.1 in /usr/local/lib/python3.7/dist-packages (from botocore<1.22.0,>=1.21.6->boto3) (2.8.1)\n",
            "Requirement already satisfied: six>=1.5 in /usr/local/lib/python3.7/dist-packages (from python-dateutil<3.0.0,>=2.1->botocore<1.22.0,>=1.21.6->boto3) (1.15.0)\n"
          ],
          "name": "stdout"
        }
      ]
    },
    {
      "cell_type": "code",
      "metadata": {
        "id": "SOl6vViEnDXf",
        "colab": {
          "base_uri": "https://localhost:8080/"
        },
        "outputId": "dec35ead-0b26-430d-e13c-750547158af9"
      },
      "source": [
        "import tensorflow as tf\n",
        "import numpy as np\n",
        "import pandas as pd\n",
        "import matplotlib.pyplot as plt\n",
        "%matplotlib inline\n",
        "import nest_asyncio\n",
        "nest_asyncio.apply()\n",
        "import boto3\n",
        "print(tf.__version__)\n",
        "from tensorflow_federated.python.simulation import FileCheckpointManager"
      ],
      "execution_count": 2,
      "outputs": [
        {
          "output_type": "stream",
          "text": [
            "2.5.0\n"
          ],
          "name": "stdout"
        }
      ]
    },
    {
      "cell_type": "code",
      "metadata": {
        "colab": {
          "base_uri": "https://localhost:8080/"
        },
        "id": "jGZpQQEkf-oo",
        "outputId": "60c3ffa2-84b7-42b9-e292-65fc1041f023"
      },
      "source": [
        "from google.colab import drive\n",
        "drive.mount('/content/drive')"
      ],
      "execution_count": 3,
      "outputs": [
        {
          "output_type": "stream",
          "text": [
            "Drive already mounted at /content/drive; to attempt to forcibly remount, call drive.mount(\"/content/drive\", force_remount=True).\n"
          ],
          "name": "stdout"
        }
      ]
    },
    {
      "cell_type": "code",
      "metadata": {
        "id": "9qg9brC9qQ8T"
      },
      "source": [
        "import collections\n",
        "import functools\n",
        "import os\n",
        "import time\n",
        "from tensorflow.keras.datasets import mnist\n",
        "import numpy as np\n",
        "import tensorflow as tf\n",
        "import tensorflow_federated as tff\n",
        "import tensorflow_datasets as tfds\n",
        "import pandas as pd\n",
        "np.random.seed(0)\n",
        "\n",
        "import tarfile\n",
        "from tensorflow import reshape, nest, config\n",
        "from tensorflow.keras import losses, metrics, optimizers\n",
        "import tensorflow_federated as tff\n",
        "from matplotlib import pyplot as plt\n",
        "from pathlib import Path\n",
        "from sklearn.model_selection import train_test_split\n",
        "# Test the TFF is working:\n",
        "tff.federated_computation(lambda: 'Hello, World!')()\n",
        "from tensorflow.keras import Sequential\n",
        "from tensorflow.keras.layers import Dense, Dropout, Flatten, Conv2D, MaxPool2D,MaxPooling2D"
      ],
      "execution_count": 4,
      "outputs": []
    },
    {
      "cell_type": "code",
      "metadata": {
        "id": "J0TxhDgZuO-L"
      },
      "source": [
        "def create_keras_model():\n",
        "    model = Sequential([\n",
        "        # Conv2D(32, (3, 3), activation='relu', input_shape=(28, 28, 1)),\n",
        "        # MaxPool2D(pool_size=(2, 2)),\n",
        "        # Conv2D(64, (3, 3), activation='relu'),\n",
        "        # MaxPool2D(pool_size=(2, 2)),\n",
        "        # Flatten(),\n",
        "        # Dense(512, activation='relu'),\n",
        "        # Dense(10, activation='softmax')\n",
        "        Conv2D(32, kernel_size=(3, 3), activation=\"relu\",input_shape = (28,28,1)),\n",
        "        MaxPooling2D(pool_size=(2, 2)),\n",
        "        Conv2D(64, kernel_size=(3, 3), activation=\"relu\"),\n",
        "        MaxPooling2D(pool_size=(2, 2)),\n",
        "        Flatten(),\n",
        "        Dropout(0.5),\n",
        "        Dense(10, activation=\"softmax\"),\n",
        "        # Conv2D(filters = 64, kernel_size = (5,5),padding = 'Same',activation ='relu', input_shape = (28,28,1)),\n",
        "        \n",
        "        # Conv2D(filters = 64, kernel_size = (5,5),padding = 'Same',activation ='relu'),\n",
        "        # MaxPool2D(pool_size=(2,2)),\n",
        "        # Dropout(0.25),\n",
        "        # Conv2D(filters = 128, kernel_size = (3,3),padding = 'Same',activation ='relu'),\n",
        "        # Conv2D(filters = 128, kernel_size = (3,3),padding = 'Same',activation ='relu'),\n",
        "        # MaxPool2D(pool_size=(2,2), strides=(2,2)),\n",
        "        # Dropout(0.3),\n",
        "        # Flatten(),\n",
        "        # Dense(512, activation = \"relu\", use_bias= True),\n",
        "        # Dropout(0.5),\n",
        "        # Dense(10, activation = \"softmax\")\n",
        "    ])\n",
        "    return model"
      ],
      "execution_count": 5,
      "outputs": []
    },
    {
      "cell_type": "code",
      "metadata": {
        "id": "GAl9vAtoCW1L"
      },
      "source": [
        "experiment_name = \"mnist\"\n",
        "method = \"tff_training\"\n",
        "client_lr = 1e-2\n",
        "server_lr = 1e-2\n",
        "split = 4\n",
        "NUM_ROUNDS = 30\n",
        "NUM_EPOCHS = 1\n",
        "BATCH_SIZE = 20\n",
        "PREFETCH_BUFFER = 10\n",
        "\n",
        "df_orig_train = pd.read_csv('/content/drive/MyDrive/mnist_train.csv')\n",
        "df_orig_test = pd.read_csv('/content/drive/MyDrive/mnist_test.csv')\n",
        "\n",
        "# X_train = df_orig_train.drop('label',axis=1).to_numpy().astype(np.int32).reshape(59999,28,28,1)\n",
        "# Y_train = df_orig_train['label'].to_numpy().astype(np.int32)\n",
        "\n",
        "x_train = df_orig_train.iloc[:,1:].to_numpy().astype(np.float32).reshape(59999,28,28,1)[:30000]\n",
        "y_train = df_orig_train.iloc[:,0].to_numpy().astype(np.int32).reshape(59999,1)[:30000]\n",
        "x_test = df_orig_test.iloc[:,1:].to_numpy().astype(np.float32).reshape(df_orig_test.shape[0],28,28,1)[:300]\n",
        "y_test = df_orig_test.iloc[:,0].to_numpy().astype(np.int32).reshape(df_orig_test.shape[0],1)[:300]\n",
        "\n",
        "\n",
        "# (x_train, y_train), (x_test, y_test) = mnist.load_data()\n",
        "\n",
        "# x_train = x_train.astype(np.float32).reshape(60000, 28, 28, 1)[:300]\n",
        "# y_train = y_train.astype(np.int32).reshape(60000, 1)[:300]\n",
        "# x_test = x_test.astype(np.float32).reshape(10000, 28, 28, 1)[:300]\n",
        "# y_test = y_test.astype(np.int32).reshape(10000, 1)[:300]"
      ],
      "execution_count": 6,
      "outputs": []
    },
    {
      "cell_type": "code",
      "metadata": {
        "id": "7PAPW25UaIug"
      },
      "source": [
        "this_dir = Path.cwd()\n",
        "model_dir = this_dir / \"saved_models\" / experiment_name / method\n",
        "output_dir = this_dir / \"results\" / experiment_name / method\n",
        "\n",
        "if not model_dir.exists():\n",
        "    model_dir.mkdir(parents=True)\n",
        "\n",
        "if not output_dir.exists():\n",
        "    output_dir.mkdir(parents=True)"
      ],
      "execution_count": 7,
      "outputs": []
    },
    {
      "cell_type": "code",
      "metadata": {
        "colab": {
          "base_uri": "https://localhost:8080/"
        },
        "id": "Oi3epWpPFUQu",
        "outputId": "f41e40e2-e9f7-4805-a0f8-042d22da4138"
      },
      "source": [
        "total_image_count = len(x_train)\n",
        "image_per_set = int(np.floor(total_image_count/split))\n",
        "\n",
        "client_train_dataset = collections.OrderedDict()\n",
        "for i in range(1, split+1):\n",
        "    client_name = \"client_\" + str(i)\n",
        "    start = image_per_set * (i-1)\n",
        "    end = image_per_set * i\n",
        "\n",
        "    print(f\"Adding data from {start} to {end} for client : {client_name}\")\n",
        "    data = collections.OrderedDict((('label', y_train[start:end]), ('pixels', x_train[start:end])))\n",
        "    client_train_dataset[client_name] = data\n",
        "\n",
        "train_dataset = tff.simulation.datasets.TestClientData(client_train_dataset)\n",
        "\n",
        "sample_dataset = train_dataset.create_tf_dataset_for_client(train_dataset.client_ids[0])\n",
        "sample_element = next(iter(sample_dataset))\n",
        "\n",
        "SHUFFLE_BUFFER = image_per_set\n",
        "\n",
        "\n",
        "def preprocess(dataset):\n",
        "\n",
        "  def batch_format_fn(element):\n",
        "    \"\"\"Flatten a batch `pixels` and return the features as an `OrderedDict`.\"\"\"\n",
        "    print(element['pixels'])\n",
        "    return collections.OrderedDict(\n",
        "        x=reshape(element['pixels'], [-1, 28, 28, 1]),\n",
        "        y=reshape(element['label'], [-1, 1]))\n",
        "\n",
        "  return dataset.repeat(NUM_EPOCHS).shuffle(SHUFFLE_BUFFER).batch(\n",
        "      BATCH_SIZE).map(batch_format_fn).prefetch(PREFETCH_BUFFER)\n",
        "\n",
        "preprocessed_sample_dataset = preprocess(sample_dataset)\n",
        "sample_batch = nest.map_structure(lambda x: x.numpy(), next(iter(preprocessed_sample_dataset)))\n",
        "\n",
        "def make_federated_data(client_data, client_ids):\n",
        "    return [preprocess(client_data.create_tf_dataset_for_client(x)) for x in client_ids]\n",
        "\n",
        "federated_train_data = make_federated_data(train_dataset, train_dataset.client_ids)\n",
        "print('Number of client datasets: {l}'.format(l=len(federated_train_data)))\n",
        "print('First dataset: {d}'.format(d=federated_train_data[0]))\n",
        "federated_train_data\n"
      ],
      "execution_count": 8,
      "outputs": [
        {
          "output_type": "stream",
          "text": [
            "Adding data from 0 to 7500 for client : client_1\n",
            "Adding data from 7500 to 15000 for client : client_2\n",
            "Adding data from 15000 to 22500 for client : client_3\n",
            "Adding data from 22500 to 30000 for client : client_4\n",
            "Tensor(\"args_1:0\", shape=(None, 28, 28, 1), dtype=float32)\n",
            "Tensor(\"args_1:0\", shape=(None, 28, 28, 1), dtype=float32)\n",
            "Tensor(\"args_1:0\", shape=(None, 28, 28, 1), dtype=float32)\n",
            "Tensor(\"args_1:0\", shape=(None, 28, 28, 1), dtype=float32)\n",
            "Tensor(\"args_1:0\", shape=(None, 28, 28, 1), dtype=float32)\n",
            "Number of client datasets: 4\n",
            "First dataset: <PrefetchDataset shapes: OrderedDict([(x, (None, 28, 28, 1)), (y, (None, 1))]), types: OrderedDict([(x, tf.float32), (y, tf.int32)])>\n"
          ],
          "name": "stdout"
        },
        {
          "output_type": "execute_result",
          "data": {
            "text/plain": [
              "[<PrefetchDataset shapes: OrderedDict([(x, (None, 28, 28, 1)), (y, (None, 1))]), types: OrderedDict([(x, tf.float32), (y, tf.int32)])>,\n",
              " <PrefetchDataset shapes: OrderedDict([(x, (None, 28, 28, 1)), (y, (None, 1))]), types: OrderedDict([(x, tf.float32), (y, tf.int32)])>,\n",
              " <PrefetchDataset shapes: OrderedDict([(x, (None, 28, 28, 1)), (y, (None, 1))]), types: OrderedDict([(x, tf.float32), (y, tf.int32)])>,\n",
              " <PrefetchDataset shapes: OrderedDict([(x, (None, 28, 28, 1)), (y, (None, 1))]), types: OrderedDict([(x, tf.float32), (y, tf.int32)])>]"
            ]
          },
          "metadata": {
            "tags": []
          },
          "execution_count": 8
        }
      ]
    },
    {
      "cell_type": "code",
      "metadata": {
        "colab": {
          "base_uri": "https://localhost:8080/"
        },
        "id": "NTzGVl_mywLT",
        "outputId": "1d303b42-e5be-4043-853e-59c947863478"
      },
      "source": [
        "def model_fn():\n",
        "  # We _must_ create a new model here, and _not_ capture it from an external\n",
        "  # scope. TFF will call this within different graph contexts.\n",
        "\n",
        "  keras_model = create_keras_model()\n",
        "  return tff.learning.from_keras_model(\n",
        "      keras_model,\n",
        "      input_spec=preprocessed_sample_dataset.element_spec,\n",
        "      loss=losses.SparseCategoricalCrossentropy(),\n",
        "      metrics=[metrics.SparseCategoricalAccuracy()])\n",
        "\n",
        "\n",
        "iterative_process = tff.learning.build_federated_averaging_process(\n",
        "    model_fn,\n",
        "    client_optimizer_fn=lambda: optimizers.Adam(learning_rate=client_lr),\n",
        "    server_optimizer_fn=lambda: optimizers.SGD(learning_rate=server_lr))\n",
        "\n",
        "print(str(iterative_process.initialize.type_signature))"
      ],
      "execution_count": 9,
      "outputs": [
        {
          "output_type": "stream",
          "text": [
            "( -> <model=<trainable=<float32[3,3,1,32],float32[32],float32[3,3,32,64],float32[64],float32[1600,10],float32[10]>,non_trainable=<>>,optimizer_state=<int64>,delta_aggregate_state=<value_sum_process=<>,weight_sum_process=<>>,model_broadcast_state=<>>@SERVER)\n"
          ],
          "name": "stdout"
        }
      ]
    },
    {
      "cell_type": "code",
      "metadata": {
        "id": "Ob6VtBRYEzgW"
      },
      "source": [
        "tff_train_acc = []\n",
        "tff_val_acc = []\n",
        "tff_train_loss = []\n",
        "tff_val_loss = []\n",
        "\n",
        "eval_model = None"
      ],
      "execution_count": 10,
      "outputs": []
    },
    {
      "cell_type": "code",
      "metadata": {
        "id": "pRbLF63MY0Az"
      },
      "source": [
        "def download_dir(prefix, local, bucket, client):\n",
        "    \"\"\"\n",
        "    params:\n",
        "    - prefix: pattern to match in s3\n",
        "    - local: local path to folder in which to place files\n",
        "    - bucket: s3 bucket with target contents\n",
        "    - client: initialized s3 client object\n",
        "    \"\"\"\n",
        "    keys = []\n",
        "    dirs = []\n",
        "    next_token = ''\n",
        "    base_kwargs = {\n",
        "        'Bucket':bucket,\n",
        "        'Prefix':prefix,\n",
        "    }\n",
        "    while next_token is not None:\n",
        "        kwargs = base_kwargs.copy()\n",
        "        if next_token != '':\n",
        "            kwargs.update({'ContinuationToken': next_token})\n",
        "        results = client.list_objects_v2(**kwargs)\n",
        "        contents = results.get('Contents')\n",
        "        for i in contents:\n",
        "            k = i.get('Key')\n",
        "            if k[-1] != '/':\n",
        "                keys.append(k)\n",
        "            else:\n",
        "                dirs.append(k)\n",
        "        next_token = results.get('NextContinuationToken')\n",
        "    for d in dirs:\n",
        "        dest_pathname = os.path.join(local, d)\n",
        "        if not os.path.exists(os.path.dirname(dest_pathname)):\n",
        "            os.makedirs(os.path.dirname(dest_pathname))\n",
        "    for k in keys:\n",
        "        dest_pathname = os.path.join(local, k)\n",
        "        if not os.path.exists(os.path.dirname(dest_pathname)):\n",
        "            os.makedirs(os.path.dirname(dest_pathname))\n",
        "        client.download_file(bucket, k, dest_pathname)\n",
        "\n",
        "def untardir(path):\n",
        "    for path, directories, files in os.walk(path):\n",
        "        for f in files:\n",
        "            if f.endswith(\".tar.gz\"):\n",
        "                tar = tarfile.open(os.path.join(path,f), 'r:gz')\n",
        "                tar.extractall()\n",
        "                tar.close()        "
      ],
      "execution_count": 11,
      "outputs": []
    },
    {
      "cell_type": "code",
      "metadata": {
        "id": "OdsFreOQZG67"
      },
      "source": [
        "s3_client = boto3.client('s3', endpoint_url='http://47.254.74.134:9000',\n",
        "                          aws_access_key_id='minio',\n",
        "                          aws_secret_access_key='minio123'\n",
        "                          )\n",
        "download_dir('ckpt_', '/content', '9a62fd02-0820-479f-ac8a-ed0f7fba1138', client=s3_client)"
      ],
      "execution_count": null,
      "outputs": []
    },
    {
      "cell_type": "code",
      "metadata": {
        "id": "RqXRgkIe-Zrz"
      },
      "source": [
        "untardir('/')"
      ],
      "execution_count": null,
      "outputs": []
    },
    {
      "cell_type": "code",
      "metadata": {
        "id": "NtPOxrpxdTNG"
      },
      "source": [
        "# files = os.listdir(path)\n",
        "# state_new = iterative_process.initialize()\n",
        "# os.chdir(path)\n",
        "# for filePath in files:\n",
        "#   if os.path.isdir(filePath):\n",
        "# ckpt_manager = FileCheckpointManager(path)\n",
        "# state_new = ckpt_manager.load_checkpoint(state_new,round_num=1)\n",
        "# eval_model = create_keras_model()\n",
        "# print(eval_model.summary())\n",
        "# eval_model.compile(optimizer=optimizers.Adam(learning_rate=client_lr),\n",
        "#                     loss=losses.SparseCategoricalCrossentropy(),\n",
        "#                     metrics=[metrics.SparseCategoricalAccuracy()])"
      ],
      "execution_count": null,
      "outputs": []
    },
    {
      "cell_type": "code",
      "metadata": {
        "id": "tBXJGM-9Iv74"
      },
      "source": [
        "# state.model.assign_weights_to(eval_model)\n",
        "path = '/content'\n",
        "newstate = iterative_process.initialize()\n",
        "# eval_model = create_keras_model()\n",
        "# eval_model.compile(optimizer=optimizers.Adam(learning_rate=client_lr),\n",
        "#                     loss=losses.SparseCategoricalCrossentropy(),\n",
        "#                     metrics=[metrics.SparseCategoricalAccuracy()])\n",
        "ckpt_manager = FileCheckpointManager(path)\n",
        "eval_model = None\n",
        "for round_num in range(1):\n",
        "  print(round_num)\n",
        "  # state, tff_metrics = iterative_process.next(state, federated_train_data)\n",
        "  # newstate = ckpt_manager.load_checkpoint(newstate,round_num=round_num)\n",
        "  # eval_model = create_keras_model()\n",
        "  # eval_model.compile(optimizer=optimizers.Adam(learning_rate=client_lr),\n",
        "  #                     loss=losses.SparseCategoricalCrossentropy(),\n",
        "  #                     metrics=[metrics.SparseCategoricalAccuracy()])\n",
        "  # newstate.model.assign_weights_to(eval_model)\n",
        "\n",
        "  # ev_result = eval_model.evaluate(x_test, y_test, verbose=0)\n",
        "# # print('round {:2d}, metrics={}'.format(tff_metrics))\n",
        "#   print(f\"Eval loss : {ev_result[0]} and Eval accuracy : {ev_result[1]}\")\n",
        "\n",
        "if eval_model:\n",
        "    eval_model.save(model_dir / (experiment_name + \".h5\"))\n",
        "else:\n",
        "    print(\"training didn't started\")\n",
        "    exit()                    "
      ],
      "execution_count": null,
      "outputs": []
    },
    {
      "cell_type": "code",
      "metadata": {
        "id": "7xAyhNWZ74aS"
      },
      "source": [
        "ckpt_manager = FileCheckpointManager(path)\n",
        "ckpt_manager.save_checkpoint(state,round_num=1)\n"
      ],
      "execution_count": null,
      "outputs": []
    },
    {
      "cell_type": "code",
      "metadata": {
        "id": "sikzMHbh_Fdf"
      },
      "source": [
        "!tar czvf /content/ckpt_1.tar.gz /content/ckpt_1"
      ],
      "execution_count": null,
      "outputs": []
    }
  ]
}