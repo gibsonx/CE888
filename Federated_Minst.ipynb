{
  "nbformat": 4,
  "nbformat_minor": 0,
  "metadata": {
    "accelerator": "GPU",
    "colab": {
      "name": "Federated_Minst.ipynb",
      "provenance": [],
      "collapsed_sections": [],
      "authorship_tag": "ABX9TyOtOXiEznzLCJNLD88eCmca",
      "include_colab_link": true
    },
    "kernelspec": {
      "display_name": "Python 3",
      "name": "python3"
    },
    "language_info": {
      "name": "python"
    }
  },
  "cells": [
    {
      "cell_type": "markdown",
      "metadata": {
        "id": "view-in-github",
        "colab_type": "text"
      },
      "source": [
        "<a href=\"https://colab.research.google.com/github/gibsonx/CE888/blob/master/Federated_Minst.ipynb\" target=\"_parent\"><img src=\"https://colab.research.google.com/assets/colab-badge.svg\" alt=\"Open In Colab\"/></a>"
      ]
    },
    {
      "cell_type": "code",
      "metadata": {
        "colab": {
          "base_uri": "https://localhost:8080/"
        },
        "id": "HiEPQ5LYqL-q",
        "outputId": "5f86b172-5382-4d74-8042-1e2d78cf9676"
      },
      "source": [
        "#Modified by Gibson Xue on July 25, 2021\n",
        "!pip uninstall --yes tensorflow tensorboard tb-nightly\n",
        "!pip install --quiet tensorflow==2.5.0\n",
        "!pip install --quiet tensorflow-federated==0.19.0\n",
        "!pip install --quiet nest-asyncio\n",
        "!pip install --quiet tensorboard  # or tensorboard, but not both\n"
      ],
      "execution_count": 2,
      "outputs": [
        {
          "output_type": "stream",
          "text": [
            "Uninstalling tensorflow-2.5.0:\n",
            "  Successfully uninstalled tensorflow-2.5.0\n",
            "Uninstalling tensorboard-2.5.0:\n",
            "  Successfully uninstalled tensorboard-2.5.0\n",
            "\u001b[33mWARNING: Skipping tb-nightly as it is not installed.\u001b[0m\n",
            "\u001b[K     |████████████████████████████████| 454.3MB 33kB/s \n",
            "\u001b[K     |████████████████████████████████| 6.0MB 34.4MB/s \n",
            "\u001b[K     |████████████████████████████████| 604kB 4.9MB/s \n",
            "\u001b[K     |████████████████████████████████| 194kB 37.4MB/s \n",
            "\u001b[K     |████████████████████████████████| 174kB 40.4MB/s \n",
            "\u001b[K     |████████████████████████████████| 51kB 5.4MB/s \n",
            "\u001b[31mERROR: spacy 2.2.4 has requirement tqdm<5.0.0,>=4.38.0, but you'll have tqdm 4.28.1 which is incompatible.\u001b[0m\n",
            "\u001b[31mERROR: pymc3 3.11.2 has requirement cachetools>=4.2.1, but you'll have cachetools 3.1.1 which is incompatible.\u001b[0m\n",
            "\u001b[31mERROR: fbprophet 0.7.1 has requirement tqdm>=4.36.1, but you'll have tqdm 4.28.1 which is incompatible.\u001b[0m\n",
            "\u001b[31mERROR: datascience 0.10.6 has requirement folium==0.2.1, but you'll have folium 0.8.3 which is incompatible.\u001b[0m\n",
            "\u001b[?25h"
          ],
          "name": "stdout"
        }
      ]
    },
    {
      "cell_type": "code",
      "metadata": {
        "id": "SOl6vViEnDXf",
        "colab": {
          "base_uri": "https://localhost:8080/"
        },
        "outputId": "10ed5b1b-c1c8-42a7-f212-606cb57174d4"
      },
      "source": [
        "import tensorflow as tf\n",
        "import numpy as np\n",
        "import pandas as pd\n",
        "import matplotlib.pyplot as plt\n",
        "%matplotlib inline\n",
        "import nest_asyncio\n",
        "nest_asyncio.apply()\n",
        "print(tf.__version__)"
      ],
      "execution_count": 53,
      "outputs": [
        {
          "output_type": "stream",
          "text": [
            "2.5.0\n"
          ],
          "name": "stdout"
        }
      ]
    },
    {
      "cell_type": "code",
      "metadata": {
        "colab": {
          "base_uri": "https://localhost:8080/"
        },
        "id": "jGZpQQEkf-oo",
        "outputId": "533c5e4c-30ce-4fcc-972c-e340403fc736"
      },
      "source": [
        "from google.colab import drive\n",
        "drive.mount('/content/drive')"
      ],
      "execution_count": 1,
      "outputs": [
        {
          "output_type": "stream",
          "text": [
            "Mounted at /content/drive\n"
          ],
          "name": "stdout"
        }
      ]
    },
    {
      "cell_type": "code",
      "metadata": {
        "id": "9qg9brC9qQ8T"
      },
      "source": [
        "import collections\n",
        "import functools\n",
        "import os\n",
        "import time\n",
        "from tensorflow.keras.datasets import mnist\n",
        "import numpy as np\n",
        "import tensorflow as tf\n",
        "import tensorflow_federated as tff\n",
        "import tensorflow_datasets as tfds\n",
        "import pandas as pd\n",
        "np.random.seed(0)\n",
        "\n",
        "from tensorflow import reshape, nest, config\n",
        "from tensorflow.keras import losses, metrics, optimizers\n",
        "import tensorflow_federated as tff\n",
        "from matplotlib import pyplot as plt\n",
        "from pathlib import Path\n",
        "from sklearn.model_selection import train_test_split\n",
        "# Test the TFF is working:\n",
        "tff.federated_computation(lambda: 'Hello, World!')()\n",
        "from tensorflow.keras import Sequential\n",
        "from tensorflow.keras.layers import Dense, Dropout, Flatten, Conv2D, MaxPool2D"
      ],
      "execution_count": 54,
      "outputs": []
    },
    {
      "cell_type": "code",
      "metadata": {
        "id": "J0TxhDgZuO-L"
      },
      "source": [
        "def create_keras_model():\n",
        "    model = Sequential([\n",
        "        # Conv2D(32, (3, 3), activation='relu', input_shape=(28, 28, 1)),\n",
        "        # MaxPool2D(pool_size=(2, 2)),\n",
        "        # Conv2D(64, (3, 3), activation='relu'),\n",
        "        # MaxPool2D(pool_size=(2, 2)),\n",
        "        # Flatten(),\n",
        "        # Dense(512, activation='relu'),\n",
        "        # Dense(10, activation='softmax')\n",
        "        Conv2D(filters = 64, kernel_size = (5,5),padding = 'Same',activation ='relu', input_shape = (28,28,1)),\n",
        "        Conv2D(filters = 64, kernel_size = (5,5),padding = 'Same',activation ='relu'),\n",
        "        MaxPool2D(pool_size=(2,2)),\n",
        "        Dropout(0.25),\n",
        "        Conv2D(filters = 128, kernel_size = (3,3),padding = 'Same',activation ='relu'),\n",
        "        Conv2D(filters = 128, kernel_size = (3,3),padding = 'Same',activation ='relu'),\n",
        "        MaxPool2D(pool_size=(2,2), strides=(2,2)),\n",
        "        Dropout(0.3),\n",
        "        Flatten(),\n",
        "        Dense(512, activation = \"relu\", use_bias= True),\n",
        "        Dropout(0.5),\n",
        "        Dense(10, activation = \"softmax\")\n",
        "    ])\n",
        "    return model"
      ],
      "execution_count": 55,
      "outputs": []
    },
    {
      "cell_type": "code",
      "metadata": {
        "id": "GAl9vAtoCW1L"
      },
      "source": [
        "experiment_name = \"mnist\"\n",
        "method = \"tff_training\"\n",
        "client_lr = 1e-2\n",
        "server_lr = 1e-2\n",
        "split = 4\n",
        "NUM_ROUNDS = 5\n",
        "NUM_EPOCHS = 5\n",
        "BATCH_SIZE = 20\n",
        "PREFETCH_BUFFER = 10\n",
        "\n",
        "df_orig_train = pd.read_csv('/content/drive/MyDrive/mnist_train.csv')\n",
        "df_orig_test = pd.read_csv('/content/drive/MyDrive/mnist_test.csv')\n",
        "\n",
        "# X_train = df_orig_train.drop('label',axis=1).to_numpy().astype(np.int32).reshape(59999,28,28,1)\n",
        "# Y_train = df_orig_train['label'].to_numpy().astype(np.int32)\n",
        "\n",
        "x_train = df_orig_train.iloc[:,1:].to_numpy().astype(np.float32).reshape(59999,28,28,1)[:3000]\n",
        "y_train = df_orig_train.iloc[:,0].to_numpy().astype(np.int32).reshape(59999,1)[:3000]\n",
        "x_test = df_orig_test.iloc[:,1:].to_numpy().astype(np.float32).reshape(9999,28,28,1)[:500]\n",
        "y_test = df_orig_test.iloc[:,0].to_numpy().astype(np.int32).reshape(9999,1)[:500]\n",
        "\n",
        "\n",
        "# (x_train, y_train), (x_test, y_test) = mnist.load_data()\n",
        "\n",
        "# x_train = x_train.astype(np.float32).reshape(60000, 28, 28, 1)[:300]\n",
        "# y_train = y_train.astype(np.int32).reshape(60000, 1)[:300]\n",
        "# x_test = x_test.astype(np.float32).reshape(10000, 28, 28, 1)[:300]\n",
        "# y_test = y_test.astype(np.int32).reshape(10000, 1)[:300]"
      ],
      "execution_count": 87,
      "outputs": []
    },
    {
      "cell_type": "code",
      "metadata": {
        "id": "7PAPW25UaIug"
      },
      "source": [
        "this_dir = Path.cwd()\n",
        "model_dir = this_dir / \"saved_models\" / experiment_name / method\n",
        "output_dir = this_dir / \"results\" / experiment_name / method\n",
        "\n",
        "if not model_dir.exists():\n",
        "    model_dir.mkdir(parents=True)\n",
        "\n",
        "if not output_dir.exists():\n",
        "    output_dir.mkdir(parents=True)"
      ],
      "execution_count": 88,
      "outputs": []
    },
    {
      "cell_type": "code",
      "metadata": {
        "colab": {
          "base_uri": "https://localhost:8080/"
        },
        "id": "Oi3epWpPFUQu",
        "outputId": "d53adf36-ea1d-452a-b7e8-a6136e69a852"
      },
      "source": [
        "total_image_count = len(x_train)\n",
        "image_per_set = int(np.floor(total_image_count/split))\n",
        "\n",
        "client_train_dataset = collections.OrderedDict()\n",
        "for i in range(1, split+1):\n",
        "    client_name = \"client_\" + str(i)\n",
        "    start = image_per_set * (i-1)\n",
        "    end = image_per_set * i\n",
        "\n",
        "    print(f\"Adding data from {start} to {end} for client : {client_name}\")\n",
        "    data = collections.OrderedDict((('label', y_train[start:end]), ('pixels', x_train[start:end])))\n",
        "    client_train_dataset[client_name] = data\n",
        "\n",
        "train_dataset = tff.simulation.datasets.TestClientData(client_train_dataset)\n",
        "\n",
        "sample_dataset = train_dataset.create_tf_dataset_for_client(train_dataset.client_ids[0])\n",
        "sample_element = next(iter(sample_dataset))\n",
        "\n",
        "SHUFFLE_BUFFER = image_per_set\n",
        "\n",
        "\n",
        "def preprocess(dataset):\n",
        "\n",
        "  def batch_format_fn(element):\n",
        "    \"\"\"Flatten a batch `pixels` and return the features as an `OrderedDict`.\"\"\"\n",
        "    print(element['pixels'])\n",
        "    return collections.OrderedDict(\n",
        "        x=reshape(element['pixels'], [-1, 28, 28, 1]),\n",
        "        y=reshape(element['label'], [-1, 1]))\n",
        "\n",
        "  return dataset.repeat(NUM_EPOCHS).shuffle(SHUFFLE_BUFFER).batch(\n",
        "      BATCH_SIZE).map(batch_format_fn).prefetch(PREFETCH_BUFFER)\n",
        "\n",
        "preprocessed_sample_dataset = preprocess(sample_dataset)\n",
        "sample_batch = nest.map_structure(lambda x: x.numpy(), next(iter(preprocessed_sample_dataset)))\n",
        "\n",
        "def make_federated_data(client_data, client_ids):\n",
        "    return [preprocess(client_data.create_tf_dataset_for_client(x)) for x in client_ids]\n",
        "\n",
        "federated_train_data = make_federated_data(train_dataset, train_dataset.client_ids)\n",
        "print('Number of client datasets: {l}'.format(l=len(federated_train_data)))\n",
        "print('First dataset: {d}'.format(d=federated_train_data[0]))\n",
        "federated_train_data\n"
      ],
      "execution_count": 89,
      "outputs": [
        {
          "output_type": "stream",
          "text": [
            "Adding data from 0 to 750 for client : client_1\n",
            "Adding data from 750 to 1500 for client : client_2\n",
            "Adding data from 1500 to 2250 for client : client_3\n",
            "Adding data from 2250 to 3000 for client : client_4\n",
            "Tensor(\"args_1:0\", shape=(None, 28, 28, 1), dtype=float32)\n",
            "Tensor(\"args_1:0\", shape=(None, 28, 28, 1), dtype=float32)\n",
            "Tensor(\"args_1:0\", shape=(None, 28, 28, 1), dtype=float32)\n",
            "Tensor(\"args_1:0\", shape=(None, 28, 28, 1), dtype=float32)\n",
            "Tensor(\"args_1:0\", shape=(None, 28, 28, 1), dtype=float32)\n",
            "Number of client datasets: 4\n",
            "First dataset: <PrefetchDataset shapes: OrderedDict([(x, (None, 28, 28, 1)), (y, (None, 1))]), types: OrderedDict([(x, tf.float32), (y, tf.int32)])>\n"
          ],
          "name": "stdout"
        },
        {
          "output_type": "execute_result",
          "data": {
            "text/plain": [
              "[<PrefetchDataset shapes: OrderedDict([(x, (None, 28, 28, 1)), (y, (None, 1))]), types: OrderedDict([(x, tf.float32), (y, tf.int32)])>,\n",
              " <PrefetchDataset shapes: OrderedDict([(x, (None, 28, 28, 1)), (y, (None, 1))]), types: OrderedDict([(x, tf.float32), (y, tf.int32)])>,\n",
              " <PrefetchDataset shapes: OrderedDict([(x, (None, 28, 28, 1)), (y, (None, 1))]), types: OrderedDict([(x, tf.float32), (y, tf.int32)])>,\n",
              " <PrefetchDataset shapes: OrderedDict([(x, (None, 28, 28, 1)), (y, (None, 1))]), types: OrderedDict([(x, tf.float32), (y, tf.int32)])>]"
            ]
          },
          "metadata": {
            "tags": []
          },
          "execution_count": 89
        }
      ]
    },
    {
      "cell_type": "code",
      "metadata": {
        "colab": {
          "base_uri": "https://localhost:8080/"
        },
        "id": "NTzGVl_mywLT",
        "outputId": "d063c6df-efe5-47fc-9d32-a1ae289fca44"
      },
      "source": [
        "def model_fn():\n",
        "  # We _must_ create a new model here, and _not_ capture it from an external\n",
        "  # scope. TFF will call this within different graph contexts.\n",
        "\n",
        "  keras_model = create_keras_model()\n",
        "  return tff.learning.from_keras_model(\n",
        "      keras_model,\n",
        "      input_spec=preprocessed_sample_dataset.element_spec,\n",
        "      loss=losses.SparseCategoricalCrossentropy(),\n",
        "      metrics=[metrics.SparseCategoricalAccuracy()])\n",
        "\n",
        "\n",
        "iterative_process = tff.learning.build_federated_averaging_process(\n",
        "    model_fn,\n",
        "    client_optimizer_fn=lambda: optimizers.Adam(learning_rate=client_lr),\n",
        "    server_optimizer_fn=lambda: optimizers.SGD(learning_rate=server_lr))\n",
        "\n",
        "print(str(iterative_process.initialize.type_signature))"
      ],
      "execution_count": 90,
      "outputs": [
        {
          "output_type": "stream",
          "text": [
            "( -> <model=<trainable=<float32[5,5,1,64],float32[64],float32[5,5,64,64],float32[64],float32[3,3,64,128],float32[128],float32[3,3,128,128],float32[128],float32[6272,512],float32[512],float32[512,10],float32[10]>,non_trainable=<>>,optimizer_state=<int64>,delta_aggregate_state=<value_sum_process=<>,weight_sum_process=<>>,model_broadcast_state=<>>@SERVER)\n"
          ],
          "name": "stdout"
        }
      ]
    },
    {
      "cell_type": "code",
      "metadata": {
        "id": "Ob6VtBRYEzgW"
      },
      "source": [
        "tff_train_acc = []\n",
        "tff_val_acc = []\n",
        "tff_train_loss = []\n",
        "tff_val_loss = []\n",
        "\n",
        "eval_model = None"
      ],
      "execution_count": 91,
      "outputs": []
    },
    {
      "cell_type": "code",
      "metadata": {
        "colab": {
          "base_uri": "https://localhost:8080/"
        },
        "id": "tBXJGM-9Iv74",
        "outputId": "8bdb566e-f41d-4005-f559-0aa26505ed39"
      },
      "source": [
        "# state.model.assign_weights_to(eval_model)\n",
        "state = iterative_process.initialize()\n",
        "# eval_model = create_keras_model()\n",
        "# eval_model.compile(optimizer=optimizers.Adam(learning_rate=client_lr),\n",
        "#                     loss=losses.SparseCategoricalCrossentropy(),\n",
        "#                     metrics=[metrics.SparseCategoricalAccuracy()])\n",
        "\n",
        "eval_model = None\n",
        "for round_num in range(1, NUM_ROUNDS+1):\n",
        "    state, tff_metrics = iterative_process.next(state, federated_train_data)\n",
        "    eval_model = create_keras_model()\n",
        "    eval_model.compile(optimizer=optimizers.Adam(learning_rate=client_lr),\n",
        "                       loss=losses.SparseCategoricalCrossentropy(),\n",
        "                       metrics=[metrics.SparseCategoricalAccuracy()])\n",
        "\n",
        "    state.model.assign_weights_to(eval_model)\n",
        "\n",
        "    ev_result = eval_model.evaluate(x_test, y_test, verbose=0)\n",
        "    print('round {:2d}, metrics={}'.format(round_num, tff_metrics))\n",
        "    print(f\"Eval loss : {ev_result[0]} and Eval accuracy : {ev_result[1]}\")\n",
        "\n",
        "\n",
        "if eval_model:\n",
        "    eval_model.save(model_dir / (experiment_name + \".h5\"))\n",
        "else:\n",
        "    print(\"training didn't started\")\n",
        "    exit()                    "
      ],
      "execution_count": 92,
      "outputs": [
        {
          "output_type": "stream",
          "text": [
            "round  1, metrics=OrderedDict([('broadcast', ()), ('aggregation', OrderedDict([('mean_value', ()), ('mean_weight', ())])), ('train', OrderedDict([('sparse_categorical_accuracy', 0.3166), ('loss', 2.071793)])), ('stat', OrderedDict([('num_examples', 15000)]))])\n",
            "Eval loss : 6.67402982711792 and Eval accuracy : 0.1679999977350235\n",
            "round  2, metrics=OrderedDict([('broadcast', ()), ('aggregation', OrderedDict([('mean_value', ()), ('mean_weight', ())])), ('train', OrderedDict([('sparse_categorical_accuracy', 0.37073332), ('loss', 1.9195226)])), ('stat', OrderedDict([('num_examples', 15000)]))])\n",
            "Eval loss : 3.1638567447662354 and Eval accuracy : 0.17000000178813934\n",
            "round  3, metrics=OrderedDict([('broadcast', ()), ('aggregation', OrderedDict([('mean_value', ()), ('mean_weight', ())])), ('train', OrderedDict([('sparse_categorical_accuracy', 0.442), ('loss', 1.731934)])), ('stat', OrderedDict([('num_examples', 15000)]))])\n",
            "Eval loss : 2.184492349624634 and Eval accuracy : 0.23399999737739563\n",
            "round  4, metrics=OrderedDict([('broadcast', ()), ('aggregation', OrderedDict([('mean_value', ()), ('mean_weight', ())])), ('train', OrderedDict([('sparse_categorical_accuracy', 0.38666666), ('loss', 1.856433)])), ('stat', OrderedDict([('num_examples', 15000)]))])\n",
            "Eval loss : 2.1366333961486816 and Eval accuracy : 0.30000001192092896\n",
            "round  5, metrics=OrderedDict([('broadcast', ()), ('aggregation', OrderedDict([('mean_value', ()), ('mean_weight', ())])), ('train', OrderedDict([('sparse_categorical_accuracy', 0.36673334), ('loss', 1.9581331)])), ('stat', OrderedDict([('num_examples', 15000)]))])\n",
            "Eval loss : 2.2058587074279785 and Eval accuracy : 0.3659999966621399\n"
          ],
          "name": "stdout"
        }
      ]
    }
  ]
}