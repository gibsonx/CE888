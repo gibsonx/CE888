{
 "cells": [
  {
   "cell_type": "markdown",
   "id": "9afd9c7a",
   "metadata": {
    "id": "view-in-github",
    "papermill": {
     "duration": 0.003475,
     "end_time": "2023-02-16T12:02:04.561254",
     "exception": false,
     "start_time": "2023-02-16T12:02:04.557779",
     "status": "completed"
    },
    "tags": []
   },
   "source": [
    "<a href=\"https://colab.research.google.com/github/gibsonx/CE888/blob/master/skeleton_detection.ipynb\" target=\"_parent\"><img src=\"https://colab.research.google.com/assets/colab-badge.svg\" alt=\"Open In Colab\"/></a>"
   ]
  },
  {
   "cell_type": "code",
   "execution_count": 1,
   "id": "2dbc03ae",
   "metadata": {
    "execution": {
     "iopub.execute_input": "2023-02-16T12:02:04.569731Z",
     "iopub.status.busy": "2023-02-16T12:02:04.568831Z",
     "iopub.status.idle": "2023-02-16T12:02:13.173561Z",
     "shell.execute_reply": "2023-02-16T12:02:13.171752Z"
    },
    "id": "zTpZ6X6eHhb9",
    "outputId": "116ca562-5f4f-43e4-b58b-d7ee8dacc0dc",
    "papermill": {
     "duration": 8.612976,
     "end_time": "2023-02-16T12:02:13.177274",
     "exception": false,
     "start_time": "2023-02-16T12:02:04.564298",
     "status": "completed"
    },
    "tags": []
   },
   "outputs": [
    {
     "name": "stdout",
     "output_type": "stream",
     "text": [
      "1.11.0+cpu False\n"
     ]
    }
   ],
   "source": [
    "import tensorflow as tf\n",
    "tf.__version__\n",
    "import torch, torchvision\n",
    "print(torch.__version__, torch.cuda.is_available())"
   ]
  },
  {
   "cell_type": "code",
   "execution_count": 2,
   "id": "dd85a7df",
   "metadata": {
    "execution": {
     "iopub.execute_input": "2023-02-16T12:02:13.184745Z",
     "iopub.status.busy": "2023-02-16T12:02:13.183914Z",
     "iopub.status.idle": "2023-02-16T12:04:23.346292Z",
     "shell.execute_reply": "2023-02-16T12:04:23.344895Z"
    },
    "id": "GJ5LpY_PHqmT",
    "papermill": {
     "duration": 130.169927,
     "end_time": "2023-02-16T12:04:23.349896",
     "exception": false,
     "start_time": "2023-02-16T12:02:13.179969",
     "status": "completed"
    },
    "tags": []
   },
   "outputs": [
    {
     "name": "stdout",
     "output_type": "stream",
     "text": [
      "Name: PyYAML\r\n",
      "Version: 6.0\r\n",
      "Summary: YAML parser and emitter for Python\r\n",
      "Home-page: https://pyyaml.org/\r\n",
      "Author: Kirill Simonov\r\n",
      "Author-email: xi@resolvent.net\r\n",
      "License: MIT\r\n",
      "Location: /opt/conda/lib/python3.7/site-packages\r\n",
      "Requires: \r\n",
      "Required-by: accelerate, albumentations, autocfg, bokeh, cliff, cookiecutter, dask, distributed, easyocr, essentia, fastai, flax, gluoncv, huggingface-hub, jupytext, kubernetes, nnabla, optuna, pandas-profiling, papermill, pyaml, pytorch-lightning, quilt3, ray, rvlib, transformers, vaex-core, wandb, yacs\r\n"
     ]
    }
   ],
   "source": [
    "!pip show pyyaml\n",
    "!python -m pip install 'git+https://github.com/facebookresearch/detectron2.git' &> /dev/null"
   ]
  },
  {
   "cell_type": "code",
   "execution_count": 3,
   "id": "11bf3104",
   "metadata": {
    "execution": {
     "iopub.execute_input": "2023-02-16T12:04:23.358145Z",
     "iopub.status.busy": "2023-02-16T12:04:23.357727Z",
     "iopub.status.idle": "2023-02-16T12:04:24.635426Z",
     "shell.execute_reply": "2023-02-16T12:04:24.634135Z"
    },
    "id": "u_EMXLcKH3cz",
    "papermill": {
     "duration": 1.285616,
     "end_time": "2023-02-16T12:04:24.638613",
     "exception": false,
     "start_time": "2023-02-16T12:04:23.352997",
     "status": "completed"
    },
    "tags": []
   },
   "outputs": [],
   "source": [
    "import numpy as np\n",
    "import cv2\n",
    "import pandas as pd\n",
    "import matplotlib.pyplot as plt\n",
    "import seaborn as sns\n",
    "import os\n",
    "from detectron2.engine import DefaultTrainer\n",
    "from detectron2.config import get_cfg\n",
    "import detectron2\n",
    "from detectron2.utils.logger import setup_logger\n",
    "setup_logger()\n",
    "\n",
    "# import some common libraries\n",
    "import numpy as np\n",
    "import os, json, cv2, random\n",
    "#from google.colab.patches import cv2_imshow\n",
    "\n",
    "# import some common detectron2 utilities\n",
    "from detectron2 import model_zoo\n",
    "from detectron2.engine import DefaultPredictor\n",
    "from detectron2.config import get_cfg\n",
    "from detectron2.utils.visualizer import Visualizer\n",
    "from detectron2.data import MetadataCatalog, DatasetCatalog\n",
    "from detectron2.structures import BoxMode"
   ]
  },
  {
   "cell_type": "code",
   "execution_count": 4,
   "id": "3f9fcacc",
   "metadata": {
    "execution": {
     "iopub.execute_input": "2023-02-16T12:04:24.645983Z",
     "iopub.status.busy": "2023-02-16T12:04:24.645502Z",
     "iopub.status.idle": "2023-02-16T12:04:24.653092Z",
     "shell.execute_reply": "2023-02-16T12:04:24.651425Z"
    },
    "papermill": {
     "duration": 0.014668,
     "end_time": "2023-02-16T12:04:24.656034",
     "exception": false,
     "start_time": "2023-02-16T12:04:24.641366",
     "status": "completed"
    },
    "tags": []
   },
   "outputs": [],
   "source": [
    "from detectron2.data.datasets import register_coco_instances\n",
    "\n",
    "\n",
    "register_coco_instances(\"person_keypoints_train\", {}, \"/kaggle/input/coco-2017-dataset/coco2017/annotations/person_keypoints_train2017.json\", \"person_keypoints_project\")\n",
    "\n",
    "register_coco_instances(\"person_keypoints_val\", {}, \"/kaggle/input/coco-2017-dataset/coco2017/annotations/person_keypoints_val2017.json\", \"person_keypoints_project\")"
   ]
  }
 ],
 "metadata": {
  "kernelspec": {
   "display_name": "Python 3",
   "language": "python",
   "name": "python3"
  },
  "language_info": {
   "codemirror_mode": {
    "name": "ipython",
    "version": 3
   },
   "file_extension": ".py",
   "mimetype": "text/x-python",
   "name": "python",
   "nbconvert_exporter": "python",
   "pygments_lexer": "ipython3",
   "version": "3.7.12"
  },
  "papermill": {
   "default_parameters": {},
   "duration": 153.923947,
   "end_time": "2023-02-16T12:04:27.881512",
   "environment_variables": {},
   "exception": null,
   "input_path": "__notebook__.ipynb",
   "output_path": "__notebook__.ipynb",
   "parameters": {},
   "start_time": "2023-02-16T12:01:53.957565",
   "version": "2.3.4"
  }
 },
 "nbformat": 4,
 "nbformat_minor": 5
}
