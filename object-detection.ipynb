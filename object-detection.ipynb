{
 "cells": [
  {
   "cell_type": "markdown",
   "id": "690df53e",
   "metadata": {
    "id": "view-in-github",
    "papermill": {
     "duration": 0.004103,
     "end_time": "2023-02-16T14:42:37.221226",
     "exception": false,
     "start_time": "2023-02-16T14:42:37.217123",
     "status": "completed"
    },
    "tags": []
   },
   "source": [
    "<a href=\"https://colab.research.google.com/github/gibsonx/CE888/blob/master/skeleton_detection.ipynb\" target=\"_parent\"><img src=\"https://colab.research.google.com/assets/colab-badge.svg\" alt=\"Open In Colab\"/></a>"
   ]
  },
  {
   "cell_type": "code",
   "execution_count": 1,
   "id": "0f18a7fb",
   "metadata": {
    "execution": {
     "iopub.execute_input": "2023-02-16T14:42:37.229604Z",
     "iopub.status.busy": "2023-02-16T14:42:37.229055Z",
     "iopub.status.idle": "2023-02-16T14:42:44.041117Z",
     "shell.execute_reply": "2023-02-16T14:42:44.040075Z"
    },
    "id": "zTpZ6X6eHhb9",
    "outputId": "116ca562-5f4f-43e4-b58b-d7ee8dacc0dc",
    "papermill": {
     "duration": 6.819143,
     "end_time": "2023-02-16T14:42:44.043634",
     "exception": false,
     "start_time": "2023-02-16T14:42:37.224491",
     "status": "completed"
    },
    "tags": []
   },
   "outputs": [
    {
     "name": "stdout",
     "output_type": "stream",
     "text": [
      "1.11.0 True\n"
     ]
    }
   ],
   "source": [
    "import tensorflow as tf\n",
    "tf.__version__\n",
    "import torch, torchvision\n",
    "print(torch.__version__, torch.cuda.is_available())"
   ]
  },
  {
   "cell_type": "code",
   "execution_count": 2,
   "id": "ee0030ee",
   "metadata": {
    "execution": {
     "iopub.execute_input": "2023-02-16T14:42:44.051690Z",
     "iopub.status.busy": "2023-02-16T14:42:44.051181Z",
     "iopub.status.idle": "2023-02-16T14:45:49.657162Z",
     "shell.execute_reply": "2023-02-16T14:45:49.655876Z"
    },
    "id": "GJ5LpY_PHqmT",
    "papermill": {
     "duration": 185.612838,
     "end_time": "2023-02-16T14:45:49.659834",
     "exception": false,
     "start_time": "2023-02-16T14:42:44.046996",
     "status": "completed"
    },
    "tags": []
   },
   "outputs": [
    {
     "name": "stdout",
     "output_type": "stream",
     "text": [
      "Name: PyYAML\r\n",
      "Version: 6.0\r\n",
      "Summary: YAML parser and emitter for Python\r\n",
      "Home-page: https://pyyaml.org/\r\n",
      "Author: Kirill Simonov\r\n",
      "Author-email: xi@resolvent.net\r\n",
      "License: MIT\r\n",
      "Location: /opt/conda/lib/python3.7/site-packages\r\n",
      "Requires: \r\n",
      "Required-by: accelerate, albumentations, autocfg, bokeh, cliff, cookiecutter, dask, distributed, easyocr, essentia, fastai, flax, gluoncv, huggingface-hub, jupytext, kubernetes, nnabla, optuna, pandas-profiling, papermill, pyaml, pytorch-lightning, quilt3, ray, rvlib, transformers, vaex-core, wandb, yacs\r\n"
     ]
    }
   ],
   "source": [
    "!pip show pyyaml\n",
    "!python -m pip install 'git+https://github.com/facebookresearch/detectron2.git' &> /dev/null"
   ]
  },
  {
   "cell_type": "code",
   "execution_count": 3,
   "id": "616aac23",
   "metadata": {
    "execution": {
     "iopub.execute_input": "2023-02-16T14:45:49.668682Z",
     "iopub.status.busy": "2023-02-16T14:45:49.668358Z",
     "iopub.status.idle": "2023-02-16T14:45:50.582495Z",
     "shell.execute_reply": "2023-02-16T14:45:50.581501Z"
    },
    "id": "u_EMXLcKH3cz",
    "papermill": {
     "duration": 0.921208,
     "end_time": "2023-02-16T14:45:50.584987",
     "exception": false,
     "start_time": "2023-02-16T14:45:49.663779",
     "status": "completed"
    },
    "tags": []
   },
   "outputs": [],
   "source": [
    "import numpy as np\n",
    "import cv2\n",
    "import pandas as pd\n",
    "import matplotlib.pyplot as plt\n",
    "import seaborn as sns\n",
    "import os\n",
    "from detectron2.engine import DefaultTrainer\n",
    "from detectron2.config import get_cfg\n",
    "import detectron2\n",
    "from detectron2.utils.logger import setup_logger\n",
    "setup_logger()\n",
    "\n",
    "# import some common libraries\n",
    "import numpy as np\n",
    "import os, json, cv2, random\n",
    "#from google.colab.patches import cv2_imshow\n",
    "\n",
    "# import some common detectron2 utilities\n",
    "from detectron2 import model_zoo\n",
    "from detectron2.engine import DefaultPredictor\n",
    "from detectron2.config import get_cfg\n",
    "from detectron2.utils.visualizer import Visualizer\n",
    "from detectron2.data import MetadataCatalog, DatasetCatalog\n",
    "from detectron2.structures import BoxMode"
   ]
  },
  {
   "cell_type": "code",
   "execution_count": 4,
   "id": "d4a9475f",
   "metadata": {
    "execution": {
     "iopub.execute_input": "2023-02-16T14:45:50.593067Z",
     "iopub.status.busy": "2023-02-16T14:45:50.592777Z",
     "iopub.status.idle": "2023-02-16T14:45:50.598638Z",
     "shell.execute_reply": "2023-02-16T14:45:50.597767Z"
    },
    "papermill": {
     "duration": 0.012103,
     "end_time": "2023-02-16T14:45:50.600639",
     "exception": false,
     "start_time": "2023-02-16T14:45:50.588536",
     "status": "completed"
    },
    "tags": []
   },
   "outputs": [],
   "source": [
    "from detectron2.data.datasets import register_coco_instances\n",
    "\n",
    "\n",
    "register_coco_instances(\"person_keypoints_train\", {}, \"/kaggle/input/coco-2017-dataset/coco2017/annotations/person_keypoints_train2017.json\", \"/kaggle/input/coco-2017-dataset/coco2017/train2017\")\n",
    "\n",
    "register_coco_instances(\"person_keypoints_val\", {}, \"/kaggle/input/coco-2017-dataset/coco2017/annotations/person_keypoints_val2017.json\", \"/kaggle/input/coco-2017-dataset/coco2017/val2017\")"
   ]
  },
  {
   "cell_type": "code",
   "execution_count": 5,
   "id": "44b7b732",
   "metadata": {
    "execution": {
     "iopub.execute_input": "2023-02-16T14:45:50.608267Z",
     "iopub.status.busy": "2023-02-16T14:45:50.607986Z",
     "iopub.status.idle": "2023-02-16T14:45:50.612533Z",
     "shell.execute_reply": "2023-02-16T14:45:50.611523Z"
    },
    "papermill": {
     "duration": 0.010919,
     "end_time": "2023-02-16T14:45:50.614739",
     "exception": false,
     "start_time": "2023-02-16T14:45:50.603820",
     "status": "completed"
    },
    "tags": []
   },
   "outputs": [],
   "source": [
    "from detectron2.data import MetadataCatalog\n",
    "MetadataCatalog.get(\"person_keypoints_train\").thing_classes = [\"person\"]"
   ]
  },
  {
   "cell_type": "code",
   "execution_count": 6,
   "id": "75903ba3",
   "metadata": {
    "execution": {
     "iopub.execute_input": "2023-02-16T14:45:50.622218Z",
     "iopub.status.busy": "2023-02-16T14:45:50.621938Z",
     "iopub.status.idle": "2023-02-16T14:45:50.626707Z",
     "shell.execute_reply": "2023-02-16T14:45:50.625707Z"
    },
    "papermill": {
     "duration": 0.011098,
     "end_time": "2023-02-16T14:45:50.628951",
     "exception": false,
     "start_time": "2023-02-16T14:45:50.617853",
     "status": "completed"
    },
    "tags": []
   },
   "outputs": [],
   "source": [
    "keypoint_names = [\"nose\",\"left_eye\",\"right_eye\",\"left_ear\",\"right_ear\",\"left_shoulder\",\"right_shoulder\",\"left_elbow\",\"right_elbow\",\"left_wrist\",\"right_wrist\",\"left_hip\",\"right_hip\",\"left_knee\",\"right_knee\",\"left_ankle\",\"right_ankle\"]\n",
    "keypoint_flip_map = [('left_eye', 'right_eye'),]"
   ]
  },
  {
   "cell_type": "code",
   "execution_count": 7,
   "id": "3eac315b",
   "metadata": {
    "execution": {
     "iopub.execute_input": "2023-02-16T14:45:50.636229Z",
     "iopub.status.busy": "2023-02-16T14:45:50.635959Z",
     "iopub.status.idle": "2023-02-16T14:45:50.643672Z",
     "shell.execute_reply": "2023-02-16T14:45:50.642819Z"
    },
    "papermill": {
     "duration": 0.013553,
     "end_time": "2023-02-16T14:45:50.645621",
     "exception": false,
     "start_time": "2023-02-16T14:45:50.632068",
     "status": "completed"
    },
    "tags": []
   },
   "outputs": [
    {
     "data": {
      "text/plain": [
       "17"
      ]
     },
     "execution_count": 7,
     "metadata": {},
     "output_type": "execute_result"
    }
   ],
   "source": [
    "len(keypoint_names)"
   ]
  },
  {
   "cell_type": "code",
   "execution_count": 8,
   "id": "aea8177c",
   "metadata": {
    "execution": {
     "iopub.execute_input": "2023-02-16T14:45:50.653627Z",
     "iopub.status.busy": "2023-02-16T14:45:50.652868Z",
     "iopub.status.idle": "2023-02-16T14:45:50.657864Z",
     "shell.execute_reply": "2023-02-16T14:45:50.656965Z"
    },
    "papermill": {
     "duration": 0.01101,
     "end_time": "2023-02-16T14:45:50.659806",
     "exception": false,
     "start_time": "2023-02-16T14:45:50.648796",
     "status": "completed"
    },
    "tags": []
   },
   "outputs": [],
   "source": [
    "MetadataCatalog.get(\"person_keypoints_train\").thing_dataset_id_to_contiguous_id = {1:0}\n",
    "MetadataCatalog.get(\"person_keypoints_train\").keypoint_names = keypoint_names\n",
    "MetadataCatalog.get(\"person_keypoints_train\").keypoint_flip_map = keypoint_flip_map\n",
    "MetadataCatalog.get(\"person_keypoints_train\").evaluator_type=\"coco\""
   ]
  },
  {
   "cell_type": "code",
   "execution_count": 9,
   "id": "2decd8e3",
   "metadata": {
    "execution": {
     "iopub.execute_input": "2023-02-16T14:45:50.669358Z",
     "iopub.status.busy": "2023-02-16T14:45:50.667728Z",
     "iopub.status.idle": "2023-02-16T14:46:09.205335Z",
     "shell.execute_reply": "2023-02-16T14:46:09.204261Z"
    },
    "papermill": {
     "duration": 18.544653,
     "end_time": "2023-02-16T14:46:09.207836",
     "exception": false,
     "start_time": "2023-02-16T14:45:50.663183",
     "status": "completed"
    },
    "tags": []
   },
   "outputs": [
    {
     "name": "stdout",
     "output_type": "stream",
     "text": [
      "\u001b[32m[02/16 14:46:02 d2.data.datasets.coco]: \u001b[0mLoading /kaggle/input/coco-2017-dataset/coco2017/annotations/person_keypoints_train2017.json takes 11.42 seconds.\n",
      "\u001b[32m[02/16 14:46:03 d2.data.datasets.coco]: \u001b[0mLoaded 118287 images in COCO format from /kaggle/input/coco-2017-dataset/coco2017/annotations/person_keypoints_train2017.json\n"
     ]
    },
    {
     "data": {
      "text/plain": [
       "{'file_name': '/kaggle/input/coco-2017-dataset/coco2017/train2017/000000000009.jpg',\n",
       " 'height': 480,\n",
       " 'width': 640,\n",
       " 'image_id': 9,\n",
       " 'annotations': []}"
      ]
     },
     "execution_count": 9,
     "metadata": {},
     "output_type": "execute_result"
    }
   ],
   "source": [
    "dataset_dicts = DatasetCatalog.get(\"person_keypoints_train\")\n",
    "dataset_dicts[0]"
   ]
  },
  {
   "cell_type": "markdown",
   "id": "a3682ef5",
   "metadata": {
    "papermill": {
     "duration": 0.00387,
     "end_time": "2023-02-16T14:46:09.215952",
     "exception": false,
     "start_time": "2023-02-16T14:46:09.212082",
     "status": "completed"
    },
    "tags": []
   },
   "source": [
    "#Begin Training"
   ]
  },
  {
   "cell_type": "code",
   "execution_count": 10,
   "id": "2999cd3e",
   "metadata": {
    "execution": {
     "iopub.execute_input": "2023-02-16T14:46:09.225955Z",
     "iopub.status.busy": "2023-02-16T14:46:09.225201Z",
     "iopub.status.idle": "2023-02-16T14:58:02.381087Z",
     "shell.execute_reply": "2023-02-16T14:58:02.379879Z"
    },
    "papermill": {
     "duration": 713.163556,
     "end_time": "2023-02-16T14:58:02.383632",
     "exception": false,
     "start_time": "2023-02-16T14:46:09.220076",
     "status": "completed"
    },
    "tags": []
   },
   "outputs": [
    {
     "name": "stdout",
     "output_type": "stream",
     "text": [
      "\u001b[32m[02/16 14:46:15 d2.engine.defaults]: \u001b[0mModel:\n",
      "GeneralizedRCNN(\n",
      "  (backbone): FPN(\n",
      "    (fpn_lateral2): Conv2d(256, 256, kernel_size=(1, 1), stride=(1, 1))\n",
      "    (fpn_output2): Conv2d(256, 256, kernel_size=(3, 3), stride=(1, 1), padding=(1, 1))\n",
      "    (fpn_lateral3): Conv2d(512, 256, kernel_size=(1, 1), stride=(1, 1))\n",
      "    (fpn_output3): Conv2d(256, 256, kernel_size=(3, 3), stride=(1, 1), padding=(1, 1))\n",
      "    (fpn_lateral4): Conv2d(1024, 256, kernel_size=(1, 1), stride=(1, 1))\n",
      "    (fpn_output4): Conv2d(256, 256, kernel_size=(3, 3), stride=(1, 1), padding=(1, 1))\n",
      "    (fpn_lateral5): Conv2d(2048, 256, kernel_size=(1, 1), stride=(1, 1))\n",
      "    (fpn_output5): Conv2d(256, 256, kernel_size=(3, 3), stride=(1, 1), padding=(1, 1))\n",
      "    (top_block): LastLevelMaxPool()\n",
      "    (bottom_up): ResNet(\n",
      "      (stem): BasicStem(\n",
      "        (conv1): Conv2d(\n",
      "          3, 64, kernel_size=(7, 7), stride=(2, 2), padding=(3, 3), bias=False\n",
      "          (norm): FrozenBatchNorm2d(num_features=64, eps=1e-05)\n",
      "        )\n",
      "      )\n",
      "      (res2): Sequential(\n",
      "        (0): BottleneckBlock(\n",
      "          (shortcut): Conv2d(\n",
      "            64, 256, kernel_size=(1, 1), stride=(1, 1), bias=False\n",
      "            (norm): FrozenBatchNorm2d(num_features=256, eps=1e-05)\n",
      "          )\n",
      "          (conv1): Conv2d(\n",
      "            64, 64, kernel_size=(1, 1), stride=(1, 1), bias=False\n",
      "            (norm): FrozenBatchNorm2d(num_features=64, eps=1e-05)\n",
      "          )\n",
      "          (conv2): Conv2d(\n",
      "            64, 64, kernel_size=(3, 3), stride=(1, 1), padding=(1, 1), bias=False\n",
      "            (norm): FrozenBatchNorm2d(num_features=64, eps=1e-05)\n",
      "          )\n",
      "          (conv3): Conv2d(\n",
      "            64, 256, kernel_size=(1, 1), stride=(1, 1), bias=False\n",
      "            (norm): FrozenBatchNorm2d(num_features=256, eps=1e-05)\n",
      "          )\n",
      "        )\n",
      "        (1): BottleneckBlock(\n",
      "          (conv1): Conv2d(\n",
      "            256, 64, kernel_size=(1, 1), stride=(1, 1), bias=False\n",
      "            (norm): FrozenBatchNorm2d(num_features=64, eps=1e-05)\n",
      "          )\n",
      "          (conv2): Conv2d(\n",
      "            64, 64, kernel_size=(3, 3), stride=(1, 1), padding=(1, 1), bias=False\n",
      "            (norm): FrozenBatchNorm2d(num_features=64, eps=1e-05)\n",
      "          )\n",
      "          (conv3): Conv2d(\n",
      "            64, 256, kernel_size=(1, 1), stride=(1, 1), bias=False\n",
      "            (norm): FrozenBatchNorm2d(num_features=256, eps=1e-05)\n",
      "          )\n",
      "        )\n",
      "        (2): BottleneckBlock(\n",
      "          (conv1): Conv2d(\n",
      "            256, 64, kernel_size=(1, 1), stride=(1, 1), bias=False\n",
      "            (norm): FrozenBatchNorm2d(num_features=64, eps=1e-05)\n",
      "          )\n",
      "          (conv2): Conv2d(\n",
      "            64, 64, kernel_size=(3, 3), stride=(1, 1), padding=(1, 1), bias=False\n",
      "            (norm): FrozenBatchNorm2d(num_features=64, eps=1e-05)\n",
      "          )\n",
      "          (conv3): Conv2d(\n",
      "            64, 256, kernel_size=(1, 1), stride=(1, 1), bias=False\n",
      "            (norm): FrozenBatchNorm2d(num_features=256, eps=1e-05)\n",
      "          )\n",
      "        )\n",
      "      )\n",
      "      (res3): Sequential(\n",
      "        (0): BottleneckBlock(\n",
      "          (shortcut): Conv2d(\n",
      "            256, 512, kernel_size=(1, 1), stride=(2, 2), bias=False\n",
      "            (norm): FrozenBatchNorm2d(num_features=512, eps=1e-05)\n",
      "          )\n",
      "          (conv1): Conv2d(\n",
      "            256, 128, kernel_size=(1, 1), stride=(2, 2), bias=False\n",
      "            (norm): FrozenBatchNorm2d(num_features=128, eps=1e-05)\n",
      "          )\n",
      "          (conv2): Conv2d(\n",
      "            128, 128, kernel_size=(3, 3), stride=(1, 1), padding=(1, 1), bias=False\n",
      "            (norm): FrozenBatchNorm2d(num_features=128, eps=1e-05)\n",
      "          )\n",
      "          (conv3): Conv2d(\n",
      "            128, 512, kernel_size=(1, 1), stride=(1, 1), bias=False\n",
      "            (norm): FrozenBatchNorm2d(num_features=512, eps=1e-05)\n",
      "          )\n",
      "        )\n",
      "        (1): BottleneckBlock(\n",
      "          (conv1): Conv2d(\n",
      "            512, 128, kernel_size=(1, 1), stride=(1, 1), bias=False\n",
      "            (norm): FrozenBatchNorm2d(num_features=128, eps=1e-05)\n",
      "          )\n",
      "          (conv2): Conv2d(\n",
      "            128, 128, kernel_size=(3, 3), stride=(1, 1), padding=(1, 1), bias=False\n",
      "            (norm): FrozenBatchNorm2d(num_features=128, eps=1e-05)\n",
      "          )\n",
      "          (conv3): Conv2d(\n",
      "            128, 512, kernel_size=(1, 1), stride=(1, 1), bias=False\n",
      "            (norm): FrozenBatchNorm2d(num_features=512, eps=1e-05)\n",
      "          )\n",
      "        )\n",
      "        (2): BottleneckBlock(\n",
      "          (conv1): Conv2d(\n",
      "            512, 128, kernel_size=(1, 1), stride=(1, 1), bias=False\n",
      "            (norm): FrozenBatchNorm2d(num_features=128, eps=1e-05)\n",
      "          )\n",
      "          (conv2): Conv2d(\n",
      "            128, 128, kernel_size=(3, 3), stride=(1, 1), padding=(1, 1), bias=False\n",
      "            (norm): FrozenBatchNorm2d(num_features=128, eps=1e-05)\n",
      "          )\n",
      "          (conv3): Conv2d(\n",
      "            128, 512, kernel_size=(1, 1), stride=(1, 1), bias=False\n",
      "            (norm): FrozenBatchNorm2d(num_features=512, eps=1e-05)\n",
      "          )\n",
      "        )\n",
      "        (3): BottleneckBlock(\n",
      "          (conv1): Conv2d(\n",
      "            512, 128, kernel_size=(1, 1), stride=(1, 1), bias=False\n",
      "            (norm): FrozenBatchNorm2d(num_features=128, eps=1e-05)\n",
      "          )\n",
      "          (conv2): Conv2d(\n",
      "            128, 128, kernel_size=(3, 3), stride=(1, 1), padding=(1, 1), bias=False\n",
      "            (norm): FrozenBatchNorm2d(num_features=128, eps=1e-05)\n",
      "          )\n",
      "          (conv3): Conv2d(\n",
      "            128, 512, kernel_size=(1, 1), stride=(1, 1), bias=False\n",
      "            (norm): FrozenBatchNorm2d(num_features=512, eps=1e-05)\n",
      "          )\n",
      "        )\n",
      "      )\n",
      "      (res4): Sequential(\n",
      "        (0): BottleneckBlock(\n",
      "          (shortcut): Conv2d(\n",
      "            512, 1024, kernel_size=(1, 1), stride=(2, 2), bias=False\n",
      "            (norm): FrozenBatchNorm2d(num_features=1024, eps=1e-05)\n",
      "          )\n",
      "          (conv1): Conv2d(\n",
      "            512, 256, kernel_size=(1, 1), stride=(2, 2), bias=False\n",
      "            (norm): FrozenBatchNorm2d(num_features=256, eps=1e-05)\n",
      "          )\n",
      "          (conv2): Conv2d(\n",
      "            256, 256, kernel_size=(3, 3), stride=(1, 1), padding=(1, 1), bias=False\n",
      "            (norm): FrozenBatchNorm2d(num_features=256, eps=1e-05)\n",
      "          )\n",
      "          (conv3): Conv2d(\n",
      "            256, 1024, kernel_size=(1, 1), stride=(1, 1), bias=False\n",
      "            (norm): FrozenBatchNorm2d(num_features=1024, eps=1e-05)\n",
      "          )\n",
      "        )\n",
      "        (1): BottleneckBlock(\n",
      "          (conv1): Conv2d(\n",
      "            1024, 256, kernel_size=(1, 1), stride=(1, 1), bias=False\n",
      "            (norm): FrozenBatchNorm2d(num_features=256, eps=1e-05)\n",
      "          )\n",
      "          (conv2): Conv2d(\n",
      "            256, 256, kernel_size=(3, 3), stride=(1, 1), padding=(1, 1), bias=False\n",
      "            (norm): FrozenBatchNorm2d(num_features=256, eps=1e-05)\n",
      "          )\n",
      "          (conv3): Conv2d(\n",
      "            256, 1024, kernel_size=(1, 1), stride=(1, 1), bias=False\n",
      "            (norm): FrozenBatchNorm2d(num_features=1024, eps=1e-05)\n",
      "          )\n",
      "        )\n",
      "        (2): BottleneckBlock(\n",
      "          (conv1): Conv2d(\n",
      "            1024, 256, kernel_size=(1, 1), stride=(1, 1), bias=False\n",
      "            (norm): FrozenBatchNorm2d(num_features=256, eps=1e-05)\n",
      "          )\n",
      "          (conv2): Conv2d(\n",
      "            256, 256, kernel_size=(3, 3), stride=(1, 1), padding=(1, 1), bias=False\n",
      "            (norm): FrozenBatchNorm2d(num_features=256, eps=1e-05)\n",
      "          )\n",
      "          (conv3): Conv2d(\n",
      "            256, 1024, kernel_size=(1, 1), stride=(1, 1), bias=False\n",
      "            (norm): FrozenBatchNorm2d(num_features=1024, eps=1e-05)\n",
      "          )\n",
      "        )\n",
      "        (3): BottleneckBlock(\n",
      "          (conv1): Conv2d(\n",
      "            1024, 256, kernel_size=(1, 1), stride=(1, 1), bias=False\n",
      "            (norm): FrozenBatchNorm2d(num_features=256, eps=1e-05)\n",
      "          )\n",
      "          (conv2): Conv2d(\n",
      "            256, 256, kernel_size=(3, 3), stride=(1, 1), padding=(1, 1), bias=False\n",
      "            (norm): FrozenBatchNorm2d(num_features=256, eps=1e-05)\n",
      "          )\n",
      "          (conv3): Conv2d(\n",
      "            256, 1024, kernel_size=(1, 1), stride=(1, 1), bias=False\n",
      "            (norm): FrozenBatchNorm2d(num_features=1024, eps=1e-05)\n",
      "          )\n",
      "        )\n",
      "        (4): BottleneckBlock(\n",
      "          (conv1): Conv2d(\n",
      "            1024, 256, kernel_size=(1, 1), stride=(1, 1), bias=False\n",
      "            (norm): FrozenBatchNorm2d(num_features=256, eps=1e-05)\n",
      "          )\n",
      "          (conv2): Conv2d(\n",
      "            256, 256, kernel_size=(3, 3), stride=(1, 1), padding=(1, 1), bias=False\n",
      "            (norm): FrozenBatchNorm2d(num_features=256, eps=1e-05)\n",
      "          )\n",
      "          (conv3): Conv2d(\n",
      "            256, 1024, kernel_size=(1, 1), stride=(1, 1), bias=False\n",
      "            (norm): FrozenBatchNorm2d(num_features=1024, eps=1e-05)\n",
      "          )\n",
      "        )\n",
      "        (5): BottleneckBlock(\n",
      "          (conv1): Conv2d(\n",
      "            1024, 256, kernel_size=(1, 1), stride=(1, 1), bias=False\n",
      "            (norm): FrozenBatchNorm2d(num_features=256, eps=1e-05)\n",
      "          )\n",
      "          (conv2): Conv2d(\n",
      "            256, 256, kernel_size=(3, 3), stride=(1, 1), padding=(1, 1), bias=False\n",
      "            (norm): FrozenBatchNorm2d(num_features=256, eps=1e-05)\n",
      "          )\n",
      "          (conv3): Conv2d(\n",
      "            256, 1024, kernel_size=(1, 1), stride=(1, 1), bias=False\n",
      "            (norm): FrozenBatchNorm2d(num_features=1024, eps=1e-05)\n",
      "          )\n",
      "        )\n",
      "      )\n",
      "      (res5): Sequential(\n",
      "        (0): BottleneckBlock(\n",
      "          (shortcut): Conv2d(\n",
      "            1024, 2048, kernel_size=(1, 1), stride=(2, 2), bias=False\n",
      "            (norm): FrozenBatchNorm2d(num_features=2048, eps=1e-05)\n",
      "          )\n",
      "          (conv1): Conv2d(\n",
      "            1024, 512, kernel_size=(1, 1), stride=(2, 2), bias=False\n",
      "            (norm): FrozenBatchNorm2d(num_features=512, eps=1e-05)\n",
      "          )\n",
      "          (conv2): Conv2d(\n",
      "            512, 512, kernel_size=(3, 3), stride=(1, 1), padding=(1, 1), bias=False\n",
      "            (norm): FrozenBatchNorm2d(num_features=512, eps=1e-05)\n",
      "          )\n",
      "          (conv3): Conv2d(\n",
      "            512, 2048, kernel_size=(1, 1), stride=(1, 1), bias=False\n",
      "            (norm): FrozenBatchNorm2d(num_features=2048, eps=1e-05)\n",
      "          )\n",
      "        )\n",
      "        (1): BottleneckBlock(\n",
      "          (conv1): Conv2d(\n",
      "            2048, 512, kernel_size=(1, 1), stride=(1, 1), bias=False\n",
      "            (norm): FrozenBatchNorm2d(num_features=512, eps=1e-05)\n",
      "          )\n",
      "          (conv2): Conv2d(\n",
      "            512, 512, kernel_size=(3, 3), stride=(1, 1), padding=(1, 1), bias=False\n",
      "            (norm): FrozenBatchNorm2d(num_features=512, eps=1e-05)\n",
      "          )\n",
      "          (conv3): Conv2d(\n",
      "            512, 2048, kernel_size=(1, 1), stride=(1, 1), bias=False\n",
      "            (norm): FrozenBatchNorm2d(num_features=2048, eps=1e-05)\n",
      "          )\n",
      "        )\n",
      "        (2): BottleneckBlock(\n",
      "          (conv1): Conv2d(\n",
      "            2048, 512, kernel_size=(1, 1), stride=(1, 1), bias=False\n",
      "            (norm): FrozenBatchNorm2d(num_features=512, eps=1e-05)\n",
      "          )\n",
      "          (conv2): Conv2d(\n",
      "            512, 512, kernel_size=(3, 3), stride=(1, 1), padding=(1, 1), bias=False\n",
      "            (norm): FrozenBatchNorm2d(num_features=512, eps=1e-05)\n",
      "          )\n",
      "          (conv3): Conv2d(\n",
      "            512, 2048, kernel_size=(1, 1), stride=(1, 1), bias=False\n",
      "            (norm): FrozenBatchNorm2d(num_features=2048, eps=1e-05)\n",
      "          )\n",
      "        )\n",
      "      )\n",
      "    )\n",
      "  )\n",
      "  (proposal_generator): RPN(\n",
      "    (rpn_head): StandardRPNHead(\n",
      "      (conv): Conv2d(\n",
      "        256, 256, kernel_size=(3, 3), stride=(1, 1), padding=(1, 1)\n",
      "        (activation): ReLU()\n",
      "      )\n",
      "      (objectness_logits): Conv2d(256, 3, kernel_size=(1, 1), stride=(1, 1))\n",
      "      (anchor_deltas): Conv2d(256, 12, kernel_size=(1, 1), stride=(1, 1))\n",
      "    )\n",
      "    (anchor_generator): DefaultAnchorGenerator(\n",
      "      (cell_anchors): BufferList()\n",
      "    )\n",
      "  )\n",
      "  (roi_heads): StandardROIHeads(\n",
      "    (box_pooler): ROIPooler(\n",
      "      (level_poolers): ModuleList(\n",
      "        (0): ROIAlign(output_size=(7, 7), spatial_scale=0.25, sampling_ratio=0, aligned=True)\n",
      "        (1): ROIAlign(output_size=(7, 7), spatial_scale=0.125, sampling_ratio=0, aligned=True)\n",
      "        (2): ROIAlign(output_size=(7, 7), spatial_scale=0.0625, sampling_ratio=0, aligned=True)\n",
      "        (3): ROIAlign(output_size=(7, 7), spatial_scale=0.03125, sampling_ratio=0, aligned=True)\n",
      "      )\n",
      "    )\n",
      "    (box_head): FastRCNNConvFCHead(\n",
      "      (flatten): Flatten(start_dim=1, end_dim=-1)\n",
      "      (fc1): Linear(in_features=12544, out_features=1024, bias=True)\n",
      "      (fc_relu1): ReLU()\n",
      "      (fc2): Linear(in_features=1024, out_features=1024, bias=True)\n",
      "      (fc_relu2): ReLU()\n",
      "    )\n",
      "    (box_predictor): FastRCNNOutputLayers(\n",
      "      (cls_score): Linear(in_features=1024, out_features=2, bias=True)\n",
      "      (bbox_pred): Linear(in_features=1024, out_features=4, bias=True)\n",
      "    )\n",
      "    (keypoint_pooler): ROIPooler(\n",
      "      (level_poolers): ModuleList(\n",
      "        (0): ROIAlign(output_size=(14, 14), spatial_scale=0.25, sampling_ratio=0, aligned=True)\n",
      "        (1): ROIAlign(output_size=(14, 14), spatial_scale=0.125, sampling_ratio=0, aligned=True)\n",
      "        (2): ROIAlign(output_size=(14, 14), spatial_scale=0.0625, sampling_ratio=0, aligned=True)\n",
      "        (3): ROIAlign(output_size=(14, 14), spatial_scale=0.03125, sampling_ratio=0, aligned=True)\n",
      "      )\n",
      "    )\n",
      "    (keypoint_head): KRCNNConvDeconvUpsampleHead(\n",
      "      (conv_fcn1): Conv2d(256, 512, kernel_size=(3, 3), stride=(1, 1), padding=(1, 1))\n",
      "      (conv_fcn_relu1): ReLU()\n",
      "      (conv_fcn2): Conv2d(512, 512, kernel_size=(3, 3), stride=(1, 1), padding=(1, 1))\n",
      "      (conv_fcn_relu2): ReLU()\n",
      "      (conv_fcn3): Conv2d(512, 512, kernel_size=(3, 3), stride=(1, 1), padding=(1, 1))\n",
      "      (conv_fcn_relu3): ReLU()\n",
      "      (conv_fcn4): Conv2d(512, 512, kernel_size=(3, 3), stride=(1, 1), padding=(1, 1))\n",
      "      (conv_fcn_relu4): ReLU()\n",
      "      (conv_fcn5): Conv2d(512, 512, kernel_size=(3, 3), stride=(1, 1), padding=(1, 1))\n",
      "      (conv_fcn_relu5): ReLU()\n",
      "      (conv_fcn6): Conv2d(512, 512, kernel_size=(3, 3), stride=(1, 1), padding=(1, 1))\n",
      "      (conv_fcn_relu6): ReLU()\n",
      "      (conv_fcn7): Conv2d(512, 512, kernel_size=(3, 3), stride=(1, 1), padding=(1, 1))\n",
      "      (conv_fcn_relu7): ReLU()\n",
      "      (conv_fcn8): Conv2d(512, 512, kernel_size=(3, 3), stride=(1, 1), padding=(1, 1))\n",
      "      (conv_fcn_relu8): ReLU()\n",
      "      (score_lowres): ConvTranspose2d(512, 17, kernel_size=(4, 4), stride=(2, 2), padding=(1, 1))\n",
      "    )\n",
      "  )\n",
      ")\n",
      "\u001b[32m[02/16 14:46:25 d2.data.datasets.coco]: \u001b[0mLoading /kaggle/input/coco-2017-dataset/coco2017/annotations/person_keypoints_train2017.json takes 9.85 seconds.\n",
      "\u001b[32m[02/16 14:46:28 d2.data.datasets.coco]: \u001b[0mLoaded 118287 images in COCO format from /kaggle/input/coco-2017-dataset/coco2017/annotations/person_keypoints_train2017.json\n",
      "\u001b[32m[02/16 14:46:33 d2.data.build]: \u001b[0mRemoved 54172 images with no usable annotations. 64115 images left.\n",
      "\u001b[32m[02/16 14:46:34 d2.data.build]: \u001b[0mRemoved 7516 images with fewer than 1 keypoints.\n",
      "\u001b[32m[02/16 14:46:37 d2.data.build]: \u001b[0mDistribution of instances among all 1 categories:\n",
      "\u001b[36m|  category  | #instances   |\n",
      "|:----------:|:-------------|\n",
      "|   person   | 224840       |\n",
      "|            |              |\u001b[0m\n",
      "\u001b[32m[02/16 14:46:37 d2.data.dataset_mapper]: \u001b[0m[DatasetMapper] Augmentations used in training: [ResizeShortestEdge(short_edge_length=(640, 672, 704, 736, 768, 800), max_size=1333, sample_style='choice'), RandomFlip()]\n",
      "\u001b[32m[02/16 14:46:37 d2.data.build]: \u001b[0mUsing training sampler TrainingSampler\n",
      "\u001b[32m[02/16 14:46:37 d2.data.common]: \u001b[0mSerializing the dataset using: <class 'detectron2.data.common._TorchSerializedList'>\n",
      "\u001b[32m[02/16 14:46:37 d2.data.common]: \u001b[0mSerializing 56599 elements to byte tensors and concatenating them all ...\n",
      "\u001b[32m[02/16 14:46:39 d2.data.common]: \u001b[0mSerialized dataset takes 241.03 MiB\n",
      "\u001b[5m\u001b[31mWARNING\u001b[0m \u001b[32m[02/16 14:46:40 d2.solver.build]: \u001b[0mSOLVER.STEPS contains values larger than SOLVER.MAX_ITER. These values will be ignored.\n",
      "\u001b[32m[02/16 14:46:40 d2.checkpoint.detection_checkpoint]: \u001b[0m[DetectionCheckpointer] Loading from https://dl.fbaipublicfiles.com/detectron2/COCO-Keypoints/keypoint_rcnn_R_50_FPN_3x/137849621/model_final_a6e10b.pkl ...\n"
     ]
    },
    {
     "name": "stderr",
     "output_type": "stream",
     "text": [
      "model_final_a6e10b.pkl: 237MB [00:02, 90.9MB/s]                           \n"
     ]
    },
    {
     "name": "stdout",
     "output_type": "stream",
     "text": [
      "\u001b[32m[02/16 14:46:43 d2.engine.train_loop]: \u001b[0mStarting training from iteration 0\n"
     ]
    },
    {
     "name": "stderr",
     "output_type": "stream",
     "text": [
      "/opt/conda/lib/python3.7/site-packages/detectron2/structures/keypoints.py:29: UserWarning: Creating a tensor from a list of numpy.ndarrays is extremely slow. Please consider converting the list to a single numpy.ndarray with numpy.array() before converting to a tensor. (Triggered internally at  /usr/local/src/pytorch/torch/csrc/utils/tensor_new.cpp:207.)\n",
      "  keypoints = torch.as_tensor(keypoints, dtype=torch.float32, device=device)\n",
      "/opt/conda/lib/python3.7/site-packages/detectron2/structures/keypoints.py:29: UserWarning: Creating a tensor from a list of numpy.ndarrays is extremely slow. Please consider converting the list to a single numpy.ndarray with numpy.array() before converting to a tensor. (Triggered internally at  /usr/local/src/pytorch/torch/csrc/utils/tensor_new.cpp:207.)\n",
      "  keypoints = torch.as_tensor(keypoints, dtype=torch.float32, device=device)\n",
      "/opt/conda/lib/python3.7/site-packages/torch/functional.py:568: UserWarning: torch.meshgrid: in an upcoming release, it will be required to pass the indexing argument. (Triggered internally at  /usr/local/src/pytorch/aten/src/ATen/native/TensorShape.cpp:2227.)\n",
      "  return _VF.meshgrid(tensors, **kwargs)  # type: ignore[attr-defined]\n"
     ]
    },
    {
     "name": "stdout",
     "output_type": "stream",
     "text": [
      "\u001b[32m[02/16 14:46:57 d2.utils.events]: \u001b[0m eta: 0:10:44  iter: 19  total_loss: 6.056  loss_cls: 0.1094  loss_box_reg: 0.09689  loss_keypoint: 5.71  loss_rpn_cls: 0.006094  loss_rpn_loc: 0.01163  time: 0.3297  last_time: 0.3087  data_time: 0.0228  last_data_time: 0.0008   lr: 4.9953e-06  max_mem: 2780M\n",
      "\u001b[32m[02/16 14:47:04 d2.utils.events]: \u001b[0m eta: 0:10:49  iter: 39  total_loss: 4.286  loss_cls: 0.09841  loss_box_reg: 0.1275  loss_keypoint: 3.919  loss_rpn_cls: 0.007297  loss_rpn_loc: 0.01719  time: 0.3381  last_time: 0.3073  data_time: 0.0083  last_data_time: 0.0010   lr: 9.9902e-06  max_mem: 2780M\n",
      "\u001b[32m[02/16 14:47:10 d2.utils.events]: \u001b[0m eta: 0:10:39  iter: 59  total_loss: 5.294  loss_cls: 0.1086  loss_box_reg: 0.1574  loss_keypoint: 4.972  loss_rpn_cls: 0.003821  loss_rpn_loc: 0.02701  time: 0.3343  last_time: 0.3440  data_time: 0.0076  last_data_time: 0.0041   lr: 1.4985e-05  max_mem: 2780M\n",
      "\u001b[32m[02/16 14:47:17 d2.utils.events]: \u001b[0m eta: 0:10:36  iter: 79  total_loss: 4.885  loss_cls: 0.09793  loss_box_reg: 0.1221  loss_keypoint: 4.593  loss_rpn_cls: 0.005181  loss_rpn_loc: 0.01153  time: 0.3342  last_time: 0.3444  data_time: 0.0085  last_data_time: 0.0073   lr: 1.998e-05  max_mem: 2850M\n",
      "\u001b[32m[02/16 14:47:24 d2.utils.events]: \u001b[0m eta: 0:10:31  iter: 99  total_loss: 4.995  loss_cls: 0.09053  loss_box_reg: 0.1111  loss_keypoint: 4.779  loss_rpn_cls: 0.005145  loss_rpn_loc: 0.01268  time: 0.3346  last_time: 0.3215  data_time: 0.0083  last_data_time: 0.0053   lr: 2.4975e-05  max_mem: 2937M\n",
      "\u001b[32m[02/16 14:47:30 d2.utils.events]: \u001b[0m eta: 0:10:23  iter: 119  total_loss: 5.136  loss_cls: 0.08786  loss_box_reg: 0.09839  loss_keypoint: 4.915  loss_rpn_cls: 0.003686  loss_rpn_loc: 0.01133  time: 0.3342  last_time: 0.3912  data_time: 0.0085  last_data_time: 0.0101   lr: 2.997e-05  max_mem: 2937M\n",
      "\u001b[32m[02/16 14:47:37 d2.utils.events]: \u001b[0m eta: 0:10:18  iter: 139  total_loss: 6.232  loss_cls: 0.08687  loss_box_reg: 0.09388  loss_keypoint: 6.004  loss_rpn_cls: 0.004848  loss_rpn_loc: 0.01196  time: 0.3357  last_time: 0.3847  data_time: 0.0108  last_data_time: 0.0083   lr: 3.4965e-05  max_mem: 2937M\n",
      "\u001b[32m[02/16 14:47:44 d2.utils.events]: \u001b[0m eta: 0:10:11  iter: 159  total_loss: 4.119  loss_cls: 0.1161  loss_box_reg: 0.1374  loss_keypoint: 3.914  loss_rpn_cls: 0.01464  loss_rpn_loc: 0.02296  time: 0.3341  last_time: 0.3523  data_time: 0.0082  last_data_time: 0.0140   lr: 3.996e-05  max_mem: 2937M\n",
      "\u001b[32m[02/16 14:47:50 d2.utils.events]: \u001b[0m eta: 0:10:06  iter: 179  total_loss: 4.404  loss_cls: 0.1156  loss_box_reg: 0.1586  loss_keypoint: 4.025  loss_rpn_cls: 0.008155  loss_rpn_loc: 0.02097  time: 0.3339  last_time: 0.3117  data_time: 0.0080  last_data_time: 0.0069   lr: 4.4955e-05  max_mem: 2937M\n",
      "\u001b[32m[02/16 14:47:57 d2.utils.events]: \u001b[0m eta: 0:10:01  iter: 199  total_loss: 4.392  loss_cls: 0.09967  loss_box_reg: 0.1266  loss_keypoint: 4.029  loss_rpn_cls: 0.005408  loss_rpn_loc: 0.01334  time: 0.3343  last_time: 0.3524  data_time: 0.0073  last_data_time: 0.0074   lr: 4.995e-05  max_mem: 2937M\n",
      "\u001b[32m[02/16 14:48:04 d2.utils.events]: \u001b[0m eta: 0:09:54  iter: 219  total_loss: 4.655  loss_cls: 0.08775  loss_box_reg: 0.132  loss_keypoint: 4.088  loss_rpn_cls: 0.003117  loss_rpn_loc: 0.01234  time: 0.3333  last_time: 0.3445  data_time: 0.0080  last_data_time: 0.0043   lr: 5.4945e-05  max_mem: 2937M\n",
      "\u001b[32m[02/16 14:48:10 d2.utils.events]: \u001b[0m eta: 0:09:49  iter: 239  total_loss: 4.457  loss_cls: 0.07011  loss_box_reg: 0.1054  loss_keypoint: 4.02  loss_rpn_cls: 0.002848  loss_rpn_loc: 0.01195  time: 0.3341  last_time: 0.3355  data_time: 0.0088  last_data_time: 0.0039   lr: 5.994e-05  max_mem: 2937M\n",
      "\u001b[32m[02/16 14:48:17 d2.utils.events]: \u001b[0m eta: 0:09:42  iter: 259  total_loss: 4.472  loss_cls: 0.09485  loss_box_reg: 0.0972  loss_keypoint: 4.151  loss_rpn_cls: 0.006452  loss_rpn_loc: 0.01573  time: 0.3342  last_time: 0.3307  data_time: 0.0081  last_data_time: 0.0041   lr: 6.4935e-05  max_mem: 2937M\n",
      "\u001b[32m[02/16 14:48:24 d2.utils.events]: \u001b[0m eta: 0:09:34  iter: 279  total_loss: 4.676  loss_cls: 0.1075  loss_box_reg: 0.1046  loss_keypoint: 4.353  loss_rpn_cls: 0.004029  loss_rpn_loc: 0.01924  time: 0.3337  last_time: 0.3118  data_time: 0.0090  last_data_time: 0.0070   lr: 6.993e-05  max_mem: 2937M\n",
      "\u001b[32m[02/16 14:48:30 d2.utils.events]: \u001b[0m eta: 0:09:26  iter: 299  total_loss: 4.511  loss_cls: 0.1007  loss_box_reg: 0.1553  loss_keypoint: 4.201  loss_rpn_cls: 0.005669  loss_rpn_loc: 0.02576  time: 0.3333  last_time: 0.3112  data_time: 0.0084  last_data_time: 0.0040   lr: 7.4925e-05  max_mem: 2937M\n",
      "\u001b[32m[02/16 14:48:37 d2.utils.events]: \u001b[0m eta: 0:09:21  iter: 319  total_loss: 4.102  loss_cls: 0.1219  loss_box_reg: 0.1353  loss_keypoint: 3.87  loss_rpn_cls: 0.01016  loss_rpn_loc: 0.01964  time: 0.3339  last_time: 0.3283  data_time: 0.0085  last_data_time: 0.0154   lr: 7.992e-05  max_mem: 2937M\n",
      "\u001b[32m[02/16 14:48:44 d2.utils.events]: \u001b[0m eta: 0:09:14  iter: 339  total_loss: 4.272  loss_cls: 0.0878  loss_box_reg: 0.163  loss_keypoint: 3.926  loss_rpn_cls: 0.006416  loss_rpn_loc: 0.02345  time: 0.3335  last_time: 0.3231  data_time: 0.0083  last_data_time: 0.0044   lr: 8.4915e-05  max_mem: 2937M\n",
      "\u001b[32m[02/16 14:48:50 d2.utils.events]: \u001b[0m eta: 0:09:07  iter: 359  total_loss: 4.074  loss_cls: 0.09265  loss_box_reg: 0.1215  loss_keypoint: 3.83  loss_rpn_cls: 0.005905  loss_rpn_loc: 0.02031  time: 0.3336  last_time: 0.3425  data_time: 0.0076  last_data_time: 0.0102   lr: 8.991e-05  max_mem: 2937M\n",
      "\u001b[32m[02/16 14:48:57 d2.utils.events]: \u001b[0m eta: 0:09:00  iter: 379  total_loss: 3.974  loss_cls: 0.05166  loss_box_reg: 0.08171  loss_keypoint: 3.671  loss_rpn_cls: 0.005244  loss_rpn_loc: 0.01003  time: 0.3334  last_time: 0.3034  data_time: 0.0089  last_data_time: 0.0050   lr: 9.4905e-05  max_mem: 2937M\n",
      "\u001b[32m[02/16 14:49:04 d2.utils.events]: \u001b[0m eta: 0:08:54  iter: 399  total_loss: 4.374  loss_cls: 0.07739  loss_box_reg: 0.1273  loss_keypoint: 4.097  loss_rpn_cls: 0.00422  loss_rpn_loc: 0.01327  time: 0.3334  last_time: 0.3864  data_time: 0.0075  last_data_time: 0.0100   lr: 9.99e-05  max_mem: 2937M\n",
      "\u001b[32m[02/16 14:49:10 d2.utils.events]: \u001b[0m eta: 0:08:48  iter: 419  total_loss: 4.103  loss_cls: 0.085  loss_box_reg: 0.1164  loss_keypoint: 3.867  loss_rpn_cls: 0.006067  loss_rpn_loc: 0.02035  time: 0.3336  last_time: 0.3308  data_time: 0.0080  last_data_time: 0.0011   lr: 0.0001049  max_mem: 2937M\n",
      "\u001b[32m[02/16 14:49:17 d2.utils.events]: \u001b[0m eta: 0:08:41  iter: 439  total_loss: 3.931  loss_cls: 0.08894  loss_box_reg: 0.08924  loss_keypoint: 3.623  loss_rpn_cls: 0.003239  loss_rpn_loc: 0.01549  time: 0.3340  last_time: 0.3392  data_time: 0.0090  last_data_time: 0.0085   lr: 0.00010989  max_mem: 2937M\n",
      "\u001b[32m[02/16 14:49:24 d2.utils.events]: \u001b[0m eta: 0:08:34  iter: 459  total_loss: 3.761  loss_cls: 0.07873  loss_box_reg: 0.1093  loss_keypoint: 3.524  loss_rpn_cls: 0.003913  loss_rpn_loc: 0.01828  time: 0.3338  last_time: 0.3456  data_time: 0.0076  last_data_time: 0.0097   lr: 0.00011489  max_mem: 2937M\n",
      "\u001b[32m[02/16 14:49:30 d2.utils.events]: \u001b[0m eta: 0:08:27  iter: 479  total_loss: 4.291  loss_cls: 0.09466  loss_box_reg: 0.1362  loss_keypoint: 4.013  loss_rpn_cls: 0.01184  loss_rpn_loc: 0.01989  time: 0.3333  last_time: 0.3474  data_time: 0.0087  last_data_time: 0.0070   lr: 0.00011988  max_mem: 2937M\n",
      "\u001b[32m[02/16 14:49:37 d2.utils.events]: \u001b[0m eta: 0:08:19  iter: 499  total_loss: 4.177  loss_cls: 0.09091  loss_box_reg: 0.09953  loss_keypoint: 3.921  loss_rpn_cls: 0.004001  loss_rpn_loc: 0.02202  time: 0.3328  last_time: 0.3828  data_time: 0.0075  last_data_time: 0.0104   lr: 0.00012488  max_mem: 2937M\n",
      "\u001b[32m[02/16 14:49:44 d2.utils.events]: \u001b[0m eta: 0:08:14  iter: 519  total_loss: 3.709  loss_cls: 0.06352  loss_box_reg: 0.09068  loss_keypoint: 3.531  loss_rpn_cls: 0.003977  loss_rpn_loc: 0.01733  time: 0.3332  last_time: 0.3695  data_time: 0.0090  last_data_time: 0.0073   lr: 0.00012987  max_mem: 2937M\n",
      "\u001b[32m[02/16 14:49:50 d2.utils.events]: \u001b[0m eta: 0:08:08  iter: 539  total_loss: 4.2  loss_cls: 0.1158  loss_box_reg: 0.1596  loss_keypoint: 3.888  loss_rpn_cls: 0.00871  loss_rpn_loc: 0.02509  time: 0.3332  last_time: 0.3502  data_time: 0.0084  last_data_time: 0.0088   lr: 0.00013487  max_mem: 2937M\n",
      "\u001b[32m[02/16 14:49:57 d2.utils.events]: \u001b[0m eta: 0:08:01  iter: 559  total_loss: 3.884  loss_cls: 0.08101  loss_box_reg: 0.1081  loss_keypoint: 3.678  loss_rpn_cls: 0.004059  loss_rpn_loc: 0.01347  time: 0.3333  last_time: 0.3298  data_time: 0.0075  last_data_time: 0.0044   lr: 0.00013986  max_mem: 2937M\n",
      "\u001b[32m[02/16 14:50:04 d2.utils.events]: \u001b[0m eta: 0:07:53  iter: 579  total_loss: 4.09  loss_cls: 0.0816  loss_box_reg: 0.09817  loss_keypoint: 3.852  loss_rpn_cls: 0.004934  loss_rpn_loc: 0.01041  time: 0.3331  last_time: 0.3388  data_time: 0.0083  last_data_time: 0.0086   lr: 0.00014486  max_mem: 2937M\n",
      "\u001b[32m[02/16 14:50:10 d2.utils.events]: \u001b[0m eta: 0:07:47  iter: 599  total_loss: 4.261  loss_cls: 0.08455  loss_box_reg: 0.1243  loss_keypoint: 3.906  loss_rpn_cls: 0.005145  loss_rpn_loc: 0.02461  time: 0.3334  last_time: 0.3627  data_time: 0.0083  last_data_time: 0.0025   lr: 0.00014985  max_mem: 2937M\n",
      "\u001b[32m[02/16 14:50:17 d2.utils.events]: \u001b[0m eta: 0:07:40  iter: 619  total_loss: 3.996  loss_cls: 0.09885  loss_box_reg: 0.1187  loss_keypoint: 3.759  loss_rpn_cls: 0.006035  loss_rpn_loc: 0.0217  time: 0.3334  last_time: 0.3238  data_time: 0.0084  last_data_time: 0.0094   lr: 0.00015485  max_mem: 2937M\n",
      "\u001b[32m[02/16 14:50:24 d2.utils.events]: \u001b[0m eta: 0:07:34  iter: 639  total_loss: 3.952  loss_cls: 0.08534  loss_box_reg: 0.09908  loss_keypoint: 3.765  loss_rpn_cls: 0.006329  loss_rpn_loc: 0.01637  time: 0.3334  last_time: 0.3003  data_time: 0.0082  last_data_time: 0.0109   lr: 0.00015984  max_mem: 2937M\n",
      "\u001b[32m[02/16 14:50:31 d2.utils.events]: \u001b[0m eta: 0:07:27  iter: 659  total_loss: 3.948  loss_cls: 0.08535  loss_box_reg: 0.1042  loss_keypoint: 3.689  loss_rpn_cls: 0.005317  loss_rpn_loc: 0.01323  time: 0.3335  last_time: 0.3705  data_time: 0.0078  last_data_time: 0.0084   lr: 0.00016484  max_mem: 2937M\n",
      "\u001b[32m[02/16 14:50:37 d2.utils.events]: \u001b[0m eta: 0:07:21  iter: 679  total_loss: 4.011  loss_cls: 0.1039  loss_box_reg: 0.1035  loss_keypoint: 3.884  loss_rpn_cls: 0.006517  loss_rpn_loc: 0.02523  time: 0.3338  last_time: 0.3860  data_time: 0.0092  last_data_time: 0.0267   lr: 0.00016983  max_mem: 2937M\n",
      "\u001b[32m[02/16 14:50:44 d2.utils.events]: \u001b[0m eta: 0:07:14  iter: 699  total_loss: 3.994  loss_cls: 0.1014  loss_box_reg: 0.1392  loss_keypoint: 3.795  loss_rpn_cls: 0.008167  loss_rpn_loc: 0.01133  time: 0.3340  last_time: 0.3085  data_time: 0.0102  last_data_time: 0.0075   lr: 0.00017483  max_mem: 2937M\n",
      "\u001b[32m[02/16 14:50:51 d2.utils.events]: \u001b[0m eta: 0:07:08  iter: 719  total_loss: 3.635  loss_cls: 0.06973  loss_box_reg: 0.09315  loss_keypoint: 3.479  loss_rpn_cls: 0.003879  loss_rpn_loc: 0.01218  time: 0.3342  last_time: 0.3156  data_time: 0.0078  last_data_time: 0.0092   lr: 0.00017982  max_mem: 2937M\n",
      "\u001b[32m[02/16 14:50:58 d2.utils.events]: \u001b[0m eta: 0:07:01  iter: 739  total_loss: 3.787  loss_cls: 0.08899  loss_box_reg: 0.1219  loss_keypoint: 3.555  loss_rpn_cls: 0.004146  loss_rpn_loc: 0.01216  time: 0.3340  last_time: 0.3028  data_time: 0.0081  last_data_time: 0.0084   lr: 0.00018482  max_mem: 2937M\n",
      "\u001b[32m[02/16 14:51:04 d2.utils.events]: \u001b[0m eta: 0:06:54  iter: 759  total_loss: 3.752  loss_cls: 0.08127  loss_box_reg: 0.1052  loss_keypoint: 3.615  loss_rpn_cls: 0.005206  loss_rpn_loc: 0.01173  time: 0.3340  last_time: 0.3703  data_time: 0.0075  last_data_time: 0.0070   lr: 0.00018981  max_mem: 2937M\n",
      "\u001b[32m[02/16 14:51:11 d2.utils.events]: \u001b[0m eta: 0:06:47  iter: 779  total_loss: 3.835  loss_cls: 0.08803  loss_box_reg: 0.1405  loss_keypoint: 3.599  loss_rpn_cls: 0.005864  loss_rpn_loc: 0.008087  time: 0.3339  last_time: 0.3284  data_time: 0.0077  last_data_time: 0.0128   lr: 0.00019481  max_mem: 2937M\n",
      "\u001b[32m[02/16 14:51:18 d2.utils.events]: \u001b[0m eta: 0:06:41  iter: 799  total_loss: 3.721  loss_cls: 0.07107  loss_box_reg: 0.1165  loss_keypoint: 3.434  loss_rpn_cls: 0.003591  loss_rpn_loc: 0.01619  time: 0.3341  last_time: 0.3167  data_time: 0.0088  last_data_time: 0.0090   lr: 0.0001998  max_mem: 2937M\n",
      "\u001b[32m[02/16 14:51:25 d2.utils.events]: \u001b[0m eta: 0:06:34  iter: 819  total_loss: 3.773  loss_cls: 0.07305  loss_box_reg: 0.1007  loss_keypoint: 3.537  loss_rpn_cls: 0.00373  loss_rpn_loc: 0.01302  time: 0.3342  last_time: 0.3028  data_time: 0.0077  last_data_time: 0.0044   lr: 0.0002048  max_mem: 2937M\n",
      "\u001b[32m[02/16 14:51:31 d2.utils.events]: \u001b[0m eta: 0:06:27  iter: 839  total_loss: 3.915  loss_cls: 0.08984  loss_box_reg: 0.1304  loss_keypoint: 3.703  loss_rpn_cls: 0.006384  loss_rpn_loc: 0.01692  time: 0.3343  last_time: 0.3079  data_time: 0.0088  last_data_time: 0.0071   lr: 0.00020979  max_mem: 2937M\n",
      "\u001b[32m[02/16 14:51:38 d2.utils.events]: \u001b[0m eta: 0:06:21  iter: 859  total_loss: 3.889  loss_cls: 0.1009  loss_box_reg: 0.1327  loss_keypoint: 3.591  loss_rpn_cls: 0.007241  loss_rpn_loc: 0.02037  time: 0.3341  last_time: 0.4004  data_time: 0.0078  last_data_time: 0.0126   lr: 0.00021479  max_mem: 2937M\n",
      "\u001b[32m[02/16 14:51:45 d2.utils.events]: \u001b[0m eta: 0:06:14  iter: 879  total_loss: 3.996  loss_cls: 0.08856  loss_box_reg: 0.1014  loss_keypoint: 3.699  loss_rpn_cls: 0.004082  loss_rpn_loc: 0.01532  time: 0.3344  last_time: 0.3515  data_time: 0.0078  last_data_time: 0.0105   lr: 0.00021978  max_mem: 2937M\n",
      "\u001b[32m[02/16 14:51:52 d2.utils.events]: \u001b[0m eta: 0:06:07  iter: 899  total_loss: 3.666  loss_cls: 0.06912  loss_box_reg: 0.08293  loss_keypoint: 3.432  loss_rpn_cls: 0.005566  loss_rpn_loc: 0.01652  time: 0.3344  last_time: 0.2940  data_time: 0.0082  last_data_time: 0.0117   lr: 0.00022478  max_mem: 2937M\n",
      "\u001b[32m[02/16 14:51:58 d2.utils.events]: \u001b[0m eta: 0:06:01  iter: 919  total_loss: 3.916  loss_cls: 0.09522  loss_box_reg: 0.128  loss_keypoint: 3.709  loss_rpn_cls: 0.006121  loss_rpn_loc: 0.01772  time: 0.3344  last_time: 0.3526  data_time: 0.0077  last_data_time: 0.0070   lr: 0.00022977  max_mem: 2937M\n",
      "\u001b[32m[02/16 14:52:05 d2.utils.events]: \u001b[0m eta: 0:05:54  iter: 939  total_loss: 3.901  loss_cls: 0.06962  loss_box_reg: 0.09117  loss_keypoint: 3.664  loss_rpn_cls: 0.005567  loss_rpn_loc: 0.01578  time: 0.3343  last_time: 0.3057  data_time: 0.0092  last_data_time: 0.0076   lr: 0.00023477  max_mem: 2937M\n",
      "\u001b[32m[02/16 14:52:12 d2.utils.events]: \u001b[0m eta: 0:05:47  iter: 959  total_loss: 3.898  loss_cls: 0.1116  loss_box_reg: 0.1363  loss_keypoint: 3.684  loss_rpn_cls: 0.006657  loss_rpn_loc: 0.0192  time: 0.3344  last_time: 0.3091  data_time: 0.0087  last_data_time: 0.0111   lr: 0.00023976  max_mem: 2937M\n",
      "\u001b[32m[02/16 14:52:19 d2.utils.events]: \u001b[0m eta: 0:05:40  iter: 979  total_loss: 3.901  loss_cls: 0.07036  loss_box_reg: 0.09898  loss_keypoint: 3.526  loss_rpn_cls: 0.003146  loss_rpn_loc: 0.01203  time: 0.3346  last_time: 0.3267  data_time: 0.0084  last_data_time: 0.0069   lr: 0.00024476  max_mem: 2937M\n",
      "\u001b[32m[02/16 14:52:25 d2.utils.events]: \u001b[0m eta: 0:05:34  iter: 999  total_loss: 3.649  loss_cls: 0.07659  loss_box_reg: 0.0925  loss_keypoint: 3.511  loss_rpn_cls: 0.007247  loss_rpn_loc: 0.01753  time: 0.3346  last_time: 0.3202  data_time: 0.0080  last_data_time: 0.0043   lr: 0.00024975  max_mem: 2937M\n",
      "\u001b[32m[02/16 14:52:32 d2.utils.events]: \u001b[0m eta: 0:05:27  iter: 1019  total_loss: 3.727  loss_cls: 0.09275  loss_box_reg: 0.1373  loss_keypoint: 3.493  loss_rpn_cls: 0.005123  loss_rpn_loc: 0.01265  time: 0.3346  last_time: 0.3814  data_time: 0.0077  last_data_time: 0.0110   lr: 0.00025  max_mem: 2937M\n",
      "\u001b[32m[02/16 14:52:39 d2.utils.events]: \u001b[0m eta: 0:05:20  iter: 1039  total_loss: 3.615  loss_cls: 0.05635  loss_box_reg: 0.09615  loss_keypoint: 3.484  loss_rpn_cls: 0.003696  loss_rpn_loc: 0.01437  time: 0.3346  last_time: 0.3170  data_time: 0.0081  last_data_time: 0.0013   lr: 0.00025  max_mem: 2937M\n",
      "\u001b[32m[02/16 14:52:46 d2.utils.events]: \u001b[0m eta: 0:05:14  iter: 1059  total_loss: 3.879  loss_cls: 0.05208  loss_box_reg: 0.08756  loss_keypoint: 3.624  loss_rpn_cls: 0.002953  loss_rpn_loc: 0.01135  time: 0.3347  last_time: 0.3503  data_time: 0.0083  last_data_time: 0.0009   lr: 0.00025  max_mem: 2937M\n",
      "\u001b[32m[02/16 14:52:52 d2.utils.events]: \u001b[0m eta: 0:05:07  iter: 1079  total_loss: 3.556  loss_cls: 0.0471  loss_box_reg: 0.07668  loss_keypoint: 3.431  loss_rpn_cls: 0.003068  loss_rpn_loc: 0.01296  time: 0.3347  last_time: 0.3480  data_time: 0.0095  last_data_time: 0.0136   lr: 0.00025  max_mem: 2937M\n",
      "\u001b[32m[02/16 14:52:59 d2.utils.events]: \u001b[0m eta: 0:05:01  iter: 1099  total_loss: 3.731  loss_cls: 0.08193  loss_box_reg: 0.102  loss_keypoint: 3.521  loss_rpn_cls: 0.006215  loss_rpn_loc: 0.007309  time: 0.3347  last_time: 0.3119  data_time: 0.0078  last_data_time: 0.0110   lr: 0.00025  max_mem: 2937M\n",
      "\u001b[32m[02/16 14:53:06 d2.utils.events]: \u001b[0m eta: 0:04:54  iter: 1119  total_loss: 3.676  loss_cls: 0.08077  loss_box_reg: 0.1286  loss_keypoint: 3.387  loss_rpn_cls: 0.002736  loss_rpn_loc: 0.007123  time: 0.3347  last_time: 0.3582  data_time: 0.0075  last_data_time: 0.0102   lr: 0.00025  max_mem: 2937M\n",
      "\u001b[32m[02/16 14:53:12 d2.utils.events]: \u001b[0m eta: 0:04:47  iter: 1139  total_loss: 3.745  loss_cls: 0.07617  loss_box_reg: 0.09741  loss_keypoint: 3.501  loss_rpn_cls: 0.003258  loss_rpn_loc: 0.01219  time: 0.3346  last_time: 0.3490  data_time: 0.0081  last_data_time: 0.0074   lr: 0.00025  max_mem: 2937M\n",
      "\u001b[32m[02/16 14:53:19 d2.utils.events]: \u001b[0m eta: 0:04:41  iter: 1159  total_loss: 3.693  loss_cls: 0.09206  loss_box_reg: 0.1135  loss_keypoint: 3.521  loss_rpn_cls: 0.004538  loss_rpn_loc: 0.02111  time: 0.3349  last_time: 0.3455  data_time: 0.0086  last_data_time: 0.0074   lr: 0.00025  max_mem: 2937M\n",
      "\u001b[32m[02/16 14:53:26 d2.utils.events]: \u001b[0m eta: 0:04:34  iter: 1179  total_loss: 3.719  loss_cls: 0.093  loss_box_reg: 0.1315  loss_keypoint: 3.562  loss_rpn_cls: 0.005272  loss_rpn_loc: 0.01662  time: 0.3347  last_time: 0.3430  data_time: 0.0077  last_data_time: 0.0069   lr: 0.00025  max_mem: 2937M\n",
      "\u001b[32m[02/16 14:53:32 d2.utils.events]: \u001b[0m eta: 0:04:27  iter: 1199  total_loss: 3.713  loss_cls: 0.06662  loss_box_reg: 0.104  loss_keypoint: 3.495  loss_rpn_cls: 0.00327  loss_rpn_loc: 0.0102  time: 0.3346  last_time: 0.3839  data_time: 0.0076  last_data_time: 0.0096   lr: 0.00025  max_mem: 2937M\n",
      "\u001b[32m[02/16 14:53:39 d2.utils.events]: \u001b[0m eta: 0:04:20  iter: 1219  total_loss: 3.744  loss_cls: 0.09738  loss_box_reg: 0.116  loss_keypoint: 3.496  loss_rpn_cls: 0.008241  loss_rpn_loc: 0.01301  time: 0.3346  last_time: 0.3515  data_time: 0.0078  last_data_time: 0.0078   lr: 0.00025  max_mem: 2937M\n",
      "\u001b[32m[02/16 14:53:46 d2.utils.events]: \u001b[0m eta: 0:04:13  iter: 1239  total_loss: 3.727  loss_cls: 0.09202  loss_box_reg: 0.101  loss_keypoint: 3.552  loss_rpn_cls: 0.008624  loss_rpn_loc: 0.01868  time: 0.3344  last_time: 0.3256  data_time: 0.0078  last_data_time: 0.0042   lr: 0.00025  max_mem: 2937M\n",
      "\u001b[32m[02/16 14:53:53 d2.utils.events]: \u001b[0m eta: 0:04:07  iter: 1259  total_loss: 3.631  loss_cls: 0.0953  loss_box_reg: 0.1395  loss_keypoint: 3.387  loss_rpn_cls: 0.005776  loss_rpn_loc: 0.01648  time: 0.3348  last_time: 0.3925  data_time: 0.0092  last_data_time: 0.0114   lr: 0.00025  max_mem: 2937M\n",
      "\u001b[32m[02/16 14:53:59 d2.utils.events]: \u001b[0m eta: 0:04:00  iter: 1279  total_loss: 3.567  loss_cls: 0.06202  loss_box_reg: 0.1156  loss_keypoint: 3.335  loss_rpn_cls: 0.002597  loss_rpn_loc: 0.01489  time: 0.3345  last_time: 0.2997  data_time: 0.0080  last_data_time: 0.0108   lr: 0.00025  max_mem: 2937M\n",
      "\u001b[32m[02/16 14:54:06 d2.utils.events]: \u001b[0m eta: 0:03:53  iter: 1299  total_loss: 3.748  loss_cls: 0.0913  loss_box_reg: 0.1241  loss_keypoint: 3.482  loss_rpn_cls: 0.005691  loss_rpn_loc: 0.01973  time: 0.3346  last_time: 0.3899  data_time: 0.0078  last_data_time: 0.0089   lr: 0.00025  max_mem: 2937M\n",
      "\u001b[32m[02/16 14:54:13 d2.utils.events]: \u001b[0m eta: 0:03:47  iter: 1319  total_loss: 3.931  loss_cls: 0.08219  loss_box_reg: 0.1274  loss_keypoint: 3.597  loss_rpn_cls: 0.0075  loss_rpn_loc: 0.007523  time: 0.3345  last_time: 0.3269  data_time: 0.0078  last_data_time: 0.0078   lr: 0.00025  max_mem: 2937M\n",
      "\u001b[32m[02/16 14:54:19 d2.utils.events]: \u001b[0m eta: 0:03:40  iter: 1339  total_loss: 3.78  loss_cls: 0.1191  loss_box_reg: 0.1301  loss_keypoint: 3.59  loss_rpn_cls: 0.004316  loss_rpn_loc: 0.02167  time: 0.3343  last_time: 0.3199  data_time: 0.0074  last_data_time: 0.0039   lr: 0.00025  max_mem: 2937M\n",
      "\u001b[32m[02/16 14:54:26 d2.utils.events]: \u001b[0m eta: 0:03:33  iter: 1359  total_loss: 3.521  loss_cls: 0.1023  loss_box_reg: 0.1025  loss_keypoint: 3.268  loss_rpn_cls: 0.004229  loss_rpn_loc: 0.01081  time: 0.3347  last_time: 0.3435  data_time: 0.0083  last_data_time: 0.0085   lr: 0.00025  max_mem: 2937M\n",
      "\u001b[32m[02/16 14:54:33 d2.utils.events]: \u001b[0m eta: 0:03:26  iter: 1379  total_loss: 3.85  loss_cls: 0.1108  loss_box_reg: 0.1657  loss_keypoint: 3.617  loss_rpn_cls: 0.008254  loss_rpn_loc: 0.02823  time: 0.3346  last_time: 0.3244  data_time: 0.0073  last_data_time: 0.0070   lr: 0.00025  max_mem: 2937M\n",
      "\u001b[32m[02/16 14:54:40 d2.utils.events]: \u001b[0m eta: 0:03:20  iter: 1399  total_loss: 3.768  loss_cls: 0.0916  loss_box_reg: 0.09744  loss_keypoint: 3.558  loss_rpn_cls: 0.008517  loss_rpn_loc: 0.01598  time: 0.3348  last_time: 0.3533  data_time: 0.0078  last_data_time: 0.0049   lr: 0.00025  max_mem: 2937M\n",
      "\u001b[32m[02/16 14:54:46 d2.utils.events]: \u001b[0m eta: 0:03:13  iter: 1419  total_loss: 3.925  loss_cls: 0.1109  loss_box_reg: 0.1347  loss_keypoint: 3.536  loss_rpn_cls: 0.006796  loss_rpn_loc: 0.01523  time: 0.3348  last_time: 0.3185  data_time: 0.0080  last_data_time: 0.0064   lr: 0.00025  max_mem: 2937M\n",
      "\u001b[32m[02/16 14:54:53 d2.utils.events]: \u001b[0m eta: 0:03:06  iter: 1439  total_loss: 3.815  loss_cls: 0.08919  loss_box_reg: 0.1387  loss_keypoint: 3.528  loss_rpn_cls: 0.004242  loss_rpn_loc: 0.02219  time: 0.3349  last_time: 0.2977  data_time: 0.0085  last_data_time: 0.0132   lr: 0.00025  max_mem: 2937M\n",
      "\u001b[32m[02/16 14:55:00 d2.utils.events]: \u001b[0m eta: 0:03:00  iter: 1459  total_loss: 3.933  loss_cls: 0.08277  loss_box_reg: 0.1337  loss_keypoint: 3.613  loss_rpn_cls: 0.006801  loss_rpn_loc: 0.01335  time: 0.3350  last_time: 0.2811  data_time: 0.0076  last_data_time: 0.0012   lr: 0.00025  max_mem: 2937M\n",
      "\u001b[32m[02/16 14:55:07 d2.utils.events]: \u001b[0m eta: 0:02:53  iter: 1479  total_loss: 3.877  loss_cls: 0.0941  loss_box_reg: 0.1185  loss_keypoint: 3.605  loss_rpn_cls: 0.004743  loss_rpn_loc: 0.01432  time: 0.3351  last_time: 0.2662  data_time: 0.0080  last_data_time: 0.0088   lr: 0.00025  max_mem: 2937M\n",
      "\u001b[32m[02/16 14:55:13 d2.utils.events]: \u001b[0m eta: 0:02:47  iter: 1499  total_loss: 3.737  loss_cls: 0.09836  loss_box_reg: 0.1243  loss_keypoint: 3.544  loss_rpn_cls: 0.003071  loss_rpn_loc: 0.0144  time: 0.3348  last_time: 0.3105  data_time: 0.0075  last_data_time: 0.0093   lr: 0.00025  max_mem: 2937M\n",
      "\u001b[32m[02/16 14:55:20 d2.utils.events]: \u001b[0m eta: 0:02:40  iter: 1519  total_loss: 3.83  loss_cls: 0.09479  loss_box_reg: 0.1319  loss_keypoint: 3.695  loss_rpn_cls: 0.01343  loss_rpn_loc: 0.02155  time: 0.3347  last_time: 0.3503  data_time: 0.0075  last_data_time: 0.0060   lr: 0.00025  max_mem: 2937M\n",
      "\u001b[32m[02/16 14:55:27 d2.utils.events]: \u001b[0m eta: 0:02:33  iter: 1539  total_loss: 3.895  loss_cls: 0.0934  loss_box_reg: 0.1416  loss_keypoint: 3.698  loss_rpn_cls: 0.008974  loss_rpn_loc: 0.02298  time: 0.3348  last_time: 0.3061  data_time: 0.0086  last_data_time: 0.0062   lr: 0.00025  max_mem: 2937M\n",
      "\u001b[32m[02/16 14:55:33 d2.utils.events]: \u001b[0m eta: 0:02:26  iter: 1559  total_loss: 3.844  loss_cls: 0.1087  loss_box_reg: 0.139  loss_keypoint: 3.557  loss_rpn_cls: 0.009882  loss_rpn_loc: 0.02122  time: 0.3347  last_time: 0.3382  data_time: 0.0084  last_data_time: 0.0120   lr: 0.00025  max_mem: 2937M\n",
      "\u001b[32m[02/16 14:55:40 d2.utils.events]: \u001b[0m eta: 0:02:20  iter: 1579  total_loss: 4.03  loss_cls: 0.08941  loss_box_reg: 0.1646  loss_keypoint: 3.689  loss_rpn_cls: 0.009946  loss_rpn_loc: 0.01607  time: 0.3348  last_time: 0.3378  data_time: 0.0081  last_data_time: 0.0051   lr: 0.00025  max_mem: 2937M\n",
      "\u001b[32m[02/16 14:55:47 d2.utils.events]: \u001b[0m eta: 0:02:13  iter: 1599  total_loss: 3.93  loss_cls: 0.09902  loss_box_reg: 0.1362  loss_keypoint: 3.684  loss_rpn_cls: 0.006896  loss_rpn_loc: 0.01996  time: 0.3346  last_time: 0.3712  data_time: 0.0073  last_data_time: 0.0073   lr: 0.00025  max_mem: 2937M\n",
      "\u001b[32m[02/16 14:55:53 d2.utils.events]: \u001b[0m eta: 0:02:06  iter: 1619  total_loss: 3.676  loss_cls: 0.1053  loss_box_reg: 0.1302  loss_keypoint: 3.497  loss_rpn_cls: 0.009096  loss_rpn_loc: 0.02864  time: 0.3346  last_time: 0.3578  data_time: 0.0080  last_data_time: 0.0011   lr: 0.00025  max_mem: 2937M\n",
      "\u001b[32m[02/16 14:56:00 d2.utils.events]: \u001b[0m eta: 0:02:00  iter: 1639  total_loss: 3.963  loss_cls: 0.08951  loss_box_reg: 0.1357  loss_keypoint: 3.679  loss_rpn_cls: 0.006898  loss_rpn_loc: 0.01975  time: 0.3347  last_time: 0.3236  data_time: 0.0089  last_data_time: 0.0080   lr: 0.00025  max_mem: 2937M\n",
      "\u001b[32m[02/16 14:56:06 d2.utils.events]: \u001b[0m eta: 0:01:53  iter: 1659  total_loss: 3.572  loss_cls: 0.07657  loss_box_reg: 0.1143  loss_keypoint: 3.392  loss_rpn_cls: 0.003426  loss_rpn_loc: 0.0152  time: 0.3345  last_time: 0.3899  data_time: 0.0080  last_data_time: 0.0157   lr: 0.00025  max_mem: 2937M\n",
      "\u001b[32m[02/16 14:56:13 d2.utils.events]: \u001b[0m eta: 0:01:46  iter: 1679  total_loss: 3.488  loss_cls: 0.09212  loss_box_reg: 0.1285  loss_keypoint: 3.298  loss_rpn_cls: 0.009451  loss_rpn_loc: 0.01543  time: 0.3346  last_time: 0.3423  data_time: 0.0074  last_data_time: 0.0096   lr: 0.00025  max_mem: 2938M\n",
      "\u001b[32m[02/16 14:56:20 d2.utils.events]: \u001b[0m eta: 0:01:40  iter: 1699  total_loss: 3.69  loss_cls: 0.06988  loss_box_reg: 0.133  loss_keypoint: 3.494  loss_rpn_cls: 0.005382  loss_rpn_loc: 0.0153  time: 0.3347  last_time: 0.3648  data_time: 0.0075  last_data_time: 0.0099   lr: 0.00025  max_mem: 2938M\n",
      "\u001b[32m[02/16 14:56:27 d2.utils.events]: \u001b[0m eta: 0:01:33  iter: 1719  total_loss: 3.711  loss_cls: 0.08176  loss_box_reg: 0.1166  loss_keypoint: 3.472  loss_rpn_cls: 0.004916  loss_rpn_loc: 0.01679  time: 0.3348  last_time: 0.3351  data_time: 0.0094  last_data_time: 0.0121   lr: 0.00025  max_mem: 2938M\n",
      "\u001b[32m[02/16 14:56:34 d2.utils.events]: \u001b[0m eta: 0:01:26  iter: 1739  total_loss: 3.801  loss_cls: 0.07595  loss_box_reg: 0.1126  loss_keypoint: 3.485  loss_rpn_cls: 0.00295  loss_rpn_loc: 0.01529  time: 0.3347  last_time: 0.3362  data_time: 0.0074  last_data_time: 0.0084   lr: 0.00025  max_mem: 2938M\n",
      "\u001b[32m[02/16 14:56:40 d2.utils.events]: \u001b[0m eta: 0:01:20  iter: 1759  total_loss: 3.793  loss_cls: 0.1035  loss_box_reg: 0.1366  loss_keypoint: 3.425  loss_rpn_cls: 0.003873  loss_rpn_loc: 0.01831  time: 0.3347  last_time: 0.3401  data_time: 0.0077  last_data_time: 0.0044   lr: 0.00025  max_mem: 2938M\n",
      "\u001b[32m[02/16 14:56:47 d2.utils.events]: \u001b[0m eta: 0:01:13  iter: 1779  total_loss: 3.946  loss_cls: 0.07698  loss_box_reg: 0.1453  loss_keypoint: 3.667  loss_rpn_cls: 0.007668  loss_rpn_loc: 0.01881  time: 0.3347  last_time: 0.3256  data_time: 0.0084  last_data_time: 0.0114   lr: 0.00025  max_mem: 2938M\n",
      "\u001b[32m[02/16 14:56:54 d2.utils.events]: \u001b[0m eta: 0:01:06  iter: 1799  total_loss: 3.599  loss_cls: 0.1068  loss_box_reg: 0.1266  loss_keypoint: 3.375  loss_rpn_cls: 0.006018  loss_rpn_loc: 0.02287  time: 0.3347  last_time: 0.3406  data_time: 0.0076  last_data_time: 0.0098   lr: 0.00025  max_mem: 2938M\n",
      "\u001b[32m[02/16 14:57:01 d2.utils.events]: \u001b[0m eta: 0:01:00  iter: 1819  total_loss: 3.709  loss_cls: 0.1138  loss_box_reg: 0.1108  loss_keypoint: 3.416  loss_rpn_cls: 0.008059  loss_rpn_loc: 0.01971  time: 0.3347  last_time: 0.3215  data_time: 0.0109  last_data_time: 0.0090   lr: 0.00025  max_mem: 2938M\n",
      "\u001b[32m[02/16 14:57:07 d2.utils.events]: \u001b[0m eta: 0:00:53  iter: 1839  total_loss: 3.909  loss_cls: 0.08796  loss_box_reg: 0.1023  loss_keypoint: 3.662  loss_rpn_cls: 0.006858  loss_rpn_loc: 0.01168  time: 0.3347  last_time: 0.3320  data_time: 0.0074  last_data_time: 0.0093   lr: 0.00025  max_mem: 2938M\n",
      "\u001b[32m[02/16 14:57:14 d2.utils.events]: \u001b[0m eta: 0:00:46  iter: 1859  total_loss: 3.617  loss_cls: 0.0876  loss_box_reg: 0.1158  loss_keypoint: 3.416  loss_rpn_cls: 0.002644  loss_rpn_loc: 0.01632  time: 0.3347  last_time: 0.2935  data_time: 0.0076  last_data_time: 0.0070   lr: 0.00025  max_mem: 2938M\n",
      "\u001b[32m[02/16 14:57:21 d2.utils.events]: \u001b[0m eta: 0:00:39  iter: 1879  total_loss: 3.949  loss_cls: 0.09237  loss_box_reg: 0.1264  loss_keypoint: 3.57  loss_rpn_cls: 0.005388  loss_rpn_loc: 0.01281  time: 0.3347  last_time: 0.3340  data_time: 0.0091  last_data_time: 0.0094   lr: 0.00025  max_mem: 2938M\n",
      "\u001b[32m[02/16 14:57:27 d2.utils.events]: \u001b[0m eta: 0:00:33  iter: 1899  total_loss: 3.662  loss_cls: 0.08848  loss_box_reg: 0.1383  loss_keypoint: 3.41  loss_rpn_cls: 0.006157  loss_rpn_loc: 0.01322  time: 0.3346  last_time: 0.3104  data_time: 0.0079  last_data_time: 0.0078   lr: 0.00025  max_mem: 2938M\n",
      "\u001b[32m[02/16 14:57:34 d2.utils.events]: \u001b[0m eta: 0:00:26  iter: 1919  total_loss: 3.463  loss_cls: 0.04725  loss_box_reg: 0.08876  loss_keypoint: 3.328  loss_rpn_cls: 0.002155  loss_rpn_loc: 0.009613  time: 0.3347  last_time: 0.2973  data_time: 0.0085  last_data_time: 0.0010   lr: 0.00025  max_mem: 2938M\n",
      "\u001b[32m[02/16 14:57:41 d2.utils.events]: \u001b[0m eta: 0:00:19  iter: 1939  total_loss: 3.486  loss_cls: 0.09081  loss_box_reg: 0.1307  loss_keypoint: 3.279  loss_rpn_cls: 0.009252  loss_rpn_loc: 0.01757  time: 0.3347  last_time: 0.4005  data_time: 0.0082  last_data_time: 0.0231   lr: 0.00025  max_mem: 2938M\n",
      "\u001b[32m[02/16 14:57:47 d2.utils.events]: \u001b[0m eta: 0:00:13  iter: 1959  total_loss: 3.718  loss_cls: 0.0923  loss_box_reg: 0.124  loss_keypoint: 3.437  loss_rpn_cls: 0.008799  loss_rpn_loc: 0.03941  time: 0.3346  last_time: 0.3518  data_time: 0.0074  last_data_time: 0.0068   lr: 0.00025  max_mem: 2938M\n",
      "\u001b[32m[02/16 14:57:54 d2.utils.events]: \u001b[0m eta: 0:00:06  iter: 1979  total_loss: 3.66  loss_cls: 0.06788  loss_box_reg: 0.1033  loss_keypoint: 3.411  loss_rpn_cls: 0.007012  loss_rpn_loc: 0.01202  time: 0.3347  last_time: 0.3298  data_time: 0.0088  last_data_time: 0.0040   lr: 0.00025  max_mem: 2938M\n",
      "\u001b[32m[02/16 14:58:02 d2.utils.events]: \u001b[0m eta: 0:00:00  iter: 1999  total_loss: 3.751  loss_cls: 0.1015  loss_box_reg: 0.1479  loss_keypoint: 3.409  loss_rpn_cls: 0.005614  loss_rpn_loc: 0.01156  time: 0.3348  last_time: 0.3497  data_time: 0.0091  last_data_time: 0.0266   lr: 0.00025  max_mem: 2938M\n",
      "\u001b[32m[02/16 14:58:02 d2.engine.hooks]: \u001b[0mOverall training speed: 1998 iterations in 0:11:08 (0.3348 s / it)\n",
      "\u001b[32m[02/16 14:58:02 d2.engine.hooks]: \u001b[0mTotal training time: 0:11:11 (0:00:02 on hooks)\n"
     ]
    }
   ],
   "source": [
    "from detectron2.engine import DefaultTrainer\n",
    "\n",
    "cfg = get_cfg()\n",
    "# cfg.MODEL.DEVICE = \"cpu\"\n",
    "\n",
    "\n",
    "cfg.merge_from_file(model_zoo.get_config_file(\"COCO-Keypoints/keypoint_rcnn_R_50_FPN_3x.yaml\"))\n",
    "cfg.DATASETS.TRAIN = (\"person_keypoints_train\",)\n",
    "\n",
    "\n",
    "#cfg.DATASETS.TEST = (\"hand_test\",)  #Dataset 'hand_test' is empty in my case\n",
    "cfg.DATASETS.TEST = ()\n",
    "\n",
    "cfg.DATALOADER.NUM_WORKERS = 2\n",
    "cfg.MODEL.WEIGHTS = model_zoo.get_checkpoint_url(\"COCO-Keypoints/keypoint_rcnn_R_50_FPN_3x.yaml\")\n",
    "\n",
    "cfg.SOLVER.IMS_PER_BATCH = 2\n",
    "cfg.SOLVER.BASE_LR = 0.00025  # pick a good LR\n",
    "cfg.SOLVER.MAX_ITER = 2000   # 300 iterations seems good enough for this toy dataset; you may need to train longer for a practical dataset\n",
    "cfg.MODEL.ROI_HEADS.BATCH_SIZE_PER_IMAGE = 128   #128   # faster, and good enough for this toy dataset (default: 512)\n",
    "\n",
    "cfg.MODEL.ROI_HEADS.NUM_CLASSES = 1  # person\n",
    "cfg.MODEL.RETINANET.NUM_CLASSES = 1\n",
    "cfg.MODEL.ROI_KEYPOINT_HEAD.NUM_KEYPOINTS = 17\n",
    "# cfg.TEST.KEYPOINT_OKS_SIGMAS = np.ones((17, 1), dtype=float).tolist()\n",
    "# del cfg.TEST.KEYPOINT_OKS_SIGMAS\n",
    "\n",
    "\n",
    "os.makedirs(cfg.OUTPUT_DIR, exist_ok=True)\n",
    "trainer = DefaultTrainer(cfg)    #CocoTrainer(cfg)\n",
    "trainer.resume_or_load(resume=False)\n",
    "trainer.train()"
   ]
  },
  {
   "cell_type": "code",
   "execution_count": null,
   "id": "083ea917",
   "metadata": {
    "papermill": {
     "duration": 0.010883,
     "end_time": "2023-02-16T14:58:02.405509",
     "exception": false,
     "start_time": "2023-02-16T14:58:02.394626",
     "status": "completed"
    },
    "tags": []
   },
   "outputs": [],
   "source": []
  }
 ],
 "metadata": {
  "kernelspec": {
   "display_name": "Python 3",
   "language": "python",
   "name": "python3"
  },
  "language_info": {
   "codemirror_mode": {
    "name": "ipython",
    "version": 3
   },
   "file_extension": ".py",
   "mimetype": "text/x-python",
   "name": "python",
   "nbconvert_exporter": "python",
   "pygments_lexer": "ipython3",
   "version": "3.7.12"
  },
  "papermill": {
   "default_parameters": {},
   "duration": 936.141028,
   "end_time": "2023-02-16T14:58:05.352811",
   "environment_variables": {},
   "exception": null,
   "input_path": "__notebook__.ipynb",
   "output_path": "__notebook__.ipynb",
   "parameters": {},
   "start_time": "2023-02-16T14:42:29.211783",
   "version": "2.3.4"
  }
 },
 "nbformat": 4,
 "nbformat_minor": 5
}
