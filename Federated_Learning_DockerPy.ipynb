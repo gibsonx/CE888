{
  "nbformat": 4,
  "nbformat_minor": 0,
  "metadata": {
    "colab": {
      "name": "Federated_Learning_DockerPy.ipynb",
      "provenance": [],
      "authorship_tag": "ABX9TyMErkU5eIAL7j0wUGQVG36A",
      "include_colab_link": true
    },
    "kernelspec": {
      "name": "python3",
      "display_name": "Python 3"
    },
    "language_info": {
      "name": "python"
    }
  },
  "cells": [
    {
      "cell_type": "markdown",
      "metadata": {
        "id": "view-in-github",
        "colab_type": "text"
      },
      "source": [
        "<a href=\"https://colab.research.google.com/github/gibsonx/CE888/blob/master/Federated_Learning_DockerPy.ipynb\" target=\"_parent\"><img src=\"https://colab.research.google.com/assets/colab-badge.svg\" alt=\"Open In Colab\"/></a>"
      ]
    },
    {
      "cell_type": "code",
      "metadata": {
        "colab": {
          "base_uri": "https://localhost:8080/"
        },
        "id": "gUowv-jHhevG",
        "outputId": "665fa147-0853-4e3b-8777-fb462d3ec9e7"
      },
      "source": [
        "#Modified by Gibson Xue on July 25, 2021\n",
        "!pip uninstall --yes tensorflow tensorboard tb-nightly\n",
        "!pip install --quiet tensorflow==2.5.0\n",
        "!pip install --quiet tensorflow-federated==0.19.0\n",
        "!pip install --quiet nest-asyncio\n",
        "!pip install --quiet tensorboard  # or tensorboard, but not both\n",
        "!pip install keras\n",
        "import tensorflow as tf\n",
        "\n",
        "import nest_asyncio\n",
        "nest_asyncio.apply()\n",
        "print(tf.__version__)\n",
        "\n",
        "from tensorflow_federated.python.simulation import FileCheckpointManager\n",
        "import collections\n",
        "import numpy as np\n",
        "import tensorflow as tf\n",
        "import tensorflow_federated as tff\n",
        "import pandas as pd"
      ],
      "execution_count": 1,
      "outputs": [
        {
          "output_type": "stream",
          "text": [
            "Uninstalling tensorflow-2.5.0:\n",
            "  Successfully uninstalled tensorflow-2.5.0\n",
            "Uninstalling tensorboard-2.5.0:\n",
            "  Successfully uninstalled tensorboard-2.5.0\n",
            "\u001b[33mWARNING: Skipping tb-nightly as it is not installed.\u001b[0m\n",
            "\u001b[K     |████████████████████████████████| 454.3MB 38kB/s \n",
            "\u001b[K     |████████████████████████████████| 6.0MB 30.0MB/s \n",
            "\u001b[K     |████████████████████████████████| 604kB 15.6MB/s \n",
            "\u001b[K     |████████████████████████████████| 194kB 30.6MB/s \n",
            "\u001b[K     |████████████████████████████████| 51kB 5.0MB/s \n",
            "\u001b[K     |████████████████████████████████| 174kB 64.4MB/s \n",
            "\u001b[31mERROR: spacy 2.2.4 has requirement tqdm<5.0.0,>=4.38.0, but you'll have tqdm 4.28.1 which is incompatible.\u001b[0m\n",
            "\u001b[31mERROR: pymc3 3.11.2 has requirement cachetools>=4.2.1, but you'll have cachetools 3.1.1 which is incompatible.\u001b[0m\n",
            "\u001b[31mERROR: fbprophet 0.7.1 has requirement tqdm>=4.36.1, but you'll have tqdm 4.28.1 which is incompatible.\u001b[0m\n",
            "\u001b[31mERROR: datascience 0.10.6 has requirement folium==0.2.1, but you'll have folium 0.8.3 which is incompatible.\u001b[0m\n",
            "\u001b[?25hRequirement already satisfied: keras in /usr/local/lib/python3.7/dist-packages (2.4.3)\n",
            "Requirement already satisfied: numpy>=1.9.1 in /usr/local/lib/python3.7/dist-packages (from keras) (1.19.5)\n",
            "Requirement already satisfied: h5py in /usr/local/lib/python3.7/dist-packages (from keras) (3.1.0)\n",
            "Requirement already satisfied: scipy>=0.14 in /usr/local/lib/python3.7/dist-packages (from keras) (1.4.1)\n",
            "Requirement already satisfied: pyyaml in /usr/local/lib/python3.7/dist-packages (from keras) (3.13)\n",
            "Requirement already satisfied: cached-property; python_version < \"3.8\" in /usr/local/lib/python3.7/dist-packages (from h5py->keras) (1.5.2)\n",
            "2.5.0\n"
          ],
          "name": "stdout"
        }
      ]
    },
    {
      "cell_type": "code",
      "metadata": {
        "id": "gePOozOimP4X",
        "colab": {
          "base_uri": "https://localhost:8080/"
        },
        "outputId": "f2ee33c3-acf3-4022-a302-e86366f57ba5"
      },
      "source": [
        "emnist_train, emnist_test = tff.simulation.datasets.emnist.load_data()"
      ],
      "execution_count": 3,
      "outputs": [
        {
          "output_type": "stream",
          "text": [
            "Downloading emnist_all.sqlite.lzma: 100%|██████████| 170507172/170507172 [01:36<00:00, 1759388.55it/s]\n"
          ],
          "name": "stderr"
        }
      ]
    },
    {
      "cell_type": "code",
      "metadata": {
        "id": "UmJoJswwQkI-"
      },
      "source": [
        "# example_dataset = emnist_train.create_tf_dataset_for_client(\n",
        "#     emnist_train.client_ids[0])\n",
        "# for i in example_dataset.take(1):\n",
        "#   print(i)\n",
        "data = pd.read_csv('train.csv')\n",
        "train_data = data.head(37800)\n",
        "val_data = data.tail(4200)\n",
        "train_labels = train_data.pop('label')\n",
        "val_labels = val_data.pop('label')\n",
        "tf_train_data = tf.data.Dataset.from_tensor_slices((train_data.values, train_labels.values))\n",
        "tf_val_data = tf.data.Dataset.from_tensor_slices((val_data.values, val_labels.values))\n",
        "\n",
        "# print(type(example_dataset))\n",
        "\n",
        "# import tensorflow_datasets as tfds\n",
        "\n",
        "# np.savetxt(\"foo.csv\", a, delimiter=\",\")\n",
        "# import numpy as geek\n",
        "\n",
        "# list_train = []\n",
        "# len(emnist_train.client_ids)\n",
        "# for i in range(0,1):\n",
        "#   client_dataset = emnist_train.create_tf_dataset_for_client(\n",
        "#       emnist_train.client_ids[i])\n",
        "#   print(client_dataset.element_spec)\n",
        "#   for example in client_dataset:\n",
        "#     pixels = example['pixels'].numpy()\n",
        "#     label = geek.array_str(example['pixels'].numpy())\n",
        "#     list_train.append({'pixels': pixels, 'label': label, 'client_id': i, 'is_checked': 0 })\n",
        "    # # t = geek.array(g)\n",
        "    # print(pixels)\n",
        "    # break\n",
        "\n",
        "# list_train\n",
        "# df = pd.DataFrame(list_train)\n",
        "# df.to_csv('data.csv',index=False)\n",
        "# compression_opts = dict(method='zip',archive_name='data.csv')\n",
        "# df.to_csv(data.csv, index=False,\n",
        "#           compression=compression_opts)\n"
      ],
      "execution_count": 174,
      "outputs": []
    },
    {
      "cell_type": "code",
      "metadata": {
        "id": "KFCeZ9ojGBXj",
        "colab": {
          "base_uri": "https://localhost:8080/"
        },
        "outputId": "42b21b4e-88b0-49fc-a785-6dd68c876033"
      },
      "source": [
        "# df = pd.read_csv('data.csv')\n",
        "# dataset = tf.data.experimental.CsvDataset('data.csv',[tf.int32],select_cols=[1])\n",
        "\n",
        "# d = tf.convert_to_tensor(g,dtype=tf.float32)\n",
        "# d\n",
        "# for i in dataset:\n",
        "#   print(i)\n",
        "# number_column = df.loc[:,'pixels'].apply(lambda x : tf.convert_to_tensor(x, dtype=tf.float32))\n",
        "# number_column\n",
        "# df = tf.data.experimental.make_csv_dataset('data.csv',batch_size=2)\n",
        "# for i in number_column:\n",
        "#   print(i)\n",
        "#   break\n",
        "# example_dataset = emnist_train.create_tf_dataset_for_client(\n",
        "#     emnist_train.client_ids[0])\n",
        "\n",
        "# example_dataset\n",
        "\n",
        "# preprocessed_example_dataset = preprocess(df.to_numpy())\n",
        "\n",
        "# preprocessed_example_dataset = preprocess(example_dataset)"
      ],
      "execution_count": 154,
      "outputs": [
        {
          "output_type": "execute_result",
          "data": {
            "text/plain": [
              "<tf.Tensor: shape=(2, 2), dtype=float32, numpy=\n",
              "array([[0., 0.],\n",
              "       [0., 0.]], dtype=float32)>"
            ]
          },
          "metadata": {
            "tags": []
          },
          "execution_count": 154
        }
      ]
    },
    {
      "cell_type": "code",
      "metadata": {
        "id": "Zq1A6fmqAJPo"
      },
      "source": [
        "NUM_CLIENTS = 10\n",
        "NUM_EPOCHS = 5\n",
        "BATCH_SIZE = 20\n",
        "SHUFFLE_BUFFER = 100\n",
        "PREFETCH_BUFFER = 10\n",
        "\n",
        "def preprocess(dataset):\n",
        "\n",
        "  def batch_format_fn(element):\n",
        "    \"\"\"Flatten a batch `pixels` and return the features as an `OrderedDict`.\"\"\"\n",
        "    return collections.OrderedDict(\n",
        "        x=tf.reshape(element['pixels'], [-1, 784]),\n",
        "        y=tf.reshape(element['label'], [-1, 1]))\n",
        "\n",
        "  return dataset.repeat(NUM_EPOCHS).shuffle(SHUFFLE_BUFFER).batch(\n",
        "      BATCH_SIZE).map(batch_format_fn).prefetch(PREFETCH_BUFFER)"
      ],
      "execution_count": null,
      "outputs": []
    },
    {
      "cell_type": "code",
      "metadata": {
        "id": "xh0xeO02AKB5"
      },
      "source": [
        "def preprocess_image(image, label):\n",
        "    image = tf.reshape(image, [28, 28, 1])\n",
        "    image = tf.cast(image, tf.float32) / 255.\n",
        "    \n",
        "    return image, label\n",
        "\n",
        "tf_train_data = tf_train_data.map(\n",
        "    preprocess_image, \n",
        "    num_parallel_calls=tf.data.experimental.AUTOTUNE\n",
        ")\n",
        "\n",
        "tf_val_data = tf_val_data.map(\n",
        "    preprocess_image, \n",
        "    num_parallel_calls=tf.data.experimental.AUTOTUNE\n",
        ")\n",
        "\n",
        "def pipeline(tf_data):\n",
        "    tf_data = tf_data.shuffle(100)\n",
        "    tf_data = tf_data.batch(32)\n",
        "    tf_data = tf_data.prefetch(tf.data.experimental.AUTOTUNE)\n",
        "    \n",
        "    return tf_data\n",
        "\n",
        "tf_train_data = pipeline(tf_train_data)\n",
        "tf_val_data = pipeline(tf_val_data)"
      ],
      "execution_count": 176,
      "outputs": []
    },
    {
      "cell_type": "code",
      "metadata": {
        "id": "l1ZSuXOw_lPn"
      },
      "source": [
        "def make_federated_data(client_data):\n",
        "  return [ x\n",
        "      for x in client_data\n",
        "  ]\n",
        "\n",
        "def create_keras_model():\n",
        "  return tf.keras.models.Sequential([\n",
        "    tf.keras.layers.Conv2D(6, (5, 5), activation='relu', padding='same', input_shape=(28, 28, 1)),\n",
        "    tf.keras.layers.MaxPooling2D((2, 2)),\n",
        "    \n",
        "    tf.keras.layers.Conv2D(16, (5, 5), activation='relu', padding='valid'),\n",
        "    tf.keras.layers.MaxPooling2D((2, 2)),\n",
        "    \n",
        "    tf.keras.layers.Flatten(),\n",
        "    tf.keras.layers.Dense(120, activation='relu'),\n",
        "    tf.keras.layers.Dense(84, activation='relu'),\n",
        "    tf.keras.layers.Dense(10, activation='softmax'),\n",
        "  ])\n",
        "\n",
        "def model_fn():\n",
        "  # We _must_ create a new model here, and _not_ capture it from an external\n",
        "  # scope. TFF will call this within different graph contexts.\n",
        "  keras_model = create_keras_model()\n",
        "  return tff.learning.from_keras_model(\n",
        "      keras_model,\n",
        "      input_spec=tf_train_data.element_spec,\n",
        "      loss=tf.keras.losses.SparseCategoricalCrossentropy(),\n",
        "      metrics=[tf.keras.metrics.SparseCategoricalAccuracy()])"
      ],
      "execution_count": 190,
      "outputs": []
    },
    {
      "cell_type": "code",
      "metadata": {
        "id": "LGUYyCsutnH_"
      },
      "source": [
        "iterative_process = tff.learning.build_federated_averaging_process(\n",
        "    model_fn,\n",
        "    client_optimizer_fn=lambda: tf.keras.optimizers.SGD(learning_rate=0.02),\n",
        "    server_optimizer_fn=lambda: tf.keras.optimizers.SGD(learning_rate=1.0))"
      ],
      "execution_count": 181,
      "outputs": []
    },
    {
      "cell_type": "code",
      "metadata": {
        "id": "nDDTmBtKkWd6",
        "colab": {
          "base_uri": "https://localhost:8080/"
        },
        "outputId": "fa247bc9-6018-4615-8652-ec63f2aee788"
      },
      "source": [
        "state = iterative_process.initialize()\n",
        "\n",
        "# state, metrics = iterative_process.next(state, tf_train_data)\n",
        "# state\n",
        "tf_train_data"
      ],
      "execution_count": 196,
      "outputs": [
        {
          "output_type": "execute_result",
          "data": {
            "text/plain": [
              "<PrefetchDataset shapes: ((None, 28, 28, 1), (None,)), types: (tf.float32, tf.int64)>"
            ]
          },
          "metadata": {
            "tags": []
          },
          "execution_count": 196
        }
      ]
    }
  ]
}