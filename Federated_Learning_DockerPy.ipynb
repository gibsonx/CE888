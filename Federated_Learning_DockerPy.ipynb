{
  "nbformat": 4,
  "nbformat_minor": 0,
  "metadata": {
    "colab": {
      "name": "Federated_Learning_DockerPy.ipynb",
      "provenance": [],
      "authorship_tag": "ABX9TyOFeoRUNwFsMJvaiks0Lfwa",
      "include_colab_link": true
    },
    "kernelspec": {
      "name": "python3",
      "display_name": "Python 3"
    },
    "language_info": {
      "name": "python"
    }
  },
  "cells": [
    {
      "cell_type": "markdown",
      "metadata": {
        "id": "view-in-github",
        "colab_type": "text"
      },
      "source": [
        "<a href=\"https://colab.research.google.com/github/gibsonx/CE888/blob/master/Federated_Learning_DockerPy.ipynb\" target=\"_parent\"><img src=\"https://colab.research.google.com/assets/colab-badge.svg\" alt=\"Open In Colab\"/></a>"
      ]
    },
    {
      "cell_type": "code",
      "metadata": {
        "colab": {
          "base_uri": "https://localhost:8080/"
        },
        "id": "gUowv-jHhevG",
        "outputId": "250400de-1cfb-4155-9e4a-eb1d709d1a0c"
      },
      "source": [
        "#Modified by Gibson Xue on July 25, 2021\n",
        "!pip uninstall --yes tensorflow tensorboard tb-nightly\n",
        "!pip install --quiet tensorflow==2.5.0\n",
        "!pip install --quiet tensorflow-federated==0.19.0\n",
        "!pip install --quiet nest-asyncio\n",
        "!pip install --quiet tensorboard  # or tensorboard, but not both\n",
        "!pip install keras\n",
        "import tensorflow as tf\n",
        "\n",
        "import nest_asyncio\n",
        "nest_asyncio.apply()\n",
        "print(tf.__version__)\n",
        "\n",
        "from tensorflow_federated.python.simulation import FileCheckpointManager\n",
        "import collections\n",
        "import numpy as np\n",
        "import tensorflow as tf\n",
        "import tensorflow_federated as tff\n",
        "import pandas as pd"
      ],
      "execution_count": 2,
      "outputs": [
        {
          "output_type": "stream",
          "text": [
            "Uninstalling tensorflow-2.5.0:\n",
            "  Successfully uninstalled tensorflow-2.5.0\n",
            "Uninstalling tensorboard-2.5.0:\n",
            "  Successfully uninstalled tensorboard-2.5.0\n",
            "\u001b[33mWARNING: Skipping tb-nightly as it is not installed.\u001b[0m\n",
            "Requirement already satisfied: keras in /usr/local/lib/python3.7/dist-packages (2.4.3)\n",
            "Requirement already satisfied: numpy>=1.9.1 in /usr/local/lib/python3.7/dist-packages (from keras) (1.19.5)\n",
            "Requirement already satisfied: pyyaml in /usr/local/lib/python3.7/dist-packages (from keras) (3.13)\n",
            "Requirement already satisfied: h5py in /usr/local/lib/python3.7/dist-packages (from keras) (3.1.0)\n",
            "Requirement already satisfied: scipy>=0.14 in /usr/local/lib/python3.7/dist-packages (from keras) (1.4.1)\n",
            "Requirement already satisfied: cached-property; python_version < \"3.8\" in /usr/local/lib/python3.7/dist-packages (from h5py->keras) (1.5.2)\n",
            "2.5.0\n"
          ],
          "name": "stdout"
        }
      ]
    },
    {
      "cell_type": "code",
      "metadata": {
        "id": "gePOozOimP4X"
      },
      "source": [
        "#emnist_train, emnist_test = tff.simulation.datasets.emnist.load_data()"
      ],
      "execution_count": 25,
      "outputs": []
    },
    {
      "cell_type": "code",
      "metadata": {
        "colab": {
          "base_uri": "https://localhost:8080/"
        },
        "id": "s75mEHJWwnlO",
        "outputId": "2ec92ba2-8292-4f34-c294-7acd7d75d07d"
      },
      "source": [
        "from google.colab import drive\n",
        "drive.mount('/content/drive')\n",
        "!cp /content/drive/MyDrive/train.csv /content"
      ],
      "execution_count": 4,
      "outputs": [
        {
          "output_type": "stream",
          "text": [
            "Drive already mounted at /content/drive; to attempt to forcibly remount, call drive.mount(\"/content/drive\", force_remount=True).\n"
          ],
          "name": "stdout"
        }
      ]
    },
    {
      "cell_type": "code",
      "metadata": {
        "id": "UmJoJswwQkI-"
      },
      "source": [
        "# example_dataset = emnist_train.create_tf_dataset_for_client(\n",
        "#     emnist_train.client_ids[0])\n",
        "# for i in example_dataset.take(1):\n",
        "#   print(i)\n",
        "data = pd.read_csv('train.csv')\n",
        "train_data = data\n",
        "val_data = data.tail(4200)\n",
        "train_labels = train_data.pop('label')\n",
        "val_labels = val_data.pop('label')\n",
        "tf_train_data = tf.data.Dataset.from_tensor_slices((train_data.values, train_labels.values))\n",
        "tf_val_data = tf.data.Dataset.from_tensor_slices((val_data.values, val_labels.values))\n",
        "\n",
        "# print(type(example_dataset))\n",
        "\n",
        "# import tensorflow_datasets as tfds\n",
        "\n",
        "# np.savetxt(\"foo.csv\", a, delimiter=\",\")\n",
        "# import numpy as geek\n",
        "\n",
        "# list_train = []\n",
        "# len(emnist_train.client_ids)\n",
        "# for i in range(0,1):\n",
        "#   client_dataset = emnist_train.create_tf_dataset_for_client(\n",
        "#       emnist_train.client_ids[i])\n",
        "#   print(client_dataset.element_spec)\n",
        "#   for example in client_dataset:\n",
        "#     pixels = example['pixels'].numpy()\n",
        "#     label = geek.array_str(example['pixels'].numpy())\n",
        "#     list_train.append({'pixels': pixels, 'label': label, 'client_id': i, 'is_checked': 0 })\n",
        "    # # t = geek.array(g)\n",
        "    # print(pixels)\n",
        "    # break\n",
        "\n",
        "# list_train\n",
        "# df = pd.DataFrame(list_train)\n",
        "# df.to_csv('data.csv',index=False)\n",
        "# compression_opts = dict(method='zip',archive_name='data.csv')\n",
        "# df.to_csv(data.csv, index=False,\n",
        "#           compression=compression_opts)\n"
      ],
      "execution_count": 28,
      "outputs": []
    },
    {
      "cell_type": "code",
      "metadata": {
        "id": "KFCeZ9ojGBXj"
      },
      "source": [
        "# df = pd.read_csv('data.csv')\n",
        "# dataset = tf.data.experimental.CsvDataset('data.csv',[tf.int32],select_cols=[1])\n",
        "\n",
        "# d = tf.convert_to_tensor(g,dtype=tf.float32)\n",
        "# d\n",
        "# for i in dataset:\n",
        "#   print(i)\n",
        "# number_column = df.loc[:,'pixels'].apply(lambda x : tf.convert_to_tensor(x, dtype=tf.float32))\n",
        "# number_column\n",
        "# df = tf.data.experimental.make_csv_dataset('data.csv',batch_size=2)\n",
        "# for i in number_column:\n",
        "#   print(i)\n",
        "#   break\n",
        "# example_dataset = emnist_train.create_tf_dataset_for_client(\n",
        "#     emnist_train.client_ids[0])\n",
        "\n",
        "# example_dataset\n",
        "\n",
        "# preprocessed_example_dataset = preprocess(df.to_numpy())\n",
        "\n",
        "# preprocessed_example_dataset = preprocess(example_dataset)"
      ],
      "execution_count": 6,
      "outputs": []
    },
    {
      "cell_type": "code",
      "metadata": {
        "id": "Zq1A6fmqAJPo"
      },
      "source": [
        "NUM_CLIENTS = 10\n",
        "NUM_EPOCHS = 5\n",
        "BATCH_SIZE = 20\n",
        "SHUFFLE_BUFFER = 100\n",
        "PREFETCH_BUFFER = 10\n",
        "\n",
        "def preprocess(dataset):\n",
        "\n",
        "  def batch_format_fn(element):\n",
        "    \"\"\"Flatten a batch `pixels` and return the features as an `OrderedDict`.\"\"\"\n",
        "    return collections.OrderedDict(\n",
        "        x=tf.reshape(element['pixels'], [-1, 784]),\n",
        "        y=tf.reshape(element['label'], [-1, 1]))\n",
        "\n",
        "  return dataset.repeat(NUM_EPOCHS).shuffle(SHUFFLE_BUFFER).batch(\n",
        "      BATCH_SIZE).map(batch_format_fn).prefetch(PREFETCH_BUFFER)"
      ],
      "execution_count": 54,
      "outputs": []
    },
    {
      "cell_type": "code",
      "metadata": {
        "id": "xh0xeO02AKB5"
      },
      "source": [
        "def preprocess_image(image, label):\n",
        "    image = tf.reshape(image, [28, 28, 1])\n",
        "    image = tf.cast(image, tf.float32) / 255.\n",
        "    \n",
        "    return image, label\n",
        "\n",
        "tf_train_data = tf_train_data.map(\n",
        "    preprocess_image, \n",
        "    num_parallel_calls=tf.data.experimental.AUTOTUNE\n",
        ")\n",
        "\n",
        "tf_val_data = tf_val_data.map(\n",
        "    preprocess_image, \n",
        "    num_parallel_calls=tf.data.experimental.AUTOTUNE\n",
        ")\n",
        "\n",
        "def pipeline(tf_data):\n",
        "    tf_data = tf_data.shuffle(100)\n",
        "    tf_data = tf_data.batch(32)\n",
        "    tf_data = tf_data.prefetch(tf.data.experimental.AUTOTUNE)\n",
        "    \n",
        "    return tf_data\n",
        "\n",
        "tf_train_data = pipeline(tf_train_data)\n",
        "tf_val_data = pipeline(tf_val_data)"
      ],
      "execution_count": 30,
      "outputs": []
    },
    {
      "cell_type": "code",
      "metadata": {
        "id": "nBn7veJnG2Xx"
      },
      "source": [
        "list_1 = []\n",
        "list_2 = []\n",
        "for example in tf_train_data.take(len(tf_train_data)-1):\n",
        "  list_1.append(example[0].numpy())\n",
        "  list_2.append(example[1].numpy())\n",
        "\n",
        "# collections.OrderedDict(x=list_1,y=list_2)\n",
        "dataset = tf.data.Dataset.from_tensors(collections.OrderedDict(pixels=list_1,label=list_2))\n",
        "preprocessed_example_dataset = preprocess(dataset)"
      ],
      "execution_count": 46,
      "outputs": []
    },
    {
      "cell_type": "code",
      "metadata": {
        "id": "l1ZSuXOw_lPn"
      },
      "source": [
        "def make_federated_data(client_data, client_ids):\n",
        "  return [\n",
        "      preprocess(client_data.create_tf_dataset_for_client(x))\n",
        "      for x in client_ids\n",
        "  ]\n",
        "#tf.keras.layers.InputLayer(input_shape=(784,)),\n",
        "def create_keras_model():\n",
        "  return tf.keras.models.Sequential([\n",
        "      tf.keras.layers.InputLayer(input_shape=(784,)),\n",
        "      tf.keras.layers.Dense(10, kernel_initializer='zeros'),\n",
        "      tf.keras.layers.Softmax(),\n",
        "  ])\n",
        "\n",
        "def model_fn():\n",
        "  # We _must_ create a new model here, and _not_ capture it from an external\n",
        "  # scope. TFF will call this within different graph contexts.\n",
        "  keras_model = create_keras_model()\n",
        "  return tff.learning.from_keras_model(\n",
        "      keras_model,\n",
        "      input_spec=preprocessed_example_dataset.element_spec,\n",
        "      loss=tf.keras.losses.SparseCategoricalCrossentropy(),\n",
        "      metrics=[tf.keras.metrics.SparseCategoricalAccuracy()])"
      ],
      "execution_count": 47,
      "outputs": []
    },
    {
      "cell_type": "code",
      "metadata": {
        "id": "LGUYyCsutnH_"
      },
      "source": [
        "iterative_process = tff.learning.build_federated_averaging_process(\n",
        "    model_fn,\n",
        "    client_optimizer_fn=lambda: tf.keras.optimizers.SGD(learning_rate=0.02),\n",
        "    server_optimizer_fn=lambda: tf.keras.optimizers.SGD(learning_rate=1.0))"
      ],
      "execution_count": 48,
      "outputs": []
    },
    {
      "cell_type": "code",
      "metadata": {
        "colab": {
          "base_uri": "https://localhost:8080/"
        },
        "id": "PG7dpZpHyXxR",
        "outputId": "67e2c568-221b-4818-9fba-a106479af0bf"
      },
      "source": [
        "client_dataset = emnist_train.create_tf_dataset_for_client(\n",
        "      emnist_train.client_ids[0])\n",
        "\n",
        "client_dataset_proce = preprocess(client_dataset)\n",
        "dataset_apply = make_federated_data(emnist_train,emnist_train.client_ids[0:1])\n",
        "dataset_apply"
      ],
      "execution_count": 49,
      "outputs": [
        {
          "output_type": "execute_result",
          "data": {
            "text/plain": [
              "[<PrefetchDataset shapes: OrderedDict([(x, (None, 784)), (y, (None, 1))]), types: OrderedDict([(x, tf.float32), (y, tf.int32)])>]"
            ]
          },
          "metadata": {
            "tags": []
          },
          "execution_count": 49
        }
      ]
    },
    {
      "cell_type": "code",
      "metadata": {
        "id": "b3rcVwxjLt7f",
        "outputId": "8e278506-2da2-4134-ad54-5618159f67e6",
        "colab": {
          "base_uri": "https://localhost:8080/"
        }
      },
      "source": [
        "def make_federated(client_data):\n",
        "  return [\n",
        "      preprocess(dataset)\n",
        "      for x in client_data\n",
        "  ]\n",
        "\n",
        "x = make_federated(dataset)\n",
        "x"
      ],
      "execution_count": 52,
      "outputs": [
        {
          "output_type": "execute_result",
          "data": {
            "text/plain": [
              "[<PrefetchDataset shapes: OrderedDict([(x, (None, 784)), (y, (None, 1))]), types: OrderedDict([(x, tf.float32), (y, tf.int64)])>]"
            ]
          },
          "metadata": {
            "tags": []
          },
          "execution_count": 52
        }
      ]
    },
    {
      "cell_type": "code",
      "metadata": {
        "id": "nDDTmBtKkWd6",
        "colab": {
          "base_uri": "https://localhost:8080/"
        },
        "outputId": "3c16a0ba-5401-42f7-d9e3-bf9cf3faddb9"
      },
      "source": [
        "state = iterative_process.initialize()\n",
        "\n",
        "# state\n",
        "\n",
        "# dataset.repeat(NUM_EPOCHS).shuffle(SHUFFLE_BUFFER).batch(\n",
        "#       BATCH_SIZE).map(g).prefetch(PREFETCH_BUFFER)\n",
        "\n",
        "state, metrics = iterative_process.next(state, x)\n",
        "# preprocessed_example_dataset = preprocess(example_dataset)\n",
        "\n",
        "# sample_batch = tf.nest.map_structure(lambda x: x.numpy(),\n",
        "#                                      next(iter(preprocessed_example_dataset)))\n",
        "\n",
        "# sample_batch\n",
        "# x = preprocess(dataset)\n",
        "# dataset\n",
        "# state, metrics = iterative_process.next(state, x)\n",
        "# metrics\n",
        "metrics"
      ],
      "execution_count": 50,
      "outputs": [
        {
          "output_type": "execute_result",
          "data": {
            "text/plain": [
              "OrderedDict([('broadcast', ()),\n",
              "             ('aggregation',\n",
              "              OrderedDict([('mean_value', ()), ('mean_weight', ())])),\n",
              "             ('train',\n",
              "              OrderedDict([('sparse_categorical_accuracy', 0.098370805),\n",
              "                           ('loss', 2.302596)])),\n",
              "             ('stat', OrderedDict([('num_examples', 209920)]))])"
            ]
          },
          "metadata": {
            "tags": []
          },
          "execution_count": 50
        }
      ]
    },
    {
      "cell_type": "code",
      "metadata": {
        "colab": {
          "base_uri": "https://localhost:8080/"
        },
        "id": "jF7sdTqNHV31",
        "outputId": "75660329-24f5-4fc0-dd8b-b0467212e2df"
      },
      "source": [
        "metrics"
      ],
      "execution_count": 51,
      "outputs": [
        {
          "output_type": "execute_result",
          "data": {
            "text/plain": [
              "OrderedDict([('broadcast', ()),\n",
              "             ('aggregation',\n",
              "              OrderedDict([('mean_value', ()), ('mean_weight', ())])),\n",
              "             ('train',\n",
              "              OrderedDict([('sparse_categorical_accuracy', 0.098370805),\n",
              "                           ('loss', 2.302596)])),\n",
              "             ('stat', OrderedDict([('num_examples', 209920)]))])"
            ]
          },
          "metadata": {
            "tags": []
          },
          "execution_count": 51
        }
      ]
    }
  ]
}